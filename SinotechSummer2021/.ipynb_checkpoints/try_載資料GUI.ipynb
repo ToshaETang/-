{
 "cells": [
  {
   "cell_type": "code",
   "execution_count": 1,
   "id": "recent-circular",
   "metadata": {},
   "outputs": [],
   "source": [
    "from tkinter import *\n",
    "import tkinter.ttk as ttk\n",
    "import tkinter as tk"
   ]
  },
  {
   "cell_type": "code",
   "execution_count": 3,
   "id": "alert-immunology",
   "metadata": {},
   "outputs": [],
   "source": [
    "root0 = Tk()\n",
    "root0.minsize(250, 300)\n",
    "root0.title('主頁面')\n",
    "#----------------------------\n",
    "\n",
    "\n",
    "\n",
    "\n",
    "\n",
    "\n",
    "\n",
    "\n",
    "\n",
    "#-------------------------\n",
    "root0.mainloop()"
   ]
  },
  {
   "cell_type": "code",
   "execution_count": null,
   "id": "perceived-coffee",
   "metadata": {},
   "outputs": [],
   "source": []
  }
 ],
 "metadata": {
  "kernelspec": {
   "display_name": "Python 3",
   "language": "python",
   "name": "python3"
  },
  "language_info": {
   "codemirror_mode": {
    "name": "ipython",
    "version": 3
   },
   "file_extension": ".py",
   "mimetype": "text/x-python",
   "name": "python",
   "nbconvert_exporter": "python",
   "pygments_lexer": "ipython3",
   "version": "3.9.2"
  }
 },
 "nbformat": 4,
 "nbformat_minor": 5
}
