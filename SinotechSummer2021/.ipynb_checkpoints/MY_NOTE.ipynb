{
 "cells": [
  {
   "cell_type": "code",
   "execution_count": null,
   "id": "indian-graphic",
   "metadata": {},
   "outputs": [],
   "source": [
    "#函式庫名稱\n",
    "import pandas as pd             (處理表格資料)\n",
    "import numpy as np              (處理多維陣列)\n",
    "import plotly.express as px     (畫圖)"
   ]
  },
  {
   "cell_type": "code",
   "execution_count": null,
   "id": "processed-nitrogen",
   "metadata": {},
   "outputs": [],
   "source": [
    "# 讀入excel檔\n",
    "XXX = pd.read_excel(r'CSV檔絕對路徑')             "
   ]
  },
  {
   "cell_type": "code",
   "execution_count": null,
   "id": "fluid-barbados",
   "metadata": {},
   "outputs": [],
   "source": [
    "# 輸出excel檔\n",
    "XXX.to_excel(r'輸出的檔案路徑')"
   ]
  },
  {
   "cell_type": "code",
   "execution_count": null,
   "id": "human-roommate",
   "metadata": {},
   "outputs": [],
   "source": [
    "# 顯示n筆csv資料\n",
    "XXX.head(n)"
   ]
  },
  {
   "cell_type": "code",
   "execution_count": null,
   "id": "lonely-eagle",
   "metadata": {},
   "outputs": [],
   "source": [
    "# 顯示csv格式資訊\n",
    "XXX.info()"
   ]
  },
  {
   "cell_type": "code",
   "execution_count": null,
   "id": "corrected-terrace",
   "metadata": {},
   "outputs": [],
   "source": [
    "# 畫長條圖\n",
    "XXX = px.bar(\"文件\", y='column名', x='column名')\n",
    "# 顯示畫出的圖\n",
    "XXX.show()"
   ]
  },
  {
   "cell_type": "code",
   "execution_count": null,
   "id": "unique-dating",
   "metadata": {},
   "outputs": [],
   "source": [
    "# 轉成Series格式(一維)\n",
    "pd.Series(XXX['column名'])"
   ]
  },
  {
   "cell_type": "code",
   "execution_count": null,
   "id": "metallic-acceptance",
   "metadata": {},
   "outputs": [],
   "source": [
    "# 轉成DataFrame格式(二維)\n",
    "pd.DateFrame(XXX)"
   ]
  },
  {
   "cell_type": "code",
   "execution_count": null,
   "id": "nonprofit-uganda",
   "metadata": {},
   "outputs": [],
   "source": [
    "# 轉成時間格式\n",
    "pd.to_datetime(XXX)"
   ]
  },
  {
   "cell_type": "code",
   "execution_count": null,
   "id": "athletic-prisoner",
   "metadata": {},
   "outputs": [],
   "source": [
    "# 結合XXX和YYY\n",
    "pd.merge(XXX,YYY)"
   ]
  },
  {
   "cell_type": "code",
   "execution_count": null,
   "id": "cosmetic-animal",
   "metadata": {},
   "outputs": [],
   "source": [
    "# 顯示XXX格式\n",
    "type(XXX)"
   ]
  },
  {
   "cell_type": "code",
   "execution_count": null,
   "id": "floppy-conversion",
   "metadata": {},
   "outputs": [],
   "source": [
    "# 抽出特定資料\n",
    "YYY = XXX[XXX['column名稱']=='特定資料']\n",
    "YYY = XXX[XXX['column名稱'].isin(['特定資料A','特定資料B'])]"
   ]
  },
  {
   "cell_type": "code",
   "execution_count": null,
   "id": "documented-oasis",
   "metadata": {},
   "outputs": [],
   "source": [
    "# 刪除特定列/行\n",
    "XXX.drop(['資料名稱', axis=0/1])\n",
    "# axis\n",
    "axis=0  (列/橫的)\n",
    "axis=1  (行/直的)"
   ]
  },
  {
   "cell_type": "code",
   "execution_count": null,
   "id": "military-deputy",
   "metadata": {},
   "outputs": [],
   "source": [
    "# 輸出可變化\n",
    "print(\"X{0}X\".format(Y))"
   ]
  },
  {
   "cell_type": "code",
   "execution_count": 2,
   "id": "exclusive-irish",
   "metadata": {},
   "outputs": [],
   "source": [
    "# 根據索引排序\n",
    "XXX.sort_index()\n",
    "# 根據YYY的值排序\n",
    "XXX.sort_values(by=['YYY'])"
   ]
  },
  {
   "cell_type": "code",
   "execution_count": null,
   "id": "herbal-workshop",
   "metadata": {},
   "outputs": [],
   "source": [
    "#確認XXX裡是否存在值YYY\n",
    "XXX.isin(['YYY'])"
   ]
  },
  {
   "cell_type": "code",
   "execution_count": null,
   "id": "monetary-locking",
   "metadata": {},
   "outputs": [],
   "source": [
    "# 同時使用 \n",
    "for i, j in zip([a,b,c], [d,e,f]):\n",
    "    ..."
   ]
  },
  {
   "cell_type": "code",
   "execution_count": null,
   "id": "matched-raise",
   "metadata": {},
   "outputs": [],
   "source": [
    "# 當~~~成立，執行...\n",
    "while ~~~:\n",
    "    ..."
   ]
  },
  {
   "cell_type": "code",
   "execution_count": null,
   "id": "billion-sussex",
   "metadata": {},
   "outputs": [],
   "source": [
    "# 製作函式\n",
    "def XXX():\n",
    "    ...\n",
    "    return ~~~"
   ]
  },
  {
   "cell_type": "code",
   "execution_count": null,
   "id": "satisfactory-exposure",
   "metadata": {},
   "outputs": [],
   "source": [
    "# map\n",
    "維持串列的狀態處理函式，聽說是好東西"
   ]
  },
  {
   "cell_type": "code",
   "execution_count": null,
   "id": "included-cedar",
   "metadata": {},
   "outputs": [],
   "source": [
    "#強制跳出迴圈\n",
    "break"
   ]
  },
  {
   "cell_type": "code",
   "execution_count": null,
   "id": "unauthorized-activity",
   "metadata": {},
   "outputs": [],
   "source": [
    "#做excel\n",
    "import openpyxl\n",
    "from openpyxl import Workbook\n",
    "\n",
    "XXX = Workbook()\n",
    "sheet = XXX.active\n",
    "\n",
    "sheet['A1'] = '格子內容'            #填入資料\n",
    "...\n",
    "\n",
    "XXX.save('檔名.xlsx')               #輸出"
   ]
  },
  {
   "cell_type": "code",
   "execution_count": null,
   "id": "exterior-sector",
   "metadata": {},
   "outputs": [],
   "source": [
    "#[numpy]\n",
    "\n",
    "# 做陣列\n",
    "XXX = np.array([9,3,2,5,1,4])\n",
    "\n",
    "# 顯示陣列內的資料型別\n",
    "XXX.dtype\n",
    "\n",
    "# 顯示陣列維度\n",
    "XXX.ndim\n",
    "# 顯示陣列元素量\n",
    "XXX.size"
   ]
  },
  {
   "cell_type": "code",
   "execution_count": null,
   "id": "classical-switzerland",
   "metadata": {},
   "outputs": [],
   "source": []
  },
  {
   "cell_type": "code",
   "execution_count": null,
   "id": "floppy-silicon",
   "metadata": {},
   "outputs": [],
   "source": []
  },
  {
   "cell_type": "code",
   "execution_count": null,
   "id": "circular-homework",
   "metadata": {},
   "outputs": [],
   "source": []
  }
 ],
 "metadata": {
  "kernelspec": {
   "display_name": "Python 3",
   "language": "python",
   "name": "python3"
  },
  "language_info": {
   "codemirror_mode": {
    "name": "ipython",
    "version": 3
   },
   "file_extension": ".py",
   "mimetype": "text/x-python",
   "name": "python",
   "nbconvert_exporter": "python",
   "pygments_lexer": "ipython3",
   "version": "3.9.2"
  }
 },
 "nbformat": 4,
 "nbformat_minor": 5
}
