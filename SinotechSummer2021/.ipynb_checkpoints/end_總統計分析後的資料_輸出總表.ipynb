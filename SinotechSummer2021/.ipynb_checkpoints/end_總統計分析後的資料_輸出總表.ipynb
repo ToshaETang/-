{
 "cells": [
  {
   "cell_type": "code",
   "execution_count": 168,
   "id": "greater-diary",
   "metadata": {},
   "outputs": [],
   "source": [
    "import pandas as pd\n",
    "import numpy as np\n",
    "import os\n",
    "import os.path\n",
    "import datetime\n",
    "import openpyxl\n",
    "from openpyxl import Workbook"
   ]
  },
  {
   "cell_type": "code",
   "execution_count": 169,
   "id": "returning-austria",
   "metadata": {},
   "outputs": [],
   "source": [
    "#輸出的檔名\n",
    "Name = \"TRY\""
   ]
  },
  {
   "cell_type": "code",
   "execution_count": 178,
   "id": "developing-confidentiality",
   "metadata": {},
   "outputs": [],
   "source": [
    "#做檔案\n",
    "TRY = Workbook()\n",
    "sheet = TRY.active"
   ]
  },
  {
   "cell_type": "code",
   "execution_count": null,
   "id": "brown-connection",
   "metadata": {},
   "outputs": [],
   "source": []
  },
  {
   "cell_type": "code",
   "execution_count": null,
   "id": "norman-tissue",
   "metadata": {},
   "outputs": [],
   "source": [
    "#############輸入檔案######################"
   ]
  },
  {
   "cell_type": "code",
   "execution_count": 170,
   "id": "amino-asset",
   "metadata": {},
   "outputs": [],
   "source": [
    "#檔案1\n",
    "df1 = pd.read_excel(r'C:\\Users\\Tosha.E.T\\Desktop\\Sinotech\\630\\金山1.xlsx')\n",
    "name1 = \"金山\""
   ]
  },
  {
   "cell_type": "code",
   "execution_count": 171,
   "id": "confidential-relations",
   "metadata": {},
   "outputs": [],
   "source": [
    "#檔案2\n",
    "df2 = pd.read_excel(r'C:\\Users\\Tosha.E.T\\Desktop\\Sinotech\\630\\北寮1.xlsx')\n",
    "name2 = \"北寮\""
   ]
  },
  {
   "cell_type": "code",
   "execution_count": 172,
   "id": "vocational-wildlife",
   "metadata": {},
   "outputs": [],
   "source": [
    "#檔案3\n",
    "df3 = pd.read_excel(r'C:\\Users\\Tosha.E.T\\Desktop\\Sinotech\\630\\虎頭埤1.xlsx')\n",
    "name3 = \"虎頭埤\""
   ]
  },
  {
   "cell_type": "code",
   "execution_count": 173,
   "id": "geographic-university",
   "metadata": {},
   "outputs": [],
   "source": [
    "#檔案4\n",
    "df4 = pd.read_excel(r'C:\\Users\\Tosha.E.T\\Desktop\\Sinotech\\630\\山上1.xlsx')\n",
    "name4 = \"山上\""
   ]
  },
  {
   "cell_type": "code",
   "execution_count": null,
   "id": "liked-certificate",
   "metadata": {},
   "outputs": [],
   "source": []
  },
  {
   "cell_type": "code",
   "execution_count": null,
   "id": "toxic-vegetarian",
   "metadata": {},
   "outputs": [],
   "source": [
    "#############計算資料######################"
   ]
  },
  {
   "cell_type": "code",
   "execution_count": 174,
   "id": "dominican-crystal",
   "metadata": {},
   "outputs": [],
   "source": [
    "#1\n",
    "total1 = len(pd.Series(df1['index']))\n",
    "max_hour1 = max(df1['降雨延時'])\n",
    "max_rain1 = max(df1['總降雨量'])\n",
    "max_force1 = max(df1['最大降雨量'])\n",
    "total_rain1 = sum(df1['總降雨量'])\n",
    "#print(max_hour)"
   ]
  },
  {
   "cell_type": "code",
   "execution_count": 175,
   "id": "renewable-plenty",
   "metadata": {},
   "outputs": [],
   "source": [
    "#2\n",
    "total2 = len(pd.Series(df2['index']))\n",
    "max_hour2 = max(df2['降雨延時'])\n",
    "max_rain2 = max(df2['總降雨量'])\n",
    "max_force2 = max(df2['最大降雨量'])\n",
    "total_rain2 = sum(df2['總降雨量'])"
   ]
  },
  {
   "cell_type": "code",
   "execution_count": 176,
   "id": "preliminary-marble",
   "metadata": {},
   "outputs": [],
   "source": [
    "#3\n",
    "total3 = len(pd.Series(df3['index']))\n",
    "max_hour3 = max(df3['降雨延時'])\n",
    "max_rain3 = max(df3['總降雨量'])\n",
    "max_force3 = max(df3['最大降雨量'])\n",
    "total_rain3 = sum(df3['總降雨量'])"
   ]
  },
  {
   "cell_type": "code",
   "execution_count": 177,
   "id": "stable-intake",
   "metadata": {},
   "outputs": [],
   "source": [
    "#4\n",
    "total4 = len(pd.Series(df4['index']))\n",
    "max_hour4 = max(df4['降雨延時'])\n",
    "max_rain4 = max(df4['總降雨量'])\n",
    "max_force4 = max(df4['最大降雨量'])\n",
    "total_rain4 = sum(df4['總降雨量'])"
   ]
  },
  {
   "cell_type": "code",
   "execution_count": null,
   "id": "official-flesh",
   "metadata": {},
   "outputs": [],
   "source": []
  },
  {
   "cell_type": "code",
   "execution_count": null,
   "id": "victorian-friday",
   "metadata": {},
   "outputs": [],
   "source": [
    "#############填入格子######################"
   ]
  },
  {
   "cell_type": "code",
   "execution_count": 179,
   "id": "alive-exchange",
   "metadata": {},
   "outputs": [],
   "source": [
    "#格子名\n",
    "sheet['A1'] = '站點'\n",
    "sheet['B1'] = '降雨次數'\n",
    "sheet['C1'] = '最大降雨延時'\n",
    "sheet['D1'] = '最大降雨量'\n",
    "sheet['E1'] = '最大降雨強度'\n",
    "sheet['F1'] = '總降雨量'"
   ]
  },
  {
   "cell_type": "code",
   "execution_count": 180,
   "id": "israeli-perry",
   "metadata": {},
   "outputs": [],
   "source": [
    "#1\n",
    "sheet['A2'] = name1\n",
    "sheet['B2'] = total1\n",
    "sheet['C2'] = max_hour1\n",
    "sheet['D2'] = max_rain1\n",
    "sheet['E2'] = max_force1\n",
    "sheet['F2'] = total_rain1"
   ]
  },
  {
   "cell_type": "code",
   "execution_count": 181,
   "id": "governing-sharp",
   "metadata": {},
   "outputs": [],
   "source": [
    "#2\n",
    "sheet['A3'] = name2\n",
    "sheet['B3'] = total2\n",
    "sheet['C3'] = max_hour2\n",
    "sheet['D3'] = max_rain2\n",
    "sheet['E3'] = max_force2\n",
    "sheet['F3'] = total_rain2"
   ]
  },
  {
   "cell_type": "code",
   "execution_count": 182,
   "id": "sharp-butler",
   "metadata": {},
   "outputs": [],
   "source": [
    "#3\n",
    "heet['A4'] = name3\n",
    "sheet['B4'] = total3\n",
    "sheet['C4'] = max_hour3\n",
    "sheet['D4'] = max_rain3\n",
    "sheet['E4'] = max_force3\n",
    "sheet['F4'] = total_rain3"
   ]
  },
  {
   "cell_type": "code",
   "execution_count": 183,
   "id": "noticed-pregnancy",
   "metadata": {},
   "outputs": [],
   "source": [
    "#4\n",
    "sheet['A5'] = name4\n",
    "sheet['B5'] = total4\n",
    "sheet['C5'] = max_hour4\n",
    "sheet['D5'] = max_rain4\n",
    "sheet['E5'] = max_force4\n",
    "sheet['F5'] = total_rain4"
   ]
  },
  {
   "cell_type": "code",
   "execution_count": null,
   "id": "chinese-indication",
   "metadata": {},
   "outputs": [],
   "source": []
  },
  {
   "cell_type": "code",
   "execution_count": null,
   "id": "moved-scholar",
   "metadata": {},
   "outputs": [],
   "source": [
    "#############輸出檔案######################"
   ]
  },
  {
   "cell_type": "code",
   "execution_count": 184,
   "id": "stable-morning",
   "metadata": {},
   "outputs": [],
   "source": [
    "TRY.save('{0}.xlsx'.format(Name))"
   ]
  },
  {
   "cell_type": "code",
   "execution_count": null,
   "id": "third-seminar",
   "metadata": {},
   "outputs": [],
   "source": []
  },
  {
   "cell_type": "code",
   "execution_count": null,
   "id": "necessary-forestry",
   "metadata": {},
   "outputs": [],
   "source": []
  }
 ],
 "metadata": {
  "kernelspec": {
   "display_name": "Python 3",
   "language": "python",
   "name": "python3"
  },
  "language_info": {
   "codemirror_mode": {
    "name": "ipython",
    "version": 3
   },
   "file_extension": ".py",
   "mimetype": "text/x-python",
   "name": "python",
   "nbconvert_exporter": "python",
   "pygments_lexer": "ipython3",
   "version": "3.9.2"
  }
 },
 "nbformat": 4,
 "nbformat_minor": 5
}
