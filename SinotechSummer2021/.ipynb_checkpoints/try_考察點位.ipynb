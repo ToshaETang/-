{
 "cells": [
  {
   "cell_type": "code",
   "execution_count": 14,
   "id": "boxed-america",
   "metadata": {},
   "outputs": [
    {
     "data": {
      "text/plain": [
       "''"
      ]
     },
     "execution_count": 14,
     "metadata": {},
     "output_type": "execute_result"
    }
   ],
   "source": [
    "import random\n",
    "import tkinter as tk\n",
    "import threading\n",
    "import time\n",
    "# from kivy.app import App\n",
    "# from kivy.uix.label import Label\n",
    "\n",
    "root = tk.Tk()\n",
    "root.minsize(800, 500)\n",
    "root.title('考察點位')"
   ]
  },
  {
   "cell_type": "code",
   "execution_count": 9,
   "id": "expanded-might",
   "metadata": {},
   "outputs": [],
   "source": [
    "y_j_b = []\n",
    "for j in range(24):\n",
    "    y_j_b.append(20+j*60)\n",
    "\n",
    "y_j_l = []\n",
    "for j in range(24):\n",
    "    y_j_l.append(35+j*60)\n",
    "    \n",
    "x_i_l = []\n",
    "for i in range(3):\n",
    "    x_i_l.append(30)\n",
    "    \n",
    "x_i_b = []\n",
    "for i in range(3):\n",
    "    x_i_b.append(20)"
   ]
  },
  {
   "cell_type": "code",
   "execution_count": 10,
   "id": "sapphire-charity",
   "metadata": {},
   "outputs": [],
   "source": [
    "on=False\n",
    "\n",
    "def hit_a():\n",
    "    global on\n",
    "    if on==False:\n",
    "        #var_a.set('原始分數: 20')\n",
    "        new_a = tk.Toplevel\n",
    "        N = 20\n",
    "        on=True\n",
    "    else:\n",
    "        var_a.set('')\n",
    "        on=False\n",
    "\n",
    "var_a=tk.StringVar()\n",
    "var_a.set('')\n",
    "\n",
    "label_a = tk.Label(root, textvariable=var_a)\n",
    "label_a.place(x=x_i_l[0], y=y_j_l[0], width=180, height=20)\n",
    "\n",
    "a = tk.Button(root, text='安森', bg='pink',state=tk.NORMAL, command=hit_a)\n",
    "a.place(x=x_i_b[0], y=y_j_b[0], width=50, height=50)\n"
   ]
  },
  {
   "cell_type": "code",
   "execution_count": 11,
   "id": "enabling-chess",
   "metadata": {},
   "outputs": [
    {
     "name": "stderr",
     "output_type": "stream",
     "text": [
      "Exception in Tkinter callback\n",
      "Traceback (most recent call last):\n",
      "  File \"c:\\users\\tosha.e.t\\appdata\\local\\programs\\python\\python39\\lib\\tkinter\\__init__.py\", line 1892, in __call__\n",
      "    return self.func(*args)\n",
      "  File \"<ipython-input-10-073da6ffdda5>\", line 7, in hit_a\n",
      "    new_a = tk.Toplevel(app)\n",
      "NameError: name 'app' is not defined\n"
     ]
    }
   ],
   "source": [
    "root.mainloop()"
   ]
  },
  {
   "cell_type": "code",
   "execution_count": null,
   "id": "worth-realtor",
   "metadata": {},
   "outputs": [],
   "source": []
  },
  {
   "cell_type": "code",
   "execution_count": null,
   "id": "charming-domestic",
   "metadata": {},
   "outputs": [],
   "source": []
  }
 ],
 "metadata": {
  "kernelspec": {
   "display_name": "Python 3",
   "language": "python",
   "name": "python3"
  },
  "language_info": {
   "codemirror_mode": {
    "name": "ipython",
    "version": 3
   },
   "file_extension": ".py",
   "mimetype": "text/x-python",
   "name": "python",
   "nbconvert_exporter": "python",
   "pygments_lexer": "ipython3",
   "version": "3.9.2"
  }
 },
 "nbformat": 4,
 "nbformat_minor": 5
}
