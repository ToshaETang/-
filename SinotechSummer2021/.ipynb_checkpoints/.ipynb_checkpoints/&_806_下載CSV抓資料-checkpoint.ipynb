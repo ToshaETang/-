{
 "cells": [
  {
   "cell_type": "code",
   "execution_count": 117,
   "id": "capable-baker",
   "metadata": {},
   "outputs": [],
   "source": [
    "import pandas as pd\n",
    "import os"
   ]
  },
  {
   "cell_type": "code",
   "execution_count": 118,
   "id": "neither-burden",
   "metadata": {
    "scrolled": true
   },
   "outputs": [
    {
     "name": "stdout",
     "output_type": "stream",
     "text": [
      "請輸入 yy: 2018\n"
     ]
    }
   ],
   "source": [
    "yourpath = r'C:\\Users\\Tosha.E.T\\Desktop\\Sinotech\\806\\C1R120_上德文_2018'\n",
    "All = os.listdir(yourpath)\n",
    "\n",
    "st_no=[]\n",
    "\n",
    "yy=[]\n",
    "y = input(\"請輸入 yy: \")\n",
    "\n",
    "mm=[]\n",
    "dd=[]\n",
    "\n",
    "HQ01=[]\n",
    "HQ02=[]\n",
    "HQ03=[]\n",
    "HQ04=[]\n",
    "HQ05=[]\n",
    "HQ06=[]\n",
    "HQ07=[]\n",
    "HQ08=[]\n",
    "HQ09=[]\n",
    "HQ10=[]\n",
    "HQ11=[]\n",
    "HQ12=[]\n",
    "HQ13=[]\n",
    "HQ14=[]\n",
    "HQ15=[]\n",
    "HQ16=[]\n",
    "HQ17=[]\n",
    "HQ18=[]\n",
    "HQ19=[]\n",
    "HQ20=[]\n",
    "HQ21=[]\n",
    "HQ22=[]\n",
    "HQ23=[]\n",
    "HQ24=[]\n",
    "\n",
    "for i in range (len(All)):\n",
    "    df = pd.read_csv(r'{0}\\{1}'.format(yourpath,All[i]))\n",
    "    \n",
    "    mm.append((All[i].split('-')[2]))\n",
    "    dd.append(((All[i].split('-')[3]).split('.')[0]))\n",
    "    st_no.append((All[i].split('-')[0]))\n",
    "    yy.append(y)\n",
    "    \n",
    "    HQ01.append((df['降水量(mm)'][1]))\n",
    "    HQ02.append((df['降水量(mm)'][2]))\n",
    "    HQ03.append((df['降水量(mm)'][3]))\n",
    "    HQ04.append((df['降水量(mm)'][4]))\n",
    "    HQ05.append((df['降水量(mm)'][5]))\n",
    "    HQ06.append((df['降水量(mm)'][6]))\n",
    "    HQ07.append((df['降水量(mm)'][7]))\n",
    "    HQ08.append((df['降水量(mm)'][8]))\n",
    "    HQ09.append((df['降水量(mm)'][9]))\n",
    "    HQ10.append((df['降水量(mm)'][10]))\n",
    "    HQ11.append((df['降水量(mm)'][11]))\n",
    "    HQ12.append((df['降水量(mm)'][12]))\n",
    "    HQ13.append((df['降水量(mm)'][13]))\n",
    "    HQ14.append((df['降水量(mm)'][14]))\n",
    "    HQ15.append((df['降水量(mm)'][15]))\n",
    "    HQ16.append((df['降水量(mm)'][16]))\n",
    "    HQ17.append((df['降水量(mm)'][17]))\n",
    "    HQ18.append((df['降水量(mm)'][18]))\n",
    "    HQ19.append((df['降水量(mm)'][19]))\n",
    "    HQ20.append((df['降水量(mm)'][20]))\n",
    "    HQ21.append((df['降水量(mm)'][21]))\n",
    "    HQ22.append((df['降水量(mm)'][22]))\n",
    "    HQ23.append((df['降水量(mm)'][23]))\n",
    "    HQ24.append((df['降水量(mm)'][24]))\n",
    "\n",
    "    d = {\n",
    "        \"st_no\":st_no,\n",
    "         \"yy\":yy,\n",
    "         \"mm\":mm,\n",
    "         \"dd\":dd,\n",
    "         \"HQ01\":HQ01,\n",
    "         \"HQ02\":HQ02,\n",
    "         \"HQ03\":HQ03,\n",
    "         \"HQ04\":HQ04,\n",
    "         \"HQ05\":HQ05,\n",
    "         \"HQ06\":HQ06,\n",
    "         \"HQ07\":HQ07,\n",
    "         \"HQ08\":HQ08,\n",
    "         \"HQ09\":HQ09,\n",
    "         \"HQ10\":HQ10,\n",
    "         \"HQ11\":HQ11,\n",
    "         \"HQ12\":HQ12,\n",
    "         \"HQ13\":HQ13,\n",
    "         \"HQ14\":HQ14,\n",
    "         \"HQ15\":HQ15,\n",
    "         \"HQ16\":HQ16,\n",
    "         \"HQ17\":HQ17,\n",
    "         \"HQ18\":HQ18,\n",
    "         \"HQ19\":HQ19,\n",
    "         \"HQ20\":HQ20,\n",
    "         \"HQ21\":HQ21,\n",
    "         \"HQ22\":HQ22,\n",
    "         \"HQ23\":HQ23,\n",
    "         \"HQ24\":HQ24,\n",
    "        }\n",
    "  \n",
    "    df_test=(pd.DataFrame(data = d))\n"
   ]
  },
  {
   "cell_type": "code",
   "execution_count": 119,
   "id": "controlled-roommate",
   "metadata": {},
   "outputs": [
    {
     "name": "stdout",
     "output_type": "stream",
     "text": [
      "輸入存檔名: TRY\n",
      "SAVE!!!\n"
     ]
    }
   ],
   "source": [
    "N = input(\"輸入存檔名: \")\n",
    "df_test.to_csv(r'C:\\Users\\Tosha.E.T\\Desktop\\Sinotech\\806\\C1R120_上德文_2018\\{}.csv'.format(N),index=False)\n",
    "print(\"SAVE!!!\")"
   ]
  }
 ],
 "metadata": {
  "kernelspec": {
   "display_name": "Python 3",
   "language": "python",
   "name": "python3"
  },
  "language_info": {
   "codemirror_mode": {
    "name": "ipython",
    "version": 3
   },
   "file_extension": ".py",
   "mimetype": "text/x-python",
   "name": "python",
   "nbconvert_exporter": "python",
   "pygments_lexer": "ipython3",
   "version": "3.9.2"
  }
 },
 "nbformat": 4,
 "nbformat_minor": 5
}
