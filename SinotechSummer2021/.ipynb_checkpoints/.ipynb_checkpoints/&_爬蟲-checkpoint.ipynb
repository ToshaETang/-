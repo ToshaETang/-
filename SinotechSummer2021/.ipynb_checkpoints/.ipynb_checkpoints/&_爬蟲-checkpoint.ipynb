{
 "cells": [
  {
   "cell_type": "code",
   "execution_count": 2,
   "id": "stopped-individual",
   "metadata": {
    "scrolled": false
   },
   "outputs": [
    {
     "name": "stdout",
     "output_type": "stream",
     "text": [
      "請輸入起始日期(yyyy-mm-dd): 2018-01-01\n",
      "請輸入結束日期(yyyy-mm-dd): 2018-01-03\n",
      "WAIT.................. 0\n",
      "WAIT.................. 1\n",
      "WAIT.................. 2\n",
      "done~~\n",
      "WAIT.................. 0\n",
      "WAIT.................. 1\n",
      "WAIT.................. 2\n",
      "done~~\n",
      "WAIT.................. 0\n",
      "WAIT.................. 1\n",
      "WAIT.................. 2\n",
      "done~~\n",
      "WAIT.................. 0\n",
      "WAIT.................. 1\n",
      "WAIT.................. 2\n",
      "done~~\n",
      "WAIT.................. 0\n",
      "WAIT.................. 1\n",
      "WAIT.................. 2\n",
      "done~~\n",
      "C0R130   SAVE!!!\n",
      "  \n",
      "-----------------------------------------------------------------------\n",
      "FINISH\n"
     ]
    }
   ],
   "source": [
    "import re\n",
    "import os\n",
    "import requests\n",
    "import pandas as pd\n",
    "import time\n",
    "import random\n",
    "from bs4 import BeautifulSoup\n",
    "import pymssql\n",
    "#-----------------------------------------------------------\n",
    "DATE1 = input(\"請輸入起始日期(yyyy-mm-dd): \")\n",
    "DATE2 = input(\"請輸入結束日期(yyyy-mm-dd): \")\n",
    "#-----------------------------------------------------------\n",
    "# ID=input(\"請輸入站點(C1R120): \")\n",
    "# DATE1 = input(\"請輸入起始日期(yyyy-mm-dd): \")\n",
    "# DATE2 = input(\"請輸入結束日期(yyyy-mm-dd): \")\n",
    "#----------------------------------------------------------\n",
    "st_no=[]\n",
    "yy=[]\n",
    "mm=[]\n",
    "dd=[]\n",
    "\n",
    "HQ01=[]\n",
    "HQ02=[]\n",
    "HQ03=[]\n",
    "HQ04=[]\n",
    "HQ05=[]\n",
    "HQ06=[]\n",
    "HQ07=[]\n",
    "HQ08=[]\n",
    "HQ09=[]\n",
    "HQ10=[]\n",
    "HQ11=[]\n",
    "HQ12=[]\n",
    "HQ13=[]\n",
    "HQ14=[]\n",
    "HQ15=[]\n",
    "HQ16=[]\n",
    "HQ17=[]\n",
    "HQ18=[]\n",
    "HQ19=[]\n",
    "HQ20=[]\n",
    "HQ21=[]\n",
    "HQ22=[]\n",
    "HQ23=[]\n",
    "HQ24=[]\n",
    "\n",
    "#----------------------------------------------------------\n",
    "M1=DATE1.split('-')[1]\n",
    "D1=DATE1.split('-')[2]\n",
    "\n",
    "Y=DATE1.split('-')[0]\n",
    "\n",
    "M2=DATE2.split('-')[1]\n",
    "D2=DATE2.split('-')[2]\n",
    "#------------------------------------------------------------\n",
    "df = pd.read_excel(r'C:\\Users\\Tosha.E.T\\Desktop\\Sinotech\\811\\站點編號(爬蟲用).xlsx')\n",
    "for i in range(len(df)):\n",
    "    ID=df['站點編號'][i]\n",
    "    M=[]\n",
    "    D=[]\n",
    "    \n",
    "#     st_no=[]\n",
    "#     yy=[]\n",
    "#     mm=[]\n",
    "#     dd=[]\n",
    "\n",
    "#     HQ01=[]\n",
    "#     HQ02=[]\n",
    "#     HQ03=[]\n",
    "#     HQ04=[]\n",
    "#     HQ05=[]\n",
    "#     HQ06=[]\n",
    "#     HQ07=[]\n",
    "#     HQ08=[]\n",
    "#     HQ09=[]\n",
    "#     HQ10=[]\n",
    "#     HQ11=[]\n",
    "#     HQ12=[]\n",
    "#     HQ13=[]\n",
    "#     HQ14=[]\n",
    "#     HQ15=[]\n",
    "#     HQ16=[]\n",
    "#     HQ17=[]\n",
    "#     HQ18=[]\n",
    "#     HQ19=[]\n",
    "#     HQ20=[]\n",
    "#     HQ21=[]\n",
    "#     HQ22=[]\n",
    "#     HQ23=[]\n",
    "#     HQ24=[]\n",
    "\n",
    "#-------------------------------------------網址時間---------\n",
    "\n",
    "    if int(M2)-int(M1)>1:\n",
    "        for i in range(31-int(D1)+1):\n",
    "            M.append(int(M1))\n",
    "        for i in range(int(D1),32):\n",
    "            D.append(i)\n",
    "\n",
    "        for i in range(int(M1)+1,int(M2)):\n",
    "            for j in range(1,32):\n",
    "                M.append(i)\n",
    "        for i in range(int(M1),int(M2)-1):\n",
    "            for j in range(1,32):\n",
    "                D.append(j)\n",
    "            \n",
    "        for i in range(int(D2)):\n",
    "            M.append(int(M2))\n",
    "        for i in range(1,int(D2)+1):\n",
    "            D.append(i)        \n",
    "########################################        \n",
    "    elif int(M2)-int(M1)==1:\n",
    "        for i in range(31-int(D1)+1):\n",
    "            M.append(int(M1))\n",
    "        for i in range(int(D1),32):\n",
    "            D.append(i)\n",
    "    \n",
    "        for i in range(int(D2)):\n",
    "            M.append(int(M2))\n",
    "        for i in range(1,int(D2)+1):\n",
    "            D.append(i)\n",
    "########################################\n",
    "    else:\n",
    "        for i in range(int(D2)-int(D1)+1):\n",
    "            M.append(int(M1))\n",
    "        for i in range(int(D1),int(D2)+1):\n",
    "            D.append(i)\n",
    "\n",
    "#--------------------------------------------------------------\n",
    "\n",
    "    for i in range(len(M)):\n",
    "        Yy=Y\n",
    "        if M[i]<10:\n",
    "            Mm='0{}'.format(M[i])\n",
    "        else:\n",
    "            Mm=str(M[i])\n",
    "    \n",
    "        if D[i]<10:\n",
    "            Dd='0{}'.format(D[i])\n",
    "        else:\n",
    "            Dd=str(D[i])\n",
    "        \n",
    "        url = r'https://e-service.cwb.gov.tw/HistoryDataQuery/DayDataController.do?command=viewMain&station={0}&stname=%25E4%25B8%258A%25E5%25BE%25B7%25E6%2596%2587&datepicker={1}-{2}-{3}#'.format(ID,Yy,Mm,Dd)          \n",
    "\n",
    "        re = requests.get(url) \n",
    "        soup = BeautifulSoup(re.text, \"html.parser\")\n",
    "        result = soup.find_all(\"td\")\n",
    "    \n",
    "        RR = soup.find_all(\"head\")\n",
    "        t = str(RR).split(\";\")\n",
    "        x = t[4].split(\"\\\"\")\n",
    "        y=x[1].split(\"-\")\n",
    "\n",
    "    \n",
    "        st_no.append(y[0])\n",
    "        dd.append(y[3]) \n",
    "        mm.append(y[2])\n",
    "        yy.append(y[1])\n",
    "    \n",
    "        HQ01.append((str(result[20]).split())[0].split(\">\")[1])\n",
    "        HQ02.append((str(result[37]).split())[0].split(\">\")[1])\n",
    "        HQ03.append((str(result[54]).split())[0].split(\">\")[1])\n",
    "        HQ04.append((str(result[71]).split())[0].split(\">\")[1])\n",
    "        HQ05.append((str(result[88]).split())[0].split(\">\")[1])\n",
    "        HQ06.append((str(result[105]).split())[0].split(\">\")[1])\n",
    "        HQ07.append((str(result[122]).split())[0].split(\">\")[1])\n",
    "        HQ08.append((str(result[139]).split())[0].split(\">\")[1])\n",
    "        HQ09.append((str(result[156]).split())[0].split(\">\")[1])\n",
    "        HQ10.append((str(result[173]).split())[0].split(\">\")[1])\n",
    "        HQ11.append((str(result[190]).split())[0].split(\">\")[1])\n",
    "        HQ12.append((str(result[207]).split())[0].split(\">\")[1])\n",
    "        HQ13.append((str(result[224]).split())[0].split(\">\")[1])\n",
    "        HQ14.append((str(result[241]).split())[0].split(\">\")[1])\n",
    "        HQ15.append((str(result[258]).split())[0].split(\">\")[1])\n",
    "        HQ16.append((str(result[275]).split())[0].split(\">\")[1])\n",
    "        HQ17.append((str(result[292]).split())[0].split(\">\")[1])\n",
    "        HQ18.append((str(result[309]).split())[0].split(\">\")[1])\n",
    "        HQ19.append((str(result[326]).split())[0].split(\">\")[1])\n",
    "        HQ20.append((str(result[343]).split())[0].split(\">\")[1])\n",
    "        HQ21.append((str(result[360]).split())[0].split(\">\")[1])\n",
    "        HQ22.append((str(result[377]).split())[0].split(\">\")[1])\n",
    "        HQ23.append((str(result[394]).split())[0].split(\">\")[1])\n",
    "        HQ24.append((str(result[411]).split())[0].split(\">\")[1])\n",
    " \n",
    "        d = {\n",
    "            \"st_no\":st_no,\n",
    "            \"yy\":yy,\n",
    "            \"mm\":mm,\n",
    "            \"dd\":dd,\n",
    "            \"HQ01\":HQ01,\n",
    "            \"HQ02\":HQ02,\n",
    "            \"HQ03\":HQ03,\n",
    "            \"HQ04\":HQ04,\n",
    "            \"HQ05\":HQ05,\n",
    "            \"HQ06\":HQ06,\n",
    "            \"HQ07\":HQ07,\n",
    "            \"HQ08\":HQ08,\n",
    "            \"HQ09\":HQ09,\n",
    "            \"HQ10\":HQ10,\n",
    "            \"HQ11\":HQ11,\n",
    "            \"HQ12\":HQ12,\n",
    "            \"HQ13\":HQ13,\n",
    "            \"HQ14\":HQ14,\n",
    "            \"HQ15\":HQ15,\n",
    "            \"HQ16\":HQ16,\n",
    "            \"HQ17\":HQ17,\n",
    "            \"HQ18\":HQ18,\n",
    "            \"HQ19\":HQ19,\n",
    "            \"HQ20\":HQ20,\n",
    "            \"HQ21\":HQ21,\n",
    "            \"HQ22\":HQ22,\n",
    "            \"HQ23\":HQ23,\n",
    "            \"HQ24\":HQ24,\n",
    "            }\n",
    "    \n",
    "        time.sleep(random.uniform(0,0.5))\n",
    "        print(\"WAIT..................\",i) \n",
    "\n",
    "    print(\"done~~\")\n",
    "    df_test=(pd.DataFrame(data = d))\n",
    "\n",
    "\n",
    "#     N = ID+\"-\"+y[1]\n",
    "#     df_test.to_excel(r'C:\\Users\\Tosha.E.T\\Desktop\\{}.csv'.format(N),index=False)     #要改存檔路徑\n",
    "#     print(ID, \"  SAVE!!!\")\n",
    "\n",
    "df_test.to_excel(r'C:\\Users\\Tosha.E.T\\Desktop\\try2021.xlsx',index=False)     #要改存檔路徑\n",
    "print(\"  SAVE!!!\")\n",
    "\n",
    "print(\"  \")    \n",
    "print(\"-----------------------------------------------------------------------\")    \n",
    "print(\"FINISH\")"
   ]
  },
  {
   "cell_type": "code",
   "execution_count": 14,
   "id": "described-capitol",
   "metadata": {},
   "outputs": [],
   "source": [
    "# pip install pymssql"
   ]
  },
  {
   "cell_type": "code",
   "execution_count": 13,
   "id": "vocal-article",
   "metadata": {},
   "outputs": [],
   "source": [
    "# pip install pyodbc"
   ]
  },
  {
   "cell_type": "code",
   "execution_count": null,
   "id": "foster-portsmouth",
   "metadata": {},
   "outputs": [],
   "source": [
    "import pyodbc\n",
    "\n",
    "def read(conn):\n",
    "    print(\"read\")\n",
    "    cursor = conn.cursor()\n",
    "    cursor.execute(\"Select * from 氣象局\")\n",
    "    for row in cursor:\n",
    "        print(row)\n",
    "\n",
    "def insert(conn):\n",
    "    cursor = conn.execute(\"insert into rain(站點編號, 日期, 時雨量) values('a3 ','2018-05-16', 50.0)\")\n",
    "    \n",
    "conn = pyodbc.connect(Driver=\"{SQL Server Native Client 11.0};\",Server=\"LAPTOP-9VKLPUUE\\SQLEXPRESS;\",Datebase=\"CWB;\",UID=\"sinotech;\",PWD=\"sinotech;\", Trusted_Connection=\"yes;\" )"
   ]
  },
  {
   "cell_type": "code",
   "execution_count": null,
   "id": "cordless-detector",
   "metadata": {},
   "outputs": [],
   "source": [
    "cursor = conn.cursor()\n",
    "cursor.execute(\"create table my_test_from_py (varA varchar(100))\")"
   ]
  },
  {
   "cell_type": "code",
   "execution_count": 22,
   "id": "elder-pixel",
   "metadata": {},
   "outputs": [
    {
     "name": "stdout",
     "output_type": "stream",
     "text": [
      "read\n"
     ]
    },
    {
     "ename": "ProgrammingError",
     "evalue": "('42S02', \"[42S02] [Microsoft][SQL Server Native Client 11.0][SQL Server]無效的物件名稱 '氣象局'。 (208) (SQLExecDirectW)\")",
     "output_type": "error",
     "traceback": [
      "\u001b[1;31m---------------------------------------------------------------------------\u001b[0m",
      "\u001b[1;31mProgrammingError\u001b[0m                          Traceback (most recent call last)",
      "\u001b[1;32m<ipython-input-22-348ab052ef63>\u001b[0m in \u001b[0;36m<module>\u001b[1;34m\u001b[0m\n\u001b[1;32m----> 1\u001b[1;33m \u001b[0mread\u001b[0m\u001b[1;33m(\u001b[0m\u001b[0mconn\u001b[0m\u001b[1;33m)\u001b[0m\u001b[1;33m\u001b[0m\u001b[1;33m\u001b[0m\u001b[0m\n\u001b[0m",
      "\u001b[1;32m<ipython-input-21-8ad9cdbf6a7b>\u001b[0m in \u001b[0;36mread\u001b[1;34m(conn)\u001b[0m\n\u001b[0;32m      4\u001b[0m     \u001b[0mprint\u001b[0m\u001b[1;33m(\u001b[0m\u001b[1;34m\"read\"\u001b[0m\u001b[1;33m)\u001b[0m\u001b[1;33m\u001b[0m\u001b[1;33m\u001b[0m\u001b[0m\n\u001b[0;32m      5\u001b[0m     \u001b[0mcursor\u001b[0m \u001b[1;33m=\u001b[0m \u001b[0mconn\u001b[0m\u001b[1;33m.\u001b[0m\u001b[0mcursor\u001b[0m\u001b[1;33m(\u001b[0m\u001b[1;33m)\u001b[0m\u001b[1;33m\u001b[0m\u001b[1;33m\u001b[0m\u001b[0m\n\u001b[1;32m----> 6\u001b[1;33m     \u001b[0mcursor\u001b[0m\u001b[1;33m.\u001b[0m\u001b[0mexecute\u001b[0m\u001b[1;33m(\u001b[0m\u001b[1;34m\"Select * from 氣象局\"\u001b[0m\u001b[1;33m)\u001b[0m\u001b[1;33m\u001b[0m\u001b[1;33m\u001b[0m\u001b[0m\n\u001b[0m\u001b[0;32m      7\u001b[0m     \u001b[1;32mfor\u001b[0m \u001b[0mrow\u001b[0m \u001b[1;32min\u001b[0m \u001b[0mcursor\u001b[0m\u001b[1;33m:\u001b[0m\u001b[1;33m\u001b[0m\u001b[1;33m\u001b[0m\u001b[0m\n\u001b[0;32m      8\u001b[0m         \u001b[0mprint\u001b[0m\u001b[1;33m(\u001b[0m\u001b[0mrow\u001b[0m\u001b[1;33m)\u001b[0m\u001b[1;33m\u001b[0m\u001b[1;33m\u001b[0m\u001b[0m\n",
      "\u001b[1;31mProgrammingError\u001b[0m: ('42S02', \"[42S02] [Microsoft][SQL Server Native Client 11.0][SQL Server]無效的物件名稱 '氣象局'。 (208) (SQLExecDirectW)\")"
     ]
    }
   ],
   "source": [
    "# read(conn)"
   ]
  },
  {
   "cell_type": "code",
   "execution_count": 23,
   "id": "consolidated-gasoline",
   "metadata": {},
   "outputs": [
    {
     "name": "stdout",
     "output_type": "stream",
     "text": [
      "<pyodbc.Connection object at 0x0000018C4EEB95E0>\n"
     ]
    }
   ],
   "source": [
    "print(conn)"
   ]
  },
  {
   "cell_type": "code",
   "execution_count": 18,
   "id": "comparative-empire",
   "metadata": {},
   "outputs": [
    {
     "name": "stdout",
     "output_type": "stream",
     "text": [
      "Microsoft SQL Server 2019 (RTM-GDR) (KB4583458) - 15.0.2080.9 (X64) \n",
      "\tNov  6 2020 16:50:01 \n",
      "\tCopyright (C) 2019 Microsoft Corporation\n",
      "\tExpress Edition (64-bit) on Windows 10 Home 10.0 <X64> (Build 19043: )\n",
      "\n"
     ]
    }
   ],
   "source": [
    "cursor = conn.cursor()\n",
    "cursor.execute(\"SELECT @@version;\") \n",
    "row = cursor.fetchone() \n",
    "while row: \n",
    "    print(row[0])\n",
    "    row = cursor.fetchone()"
   ]
  },
  {
   "cell_type": "code",
   "execution_count": 20,
   "id": "champion-freedom",
   "metadata": {},
   "outputs": [
    {
     "ename": "NameError",
     "evalue": "name 'mssql_upgrade' is not defined",
     "output_type": "error",
     "traceback": [
      "\u001b[1;31m---------------------------------------------------------------------------\u001b[0m",
      "\u001b[1;31mNameError\u001b[0m                                 Traceback (most recent call last)",
      "\u001b[1;32m<ipython-input-20-500c20217f38>\u001b[0m in \u001b[0;36m<module>\u001b[1;34m\u001b[0m\n\u001b[1;32m----> 1\u001b[1;33m \u001b[0mmssql_upgrade\u001b[0m \u001b[1;33m-\u001b[0m\u001b[0muroot\u001b[0m \u001b[1;33m-\u001b[0m\u001b[0mp\u001b[0m \u001b[1;33m-\u001b[0m\u001b[1;33m-\u001b[0m\u001b[0mforce\u001b[0m\u001b[1;33m\u001b[0m\u001b[1;33m\u001b[0m\u001b[0m\n\u001b[0m",
      "\u001b[1;31mNameError\u001b[0m: name 'mssql_upgrade' is not defined"
     ]
    }
   ],
   "source": [
    "mssql_upgrade -uroot -p --force"
   ]
  },
  {
   "cell_type": "code",
   "execution_count": 20,
   "id": "noted-infection",
   "metadata": {},
   "outputs": [
    {
     "ename": "AttributeError",
     "evalue": "'datetime.date' object has no attribute 'split'",
     "output_type": "error",
     "traceback": [
      "\u001b[1;31m---------------------------------------------------------------------------\u001b[0m",
      "\u001b[1;31mAttributeError\u001b[0m                            Traceback (most recent call last)",
      "\u001b[1;32m<ipython-input-20-5c01d1c563d7>\u001b[0m in \u001b[0;36m<module>\u001b[1;34m\u001b[0m\n\u001b[0;32m      3\u001b[0m \u001b[1;33m\u001b[0m\u001b[0m\n\u001b[0;32m      4\u001b[0m \u001b[0myesterday\u001b[0m \u001b[1;33m=\u001b[0m \u001b[0mtoday\u001b[0m \u001b[1;33m-\u001b[0m \u001b[0mdatetime\u001b[0m\u001b[1;33m.\u001b[0m\u001b[0mtimedelta\u001b[0m\u001b[1;33m(\u001b[0m\u001b[0mdays\u001b[0m\u001b[1;33m=\u001b[0m\u001b[1;36m1\u001b[0m\u001b[1;33m)\u001b[0m \u001b[1;31m#用今天日期減掉時間差，引數為1天，獲得昨天的日期\u001b[0m\u001b[1;33m\u001b[0m\u001b[1;33m\u001b[0m\u001b[0m\n\u001b[1;32m----> 5\u001b[1;33m \u001b[0mM1\u001b[0m\u001b[1;33m=\u001b[0m\u001b[0myesterday\u001b[0m\u001b[1;33m.\u001b[0m\u001b[0msplit\u001b[0m\u001b[1;33m(\u001b[0m\u001b[1;34m'-'\u001b[0m\u001b[1;33m)\u001b[0m\u001b[1;33m[\u001b[0m\u001b[1;36m1\u001b[0m\u001b[1;33m]\u001b[0m\u001b[1;33m\u001b[0m\u001b[1;33m\u001b[0m\u001b[0m\n\u001b[0m\u001b[0;32m      6\u001b[0m \u001b[0mprint\u001b[0m \u001b[1;33m(\u001b[0m\u001b[0mM1\u001b[0m\u001b[1;33m)\u001b[0m\u001b[1;33m\u001b[0m\u001b[1;33m\u001b[0m\u001b[0m\n",
      "\u001b[1;31mAttributeError\u001b[0m: 'datetime.date' object has no attribute 'split'"
     ]
    }
   ],
   "source": [
    "import datetime #匯入日期時間模組\n",
    "today = datetime.date.today() #獲得今天的日期\n",
    "\n",
    "yesterday = today - datetime.timedelta(days=1) #用今天日期減掉時間差，引數為1天，獲得昨天的日期\n",
    "M1=yesterday.split('-')[1]\n",
    "print (M1)"
   ]
  },
  {
   "cell_type": "code",
   "execution_count": 32,
   "id": "digital-supplier",
   "metadata": {},
   "outputs": [
    {
     "name": "stdout",
     "output_type": "stream",
     "text": [
      "19\n"
     ]
    }
   ],
   "source": [
    "import datetime\n",
    "td=datetime.date.today()\n",
    "DATE1=td - datetime.timedelta(days=1)\n",
    "DATE1=DATE1.strftime('%Y-%m-%d')\n",
    "M1=DATE1.split('-')[2]\n",
    "print (M1)"
   ]
  },
  {
   "cell_type": "code",
   "execution_count": null,
   "id": "horizontal-founder",
   "metadata": {},
   "outputs": [],
   "source": []
  }
 ],
 "metadata": {
  "kernelspec": {
   "display_name": "Python 3",
   "language": "python",
   "name": "python3"
  },
  "language_info": {
   "codemirror_mode": {
    "name": "ipython",
    "version": 3
   },
   "file_extension": ".py",
   "mimetype": "text/x-python",
   "name": "python",
   "nbconvert_exporter": "python",
   "pygments_lexer": "ipython3",
   "version": "3.9.2"
  }
 },
 "nbformat": 4,
 "nbformat_minor": 5
}
