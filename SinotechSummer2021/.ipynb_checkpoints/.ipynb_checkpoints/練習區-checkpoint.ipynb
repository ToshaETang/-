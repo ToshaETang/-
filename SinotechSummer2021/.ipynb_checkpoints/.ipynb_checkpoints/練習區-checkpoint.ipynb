{
 "cells": [
  {
   "cell_type": "code",
   "execution_count": 7,
   "id": "crucial-transsexual",
   "metadata": {},
   "outputs": [
    {
     "name": "stdout",
     "output_type": "stream",
     "text": [
      "1 2\n",
      "吉\n"
     ]
    }
   ],
   "source": [
    "n = input()\n",
    "n = n.split()\n",
    "M=int(n[0])\n",
    "D=int(n[1])\n",
    "S=(M*2+D)%3\n",
    "if S==0:\n",
    "    print(\"普通\")\n",
    "if S==1:\n",
    "    print(\"吉\")\n",
    "if S==2:\n",
    "    print(\"大吉\")"
   ]
  },
  {
   "cell_type": "code",
   "execution_count": null,
   "id": "controlling-constitution",
   "metadata": {},
   "outputs": [],
   "source": [
    "y=input()"
   ]
  }
 ],
 "metadata": {
  "kernelspec": {
   "display_name": "Python 3",
   "language": "python",
   "name": "python3"
  },
  "language_info": {
   "codemirror_mode": {
    "name": "ipython",
    "version": 3
   },
   "file_extension": ".py",
   "mimetype": "text/x-python",
   "name": "python",
   "nbconvert_exporter": "python",
   "pygments_lexer": "ipython3",
   "version": "3.9.2"
  }
 },
 "nbformat": 4,
 "nbformat_minor": 5
}
