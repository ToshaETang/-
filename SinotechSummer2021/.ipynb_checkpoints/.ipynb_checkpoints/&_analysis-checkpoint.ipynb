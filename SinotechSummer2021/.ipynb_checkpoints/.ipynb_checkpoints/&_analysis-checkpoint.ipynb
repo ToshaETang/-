{
 "cells": [
  {
   "cell_type": "code",
   "execution_count": null,
   "id": "quantitative-source",
   "metadata": {},
   "outputs": [],
   "source": []
  },
  {
   "cell_type": "code",
   "execution_count": null,
   "id": "architectural-parking",
   "metadata": {},
   "outputs": [],
   "source": []
  },
  {
   "cell_type": "code",
   "execution_count": 31,
   "id": "international-romance",
   "metadata": {},
   "outputs": [
    {
     "name": "stderr",
     "output_type": "stream",
     "text": [
      "<ipython-input-31-9d717ccaa67a>:13: SettingWithCopyWarning: \n",
      "A value is trying to be set on a copy of a slice from a DataFrame\n",
      "\n",
      "See the caveats in the documentation: https://pandas.pydata.org/pandas-docs/stable/user_guide/indexing.html#returning-a-view-versus-a-copy\n",
      "  rain.E_time[i]=datetime.datetime.strptime(rain.E_time[i], \"%Y/%m/%d %H:%M\")\n",
      "<ipython-input-31-9d717ccaa67a>:14: SettingWithCopyWarning: \n",
      "A value is trying to be set on a copy of a slice from a DataFrame\n",
      "\n",
      "See the caveats in the documentation: https://pandas.pydata.org/pandas-docs/stable/user_guide/indexing.html#returning-a-view-versus-a-copy\n",
      "  rain.S_time[i]=datetime.datetime.strptime(rain.S_time[i], \"%Y/%m/%d %H:%M\")\n",
      "<ipython-input-31-9d717ccaa67a>:19: SettingWithCopyWarning: \n",
      "A value is trying to be set on a copy of a slice from a DataFrame\n",
      "\n",
      "See the caveats in the documentation: https://pandas.pydata.org/pandas-docs/stable/user_guide/indexing.html#returning-a-view-versus-a-copy\n",
      "  ero.time[i] = datetime.datetime.strptime(ero.time[i],\"%Y-%m-%d %H:%M:%S\")\n"
     ]
    },
    {
     "name": "stdout",
     "output_type": "stream",
     "text": [
      "done\n"
     ]
    },
    {
     "name": "stderr",
     "output_type": "stream",
     "text": [
      "<ipython-input-31-9d717ccaa67a>:76: FutureWarning: As the xlwt package is no longer maintained, the xlwt engine will be removed in a future version of pandas. This is the only engine in pandas that supports writing in the xls format. Install openpyxl and write to an xlsx file instead. You can set the option io.excel.xls.writer to 'xlwt' to silence this warning. While this option is deprecated and will also raise a warning, it can be globally set and the warning suppressed.\n",
      "  rain_all.to_excel(r'C:\\Users\\Tosha.E.T\\Desktop\\Sinotech\\705\\沖蝕分析.xls')\n"
     ]
    }
   ],
   "source": [
    "from os import listdir\n",
    "from os.path import isfile, isdir, join\n",
    "import pandas as pd\n",
    "import numpy as np\n",
    "import os\n",
    "import os.path\n",
    "import datetime\n",
    "from os import listdir\n",
    "\n",
    "    \n",
    "rain = pd.read_excel(r'C:\\Users\\Tosha.E.T\\Desktop\\Sinotech\\705\\龍美.xlsx')\n",
    "for i in range(len(rain)):\n",
    "    rain.E_time[i]=datetime.datetime.strptime(rain.E_time[i], \"%Y/%m/%d %H:%M\")\n",
    "    rain.S_time[i]=datetime.datetime.strptime(rain.S_time[i], \"%Y/%m/%d %H:%M\")\n",
    "    #print(rain.S_time[i])\n",
    "    \n",
    "    ero = pd.read_csv(r'C:\\Users\\Tosha.E.T\\Desktop\\Sinotech\\705\\df_erosion.csv')\n",
    "for i in range(len(ero)):\n",
    "    ero.time[i] = datetime.datetime.strptime(ero.time[i],\"%Y-%m-%d %H:%M:%S\")\n",
    "        #print(ero.time[i])\n",
    "        #if rain.E_time[i]<=ero.time[i]:\n",
    "    rain = rain.drop(rain.loc[rain.E_time<=ero.time[0]].index).reset_index(drop=True)\n",
    "#rint(rain)\n",
    "\n",
    "#rint(\"監測期間內共有{}場降雨\".format(len(rain)))\n",
    "Erosion_s = []\n",
    "Erosion_e = []\n",
    "time_record=[]\n",
    "for k in range(len(ero.time)):\n",
    "    for w in range(len(rain)):                        \n",
    "        k=2\n",
    "        while k<len(ero.time):\n",
    "\n",
    "            if ero.time[k] > rain.S_time[w]:                       \n",
    "                    #print(\"下雨開始時間是 \"+str(rain.S_time[w]))\n",
    "                    #print(\"地表高程紀錄時間是 \"+str(ero.time[k-2]))\n",
    "                    #print(str(k-1)+' 找到沖蝕開始時間了!'+str(df1.created_at[k-1])+'沖蝕深度為'+str(df1.mean_new[k-1]))                       \n",
    "                Erosion_s.append(ero.trend[k-2].round(2))\n",
    "                while k<len(ero.time):\n",
    "                    if  ero.time[k]> rain.E_time[w]:  \n",
    "                            #print(\"下雨結束時間是 \"+str(rain.E_time[w]))\n",
    "                            #print(\"地表高程紀錄時間是 \"+str(ero.time[k]))\n",
    "\n",
    "                        Erosion_e.append(ero.trend[k].round(2))\n",
    "\n",
    "                        time_record.append(rain.E_time[w])\n",
    "                        #rint(\"第{}場降雨分析完成\".format(w+1))\n",
    "                        #rint(str(k)+' 找到沖蝕結束時間了!'+str(df1.created_at[k])+'沖蝕深度為'+str(df1.mean_new[k]))\n",
    "                        #rint('我要break囉')                           \n",
    "                        break\n",
    "                    else:                       \n",
    "                        #rint('繼續找結束時間....')\n",
    "                        k+=1\n",
    "\n",
    "                break\n",
    "            else:\n",
    "                k+=1\n",
    "                #rint('我要+1囉')\n",
    "            #print(str(w)+' is done')\n",
    "\n",
    "        continue                       \n",
    "        #print(\"第{}處分析完成\".format(name[j]))\n",
    "    break\n",
    "d= {'Erosion_start':Erosion_s,               \n",
    "        'Erosion_end':Erosion_e,\n",
    "        'E_time':time_record}\n",
    "cc=pd.DataFrame(d)\n",
    "cc['E_time']=cc['E_time'].astype('datetime64[ns]')\n",
    "rain['E_time']=rain['E_time'].astype('datetime64[ns]')\n",
    "\n",
    "rain_all = pd.merge(rain,cc,on='E_time').drop(['index','Unnamed: 0'],axis=1)\n",
    "rain_all['Erosion']=rain_all['Erosion_end']-rain_all['Erosion_start']\n",
    "\n",
    "\n",
    "\n",
    "rain_all.to_excel(r'C:\\Users\\Tosha.E.T\\Desktop\\Sinotech\\705\\沖蝕分析.xls')\n",
    "print(\"done\")\n"
   ]
  },
  {
   "cell_type": "code",
   "execution_count": null,
   "id": "widespread-bones",
   "metadata": {},
   "outputs": [],
   "source": []
  },
  {
   "cell_type": "code",
   "execution_count": null,
   "id": "latest-spanish",
   "metadata": {},
   "outputs": [],
   "source": []
  }
 ],
 "metadata": {
  "kernelspec": {
   "display_name": "Python 3",
   "language": "python",
   "name": "python3"
  },
  "language_info": {
   "codemirror_mode": {
    "name": "ipython",
    "version": 3
   },
   "file_extension": ".py",
   "mimetype": "text/x-python",
   "name": "python",
   "nbconvert_exporter": "python",
   "pygments_lexer": "ipython3",
   "version": "3.9.2"
  }
 },
 "nbformat": 4,
 "nbformat_minor": 5
}
