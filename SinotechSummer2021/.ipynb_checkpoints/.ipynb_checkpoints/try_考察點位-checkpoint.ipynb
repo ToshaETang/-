{
 "cells": [
  {
   "cell_type": "code",
   "execution_count": 14,
   "id": "boxed-america",
   "metadata": {},
   "outputs": [
    {
     "data": {
      "text/plain": [
       "''"
      ]
     },
     "execution_count": 14,
     "metadata": {},
     "output_type": "execute_result"
    }
   ],
   "source": [
    "import random\n",
    "import tkinter as tk\n",
    "import threading\n",
    "import time\n",
    "# from kivy.app import App\n",
    "# from kivy.uix.label import Label\n",
    "\n",
    "root = tk.Tk()\n",
    "root.minsize(800, 500)\n",
    "root.title('考察點位')"
   ]
  },
  {
   "cell_type": "code",
   "execution_count": 9,
   "id": "expanded-might",
   "metadata": {},
   "outputs": [],
   "source": [
    "y_j_b = []\n",
    "for j in range(24):\n",
    "    y_j_b.append(20+j*60)\n",
    "\n",
    "y_j_l = []\n",
    "for j in range(24):\n",
    "    y_j_l.append(35+j*60)\n",
    "    \n",
    "x_i_l = []\n",
    "for i in range(3):\n",
    "    x_i_l.append(30)\n",
    "    \n",
    "x_i_b = []\n",
    "for i in range(3):\n",
    "    x_i_b.append(20)"
   ]
  },
  {
   "cell_type": "code",
   "execution_count": 10,
   "id": "sapphire-charity",
   "metadata": {},
   "outputs": [],
   "source": [
    "on=False\n",
    "\n",
    "def hit_a():\n",
    "    global on\n",
    "    if on==False:\n",
    "        #var_a.set('原始分數: 20')\n",
    "        new_a = tk.Toplevel\n",
    "        N = 20\n",
    "        on=True\n",
    "    else:\n",
    "        var_a.set('')\n",
    "        on=False\n",
    "\n",
    "var_a=tk.StringVar()\n",
    "var_a.set('')\n",
    "\n",
    "label_a = tk.Label(root, textvariable=var_a)\n",
    "label_a.place(x=x_i_l[0], y=y_j_l[0], width=180, height=20)\n",
    "\n",
    "a = tk.Button(root, text='安森', bg='pink',state=tk.NORMAL, command=hit_a)\n",
    "a.place(x=x_i_b[0], y=y_j_b[0], width=50, height=50)\n"
   ]
  },
  {
   "cell_type": "code",
   "execution_count": 11,
   "id": "enabling-chess",
   "metadata": {},
   "outputs": [
    {
     "name": "stderr",
     "output_type": "stream",
     "text": [
      "Exception in Tkinter callback\n",
      "Traceback (most recent call last):\n",
      "  File \"c:\\users\\tosha.e.t\\appdata\\local\\programs\\python\\python39\\lib\\tkinter\\__init__.py\", line 1892, in __call__\n",
      "    return self.func(*args)\n",
      "  File \"<ipython-input-10-073da6ffdda5>\", line 7, in hit_a\n",
      "    new_a = tk.Toplevel(app)\n",
      "NameError: name 'app' is not defined\n"
     ]
    }
   ],
   "source": [
    "root.mainloop()"
   ]
  },
  {
   "cell_type": "code",
   "execution_count": 12,
   "id": "worth-realtor",
   "metadata": {},
   "outputs": [
    {
     "name": "stdout",
     "output_type": "stream",
     "text": [
      "Collecting kivy\n",
      "  Downloading Kivy-2.0.0-cp39-cp39-win_amd64.whl (4.1 MB)\n",
      "Requirement already satisfied: pygments in c:\\users\\tosha.e.t\\appdata\\local\\programs\\python\\python39\\lib\\site-packages (from kivy) (2.8.1)\n",
      "Collecting kivy-deps.sdl2~=0.3.1\n",
      "  Downloading kivy_deps.sdl2-0.3.1-cp39-cp39-win_amd64.whl (2.5 MB)\n",
      "Collecting kivy-deps.glew~=0.3.0\n",
      "  Downloading kivy_deps.glew-0.3.0-cp39-cp39-win_amd64.whl (123 kB)\n",
      "Collecting pypiwin32\n",
      "  Downloading pypiwin32-223-py3-none-any.whl (1.7 kB)\n",
      "Collecting kivy-deps.angle~=0.3.0\n",
      "  Downloading kivy_deps.angle-0.3.0-cp39-cp39-win_amd64.whl (4.7 MB)\n",
      "Collecting docutils\n",
      "  Downloading docutils-0.17.1-py2.py3-none-any.whl (575 kB)\n",
      "Collecting Kivy-Garden>=0.1.4\n",
      "  Downloading kivy-garden-0.1.4.tar.gz (6.8 kB)\n",
      "Requirement already satisfied: requests in c:\\users\\tosha.e.t\\appdata\\local\\programs\\python\\python39\\lib\\site-packages (from Kivy-Garden>=0.1.4->kivy) (2.25.1)\n",
      "Requirement already satisfied: pywin32>=223 in c:\\users\\tosha.e.t\\appdata\\local\\programs\\python\\python39\\lib\\site-packages (from pypiwin32->kivy) (300)\n",
      "Requirement already satisfied: chardet<5,>=3.0.2 in c:\\users\\tosha.e.t\\appdata\\local\\programs\\python\\python39\\lib\\site-packages (from requests->Kivy-Garden>=0.1.4->kivy) (4.0.0)\n",
      "Requirement already satisfied: certifi>=2017.4.17 in c:\\users\\tosha.e.t\\appdata\\local\\programs\\python\\python39\\lib\\site-packages (from requests->Kivy-Garden>=0.1.4->kivy) (2020.12.5)\n",
      "Requirement already satisfied: urllib3<1.27,>=1.21.1 in c:\\users\\tosha.e.t\\appdata\\local\\programs\\python\\python39\\lib\\site-packages (from requests->Kivy-Garden>=0.1.4->kivy) (1.26.4)\n",
      "Requirement already satisfied: idna<3,>=2.5 in c:\\users\\tosha.e.t\\appdata\\local\\programs\\python\\python39\\lib\\site-packages (from requests->Kivy-Garden>=0.1.4->kivy) (2.10)\n",
      "Using legacy 'setup.py install' for Kivy-Garden, since package 'wheel' is not installed.\n",
      "Installing collected packages: pypiwin32, Kivy-Garden, kivy-deps.sdl2, kivy-deps.glew, kivy-deps.angle, docutils, kivy\n",
      "    Running setup.py install for Kivy-Garden: started\n",
      "    Running setup.py install for Kivy-Garden: finished with status 'done'\n",
      "Successfully installed Kivy-Garden-0.1.4 docutils-0.17.1 kivy-2.0.0 kivy-deps.angle-0.3.0 kivy-deps.glew-0.3.0 kivy-deps.sdl2-0.3.1 pypiwin32-223\n",
      "Note: you may need to restart the kernel to use updated packages.\n"
     ]
    }
   ],
   "source": [
    "pip install kivy"
   ]
  },
  {
   "cell_type": "code",
   "execution_count": null,
   "id": "charming-domestic",
   "metadata": {},
   "outputs": [],
   "source": []
  }
 ],
 "metadata": {
  "kernelspec": {
   "display_name": "Python 3",
   "language": "python",
   "name": "python3"
  },
  "language_info": {
   "codemirror_mode": {
    "name": "ipython",
    "version": 3
   },
   "file_extension": ".py",
   "mimetype": "text/x-python",
   "name": "python",
   "nbconvert_exporter": "python",
   "pygments_lexer": "ipython3",
   "version": "3.9.2"
  }
 },
 "nbformat": 4,
 "nbformat_minor": 5
}
