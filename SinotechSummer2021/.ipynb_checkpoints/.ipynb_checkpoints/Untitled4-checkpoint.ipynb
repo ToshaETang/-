{
 "cells": [
  {
   "cell_type": "code",
   "execution_count": 32,
   "id": "major-least",
   "metadata": {},
   "outputs": [
    {
     "name": "stdout",
     "output_type": "stream",
     "text": [
      "April\n",
      "February\n",
      "February\n",
      "January\n",
      "March\n",
      "January\n"
     ]
    }
   ],
   "source": [
    "import tkinter as tk\n",
    "from tkinter import ttk\n",
    "K=''\n",
    "app = tk.Tk() \n",
    "app.geometry('200x100')\n",
    "\n",
    "labelTop = tk.Label(app,\n",
    "                    text = \"Choose your favourite month\")\n",
    "labelTop.grid(column=0, row=0)\n",
    "\n",
    "L=[\"January\",\"February\",\"March\",\"April\"]\n",
    "\n",
    "comboExample = ttk.Combobox(app, \n",
    "                            values=L)\n",
    "# print(dict(comboExample)) \n",
    "comboExample.grid(column=0, row=1)\n",
    "# comboExample.current(0)\n",
    "\n",
    "def SL(event):\n",
    "    K=(str(comboExample.get()))\n",
    "    print(k)\n",
    " \n",
    "comboExample.bind(\"<<ComboboxSelected>>\",SL)\n",
    "\n",
    "\n",
    "\n",
    "app.mainloop()"
   ]
  },
  {
   "cell_type": "code",
   "execution_count": 20,
   "id": "macro-leather",
   "metadata": {},
   "outputs": [
    {
     "name": "stdout",
     "output_type": "stream",
     "text": [
      "Time\n",
      "distance1\n",
      "distance2\n",
      "3\n",
      "Index(['Time', 'distance1', 'distance2'], dtype='object')\n"
     ]
    }
   ],
   "source": [
    "import pandas as pd\n",
    "\n",
    "df=pd.read_csv(r'C:\\Users\\Tosha.E.T\\Desktop\\Sinotech\\820\\1-4.csv')\n",
    "\n",
    "# df.columns or df.columns.tolist()\n",
    "for i in (df.columns):\n",
    "    print(i)\n",
    "\n",
    "print(len(df.columns))\n",
    "print(df.columns)"
   ]
  },
  {
   "cell_type": "code",
   "execution_count": null,
   "id": "detected-bridges",
   "metadata": {},
   "outputs": [],
   "source": []
  }
 ],
 "metadata": {
  "kernelspec": {
   "display_name": "Python 3",
   "language": "python",
   "name": "python3"
  },
  "language_info": {
   "codemirror_mode": {
    "name": "ipython",
    "version": 3
   },
   "file_extension": ".py",
   "mimetype": "text/x-python",
   "name": "python",
   "nbconvert_exporter": "python",
   "pygments_lexer": "ipython3",
   "version": "3.9.2"
  }
 },
 "nbformat": 4,
 "nbformat_minor": 5
}
