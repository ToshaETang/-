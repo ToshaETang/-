{
 "cells": [
  {
   "cell_type": "code",
   "execution_count": 1,
   "id": "conventional-impact",
   "metadata": {},
   "outputs": [],
   "source": [
    "import pandas as pd\n",
    "from pandas import DataFrame\n",
    "import numpy as np\n",
    "import os\n",
    "import os.path\n",
    "import datetime\n",
    "import openpyxl\n",
    "import time\n",
    "import datetime\n",
    "import pytz\n",
    "import plotly.express as px"
   ]
  },
  {
   "cell_type": "code",
   "execution_count": 2,
   "id": "determined-argument",
   "metadata": {
    "scrolled": true
   },
   "outputs": [],
   "source": [
    "df = pd.read_csv(r'C:\\Users\\Tosha.E.T\\Desktop\\Sinotech\\630\\merge.csv')     # 匯入CSV\n",
    "#df.head(3)"
   ]
  },
  {
   "cell_type": "code",
   "execution_count": 281,
   "id": "fifth-grave",
   "metadata": {},
   "outputs": [],
   "source": [
    "#變整數\n",
    "df['rain'] = df['rain'].round(0)\n",
    "#df = pd.read_csv(r'C:\\Users\\Tosha.E.T\\Desktop\\Sinotech\\630\\merge.csv')"
   ]
  },
  {
   "cell_type": "code",
   "execution_count": null,
   "id": "after-sitting",
   "metadata": {},
   "outputs": [],
   "source": []
  },
  {
   "cell_type": "code",
   "execution_count": null,
   "id": "decreased-cosmetic",
   "metadata": {},
   "outputs": [],
   "source": [
    "###################分檔案##################ˇ"
   ]
  },
  {
   "cell_type": "code",
   "execution_count": 282,
   "id": "pleasant-spencer",
   "metadata": {},
   "outputs": [],
   "source": [
    "df_28 = df[df['1']==28]\n",
    "df_29 = df[df['1']==29]\n",
    "df_30 = df[df['1']==30]\n",
    "df_31 = df[df['1']==31]"
   ]
  },
  {
   "cell_type": "code",
   "execution_count": 283,
   "id": "broadband-shadow",
   "metadata": {},
   "outputs": [
    {
     "name": "stdout",
     "output_type": "stream",
     "text": [
      "done\n"
     ]
    }
   ],
   "source": [
    "df_28.to_excel(r'C:\\Users\\Tosha.E.T\\Desktop\\Sinotech\\630\\merge_28.xlsx')\n",
    "df_29.to_excel(r'C:\\Users\\Tosha.E.T\\Desktop\\Sinotech\\630\\merge_29.xlsx')\n",
    "df_30.to_excel(r'C:\\Users\\Tosha.E.T\\Desktop\\Sinotech\\630\\merge_30.xlsx')\n",
    "df_31.to_excel(r'C:\\Users\\Tosha.E.T\\Desktop\\Sinotech\\630\\merge_31.xlsx')\n",
    "print(\"done\")"
   ]
  },
  {
   "cell_type": "code",
   "execution_count": null,
   "id": "radio-pixel",
   "metadata": {},
   "outputs": [],
   "source": []
  },
  {
   "cell_type": "code",
   "execution_count": null,
   "id": "promotional-status",
   "metadata": {},
   "outputs": [],
   "source": [
    "###############轉時間格式##################"
   ]
  },
  {
   "cell_type": "code",
   "execution_count": 286,
   "id": "cosmetic-belarus",
   "metadata": {},
   "outputs": [],
   "source": [
    "(df_31).index = pd.to_datetime(pd.Series(df_31['Time']))\n",
    "df_31 = (((df_31).resample('1H')).sum())"
   ]
  },
  {
   "cell_type": "code",
   "execution_count": 287,
   "id": "mediterranean-planet",
   "metadata": {},
   "outputs": [
    {
     "name": "stdout",
     "output_type": "stream",
     "text": [
      "done\n"
     ]
    }
   ],
   "source": [
    "df_31.to_csv(r'C:\\Users\\Tosha.E.T\\Desktop\\Sinotech\\630\\merge_31.csv')\n",
    "print(\"done\")"
   ]
  },
  {
   "cell_type": "code",
   "execution_count": null,
   "id": "animal-layer",
   "metadata": {},
   "outputs": [],
   "source": []
  },
  {
   "cell_type": "code",
   "execution_count": 247,
   "id": "psychological-device",
   "metadata": {},
   "outputs": [],
   "source": [
    "#############畫長條圖#####################ˇ"
   ]
  },
  {
   "cell_type": "code",
   "execution_count": 248,
   "id": "wanted-window",
   "metadata": {},
   "outputs": [],
   "source": [
    "#df_m = pd.read_csv(r'C:\\Users\\Tosha.E.T\\Desktop\\Sinotech\\630\\merge_28_int.csv')"
   ]
  },
  {
   "cell_type": "code",
   "execution_count": null,
   "id": "billion-cricket",
   "metadata": {},
   "outputs": [],
   "source": [
    "#df_m.index = pd.to_datetime(pd.Series(df_m['Time'])) \n",
    "#print(df_m)"
   ]
  },
  {
   "cell_type": "code",
   "execution_count": 250,
   "id": "particular-membrane",
   "metadata": {},
   "outputs": [],
   "source": [
    "#fig = px.bar(df_m, x='Time', y='rain')                 # bar在 Y 上\n",
    "#fig.show()"
   ]
  },
  {
   "cell_type": "code",
   "execution_count": null,
   "id": "geological-maria",
   "metadata": {},
   "outputs": [],
   "source": []
  },
  {
   "cell_type": "code",
   "execution_count": 251,
   "id": "roman-insertion",
   "metadata": {},
   "outputs": [],
   "source": [
    "#################分析資料#################ˇˇ"
   ]
  },
  {
   "cell_type": "code",
   "execution_count": 290,
   "id": "stable-southeast",
   "metadata": {
    "scrolled": true
   },
   "outputs": [
    {
     "name": "stdout",
     "output_type": "stream",
     "text": [
      "Done\n"
     ]
    },
    {
     "name": "stderr",
     "output_type": "stream",
     "text": [
      "<ipython-input-290-08a0c9d1b9f2>:62: VisibleDeprecationWarning:\n",
      "\n",
      "Creating an ndarray from ragged nested sequences (which is a list-or-tuple of lists-or-tuples-or ndarrays with different lengths or shapes) is deprecated. If you meant to do this, you must specify 'dtype=object' when creating the ndarray.\n",
      "\n"
     ]
    }
   ],
   "source": [
    "import pandas as pd\n",
    "import numpy as np\n",
    "import os\n",
    "import os.path\n",
    "import datetime\n",
    "import openpyxl\n",
    "\n",
    "\n",
    "first = []\n",
    "end = []\n",
    "first_new = []\n",
    "test = []\n",
    "time = []\n",
    "##filepath = csv_file_path[file]\n",
    "df1 = pd.read_csv(r'C:\\Users\\Tosha.E.T\\Desktop\\Sinotech\\630\\merge_31.csv')                  #匯入CSV\n",
    "#print(df 1.head())\n",
    "df = np.split(df1,[1,2,10],axis = 1)\n",
    "df_time = df[0] #小時資料\n",
    "df_rain = df[3] #降雨量\n",
    "\n",
    "\n",
    "#轉為一維\n",
    "test = df_rain.values.ravel() \n",
    "time = df_time.values.ravel()\n",
    " \n",
    "for i in range(len(df1.rain)):\n",
    "    if df1.rain[i] > 4 :\n",
    "        first.append(int(i))\n",
    "        x = df1.rain[i + 1 : i + 7]\n",
    "        if all(j <= 4 for j in x): \n",
    "            end.append(int(i) + 1)\n",
    "        else:\n",
    "            continue\n",
    "\n",
    "                \n",
    "if len(first)>0:\n",
    " #判斷降雨事件間隔是否有大於6小時\n",
    "    first_new.append(first[0])\n",
    "    for i in range(len(first)):\n",
    "        if (first[i] - first[i - 1]) > 6:\n",
    "            first_new.append(first[i])\n",
    "            rain_result = []\n",
    "            rain_sum = []\n",
    "            rain_max = []\n",
    "            time_first = []\n",
    "            time_end = []\n",
    "            time_lag = []\n",
    "    \n",
    "    \n",
    " #各個欄位計算\n",
    "    for i in range(len(first_new)):\n",
    "        timelag = end[i] - first_new[i]\n",
    "        time_first.append(time[first_new[i]])\n",
    "        time_end.append(time[end[i]])\n",
    "        rain_result.append(test[first_new[i] : end[i] + 1])\n",
    "        rain_sum.append(sum(test[first_new[i] : end[i] + 1]))\n",
    "        time_lag.append(timelag)\n",
    "    for i in range(len(rain_result)):\n",
    "        rain_max.append(max(rain_result[i]))\n",
    "    for i in range(len(rain_result)):\n",
    "        rain_result[i]=str(rain_result[i])\n",
    "        df_L_rain = pd.DataFrame(np.array([rain_result]))\n",
    " #df_L_rain = np.array([rain_result])\n",
    "\n",
    "\n",
    " #有判斷欄位的原始雨場\n",
    "    result = pd.DataFrame()\n",
    "    index = 0\n",
    "    for i in range(len(rain_result)):\n",
    "        if rain_sum[i] > 12.7:\n",
    "            d = {\"index\":index,\n",
    "                 \"ID\":\"try\",\n",
    "                 \"S_time\":time_first[i],\n",
    "                 \"E_time\":time_end[i],\n",
    "                 \"降雨延時\":time_lag[i]+1,\n",
    "                 \"總降雨量\":rain_sum[i],\n",
    "                 \"最大降雨量\":rain_max[i],\n",
    "                 \"rain_detail\":df_L_rain[i],\n",
    "                 \"sum是否大於12.7\":\"1\"\n",
    "                 }\n",
    "            df_test = pd.DataFrame(data = d,index=[0])\n",
    "            result = pd.concat([result, df_test],axis =0)\n",
    "            index = index + 1\n",
    "        else:\n",
    "            d = {\"index\":index,\n",
    "                 \"ID\":\"try\",\n",
    "                 \"S_time\":time_first[i],\n",
    "                 \"E_time\":time_end[i],\n",
    "                 \"降雨延時\":time_lag[i]+1,\n",
    "                 \"總降雨量\":rain_sum[i],\n",
    "                 \"最大降雨量\":rain_max[i],\n",
    "                 \"rain_detail\":df_L_rain[i],\n",
    "                 \"sum是否大於12.7\":\"0\"\n",
    "                 }\n",
    "            df_test = pd.DataFrame(data = d,index=[0])\n",
    "            result = pd.concat([result, df_test],axis =0)\n",
    "            index = index + 1\n",
    "    result.to_excel(r'C:\\Users\\Tosha.E.T\\Desktop\\Sinotech\\630\\merge_31_int_F.xlsx')                             #把資料輸入xlsx_1\n",
    "    print(\"Done\")                    "
   ]
  }
 ],
 "metadata": {
  "kernelspec": {
   "display_name": "Python 3",
   "language": "python",
   "name": "python3"
  },
  "language_info": {
   "codemirror_mode": {
    "name": "ipython",
    "version": 3
   },
   "file_extension": ".py",
   "mimetype": "text/x-python",
   "name": "python",
   "nbconvert_exporter": "python",
   "pygments_lexer": "ipython3",
   "version": "3.9.2"
  }
 },
 "nbformat": 4,
 "nbformat_minor": 5
}
