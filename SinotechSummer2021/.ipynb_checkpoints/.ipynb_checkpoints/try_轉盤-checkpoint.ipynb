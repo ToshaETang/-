{
 "cells": [
  {
   "cell_type": "code",
   "execution_count": 106,
   "id": "social-combat",
   "metadata": {},
   "outputs": [],
   "source": [
    "import random\n",
    "import tkinter as tk\n",
    "import threading\n",
    "import time"
   ]
  },
  {
   "cell_type": "code",
   "execution_count": 107,
   "id": "personalized-edinburgh",
   "metadata": {},
   "outputs": [],
   "source": [
    "#points = float(input(\"原始得分:\"))\n",
    "points = 1000\n",
    "points1 = int(points*1.1)\n",
    "points2 = int(points*1.2)\n",
    "points3 = int(points*1.3)\n",
    "\n",
    "# N = random.randint(1,3)\n",
    "# if N==1:\n",
    "#      print(\"加分後:\",int(points1))\n",
    "# elif N==2:    \n",
    "#     print(\"加分後:\",int(points2))\n",
    "# elif N==3:    \n",
    "#     print(\"加分後:\",int(points3))"
   ]
  },
  {
   "cell_type": "code",
   "execution_count": 108,
   "id": "minus-cisco",
   "metadata": {},
   "outputs": [],
   "source": [
    "root = tkinter.Tk()\n",
    "root.minsize(300, 300)\n",
    "\n",
    "b1 = points1\n",
    "b2 = points2\n",
    "b3 = points3\n",
    "\n",
    "btn1 = tkinter.Button(root, text=b1, bg='red')\n",
    "btn1.place(x=20, y=20, width=50, height=50)\n",
    "\n",
    "btn2 = tkinter.Button(root, text=b2, bg='red')\n",
    "btn2.place(x=90, y=20, width=50, height=50)\n",
    "\n",
    "btn3 = tkinter.Button(root, text=b3, bg='red')\n",
    "btn3.place(x=160, y=20, width=50, height=50)"
   ]
  },
  {
   "cell_type": "code",
   "execution_count": 109,
   "id": "labeled-folks",
   "metadata": {},
   "outputs": [
    {
     "name": "stdout",
     "output_type": "stream",
     "text": [
      "當前i爲 1\n",
      "當前i爲 2\n",
      "當前i爲 3\n",
      "當前i爲 1\n",
      "當前i爲 2\n",
      "當前i爲 3\n",
      "當前i爲 1\n",
      "當前i爲 2\n",
      "當前i爲 3\n",
      "當前i爲 1\n"
     ]
    }
   ],
   "source": [
    "lists = [btn1, btn2, btn3]\n",
    "isloop = False\n",
    "stopsign = False\n",
    "stopid = None\n",
    "\n",
    "def round():\n",
    "    global isloop\n",
    "    global stopid\n",
    "    i = 0\n",
    "    if isinstance(stopid, int):\n",
    "        i = stopid\n",
    "    while True:\n",
    "        # 延時操作\n",
    "        time.sleep(0.1)\n",
    "        # 將所有的組件背景變爲白色\n",
    "        for x in lists:\n",
    "            x['bg'] = 'white'\n",
    "        # 將當前數值對應的組件變色\n",
    "        lists[i]['bg'] = 'red'\n",
    "        # 變量+1\n",
    "        i += 1\n",
    "        print('當前i爲', i)  # 當前i，用來追蹤當前位置\n",
    "        # 如果i大於最大索引直接歸零\n",
    "        if i >= len(lists):\n",
    "            i = 0\n",
    "        if stopsign == True:  # 當停止標誌 爲真時\n",
    "            isloop = False\n",
    "            stopid = i  # 賦值stopid\n",
    "            break\n",
    "\n",
    "def stop1():\n",
    "    global stopsign\n",
    "\n",
    "    if stopsign == True:  # 當多接收stop1（）函數時 ，直接跳過\n",
    "        return\n",
    "    stopsign = True\n",
    "    \n",
    "# 建立一個新線程的函數\n",
    "def newtask():\n",
    "    global isloop\n",
    "    global stopsign\n",
    "    # 建立線程\n",
    "    stopsign = False\n",
    "    # print(stopsign)  #打印 點擊開始時的stopsign\n",
    "    t = threading.Thread(target=round)\n",
    "    # 開啓線程運行\n",
    "    t.start()\n",
    "    # 設置循環開始標誌\n",
    "    isloop = True\n",
    "    \n",
    "# 開始按鈕\n",
    "btn_start = tkinter.Button(root, text='start', command=newtask)\n",
    "btn_start.place(x=90, y=125, width=50, height=50)\n",
    "\n",
    "# 停止按鈕\n",
    "btn_stop = tkinter.Button(root, text='stop', command=stop1)\n",
    "btn_stop.place(x=160, y=125, width=50, height=50)\n",
    "\n",
    "root.mainloop()"
   ]
  },
  {
   "cell_type": "code",
   "execution_count": 99,
   "id": "eligible-month",
   "metadata": {},
   "outputs": [],
   "source": [
    "##########################"
   ]
  },
  {
   "cell_type": "code",
   "execution_count": 100,
   "id": "mighty-blocking",
   "metadata": {},
   "outputs": [
    {
     "data": {
      "text/plain": [
       "''"
      ]
     },
     "execution_count": 100,
     "metadata": {},
     "output_type": "execute_result"
    }
   ],
   "source": [
    "root2 = tkinter.Tk()\n",
    "root2.minsize(500, 500)\n",
    "root2.title('考察點位')"
   ]
  },
  {
   "cell_type": "code",
   "execution_count": 92,
   "id": "killing-sussex",
   "metadata": {},
   "outputs": [],
   "source": [
    "a = tkinter.Button(root2, text='劍南路', bg='pink')\n",
    "a.place(x=20, y=20, width=50, height=50)"
   ]
  },
  {
   "cell_type": "code",
   "execution_count": 93,
   "id": "victorian-deficit",
   "metadata": {},
   "outputs": [],
   "source": [
    "def button_event():\n",
    "    root.mainloop()"
   ]
  },
  {
   "cell_type": "code",
   "execution_count": 94,
   "id": "ancient-captain",
   "metadata": {},
   "outputs": [],
   "source": [
    "root2.mainloop()"
   ]
  },
  {
   "cell_type": "code",
   "execution_count": null,
   "id": "incomplete-butter",
   "metadata": {},
   "outputs": [],
   "source": []
  }
 ],
 "metadata": {
  "kernelspec": {
   "display_name": "Python 3",
   "language": "python",
   "name": "python3"
  },
  "language_info": {
   "codemirror_mode": {
    "name": "ipython",
    "version": 3
   },
   "file_extension": ".py",
   "mimetype": "text/x-python",
   "name": "python",
   "nbconvert_exporter": "python",
   "pygments_lexer": "ipython3",
   "version": "3.9.2"
  }
 },
 "nbformat": 4,
 "nbformat_minor": 5
}
