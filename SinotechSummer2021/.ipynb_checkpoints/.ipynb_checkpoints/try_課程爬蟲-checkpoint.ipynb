{
 "cells": [
  {
   "cell_type": "code",
   "execution_count": 254,
   "id": "advised-girlfriend",
   "metadata": {},
   "outputs": [],
   "source": [
    "import bs4\n",
    "from bs4 import BeautifulSoup\n",
    "import requests"
   ]
  },
  {
   "cell_type": "code",
   "execution_count": 255,
   "id": "bronze-shark",
   "metadata": {
    "scrolled": false
   },
   "outputs": [
    {
     "name": "stdout",
     "output_type": "stream",
     "text": [
      "史學導論\n",
      "https://sites.google.com//site/ntnucourse/home/history/-xuan-xiu-lin-xin-yi-shi-xue-dao-lun\n"
     ]
    }
   ],
   "source": [
    "url = r'https://sites.google.com/site/ntnucourse/'\n",
    "\n",
    "re = requests.get(url)\n",
    "Df = BeautifulSoup(re.text, \"html.parser\") \n",
    "df = Df.find_all(\"a\", class_=\"sites-navigation-link\")\n",
    "\n",
    "n = input()\n",
    "for i in Df.find_all('a'):\n",
    "\n",
    "    a=(\"https://sites.google.com/\"+i.get('href'))\n",
    "    b=((((str(i).split(\"//\")[-1]).split(\"】\")[-1]).split(\"<\")[0]).split(\"：\")[-1])\n",
    "    c=(((str(i).split(\"//\")[-1]).split(\"】\")[-1]))\n",
    "    d=(((str(i).split(\">\")[-2]).split(\"（\")[0]))\n",
    "    \n",
    "    if n==b or n==c or n==d:\n",
    "        print(a)\n",
    "        break\n",
    "    else:\n",
    "        continue\n"
   ]
  },
  {
   "cell_type": "code",
   "execution_count": null,
   "id": "yellow-socket",
   "metadata": {},
   "outputs": [],
   "source": []
  }
 ],
 "metadata": {
  "kernelspec": {
   "display_name": "Python 3",
   "language": "python",
   "name": "python3"
  },
  "language_info": {
   "codemirror_mode": {
    "name": "ipython",
    "version": 3
   },
   "file_extension": ".py",
   "mimetype": "text/x-python",
   "name": "python",
   "nbconvert_exporter": "python",
   "pygments_lexer": "ipython3",
   "version": "3.9.2"
  }
 },
 "nbformat": 4,
 "nbformat_minor": 5
}
