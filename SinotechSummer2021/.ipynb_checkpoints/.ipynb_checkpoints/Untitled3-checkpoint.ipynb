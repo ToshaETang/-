{
 "cells": [
  {
   "cell_type": "code",
   "execution_count": null,
   "id": "mobile-animal",
   "metadata": {},
   "outputs": [],
   "source": [
    "# cursor = conn.cursor()\n",
    "# cursor.execute(\"create table my_test_from_py (varA varchar(100))\")"
   ]
  },
  {
   "cell_type": "code",
   "execution_count": null,
   "id": "formed-liberia",
   "metadata": {},
   "outputs": [],
   "source": [
    "import pyodbc\n",
    "\n",
    "def read(conn):\n",
    "    print(\"read\")\n",
    "    cursor = conn.cursor()\n",
    "    cursor.execute(\"Select * from 氣象局\")\n",
    "    for row in cursor:\n",
    "        print(row)\n",
    "\n",
    "def insert(conn):\n",
    "    cursor = conn.execute(\"insert into rain(站點編號, 日期, 時雨量) values('a3 ','2018-05-16', 50.0)\")\n",
    "    \n",
    "conn = pyodbc.connect(Driver=\"{SQL Server Native Client 11.0};\",Server=\"LAPTOP-9VKLPUUE\\SQLEXPRESS;\",Datebase=\"CWB;\",UID=\"sinotech;\",PWD=\"sinotech;\", Trusted_Connection=\"yes;\" )"
   ]
  }
 ],
 "metadata": {
  "kernelspec": {
   "display_name": "Python 3",
   "language": "python",
   "name": "python3"
  },
  "language_info": {
   "codemirror_mode": {
    "name": "ipython",
    "version": 3
   },
   "file_extension": ".py",
   "mimetype": "text/x-python",
   "name": "python",
   "nbconvert_exporter": "python",
   "pygments_lexer": "ipython3",
   "version": "3.9.2"
  }
 },
 "nbformat": 4,
 "nbformat_minor": 5
}
