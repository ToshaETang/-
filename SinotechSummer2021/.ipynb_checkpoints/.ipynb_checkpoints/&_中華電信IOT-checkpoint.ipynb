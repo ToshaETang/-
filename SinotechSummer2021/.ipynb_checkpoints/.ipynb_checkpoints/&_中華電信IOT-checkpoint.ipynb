{
 "cells": [
  {
   "cell_type": "code",
   "execution_count": 37,
   "id": "considerable-singer",
   "metadata": {},
   "outputs": [
    {
     "ename": "AttributeError",
     "evalue": "module 'scipy' has no attribute '_lib'",
     "output_type": "error",
     "traceback": [
      "\u001b[1;31m---------------------------------------------------------------------------\u001b[0m",
      "\u001b[1;31mAttributeError\u001b[0m                            Traceback (most recent call last)",
      "\u001b[1;32m<ipython-input-37-6f847a0754f2>\u001b[0m in \u001b[0;36m<module>\u001b[1;34m\u001b[0m\n\u001b[0;32m     10\u001b[0m \u001b[1;32mimport\u001b[0m \u001b[0mstatsmodels\u001b[0m\u001b[1;33m\u001b[0m\u001b[1;33m\u001b[0m\u001b[0m\n\u001b[0;32m     11\u001b[0m \u001b[1;32mfrom\u001b[0m \u001b[0mpandas\u001b[0m\u001b[1;33m.\u001b[0m\u001b[0mplotting\u001b[0m \u001b[1;32mimport\u001b[0m \u001b[0mregister_matplotlib_converters\u001b[0m\u001b[1;33m\u001b[0m\u001b[1;33m\u001b[0m\u001b[0m\n\u001b[1;32m---> 12\u001b[1;33m \u001b[1;32mfrom\u001b[0m \u001b[0mstatsmodels\u001b[0m\u001b[1;33m.\u001b[0m\u001b[0mtsa\u001b[0m\u001b[1;33m.\u001b[0m\u001b[0mseasonal\u001b[0m \u001b[1;32mimport\u001b[0m \u001b[0mseasonal_decompose\u001b[0m\u001b[1;33m\u001b[0m\u001b[1;33m\u001b[0m\u001b[0m\n\u001b[0m\u001b[0;32m     13\u001b[0m \u001b[1;32mfrom\u001b[0m \u001b[0mstatsmodels\u001b[0m\u001b[1;33m.\u001b[0m\u001b[0mtsa\u001b[0m\u001b[1;33m.\u001b[0m\u001b[0mseasonal\u001b[0m \u001b[1;32mimport\u001b[0m \u001b[0mSTL\u001b[0m\u001b[1;33m\u001b[0m\u001b[1;33m\u001b[0m\u001b[0m\n\u001b[0;32m     14\u001b[0m \u001b[1;32mimport\u001b[0m \u001b[0mplotly\u001b[0m\u001b[1;33m.\u001b[0m\u001b[0mgraph_objects\u001b[0m \u001b[1;32mas\u001b[0m \u001b[0mgo\u001b[0m\u001b[1;33m\u001b[0m\u001b[1;33m\u001b[0m\u001b[0m\n",
      "\u001b[1;32mc:\\users\\tosha.e.t\\appdata\\local\\programs\\python\\python39\\lib\\site-packages\\statsmodels\\tsa\\seasonal.py\u001b[0m in \u001b[0;36m<module>\u001b[1;34m\u001b[0m\n\u001b[0;32m     10\u001b[0m \u001b[1;32mfrom\u001b[0m \u001b[0mstatsmodels\u001b[0m\u001b[1;33m.\u001b[0m\u001b[0mtools\u001b[0m\u001b[1;33m.\u001b[0m\u001b[0mvalidation\u001b[0m \u001b[1;32mimport\u001b[0m \u001b[0mPandasWrapper\u001b[0m\u001b[1;33m,\u001b[0m \u001b[0marray_like\u001b[0m\u001b[1;33m\u001b[0m\u001b[1;33m\u001b[0m\u001b[0m\n\u001b[0;32m     11\u001b[0m \u001b[1;32mfrom\u001b[0m \u001b[0mstatsmodels\u001b[0m\u001b[1;33m.\u001b[0m\u001b[0mtsa\u001b[0m\u001b[1;33m.\u001b[0m\u001b[0m_stl\u001b[0m \u001b[1;32mimport\u001b[0m \u001b[0mSTL\u001b[0m\u001b[1;33m\u001b[0m\u001b[1;33m\u001b[0m\u001b[0m\n\u001b[1;32m---> 12\u001b[1;33m \u001b[1;32mfrom\u001b[0m \u001b[0mstatsmodels\u001b[0m\u001b[1;33m.\u001b[0m\u001b[0mtsa\u001b[0m\u001b[1;33m.\u001b[0m\u001b[0mfilters\u001b[0m\u001b[1;33m.\u001b[0m\u001b[0mfiltertools\u001b[0m \u001b[1;32mimport\u001b[0m \u001b[0mconvolution_filter\u001b[0m\u001b[1;33m\u001b[0m\u001b[1;33m\u001b[0m\u001b[0m\n\u001b[0m\u001b[0;32m     13\u001b[0m \u001b[1;32mfrom\u001b[0m \u001b[0mstatsmodels\u001b[0m\u001b[1;33m.\u001b[0m\u001b[0mtsa\u001b[0m\u001b[1;33m.\u001b[0m\u001b[0mtsatools\u001b[0m \u001b[1;32mimport\u001b[0m \u001b[0mfreq_to_period\u001b[0m\u001b[1;33m\u001b[0m\u001b[1;33m\u001b[0m\u001b[0m\n\u001b[0;32m     14\u001b[0m \u001b[1;33m\u001b[0m\u001b[0m\n",
      "\u001b[1;32mc:\\users\\tosha.e.t\\appdata\\local\\programs\\python\\python39\\lib\\site-packages\\statsmodels\\tsa\\filters\\filtertools.py\u001b[0m in \u001b[0;36m<module>\u001b[1;34m\u001b[0m\n\u001b[0;32m     15\u001b[0m \u001b[1;32mimport\u001b[0m \u001b[0mnumpy\u001b[0m \u001b[1;32mas\u001b[0m \u001b[0mnp\u001b[0m\u001b[1;33m\u001b[0m\u001b[1;33m\u001b[0m\u001b[0m\n\u001b[0;32m     16\u001b[0m \u001b[1;32mimport\u001b[0m \u001b[0mscipy\u001b[0m\u001b[1;33m.\u001b[0m\u001b[0mfftpack\u001b[0m \u001b[1;32mas\u001b[0m \u001b[0mfft\u001b[0m\u001b[1;33m\u001b[0m\u001b[1;33m\u001b[0m\u001b[0m\n\u001b[1;32m---> 17\u001b[1;33m \u001b[1;32mfrom\u001b[0m \u001b[0mscipy\u001b[0m \u001b[1;32mimport\u001b[0m \u001b[0msignal\u001b[0m\u001b[1;33m\u001b[0m\u001b[1;33m\u001b[0m\u001b[0m\n\u001b[0m\u001b[0;32m     18\u001b[0m \u001b[1;32mfrom\u001b[0m \u001b[0mscipy\u001b[0m\u001b[1;33m.\u001b[0m\u001b[0msignal\u001b[0m\u001b[1;33m.\u001b[0m\u001b[0msignaltools\u001b[0m \u001b[1;32mimport\u001b[0m \u001b[0m_centered\u001b[0m \u001b[1;32mas\u001b[0m \u001b[0mtrim_centered\u001b[0m\u001b[1;33m\u001b[0m\u001b[1;33m\u001b[0m\u001b[0m\n\u001b[0;32m     19\u001b[0m \u001b[1;33m\u001b[0m\u001b[0m\n",
      "\u001b[1;32mc:\\users\\tosha.e.t\\appdata\\local\\programs\\python\\python39\\lib\\site-packages\\scipy\\signal\\__init__.py\u001b[0m in \u001b[0;36m<module>\u001b[1;34m\u001b[0m\n\u001b[0;32m    300\u001b[0m \u001b[1;33m\u001b[0m\u001b[0m\n\u001b[0;32m    301\u001b[0m \u001b[1;32mfrom\u001b[0m \u001b[1;33m.\u001b[0m\u001b[0mbsplines\u001b[0m \u001b[1;32mimport\u001b[0m \u001b[1;33m*\u001b[0m\u001b[1;33m\u001b[0m\u001b[1;33m\u001b[0m\u001b[0m\n\u001b[1;32m--> 302\u001b[1;33m \u001b[1;32mfrom\u001b[0m \u001b[1;33m.\u001b[0m\u001b[0mfilter_design\u001b[0m \u001b[1;32mimport\u001b[0m \u001b[1;33m*\u001b[0m\u001b[1;33m\u001b[0m\u001b[1;33m\u001b[0m\u001b[0m\n\u001b[0m\u001b[0;32m    303\u001b[0m \u001b[1;32mfrom\u001b[0m \u001b[1;33m.\u001b[0m\u001b[0mfir_filter_design\u001b[0m \u001b[1;32mimport\u001b[0m \u001b[1;33m*\u001b[0m\u001b[1;33m\u001b[0m\u001b[1;33m\u001b[0m\u001b[0m\n\u001b[0;32m    304\u001b[0m \u001b[1;32mfrom\u001b[0m \u001b[1;33m.\u001b[0m\u001b[0mltisys\u001b[0m \u001b[1;32mimport\u001b[0m \u001b[1;33m*\u001b[0m\u001b[1;33m\u001b[0m\u001b[1;33m\u001b[0m\u001b[0m\n",
      "\u001b[1;32mc:\\users\\tosha.e.t\\appdata\\local\\programs\\python\\python39\\lib\\site-packages\\scipy\\signal\\filter_design.py\u001b[0m in \u001b[0;36m<module>\u001b[1;34m\u001b[0m\n\u001b[0;32m     14\u001b[0m \u001b[1;32mfrom\u001b[0m \u001b[0mnumpy\u001b[0m\u001b[1;33m.\u001b[0m\u001b[0mpolynomial\u001b[0m\u001b[1;33m.\u001b[0m\u001b[0mpolynomial\u001b[0m \u001b[1;32mimport\u001b[0m \u001b[0mpolyvalfromroots\u001b[0m\u001b[1;33m\u001b[0m\u001b[1;33m\u001b[0m\u001b[0m\n\u001b[0;32m     15\u001b[0m \u001b[1;33m\u001b[0m\u001b[0m\n\u001b[1;32m---> 16\u001b[1;33m \u001b[1;32mfrom\u001b[0m \u001b[0mscipy\u001b[0m \u001b[1;32mimport\u001b[0m \u001b[0mspecial\u001b[0m\u001b[1;33m,\u001b[0m \u001b[0moptimize\u001b[0m\u001b[1;33m,\u001b[0m \u001b[0mfft\u001b[0m \u001b[1;32mas\u001b[0m \u001b[0msp_fft\u001b[0m\u001b[1;33m\u001b[0m\u001b[1;33m\u001b[0m\u001b[0m\n\u001b[0m\u001b[0;32m     17\u001b[0m \u001b[1;32mfrom\u001b[0m \u001b[0mscipy\u001b[0m\u001b[1;33m.\u001b[0m\u001b[0mspecial\u001b[0m \u001b[1;32mimport\u001b[0m \u001b[0mcomb\u001b[0m\u001b[1;33m\u001b[0m\u001b[1;33m\u001b[0m\u001b[0m\n\u001b[0;32m     18\u001b[0m \u001b[1;32mfrom\u001b[0m \u001b[0mscipy\u001b[0m\u001b[1;33m.\u001b[0m\u001b[0m_lib\u001b[0m\u001b[1;33m.\u001b[0m\u001b[0m_util\u001b[0m \u001b[1;32mimport\u001b[0m \u001b[0mfloat_factorial\u001b[0m\u001b[1;33m\u001b[0m\u001b[1;33m\u001b[0m\u001b[0m\n",
      "\u001b[1;32mc:\\users\\tosha.e.t\\appdata\\local\\programs\\python\\python39\\lib\\site-packages\\scipy\\optimize\\__init__.py\u001b[0m in \u001b[0;36m<module>\u001b[1;34m\u001b[0m\n\u001b[0;32m    398\u001b[0m \"\"\"\n\u001b[0;32m    399\u001b[0m \u001b[1;33m\u001b[0m\u001b[0m\n\u001b[1;32m--> 400\u001b[1;33m \u001b[1;32mfrom\u001b[0m \u001b[1;33m.\u001b[0m\u001b[0moptimize\u001b[0m \u001b[1;32mimport\u001b[0m \u001b[1;33m*\u001b[0m\u001b[1;33m\u001b[0m\u001b[1;33m\u001b[0m\u001b[0m\n\u001b[0m\u001b[0;32m    401\u001b[0m \u001b[1;32mfrom\u001b[0m \u001b[1;33m.\u001b[0m\u001b[0m_minimize\u001b[0m \u001b[1;32mimport\u001b[0m \u001b[1;33m*\u001b[0m\u001b[1;33m\u001b[0m\u001b[1;33m\u001b[0m\u001b[0m\n\u001b[0;32m    402\u001b[0m \u001b[1;32mfrom\u001b[0m \u001b[1;33m.\u001b[0m\u001b[0m_root\u001b[0m \u001b[1;32mimport\u001b[0m \u001b[1;33m*\u001b[0m\u001b[1;33m\u001b[0m\u001b[1;33m\u001b[0m\u001b[0m\n",
      "\u001b[1;32mc:\\users\\tosha.e.t\\appdata\\local\\programs\\python\\python39\\lib\\site-packages\\scipy\\optimize\\optimize.py\u001b[0m in \u001b[0;36m<module>\u001b[1;34m\u001b[0m\n\u001b[0;32m     34\u001b[0m                          \u001b[0mline_search_wolfe2\u001b[0m \u001b[1;32mas\u001b[0m \u001b[0mline_search\u001b[0m\u001b[1;33m,\u001b[0m\u001b[1;33m\u001b[0m\u001b[1;33m\u001b[0m\u001b[0m\n\u001b[0;32m     35\u001b[0m                          LineSearchWarning)\n\u001b[1;32m---> 36\u001b[1;33m \u001b[1;32mfrom\u001b[0m \u001b[1;33m.\u001b[0m\u001b[0m_numdiff\u001b[0m \u001b[1;32mimport\u001b[0m \u001b[0mapprox_derivative\u001b[0m\u001b[1;33m\u001b[0m\u001b[1;33m\u001b[0m\u001b[0m\n\u001b[0m\u001b[0;32m     37\u001b[0m \u001b[1;32mfrom\u001b[0m \u001b[0mscipy\u001b[0m\u001b[1;33m.\u001b[0m\u001b[0m_lib\u001b[0m\u001b[1;33m.\u001b[0m\u001b[0m_util\u001b[0m \u001b[1;32mimport\u001b[0m \u001b[0mgetfullargspec_no_self\u001b[0m \u001b[1;32mas\u001b[0m \u001b[0m_getfullargspec\u001b[0m\u001b[1;33m\u001b[0m\u001b[1;33m\u001b[0m\u001b[0m\n\u001b[0;32m     38\u001b[0m \u001b[1;32mfrom\u001b[0m \u001b[0mscipy\u001b[0m\u001b[1;33m.\u001b[0m\u001b[0m_lib\u001b[0m\u001b[1;33m.\u001b[0m\u001b[0m_util\u001b[0m \u001b[1;32mimport\u001b[0m \u001b[0mMapWrapper\u001b[0m\u001b[1;33m\u001b[0m\u001b[1;33m\u001b[0m\u001b[0m\n",
      "\u001b[1;32mc:\\users\\tosha.e.t\\appdata\\local\\programs\\python\\python39\\lib\\site-packages\\scipy\\optimize\\_numdiff.py\u001b[0m in \u001b[0;36m<module>\u001b[1;34m\u001b[0m\n\u001b[0;32m      4\u001b[0m \u001b[1;32mfrom\u001b[0m \u001b[0mnumpy\u001b[0m\u001b[1;33m.\u001b[0m\u001b[0mlinalg\u001b[0m \u001b[1;32mimport\u001b[0m \u001b[0mnorm\u001b[0m\u001b[1;33m\u001b[0m\u001b[1;33m\u001b[0m\u001b[0m\n\u001b[0;32m      5\u001b[0m \u001b[1;33m\u001b[0m\u001b[0m\n\u001b[1;32m----> 6\u001b[1;33m \u001b[1;32mfrom\u001b[0m \u001b[0mscipy\u001b[0m\u001b[1;33m.\u001b[0m\u001b[0msparse\u001b[0m\u001b[1;33m.\u001b[0m\u001b[0mlinalg\u001b[0m \u001b[1;32mimport\u001b[0m \u001b[0mLinearOperator\u001b[0m\u001b[1;33m\u001b[0m\u001b[1;33m\u001b[0m\u001b[0m\n\u001b[0m\u001b[0;32m      7\u001b[0m \u001b[1;32mfrom\u001b[0m \u001b[1;33m.\u001b[0m\u001b[1;33m.\u001b[0m\u001b[0msparse\u001b[0m \u001b[1;32mimport\u001b[0m \u001b[0missparse\u001b[0m\u001b[1;33m,\u001b[0m \u001b[0mcsc_matrix\u001b[0m\u001b[1;33m,\u001b[0m \u001b[0mcsr_matrix\u001b[0m\u001b[1;33m,\u001b[0m \u001b[0mcoo_matrix\u001b[0m\u001b[1;33m,\u001b[0m \u001b[0mfind\u001b[0m\u001b[1;33m\u001b[0m\u001b[1;33m\u001b[0m\u001b[0m\n\u001b[0;32m      8\u001b[0m \u001b[1;32mfrom\u001b[0m \u001b[1;33m.\u001b[0m\u001b[0m_group_columns\u001b[0m \u001b[1;32mimport\u001b[0m \u001b[0mgroup_dense\u001b[0m\u001b[1;33m,\u001b[0m \u001b[0mgroup_sparse\u001b[0m\u001b[1;33m\u001b[0m\u001b[1;33m\u001b[0m\u001b[0m\n",
      "\u001b[1;32mc:\\users\\tosha.e.t\\appdata\\local\\programs\\python\\python39\\lib\\site-packages\\scipy\\sparse\\linalg\\__init__.py\u001b[0m in \u001b[0;36m<module>\u001b[1;34m\u001b[0m\n\u001b[0;32m    109\u001b[0m \"\"\"\n\u001b[0;32m    110\u001b[0m \u001b[1;33m\u001b[0m\u001b[0m\n\u001b[1;32m--> 111\u001b[1;33m \u001b[1;32mfrom\u001b[0m \u001b[1;33m.\u001b[0m\u001b[0misolve\u001b[0m \u001b[1;32mimport\u001b[0m \u001b[1;33m*\u001b[0m\u001b[1;33m\u001b[0m\u001b[1;33m\u001b[0m\u001b[0m\n\u001b[0m\u001b[0;32m    112\u001b[0m \u001b[1;32mfrom\u001b[0m \u001b[1;33m.\u001b[0m\u001b[0mdsolve\u001b[0m \u001b[1;32mimport\u001b[0m \u001b[1;33m*\u001b[0m\u001b[1;33m\u001b[0m\u001b[1;33m\u001b[0m\u001b[0m\n\u001b[0;32m    113\u001b[0m \u001b[1;32mfrom\u001b[0m \u001b[1;33m.\u001b[0m\u001b[0minterface\u001b[0m \u001b[1;32mimport\u001b[0m \u001b[1;33m*\u001b[0m\u001b[1;33m\u001b[0m\u001b[1;33m\u001b[0m\u001b[0m\n",
      "\u001b[1;32mc:\\users\\tosha.e.t\\appdata\\local\\programs\\python\\python39\\lib\\site-packages\\scipy\\sparse\\linalg\\isolve\\__init__.py\u001b[0m in \u001b[0;36m<module>\u001b[1;34m\u001b[0m\n\u001b[0;32m      2\u001b[0m \u001b[1;33m\u001b[0m\u001b[0m\n\u001b[0;32m      3\u001b[0m \u001b[1;31m#from info import __doc__\u001b[0m\u001b[1;33m\u001b[0m\u001b[1;33m\u001b[0m\u001b[1;33m\u001b[0m\u001b[0m\n\u001b[1;32m----> 4\u001b[1;33m \u001b[1;32mfrom\u001b[0m \u001b[1;33m.\u001b[0m\u001b[0miterative\u001b[0m \u001b[1;32mimport\u001b[0m \u001b[1;33m*\u001b[0m\u001b[1;33m\u001b[0m\u001b[1;33m\u001b[0m\u001b[0m\n\u001b[0m\u001b[0;32m      5\u001b[0m \u001b[1;32mfrom\u001b[0m \u001b[1;33m.\u001b[0m\u001b[0mminres\u001b[0m \u001b[1;32mimport\u001b[0m \u001b[0mminres\u001b[0m\u001b[1;33m\u001b[0m\u001b[1;33m\u001b[0m\u001b[0m\n\u001b[0;32m      6\u001b[0m \u001b[1;32mfrom\u001b[0m \u001b[1;33m.\u001b[0m\u001b[0mlgmres\u001b[0m \u001b[1;32mimport\u001b[0m \u001b[0mlgmres\u001b[0m\u001b[1;33m\u001b[0m\u001b[1;33m\u001b[0m\u001b[0m\n",
      "\u001b[1;32mc:\\users\\tosha.e.t\\appdata\\local\\programs\\python\\python39\\lib\\site-packages\\scipy\\sparse\\linalg\\isolve\\iterative.py\u001b[0m in \u001b[0;36m<module>\u001b[1;34m\u001b[0m\n\u001b[0;32m    148\u001b[0m                )\n\u001b[0;32m    149\u001b[0m \u001b[1;33m@\u001b[0m\u001b[0mnon_reentrant\u001b[0m\u001b[1;33m(\u001b[0m\u001b[1;33m)\u001b[0m\u001b[1;33m\u001b[0m\u001b[1;33m\u001b[0m\u001b[0m\n\u001b[1;32m--> 150\u001b[1;33m \u001b[1;32mdef\u001b[0m \u001b[0mbicg\u001b[0m\u001b[1;33m(\u001b[0m\u001b[0mA\u001b[0m\u001b[1;33m,\u001b[0m \u001b[0mb\u001b[0m\u001b[1;33m,\u001b[0m \u001b[0mx0\u001b[0m\u001b[1;33m=\u001b[0m\u001b[1;32mNone\u001b[0m\u001b[1;33m,\u001b[0m \u001b[0mtol\u001b[0m\u001b[1;33m=\u001b[0m\u001b[1;36m1e-5\u001b[0m\u001b[1;33m,\u001b[0m \u001b[0mmaxiter\u001b[0m\u001b[1;33m=\u001b[0m\u001b[1;32mNone\u001b[0m\u001b[1;33m,\u001b[0m \u001b[0mM\u001b[0m\u001b[1;33m=\u001b[0m\u001b[1;32mNone\u001b[0m\u001b[1;33m,\u001b[0m \u001b[0mcallback\u001b[0m\u001b[1;33m=\u001b[0m\u001b[1;32mNone\u001b[0m\u001b[1;33m,\u001b[0m \u001b[0matol\u001b[0m\u001b[1;33m=\u001b[0m\u001b[1;32mNone\u001b[0m\u001b[1;33m)\u001b[0m\u001b[1;33m:\u001b[0m\u001b[1;33m\u001b[0m\u001b[1;33m\u001b[0m\u001b[0m\n\u001b[0m\u001b[0;32m    151\u001b[0m     \u001b[0mA\u001b[0m\u001b[1;33m,\u001b[0m\u001b[0mM\u001b[0m\u001b[1;33m,\u001b[0m\u001b[0mx\u001b[0m\u001b[1;33m,\u001b[0m\u001b[0mb\u001b[0m\u001b[1;33m,\u001b[0m\u001b[0mpostprocess\u001b[0m \u001b[1;33m=\u001b[0m \u001b[0mmake_system\u001b[0m\u001b[1;33m(\u001b[0m\u001b[0mA\u001b[0m\u001b[1;33m,\u001b[0m \u001b[0mM\u001b[0m\u001b[1;33m,\u001b[0m \u001b[0mx0\u001b[0m\u001b[1;33m,\u001b[0m \u001b[0mb\u001b[0m\u001b[1;33m)\u001b[0m\u001b[1;33m\u001b[0m\u001b[1;33m\u001b[0m\u001b[0m\n\u001b[0;32m    152\u001b[0m \u001b[1;33m\u001b[0m\u001b[0m\n",
      "\u001b[1;32mc:\\users\\tosha.e.t\\appdata\\local\\programs\\python\\python39\\lib\\site-packages\\scipy\\_lib\\_threadsafety.py\u001b[0m in \u001b[0;36mdecorator\u001b[1;34m(func)\u001b[0m\n\u001b[0;32m     55\u001b[0m             \u001b[0mmsg\u001b[0m \u001b[1;33m=\u001b[0m \u001b[1;34m\"%s is not re-entrant\"\u001b[0m \u001b[1;33m%\u001b[0m \u001b[0mfunc\u001b[0m\u001b[1;33m.\u001b[0m\u001b[0m__name__\u001b[0m\u001b[1;33m\u001b[0m\u001b[1;33m\u001b[0m\u001b[0m\n\u001b[0;32m     56\u001b[0m         \u001b[0mlock\u001b[0m \u001b[1;33m=\u001b[0m \u001b[0mReentrancyLock\u001b[0m\u001b[1;33m(\u001b[0m\u001b[0mmsg\u001b[0m\u001b[1;33m)\u001b[0m\u001b[1;33m\u001b[0m\u001b[1;33m\u001b[0m\u001b[0m\n\u001b[1;32m---> 57\u001b[1;33m         \u001b[1;32mreturn\u001b[0m \u001b[0mlock\u001b[0m\u001b[1;33m.\u001b[0m\u001b[0mdecorate\u001b[0m\u001b[1;33m(\u001b[0m\u001b[0mfunc\u001b[0m\u001b[1;33m)\u001b[0m\u001b[1;33m\u001b[0m\u001b[1;33m\u001b[0m\u001b[0m\n\u001b[0m\u001b[0;32m     58\u001b[0m     \u001b[1;32mreturn\u001b[0m \u001b[0mdecorator\u001b[0m\u001b[1;33m\u001b[0m\u001b[1;33m\u001b[0m\u001b[0m\n",
      "\u001b[1;32mc:\\users\\tosha.e.t\\appdata\\local\\programs\\python\\python39\\lib\\site-packages\\scipy\\_lib\\_threadsafety.py\u001b[0m in \u001b[0;36mdecorate\u001b[1;34m(self, func)\u001b[0m\n\u001b[0;32m     43\u001b[0m             \u001b[1;32mwith\u001b[0m \u001b[0mself\u001b[0m\u001b[1;33m:\u001b[0m\u001b[1;33m\u001b[0m\u001b[1;33m\u001b[0m\u001b[0m\n\u001b[0;32m     44\u001b[0m                 \u001b[1;32mreturn\u001b[0m \u001b[0mfunc\u001b[0m\u001b[1;33m(\u001b[0m\u001b[1;33m*\u001b[0m\u001b[0ma\u001b[0m\u001b[1;33m,\u001b[0m \u001b[1;33m**\u001b[0m\u001b[0mkw\u001b[0m\u001b[1;33m)\u001b[0m\u001b[1;33m\u001b[0m\u001b[1;33m\u001b[0m\u001b[0m\n\u001b[1;32m---> 45\u001b[1;33m         \u001b[1;32mreturn\u001b[0m \u001b[0mscipy\u001b[0m\u001b[1;33m.\u001b[0m\u001b[0m_lib\u001b[0m\u001b[1;33m.\u001b[0m\u001b[0mdecorator\u001b[0m\u001b[1;33m.\u001b[0m\u001b[0mdecorate\u001b[0m\u001b[1;33m(\u001b[0m\u001b[0mfunc\u001b[0m\u001b[1;33m,\u001b[0m \u001b[0mcaller\u001b[0m\u001b[1;33m)\u001b[0m\u001b[1;33m\u001b[0m\u001b[1;33m\u001b[0m\u001b[0m\n\u001b[0m\u001b[0;32m     46\u001b[0m \u001b[1;33m\u001b[0m\u001b[0m\n\u001b[0;32m     47\u001b[0m \u001b[1;33m\u001b[0m\u001b[0m\n",
      "\u001b[1;31mAttributeError\u001b[0m: module 'scipy' has no attribute '_lib'"
     ]
    }
   ],
   "source": [
    "import pandas as pd\n",
    "import numpy as np\n",
    "import os\n",
    "import os.path\n",
    "from os import listdir\n",
    "from os.path import isfile, isdir, join\n",
    "import datetime,time\n",
    "import matplotlib.pyplot as plt\n",
    "import plotly.express as px\n",
    "import statsmodels\n",
    "from pandas.plotting import register_matplotlib_converters  \n",
    "from statsmodels.tsa.seasonal import seasonal_decompose\n",
    "from statsmodels.tsa.seasonal import STL\n",
    "import plotly.graph_objects as go\n",
    "from plotly.subplots import make_subplots\n",
    "import openpyxl\n",
    "import pytz\n",
    "from datetime import datetime\n",
    "from datetime import timedelta\n",
    "import stl\n",
    "from dateutil.parser import parse\n",
    "from dateutil.parser import parse\n",
    "from dateutil.tz import tzutc\n",
    "import pytz\n",
    "from tzlocal import get_localzone\n",
    "import plotly.offline as offline\n",
    "#---------------------------------------去掉紅色警告-------------\n",
    "from sklearn import metrics\n",
    "import warnings\n",
    "warnings.filterwarnings(\"ignore\")"
   ]
  },
  {
   "cell_type": "code",
   "execution_count": null,
   "id": "illegal-bedroom",
   "metadata": {},
   "outputs": [],
   "source": [
    "# for i in range(19,27):\n",
    "#     for j in range(1,3):\n",
    "#         for k in range(1,3):\n",
    "#             df9=pd.read_csv(r'C:\\Users\\Tosha.E.T\\Desktop\\Sinotech\\716\\{0}-{1}-{2}_clean.csv'.format(i,j,k))\n",
    "#             res= STL(df9.value,period=103).fit()\n",
    "#             res.plot()\n",
    "#             plt.show()\n",
    "#             print(\"{0}-{1}-{2}\".format(i,j,k))\n",
    "#                 #把陣列轉成dataframe\n",
    "    \n",
    "#                 #re3=df9.to_frame()\n",
    "#                 #把分解出來的趨勢轉回去\n",
    "#             df9['trend']=res.trend\n",
    "#             df9['season']=res.seasonal\n",
    "#             df9['residual']=res.resid\n",
    "#                 #補滿前後資料\n",
    "#             df9=df9.fillna(method='ffill')\n",
    "#             df9=df9.fillna(method='bfill')\n",
    "#                 #print(name+\"資料STL處理完成\")\n",
    "#             df9.to_csv(r'C:\\Users\\Tosha.E.T\\Desktop\\Sinotech\\715\\中華電信IOT_19-26\\{0}-{1}-{2}_stl.csv'.format(i,j,k))\n",
    "#             print(\"坡面侵蝕done\")"
   ]
  },
  {
   "cell_type": "code",
   "execution_count": null,
   "id": "proved-characteristic",
   "metadata": {},
   "outputs": [],
   "source": [
    "# df = pd.read_csv(r'C:\\Users\\Tosha.E.T\\Desktop\\Sinotech\\715\\{0}-{1}-{2}_clean.csv'.format(26,2,1))\n",
    "\n",
    "# fig = px.line(df, y='value', x='time')        \n",
    "# fig.show()\n",
    "\n",
    "\n",
    "# df2 = pd.read_csv(r'C:\\Users\\Tosha.E.T\\Desktop\\Sinotech\\715\\{0}-{1}-{2}_clean.csv'.format(26,2,2))\n",
    "# fig2 = px.line(df2, y='value', x='time')        \n",
    "# fig2.show()\n"
   ]
  },
  {
   "cell_type": "code",
   "execution_count": 261,
   "id": "bacterial-robertson",
   "metadata": {},
   "outputs": [],
   "source": [
    "# m = 26\n",
    "# s = 2\n",
    "# d = 2\n",
    "# df1 = pd.read_csv(r'C:\\Users\\Tosha.E.T\\Desktop\\Sinotech\\715\\中華電信IOT_19-26\\{0}-{1}-{2}.csv'.format(m,s,d))\n",
    "# df1['time']=pd.to_datetime(df1['time'])\n",
    "# for i in range(len(df1)):\n",
    "#     df1.time[i] = df1.time[i].replace(tzinfo=None)\n",
    "#     df1.time[i] = df1.time[i] + timedelta(hours=8)\n",
    "            \n",
    "# df1 = df1.loc[df1['value']!=20]        \n",
    "# df1.set_index('time', drop=True, inplace=True)\n",
    "# df1=df1.loc[df1[\"value\"]>=0][\"value\"]\n",
    "# mean=df1.rolling(30,min_periods=1,center=True).mean()\n",
    "# std=df1.rolling(30,min_periods=1,center=True).std()\n",
    "# i=0\n",
    "# while i < (len(df1)):\n",
    "#     if abs(df1[i]-mean[i])<std[i]:\n",
    "#         i=i+1\n",
    "#     else:\n",
    "#         df1=df1.drop(df1.index[i])\n",
    "#         i=i+1\n",
    "# df2=df1.resample(rule='1D').mean()\n",
    "# mean=df2.rolling(30,min_periods=1,center=True).mean()\n",
    "# std=df2.rolling(30,min_periods=1,center=True).std()\n",
    "# i=0\n",
    "# while i < (len(df2)):\n",
    "#     if abs(df2[i]-mean[i])<std[i]:\n",
    "#         i=i+1\n",
    "#     else:\n",
    "#         df2=df2.drop(df2.index[i])\n",
    "#         i=i+1\n",
    "# df3=df2#.resample(rule='30T').mean().interpolate(method='slinear')\n",
    "# df3.dropna(inplace=True)\n",
    "# df=df3.to_frame()\n",
    "# df.to_csv(r'C:\\Users\\Tosha.E.T\\Desktop\\Sinotech\\715\\{0}-{1}-{2}_clean_D.csv'.format(m,s,d))\n",
    "# print(\"儲存done\")\n"
   ]
  },
  {
   "cell_type": "code",
   "execution_count": null,
   "id": "celtic-forest",
   "metadata": {},
   "outputs": [],
   "source": [
    "# a = df[\"value\"][i-1]\n",
    "# b = df[\"value\"][i]\n",
    "# c = df[\"value\"][i+1]\n",
    "# (abs(b-c)+abs(a-b))/2>abs(c-a)*2\n",
    "# (abs(b-c)+abs(a-b))/2>abs(c-a)*2"
   ]
  },
  {
   "cell_type": "code",
   "execution_count": 260,
   "id": "systematic-payroll",
   "metadata": {},
   "outputs": [],
   "source": [
    "# m = 19\n",
    "# n = 1\n",
    "# for s in range(1,3):\n",
    "#     df=pd.read_csv(r'C:\\Users\\Tosha.E.T\\Desktop\\Sinotech\\716\\{0}-{1}-{2}_clean.csv'.format(m,n,s))\n",
    "# #     fig = px.line(df, y='value', x='time')        \n",
    "# #     fig.show()\n",
    "#     df=df[df['value']>50]\n",
    "#     df=df[df['value']<70]\n",
    "#     df = df.reset_index()\n",
    "\n",
    "#     i = 1\n",
    "#     while i<(len(df[\"value\"])-1):\n",
    "#         a = df[\"value\"][i-1]\n",
    "#         b = df[\"value\"][i]\n",
    "#         c = df[\"value\"][i+1]\n",
    "#         if (abs(b-c)+abs(a-b))/2>abs(c-a)*1.5:\n",
    "            \n",
    "#             #print(i)\n",
    "#             #print('a='+str(a))\n",
    "#             #print('b='+str(b))\n",
    "#             #print('c='+str(c))\n",
    "#             df[\"value\"][i] = (a+c)/2\n",
    "#             #print('new b='+str(b))\n",
    "#             i=i+1\n",
    "#         else:\n",
    "#             i=i+1\n",
    "#     df.to_csv(r'C:\\Users\\Tosha.E.T\\Desktop\\Sinotech\\716\\{0}-{1}-{2}_cut.csv'.format(m,n,s))\n",
    "#     print(\"cut save!!\")\n",
    "#---------------------------------------------------\n",
    "#     fig = px.line(df, y='value', x='time')        \n",
    "#     fig.show()\n",
    "#     print(\"{0}-{1}-{2}\".format(m,n,s))"
   ]
  },
  {
   "cell_type": "code",
   "execution_count": 259,
   "id": "funny-weather",
   "metadata": {},
   "outputs": [],
   "source": [
    "# m = 19\n",
    "# n = 2\n",
    "# for s in range(1,3):\n",
    "#     df=pd.read_csv(r'C:\\Users\\Tosha.E.T\\Desktop\\Sinotech\\716\\{0}-{1}-{2}_clean.csv'.format(m,n,s))\n",
    "#     df=df[df['value']>32]\n",
    "#     df=df[df['value']<46]\n",
    "#     df = df.reset_index()\n",
    "\n",
    "#     i = 1\n",
    "#     while i<(len(df[\"value\"])-1):\n",
    "#         a = df[\"value\"][i-1]\n",
    "#         b = df[\"value\"][i]\n",
    "#         c = df[\"value\"][i+1]\n",
    "#         if (abs(b-c)+abs(a-b))/2>abs(c-a)*1.5:\n",
    "#             df[\"value\"][i] = (a+c)/2\n",
    "#             i=i+1\n",
    "#         else:\n",
    "#             i=i+1\n",
    "            \n",
    "#     df.to_csv(r'C:\\Users\\Tosha.E.T\\Desktop\\Sinotech\\716\\{0}-{1}-{2}_cut.csv'.format(m,n,s))\n",
    "#     print(\"cut save!!\")\n",
    "# #---------------------------------------------------\n",
    "#     fig = px.line(df, y='value', x='time')        \n",
    "#     fig.show()\n",
    "# print(\"{0}-{1}-{2}\".format(m,n,s))"
   ]
  },
  {
   "cell_type": "code",
   "execution_count": 258,
   "id": "shared-antigua",
   "metadata": {},
   "outputs": [],
   "source": [
    "# m = 20\n",
    "# n = 1\n",
    "# for s in range(1,3):\n",
    "#     df=pd.read_csv(r'C:\\Users\\Tosha.E.T\\Desktop\\Sinotech\\716\\{0}-{1}-{2}_clean.csv'.format(m,n,s))\n",
    "#     df=df[df['value']>33]\n",
    "#     df=df[df['value']<53]\n",
    "#     df = df.reset_index()\n",
    "\n",
    "#     i = 1\n",
    "#     while i<(len(df[\"value\"])-1):\n",
    "#         a = df[\"value\"][i-1]\n",
    "#         b = df[\"value\"][i]\n",
    "#         c = df[\"value\"][i+1]\n",
    "#         if (abs(b-c)+abs(a-b))/2>abs(c-a)*1.5:\n",
    "#             df[\"value\"][i] = (a+c)/2\n",
    "#             i=i+1\n",
    "#         else:\n",
    "#             i=i+1\n",
    "#     df.to_csv(r'C:\\Users\\Tosha.E.T\\Desktop\\Sinotech\\716\\{0}-{1}-{2}_cut.csv'.format(m,n,s))\n",
    "#     print(\"cut save!!\")\n",
    "# #---------------------------------------------------\n",
    "#     fig = px.line(df, y='value', x='time')        \n",
    "#     fig.show()\n",
    "#     print(\"{0}-{1}-{2}\".format(m,n,s))"
   ]
  },
  {
   "cell_type": "code",
   "execution_count": 257,
   "id": "exotic-barcelona",
   "metadata": {},
   "outputs": [],
   "source": [
    "# m = 20\n",
    "# n = 2\n",
    "# for s in range(1,3):\n",
    "#     df=pd.read_csv(r'C:\\Users\\Tosha.E.T\\Desktop\\Sinotech\\716\\{0}-{1}-{2}_clean.csv'.format(m,n,s))\n",
    "#     df=df[df['value']>33]\n",
    "#     df=df[df['value']<53]\n",
    "#     df = df.reset_index()\n",
    "\n",
    "#     i = 1\n",
    "#     while i<(len(df[\"value\"])-1):\n",
    "#         a = df[\"value\"][i-1]\n",
    "#         b = df[\"value\"][i]\n",
    "#         c = df[\"value\"][i+1]\n",
    "#         if (abs(b-c)+abs(a-b))/2>abs(c-a)*1.5:\n",
    "#             df[\"value\"][i] = (a+c)/2\n",
    "#             i=i+1\n",
    "#         else:\n",
    "#             i=i+1\n",
    "#     df.to_csv(r'C:\\Users\\Tosha.E.T\\Desktop\\Sinotech\\716\\{0}-{1}-{2}_cut.csv'.format(m,n,s))\n",
    "#     print(\"cut save!!\")\n",
    "# #---------------------------------------------------\n",
    "#     fig = px.line(df, y='value', x='time')        \n",
    "#     fig.show()\n",
    "#     print(\"{0}-{1}-{2}\".format(m,n,s))"
   ]
  },
  {
   "cell_type": "code",
   "execution_count": 22,
   "id": "functional-double",
   "metadata": {},
   "outputs": [
    {
     "name": "stdout",
     "output_type": "stream",
     "text": [
      "cut save!!\n"
     ]
    },
    {
     "name": "stderr",
     "output_type": "stream",
     "text": [
      "<ipython-input-22-be61169cbdb4>:16: SettingWithCopyWarning:\n",
      "\n",
      "\n",
      "A value is trying to be set on a copy of a slice from a DataFrame\n",
      "\n",
      "See the caveats in the documentation: https://pandas.pydata.org/pandas-docs/stable/user_guide/indexing.html#returning-a-view-versus-a-copy\n",
      "\n"
     ]
    },
    {
     "data": {
      "application/vnd.plotly.v1+json": {
       "config": {
        "plotlyServerURL": "https://plot.ly"
       },
       "data": [
        {
         "hovertemplate": "time=%{x}<br>value=%{y}<extra></extra>",
         "legendgroup": "",
         "line": {
          "color": "#636efa",
          "dash": "solid"
         },
         "mode": "lines",
         "name": "",
         "orientation": "v",
         "showlegend": false,
         "type": "scatter",
         "x": [
          "2021-06-10 10:00:00",
          "2021-06-10 10:30:00",
          "2021-06-10 11:00:00",
          "2021-06-10 11:30:00",
          "2021-06-10 13:30:00",
          "2021-06-10 14:00:00",
          "2021-06-10 15:00:00",
          "2021-06-10 15:30:00",
          "2021-06-10 16:00:00",
          "2021-06-10 16:30:00",
          "2021-06-10 17:00:00",
          "2021-06-10 18:00:00",
          "2021-06-10 18:30:00",
          "2021-06-10 19:30:00",
          "2021-06-10 20:30:00",
          "2021-06-10 22:00:00",
          "2021-06-10 23:00:00",
          "2021-06-10 23:30:00",
          "2021-06-11 00:00:00",
          "2021-06-11 01:00:00",
          "2021-06-11 02:00:00",
          "2021-06-11 02:30:00",
          "2021-06-11 03:00:00",
          "2021-06-11 04:30:00",
          "2021-06-11 05:00:00",
          "2021-06-11 05:30:00",
          "2021-06-11 06:00:00",
          "2021-06-11 06:30:00",
          "2021-06-11 07:30:00",
          "2021-06-11 08:00:00",
          "2021-06-11 09:00:00",
          "2021-06-11 09:30:00",
          "2021-06-11 10:00:00",
          "2021-06-11 10:30:00",
          "2021-06-11 11:00:00",
          "2021-06-11 11:30:00",
          "2021-06-11 12:00:00",
          "2021-06-11 13:00:00",
          "2021-06-11 14:30:00",
          "2021-06-11 15:00:00",
          "2021-06-11 15:30:00",
          "2021-06-11 16:00:00",
          "2021-06-11 16:30:00",
          "2021-06-11 17:00:00",
          "2021-06-11 17:30:00",
          "2021-06-11 18:00:00",
          "2021-06-11 19:00:00",
          "2021-06-11 20:00:00",
          "2021-06-11 21:00:00",
          "2021-06-11 22:00:00",
          "2021-06-12 02:00:00",
          "2021-06-12 03:00:00",
          "2021-06-12 04:00:00",
          "2021-06-12 04:30:00",
          "2021-06-12 05:30:00",
          "2021-06-12 06:00:00",
          "2021-06-12 06:30:00",
          "2021-06-12 07:00:00",
          "2021-06-12 07:30:00",
          "2021-06-12 08:00:00",
          "2021-06-12 09:00:00",
          "2021-06-12 10:00:00",
          "2021-06-12 11:00:00",
          "2021-06-12 12:00:00",
          "2021-06-12 13:00:00",
          "2021-06-12 14:00:00",
          "2021-06-12 15:00:00",
          "2021-06-12 16:00:00",
          "2021-06-12 17:00:00",
          "2021-06-12 18:00:00",
          "2021-06-12 19:00:00",
          "2021-06-12 20:00:00",
          "2021-06-12 21:00:00",
          "2021-06-12 22:00:00",
          "2021-06-12 23:00:00",
          "2021-06-13 00:00:00",
          "2021-06-13 01:00:00",
          "2021-06-13 02:00:00",
          "2021-06-13 03:00:00",
          "2021-06-13 07:00:00",
          "2021-06-13 08:00:00",
          "2021-06-13 09:00:00",
          "2021-06-13 10:00:00",
          "2021-06-13 12:00:00",
          "2021-06-13 13:00:00",
          "2021-06-13 14:00:00",
          "2021-06-13 15:00:00",
          "2021-06-13 16:00:00",
          "2021-06-13 17:00:00",
          "2021-06-13 18:00:00",
          "2021-06-13 18:30:00",
          "2021-06-13 19:00:00",
          "2021-06-13 20:00:00",
          "2021-06-13 21:00:00",
          "2021-06-13 22:00:00",
          "2021-06-13 23:00:00",
          "2021-06-14 00:00:00",
          "2021-06-14 00:30:00",
          "2021-06-14 01:00:00",
          "2021-06-14 01:30:00",
          "2021-06-14 02:00:00",
          "2021-06-14 02:30:00",
          "2021-06-14 03:00:00",
          "2021-06-14 03:30:00",
          "2021-06-14 04:00:00",
          "2021-06-14 05:00:00",
          "2021-06-14 05:30:00",
          "2021-06-14 06:00:00",
          "2021-06-14 06:30:00",
          "2021-06-14 07:00:00",
          "2021-06-14 07:30:00",
          "2021-06-14 08:00:00",
          "2021-06-14 10:00:00",
          "2021-06-14 10:30:00",
          "2021-06-14 11:30:00",
          "2021-06-14 12:30:00",
          "2021-06-14 13:30:00",
          "2021-06-14 15:30:00",
          "2021-06-14 16:30:00",
          "2021-06-14 17:30:00",
          "2021-06-14 18:30:00",
          "2021-06-14 19:30:00",
          "2021-06-14 20:00:00",
          "2021-06-14 20:30:00",
          "2021-06-14 21:30:00",
          "2021-06-14 22:00:00",
          "2021-06-14 22:30:00",
          "2021-06-14 23:00:00",
          "2021-06-15 00:00:00",
          "2021-06-15 00:30:00",
          "2021-06-15 01:30:00",
          "2021-06-15 02:30:00",
          "2021-06-15 04:00:00",
          "2021-06-15 05:00:00",
          "2021-06-15 06:00:00",
          "2021-06-15 07:00:00",
          "2021-06-15 07:30:00",
          "2021-06-15 08:30:00",
          "2021-06-15 09:30:00",
          "2021-06-15 10:00:00",
          "2021-06-15 11:00:00",
          "2021-06-15 12:00:00",
          "2021-06-15 13:00:00",
          "2021-06-15 14:00:00",
          "2021-06-15 15:00:00",
          "2021-06-15 16:00:00",
          "2021-06-15 17:00:00",
          "2021-06-15 21:00:00",
          "2021-06-15 22:00:00",
          "2021-06-15 23:00:00",
          "2021-06-16 00:00:00",
          "2021-06-16 01:00:00",
          "2021-06-16 02:00:00",
          "2021-06-16 03:00:00",
          "2021-06-16 04:00:00",
          "2021-06-16 05:00:00",
          "2021-06-16 06:00:00",
          "2021-06-16 07:00:00",
          "2021-06-16 08:00:00",
          "2021-06-16 09:00:00",
          "2021-06-16 11:00:00",
          "2021-06-16 11:30:00",
          "2021-06-16 14:30:00",
          "2021-06-16 15:30:00",
          "2021-06-16 16:30:00",
          "2021-06-16 17:30:00",
          "2021-06-17 06:30:00",
          "2021-06-17 07:30:00",
          "2021-06-17 08:30:00",
          "2021-06-17 09:30:00",
          "2021-06-17 10:30:00",
          "2021-06-17 11:30:00",
          "2021-06-17 17:30:00",
          "2021-06-17 18:30:00",
          "2021-06-17 19:30:00",
          "2021-06-17 20:30:00",
          "2021-06-18 05:30:00",
          "2021-06-18 06:30:00",
          "2021-06-18 07:30:00",
          "2021-06-18 08:30:00",
          "2021-06-18 09:30:00",
          "2021-06-18 10:30:00",
          "2021-06-18 14:30:00",
          "2021-06-18 15:30:00",
          "2021-06-18 16:30:00",
          "2021-06-18 17:30:00",
          "2021-06-18 20:30:00",
          "2021-06-19 03:30:00",
          "2021-06-19 07:30:00",
          "2021-06-19 08:30:00",
          "2021-06-19 09:30:00",
          "2021-06-19 10:30:00",
          "2021-06-19 11:30:00",
          "2021-06-19 12:30:00",
          "2021-06-19 14:30:00",
          "2021-06-19 15:30:00",
          "2021-06-19 16:30:00",
          "2021-06-19 18:30:00",
          "2021-06-19 19:30:00",
          "2021-06-19 20:30:00",
          "2021-06-20 03:30:00",
          "2021-06-20 04:30:00",
          "2021-06-20 05:30:00",
          "2021-06-20 06:30:00",
          "2021-06-20 07:30:00",
          "2021-06-20 08:30:00",
          "2021-06-20 09:30:00",
          "2021-06-20 10:30:00",
          "2021-06-20 11:30:00",
          "2021-06-20 12:30:00",
          "2021-06-20 13:30:00",
          "2021-06-20 14:30:00",
          "2021-06-20 15:30:00",
          "2021-06-20 16:30:00",
          "2021-06-20 17:30:00",
          "2021-06-20 19:30:00",
          "2021-06-20 20:30:00",
          "2021-06-20 22:30:00",
          "2021-06-20 23:00:00",
          "2021-06-21 00:00:00",
          "2021-06-21 00:30:00",
          "2021-06-21 01:00:00",
          "2021-06-21 01:30:00",
          "2021-06-21 02:00:00",
          "2021-06-21 02:30:00",
          "2021-06-21 03:00:00",
          "2021-06-21 03:30:00",
          "2021-06-21 04:30:00",
          "2021-06-21 05:30:00",
          "2021-06-21 06:30:00",
          "2021-06-21 07:30:00",
          "2021-06-21 08:30:00",
          "2021-06-21 09:30:00",
          "2021-06-21 10:30:00",
          "2021-06-21 11:30:00",
          "2021-06-21 14:30:00",
          "2021-06-22 01:30:00",
          "2021-06-22 02:30:00",
          "2021-06-22 03:30:00",
          "2021-06-22 04:30:00",
          "2021-06-22 05:30:00",
          "2021-06-22 06:30:00",
          "2021-06-22 07:30:00",
          "2021-06-22 08:30:00",
          "2021-06-22 09:30:00",
          "2021-06-22 10:30:00",
          "2021-06-22 11:30:00",
          "2021-06-22 12:30:00",
          "2021-06-22 13:30:00",
          "2021-06-22 17:00:00",
          "2021-06-22 18:00:00",
          "2021-06-22 19:00:00",
          "2021-06-22 20:00:00",
          "2021-06-22 21:00:00",
          "2021-06-22 22:00:00",
          "2021-06-22 23:30:00",
          "2021-06-23 00:00:00",
          "2021-06-23 01:00:00",
          "2021-06-23 02:00:00",
          "2021-06-23 03:00:00",
          "2021-06-23 04:00:00",
          "2021-06-23 05:00:00",
          "2021-06-23 09:00:00",
          "2021-06-23 10:00:00",
          "2021-06-23 10:30:00",
          "2021-06-23 11:30:00",
          "2021-06-23 12:30:00",
          "2021-06-23 13:30:00",
          "2021-06-23 14:30:00",
          "2021-06-23 15:30:00",
          "2021-06-23 16:30:00",
          "2021-06-23 17:30:00",
          "2021-06-23 18:30:00",
          "2021-06-23 20:30:00",
          "2021-06-23 22:30:00",
          "2021-06-23 23:30:00",
          "2021-06-24 00:30:00",
          "2021-06-24 01:30:00",
          "2021-06-24 02:30:00",
          "2021-06-24 03:30:00",
          "2021-06-24 04:30:00",
          "2021-06-24 05:30:00",
          "2021-06-24 06:30:00",
          "2021-06-24 09:30:00",
          "2021-06-24 13:30:00",
          "2021-06-24 14:30:00",
          "2021-06-24 15:30:00",
          "2021-06-24 16:30:00",
          "2021-06-24 17:30:00",
          "2021-06-24 18:30:00",
          "2021-06-24 19:30:00",
          "2021-06-24 20:30:00",
          "2021-06-24 21:30:00",
          "2021-06-24 22:30:00",
          "2021-06-24 23:30:00",
          "2021-06-25 00:30:00",
          "2021-06-25 01:30:00",
          "2021-06-25 02:30:00",
          "2021-06-25 03:30:00",
          "2021-06-25 04:30:00",
          "2021-06-25 05:30:00",
          "2021-06-25 09:30:00",
          "2021-06-25 10:30:00",
          "2021-06-25 13:30:00",
          "2021-06-25 14:30:00",
          "2021-06-25 15:30:00",
          "2021-06-25 16:30:00",
          "2021-06-25 17:30:00",
          "2021-06-25 18:30:00",
          "2021-06-25 19:30:00",
          "2021-06-25 20:30:00",
          "2021-06-25 21:30:00",
          "2021-06-25 22:30:00",
          "2021-06-25 23:30:00",
          "2021-06-26 00:30:00",
          "2021-06-26 01:30:00",
          "2021-06-26 02:30:00",
          "2021-06-26 03:30:00",
          "2021-06-26 07:30:00",
          "2021-06-26 09:30:00",
          "2021-06-26 10:30:00",
          "2021-06-26 11:30:00",
          "2021-06-26 14:30:00",
          "2021-06-26 15:30:00",
          "2021-06-26 17:30:00",
          "2021-06-26 19:30:00",
          "2021-06-27 11:00:00",
          "2021-06-27 12:00:00",
          "2021-06-27 13:30:00",
          "2021-06-27 14:30:00",
          "2021-06-27 15:30:00",
          "2021-06-27 16:30:00",
          "2021-06-27 17:30:00",
          "2021-06-27 18:30:00",
          "2021-06-27 19:30:00",
          "2021-06-27 20:30:00",
          "2021-06-28 08:30:00",
          "2021-06-28 10:30:00",
          "2021-06-28 13:30:00",
          "2021-06-28 15:30:00",
          "2021-06-28 16:30:00",
          "2021-06-28 17:30:00",
          "2021-06-28 18:30:00",
          "2021-06-28 19:30:00",
          "2021-06-29 09:30:00",
          "2021-06-29 10:30:00",
          "2021-06-29 11:30:00",
          "2021-06-29 12:30:00",
          "2021-06-29 16:30:00",
          "2021-06-29 17:30:00",
          "2021-06-29 18:30:00",
          "2021-06-29 19:30:00",
          "2021-06-30 10:30:00",
          "2021-06-30 11:30:00",
          "2021-06-30 12:30:00",
          "2021-06-30 13:30:00",
          "2021-06-30 14:30:00",
          "2021-06-30 15:30:00",
          "2021-06-30 16:30:00",
          "2021-06-30 17:30:00",
          "2021-06-30 18:30:00",
          "2021-06-30 19:30:00",
          "2021-06-30 20:30:00",
          "2021-06-30 21:30:00",
          "2021-06-30 22:00:00",
          "2021-06-30 23:00:00",
          "2021-06-30 23:30:00",
          "2021-07-01 00:00:00",
          "2021-07-01 00:30:00",
          "2021-07-01 01:00:00",
          "2021-07-01 07:00:00",
          "2021-07-01 09:00:00",
          "2021-07-01 11:00:00",
          "2021-07-01 12:00:00",
          "2021-07-01 13:00:00",
          "2021-07-01 17:00:00",
          "2021-07-01 18:00:00",
          "2021-07-01 19:00:00",
          "2021-07-01 20:00:00",
          "2021-07-01 22:30:00",
          "2021-07-01 23:30:00",
          "2021-07-02 08:30:00",
          "2021-07-02 09:30:00",
          "2021-07-02 12:30:00",
          "2021-07-02 13:30:00",
          "2021-07-02 14:00:00",
          "2021-07-02 14:30:00",
          "2021-07-02 15:30:00",
          "2021-07-02 16:30:00",
          "2021-07-02 17:30:00",
          "2021-07-02 18:30:00",
          "2021-07-02 19:30:00",
          "2021-07-02 20:30:00",
          "2021-07-02 22:30:00",
          "2021-07-03 09:30:00",
          "2021-07-03 10:30:00",
          "2021-07-03 11:30:00",
          "2021-07-03 12:30:00",
          "2021-07-03 13:30:00",
          "2021-07-03 15:30:00",
          "2021-07-03 16:30:00",
          "2021-07-03 17:30:00",
          "2021-07-03 18:30:00",
          "2021-07-03 21:30:00",
          "2021-07-03 22:30:00",
          "2021-07-04 09:30:00",
          "2021-07-04 11:00:00",
          "2021-07-04 11:30:00",
          "2021-07-04 12:30:00",
          "2021-07-04 13:30:00",
          "2021-07-04 14:00:00",
          "2021-07-04 15:00:00",
          "2021-07-04 15:30:00",
          "2021-07-04 16:00:00",
          "2021-07-04 17:00:00",
          "2021-07-04 18:00:00",
          "2021-07-04 19:00:00",
          "2021-07-04 20:00:00",
          "2021-07-04 21:00:00",
          "2021-07-04 22:30:00",
          "2021-07-05 08:00:00",
          "2021-07-05 10:00:00",
          "2021-07-05 13:00:00",
          "2021-07-05 14:00:00",
          "2021-07-05 15:00:00",
          "2021-07-05 16:00:00",
          "2021-07-05 17:00:00",
          "2021-07-05 18:00:00",
          "2021-07-06 10:00:00",
          "2021-07-06 11:00:00",
          "2021-07-06 12:00:00",
          "2021-07-06 12:30:00",
          "2021-07-06 13:30:00",
          "2021-07-06 14:30:00",
          "2021-07-06 15:30:00",
          "2021-07-06 16:00:00",
          "2021-07-06 17:00:00",
          "2021-07-06 17:30:00",
          "2021-07-06 18:30:00",
          "2021-07-06 21:30:00",
          "2021-07-06 22:30:00",
          "2021-07-07 00:30:00",
          "2021-07-07 01:30:00",
          "2021-07-07 02:30:00",
          "2021-07-07 03:30:00",
          "2021-07-07 04:30:00",
          "2021-07-07 07:30:00",
          "2021-07-07 08:00:00",
          "2021-07-07 09:00:00",
          "2021-07-07 13:30:00",
          "2021-07-07 14:00:00",
          "2021-07-07 15:00:00",
          "2021-07-07 15:30:00",
          "2021-07-07 16:00:00",
          "2021-07-07 17:30:00",
          "2021-07-07 18:30:00",
          "2021-07-07 20:00:00",
          "2021-07-08 04:00:00",
          "2021-07-08 07:00:00",
          "2021-07-08 10:00:00",
          "2021-07-08 10:30:00",
          "2021-07-08 11:00:00",
          "2021-07-08 11:30:00",
          "2021-07-08 12:00:00",
          "2021-07-08 12:30:00",
          "2021-07-08 13:00:00",
          "2021-07-08 13:30:00",
          "2021-07-08 14:00:00",
          "2021-07-08 14:30:00",
          "2021-07-08 15:00:00",
          "2021-07-08 15:30:00",
          "2021-07-08 16:00:00",
          "2021-07-08 16:30:00",
          "2021-07-08 17:00:00",
          "2021-07-08 17:30:00",
          "2021-07-08 18:00:00",
          "2021-07-08 19:00:00",
          "2021-07-08 20:00:00",
          "2021-07-09 02:00:00",
          "2021-07-09 08:00:00",
          "2021-07-09 11:00:00",
          "2021-07-09 13:00:00",
          "2021-07-09 13:30:00",
          "2021-07-09 14:00:00",
          "2021-07-09 14:30:00",
          "2021-07-09 15:00:00",
          "2021-07-09 15:30:00",
          "2021-07-09 16:00:00",
          "2021-07-09 16:30:00",
          "2021-07-09 17:00:00",
          "2021-07-09 17:30:00",
          "2021-07-09 18:00:00",
          "2021-07-09 18:30:00",
          "2021-07-09 19:00:00",
          "2021-07-09 19:30:00",
          "2021-07-09 20:00:00",
          "2021-07-09 20:30:00",
          "2021-07-09 21:00:00",
          "2021-07-09 21:30:00",
          "2021-07-09 22:00:00",
          "2021-07-09 22:30:00",
          "2021-07-09 23:00:00",
          "2021-07-09 23:30:00",
          "2021-07-10 00:00:00",
          "2021-07-10 00:30:00",
          "2021-07-10 05:00:00",
          "2021-07-10 06:00:00",
          "2021-07-10 07:30:00",
          "2021-07-10 08:00:00",
          "2021-07-10 08:30:00",
          "2021-07-10 11:00:00",
          "2021-07-10 11:30:00",
          "2021-07-10 12:00:00",
          "2021-07-10 12:30:00",
          "2021-07-10 13:00:00",
          "2021-07-10 13:30:00",
          "2021-07-10 14:00:00",
          "2021-07-10 15:00:00",
          "2021-07-10 15:30:00",
          "2021-07-10 16:00:00",
          "2021-07-10 16:30:00",
          "2021-07-10 17:00:00",
          "2021-07-10 17:30:00",
          "2021-07-10 18:00:00",
          "2021-07-10 18:30:00",
          "2021-07-10 19:30:00",
          "2021-07-10 20:00:00",
          "2021-07-10 20:30:00",
          "2021-07-10 21:00:00",
          "2021-07-10 22:00:00",
          "2021-07-10 22:30:00",
          "2021-07-10 23:00:00",
          "2021-07-11 06:00:00",
          "2021-07-11 08:00:00",
          "2021-07-11 08:30:00",
          "2021-07-11 09:00:00",
          "2021-07-11 10:00:00",
          "2021-07-11 14:00:00",
          "2021-07-11 15:00:00",
          "2021-07-11 15:30:00",
          "2021-07-11 16:30:00",
          "2021-07-11 17:30:00",
          "2021-07-11 18:30:00",
          "2021-07-11 19:30:00",
          "2021-07-11 20:00:00",
          "2021-07-11 20:30:00",
          "2021-07-11 21:00:00",
          "2021-07-11 21:30:00",
          "2021-07-11 22:00:00",
          "2021-07-11 22:30:00",
          "2021-07-11 23:00:00",
          "2021-07-11 23:30:00",
          "2021-07-12 00:00:00",
          "2021-07-12 01:00:00",
          "2021-07-12 01:30:00",
          "2021-07-12 03:30:00",
          "2021-07-12 04:30:00",
          "2021-07-12 05:30:00",
          "2021-07-12 07:30:00",
          "2021-07-12 08:00:00",
          "2021-07-12 08:30:00",
          "2021-07-12 13:00:00",
          "2021-07-12 15:00:00",
          "2021-07-12 16:00:00",
          "2021-07-12 16:30:00",
          "2021-07-12 18:00:00",
          "2021-07-12 22:00:00",
          "2021-07-13 07:30:00",
          "2021-07-13 08:00:00",
          "2021-07-13 09:00:00",
          "2021-07-13 10:00:00",
          "2021-07-13 11:00:00",
          "2021-07-13 12:00:00",
          "2021-07-13 12:30:00",
          "2021-07-13 13:00:00",
          "2021-07-13 13:30:00",
          "2021-07-13 14:00:00",
          "2021-07-13 14:30:00",
          "2021-07-13 15:00:00",
          "2021-07-13 15:30:00",
          "2021-07-13 16:00:00",
          "2021-07-13 16:30:00",
          "2021-07-13 17:00:00",
          "2021-07-13 17:30:00",
          "2021-07-13 18:00:00",
          "2021-07-13 18:30:00",
          "2021-07-13 19:00:00",
          "2021-07-13 19:30:00",
          "2021-07-13 20:30:00",
          "2021-07-13 23:30:00",
          "2021-07-14 01:30:00",
          "2021-07-14 03:30:00",
          "2021-07-14 07:30:00",
          "2021-07-14 10:00:00",
          "2021-07-14 11:00:00",
          "2021-07-14 11:30:00",
          "2021-07-14 12:00:00",
          "2021-07-14 12:30:00",
          "2021-07-14 13:30:00",
          "2021-07-14 14:00:00",
          "2021-07-14 14:30:00",
          "2021-07-14 15:00:00",
          "2021-07-14 16:00:00",
          "2021-07-14 16:30:00",
          "2021-07-14 18:00:00",
          "2021-07-14 19:00:00",
          "2021-07-14 19:30:00",
          "2021-07-14 20:00:00",
          "2021-07-14 20:30:00",
          "2021-07-14 21:00:00",
          "2021-07-14 21:30:00",
          "2021-07-14 22:30:00",
          "2021-07-14 23:00:00",
          "2021-07-14 23:30:00",
          "2021-07-15 00:00:00",
          "2021-07-15 01:00:00",
          "2021-07-15 01:30:00",
          "2021-07-15 04:30:00",
          "2021-07-15 07:30:00"
         ],
         "xaxis": "x",
         "y": [
          35.28,
          35.25,
          35.605000000000004,
          35.89,
          36.105000000000004,
          36.32,
          35.55,
          35.68,
          35.73,
          35.71,
          35.71,
          35.55,
          35.4,
          35.98,
          35.98,
          35.98,
          36.185,
          36.0925,
          36,
          38.52,
          37.52,
          36.18,
          36.12,
          36.08,
          36.085,
          36.09,
          36.16,
          36.33,
          35.89,
          36.04,
          36.27,
          36.73,
          36.84,
          37.03,
          37.09,
          37.09,
          37.09,
          36.480000000000004,
          35.87,
          36.13,
          36.76,
          36.6,
          36.475,
          36.46,
          36.64,
          37,
          37.01,
          37.54,
          37.58,
          37.64,
          37.71,
          37.71,
          37.82,
          37.83,
          37.84,
          37.45,
          37.26,
          37.275,
          37.29,
          37.24,
          34.71,
          34.625,
          34.54,
          34.65,
          34.76,
          34.79,
          34.42,
          34.415,
          34.41,
          34.45,
          34.44,
          34.81,
          35.92,
          35.93,
          35.53,
          35.53,
          35.53,
          35.535,
          35.54,
          35.49,
          35.45,
          35.11,
          35.03,
          34.77,
          34.67,
          34.66,
          34.71,
          34.7,
          34.76,
          34.85,
          34.87,
          34.92,
          34.96,
          34.99,
          35,
          35.04,
          35.06,
          35.08,
          35.105000000000004,
          35.11,
          35.13,
          35.15,
          35.16,
          35.18,
          35.18,
          35.19,
          35.17,
          35.13,
          35.07,
          35.06,
          35.06,
          35.18,
          35.129999999999995,
          35.08,
          34.75,
          34.715,
          34.7225,
          34.73,
          34.83,
          34.91,
          34.97,
          35.03,
          35.05,
          35.04,
          35.06,
          35.08,
          35.1,
          35.15,
          35.17,
          35.2,
          35.24,
          35.26,
          35.29,
          35.265,
          35.24,
          35.25,
          35.1,
          35.195,
          35.182500000000005,
          35.17,
          34.97,
          35.51,
          35.54,
          35.4,
          35.43,
          35.73,
          35.675,
          35.62,
          35.56,
          35.58,
          35.62,
          35.66,
          35.69499999999999,
          35.73,
          35.76,
          35.765,
          35.77,
          35.71,
          35.65,
          35.87,
          35.24,
          35.16,
          35.97,
          36.05,
          36.38,
          36.54,
          36.22,
          36.16,
          36.34,
          36.74,
          35.75,
          35.84,
          37.45,
          37.15,
          37.3,
          37.32,
          37.12,
          36.92,
          36.71,
          36.43,
          36.56,
          36.69,
          36.72,
          36.75,
          36.78,
          36.81,
          36.755,
          36.7,
          36.44,
          36.555,
          36.67,
          36.625,
          36.58,
          36.1,
          36.455,
          36.4875,
          36.52,
          36.42,
          36.39,
          36.51,
          36.63,
          36.37,
          36.35,
          36.385000000000005,
          36.42,
          36.44,
          36.31,
          36.38,
          36.45,
          36.13,
          36.15,
          36.08,
          36.07,
          36.06,
          36.07,
          36.08,
          36.07,
          36.06,
          36.08,
          36.13,
          36.15,
          36.17,
          36.18,
          36.18,
          36.19,
          36.21,
          36.23,
          36.24,
          36.16,
          36.14,
          36.3,
          36.235,
          36.17,
          36.135000000000005,
          36.1,
          35.87,
          35.48,
          35.435,
          35.39,
          35.3,
          35.34,
          35.15,
          35.54,
          35.85,
          35.79,
          35.81,
          35.83,
          35.805,
          35.78,
          35.879999999999995,
          35.98,
          35.97,
          35.96,
          35.7,
          35.65,
          35.98,
          35.97,
          35.97,
          35.62,
          35.61,
          35.55,
          35.2,
          36.44,
          36.66,
          36.76,
          36.52,
          35.86,
          35.38,
          35.24,
          35.365,
          35.49,
          35.49,
          35.49,
          35.519999999999996,
          35.525,
          35.53,
          35.45,
          35.400000000000006,
          35.395,
          35.39,
          35.27,
          35.25,
          35.23,
          35.84,
          35.82,
          36.23,
          35.34,
          35.325,
          35.31,
          35.394999999999996,
          35.48,
          35.495,
          35.51,
          35.480000000000004,
          35.45,
          35.44,
          35.4,
          35.36,
          35.37,
          35.45,
          35.63,
          35.87,
          35.8,
          35.73,
          35.73,
          35.644999999999996,
          35.56,
          35.55,
          35.59,
          35.84,
          35.18,
          35.37,
          35.63,
          35.59,
          35.55,
          35.504999999999995,
          35.5125,
          35.52,
          35.595,
          35.67,
          35.69,
          35.71,
          35.72,
          35.73,
          35.88,
          36.02,
          36.115,
          36.21,
          36.31,
          36.34,
          35.96,
          35.15,
          35.5,
          35.5,
          35.49,
          35.68,
          35.2,
          34.865,
          34.9075,
          34.95,
          34.82,
          34.71,
          35.11,
          35.05,
          34.97,
          34.93,
          34.92,
          34.785,
          34.8375,
          34.89,
          34.97,
          35.18,
          35.63,
          35.57,
          35.51,
          34.81,
          35.15,
          34.99,
          34.92,
          35.07,
          35.35,
          35.34,
          35.345,
          35.35,
          35.54,
          35.51,
          35.52,
          35.63,
          35.65,
          35.67,
          35.69,
          34.22,
          37.71,
          36.34,
          36.28,
          35.07,
          35.17,
          35.32,
          35.33,
          35.34,
          34.9,
          35.5,
          36.1,
          34.85,
          34.91,
          35.88,
          35.6,
          34.89,
          34.89,
          34.92,
          34.95,
          34.97,
          34.99,
          35.02,
          35.93,
          36.31,
          36.29,
          36.14,
          36.09,
          34.82,
          35,
          35.019999999999996,
          35.015,
          35.01,
          34.96,
          36.05,
          35.71,
          35.67,
          35.8,
          35.26,
          35.44,
          35.425,
          35.41,
          35.5,
          34.84,
          34.94,
          35.2,
          35.23,
          35.295,
          35.36,
          35.6,
          34.56,
          36.78,
          37.46,
          37.45,
          37.44,
          37.94,
          38.09,
          36.84,
          35.49,
          35.485,
          35.48,
          36.42,
          36.43,
          35.97,
          35.51,
          35.445,
          35.38,
          35.7,
          36.02,
          35.31,
          39.97,
          39.55,
          39.52,
          39.35,
          39.18,
          35.43,
          35.51,
          35.44,
          35.37,
          35.4,
          35.46,
          35.52,
          35.24,
          35.08,
          35.02,
          34.87,
          39.21,
          39.33,
          35.82,
          35.864999999999995,
          35.91,
          36.12,
          36.02,
          36.025000000000006,
          36.03,
          35.9,
          36.01,
          36.12,
          34.77,
          34.78,
          34.8,
          34.82,
          34.83,
          34.81,
          34.66,
          34.62,
          34.56,
          34.68,
          34.8,
          35.87,
          35.95,
          36.03,
          35.07,
          35.03,
          35.16,
          35.29,
          34.84,
          34.87,
          34.73,
          34.8,
          34.8,
          34.8,
          34.81,
          34.92,
          34.93,
          34.925,
          34.92,
          34.97,
          34.97,
          34.97,
          34.99,
          35.02,
          35.03,
          35.04,
          39.55,
          39.71,
          34.96,
          36.42,
          36.4,
          36.415,
          36.43,
          36.66,
          36.76,
          36.86,
          36.9,
          36.94,
          36.43,
          35.05,
          34.55,
          34.71,
          34.715,
          34.72,
          34.77,
          34.78,
          34.75,
          34.72,
          34.75,
          34.78,
          34.9,
          34.92,
          34.94,
          34.945,
          34.95,
          35.91,
          35.925,
          35.94,
          35.05,
          34.76,
          35.85,
          35.96,
          35.18,
          35.57,
          36.25,
          36.32,
          35.88,
          35.58,
          35,
          34.99,
          39.28,
          39.3,
          39.32,
          39.32,
          39.34,
          39.36,
          39.38,
          39.205,
          39.03,
          36.75,
          35.89,
          36.01,
          36.3,
          36.23,
          35.81,
          36.84,
          36.37,
          36.16,
          35.95,
          36.58,
          39.68,
          38.89,
          34.89,
          35.08,
          35.43,
          35.69,
          35.89,
          36.05,
          36.21,
          36.235,
          36.26,
          36.1,
          36.11,
          36.12,
          36.17,
          36.205,
          36.24,
          36.31,
          36.34,
          39.79,
          39.99,
          37.85,
          37.84,
          36.71,
          35.73,
          35.7,
          35.89,
          35.94,
          36.09,
          36.045,
          36.0625,
          36.08,
          35.77,
          35.92,
          35.94,
          35.88,
          35.88,
          35.855000000000004,
          35.83,
          35.92,
          35.945,
          35.97,
          35.9,
          38.91,
          38.94,
          38.98,
          38.75,
          38.55,
          38.35,
          35.94
         ],
         "yaxis": "y"
        }
       ],
       "layout": {
        "legend": {
         "tracegroupgap": 0
        },
        "margin": {
         "t": 60
        },
        "template": {
         "data": {
          "bar": [
           {
            "error_x": {
             "color": "#2a3f5f"
            },
            "error_y": {
             "color": "#2a3f5f"
            },
            "marker": {
             "line": {
              "color": "#E5ECF6",
              "width": 0.5
             },
             "pattern": {
              "fillmode": "overlay",
              "size": 10,
              "solidity": 0.2
             }
            },
            "type": "bar"
           }
          ],
          "barpolar": [
           {
            "marker": {
             "line": {
              "color": "#E5ECF6",
              "width": 0.5
             },
             "pattern": {
              "fillmode": "overlay",
              "size": 10,
              "solidity": 0.2
             }
            },
            "type": "barpolar"
           }
          ],
          "carpet": [
           {
            "aaxis": {
             "endlinecolor": "#2a3f5f",
             "gridcolor": "white",
             "linecolor": "white",
             "minorgridcolor": "white",
             "startlinecolor": "#2a3f5f"
            },
            "baxis": {
             "endlinecolor": "#2a3f5f",
             "gridcolor": "white",
             "linecolor": "white",
             "minorgridcolor": "white",
             "startlinecolor": "#2a3f5f"
            },
            "type": "carpet"
           }
          ],
          "choropleth": [
           {
            "colorbar": {
             "outlinewidth": 0,
             "ticks": ""
            },
            "type": "choropleth"
           }
          ],
          "contour": [
           {
            "colorbar": {
             "outlinewidth": 0,
             "ticks": ""
            },
            "colorscale": [
             [
              0,
              "#0d0887"
             ],
             [
              0.1111111111111111,
              "#46039f"
             ],
             [
              0.2222222222222222,
              "#7201a8"
             ],
             [
              0.3333333333333333,
              "#9c179e"
             ],
             [
              0.4444444444444444,
              "#bd3786"
             ],
             [
              0.5555555555555556,
              "#d8576b"
             ],
             [
              0.6666666666666666,
              "#ed7953"
             ],
             [
              0.7777777777777778,
              "#fb9f3a"
             ],
             [
              0.8888888888888888,
              "#fdca26"
             ],
             [
              1,
              "#f0f921"
             ]
            ],
            "type": "contour"
           }
          ],
          "contourcarpet": [
           {
            "colorbar": {
             "outlinewidth": 0,
             "ticks": ""
            },
            "type": "contourcarpet"
           }
          ],
          "heatmap": [
           {
            "colorbar": {
             "outlinewidth": 0,
             "ticks": ""
            },
            "colorscale": [
             [
              0,
              "#0d0887"
             ],
             [
              0.1111111111111111,
              "#46039f"
             ],
             [
              0.2222222222222222,
              "#7201a8"
             ],
             [
              0.3333333333333333,
              "#9c179e"
             ],
             [
              0.4444444444444444,
              "#bd3786"
             ],
             [
              0.5555555555555556,
              "#d8576b"
             ],
             [
              0.6666666666666666,
              "#ed7953"
             ],
             [
              0.7777777777777778,
              "#fb9f3a"
             ],
             [
              0.8888888888888888,
              "#fdca26"
             ],
             [
              1,
              "#f0f921"
             ]
            ],
            "type": "heatmap"
           }
          ],
          "heatmapgl": [
           {
            "colorbar": {
             "outlinewidth": 0,
             "ticks": ""
            },
            "colorscale": [
             [
              0,
              "#0d0887"
             ],
             [
              0.1111111111111111,
              "#46039f"
             ],
             [
              0.2222222222222222,
              "#7201a8"
             ],
             [
              0.3333333333333333,
              "#9c179e"
             ],
             [
              0.4444444444444444,
              "#bd3786"
             ],
             [
              0.5555555555555556,
              "#d8576b"
             ],
             [
              0.6666666666666666,
              "#ed7953"
             ],
             [
              0.7777777777777778,
              "#fb9f3a"
             ],
             [
              0.8888888888888888,
              "#fdca26"
             ],
             [
              1,
              "#f0f921"
             ]
            ],
            "type": "heatmapgl"
           }
          ],
          "histogram": [
           {
            "marker": {
             "pattern": {
              "fillmode": "overlay",
              "size": 10,
              "solidity": 0.2
             }
            },
            "type": "histogram"
           }
          ],
          "histogram2d": [
           {
            "colorbar": {
             "outlinewidth": 0,
             "ticks": ""
            },
            "colorscale": [
             [
              0,
              "#0d0887"
             ],
             [
              0.1111111111111111,
              "#46039f"
             ],
             [
              0.2222222222222222,
              "#7201a8"
             ],
             [
              0.3333333333333333,
              "#9c179e"
             ],
             [
              0.4444444444444444,
              "#bd3786"
             ],
             [
              0.5555555555555556,
              "#d8576b"
             ],
             [
              0.6666666666666666,
              "#ed7953"
             ],
             [
              0.7777777777777778,
              "#fb9f3a"
             ],
             [
              0.8888888888888888,
              "#fdca26"
             ],
             [
              1,
              "#f0f921"
             ]
            ],
            "type": "histogram2d"
           }
          ],
          "histogram2dcontour": [
           {
            "colorbar": {
             "outlinewidth": 0,
             "ticks": ""
            },
            "colorscale": [
             [
              0,
              "#0d0887"
             ],
             [
              0.1111111111111111,
              "#46039f"
             ],
             [
              0.2222222222222222,
              "#7201a8"
             ],
             [
              0.3333333333333333,
              "#9c179e"
             ],
             [
              0.4444444444444444,
              "#bd3786"
             ],
             [
              0.5555555555555556,
              "#d8576b"
             ],
             [
              0.6666666666666666,
              "#ed7953"
             ],
             [
              0.7777777777777778,
              "#fb9f3a"
             ],
             [
              0.8888888888888888,
              "#fdca26"
             ],
             [
              1,
              "#f0f921"
             ]
            ],
            "type": "histogram2dcontour"
           }
          ],
          "mesh3d": [
           {
            "colorbar": {
             "outlinewidth": 0,
             "ticks": ""
            },
            "type": "mesh3d"
           }
          ],
          "parcoords": [
           {
            "line": {
             "colorbar": {
              "outlinewidth": 0,
              "ticks": ""
             }
            },
            "type": "parcoords"
           }
          ],
          "pie": [
           {
            "automargin": true,
            "type": "pie"
           }
          ],
          "scatter": [
           {
            "marker": {
             "colorbar": {
              "outlinewidth": 0,
              "ticks": ""
             }
            },
            "type": "scatter"
           }
          ],
          "scatter3d": [
           {
            "line": {
             "colorbar": {
              "outlinewidth": 0,
              "ticks": ""
             }
            },
            "marker": {
             "colorbar": {
              "outlinewidth": 0,
              "ticks": ""
             }
            },
            "type": "scatter3d"
           }
          ],
          "scattercarpet": [
           {
            "marker": {
             "colorbar": {
              "outlinewidth": 0,
              "ticks": ""
             }
            },
            "type": "scattercarpet"
           }
          ],
          "scattergeo": [
           {
            "marker": {
             "colorbar": {
              "outlinewidth": 0,
              "ticks": ""
             }
            },
            "type": "scattergeo"
           }
          ],
          "scattergl": [
           {
            "marker": {
             "colorbar": {
              "outlinewidth": 0,
              "ticks": ""
             }
            },
            "type": "scattergl"
           }
          ],
          "scattermapbox": [
           {
            "marker": {
             "colorbar": {
              "outlinewidth": 0,
              "ticks": ""
             }
            },
            "type": "scattermapbox"
           }
          ],
          "scatterpolar": [
           {
            "marker": {
             "colorbar": {
              "outlinewidth": 0,
              "ticks": ""
             }
            },
            "type": "scatterpolar"
           }
          ],
          "scatterpolargl": [
           {
            "marker": {
             "colorbar": {
              "outlinewidth": 0,
              "ticks": ""
             }
            },
            "type": "scatterpolargl"
           }
          ],
          "scatterternary": [
           {
            "marker": {
             "colorbar": {
              "outlinewidth": 0,
              "ticks": ""
             }
            },
            "type": "scatterternary"
           }
          ],
          "surface": [
           {
            "colorbar": {
             "outlinewidth": 0,
             "ticks": ""
            },
            "colorscale": [
             [
              0,
              "#0d0887"
             ],
             [
              0.1111111111111111,
              "#46039f"
             ],
             [
              0.2222222222222222,
              "#7201a8"
             ],
             [
              0.3333333333333333,
              "#9c179e"
             ],
             [
              0.4444444444444444,
              "#bd3786"
             ],
             [
              0.5555555555555556,
              "#d8576b"
             ],
             [
              0.6666666666666666,
              "#ed7953"
             ],
             [
              0.7777777777777778,
              "#fb9f3a"
             ],
             [
              0.8888888888888888,
              "#fdca26"
             ],
             [
              1,
              "#f0f921"
             ]
            ],
            "type": "surface"
           }
          ],
          "table": [
           {
            "cells": {
             "fill": {
              "color": "#EBF0F8"
             },
             "line": {
              "color": "white"
             }
            },
            "header": {
             "fill": {
              "color": "#C8D4E3"
             },
             "line": {
              "color": "white"
             }
            },
            "type": "table"
           }
          ]
         },
         "layout": {
          "annotationdefaults": {
           "arrowcolor": "#2a3f5f",
           "arrowhead": 0,
           "arrowwidth": 1
          },
          "autotypenumbers": "strict",
          "coloraxis": {
           "colorbar": {
            "outlinewidth": 0,
            "ticks": ""
           }
          },
          "colorscale": {
           "diverging": [
            [
             0,
             "#8e0152"
            ],
            [
             0.1,
             "#c51b7d"
            ],
            [
             0.2,
             "#de77ae"
            ],
            [
             0.3,
             "#f1b6da"
            ],
            [
             0.4,
             "#fde0ef"
            ],
            [
             0.5,
             "#f7f7f7"
            ],
            [
             0.6,
             "#e6f5d0"
            ],
            [
             0.7,
             "#b8e186"
            ],
            [
             0.8,
             "#7fbc41"
            ],
            [
             0.9,
             "#4d9221"
            ],
            [
             1,
             "#276419"
            ]
           ],
           "sequential": [
            [
             0,
             "#0d0887"
            ],
            [
             0.1111111111111111,
             "#46039f"
            ],
            [
             0.2222222222222222,
             "#7201a8"
            ],
            [
             0.3333333333333333,
             "#9c179e"
            ],
            [
             0.4444444444444444,
             "#bd3786"
            ],
            [
             0.5555555555555556,
             "#d8576b"
            ],
            [
             0.6666666666666666,
             "#ed7953"
            ],
            [
             0.7777777777777778,
             "#fb9f3a"
            ],
            [
             0.8888888888888888,
             "#fdca26"
            ],
            [
             1,
             "#f0f921"
            ]
           ],
           "sequentialminus": [
            [
             0,
             "#0d0887"
            ],
            [
             0.1111111111111111,
             "#46039f"
            ],
            [
             0.2222222222222222,
             "#7201a8"
            ],
            [
             0.3333333333333333,
             "#9c179e"
            ],
            [
             0.4444444444444444,
             "#bd3786"
            ],
            [
             0.5555555555555556,
             "#d8576b"
            ],
            [
             0.6666666666666666,
             "#ed7953"
            ],
            [
             0.7777777777777778,
             "#fb9f3a"
            ],
            [
             0.8888888888888888,
             "#fdca26"
            ],
            [
             1,
             "#f0f921"
            ]
           ]
          },
          "colorway": [
           "#636efa",
           "#EF553B",
           "#00cc96",
           "#ab63fa",
           "#FFA15A",
           "#19d3f3",
           "#FF6692",
           "#B6E880",
           "#FF97FF",
           "#FECB52"
          ],
          "font": {
           "color": "#2a3f5f"
          },
          "geo": {
           "bgcolor": "white",
           "lakecolor": "white",
           "landcolor": "#E5ECF6",
           "showlakes": true,
           "showland": true,
           "subunitcolor": "white"
          },
          "hoverlabel": {
           "align": "left"
          },
          "hovermode": "closest",
          "mapbox": {
           "style": "light"
          },
          "paper_bgcolor": "white",
          "plot_bgcolor": "#E5ECF6",
          "polar": {
           "angularaxis": {
            "gridcolor": "white",
            "linecolor": "white",
            "ticks": ""
           },
           "bgcolor": "#E5ECF6",
           "radialaxis": {
            "gridcolor": "white",
            "linecolor": "white",
            "ticks": ""
           }
          },
          "scene": {
           "xaxis": {
            "backgroundcolor": "#E5ECF6",
            "gridcolor": "white",
            "gridwidth": 2,
            "linecolor": "white",
            "showbackground": true,
            "ticks": "",
            "zerolinecolor": "white"
           },
           "yaxis": {
            "backgroundcolor": "#E5ECF6",
            "gridcolor": "white",
            "gridwidth": 2,
            "linecolor": "white",
            "showbackground": true,
            "ticks": "",
            "zerolinecolor": "white"
           },
           "zaxis": {
            "backgroundcolor": "#E5ECF6",
            "gridcolor": "white",
            "gridwidth": 2,
            "linecolor": "white",
            "showbackground": true,
            "ticks": "",
            "zerolinecolor": "white"
           }
          },
          "shapedefaults": {
           "line": {
            "color": "#2a3f5f"
           }
          },
          "ternary": {
           "aaxis": {
            "gridcolor": "white",
            "linecolor": "white",
            "ticks": ""
           },
           "baxis": {
            "gridcolor": "white",
            "linecolor": "white",
            "ticks": ""
           },
           "bgcolor": "#E5ECF6",
           "caxis": {
            "gridcolor": "white",
            "linecolor": "white",
            "ticks": ""
           }
          },
          "title": {
           "x": 0.05
          },
          "xaxis": {
           "automargin": true,
           "gridcolor": "white",
           "linecolor": "white",
           "ticks": "",
           "title": {
            "standoff": 15
           },
           "zerolinecolor": "white",
           "zerolinewidth": 2
          },
          "yaxis": {
           "automargin": true,
           "gridcolor": "white",
           "linecolor": "white",
           "ticks": "",
           "title": {
            "standoff": 15
           },
           "zerolinecolor": "white",
           "zerolinewidth": 2
          }
         }
        },
        "xaxis": {
         "anchor": "y",
         "domain": [
          0,
          1
         ],
         "title": {
          "text": "time"
         }
        },
        "yaxis": {
         "anchor": "x",
         "domain": [
          0,
          1
         ],
         "title": {
          "text": "value"
         }
        }
       }
      },
      "text/html": [
       "<div>                            <div id=\"e9c7d503-0368-4ab8-a9a9-fe6625921ac4\" class=\"plotly-graph-div\" style=\"height:525px; width:100%;\"></div>            <script type=\"text/javascript\">                require([\"plotly\"], function(Plotly) {                    window.PLOTLYENV=window.PLOTLYENV || {};                                    if (document.getElementById(\"e9c7d503-0368-4ab8-a9a9-fe6625921ac4\")) {                    Plotly.newPlot(                        \"e9c7d503-0368-4ab8-a9a9-fe6625921ac4\",                        [{\"hovertemplate\":\"time=%{x}<br>value=%{y}<extra></extra>\",\"legendgroup\":\"\",\"line\":{\"color\":\"#636efa\",\"dash\":\"solid\"},\"mode\":\"lines\",\"name\":\"\",\"orientation\":\"v\",\"showlegend\":false,\"type\":\"scatter\",\"x\":[\"2021-06-10 10:00:00\",\"2021-06-10 10:30:00\",\"2021-06-10 11:00:00\",\"2021-06-10 11:30:00\",\"2021-06-10 13:30:00\",\"2021-06-10 14:00:00\",\"2021-06-10 15:00:00\",\"2021-06-10 15:30:00\",\"2021-06-10 16:00:00\",\"2021-06-10 16:30:00\",\"2021-06-10 17:00:00\",\"2021-06-10 18:00:00\",\"2021-06-10 18:30:00\",\"2021-06-10 19:30:00\",\"2021-06-10 20:30:00\",\"2021-06-10 22:00:00\",\"2021-06-10 23:00:00\",\"2021-06-10 23:30:00\",\"2021-06-11 00:00:00\",\"2021-06-11 01:00:00\",\"2021-06-11 02:00:00\",\"2021-06-11 02:30:00\",\"2021-06-11 03:00:00\",\"2021-06-11 04:30:00\",\"2021-06-11 05:00:00\",\"2021-06-11 05:30:00\",\"2021-06-11 06:00:00\",\"2021-06-11 06:30:00\",\"2021-06-11 07:30:00\",\"2021-06-11 08:00:00\",\"2021-06-11 09:00:00\",\"2021-06-11 09:30:00\",\"2021-06-11 10:00:00\",\"2021-06-11 10:30:00\",\"2021-06-11 11:00:00\",\"2021-06-11 11:30:00\",\"2021-06-11 12:00:00\",\"2021-06-11 13:00:00\",\"2021-06-11 14:30:00\",\"2021-06-11 15:00:00\",\"2021-06-11 15:30:00\",\"2021-06-11 16:00:00\",\"2021-06-11 16:30:00\",\"2021-06-11 17:00:00\",\"2021-06-11 17:30:00\",\"2021-06-11 18:00:00\",\"2021-06-11 19:00:00\",\"2021-06-11 20:00:00\",\"2021-06-11 21:00:00\",\"2021-06-11 22:00:00\",\"2021-06-12 02:00:00\",\"2021-06-12 03:00:00\",\"2021-06-12 04:00:00\",\"2021-06-12 04:30:00\",\"2021-06-12 05:30:00\",\"2021-06-12 06:00:00\",\"2021-06-12 06:30:00\",\"2021-06-12 07:00:00\",\"2021-06-12 07:30:00\",\"2021-06-12 08:00:00\",\"2021-06-12 09:00:00\",\"2021-06-12 10:00:00\",\"2021-06-12 11:00:00\",\"2021-06-12 12:00:00\",\"2021-06-12 13:00:00\",\"2021-06-12 14:00:00\",\"2021-06-12 15:00:00\",\"2021-06-12 16:00:00\",\"2021-06-12 17:00:00\",\"2021-06-12 18:00:00\",\"2021-06-12 19:00:00\",\"2021-06-12 20:00:00\",\"2021-06-12 21:00:00\",\"2021-06-12 22:00:00\",\"2021-06-12 23:00:00\",\"2021-06-13 00:00:00\",\"2021-06-13 01:00:00\",\"2021-06-13 02:00:00\",\"2021-06-13 03:00:00\",\"2021-06-13 07:00:00\",\"2021-06-13 08:00:00\",\"2021-06-13 09:00:00\",\"2021-06-13 10:00:00\",\"2021-06-13 12:00:00\",\"2021-06-13 13:00:00\",\"2021-06-13 14:00:00\",\"2021-06-13 15:00:00\",\"2021-06-13 16:00:00\",\"2021-06-13 17:00:00\",\"2021-06-13 18:00:00\",\"2021-06-13 18:30:00\",\"2021-06-13 19:00:00\",\"2021-06-13 20:00:00\",\"2021-06-13 21:00:00\",\"2021-06-13 22:00:00\",\"2021-06-13 23:00:00\",\"2021-06-14 00:00:00\",\"2021-06-14 00:30:00\",\"2021-06-14 01:00:00\",\"2021-06-14 01:30:00\",\"2021-06-14 02:00:00\",\"2021-06-14 02:30:00\",\"2021-06-14 03:00:00\",\"2021-06-14 03:30:00\",\"2021-06-14 04:00:00\",\"2021-06-14 05:00:00\",\"2021-06-14 05:30:00\",\"2021-06-14 06:00:00\",\"2021-06-14 06:30:00\",\"2021-06-14 07:00:00\",\"2021-06-14 07:30:00\",\"2021-06-14 08:00:00\",\"2021-06-14 10:00:00\",\"2021-06-14 10:30:00\",\"2021-06-14 11:30:00\",\"2021-06-14 12:30:00\",\"2021-06-14 13:30:00\",\"2021-06-14 15:30:00\",\"2021-06-14 16:30:00\",\"2021-06-14 17:30:00\",\"2021-06-14 18:30:00\",\"2021-06-14 19:30:00\",\"2021-06-14 20:00:00\",\"2021-06-14 20:30:00\",\"2021-06-14 21:30:00\",\"2021-06-14 22:00:00\",\"2021-06-14 22:30:00\",\"2021-06-14 23:00:00\",\"2021-06-15 00:00:00\",\"2021-06-15 00:30:00\",\"2021-06-15 01:30:00\",\"2021-06-15 02:30:00\",\"2021-06-15 04:00:00\",\"2021-06-15 05:00:00\",\"2021-06-15 06:00:00\",\"2021-06-15 07:00:00\",\"2021-06-15 07:30:00\",\"2021-06-15 08:30:00\",\"2021-06-15 09:30:00\",\"2021-06-15 10:00:00\",\"2021-06-15 11:00:00\",\"2021-06-15 12:00:00\",\"2021-06-15 13:00:00\",\"2021-06-15 14:00:00\",\"2021-06-15 15:00:00\",\"2021-06-15 16:00:00\",\"2021-06-15 17:00:00\",\"2021-06-15 21:00:00\",\"2021-06-15 22:00:00\",\"2021-06-15 23:00:00\",\"2021-06-16 00:00:00\",\"2021-06-16 01:00:00\",\"2021-06-16 02:00:00\",\"2021-06-16 03:00:00\",\"2021-06-16 04:00:00\",\"2021-06-16 05:00:00\",\"2021-06-16 06:00:00\",\"2021-06-16 07:00:00\",\"2021-06-16 08:00:00\",\"2021-06-16 09:00:00\",\"2021-06-16 11:00:00\",\"2021-06-16 11:30:00\",\"2021-06-16 14:30:00\",\"2021-06-16 15:30:00\",\"2021-06-16 16:30:00\",\"2021-06-16 17:30:00\",\"2021-06-17 06:30:00\",\"2021-06-17 07:30:00\",\"2021-06-17 08:30:00\",\"2021-06-17 09:30:00\",\"2021-06-17 10:30:00\",\"2021-06-17 11:30:00\",\"2021-06-17 17:30:00\",\"2021-06-17 18:30:00\",\"2021-06-17 19:30:00\",\"2021-06-17 20:30:00\",\"2021-06-18 05:30:00\",\"2021-06-18 06:30:00\",\"2021-06-18 07:30:00\",\"2021-06-18 08:30:00\",\"2021-06-18 09:30:00\",\"2021-06-18 10:30:00\",\"2021-06-18 14:30:00\",\"2021-06-18 15:30:00\",\"2021-06-18 16:30:00\",\"2021-06-18 17:30:00\",\"2021-06-18 20:30:00\",\"2021-06-19 03:30:00\",\"2021-06-19 07:30:00\",\"2021-06-19 08:30:00\",\"2021-06-19 09:30:00\",\"2021-06-19 10:30:00\",\"2021-06-19 11:30:00\",\"2021-06-19 12:30:00\",\"2021-06-19 14:30:00\",\"2021-06-19 15:30:00\",\"2021-06-19 16:30:00\",\"2021-06-19 18:30:00\",\"2021-06-19 19:30:00\",\"2021-06-19 20:30:00\",\"2021-06-20 03:30:00\",\"2021-06-20 04:30:00\",\"2021-06-20 05:30:00\",\"2021-06-20 06:30:00\",\"2021-06-20 07:30:00\",\"2021-06-20 08:30:00\",\"2021-06-20 09:30:00\",\"2021-06-20 10:30:00\",\"2021-06-20 11:30:00\",\"2021-06-20 12:30:00\",\"2021-06-20 13:30:00\",\"2021-06-20 14:30:00\",\"2021-06-20 15:30:00\",\"2021-06-20 16:30:00\",\"2021-06-20 17:30:00\",\"2021-06-20 19:30:00\",\"2021-06-20 20:30:00\",\"2021-06-20 22:30:00\",\"2021-06-20 23:00:00\",\"2021-06-21 00:00:00\",\"2021-06-21 00:30:00\",\"2021-06-21 01:00:00\",\"2021-06-21 01:30:00\",\"2021-06-21 02:00:00\",\"2021-06-21 02:30:00\",\"2021-06-21 03:00:00\",\"2021-06-21 03:30:00\",\"2021-06-21 04:30:00\",\"2021-06-21 05:30:00\",\"2021-06-21 06:30:00\",\"2021-06-21 07:30:00\",\"2021-06-21 08:30:00\",\"2021-06-21 09:30:00\",\"2021-06-21 10:30:00\",\"2021-06-21 11:30:00\",\"2021-06-21 14:30:00\",\"2021-06-22 01:30:00\",\"2021-06-22 02:30:00\",\"2021-06-22 03:30:00\",\"2021-06-22 04:30:00\",\"2021-06-22 05:30:00\",\"2021-06-22 06:30:00\",\"2021-06-22 07:30:00\",\"2021-06-22 08:30:00\",\"2021-06-22 09:30:00\",\"2021-06-22 10:30:00\",\"2021-06-22 11:30:00\",\"2021-06-22 12:30:00\",\"2021-06-22 13:30:00\",\"2021-06-22 17:00:00\",\"2021-06-22 18:00:00\",\"2021-06-22 19:00:00\",\"2021-06-22 20:00:00\",\"2021-06-22 21:00:00\",\"2021-06-22 22:00:00\",\"2021-06-22 23:30:00\",\"2021-06-23 00:00:00\",\"2021-06-23 01:00:00\",\"2021-06-23 02:00:00\",\"2021-06-23 03:00:00\",\"2021-06-23 04:00:00\",\"2021-06-23 05:00:00\",\"2021-06-23 09:00:00\",\"2021-06-23 10:00:00\",\"2021-06-23 10:30:00\",\"2021-06-23 11:30:00\",\"2021-06-23 12:30:00\",\"2021-06-23 13:30:00\",\"2021-06-23 14:30:00\",\"2021-06-23 15:30:00\",\"2021-06-23 16:30:00\",\"2021-06-23 17:30:00\",\"2021-06-23 18:30:00\",\"2021-06-23 20:30:00\",\"2021-06-23 22:30:00\",\"2021-06-23 23:30:00\",\"2021-06-24 00:30:00\",\"2021-06-24 01:30:00\",\"2021-06-24 02:30:00\",\"2021-06-24 03:30:00\",\"2021-06-24 04:30:00\",\"2021-06-24 05:30:00\",\"2021-06-24 06:30:00\",\"2021-06-24 09:30:00\",\"2021-06-24 13:30:00\",\"2021-06-24 14:30:00\",\"2021-06-24 15:30:00\",\"2021-06-24 16:30:00\",\"2021-06-24 17:30:00\",\"2021-06-24 18:30:00\",\"2021-06-24 19:30:00\",\"2021-06-24 20:30:00\",\"2021-06-24 21:30:00\",\"2021-06-24 22:30:00\",\"2021-06-24 23:30:00\",\"2021-06-25 00:30:00\",\"2021-06-25 01:30:00\",\"2021-06-25 02:30:00\",\"2021-06-25 03:30:00\",\"2021-06-25 04:30:00\",\"2021-06-25 05:30:00\",\"2021-06-25 09:30:00\",\"2021-06-25 10:30:00\",\"2021-06-25 13:30:00\",\"2021-06-25 14:30:00\",\"2021-06-25 15:30:00\",\"2021-06-25 16:30:00\",\"2021-06-25 17:30:00\",\"2021-06-25 18:30:00\",\"2021-06-25 19:30:00\",\"2021-06-25 20:30:00\",\"2021-06-25 21:30:00\",\"2021-06-25 22:30:00\",\"2021-06-25 23:30:00\",\"2021-06-26 00:30:00\",\"2021-06-26 01:30:00\",\"2021-06-26 02:30:00\",\"2021-06-26 03:30:00\",\"2021-06-26 07:30:00\",\"2021-06-26 09:30:00\",\"2021-06-26 10:30:00\",\"2021-06-26 11:30:00\",\"2021-06-26 14:30:00\",\"2021-06-26 15:30:00\",\"2021-06-26 17:30:00\",\"2021-06-26 19:30:00\",\"2021-06-27 11:00:00\",\"2021-06-27 12:00:00\",\"2021-06-27 13:30:00\",\"2021-06-27 14:30:00\",\"2021-06-27 15:30:00\",\"2021-06-27 16:30:00\",\"2021-06-27 17:30:00\",\"2021-06-27 18:30:00\",\"2021-06-27 19:30:00\",\"2021-06-27 20:30:00\",\"2021-06-28 08:30:00\",\"2021-06-28 10:30:00\",\"2021-06-28 13:30:00\",\"2021-06-28 15:30:00\",\"2021-06-28 16:30:00\",\"2021-06-28 17:30:00\",\"2021-06-28 18:30:00\",\"2021-06-28 19:30:00\",\"2021-06-29 09:30:00\",\"2021-06-29 10:30:00\",\"2021-06-29 11:30:00\",\"2021-06-29 12:30:00\",\"2021-06-29 16:30:00\",\"2021-06-29 17:30:00\",\"2021-06-29 18:30:00\",\"2021-06-29 19:30:00\",\"2021-06-30 10:30:00\",\"2021-06-30 11:30:00\",\"2021-06-30 12:30:00\",\"2021-06-30 13:30:00\",\"2021-06-30 14:30:00\",\"2021-06-30 15:30:00\",\"2021-06-30 16:30:00\",\"2021-06-30 17:30:00\",\"2021-06-30 18:30:00\",\"2021-06-30 19:30:00\",\"2021-06-30 20:30:00\",\"2021-06-30 21:30:00\",\"2021-06-30 22:00:00\",\"2021-06-30 23:00:00\",\"2021-06-30 23:30:00\",\"2021-07-01 00:00:00\",\"2021-07-01 00:30:00\",\"2021-07-01 01:00:00\",\"2021-07-01 07:00:00\",\"2021-07-01 09:00:00\",\"2021-07-01 11:00:00\",\"2021-07-01 12:00:00\",\"2021-07-01 13:00:00\",\"2021-07-01 17:00:00\",\"2021-07-01 18:00:00\",\"2021-07-01 19:00:00\",\"2021-07-01 20:00:00\",\"2021-07-01 22:30:00\",\"2021-07-01 23:30:00\",\"2021-07-02 08:30:00\",\"2021-07-02 09:30:00\",\"2021-07-02 12:30:00\",\"2021-07-02 13:30:00\",\"2021-07-02 14:00:00\",\"2021-07-02 14:30:00\",\"2021-07-02 15:30:00\",\"2021-07-02 16:30:00\",\"2021-07-02 17:30:00\",\"2021-07-02 18:30:00\",\"2021-07-02 19:30:00\",\"2021-07-02 20:30:00\",\"2021-07-02 22:30:00\",\"2021-07-03 09:30:00\",\"2021-07-03 10:30:00\",\"2021-07-03 11:30:00\",\"2021-07-03 12:30:00\",\"2021-07-03 13:30:00\",\"2021-07-03 15:30:00\",\"2021-07-03 16:30:00\",\"2021-07-03 17:30:00\",\"2021-07-03 18:30:00\",\"2021-07-03 21:30:00\",\"2021-07-03 22:30:00\",\"2021-07-04 09:30:00\",\"2021-07-04 11:00:00\",\"2021-07-04 11:30:00\",\"2021-07-04 12:30:00\",\"2021-07-04 13:30:00\",\"2021-07-04 14:00:00\",\"2021-07-04 15:00:00\",\"2021-07-04 15:30:00\",\"2021-07-04 16:00:00\",\"2021-07-04 17:00:00\",\"2021-07-04 18:00:00\",\"2021-07-04 19:00:00\",\"2021-07-04 20:00:00\",\"2021-07-04 21:00:00\",\"2021-07-04 22:30:00\",\"2021-07-05 08:00:00\",\"2021-07-05 10:00:00\",\"2021-07-05 13:00:00\",\"2021-07-05 14:00:00\",\"2021-07-05 15:00:00\",\"2021-07-05 16:00:00\",\"2021-07-05 17:00:00\",\"2021-07-05 18:00:00\",\"2021-07-06 10:00:00\",\"2021-07-06 11:00:00\",\"2021-07-06 12:00:00\",\"2021-07-06 12:30:00\",\"2021-07-06 13:30:00\",\"2021-07-06 14:30:00\",\"2021-07-06 15:30:00\",\"2021-07-06 16:00:00\",\"2021-07-06 17:00:00\",\"2021-07-06 17:30:00\",\"2021-07-06 18:30:00\",\"2021-07-06 21:30:00\",\"2021-07-06 22:30:00\",\"2021-07-07 00:30:00\",\"2021-07-07 01:30:00\",\"2021-07-07 02:30:00\",\"2021-07-07 03:30:00\",\"2021-07-07 04:30:00\",\"2021-07-07 07:30:00\",\"2021-07-07 08:00:00\",\"2021-07-07 09:00:00\",\"2021-07-07 13:30:00\",\"2021-07-07 14:00:00\",\"2021-07-07 15:00:00\",\"2021-07-07 15:30:00\",\"2021-07-07 16:00:00\",\"2021-07-07 17:30:00\",\"2021-07-07 18:30:00\",\"2021-07-07 20:00:00\",\"2021-07-08 04:00:00\",\"2021-07-08 07:00:00\",\"2021-07-08 10:00:00\",\"2021-07-08 10:30:00\",\"2021-07-08 11:00:00\",\"2021-07-08 11:30:00\",\"2021-07-08 12:00:00\",\"2021-07-08 12:30:00\",\"2021-07-08 13:00:00\",\"2021-07-08 13:30:00\",\"2021-07-08 14:00:00\",\"2021-07-08 14:30:00\",\"2021-07-08 15:00:00\",\"2021-07-08 15:30:00\",\"2021-07-08 16:00:00\",\"2021-07-08 16:30:00\",\"2021-07-08 17:00:00\",\"2021-07-08 17:30:00\",\"2021-07-08 18:00:00\",\"2021-07-08 19:00:00\",\"2021-07-08 20:00:00\",\"2021-07-09 02:00:00\",\"2021-07-09 08:00:00\",\"2021-07-09 11:00:00\",\"2021-07-09 13:00:00\",\"2021-07-09 13:30:00\",\"2021-07-09 14:00:00\",\"2021-07-09 14:30:00\",\"2021-07-09 15:00:00\",\"2021-07-09 15:30:00\",\"2021-07-09 16:00:00\",\"2021-07-09 16:30:00\",\"2021-07-09 17:00:00\",\"2021-07-09 17:30:00\",\"2021-07-09 18:00:00\",\"2021-07-09 18:30:00\",\"2021-07-09 19:00:00\",\"2021-07-09 19:30:00\",\"2021-07-09 20:00:00\",\"2021-07-09 20:30:00\",\"2021-07-09 21:00:00\",\"2021-07-09 21:30:00\",\"2021-07-09 22:00:00\",\"2021-07-09 22:30:00\",\"2021-07-09 23:00:00\",\"2021-07-09 23:30:00\",\"2021-07-10 00:00:00\",\"2021-07-10 00:30:00\",\"2021-07-10 05:00:00\",\"2021-07-10 06:00:00\",\"2021-07-10 07:30:00\",\"2021-07-10 08:00:00\",\"2021-07-10 08:30:00\",\"2021-07-10 11:00:00\",\"2021-07-10 11:30:00\",\"2021-07-10 12:00:00\",\"2021-07-10 12:30:00\",\"2021-07-10 13:00:00\",\"2021-07-10 13:30:00\",\"2021-07-10 14:00:00\",\"2021-07-10 15:00:00\",\"2021-07-10 15:30:00\",\"2021-07-10 16:00:00\",\"2021-07-10 16:30:00\",\"2021-07-10 17:00:00\",\"2021-07-10 17:30:00\",\"2021-07-10 18:00:00\",\"2021-07-10 18:30:00\",\"2021-07-10 19:30:00\",\"2021-07-10 20:00:00\",\"2021-07-10 20:30:00\",\"2021-07-10 21:00:00\",\"2021-07-10 22:00:00\",\"2021-07-10 22:30:00\",\"2021-07-10 23:00:00\",\"2021-07-11 06:00:00\",\"2021-07-11 08:00:00\",\"2021-07-11 08:30:00\",\"2021-07-11 09:00:00\",\"2021-07-11 10:00:00\",\"2021-07-11 14:00:00\",\"2021-07-11 15:00:00\",\"2021-07-11 15:30:00\",\"2021-07-11 16:30:00\",\"2021-07-11 17:30:00\",\"2021-07-11 18:30:00\",\"2021-07-11 19:30:00\",\"2021-07-11 20:00:00\",\"2021-07-11 20:30:00\",\"2021-07-11 21:00:00\",\"2021-07-11 21:30:00\",\"2021-07-11 22:00:00\",\"2021-07-11 22:30:00\",\"2021-07-11 23:00:00\",\"2021-07-11 23:30:00\",\"2021-07-12 00:00:00\",\"2021-07-12 01:00:00\",\"2021-07-12 01:30:00\",\"2021-07-12 03:30:00\",\"2021-07-12 04:30:00\",\"2021-07-12 05:30:00\",\"2021-07-12 07:30:00\",\"2021-07-12 08:00:00\",\"2021-07-12 08:30:00\",\"2021-07-12 13:00:00\",\"2021-07-12 15:00:00\",\"2021-07-12 16:00:00\",\"2021-07-12 16:30:00\",\"2021-07-12 18:00:00\",\"2021-07-12 22:00:00\",\"2021-07-13 07:30:00\",\"2021-07-13 08:00:00\",\"2021-07-13 09:00:00\",\"2021-07-13 10:00:00\",\"2021-07-13 11:00:00\",\"2021-07-13 12:00:00\",\"2021-07-13 12:30:00\",\"2021-07-13 13:00:00\",\"2021-07-13 13:30:00\",\"2021-07-13 14:00:00\",\"2021-07-13 14:30:00\",\"2021-07-13 15:00:00\",\"2021-07-13 15:30:00\",\"2021-07-13 16:00:00\",\"2021-07-13 16:30:00\",\"2021-07-13 17:00:00\",\"2021-07-13 17:30:00\",\"2021-07-13 18:00:00\",\"2021-07-13 18:30:00\",\"2021-07-13 19:00:00\",\"2021-07-13 19:30:00\",\"2021-07-13 20:30:00\",\"2021-07-13 23:30:00\",\"2021-07-14 01:30:00\",\"2021-07-14 03:30:00\",\"2021-07-14 07:30:00\",\"2021-07-14 10:00:00\",\"2021-07-14 11:00:00\",\"2021-07-14 11:30:00\",\"2021-07-14 12:00:00\",\"2021-07-14 12:30:00\",\"2021-07-14 13:30:00\",\"2021-07-14 14:00:00\",\"2021-07-14 14:30:00\",\"2021-07-14 15:00:00\",\"2021-07-14 16:00:00\",\"2021-07-14 16:30:00\",\"2021-07-14 18:00:00\",\"2021-07-14 19:00:00\",\"2021-07-14 19:30:00\",\"2021-07-14 20:00:00\",\"2021-07-14 20:30:00\",\"2021-07-14 21:00:00\",\"2021-07-14 21:30:00\",\"2021-07-14 22:30:00\",\"2021-07-14 23:00:00\",\"2021-07-14 23:30:00\",\"2021-07-15 00:00:00\",\"2021-07-15 01:00:00\",\"2021-07-15 01:30:00\",\"2021-07-15 04:30:00\",\"2021-07-15 07:30:00\"],\"xaxis\":\"x\",\"y\":[35.28,35.25,35.605000000000004,35.89,36.105000000000004,36.32,35.55,35.68,35.73,35.71,35.71,35.55,35.4,35.98,35.98,35.98,36.185,36.0925,36.0,38.52,37.52,36.18,36.12,36.08,36.085,36.09,36.16,36.33,35.89,36.04,36.27,36.73,36.84,37.03,37.09,37.09,37.09,36.480000000000004,35.87,36.13,36.76,36.6,36.475,36.46,36.64,37.0,37.01,37.54,37.58,37.64,37.71,37.71,37.82,37.83,37.84,37.45,37.26,37.275,37.29,37.24,34.71,34.625,34.54,34.65,34.76,34.79,34.42,34.415,34.41,34.45,34.44,34.81,35.92,35.93,35.53,35.53,35.53,35.535,35.54,35.49,35.45,35.11,35.03,34.77,34.67,34.66,34.71,34.7,34.76,34.85,34.87,34.92,34.96,34.99,35.0,35.04,35.06,35.08,35.105000000000004,35.11,35.13,35.15,35.16,35.18,35.18,35.19,35.17,35.13,35.07,35.06,35.06,35.18,35.129999999999995,35.08,34.75,34.715,34.7225,34.73,34.83,34.91,34.97,35.03,35.05,35.04,35.06,35.08,35.1,35.15,35.17,35.2,35.24,35.26,35.29,35.265,35.24,35.25,35.1,35.195,35.182500000000005,35.17,34.97,35.51,35.54,35.4,35.43,35.73,35.675,35.62,35.56,35.58,35.62,35.66,35.69499999999999,35.73,35.76,35.765,35.77,35.71,35.65,35.87,35.24,35.16,35.97,36.05,36.38,36.54,36.22,36.16,36.34,36.74,35.75,35.84,37.45,37.15,37.3,37.32,37.12,36.92,36.71,36.43,36.56,36.69,36.72,36.75,36.78,36.81,36.755,36.7,36.44,36.555,36.67,36.625,36.58,36.1,36.455,36.4875,36.52,36.42,36.39,36.51,36.63,36.37,36.35,36.385000000000005,36.42,36.44,36.31,36.38,36.45,36.13,36.15,36.08,36.07,36.06,36.07,36.08,36.07,36.06,36.08,36.13,36.15,36.17,36.18,36.18,36.19,36.21,36.23,36.24,36.16,36.14,36.3,36.235,36.17,36.135000000000005,36.1,35.87,35.48,35.435,35.39,35.3,35.34,35.15,35.54,35.85,35.79,35.81,35.83,35.805,35.78,35.879999999999995,35.98,35.97,35.96,35.7,35.65,35.98,35.97,35.97,35.62,35.61,35.55,35.2,36.44,36.66,36.76,36.52,35.86,35.38,35.24,35.365,35.49,35.49,35.49,35.519999999999996,35.525,35.53,35.45,35.400000000000006,35.395,35.39,35.27,35.25,35.23,35.84,35.82,36.23,35.34,35.325,35.31,35.394999999999996,35.48,35.495,35.51,35.480000000000004,35.45,35.44,35.4,35.36,35.37,35.45,35.63,35.87,35.8,35.73,35.73,35.644999999999996,35.56,35.55,35.59,35.84,35.18,35.37,35.63,35.59,35.55,35.504999999999995,35.5125,35.52,35.595,35.67,35.69,35.71,35.72,35.73,35.88,36.02,36.115,36.21,36.31,36.34,35.96,35.15,35.5,35.5,35.49,35.68,35.2,34.865,34.9075,34.95,34.82,34.71,35.11,35.05,34.97,34.93,34.92,34.785,34.8375,34.89,34.97,35.18,35.63,35.57,35.51,34.81,35.15,34.99,34.92,35.07,35.35,35.34,35.345,35.35,35.54,35.51,35.52,35.63,35.65,35.67,35.69,34.22,37.71,36.34,36.28,35.07,35.17,35.32,35.33,35.34,34.9,35.5,36.1,34.85,34.91,35.88,35.6,34.89,34.89,34.92,34.95,34.97,34.99,35.02,35.93,36.31,36.29,36.14,36.09,34.82,35.0,35.019999999999996,35.015,35.01,34.96,36.05,35.71,35.67,35.8,35.26,35.44,35.425,35.41,35.5,34.84,34.94,35.2,35.23,35.295,35.36,35.6,34.56,36.78,37.46,37.45,37.44,37.94,38.09,36.84,35.49,35.485,35.48,36.42,36.43,35.97,35.51,35.445,35.38,35.7,36.02,35.31,39.97,39.55,39.52,39.35,39.18,35.43,35.51,35.44,35.37,35.4,35.46,35.52,35.24,35.08,35.02,34.87,39.21,39.33,35.82,35.864999999999995,35.91,36.12,36.02,36.025000000000006,36.03,35.9,36.01,36.12,34.77,34.78,34.8,34.82,34.83,34.81,34.66,34.62,34.56,34.68,34.8,35.87,35.95,36.03,35.07,35.03,35.16,35.29,34.84,34.87,34.73,34.8,34.8,34.8,34.81,34.92,34.93,34.925,34.92,34.97,34.97,34.97,34.99,35.02,35.03,35.04,39.55,39.71,34.96,36.42,36.4,36.415,36.43,36.66,36.76,36.86,36.9,36.94,36.43,35.05,34.55,34.71,34.715,34.72,34.77,34.78,34.75,34.72,34.75,34.78,34.9,34.92,34.94,34.945,34.95,35.91,35.925,35.94,35.05,34.76,35.85,35.96,35.18,35.57,36.25,36.32,35.88,35.58,35.0,34.99,39.28,39.3,39.32,39.32,39.34,39.36,39.38,39.205,39.03,36.75,35.89,36.01,36.3,36.23,35.81,36.84,36.37,36.16,35.95,36.58,39.68,38.89,34.89,35.08,35.43,35.69,35.89,36.05,36.21,36.235,36.26,36.1,36.11,36.12,36.17,36.205,36.24,36.31,36.34,39.79,39.99,37.85,37.84,36.71,35.73,35.7,35.89,35.94,36.09,36.045,36.0625,36.08,35.77,35.92,35.94,35.88,35.88,35.855000000000004,35.83,35.92,35.945,35.97,35.9,38.91,38.94,38.98,38.75,38.55,38.35,35.94],\"yaxis\":\"y\"}],                        {\"legend\":{\"tracegroupgap\":0},\"margin\":{\"t\":60},\"template\":{\"data\":{\"bar\":[{\"error_x\":{\"color\":\"#2a3f5f\"},\"error_y\":{\"color\":\"#2a3f5f\"},\"marker\":{\"line\":{\"color\":\"#E5ECF6\",\"width\":0.5},\"pattern\":{\"fillmode\":\"overlay\",\"size\":10,\"solidity\":0.2}},\"type\":\"bar\"}],\"barpolar\":[{\"marker\":{\"line\":{\"color\":\"#E5ECF6\",\"width\":0.5},\"pattern\":{\"fillmode\":\"overlay\",\"size\":10,\"solidity\":0.2}},\"type\":\"barpolar\"}],\"carpet\":[{\"aaxis\":{\"endlinecolor\":\"#2a3f5f\",\"gridcolor\":\"white\",\"linecolor\":\"white\",\"minorgridcolor\":\"white\",\"startlinecolor\":\"#2a3f5f\"},\"baxis\":{\"endlinecolor\":\"#2a3f5f\",\"gridcolor\":\"white\",\"linecolor\":\"white\",\"minorgridcolor\":\"white\",\"startlinecolor\":\"#2a3f5f\"},\"type\":\"carpet\"}],\"choropleth\":[{\"colorbar\":{\"outlinewidth\":0,\"ticks\":\"\"},\"type\":\"choropleth\"}],\"contour\":[{\"colorbar\":{\"outlinewidth\":0,\"ticks\":\"\"},\"colorscale\":[[0.0,\"#0d0887\"],[0.1111111111111111,\"#46039f\"],[0.2222222222222222,\"#7201a8\"],[0.3333333333333333,\"#9c179e\"],[0.4444444444444444,\"#bd3786\"],[0.5555555555555556,\"#d8576b\"],[0.6666666666666666,\"#ed7953\"],[0.7777777777777778,\"#fb9f3a\"],[0.8888888888888888,\"#fdca26\"],[1.0,\"#f0f921\"]],\"type\":\"contour\"}],\"contourcarpet\":[{\"colorbar\":{\"outlinewidth\":0,\"ticks\":\"\"},\"type\":\"contourcarpet\"}],\"heatmap\":[{\"colorbar\":{\"outlinewidth\":0,\"ticks\":\"\"},\"colorscale\":[[0.0,\"#0d0887\"],[0.1111111111111111,\"#46039f\"],[0.2222222222222222,\"#7201a8\"],[0.3333333333333333,\"#9c179e\"],[0.4444444444444444,\"#bd3786\"],[0.5555555555555556,\"#d8576b\"],[0.6666666666666666,\"#ed7953\"],[0.7777777777777778,\"#fb9f3a\"],[0.8888888888888888,\"#fdca26\"],[1.0,\"#f0f921\"]],\"type\":\"heatmap\"}],\"heatmapgl\":[{\"colorbar\":{\"outlinewidth\":0,\"ticks\":\"\"},\"colorscale\":[[0.0,\"#0d0887\"],[0.1111111111111111,\"#46039f\"],[0.2222222222222222,\"#7201a8\"],[0.3333333333333333,\"#9c179e\"],[0.4444444444444444,\"#bd3786\"],[0.5555555555555556,\"#d8576b\"],[0.6666666666666666,\"#ed7953\"],[0.7777777777777778,\"#fb9f3a\"],[0.8888888888888888,\"#fdca26\"],[1.0,\"#f0f921\"]],\"type\":\"heatmapgl\"}],\"histogram\":[{\"marker\":{\"pattern\":{\"fillmode\":\"overlay\",\"size\":10,\"solidity\":0.2}},\"type\":\"histogram\"}],\"histogram2d\":[{\"colorbar\":{\"outlinewidth\":0,\"ticks\":\"\"},\"colorscale\":[[0.0,\"#0d0887\"],[0.1111111111111111,\"#46039f\"],[0.2222222222222222,\"#7201a8\"],[0.3333333333333333,\"#9c179e\"],[0.4444444444444444,\"#bd3786\"],[0.5555555555555556,\"#d8576b\"],[0.6666666666666666,\"#ed7953\"],[0.7777777777777778,\"#fb9f3a\"],[0.8888888888888888,\"#fdca26\"],[1.0,\"#f0f921\"]],\"type\":\"histogram2d\"}],\"histogram2dcontour\":[{\"colorbar\":{\"outlinewidth\":0,\"ticks\":\"\"},\"colorscale\":[[0.0,\"#0d0887\"],[0.1111111111111111,\"#46039f\"],[0.2222222222222222,\"#7201a8\"],[0.3333333333333333,\"#9c179e\"],[0.4444444444444444,\"#bd3786\"],[0.5555555555555556,\"#d8576b\"],[0.6666666666666666,\"#ed7953\"],[0.7777777777777778,\"#fb9f3a\"],[0.8888888888888888,\"#fdca26\"],[1.0,\"#f0f921\"]],\"type\":\"histogram2dcontour\"}],\"mesh3d\":[{\"colorbar\":{\"outlinewidth\":0,\"ticks\":\"\"},\"type\":\"mesh3d\"}],\"parcoords\":[{\"line\":{\"colorbar\":{\"outlinewidth\":0,\"ticks\":\"\"}},\"type\":\"parcoords\"}],\"pie\":[{\"automargin\":true,\"type\":\"pie\"}],\"scatter\":[{\"marker\":{\"colorbar\":{\"outlinewidth\":0,\"ticks\":\"\"}},\"type\":\"scatter\"}],\"scatter3d\":[{\"line\":{\"colorbar\":{\"outlinewidth\":0,\"ticks\":\"\"}},\"marker\":{\"colorbar\":{\"outlinewidth\":0,\"ticks\":\"\"}},\"type\":\"scatter3d\"}],\"scattercarpet\":[{\"marker\":{\"colorbar\":{\"outlinewidth\":0,\"ticks\":\"\"}},\"type\":\"scattercarpet\"}],\"scattergeo\":[{\"marker\":{\"colorbar\":{\"outlinewidth\":0,\"ticks\":\"\"}},\"type\":\"scattergeo\"}],\"scattergl\":[{\"marker\":{\"colorbar\":{\"outlinewidth\":0,\"ticks\":\"\"}},\"type\":\"scattergl\"}],\"scattermapbox\":[{\"marker\":{\"colorbar\":{\"outlinewidth\":0,\"ticks\":\"\"}},\"type\":\"scattermapbox\"}],\"scatterpolar\":[{\"marker\":{\"colorbar\":{\"outlinewidth\":0,\"ticks\":\"\"}},\"type\":\"scatterpolar\"}],\"scatterpolargl\":[{\"marker\":{\"colorbar\":{\"outlinewidth\":0,\"ticks\":\"\"}},\"type\":\"scatterpolargl\"}],\"scatterternary\":[{\"marker\":{\"colorbar\":{\"outlinewidth\":0,\"ticks\":\"\"}},\"type\":\"scatterternary\"}],\"surface\":[{\"colorbar\":{\"outlinewidth\":0,\"ticks\":\"\"},\"colorscale\":[[0.0,\"#0d0887\"],[0.1111111111111111,\"#46039f\"],[0.2222222222222222,\"#7201a8\"],[0.3333333333333333,\"#9c179e\"],[0.4444444444444444,\"#bd3786\"],[0.5555555555555556,\"#d8576b\"],[0.6666666666666666,\"#ed7953\"],[0.7777777777777778,\"#fb9f3a\"],[0.8888888888888888,\"#fdca26\"],[1.0,\"#f0f921\"]],\"type\":\"surface\"}],\"table\":[{\"cells\":{\"fill\":{\"color\":\"#EBF0F8\"},\"line\":{\"color\":\"white\"}},\"header\":{\"fill\":{\"color\":\"#C8D4E3\"},\"line\":{\"color\":\"white\"}},\"type\":\"table\"}]},\"layout\":{\"annotationdefaults\":{\"arrowcolor\":\"#2a3f5f\",\"arrowhead\":0,\"arrowwidth\":1},\"autotypenumbers\":\"strict\",\"coloraxis\":{\"colorbar\":{\"outlinewidth\":0,\"ticks\":\"\"}},\"colorscale\":{\"diverging\":[[0,\"#8e0152\"],[0.1,\"#c51b7d\"],[0.2,\"#de77ae\"],[0.3,\"#f1b6da\"],[0.4,\"#fde0ef\"],[0.5,\"#f7f7f7\"],[0.6,\"#e6f5d0\"],[0.7,\"#b8e186\"],[0.8,\"#7fbc41\"],[0.9,\"#4d9221\"],[1,\"#276419\"]],\"sequential\":[[0.0,\"#0d0887\"],[0.1111111111111111,\"#46039f\"],[0.2222222222222222,\"#7201a8\"],[0.3333333333333333,\"#9c179e\"],[0.4444444444444444,\"#bd3786\"],[0.5555555555555556,\"#d8576b\"],[0.6666666666666666,\"#ed7953\"],[0.7777777777777778,\"#fb9f3a\"],[0.8888888888888888,\"#fdca26\"],[1.0,\"#f0f921\"]],\"sequentialminus\":[[0.0,\"#0d0887\"],[0.1111111111111111,\"#46039f\"],[0.2222222222222222,\"#7201a8\"],[0.3333333333333333,\"#9c179e\"],[0.4444444444444444,\"#bd3786\"],[0.5555555555555556,\"#d8576b\"],[0.6666666666666666,\"#ed7953\"],[0.7777777777777778,\"#fb9f3a\"],[0.8888888888888888,\"#fdca26\"],[1.0,\"#f0f921\"]]},\"colorway\":[\"#636efa\",\"#EF553B\",\"#00cc96\",\"#ab63fa\",\"#FFA15A\",\"#19d3f3\",\"#FF6692\",\"#B6E880\",\"#FF97FF\",\"#FECB52\"],\"font\":{\"color\":\"#2a3f5f\"},\"geo\":{\"bgcolor\":\"white\",\"lakecolor\":\"white\",\"landcolor\":\"#E5ECF6\",\"showlakes\":true,\"showland\":true,\"subunitcolor\":\"white\"},\"hoverlabel\":{\"align\":\"left\"},\"hovermode\":\"closest\",\"mapbox\":{\"style\":\"light\"},\"paper_bgcolor\":\"white\",\"plot_bgcolor\":\"#E5ECF6\",\"polar\":{\"angularaxis\":{\"gridcolor\":\"white\",\"linecolor\":\"white\",\"ticks\":\"\"},\"bgcolor\":\"#E5ECF6\",\"radialaxis\":{\"gridcolor\":\"white\",\"linecolor\":\"white\",\"ticks\":\"\"}},\"scene\":{\"xaxis\":{\"backgroundcolor\":\"#E5ECF6\",\"gridcolor\":\"white\",\"gridwidth\":2,\"linecolor\":\"white\",\"showbackground\":true,\"ticks\":\"\",\"zerolinecolor\":\"white\"},\"yaxis\":{\"backgroundcolor\":\"#E5ECF6\",\"gridcolor\":\"white\",\"gridwidth\":2,\"linecolor\":\"white\",\"showbackground\":true,\"ticks\":\"\",\"zerolinecolor\":\"white\"},\"zaxis\":{\"backgroundcolor\":\"#E5ECF6\",\"gridcolor\":\"white\",\"gridwidth\":2,\"linecolor\":\"white\",\"showbackground\":true,\"ticks\":\"\",\"zerolinecolor\":\"white\"}},\"shapedefaults\":{\"line\":{\"color\":\"#2a3f5f\"}},\"ternary\":{\"aaxis\":{\"gridcolor\":\"white\",\"linecolor\":\"white\",\"ticks\":\"\"},\"baxis\":{\"gridcolor\":\"white\",\"linecolor\":\"white\",\"ticks\":\"\"},\"bgcolor\":\"#E5ECF6\",\"caxis\":{\"gridcolor\":\"white\",\"linecolor\":\"white\",\"ticks\":\"\"}},\"title\":{\"x\":0.05},\"xaxis\":{\"automargin\":true,\"gridcolor\":\"white\",\"linecolor\":\"white\",\"ticks\":\"\",\"title\":{\"standoff\":15},\"zerolinecolor\":\"white\",\"zerolinewidth\":2},\"yaxis\":{\"automargin\":true,\"gridcolor\":\"white\",\"linecolor\":\"white\",\"ticks\":\"\",\"title\":{\"standoff\":15},\"zerolinecolor\":\"white\",\"zerolinewidth\":2}}},\"xaxis\":{\"anchor\":\"y\",\"domain\":[0.0,1.0],\"title\":{\"text\":\"time\"}},\"yaxis\":{\"anchor\":\"x\",\"domain\":[0.0,1.0],\"title\":{\"text\":\"value\"}}},                        {\"responsive\": true}                    ).then(function(){\n",
       "                            \n",
       "var gd = document.getElementById('e9c7d503-0368-4ab8-a9a9-fe6625921ac4');\n",
       "var x = new MutationObserver(function (mutations, observer) {{\n",
       "        var display = window.getComputedStyle(gd).display;\n",
       "        if (!display || display === 'none') {{\n",
       "            console.log([gd, 'removed!']);\n",
       "            Plotly.purge(gd);\n",
       "            observer.disconnect();\n",
       "        }}\n",
       "}});\n",
       "\n",
       "// Listen for the removal of the full notebook cells\n",
       "var notebookContainer = gd.closest('#notebook-container');\n",
       "if (notebookContainer) {{\n",
       "    x.observe(notebookContainer, {childList: true});\n",
       "}}\n",
       "\n",
       "// Listen for the clearing of the current output cell\n",
       "var outputEl = gd.closest('.output');\n",
       "if (outputEl) {{\n",
       "    x.observe(outputEl, {childList: true});\n",
       "}}\n",
       "\n",
       "                        })                };                });            </script>        </div>"
      ]
     },
     "metadata": {},
     "output_type": "display_data"
    },
    {
     "name": "stdout",
     "output_type": "stream",
     "text": [
      "21-1-1\n"
     ]
    }
   ],
   "source": [
    "m = 21\n",
    "n = 1\n",
    "s = 1\n",
    "\n",
    "df=pd.read_csv(r'C:\\Users\\Tosha.E.T\\Desktop\\Sinotech\\716\\{0}-{1}-{2}_clean.csv'.format(m,n,s))\n",
    "df=df[df['value']>34]\n",
    "df=df[df['value']<40]\n",
    "df = df.reset_index()\n",
    "\n",
    "i = 1\n",
    "while i<(len(df[\"value\"])-1):\n",
    "    a = df[\"value\"][i-1]\n",
    "    b = df[\"value\"][i]\n",
    "    c = df[\"value\"][i+1]\n",
    "    if (abs(b-c)+abs(a-b))/2>abs(c-a)*1.5:\n",
    "        df[\"value\"][i] = (a+c)/2\n",
    "        i=i+1\n",
    "    else:\n",
    "        i=i+1\n",
    "df.to_csv(r'C:\\Users\\Tosha.E.T\\Desktop\\Sinotech\\716\\{0}-{1}-{2}_cut.csv'.format(m,n,s))\n",
    "print(\"cut save!!\")\n",
    "#---------------------------------------------------\n",
    "fig = px.line(df, y='value', x='time')        \n",
    "fig.show()\n",
    "print(\"{0}-{1}-{2}\".format(m,n,s))"
   ]
  },
  {
   "cell_type": "code",
   "execution_count": 23,
   "id": "together-enemy",
   "metadata": {},
   "outputs": [
    {
     "name": "stdout",
     "output_type": "stream",
     "text": [
      "cut save!!\n"
     ]
    },
    {
     "name": "stderr",
     "output_type": "stream",
     "text": [
      "<ipython-input-23-98cd9de9bf73>:16: SettingWithCopyWarning:\n",
      "\n",
      "\n",
      "A value is trying to be set on a copy of a slice from a DataFrame\n",
      "\n",
      "See the caveats in the documentation: https://pandas.pydata.org/pandas-docs/stable/user_guide/indexing.html#returning-a-view-versus-a-copy\n",
      "\n"
     ]
    },
    {
     "data": {
      "application/vnd.plotly.v1+json": {
       "config": {
        "plotlyServerURL": "https://plot.ly"
       },
       "data": [
        {
         "hovertemplate": "time=%{x}<br>value=%{y}<extra></extra>",
         "legendgroup": "",
         "line": {
          "color": "#636efa",
          "dash": "solid"
         },
         "mode": "lines",
         "name": "",
         "orientation": "v",
         "showlegend": false,
         "type": "scatter",
         "x": [
          "2021-06-10 10:00:00",
          "2021-06-10 10:30:00",
          "2021-06-10 11:30:00",
          "2021-06-10 13:00:00",
          "2021-06-10 13:30:00",
          "2021-06-10 14:00:00",
          "2021-06-10 14:30:00",
          "2021-06-10 15:00:00",
          "2021-06-10 15:30:00",
          "2021-06-10 16:00:00",
          "2021-06-10 16:30:00",
          "2021-06-10 17:00:00",
          "2021-06-10 18:00:00",
          "2021-06-10 18:30:00",
          "2021-06-10 19:30:00",
          "2021-06-10 20:00:00",
          "2021-06-10 21:00:00",
          "2021-06-10 22:00:00",
          "2021-06-10 23:00:00",
          "2021-06-10 23:30:00",
          "2021-06-11 00:00:00",
          "2021-06-11 01:00:00",
          "2021-06-11 01:30:00",
          "2021-06-11 02:00:00",
          "2021-06-11 02:30:00",
          "2021-06-11 03:00:00",
          "2021-06-11 04:30:00",
          "2021-06-11 05:00:00",
          "2021-06-11 05:30:00",
          "2021-06-11 06:00:00",
          "2021-06-11 06:30:00",
          "2021-06-11 07:30:00",
          "2021-06-11 08:00:00",
          "2021-06-11 09:00:00",
          "2021-06-11 10:00:00",
          "2021-06-11 11:00:00",
          "2021-06-11 12:30:00",
          "2021-06-11 14:30:00",
          "2021-06-11 15:00:00",
          "2021-06-11 16:00:00",
          "2021-06-11 17:00:00",
          "2021-06-11 18:00:00",
          "2021-06-11 19:00:00",
          "2021-06-11 20:00:00",
          "2021-06-11 21:00:00",
          "2021-06-11 22:00:00",
          "2021-06-11 23:00:00",
          "2021-06-12 00:00:00",
          "2021-06-12 01:00:00",
          "2021-06-12 02:00:00",
          "2021-06-12 03:00:00",
          "2021-06-12 04:00:00",
          "2021-06-12 05:00:00",
          "2021-06-12 06:00:00",
          "2021-06-12 07:00:00",
          "2021-06-12 08:00:00",
          "2021-06-12 09:00:00",
          "2021-06-12 10:00:00",
          "2021-06-12 11:00:00",
          "2021-06-12 12:00:00",
          "2021-06-12 13:00:00",
          "2021-06-12 14:00:00",
          "2021-06-12 14:30:00",
          "2021-06-12 15:00:00",
          "2021-06-12 15:30:00",
          "2021-06-12 16:30:00",
          "2021-06-12 17:30:00",
          "2021-06-12 18:00:00",
          "2021-06-12 18:30:00",
          "2021-06-12 19:00:00",
          "2021-06-12 21:00:00",
          "2021-06-12 22:00:00",
          "2021-06-12 22:30:00",
          "2021-06-12 23:30:00",
          "2021-06-13 01:30:00",
          "2021-06-13 02:30:00",
          "2021-06-13 06:30:00",
          "2021-06-13 07:00:00",
          "2021-06-13 08:00:00",
          "2021-06-13 09:00:00",
          "2021-06-13 10:00:00",
          "2021-06-13 10:30:00",
          "2021-06-13 11:30:00",
          "2021-06-13 12:30:00",
          "2021-06-13 13:30:00",
          "2021-06-13 14:30:00",
          "2021-06-13 15:30:00",
          "2021-06-13 16:00:00",
          "2021-06-13 17:00:00",
          "2021-06-13 17:30:00",
          "2021-06-13 18:30:00",
          "2021-06-13 19:00:00",
          "2021-06-13 19:30:00",
          "2021-06-13 20:30:00",
          "2021-06-13 21:30:00",
          "2021-06-13 22:30:00",
          "2021-06-13 23:00:00",
          "2021-06-13 23:30:00",
          "2021-06-14 00:00:00",
          "2021-06-14 00:30:00",
          "2021-06-14 01:00:00",
          "2021-06-14 01:30:00",
          "2021-06-14 02:00:00",
          "2021-06-14 02:30:00",
          "2021-06-14 03:00:00",
          "2021-06-14 03:30:00",
          "2021-06-14 04:00:00",
          "2021-06-14 05:00:00",
          "2021-06-14 05:30:00",
          "2021-06-14 06:00:00",
          "2021-06-14 06:30:00",
          "2021-06-14 07:30:00",
          "2021-06-14 08:00:00",
          "2021-06-14 09:30:00",
          "2021-06-14 10:00:00",
          "2021-06-14 11:00:00",
          "2021-06-14 12:30:00",
          "2021-06-14 13:00:00",
          "2021-06-14 13:30:00",
          "2021-06-14 14:00:00",
          "2021-06-14 15:00:00",
          "2021-06-14 16:00:00",
          "2021-06-14 16:30:00",
          "2021-06-14 17:30:00",
          "2021-06-14 18:00:00",
          "2021-06-14 18:30:00",
          "2021-06-14 19:00:00",
          "2021-06-14 20:00:00",
          "2021-06-14 21:30:00",
          "2021-06-14 22:30:00",
          "2021-06-14 23:30:00",
          "2021-06-15 00:00:00",
          "2021-06-15 01:00:00",
          "2021-06-15 01:30:00",
          "2021-06-15 02:00:00",
          "2021-06-15 02:30:00",
          "2021-06-15 03:30:00",
          "2021-06-15 04:00:00",
          "2021-06-15 04:30:00",
          "2021-06-15 05:30:00",
          "2021-06-15 06:30:00",
          "2021-06-15 07:00:00",
          "2021-06-15 08:00:00",
          "2021-06-15 08:30:00",
          "2021-06-15 09:30:00",
          "2021-06-15 10:00:00",
          "2021-06-15 10:30:00",
          "2021-06-15 11:30:00",
          "2021-06-15 12:30:00",
          "2021-06-15 15:30:00",
          "2021-06-15 16:00:00",
          "2021-06-15 16:30:00",
          "2021-06-15 18:00:00",
          "2021-06-15 18:30:00",
          "2021-06-15 19:30:00",
          "2021-06-15 21:00:00",
          "2021-06-15 22:00:00",
          "2021-06-15 23:00:00",
          "2021-06-15 23:30:00",
          "2021-06-16 00:00:00",
          "2021-06-16 00:30:00",
          "2021-06-16 01:00:00",
          "2021-06-16 01:30:00",
          "2021-06-16 02:00:00",
          "2021-06-16 02:30:00",
          "2021-06-16 06:30:00",
          "2021-06-16 07:00:00",
          "2021-06-16 08:00:00",
          "2021-06-16 09:00:00",
          "2021-06-16 09:30:00",
          "2021-06-16 10:30:00",
          "2021-06-16 11:00:00",
          "2021-06-16 12:00:00",
          "2021-06-16 15:00:00",
          "2021-06-16 16:00:00",
          "2021-06-16 17:00:00",
          "2021-06-16 19:00:00",
          "2021-06-16 20:00:00",
          "2021-06-16 21:00:00",
          "2021-06-16 21:30:00",
          "2021-06-16 22:00:00",
          "2021-06-16 22:30:00",
          "2021-06-16 23:00:00",
          "2021-06-17 00:00:00",
          "2021-06-17 01:00:00",
          "2021-06-17 02:00:00",
          "2021-06-17 02:30:00",
          "2021-06-17 03:00:00",
          "2021-06-17 03:30:00",
          "2021-06-17 04:00:00",
          "2021-06-17 04:30:00",
          "2021-06-17 05:00:00",
          "2021-06-17 05:30:00",
          "2021-06-17 06:00:00",
          "2021-06-17 06:30:00",
          "2021-06-17 07:00:00",
          "2021-06-17 08:00:00",
          "2021-06-17 09:00:00",
          "2021-06-17 10:00:00",
          "2021-06-17 11:00:00",
          "2021-06-17 12:00:00",
          "2021-06-17 12:30:00",
          "2021-06-17 13:00:00",
          "2021-06-17 13:30:00",
          "2021-06-17 14:00:00",
          "2021-06-17 14:30:00",
          "2021-06-17 15:00:00",
          "2021-06-17 15:30:00",
          "2021-06-17 16:00:00",
          "2021-06-17 18:30:00",
          "2021-06-17 19:30:00",
          "2021-06-17 20:30:00",
          "2021-06-17 21:30:00",
          "2021-06-17 22:00:00",
          "2021-06-17 23:00:00",
          "2021-06-18 00:00:00",
          "2021-06-18 01:00:00",
          "2021-06-18 02:00:00",
          "2021-06-18 03:00:00",
          "2021-06-18 04:00:00",
          "2021-06-18 07:00:00",
          "2021-06-18 09:00:00",
          "2021-06-18 09:30:00",
          "2021-06-18 10:30:00",
          "2021-06-18 14:30:00",
          "2021-06-18 15:30:00",
          "2021-06-18 16:00:00",
          "2021-06-18 16:30:00",
          "2021-06-18 17:30:00",
          "2021-06-18 18:00:00",
          "2021-06-18 18:30:00",
          "2021-06-18 19:00:00",
          "2021-06-18 20:30:00",
          "2021-06-18 21:30:00",
          "2021-06-18 22:00:00",
          "2021-06-18 22:30:00",
          "2021-06-18 23:00:00",
          "2021-06-19 00:00:00",
          "2021-06-19 01:00:00",
          "2021-06-19 02:00:00",
          "2021-06-19 03:00:00",
          "2021-06-19 04:00:00",
          "2021-06-19 05:00:00",
          "2021-06-19 05:30:00",
          "2021-06-19 06:00:00",
          "2021-06-19 06:30:00",
          "2021-06-19 07:30:00",
          "2021-06-19 08:00:00",
          "2021-06-19 09:00:00",
          "2021-06-19 09:30:00",
          "2021-06-19 10:00:00",
          "2021-06-19 10:30:00",
          "2021-06-19 11:00:00",
          "2021-06-19 12:00:00",
          "2021-06-19 15:00:00",
          "2021-06-19 16:00:00",
          "2021-06-19 17:00:00",
          "2021-06-19 19:00:00",
          "2021-06-19 19:30:00",
          "2021-06-19 20:00:00",
          "2021-06-19 20:30:00",
          "2021-06-20 03:00:00",
          "2021-06-20 03:30:00",
          "2021-06-20 04:00:00",
          "2021-06-20 05:00:00",
          "2021-06-20 05:30:00",
          "2021-06-20 06:00:00",
          "2021-06-20 07:00:00",
          "2021-06-20 08:00:00",
          "2021-06-20 08:30:00",
          "2021-06-20 09:30:00",
          "2021-06-20 10:30:00",
          "2021-06-20 11:30:00",
          "2021-06-20 12:00:00",
          "2021-06-20 12:30:00",
          "2021-06-20 13:30:00",
          "2021-06-20 14:30:00",
          "2021-06-20 15:30:00",
          "2021-06-20 16:00:00",
          "2021-06-20 17:30:00",
          "2021-06-20 18:00:00",
          "2021-06-20 19:00:00",
          "2021-06-20 19:30:00",
          "2021-06-20 20:30:00",
          "2021-06-20 22:00:00",
          "2021-06-20 22:30:00",
          "2021-06-20 23:00:00",
          "2021-06-20 23:30:00",
          "2021-06-21 00:00:00",
          "2021-06-21 00:30:00",
          "2021-06-21 01:00:00",
          "2021-06-21 01:30:00",
          "2021-06-21 02:00:00",
          "2021-06-21 02:30:00",
          "2021-06-21 03:00:00",
          "2021-06-21 03:30:00",
          "2021-06-21 04:00:00",
          "2021-06-21 04:30:00",
          "2021-06-21 05:00:00",
          "2021-06-21 05:30:00",
          "2021-06-21 06:00:00",
          "2021-06-21 06:30:00",
          "2021-06-21 07:30:00",
          "2021-06-21 08:00:00",
          "2021-06-21 09:00:00",
          "2021-06-21 10:00:00",
          "2021-06-21 11:00:00",
          "2021-06-21 13:00:00",
          "2021-06-21 16:00:00",
          "2021-06-21 16:30:00",
          "2021-06-21 17:00:00",
          "2021-06-21 18:00:00",
          "2021-06-21 18:30:00",
          "2021-06-21 19:00:00",
          "2021-06-21 19:30:00",
          "2021-06-21 20:30:00",
          "2021-06-21 21:30:00",
          "2021-06-21 22:30:00",
          "2021-06-21 23:30:00",
          "2021-06-22 01:00:00",
          "2021-06-22 02:00:00",
          "2021-06-22 02:30:00",
          "2021-06-22 03:00:00",
          "2021-06-22 03:30:00",
          "2021-06-22 04:00:00",
          "2021-06-22 04:30:00",
          "2021-06-22 05:30:00",
          "2021-06-22 06:00:00",
          "2021-06-22 06:30:00",
          "2021-06-22 07:30:00",
          "2021-06-22 08:00:00",
          "2021-06-22 08:30:00",
          "2021-06-22 09:00:00",
          "2021-06-22 09:30:00",
          "2021-06-22 10:00:00",
          "2021-06-22 10:30:00",
          "2021-06-22 11:00:00",
          "2021-06-22 11:30:00",
          "2021-06-22 12:30:00",
          "2021-06-22 13:00:00",
          "2021-06-22 13:30:00",
          "2021-06-22 15:00:00",
          "2021-06-22 16:00:00",
          "2021-06-22 17:00:00",
          "2021-06-22 18:00:00",
          "2021-06-22 19:00:00",
          "2021-06-22 20:00:00",
          "2021-06-22 21:00:00",
          "2021-06-22 22:00:00",
          "2021-06-23 00:00:00",
          "2021-06-23 01:00:00",
          "2021-06-23 02:00:00",
          "2021-06-23 03:00:00",
          "2021-06-23 04:00:00",
          "2021-06-23 05:00:00",
          "2021-06-23 07:30:00",
          "2021-06-23 08:00:00",
          "2021-06-23 10:00:00",
          "2021-06-23 10:30:00",
          "2021-06-23 11:30:00",
          "2021-06-23 12:00:00",
          "2021-06-23 12:30:00",
          "2021-06-23 13:00:00",
          "2021-06-23 14:00:00",
          "2021-06-23 15:00:00",
          "2021-06-23 16:00:00",
          "2021-06-23 17:00:00",
          "2021-06-23 22:30:00",
          "2021-06-23 23:30:00",
          "2021-06-24 00:30:00",
          "2021-06-24 01:30:00",
          "2021-06-24 02:30:00",
          "2021-06-24 03:30:00",
          "2021-06-24 04:30:00",
          "2021-06-24 05:30:00",
          "2021-06-24 06:30:00",
          "2021-06-24 09:30:00",
          "2021-06-24 10:00:00",
          "2021-06-24 11:00:00",
          "2021-06-24 12:00:00",
          "2021-06-24 21:00:00",
          "2021-06-24 22:00:00",
          "2021-06-24 23:00:00",
          "2021-06-25 00:00:00",
          "2021-06-25 01:00:00",
          "2021-06-25 02:00:00",
          "2021-06-25 03:00:00",
          "2021-06-25 04:00:00",
          "2021-06-25 05:00:00",
          "2021-06-25 07:00:00",
          "2021-06-25 08:00:00",
          "2021-06-25 11:00:00",
          "2021-06-25 12:00:00",
          "2021-06-25 13:00:00",
          "2021-06-25 14:00:00",
          "2021-06-25 15:00:00",
          "2021-06-25 15:30:00",
          "2021-06-25 16:00:00",
          "2021-06-25 16:30:00",
          "2021-06-25 17:30:00",
          "2021-06-25 18:30:00",
          "2021-06-25 19:00:00",
          "2021-06-25 19:30:00",
          "2021-06-25 20:00:00",
          "2021-06-25 20:30:00",
          "2021-06-25 21:00:00",
          "2021-06-25 21:30:00",
          "2021-06-25 22:00:00",
          "2021-06-25 22:30:00",
          "2021-06-25 23:00:00",
          "2021-06-25 23:30:00",
          "2021-06-26 00:00:00",
          "2021-06-26 00:30:00",
          "2021-06-26 01:00:00",
          "2021-06-26 01:30:00",
          "2021-06-26 02:00:00",
          "2021-06-26 02:30:00",
          "2021-06-26 03:00:00",
          "2021-06-26 05:00:00",
          "2021-06-26 06:00:00",
          "2021-06-26 09:30:00",
          "2021-06-26 10:30:00",
          "2021-06-26 11:30:00",
          "2021-06-26 13:30:00",
          "2021-06-26 16:30:00",
          "2021-06-26 19:30:00",
          "2021-06-26 20:30:00",
          "2021-06-26 21:00:00",
          "2021-06-26 21:30:00",
          "2021-06-26 22:00:00",
          "2021-06-26 23:00:00",
          "2021-06-27 09:00:00",
          "2021-06-27 13:00:00",
          "2021-06-27 14:00:00",
          "2021-06-27 15:00:00",
          "2021-06-27 16:00:00",
          "2021-06-27 17:00:00",
          "2021-06-27 18:00:00",
          "2021-06-27 19:00:00",
          "2021-06-27 20:00:00",
          "2021-06-27 21:00:00",
          "2021-06-27 22:30:00",
          "2021-06-27 23:30:00",
          "2021-06-28 00:00:00",
          "2021-06-28 08:00:00",
          "2021-06-28 08:30:00",
          "2021-06-28 09:00:00",
          "2021-06-28 09:30:00",
          "2021-06-28 10:30:00",
          "2021-06-28 13:30:00",
          "2021-06-28 18:30:00",
          "2021-06-28 19:00:00",
          "2021-06-28 19:30:00",
          "2021-06-28 20:00:00",
          "2021-06-29 09:00:00",
          "2021-06-29 10:00:00",
          "2021-06-29 11:00:00",
          "2021-06-29 12:00:00",
          "2021-06-29 13:00:00",
          "2021-06-29 14:00:00",
          "2021-06-29 17:00:00",
          "2021-06-29 19:00:00",
          "2021-06-30 10:00:00",
          "2021-06-30 11:00:00",
          "2021-06-30 12:00:00",
          "2021-06-30 13:00:00",
          "2021-06-30 14:00:00",
          "2021-06-30 15:00:00",
          "2021-06-30 19:00:00",
          "2021-06-30 20:00:00",
          "2021-06-30 21:00:00",
          "2021-06-30 22:00:00",
          "2021-06-30 23:00:00",
          "2021-07-01 00:00:00",
          "2021-07-01 01:00:00",
          "2021-07-01 07:00:00",
          "2021-07-01 11:00:00",
          "2021-07-01 12:00:00",
          "2021-07-01 13:00:00",
          "2021-07-01 15:00:00",
          "2021-07-01 16:00:00",
          "2021-07-01 17:00:00",
          "2021-07-01 18:30:00",
          "2021-07-01 19:30:00",
          "2021-07-01 20:30:00",
          "2021-07-01 22:30:00",
          "2021-07-02 00:30:00",
          "2021-07-02 01:30:00",
          "2021-07-02 02:30:00",
          "2021-07-02 07:00:00",
          "2021-07-02 10:00:00",
          "2021-07-02 11:00:00",
          "2021-07-02 12:00:00",
          "2021-07-02 12:30:00",
          "2021-07-02 13:30:00",
          "2021-07-02 14:00:00",
          "2021-07-02 14:30:00",
          "2021-07-02 15:00:00",
          "2021-07-02 15:30:00",
          "2021-07-02 16:00:00",
          "2021-07-02 16:30:00",
          "2021-07-02 17:00:00",
          "2021-07-02 17:30:00",
          "2021-07-02 18:00:00",
          "2021-07-02 18:30:00",
          "2021-07-02 19:00:00",
          "2021-07-02 19:30:00",
          "2021-07-02 22:00:00",
          "2021-07-02 22:30:00",
          "2021-07-03 09:30:00",
          "2021-07-03 10:30:00",
          "2021-07-03 11:30:00",
          "2021-07-03 12:30:00",
          "2021-07-03 13:00:00",
          "2021-07-03 13:30:00",
          "2021-07-03 14:00:00",
          "2021-07-03 15:00:00",
          "2021-07-03 16:00:00",
          "2021-07-03 17:00:00",
          "2021-07-03 18:00:00",
          "2021-07-03 19:00:00",
          "2021-07-03 20:00:00",
          "2021-07-03 22:00:00",
          "2021-07-03 23:00:00",
          "2021-07-04 00:00:00",
          "2021-07-04 10:00:00",
          "2021-07-04 11:00:00",
          "2021-07-04 11:30:00",
          "2021-07-04 12:00:00",
          "2021-07-04 12:30:00",
          "2021-07-04 13:00:00",
          "2021-07-04 13:30:00",
          "2021-07-04 14:00:00",
          "2021-07-04 14:30:00",
          "2021-07-04 15:00:00",
          "2021-07-04 15:30:00",
          "2021-07-04 16:00:00",
          "2021-07-04 16:30:00",
          "2021-07-04 17:00:00",
          "2021-07-04 17:30:00",
          "2021-07-04 18:00:00",
          "2021-07-04 18:30:00",
          "2021-07-04 19:00:00",
          "2021-07-04 19:30:00",
          "2021-07-04 20:00:00",
          "2021-07-04 20:30:00",
          "2021-07-04 21:00:00",
          "2021-07-04 22:00:00",
          "2021-07-04 22:30:00",
          "2021-07-05 08:00:00",
          "2021-07-05 12:00:00",
          "2021-07-05 13:00:00",
          "2021-07-05 14:00:00",
          "2021-07-05 14:30:00",
          "2021-07-05 15:00:00",
          "2021-07-05 15:30:00",
          "2021-07-05 16:00:00",
          "2021-07-05 17:00:00",
          "2021-07-05 18:00:00",
          "2021-07-05 19:30:00",
          "2021-07-05 20:00:00",
          "2021-07-05 20:30:00",
          "2021-07-05 21:00:00",
          "2021-07-05 21:30:00",
          "2021-07-05 22:00:00",
          "2021-07-06 07:30:00",
          "2021-07-06 08:30:00",
          "2021-07-06 10:00:00",
          "2021-07-06 11:00:00",
          "2021-07-06 11:30:00",
          "2021-07-06 12:00:00",
          "2021-07-06 12:30:00",
          "2021-07-06 13:00:00",
          "2021-07-06 13:30:00",
          "2021-07-06 14:00:00",
          "2021-07-06 14:30:00",
          "2021-07-06 15:30:00",
          "2021-07-06 16:00:00",
          "2021-07-06 17:00:00",
          "2021-07-06 17:30:00",
          "2021-07-06 18:00:00",
          "2021-07-06 18:30:00",
          "2021-07-06 19:30:00",
          "2021-07-06 20:00:00",
          "2021-07-06 20:30:00",
          "2021-07-06 21:00:00",
          "2021-07-06 21:30:00",
          "2021-07-06 22:00:00",
          "2021-07-06 22:30:00",
          "2021-07-07 07:30:00",
          "2021-07-07 08:30:00",
          "2021-07-07 09:30:00",
          "2021-07-07 10:30:00",
          "2021-07-07 11:30:00",
          "2021-07-07 12:30:00",
          "2021-07-07 13:30:00",
          "2021-07-07 14:30:00",
          "2021-07-07 15:30:00",
          "2021-07-07 17:30:00",
          "2021-07-07 18:30:00",
          "2021-07-07 19:30:00",
          "2021-07-07 20:00:00",
          "2021-07-08 10:00:00",
          "2021-07-08 11:00:00",
          "2021-07-08 11:30:00",
          "2021-07-08 12:30:00",
          "2021-07-08 13:30:00",
          "2021-07-08 14:00:00",
          "2021-07-08 15:00:00",
          "2021-07-08 17:00:00",
          "2021-07-08 17:30:00",
          "2021-07-08 18:00:00",
          "2021-07-08 18:30:00",
          "2021-07-08 19:00:00",
          "2021-07-08 19:30:00",
          "2021-07-08 20:00:00",
          "2021-07-08 20:30:00",
          "2021-07-09 08:00:00",
          "2021-07-09 08:30:00",
          "2021-07-09 11:00:00",
          "2021-07-09 11:30:00",
          "2021-07-09 12:30:00",
          "2021-07-09 13:00:00",
          "2021-07-09 13:30:00",
          "2021-07-09 14:00:00",
          "2021-07-09 14:30:00",
          "2021-07-09 15:00:00",
          "2021-07-09 15:30:00",
          "2021-07-09 16:00:00",
          "2021-07-09 16:30:00",
          "2021-07-09 17:00:00",
          "2021-07-09 18:00:00",
          "2021-07-09 19:00:00",
          "2021-07-09 19:30:00",
          "2021-07-09 20:00:00",
          "2021-07-09 20:30:00",
          "2021-07-09 21:30:00",
          "2021-07-09 22:00:00",
          "2021-07-09 22:30:00",
          "2021-07-09 23:00:00",
          "2021-07-10 00:00:00",
          "2021-07-10 00:30:00",
          "2021-07-10 07:30:00",
          "2021-07-10 08:00:00",
          "2021-07-10 08:30:00",
          "2021-07-10 11:00:00",
          "2021-07-10 11:30:00",
          "2021-07-10 12:00:00",
          "2021-07-10 12:30:00",
          "2021-07-10 13:00:00",
          "2021-07-10 13:30:00",
          "2021-07-10 15:30:00",
          "2021-07-10 16:00:00",
          "2021-07-10 16:30:00",
          "2021-07-10 17:00:00",
          "2021-07-10 17:30:00",
          "2021-07-10 18:00:00",
          "2021-07-10 18:30:00",
          "2021-07-10 19:30:00",
          "2021-07-10 20:00:00",
          "2021-07-10 20:30:00",
          "2021-07-10 21:00:00",
          "2021-07-10 22:00:00",
          "2021-07-10 22:30:00",
          "2021-07-10 23:00:00",
          "2021-07-11 08:00:00",
          "2021-07-11 08:30:00",
          "2021-07-11 09:00:00",
          "2021-07-11 09:30:00",
          "2021-07-11 10:00:00",
          "2021-07-11 10:30:00",
          "2021-07-11 11:00:00",
          "2021-07-11 12:30:00",
          "2021-07-11 13:00:00",
          "2021-07-11 14:00:00",
          "2021-07-11 14:30:00",
          "2021-07-11 15:00:00",
          "2021-07-11 15:30:00",
          "2021-07-11 16:00:00",
          "2021-07-11 16:30:00",
          "2021-07-11 17:00:00",
          "2021-07-11 17:30:00",
          "2021-07-11 18:00:00",
          "2021-07-11 18:30:00",
          "2021-07-11 19:30:00",
          "2021-07-11 20:00:00",
          "2021-07-11 20:30:00",
          "2021-07-11 21:00:00",
          "2021-07-11 21:30:00",
          "2021-07-12 07:30:00",
          "2021-07-12 08:00:00",
          "2021-07-12 08:30:00",
          "2021-07-12 13:00:00",
          "2021-07-12 15:00:00",
          "2021-07-12 16:00:00",
          "2021-07-12 16:30:00",
          "2021-07-13 07:30:00",
          "2021-07-13 08:00:00",
          "2021-07-13 09:00:00",
          "2021-07-13 11:00:00",
          "2021-07-13 12:00:00",
          "2021-07-13 12:30:00",
          "2021-07-13 13:00:00",
          "2021-07-13 13:30:00",
          "2021-07-13 14:00:00",
          "2021-07-13 14:30:00",
          "2021-07-13 15:00:00",
          "2021-07-13 15:30:00",
          "2021-07-13 16:00:00",
          "2021-07-13 16:30:00",
          "2021-07-13 17:00:00",
          "2021-07-13 17:30:00",
          "2021-07-13 18:00:00",
          "2021-07-13 18:30:00",
          "2021-07-13 19:00:00",
          "2021-07-13 19:30:00",
          "2021-07-14 07:30:00",
          "2021-07-14 08:00:00",
          "2021-07-14 09:30:00",
          "2021-07-14 10:00:00",
          "2021-07-14 10:30:00",
          "2021-07-14 11:00:00",
          "2021-07-14 11:30:00",
          "2021-07-14 12:00:00",
          "2021-07-14 12:30:00",
          "2021-07-14 13:30:00",
          "2021-07-14 14:00:00",
          "2021-07-14 14:30:00",
          "2021-07-14 15:00:00",
          "2021-07-14 16:00:00",
          "2021-07-14 18:00:00",
          "2021-07-14 19:00:00",
          "2021-07-14 19:30:00",
          "2021-07-14 20:00:00",
          "2021-07-14 20:30:00",
          "2021-07-14 21:00:00",
          "2021-07-14 21:30:00",
          "2021-07-14 22:30:00",
          "2021-07-15 08:00:00",
          "2021-07-15 08:30:00"
         ],
         "xaxis": "x",
         "y": [
          30.1,
          30.07,
          30.09,
          30.09,
          30.09,
          30.29,
          30.265,
          30.24,
          29.87,
          29.89,
          29.91,
          29.91,
          29.96,
          29.759999999999998,
          29.56,
          30.23,
          31.52,
          31.68,
          31.68,
          31.68,
          31.689999999999998,
          31.689999999999998,
          31.69,
          31.7,
          31.72,
          31.75,
          31.75,
          31.75,
          31.75,
          32.15,
          32.15,
          32.1,
          32.08,
          31.9,
          31.46,
          32.4,
          31.95,
          31.95,
          31.94,
          32.79,
          32.81,
          33.27,
          31.54,
          30.48,
          30.455,
          30.43,
          30.51,
          30.51,
          30.54,
          30.55,
          30.56,
          30.564999999999998,
          30.57,
          30.55,
          30.53,
          30.48,
          31.39,
          32.05,
          32.33,
          31.63,
          30.93,
          30.32,
          30.314999999999998,
          30.31,
          30.34,
          30.34,
          30.34,
          30.32,
          30.77,
          30.74,
          30.81,
          30.88,
          30.54,
          29.96,
          29.905,
          29.85,
          30.1,
          30.32,
          31.73,
          31.84,
          32,
          31.56,
          30.65,
          29.77,
          29.755,
          29.74,
          29.8,
          30.24,
          32.13,
          31.54,
          31.4,
          31.26,
          31.61,
          30.82,
          29.68,
          29.68,
          29.84,
          30.1,
          30.11,
          30.53,
          30.975,
          31,
          31.44,
          31.45,
          31.05,
          31.09,
          31.1,
          30.68,
          30.27,
          29.82,
          29.81,
          29.939999999999998,
          30.07,
          30.33,
          30.24,
          30.15,
          30.16,
          30.17,
          30.125,
          30.08,
          30.159999999999997,
          30.24,
          29.9,
          29.939999999999998,
          29.98,
          30.79,
          31.44,
          31.45,
          30.11,
          29.93,
          29.75,
          29.75,
          29.78,
          30.22,
          30.23,
          30.64,
          31.1,
          31.11,
          31.12,
          31.03,
          30.94,
          30.96,
          30.98,
          31.02,
          31.15,
          31.095,
          31.04,
          31.56,
          31.34,
          30.97,
          31.09,
          31.21,
          30.995,
          30.78,
          30.465,
          30.15,
          29.71,
          29.71,
          30.14,
          30.16,
          30.5,
          30.6,
          30.6,
          31.04,
          31.06,
          31.12,
          31.09,
          31.44,
          31.44,
          31.475,
          31.51,
          31.485,
          31.46,
          31.84,
          29.89,
          29.765,
          29.64,
          30.08,
          30.51,
          30.95,
          30.99,
          30.77,
          30.64,
          30.24,
          30.24,
          30.26,
          30.26,
          30.26,
          30.26,
          30.27,
          30.27,
          30.7,
          30.7,
          30.27,
          30.24,
          30.24,
          30.659999999999997,
          31.08,
          31.07,
          30.8,
          30.58,
          30.36,
          30.36,
          30.44,
          30.98,
          30.9,
          30.88,
          31.11,
          31.155,
          31.2,
          29.97,
          30.05,
          30.91,
          30.79,
          30.17,
          30.2,
          29.79,
          29.79,
          30.24,
          30.24,
          30.415,
          30.59,
          30.8,
          29.55,
          29.65,
          29.75,
          30.22,
          30.27,
          30.115000000000002,
          29.96,
          30.4,
          30.43,
          30.06,
          30.95,
          30.57,
          30.15,
          30.17,
          29.77,
          29.79,
          29.81,
          29.83,
          30.26,
          30.7,
          30.69,
          30.66,
          30.65,
          30.64,
          30.59,
          30.85,
          31.11,
          31.45,
          31.3,
          30.85,
          29.71,
          29.68,
          29.75,
          29.9,
          30.42,
          30.87,
          30.9,
          30.53,
          30.65,
          30.65,
          30.67,
          30.66,
          30.65,
          30.17,
          30.12,
          29.92,
          29.85,
          29.78,
          29.91,
          30.04,
          30.11,
          30.19,
          29.7,
          29.7,
          29.7,
          30.19,
          30.055,
          30.0225,
          29.99,
          29.99,
          30.43,
          30.28,
          30.13,
          29.71,
          29.73,
          29.75,
          29.75,
          29.75,
          29.75,
          29.75,
          29.75,
          30.18,
          30.2,
          30.2,
          30.185000000000002,
          30.17,
          29.73,
          29.71,
          30.14,
          30.02,
          29.99,
          29.91,
          29.85,
          29.79,
          29.74,
          29.84,
          30.24,
          30.48,
          30.435000000000002,
          30.39,
          30.41,
          30.43,
          31.31,
          31.424999999999997,
          31.54,
          30.21,
          29.94,
          30.035,
          30.13,
          30.15,
          30.15,
          30.57,
          30.57,
          30.53,
          30,
          30.1,
          30.005000000000003,
          29.91,
          29.865000000000002,
          29.8625,
          29.86,
          29.86,
          30.29,
          30.27,
          30.26,
          30.26,
          30.25,
          30.24,
          29.93,
          29.05,
          29.05,
          29.05,
          29.05,
          29.05,
          29.05,
          29.49,
          29.51,
          29.51,
          29.51,
          29.51,
          29.51,
          29.49,
          29.89,
          29.98,
          30.08,
          30.18,
          30.44,
          30.43,
          30.35,
          29.94,
          29.53,
          29.520000000000003,
          29.51,
          29.49,
          29.525,
          29.56,
          29.57,
          29.57,
          33.06,
          34.37,
          34.69,
          35.84,
          32.5,
          30.44,
          30.415,
          30.39,
          31.235,
          32.08,
          33.37,
          33.82,
          33.81,
          31.29,
          31.235,
          31.18,
          31.240000000000002,
          31.3,
          32.61,
          33.31,
          35.64,
          29.88,
          29.92,
          30.025,
          30.042499999999997,
          30.06,
          30.44,
          30.79,
          30.82,
          30.66,
          30.5,
          30.08,
          30.08,
          30.08,
          30.08,
          30.06,
          30.05,
          30.055,
          30.06,
          30.104999999999997,
          30.15,
          30.51,
          30.51,
          30.520000000000003,
          30.520000000000003,
          30.52,
          30.55,
          30.6,
          30.53,
          30.46,
          32.69,
          32.14,
          31.94,
          31.58,
          30.25,
          29.78,
          29.77,
          29.77,
          29.77,
          29.75,
          30.37,
          30.91,
          31.42,
          31.41,
          32.03,
          31.775,
          31.52,
          31.19,
          30.76,
          30.29,
          29.82,
          29.8,
          29.78,
          30.18,
          30.175,
          30.17,
          30.19,
          31.84,
          31.77,
          31.17,
          30.72,
          30.25,
          29.91,
          30.73,
          31.64,
          31.67,
          31.65,
          31.63,
          31.37,
          31.49,
          31.21,
          32.5,
          31.9,
          31.06,
          32.99,
          32.78,
          32.57,
          31.51,
          31.27,
          31.29,
          31.21,
          29.81,
          29.81,
          29.81,
          33.16,
          31.56,
          30.45,
          33.1,
          32.935,
          32.77,
          33.1,
          30.44,
          30.88,
          31.38,
          30.799999999999997,
          30.22,
          29.78,
          29.8,
          30.25,
          32.1,
          32.22,
          32.18,
          32.14,
          32.61,
          32.92,
          33.39,
          32.24,
          31.92,
          31.385,
          30.85,
          30.68,
          31.07,
          31.33,
          31.22,
          31.11,
          30.63,
          30.15,
          30.17,
          29.88,
          29.975,
          30.07,
          30.07,
          32.56,
          33.06,
          31.8,
          29.85,
          29.9,
          30.35,
          30.84,
          30.7,
          30.56,
          30.48,
          30.46,
          30.29,
          30.12,
          31.22,
          32.5,
          32.78,
          33.86,
          33.38,
          33.26,
          30.92,
          30.630000000000003,
          30.34,
          30.39,
          30.84,
          33.16,
          33.05,
          31.89,
          32.16,
          30.22,
          30.2,
          30.65,
          30.48,
          30.2,
          30.2,
          30.2,
          30.2,
          29.8,
          31.85,
          31.992500000000003,
          32.135000000000005,
          31.23,
          30.6,
          30.575000000000003,
          30.55,
          34.02,
          33.6,
          30.15,
          30.15,
          30.15,
          30.15,
          30.15,
          30.55,
          32.95,
          32.33,
          32.349999999999994,
          32.37,
          32.155,
          31.94,
          31.69,
          30.41,
          30.93,
          30.68,
          31.63,
          32.78,
          30.06,
          30.075,
          30.09,
          30.54,
          30.72,
          30.98,
          30.99,
          31.42,
          31.98,
          31.87,
          31.87,
          31.87,
          31.490000000000002,
          31.450000000000003,
          31.41,
          30.78,
          30.64,
          30.72,
          30.8,
          31.7,
          31.9,
          32.32,
          31.43,
          30.94,
          30.67,
          30.865000000000002,
          30.9075,
          30.95,
          30.09,
          29.88,
          30.32,
          31.05,
          30.99,
          30.89,
          31.09,
          31.02,
          31.34,
          31.35,
          32.31,
          32.33,
          32.055,
          31.78,
          31.925,
          32.07,
          30.41,
          30.405,
          30.4,
          29.94,
          29.94,
          29.94,
          29.94,
          30.03,
          30.03,
          30.38,
          33.31,
          32.695,
          32.08,
          32.05,
          32.73,
          30.62,
          30.24,
          30.24,
          30.24,
          30.15,
          29.7,
          30.6,
          30.26,
          31.78,
          31.36,
          31.625,
          31.89,
          31.825000000000003,
          31.76,
          32.2,
          32.19,
          30.6,
          31.12,
          31.09,
          31.48,
          31.77,
          30.63,
          30.13,
          30.13,
          30.13,
          30.13,
          29.71,
          29.71,
          29.73,
          33.64,
          32.38,
          30.87,
          29.89,
          29.9,
          29.91,
          30.83,
          31.75,
          31.83,
          32.73,
          32.77,
          32.69,
          32.61,
          32.675,
          32.74,
          31.94,
          31.48,
          31.15,
          30.74,
          30.19,
          30.18,
          30.18,
          30.17,
          30.17,
          30.55,
          31.27,
          31.81,
          29.7,
          29.93,
          30.8,
          31.66,
          29.35,
          30.18,
          31.3,
          30.87,
          32.11,
          31.89,
          31.54,
          31.22,
          30.73,
          30.63,
          30.28,
          29.99,
          32.64,
          31.47,
          31.46,
          31.45,
          31.19,
          31.105,
          31.02,
          30.7,
          30.64,
          30.57,
          30.439999999999998,
          30.31,
          33.33,
          32.805,
          32.8875,
          32.97,
          33.29,
          33.825,
          34.36,
          32.9,
          32.42,
          32.205,
          32.5625,
          32.92,
          31.76,
          31.11,
          31.11,
          29.82,
          29.48,
          29.38,
          30.22,
          30.4
         ],
         "yaxis": "y"
        }
       ],
       "layout": {
        "legend": {
         "tracegroupgap": 0
        },
        "margin": {
         "t": 60
        },
        "template": {
         "data": {
          "bar": [
           {
            "error_x": {
             "color": "#2a3f5f"
            },
            "error_y": {
             "color": "#2a3f5f"
            },
            "marker": {
             "line": {
              "color": "#E5ECF6",
              "width": 0.5
             },
             "pattern": {
              "fillmode": "overlay",
              "size": 10,
              "solidity": 0.2
             }
            },
            "type": "bar"
           }
          ],
          "barpolar": [
           {
            "marker": {
             "line": {
              "color": "#E5ECF6",
              "width": 0.5
             },
             "pattern": {
              "fillmode": "overlay",
              "size": 10,
              "solidity": 0.2
             }
            },
            "type": "barpolar"
           }
          ],
          "carpet": [
           {
            "aaxis": {
             "endlinecolor": "#2a3f5f",
             "gridcolor": "white",
             "linecolor": "white",
             "minorgridcolor": "white",
             "startlinecolor": "#2a3f5f"
            },
            "baxis": {
             "endlinecolor": "#2a3f5f",
             "gridcolor": "white",
             "linecolor": "white",
             "minorgridcolor": "white",
             "startlinecolor": "#2a3f5f"
            },
            "type": "carpet"
           }
          ],
          "choropleth": [
           {
            "colorbar": {
             "outlinewidth": 0,
             "ticks": ""
            },
            "type": "choropleth"
           }
          ],
          "contour": [
           {
            "colorbar": {
             "outlinewidth": 0,
             "ticks": ""
            },
            "colorscale": [
             [
              0,
              "#0d0887"
             ],
             [
              0.1111111111111111,
              "#46039f"
             ],
             [
              0.2222222222222222,
              "#7201a8"
             ],
             [
              0.3333333333333333,
              "#9c179e"
             ],
             [
              0.4444444444444444,
              "#bd3786"
             ],
             [
              0.5555555555555556,
              "#d8576b"
             ],
             [
              0.6666666666666666,
              "#ed7953"
             ],
             [
              0.7777777777777778,
              "#fb9f3a"
             ],
             [
              0.8888888888888888,
              "#fdca26"
             ],
             [
              1,
              "#f0f921"
             ]
            ],
            "type": "contour"
           }
          ],
          "contourcarpet": [
           {
            "colorbar": {
             "outlinewidth": 0,
             "ticks": ""
            },
            "type": "contourcarpet"
           }
          ],
          "heatmap": [
           {
            "colorbar": {
             "outlinewidth": 0,
             "ticks": ""
            },
            "colorscale": [
             [
              0,
              "#0d0887"
             ],
             [
              0.1111111111111111,
              "#46039f"
             ],
             [
              0.2222222222222222,
              "#7201a8"
             ],
             [
              0.3333333333333333,
              "#9c179e"
             ],
             [
              0.4444444444444444,
              "#bd3786"
             ],
             [
              0.5555555555555556,
              "#d8576b"
             ],
             [
              0.6666666666666666,
              "#ed7953"
             ],
             [
              0.7777777777777778,
              "#fb9f3a"
             ],
             [
              0.8888888888888888,
              "#fdca26"
             ],
             [
              1,
              "#f0f921"
             ]
            ],
            "type": "heatmap"
           }
          ],
          "heatmapgl": [
           {
            "colorbar": {
             "outlinewidth": 0,
             "ticks": ""
            },
            "colorscale": [
             [
              0,
              "#0d0887"
             ],
             [
              0.1111111111111111,
              "#46039f"
             ],
             [
              0.2222222222222222,
              "#7201a8"
             ],
             [
              0.3333333333333333,
              "#9c179e"
             ],
             [
              0.4444444444444444,
              "#bd3786"
             ],
             [
              0.5555555555555556,
              "#d8576b"
             ],
             [
              0.6666666666666666,
              "#ed7953"
             ],
             [
              0.7777777777777778,
              "#fb9f3a"
             ],
             [
              0.8888888888888888,
              "#fdca26"
             ],
             [
              1,
              "#f0f921"
             ]
            ],
            "type": "heatmapgl"
           }
          ],
          "histogram": [
           {
            "marker": {
             "pattern": {
              "fillmode": "overlay",
              "size": 10,
              "solidity": 0.2
             }
            },
            "type": "histogram"
           }
          ],
          "histogram2d": [
           {
            "colorbar": {
             "outlinewidth": 0,
             "ticks": ""
            },
            "colorscale": [
             [
              0,
              "#0d0887"
             ],
             [
              0.1111111111111111,
              "#46039f"
             ],
             [
              0.2222222222222222,
              "#7201a8"
             ],
             [
              0.3333333333333333,
              "#9c179e"
             ],
             [
              0.4444444444444444,
              "#bd3786"
             ],
             [
              0.5555555555555556,
              "#d8576b"
             ],
             [
              0.6666666666666666,
              "#ed7953"
             ],
             [
              0.7777777777777778,
              "#fb9f3a"
             ],
             [
              0.8888888888888888,
              "#fdca26"
             ],
             [
              1,
              "#f0f921"
             ]
            ],
            "type": "histogram2d"
           }
          ],
          "histogram2dcontour": [
           {
            "colorbar": {
             "outlinewidth": 0,
             "ticks": ""
            },
            "colorscale": [
             [
              0,
              "#0d0887"
             ],
             [
              0.1111111111111111,
              "#46039f"
             ],
             [
              0.2222222222222222,
              "#7201a8"
             ],
             [
              0.3333333333333333,
              "#9c179e"
             ],
             [
              0.4444444444444444,
              "#bd3786"
             ],
             [
              0.5555555555555556,
              "#d8576b"
             ],
             [
              0.6666666666666666,
              "#ed7953"
             ],
             [
              0.7777777777777778,
              "#fb9f3a"
             ],
             [
              0.8888888888888888,
              "#fdca26"
             ],
             [
              1,
              "#f0f921"
             ]
            ],
            "type": "histogram2dcontour"
           }
          ],
          "mesh3d": [
           {
            "colorbar": {
             "outlinewidth": 0,
             "ticks": ""
            },
            "type": "mesh3d"
           }
          ],
          "parcoords": [
           {
            "line": {
             "colorbar": {
              "outlinewidth": 0,
              "ticks": ""
             }
            },
            "type": "parcoords"
           }
          ],
          "pie": [
           {
            "automargin": true,
            "type": "pie"
           }
          ],
          "scatter": [
           {
            "marker": {
             "colorbar": {
              "outlinewidth": 0,
              "ticks": ""
             }
            },
            "type": "scatter"
           }
          ],
          "scatter3d": [
           {
            "line": {
             "colorbar": {
              "outlinewidth": 0,
              "ticks": ""
             }
            },
            "marker": {
             "colorbar": {
              "outlinewidth": 0,
              "ticks": ""
             }
            },
            "type": "scatter3d"
           }
          ],
          "scattercarpet": [
           {
            "marker": {
             "colorbar": {
              "outlinewidth": 0,
              "ticks": ""
             }
            },
            "type": "scattercarpet"
           }
          ],
          "scattergeo": [
           {
            "marker": {
             "colorbar": {
              "outlinewidth": 0,
              "ticks": ""
             }
            },
            "type": "scattergeo"
           }
          ],
          "scattergl": [
           {
            "marker": {
             "colorbar": {
              "outlinewidth": 0,
              "ticks": ""
             }
            },
            "type": "scattergl"
           }
          ],
          "scattermapbox": [
           {
            "marker": {
             "colorbar": {
              "outlinewidth": 0,
              "ticks": ""
             }
            },
            "type": "scattermapbox"
           }
          ],
          "scatterpolar": [
           {
            "marker": {
             "colorbar": {
              "outlinewidth": 0,
              "ticks": ""
             }
            },
            "type": "scatterpolar"
           }
          ],
          "scatterpolargl": [
           {
            "marker": {
             "colorbar": {
              "outlinewidth": 0,
              "ticks": ""
             }
            },
            "type": "scatterpolargl"
           }
          ],
          "scatterternary": [
           {
            "marker": {
             "colorbar": {
              "outlinewidth": 0,
              "ticks": ""
             }
            },
            "type": "scatterternary"
           }
          ],
          "surface": [
           {
            "colorbar": {
             "outlinewidth": 0,
             "ticks": ""
            },
            "colorscale": [
             [
              0,
              "#0d0887"
             ],
             [
              0.1111111111111111,
              "#46039f"
             ],
             [
              0.2222222222222222,
              "#7201a8"
             ],
             [
              0.3333333333333333,
              "#9c179e"
             ],
             [
              0.4444444444444444,
              "#bd3786"
             ],
             [
              0.5555555555555556,
              "#d8576b"
             ],
             [
              0.6666666666666666,
              "#ed7953"
             ],
             [
              0.7777777777777778,
              "#fb9f3a"
             ],
             [
              0.8888888888888888,
              "#fdca26"
             ],
             [
              1,
              "#f0f921"
             ]
            ],
            "type": "surface"
           }
          ],
          "table": [
           {
            "cells": {
             "fill": {
              "color": "#EBF0F8"
             },
             "line": {
              "color": "white"
             }
            },
            "header": {
             "fill": {
              "color": "#C8D4E3"
             },
             "line": {
              "color": "white"
             }
            },
            "type": "table"
           }
          ]
         },
         "layout": {
          "annotationdefaults": {
           "arrowcolor": "#2a3f5f",
           "arrowhead": 0,
           "arrowwidth": 1
          },
          "autotypenumbers": "strict",
          "coloraxis": {
           "colorbar": {
            "outlinewidth": 0,
            "ticks": ""
           }
          },
          "colorscale": {
           "diverging": [
            [
             0,
             "#8e0152"
            ],
            [
             0.1,
             "#c51b7d"
            ],
            [
             0.2,
             "#de77ae"
            ],
            [
             0.3,
             "#f1b6da"
            ],
            [
             0.4,
             "#fde0ef"
            ],
            [
             0.5,
             "#f7f7f7"
            ],
            [
             0.6,
             "#e6f5d0"
            ],
            [
             0.7,
             "#b8e186"
            ],
            [
             0.8,
             "#7fbc41"
            ],
            [
             0.9,
             "#4d9221"
            ],
            [
             1,
             "#276419"
            ]
           ],
           "sequential": [
            [
             0,
             "#0d0887"
            ],
            [
             0.1111111111111111,
             "#46039f"
            ],
            [
             0.2222222222222222,
             "#7201a8"
            ],
            [
             0.3333333333333333,
             "#9c179e"
            ],
            [
             0.4444444444444444,
             "#bd3786"
            ],
            [
             0.5555555555555556,
             "#d8576b"
            ],
            [
             0.6666666666666666,
             "#ed7953"
            ],
            [
             0.7777777777777778,
             "#fb9f3a"
            ],
            [
             0.8888888888888888,
             "#fdca26"
            ],
            [
             1,
             "#f0f921"
            ]
           ],
           "sequentialminus": [
            [
             0,
             "#0d0887"
            ],
            [
             0.1111111111111111,
             "#46039f"
            ],
            [
             0.2222222222222222,
             "#7201a8"
            ],
            [
             0.3333333333333333,
             "#9c179e"
            ],
            [
             0.4444444444444444,
             "#bd3786"
            ],
            [
             0.5555555555555556,
             "#d8576b"
            ],
            [
             0.6666666666666666,
             "#ed7953"
            ],
            [
             0.7777777777777778,
             "#fb9f3a"
            ],
            [
             0.8888888888888888,
             "#fdca26"
            ],
            [
             1,
             "#f0f921"
            ]
           ]
          },
          "colorway": [
           "#636efa",
           "#EF553B",
           "#00cc96",
           "#ab63fa",
           "#FFA15A",
           "#19d3f3",
           "#FF6692",
           "#B6E880",
           "#FF97FF",
           "#FECB52"
          ],
          "font": {
           "color": "#2a3f5f"
          },
          "geo": {
           "bgcolor": "white",
           "lakecolor": "white",
           "landcolor": "#E5ECF6",
           "showlakes": true,
           "showland": true,
           "subunitcolor": "white"
          },
          "hoverlabel": {
           "align": "left"
          },
          "hovermode": "closest",
          "mapbox": {
           "style": "light"
          },
          "paper_bgcolor": "white",
          "plot_bgcolor": "#E5ECF6",
          "polar": {
           "angularaxis": {
            "gridcolor": "white",
            "linecolor": "white",
            "ticks": ""
           },
           "bgcolor": "#E5ECF6",
           "radialaxis": {
            "gridcolor": "white",
            "linecolor": "white",
            "ticks": ""
           }
          },
          "scene": {
           "xaxis": {
            "backgroundcolor": "#E5ECF6",
            "gridcolor": "white",
            "gridwidth": 2,
            "linecolor": "white",
            "showbackground": true,
            "ticks": "",
            "zerolinecolor": "white"
           },
           "yaxis": {
            "backgroundcolor": "#E5ECF6",
            "gridcolor": "white",
            "gridwidth": 2,
            "linecolor": "white",
            "showbackground": true,
            "ticks": "",
            "zerolinecolor": "white"
           },
           "zaxis": {
            "backgroundcolor": "#E5ECF6",
            "gridcolor": "white",
            "gridwidth": 2,
            "linecolor": "white",
            "showbackground": true,
            "ticks": "",
            "zerolinecolor": "white"
           }
          },
          "shapedefaults": {
           "line": {
            "color": "#2a3f5f"
           }
          },
          "ternary": {
           "aaxis": {
            "gridcolor": "white",
            "linecolor": "white",
            "ticks": ""
           },
           "baxis": {
            "gridcolor": "white",
            "linecolor": "white",
            "ticks": ""
           },
           "bgcolor": "#E5ECF6",
           "caxis": {
            "gridcolor": "white",
            "linecolor": "white",
            "ticks": ""
           }
          },
          "title": {
           "x": 0.05
          },
          "xaxis": {
           "automargin": true,
           "gridcolor": "white",
           "linecolor": "white",
           "ticks": "",
           "title": {
            "standoff": 15
           },
           "zerolinecolor": "white",
           "zerolinewidth": 2
          },
          "yaxis": {
           "automargin": true,
           "gridcolor": "white",
           "linecolor": "white",
           "ticks": "",
           "title": {
            "standoff": 15
           },
           "zerolinecolor": "white",
           "zerolinewidth": 2
          }
         }
        },
        "xaxis": {
         "anchor": "y",
         "domain": [
          0,
          1
         ],
         "title": {
          "text": "time"
         }
        },
        "yaxis": {
         "anchor": "x",
         "domain": [
          0,
          1
         ],
         "title": {
          "text": "value"
         }
        }
       }
      },
      "text/html": [
       "<div>                            <div id=\"0d0a915f-49fc-4caa-a68a-f47a6567319c\" class=\"plotly-graph-div\" style=\"height:525px; width:100%;\"></div>            <script type=\"text/javascript\">                require([\"plotly\"], function(Plotly) {                    window.PLOTLYENV=window.PLOTLYENV || {};                                    if (document.getElementById(\"0d0a915f-49fc-4caa-a68a-f47a6567319c\")) {                    Plotly.newPlot(                        \"0d0a915f-49fc-4caa-a68a-f47a6567319c\",                        [{\"hovertemplate\":\"time=%{x}<br>value=%{y}<extra></extra>\",\"legendgroup\":\"\",\"line\":{\"color\":\"#636efa\",\"dash\":\"solid\"},\"mode\":\"lines\",\"name\":\"\",\"orientation\":\"v\",\"showlegend\":false,\"type\":\"scatter\",\"x\":[\"2021-06-10 10:00:00\",\"2021-06-10 10:30:00\",\"2021-06-10 11:30:00\",\"2021-06-10 13:00:00\",\"2021-06-10 13:30:00\",\"2021-06-10 14:00:00\",\"2021-06-10 14:30:00\",\"2021-06-10 15:00:00\",\"2021-06-10 15:30:00\",\"2021-06-10 16:00:00\",\"2021-06-10 16:30:00\",\"2021-06-10 17:00:00\",\"2021-06-10 18:00:00\",\"2021-06-10 18:30:00\",\"2021-06-10 19:30:00\",\"2021-06-10 20:00:00\",\"2021-06-10 21:00:00\",\"2021-06-10 22:00:00\",\"2021-06-10 23:00:00\",\"2021-06-10 23:30:00\",\"2021-06-11 00:00:00\",\"2021-06-11 01:00:00\",\"2021-06-11 01:30:00\",\"2021-06-11 02:00:00\",\"2021-06-11 02:30:00\",\"2021-06-11 03:00:00\",\"2021-06-11 04:30:00\",\"2021-06-11 05:00:00\",\"2021-06-11 05:30:00\",\"2021-06-11 06:00:00\",\"2021-06-11 06:30:00\",\"2021-06-11 07:30:00\",\"2021-06-11 08:00:00\",\"2021-06-11 09:00:00\",\"2021-06-11 10:00:00\",\"2021-06-11 11:00:00\",\"2021-06-11 12:30:00\",\"2021-06-11 14:30:00\",\"2021-06-11 15:00:00\",\"2021-06-11 16:00:00\",\"2021-06-11 17:00:00\",\"2021-06-11 18:00:00\",\"2021-06-11 19:00:00\",\"2021-06-11 20:00:00\",\"2021-06-11 21:00:00\",\"2021-06-11 22:00:00\",\"2021-06-11 23:00:00\",\"2021-06-12 00:00:00\",\"2021-06-12 01:00:00\",\"2021-06-12 02:00:00\",\"2021-06-12 03:00:00\",\"2021-06-12 04:00:00\",\"2021-06-12 05:00:00\",\"2021-06-12 06:00:00\",\"2021-06-12 07:00:00\",\"2021-06-12 08:00:00\",\"2021-06-12 09:00:00\",\"2021-06-12 10:00:00\",\"2021-06-12 11:00:00\",\"2021-06-12 12:00:00\",\"2021-06-12 13:00:00\",\"2021-06-12 14:00:00\",\"2021-06-12 14:30:00\",\"2021-06-12 15:00:00\",\"2021-06-12 15:30:00\",\"2021-06-12 16:30:00\",\"2021-06-12 17:30:00\",\"2021-06-12 18:00:00\",\"2021-06-12 18:30:00\",\"2021-06-12 19:00:00\",\"2021-06-12 21:00:00\",\"2021-06-12 22:00:00\",\"2021-06-12 22:30:00\",\"2021-06-12 23:30:00\",\"2021-06-13 01:30:00\",\"2021-06-13 02:30:00\",\"2021-06-13 06:30:00\",\"2021-06-13 07:00:00\",\"2021-06-13 08:00:00\",\"2021-06-13 09:00:00\",\"2021-06-13 10:00:00\",\"2021-06-13 10:30:00\",\"2021-06-13 11:30:00\",\"2021-06-13 12:30:00\",\"2021-06-13 13:30:00\",\"2021-06-13 14:30:00\",\"2021-06-13 15:30:00\",\"2021-06-13 16:00:00\",\"2021-06-13 17:00:00\",\"2021-06-13 17:30:00\",\"2021-06-13 18:30:00\",\"2021-06-13 19:00:00\",\"2021-06-13 19:30:00\",\"2021-06-13 20:30:00\",\"2021-06-13 21:30:00\",\"2021-06-13 22:30:00\",\"2021-06-13 23:00:00\",\"2021-06-13 23:30:00\",\"2021-06-14 00:00:00\",\"2021-06-14 00:30:00\",\"2021-06-14 01:00:00\",\"2021-06-14 01:30:00\",\"2021-06-14 02:00:00\",\"2021-06-14 02:30:00\",\"2021-06-14 03:00:00\",\"2021-06-14 03:30:00\",\"2021-06-14 04:00:00\",\"2021-06-14 05:00:00\",\"2021-06-14 05:30:00\",\"2021-06-14 06:00:00\",\"2021-06-14 06:30:00\",\"2021-06-14 07:30:00\",\"2021-06-14 08:00:00\",\"2021-06-14 09:30:00\",\"2021-06-14 10:00:00\",\"2021-06-14 11:00:00\",\"2021-06-14 12:30:00\",\"2021-06-14 13:00:00\",\"2021-06-14 13:30:00\",\"2021-06-14 14:00:00\",\"2021-06-14 15:00:00\",\"2021-06-14 16:00:00\",\"2021-06-14 16:30:00\",\"2021-06-14 17:30:00\",\"2021-06-14 18:00:00\",\"2021-06-14 18:30:00\",\"2021-06-14 19:00:00\",\"2021-06-14 20:00:00\",\"2021-06-14 21:30:00\",\"2021-06-14 22:30:00\",\"2021-06-14 23:30:00\",\"2021-06-15 00:00:00\",\"2021-06-15 01:00:00\",\"2021-06-15 01:30:00\",\"2021-06-15 02:00:00\",\"2021-06-15 02:30:00\",\"2021-06-15 03:30:00\",\"2021-06-15 04:00:00\",\"2021-06-15 04:30:00\",\"2021-06-15 05:30:00\",\"2021-06-15 06:30:00\",\"2021-06-15 07:00:00\",\"2021-06-15 08:00:00\",\"2021-06-15 08:30:00\",\"2021-06-15 09:30:00\",\"2021-06-15 10:00:00\",\"2021-06-15 10:30:00\",\"2021-06-15 11:30:00\",\"2021-06-15 12:30:00\",\"2021-06-15 15:30:00\",\"2021-06-15 16:00:00\",\"2021-06-15 16:30:00\",\"2021-06-15 18:00:00\",\"2021-06-15 18:30:00\",\"2021-06-15 19:30:00\",\"2021-06-15 21:00:00\",\"2021-06-15 22:00:00\",\"2021-06-15 23:00:00\",\"2021-06-15 23:30:00\",\"2021-06-16 00:00:00\",\"2021-06-16 00:30:00\",\"2021-06-16 01:00:00\",\"2021-06-16 01:30:00\",\"2021-06-16 02:00:00\",\"2021-06-16 02:30:00\",\"2021-06-16 06:30:00\",\"2021-06-16 07:00:00\",\"2021-06-16 08:00:00\",\"2021-06-16 09:00:00\",\"2021-06-16 09:30:00\",\"2021-06-16 10:30:00\",\"2021-06-16 11:00:00\",\"2021-06-16 12:00:00\",\"2021-06-16 15:00:00\",\"2021-06-16 16:00:00\",\"2021-06-16 17:00:00\",\"2021-06-16 19:00:00\",\"2021-06-16 20:00:00\",\"2021-06-16 21:00:00\",\"2021-06-16 21:30:00\",\"2021-06-16 22:00:00\",\"2021-06-16 22:30:00\",\"2021-06-16 23:00:00\",\"2021-06-17 00:00:00\",\"2021-06-17 01:00:00\",\"2021-06-17 02:00:00\",\"2021-06-17 02:30:00\",\"2021-06-17 03:00:00\",\"2021-06-17 03:30:00\",\"2021-06-17 04:00:00\",\"2021-06-17 04:30:00\",\"2021-06-17 05:00:00\",\"2021-06-17 05:30:00\",\"2021-06-17 06:00:00\",\"2021-06-17 06:30:00\",\"2021-06-17 07:00:00\",\"2021-06-17 08:00:00\",\"2021-06-17 09:00:00\",\"2021-06-17 10:00:00\",\"2021-06-17 11:00:00\",\"2021-06-17 12:00:00\",\"2021-06-17 12:30:00\",\"2021-06-17 13:00:00\",\"2021-06-17 13:30:00\",\"2021-06-17 14:00:00\",\"2021-06-17 14:30:00\",\"2021-06-17 15:00:00\",\"2021-06-17 15:30:00\",\"2021-06-17 16:00:00\",\"2021-06-17 18:30:00\",\"2021-06-17 19:30:00\",\"2021-06-17 20:30:00\",\"2021-06-17 21:30:00\",\"2021-06-17 22:00:00\",\"2021-06-17 23:00:00\",\"2021-06-18 00:00:00\",\"2021-06-18 01:00:00\",\"2021-06-18 02:00:00\",\"2021-06-18 03:00:00\",\"2021-06-18 04:00:00\",\"2021-06-18 07:00:00\",\"2021-06-18 09:00:00\",\"2021-06-18 09:30:00\",\"2021-06-18 10:30:00\",\"2021-06-18 14:30:00\",\"2021-06-18 15:30:00\",\"2021-06-18 16:00:00\",\"2021-06-18 16:30:00\",\"2021-06-18 17:30:00\",\"2021-06-18 18:00:00\",\"2021-06-18 18:30:00\",\"2021-06-18 19:00:00\",\"2021-06-18 20:30:00\",\"2021-06-18 21:30:00\",\"2021-06-18 22:00:00\",\"2021-06-18 22:30:00\",\"2021-06-18 23:00:00\",\"2021-06-19 00:00:00\",\"2021-06-19 01:00:00\",\"2021-06-19 02:00:00\",\"2021-06-19 03:00:00\",\"2021-06-19 04:00:00\",\"2021-06-19 05:00:00\",\"2021-06-19 05:30:00\",\"2021-06-19 06:00:00\",\"2021-06-19 06:30:00\",\"2021-06-19 07:30:00\",\"2021-06-19 08:00:00\",\"2021-06-19 09:00:00\",\"2021-06-19 09:30:00\",\"2021-06-19 10:00:00\",\"2021-06-19 10:30:00\",\"2021-06-19 11:00:00\",\"2021-06-19 12:00:00\",\"2021-06-19 15:00:00\",\"2021-06-19 16:00:00\",\"2021-06-19 17:00:00\",\"2021-06-19 19:00:00\",\"2021-06-19 19:30:00\",\"2021-06-19 20:00:00\",\"2021-06-19 20:30:00\",\"2021-06-20 03:00:00\",\"2021-06-20 03:30:00\",\"2021-06-20 04:00:00\",\"2021-06-20 05:00:00\",\"2021-06-20 05:30:00\",\"2021-06-20 06:00:00\",\"2021-06-20 07:00:00\",\"2021-06-20 08:00:00\",\"2021-06-20 08:30:00\",\"2021-06-20 09:30:00\",\"2021-06-20 10:30:00\",\"2021-06-20 11:30:00\",\"2021-06-20 12:00:00\",\"2021-06-20 12:30:00\",\"2021-06-20 13:30:00\",\"2021-06-20 14:30:00\",\"2021-06-20 15:30:00\",\"2021-06-20 16:00:00\",\"2021-06-20 17:30:00\",\"2021-06-20 18:00:00\",\"2021-06-20 19:00:00\",\"2021-06-20 19:30:00\",\"2021-06-20 20:30:00\",\"2021-06-20 22:00:00\",\"2021-06-20 22:30:00\",\"2021-06-20 23:00:00\",\"2021-06-20 23:30:00\",\"2021-06-21 00:00:00\",\"2021-06-21 00:30:00\",\"2021-06-21 01:00:00\",\"2021-06-21 01:30:00\",\"2021-06-21 02:00:00\",\"2021-06-21 02:30:00\",\"2021-06-21 03:00:00\",\"2021-06-21 03:30:00\",\"2021-06-21 04:00:00\",\"2021-06-21 04:30:00\",\"2021-06-21 05:00:00\",\"2021-06-21 05:30:00\",\"2021-06-21 06:00:00\",\"2021-06-21 06:30:00\",\"2021-06-21 07:30:00\",\"2021-06-21 08:00:00\",\"2021-06-21 09:00:00\",\"2021-06-21 10:00:00\",\"2021-06-21 11:00:00\",\"2021-06-21 13:00:00\",\"2021-06-21 16:00:00\",\"2021-06-21 16:30:00\",\"2021-06-21 17:00:00\",\"2021-06-21 18:00:00\",\"2021-06-21 18:30:00\",\"2021-06-21 19:00:00\",\"2021-06-21 19:30:00\",\"2021-06-21 20:30:00\",\"2021-06-21 21:30:00\",\"2021-06-21 22:30:00\",\"2021-06-21 23:30:00\",\"2021-06-22 01:00:00\",\"2021-06-22 02:00:00\",\"2021-06-22 02:30:00\",\"2021-06-22 03:00:00\",\"2021-06-22 03:30:00\",\"2021-06-22 04:00:00\",\"2021-06-22 04:30:00\",\"2021-06-22 05:30:00\",\"2021-06-22 06:00:00\",\"2021-06-22 06:30:00\",\"2021-06-22 07:30:00\",\"2021-06-22 08:00:00\",\"2021-06-22 08:30:00\",\"2021-06-22 09:00:00\",\"2021-06-22 09:30:00\",\"2021-06-22 10:00:00\",\"2021-06-22 10:30:00\",\"2021-06-22 11:00:00\",\"2021-06-22 11:30:00\",\"2021-06-22 12:30:00\",\"2021-06-22 13:00:00\",\"2021-06-22 13:30:00\",\"2021-06-22 15:00:00\",\"2021-06-22 16:00:00\",\"2021-06-22 17:00:00\",\"2021-06-22 18:00:00\",\"2021-06-22 19:00:00\",\"2021-06-22 20:00:00\",\"2021-06-22 21:00:00\",\"2021-06-22 22:00:00\",\"2021-06-23 00:00:00\",\"2021-06-23 01:00:00\",\"2021-06-23 02:00:00\",\"2021-06-23 03:00:00\",\"2021-06-23 04:00:00\",\"2021-06-23 05:00:00\",\"2021-06-23 07:30:00\",\"2021-06-23 08:00:00\",\"2021-06-23 10:00:00\",\"2021-06-23 10:30:00\",\"2021-06-23 11:30:00\",\"2021-06-23 12:00:00\",\"2021-06-23 12:30:00\",\"2021-06-23 13:00:00\",\"2021-06-23 14:00:00\",\"2021-06-23 15:00:00\",\"2021-06-23 16:00:00\",\"2021-06-23 17:00:00\",\"2021-06-23 22:30:00\",\"2021-06-23 23:30:00\",\"2021-06-24 00:30:00\",\"2021-06-24 01:30:00\",\"2021-06-24 02:30:00\",\"2021-06-24 03:30:00\",\"2021-06-24 04:30:00\",\"2021-06-24 05:30:00\",\"2021-06-24 06:30:00\",\"2021-06-24 09:30:00\",\"2021-06-24 10:00:00\",\"2021-06-24 11:00:00\",\"2021-06-24 12:00:00\",\"2021-06-24 21:00:00\",\"2021-06-24 22:00:00\",\"2021-06-24 23:00:00\",\"2021-06-25 00:00:00\",\"2021-06-25 01:00:00\",\"2021-06-25 02:00:00\",\"2021-06-25 03:00:00\",\"2021-06-25 04:00:00\",\"2021-06-25 05:00:00\",\"2021-06-25 07:00:00\",\"2021-06-25 08:00:00\",\"2021-06-25 11:00:00\",\"2021-06-25 12:00:00\",\"2021-06-25 13:00:00\",\"2021-06-25 14:00:00\",\"2021-06-25 15:00:00\",\"2021-06-25 15:30:00\",\"2021-06-25 16:00:00\",\"2021-06-25 16:30:00\",\"2021-06-25 17:30:00\",\"2021-06-25 18:30:00\",\"2021-06-25 19:00:00\",\"2021-06-25 19:30:00\",\"2021-06-25 20:00:00\",\"2021-06-25 20:30:00\",\"2021-06-25 21:00:00\",\"2021-06-25 21:30:00\",\"2021-06-25 22:00:00\",\"2021-06-25 22:30:00\",\"2021-06-25 23:00:00\",\"2021-06-25 23:30:00\",\"2021-06-26 00:00:00\",\"2021-06-26 00:30:00\",\"2021-06-26 01:00:00\",\"2021-06-26 01:30:00\",\"2021-06-26 02:00:00\",\"2021-06-26 02:30:00\",\"2021-06-26 03:00:00\",\"2021-06-26 05:00:00\",\"2021-06-26 06:00:00\",\"2021-06-26 09:30:00\",\"2021-06-26 10:30:00\",\"2021-06-26 11:30:00\",\"2021-06-26 13:30:00\",\"2021-06-26 16:30:00\",\"2021-06-26 19:30:00\",\"2021-06-26 20:30:00\",\"2021-06-26 21:00:00\",\"2021-06-26 21:30:00\",\"2021-06-26 22:00:00\",\"2021-06-26 23:00:00\",\"2021-06-27 09:00:00\",\"2021-06-27 13:00:00\",\"2021-06-27 14:00:00\",\"2021-06-27 15:00:00\",\"2021-06-27 16:00:00\",\"2021-06-27 17:00:00\",\"2021-06-27 18:00:00\",\"2021-06-27 19:00:00\",\"2021-06-27 20:00:00\",\"2021-06-27 21:00:00\",\"2021-06-27 22:30:00\",\"2021-06-27 23:30:00\",\"2021-06-28 00:00:00\",\"2021-06-28 08:00:00\",\"2021-06-28 08:30:00\",\"2021-06-28 09:00:00\",\"2021-06-28 09:30:00\",\"2021-06-28 10:30:00\",\"2021-06-28 13:30:00\",\"2021-06-28 18:30:00\",\"2021-06-28 19:00:00\",\"2021-06-28 19:30:00\",\"2021-06-28 20:00:00\",\"2021-06-29 09:00:00\",\"2021-06-29 10:00:00\",\"2021-06-29 11:00:00\",\"2021-06-29 12:00:00\",\"2021-06-29 13:00:00\",\"2021-06-29 14:00:00\",\"2021-06-29 17:00:00\",\"2021-06-29 19:00:00\",\"2021-06-30 10:00:00\",\"2021-06-30 11:00:00\",\"2021-06-30 12:00:00\",\"2021-06-30 13:00:00\",\"2021-06-30 14:00:00\",\"2021-06-30 15:00:00\",\"2021-06-30 19:00:00\",\"2021-06-30 20:00:00\",\"2021-06-30 21:00:00\",\"2021-06-30 22:00:00\",\"2021-06-30 23:00:00\",\"2021-07-01 00:00:00\",\"2021-07-01 01:00:00\",\"2021-07-01 07:00:00\",\"2021-07-01 11:00:00\",\"2021-07-01 12:00:00\",\"2021-07-01 13:00:00\",\"2021-07-01 15:00:00\",\"2021-07-01 16:00:00\",\"2021-07-01 17:00:00\",\"2021-07-01 18:30:00\",\"2021-07-01 19:30:00\",\"2021-07-01 20:30:00\",\"2021-07-01 22:30:00\",\"2021-07-02 00:30:00\",\"2021-07-02 01:30:00\",\"2021-07-02 02:30:00\",\"2021-07-02 07:00:00\",\"2021-07-02 10:00:00\",\"2021-07-02 11:00:00\",\"2021-07-02 12:00:00\",\"2021-07-02 12:30:00\",\"2021-07-02 13:30:00\",\"2021-07-02 14:00:00\",\"2021-07-02 14:30:00\",\"2021-07-02 15:00:00\",\"2021-07-02 15:30:00\",\"2021-07-02 16:00:00\",\"2021-07-02 16:30:00\",\"2021-07-02 17:00:00\",\"2021-07-02 17:30:00\",\"2021-07-02 18:00:00\",\"2021-07-02 18:30:00\",\"2021-07-02 19:00:00\",\"2021-07-02 19:30:00\",\"2021-07-02 22:00:00\",\"2021-07-02 22:30:00\",\"2021-07-03 09:30:00\",\"2021-07-03 10:30:00\",\"2021-07-03 11:30:00\",\"2021-07-03 12:30:00\",\"2021-07-03 13:00:00\",\"2021-07-03 13:30:00\",\"2021-07-03 14:00:00\",\"2021-07-03 15:00:00\",\"2021-07-03 16:00:00\",\"2021-07-03 17:00:00\",\"2021-07-03 18:00:00\",\"2021-07-03 19:00:00\",\"2021-07-03 20:00:00\",\"2021-07-03 22:00:00\",\"2021-07-03 23:00:00\",\"2021-07-04 00:00:00\",\"2021-07-04 10:00:00\",\"2021-07-04 11:00:00\",\"2021-07-04 11:30:00\",\"2021-07-04 12:00:00\",\"2021-07-04 12:30:00\",\"2021-07-04 13:00:00\",\"2021-07-04 13:30:00\",\"2021-07-04 14:00:00\",\"2021-07-04 14:30:00\",\"2021-07-04 15:00:00\",\"2021-07-04 15:30:00\",\"2021-07-04 16:00:00\",\"2021-07-04 16:30:00\",\"2021-07-04 17:00:00\",\"2021-07-04 17:30:00\",\"2021-07-04 18:00:00\",\"2021-07-04 18:30:00\",\"2021-07-04 19:00:00\",\"2021-07-04 19:30:00\",\"2021-07-04 20:00:00\",\"2021-07-04 20:30:00\",\"2021-07-04 21:00:00\",\"2021-07-04 22:00:00\",\"2021-07-04 22:30:00\",\"2021-07-05 08:00:00\",\"2021-07-05 12:00:00\",\"2021-07-05 13:00:00\",\"2021-07-05 14:00:00\",\"2021-07-05 14:30:00\",\"2021-07-05 15:00:00\",\"2021-07-05 15:30:00\",\"2021-07-05 16:00:00\",\"2021-07-05 17:00:00\",\"2021-07-05 18:00:00\",\"2021-07-05 19:30:00\",\"2021-07-05 20:00:00\",\"2021-07-05 20:30:00\",\"2021-07-05 21:00:00\",\"2021-07-05 21:30:00\",\"2021-07-05 22:00:00\",\"2021-07-06 07:30:00\",\"2021-07-06 08:30:00\",\"2021-07-06 10:00:00\",\"2021-07-06 11:00:00\",\"2021-07-06 11:30:00\",\"2021-07-06 12:00:00\",\"2021-07-06 12:30:00\",\"2021-07-06 13:00:00\",\"2021-07-06 13:30:00\",\"2021-07-06 14:00:00\",\"2021-07-06 14:30:00\",\"2021-07-06 15:30:00\",\"2021-07-06 16:00:00\",\"2021-07-06 17:00:00\",\"2021-07-06 17:30:00\",\"2021-07-06 18:00:00\",\"2021-07-06 18:30:00\",\"2021-07-06 19:30:00\",\"2021-07-06 20:00:00\",\"2021-07-06 20:30:00\",\"2021-07-06 21:00:00\",\"2021-07-06 21:30:00\",\"2021-07-06 22:00:00\",\"2021-07-06 22:30:00\",\"2021-07-07 07:30:00\",\"2021-07-07 08:30:00\",\"2021-07-07 09:30:00\",\"2021-07-07 10:30:00\",\"2021-07-07 11:30:00\",\"2021-07-07 12:30:00\",\"2021-07-07 13:30:00\",\"2021-07-07 14:30:00\",\"2021-07-07 15:30:00\",\"2021-07-07 17:30:00\",\"2021-07-07 18:30:00\",\"2021-07-07 19:30:00\",\"2021-07-07 20:00:00\",\"2021-07-08 10:00:00\",\"2021-07-08 11:00:00\",\"2021-07-08 11:30:00\",\"2021-07-08 12:30:00\",\"2021-07-08 13:30:00\",\"2021-07-08 14:00:00\",\"2021-07-08 15:00:00\",\"2021-07-08 17:00:00\",\"2021-07-08 17:30:00\",\"2021-07-08 18:00:00\",\"2021-07-08 18:30:00\",\"2021-07-08 19:00:00\",\"2021-07-08 19:30:00\",\"2021-07-08 20:00:00\",\"2021-07-08 20:30:00\",\"2021-07-09 08:00:00\",\"2021-07-09 08:30:00\",\"2021-07-09 11:00:00\",\"2021-07-09 11:30:00\",\"2021-07-09 12:30:00\",\"2021-07-09 13:00:00\",\"2021-07-09 13:30:00\",\"2021-07-09 14:00:00\",\"2021-07-09 14:30:00\",\"2021-07-09 15:00:00\",\"2021-07-09 15:30:00\",\"2021-07-09 16:00:00\",\"2021-07-09 16:30:00\",\"2021-07-09 17:00:00\",\"2021-07-09 18:00:00\",\"2021-07-09 19:00:00\",\"2021-07-09 19:30:00\",\"2021-07-09 20:00:00\",\"2021-07-09 20:30:00\",\"2021-07-09 21:30:00\",\"2021-07-09 22:00:00\",\"2021-07-09 22:30:00\",\"2021-07-09 23:00:00\",\"2021-07-10 00:00:00\",\"2021-07-10 00:30:00\",\"2021-07-10 07:30:00\",\"2021-07-10 08:00:00\",\"2021-07-10 08:30:00\",\"2021-07-10 11:00:00\",\"2021-07-10 11:30:00\",\"2021-07-10 12:00:00\",\"2021-07-10 12:30:00\",\"2021-07-10 13:00:00\",\"2021-07-10 13:30:00\",\"2021-07-10 15:30:00\",\"2021-07-10 16:00:00\",\"2021-07-10 16:30:00\",\"2021-07-10 17:00:00\",\"2021-07-10 17:30:00\",\"2021-07-10 18:00:00\",\"2021-07-10 18:30:00\",\"2021-07-10 19:30:00\",\"2021-07-10 20:00:00\",\"2021-07-10 20:30:00\",\"2021-07-10 21:00:00\",\"2021-07-10 22:00:00\",\"2021-07-10 22:30:00\",\"2021-07-10 23:00:00\",\"2021-07-11 08:00:00\",\"2021-07-11 08:30:00\",\"2021-07-11 09:00:00\",\"2021-07-11 09:30:00\",\"2021-07-11 10:00:00\",\"2021-07-11 10:30:00\",\"2021-07-11 11:00:00\",\"2021-07-11 12:30:00\",\"2021-07-11 13:00:00\",\"2021-07-11 14:00:00\",\"2021-07-11 14:30:00\",\"2021-07-11 15:00:00\",\"2021-07-11 15:30:00\",\"2021-07-11 16:00:00\",\"2021-07-11 16:30:00\",\"2021-07-11 17:00:00\",\"2021-07-11 17:30:00\",\"2021-07-11 18:00:00\",\"2021-07-11 18:30:00\",\"2021-07-11 19:30:00\",\"2021-07-11 20:00:00\",\"2021-07-11 20:30:00\",\"2021-07-11 21:00:00\",\"2021-07-11 21:30:00\",\"2021-07-12 07:30:00\",\"2021-07-12 08:00:00\",\"2021-07-12 08:30:00\",\"2021-07-12 13:00:00\",\"2021-07-12 15:00:00\",\"2021-07-12 16:00:00\",\"2021-07-12 16:30:00\",\"2021-07-13 07:30:00\",\"2021-07-13 08:00:00\",\"2021-07-13 09:00:00\",\"2021-07-13 11:00:00\",\"2021-07-13 12:00:00\",\"2021-07-13 12:30:00\",\"2021-07-13 13:00:00\",\"2021-07-13 13:30:00\",\"2021-07-13 14:00:00\",\"2021-07-13 14:30:00\",\"2021-07-13 15:00:00\",\"2021-07-13 15:30:00\",\"2021-07-13 16:00:00\",\"2021-07-13 16:30:00\",\"2021-07-13 17:00:00\",\"2021-07-13 17:30:00\",\"2021-07-13 18:00:00\",\"2021-07-13 18:30:00\",\"2021-07-13 19:00:00\",\"2021-07-13 19:30:00\",\"2021-07-14 07:30:00\",\"2021-07-14 08:00:00\",\"2021-07-14 09:30:00\",\"2021-07-14 10:00:00\",\"2021-07-14 10:30:00\",\"2021-07-14 11:00:00\",\"2021-07-14 11:30:00\",\"2021-07-14 12:00:00\",\"2021-07-14 12:30:00\",\"2021-07-14 13:30:00\",\"2021-07-14 14:00:00\",\"2021-07-14 14:30:00\",\"2021-07-14 15:00:00\",\"2021-07-14 16:00:00\",\"2021-07-14 18:00:00\",\"2021-07-14 19:00:00\",\"2021-07-14 19:30:00\",\"2021-07-14 20:00:00\",\"2021-07-14 20:30:00\",\"2021-07-14 21:00:00\",\"2021-07-14 21:30:00\",\"2021-07-14 22:30:00\",\"2021-07-15 08:00:00\",\"2021-07-15 08:30:00\"],\"xaxis\":\"x\",\"y\":[30.1,30.07,30.09,30.09,30.09,30.29,30.265,30.24,29.87,29.89,29.91,29.91,29.96,29.759999999999998,29.56,30.23,31.52,31.68,31.68,31.68,31.689999999999998,31.689999999999998,31.69,31.7,31.72,31.75,31.75,31.75,31.75,32.15,32.15,32.1,32.08,31.9,31.46,32.4,31.95,31.95,31.94,32.79,32.81,33.27,31.54,30.48,30.455,30.43,30.51,30.51,30.54,30.55,30.56,30.564999999999998,30.57,30.55,30.53,30.48,31.39,32.05,32.33,31.63,30.93,30.32,30.314999999999998,30.31,30.34,30.34,30.34,30.32,30.77,30.74,30.81,30.88,30.54,29.96,29.905,29.85,30.1,30.32,31.73,31.84,32.0,31.56,30.65,29.77,29.755,29.74,29.8,30.24,32.13,31.54,31.4,31.26,31.61,30.82,29.68,29.68,29.84,30.1,30.11,30.53,30.975,31.0,31.44,31.45,31.05,31.09,31.1,30.68,30.27,29.82,29.81,29.939999999999998,30.07,30.33,30.24,30.15,30.16,30.17,30.125,30.08,30.159999999999997,30.24,29.9,29.939999999999998,29.98,30.79,31.44,31.45,30.11,29.93,29.75,29.75,29.78,30.22,30.23,30.64,31.1,31.11,31.12,31.03,30.94,30.96,30.98,31.02,31.15,31.095,31.04,31.56,31.34,30.97,31.09,31.21,30.995,30.78,30.465,30.15,29.71,29.71,30.14,30.16,30.5,30.6,30.6,31.04,31.06,31.12,31.09,31.44,31.44,31.475,31.51,31.485,31.46,31.84,29.89,29.765,29.64,30.08,30.51,30.95,30.99,30.77,30.64,30.24,30.24,30.26,30.26,30.26,30.26,30.27,30.27,30.7,30.7,30.27,30.24,30.24,30.659999999999997,31.08,31.07,30.8,30.58,30.36,30.36,30.44,30.98,30.9,30.88,31.11,31.155,31.2,29.97,30.05,30.91,30.79,30.17,30.2,29.79,29.79,30.24,30.24,30.415,30.59,30.8,29.55,29.65,29.75,30.22,30.27,30.115000000000002,29.96,30.4,30.43,30.06,30.95,30.57,30.15,30.17,29.77,29.79,29.81,29.83,30.26,30.7,30.69,30.66,30.65,30.64,30.59,30.85,31.11,31.45,31.3,30.85,29.71,29.68,29.75,29.9,30.42,30.87,30.9,30.53,30.65,30.65,30.67,30.66,30.65,30.17,30.12,29.92,29.85,29.78,29.91,30.04,30.11,30.19,29.7,29.7,29.7,30.19,30.055,30.0225,29.99,29.99,30.43,30.28,30.13,29.71,29.73,29.75,29.75,29.75,29.75,29.75,29.75,30.18,30.2,30.2,30.185000000000002,30.17,29.73,29.71,30.14,30.02,29.99,29.91,29.85,29.79,29.74,29.84,30.24,30.48,30.435000000000002,30.39,30.41,30.43,31.31,31.424999999999997,31.54,30.21,29.94,30.035,30.13,30.15,30.15,30.57,30.57,30.53,30.0,30.1,30.005000000000003,29.91,29.865000000000002,29.8625,29.86,29.86,30.29,30.27,30.26,30.26,30.25,30.24,29.93,29.05,29.05,29.05,29.05,29.05,29.05,29.49,29.51,29.51,29.51,29.51,29.51,29.49,29.89,29.98,30.08,30.18,30.44,30.43,30.35,29.94,29.53,29.520000000000003,29.51,29.49,29.525,29.56,29.57,29.57,33.06,34.37,34.69,35.84,32.5,30.44,30.415,30.39,31.235,32.08,33.37,33.82,33.81,31.29,31.235,31.18,31.240000000000002,31.3,32.61,33.31,35.64,29.88,29.92,30.025,30.042499999999997,30.06,30.44,30.79,30.82,30.66,30.5,30.08,30.08,30.08,30.08,30.06,30.05,30.055,30.06,30.104999999999997,30.15,30.51,30.51,30.520000000000003,30.520000000000003,30.52,30.55,30.6,30.53,30.46,32.69,32.14,31.94,31.58,30.25,29.78,29.77,29.77,29.77,29.75,30.37,30.91,31.42,31.41,32.03,31.775,31.52,31.19,30.76,30.29,29.82,29.8,29.78,30.18,30.175,30.17,30.19,31.84,31.77,31.17,30.72,30.25,29.91,30.73,31.64,31.67,31.65,31.63,31.37,31.49,31.21,32.5,31.9,31.06,32.99,32.78,32.57,31.51,31.27,31.29,31.21,29.81,29.81,29.81,33.16,31.56,30.45,33.1,32.935,32.77,33.1,30.44,30.88,31.38,30.799999999999997,30.22,29.78,29.8,30.25,32.1,32.22,32.18,32.14,32.61,32.92,33.39,32.24,31.92,31.385,30.85,30.68,31.07,31.33,31.22,31.11,30.63,30.15,30.17,29.88,29.975,30.07,30.07,32.56,33.06,31.8,29.85,29.9,30.35,30.84,30.7,30.56,30.48,30.46,30.29,30.12,31.22,32.5,32.78,33.86,33.38,33.26,30.92,30.630000000000003,30.34,30.39,30.84,33.16,33.05,31.89,32.16,30.22,30.2,30.65,30.48,30.2,30.2,30.2,30.2,29.8,31.85,31.992500000000003,32.135000000000005,31.23,30.6,30.575000000000003,30.55,34.02,33.6,30.15,30.15,30.15,30.15,30.15,30.55,32.95,32.33,32.349999999999994,32.37,32.155,31.94,31.69,30.41,30.93,30.68,31.63,32.78,30.06,30.075,30.09,30.54,30.72,30.98,30.99,31.42,31.98,31.87,31.87,31.87,31.490000000000002,31.450000000000003,31.41,30.78,30.64,30.72,30.8,31.7,31.9,32.32,31.43,30.94,30.67,30.865000000000002,30.9075,30.95,30.09,29.88,30.32,31.05,30.99,30.89,31.09,31.02,31.34,31.35,32.31,32.33,32.055,31.78,31.925,32.07,30.41,30.405,30.4,29.94,29.94,29.94,29.94,30.03,30.03,30.38,33.31,32.695,32.08,32.05,32.73,30.62,30.24,30.24,30.24,30.15,29.7,30.6,30.26,31.78,31.36,31.625,31.89,31.825000000000003,31.76,32.2,32.19,30.6,31.12,31.09,31.48,31.77,30.63,30.13,30.13,30.13,30.13,29.71,29.71,29.73,33.64,32.38,30.87,29.89,29.9,29.91,30.83,31.75,31.83,32.73,32.77,32.69,32.61,32.675,32.74,31.94,31.48,31.15,30.74,30.19,30.18,30.18,30.17,30.17,30.55,31.27,31.81,29.7,29.93,30.8,31.66,29.35,30.18,31.3,30.87,32.11,31.89,31.54,31.22,30.73,30.63,30.28,29.99,32.64,31.47,31.46,31.45,31.19,31.105,31.02,30.7,30.64,30.57,30.439999999999998,30.31,33.33,32.805,32.8875,32.97,33.29,33.825,34.36,32.9,32.42,32.205,32.5625,32.92,31.76,31.11,31.11,29.82,29.48,29.38,30.22,30.4],\"yaxis\":\"y\"}],                        {\"legend\":{\"tracegroupgap\":0},\"margin\":{\"t\":60},\"template\":{\"data\":{\"bar\":[{\"error_x\":{\"color\":\"#2a3f5f\"},\"error_y\":{\"color\":\"#2a3f5f\"},\"marker\":{\"line\":{\"color\":\"#E5ECF6\",\"width\":0.5},\"pattern\":{\"fillmode\":\"overlay\",\"size\":10,\"solidity\":0.2}},\"type\":\"bar\"}],\"barpolar\":[{\"marker\":{\"line\":{\"color\":\"#E5ECF6\",\"width\":0.5},\"pattern\":{\"fillmode\":\"overlay\",\"size\":10,\"solidity\":0.2}},\"type\":\"barpolar\"}],\"carpet\":[{\"aaxis\":{\"endlinecolor\":\"#2a3f5f\",\"gridcolor\":\"white\",\"linecolor\":\"white\",\"minorgridcolor\":\"white\",\"startlinecolor\":\"#2a3f5f\"},\"baxis\":{\"endlinecolor\":\"#2a3f5f\",\"gridcolor\":\"white\",\"linecolor\":\"white\",\"minorgridcolor\":\"white\",\"startlinecolor\":\"#2a3f5f\"},\"type\":\"carpet\"}],\"choropleth\":[{\"colorbar\":{\"outlinewidth\":0,\"ticks\":\"\"},\"type\":\"choropleth\"}],\"contour\":[{\"colorbar\":{\"outlinewidth\":0,\"ticks\":\"\"},\"colorscale\":[[0.0,\"#0d0887\"],[0.1111111111111111,\"#46039f\"],[0.2222222222222222,\"#7201a8\"],[0.3333333333333333,\"#9c179e\"],[0.4444444444444444,\"#bd3786\"],[0.5555555555555556,\"#d8576b\"],[0.6666666666666666,\"#ed7953\"],[0.7777777777777778,\"#fb9f3a\"],[0.8888888888888888,\"#fdca26\"],[1.0,\"#f0f921\"]],\"type\":\"contour\"}],\"contourcarpet\":[{\"colorbar\":{\"outlinewidth\":0,\"ticks\":\"\"},\"type\":\"contourcarpet\"}],\"heatmap\":[{\"colorbar\":{\"outlinewidth\":0,\"ticks\":\"\"},\"colorscale\":[[0.0,\"#0d0887\"],[0.1111111111111111,\"#46039f\"],[0.2222222222222222,\"#7201a8\"],[0.3333333333333333,\"#9c179e\"],[0.4444444444444444,\"#bd3786\"],[0.5555555555555556,\"#d8576b\"],[0.6666666666666666,\"#ed7953\"],[0.7777777777777778,\"#fb9f3a\"],[0.8888888888888888,\"#fdca26\"],[1.0,\"#f0f921\"]],\"type\":\"heatmap\"}],\"heatmapgl\":[{\"colorbar\":{\"outlinewidth\":0,\"ticks\":\"\"},\"colorscale\":[[0.0,\"#0d0887\"],[0.1111111111111111,\"#46039f\"],[0.2222222222222222,\"#7201a8\"],[0.3333333333333333,\"#9c179e\"],[0.4444444444444444,\"#bd3786\"],[0.5555555555555556,\"#d8576b\"],[0.6666666666666666,\"#ed7953\"],[0.7777777777777778,\"#fb9f3a\"],[0.8888888888888888,\"#fdca26\"],[1.0,\"#f0f921\"]],\"type\":\"heatmapgl\"}],\"histogram\":[{\"marker\":{\"pattern\":{\"fillmode\":\"overlay\",\"size\":10,\"solidity\":0.2}},\"type\":\"histogram\"}],\"histogram2d\":[{\"colorbar\":{\"outlinewidth\":0,\"ticks\":\"\"},\"colorscale\":[[0.0,\"#0d0887\"],[0.1111111111111111,\"#46039f\"],[0.2222222222222222,\"#7201a8\"],[0.3333333333333333,\"#9c179e\"],[0.4444444444444444,\"#bd3786\"],[0.5555555555555556,\"#d8576b\"],[0.6666666666666666,\"#ed7953\"],[0.7777777777777778,\"#fb9f3a\"],[0.8888888888888888,\"#fdca26\"],[1.0,\"#f0f921\"]],\"type\":\"histogram2d\"}],\"histogram2dcontour\":[{\"colorbar\":{\"outlinewidth\":0,\"ticks\":\"\"},\"colorscale\":[[0.0,\"#0d0887\"],[0.1111111111111111,\"#46039f\"],[0.2222222222222222,\"#7201a8\"],[0.3333333333333333,\"#9c179e\"],[0.4444444444444444,\"#bd3786\"],[0.5555555555555556,\"#d8576b\"],[0.6666666666666666,\"#ed7953\"],[0.7777777777777778,\"#fb9f3a\"],[0.8888888888888888,\"#fdca26\"],[1.0,\"#f0f921\"]],\"type\":\"histogram2dcontour\"}],\"mesh3d\":[{\"colorbar\":{\"outlinewidth\":0,\"ticks\":\"\"},\"type\":\"mesh3d\"}],\"parcoords\":[{\"line\":{\"colorbar\":{\"outlinewidth\":0,\"ticks\":\"\"}},\"type\":\"parcoords\"}],\"pie\":[{\"automargin\":true,\"type\":\"pie\"}],\"scatter\":[{\"marker\":{\"colorbar\":{\"outlinewidth\":0,\"ticks\":\"\"}},\"type\":\"scatter\"}],\"scatter3d\":[{\"line\":{\"colorbar\":{\"outlinewidth\":0,\"ticks\":\"\"}},\"marker\":{\"colorbar\":{\"outlinewidth\":0,\"ticks\":\"\"}},\"type\":\"scatter3d\"}],\"scattercarpet\":[{\"marker\":{\"colorbar\":{\"outlinewidth\":0,\"ticks\":\"\"}},\"type\":\"scattercarpet\"}],\"scattergeo\":[{\"marker\":{\"colorbar\":{\"outlinewidth\":0,\"ticks\":\"\"}},\"type\":\"scattergeo\"}],\"scattergl\":[{\"marker\":{\"colorbar\":{\"outlinewidth\":0,\"ticks\":\"\"}},\"type\":\"scattergl\"}],\"scattermapbox\":[{\"marker\":{\"colorbar\":{\"outlinewidth\":0,\"ticks\":\"\"}},\"type\":\"scattermapbox\"}],\"scatterpolar\":[{\"marker\":{\"colorbar\":{\"outlinewidth\":0,\"ticks\":\"\"}},\"type\":\"scatterpolar\"}],\"scatterpolargl\":[{\"marker\":{\"colorbar\":{\"outlinewidth\":0,\"ticks\":\"\"}},\"type\":\"scatterpolargl\"}],\"scatterternary\":[{\"marker\":{\"colorbar\":{\"outlinewidth\":0,\"ticks\":\"\"}},\"type\":\"scatterternary\"}],\"surface\":[{\"colorbar\":{\"outlinewidth\":0,\"ticks\":\"\"},\"colorscale\":[[0.0,\"#0d0887\"],[0.1111111111111111,\"#46039f\"],[0.2222222222222222,\"#7201a8\"],[0.3333333333333333,\"#9c179e\"],[0.4444444444444444,\"#bd3786\"],[0.5555555555555556,\"#d8576b\"],[0.6666666666666666,\"#ed7953\"],[0.7777777777777778,\"#fb9f3a\"],[0.8888888888888888,\"#fdca26\"],[1.0,\"#f0f921\"]],\"type\":\"surface\"}],\"table\":[{\"cells\":{\"fill\":{\"color\":\"#EBF0F8\"},\"line\":{\"color\":\"white\"}},\"header\":{\"fill\":{\"color\":\"#C8D4E3\"},\"line\":{\"color\":\"white\"}},\"type\":\"table\"}]},\"layout\":{\"annotationdefaults\":{\"arrowcolor\":\"#2a3f5f\",\"arrowhead\":0,\"arrowwidth\":1},\"autotypenumbers\":\"strict\",\"coloraxis\":{\"colorbar\":{\"outlinewidth\":0,\"ticks\":\"\"}},\"colorscale\":{\"diverging\":[[0,\"#8e0152\"],[0.1,\"#c51b7d\"],[0.2,\"#de77ae\"],[0.3,\"#f1b6da\"],[0.4,\"#fde0ef\"],[0.5,\"#f7f7f7\"],[0.6,\"#e6f5d0\"],[0.7,\"#b8e186\"],[0.8,\"#7fbc41\"],[0.9,\"#4d9221\"],[1,\"#276419\"]],\"sequential\":[[0.0,\"#0d0887\"],[0.1111111111111111,\"#46039f\"],[0.2222222222222222,\"#7201a8\"],[0.3333333333333333,\"#9c179e\"],[0.4444444444444444,\"#bd3786\"],[0.5555555555555556,\"#d8576b\"],[0.6666666666666666,\"#ed7953\"],[0.7777777777777778,\"#fb9f3a\"],[0.8888888888888888,\"#fdca26\"],[1.0,\"#f0f921\"]],\"sequentialminus\":[[0.0,\"#0d0887\"],[0.1111111111111111,\"#46039f\"],[0.2222222222222222,\"#7201a8\"],[0.3333333333333333,\"#9c179e\"],[0.4444444444444444,\"#bd3786\"],[0.5555555555555556,\"#d8576b\"],[0.6666666666666666,\"#ed7953\"],[0.7777777777777778,\"#fb9f3a\"],[0.8888888888888888,\"#fdca26\"],[1.0,\"#f0f921\"]]},\"colorway\":[\"#636efa\",\"#EF553B\",\"#00cc96\",\"#ab63fa\",\"#FFA15A\",\"#19d3f3\",\"#FF6692\",\"#B6E880\",\"#FF97FF\",\"#FECB52\"],\"font\":{\"color\":\"#2a3f5f\"},\"geo\":{\"bgcolor\":\"white\",\"lakecolor\":\"white\",\"landcolor\":\"#E5ECF6\",\"showlakes\":true,\"showland\":true,\"subunitcolor\":\"white\"},\"hoverlabel\":{\"align\":\"left\"},\"hovermode\":\"closest\",\"mapbox\":{\"style\":\"light\"},\"paper_bgcolor\":\"white\",\"plot_bgcolor\":\"#E5ECF6\",\"polar\":{\"angularaxis\":{\"gridcolor\":\"white\",\"linecolor\":\"white\",\"ticks\":\"\"},\"bgcolor\":\"#E5ECF6\",\"radialaxis\":{\"gridcolor\":\"white\",\"linecolor\":\"white\",\"ticks\":\"\"}},\"scene\":{\"xaxis\":{\"backgroundcolor\":\"#E5ECF6\",\"gridcolor\":\"white\",\"gridwidth\":2,\"linecolor\":\"white\",\"showbackground\":true,\"ticks\":\"\",\"zerolinecolor\":\"white\"},\"yaxis\":{\"backgroundcolor\":\"#E5ECF6\",\"gridcolor\":\"white\",\"gridwidth\":2,\"linecolor\":\"white\",\"showbackground\":true,\"ticks\":\"\",\"zerolinecolor\":\"white\"},\"zaxis\":{\"backgroundcolor\":\"#E5ECF6\",\"gridcolor\":\"white\",\"gridwidth\":2,\"linecolor\":\"white\",\"showbackground\":true,\"ticks\":\"\",\"zerolinecolor\":\"white\"}},\"shapedefaults\":{\"line\":{\"color\":\"#2a3f5f\"}},\"ternary\":{\"aaxis\":{\"gridcolor\":\"white\",\"linecolor\":\"white\",\"ticks\":\"\"},\"baxis\":{\"gridcolor\":\"white\",\"linecolor\":\"white\",\"ticks\":\"\"},\"bgcolor\":\"#E5ECF6\",\"caxis\":{\"gridcolor\":\"white\",\"linecolor\":\"white\",\"ticks\":\"\"}},\"title\":{\"x\":0.05},\"xaxis\":{\"automargin\":true,\"gridcolor\":\"white\",\"linecolor\":\"white\",\"ticks\":\"\",\"title\":{\"standoff\":15},\"zerolinecolor\":\"white\",\"zerolinewidth\":2},\"yaxis\":{\"automargin\":true,\"gridcolor\":\"white\",\"linecolor\":\"white\",\"ticks\":\"\",\"title\":{\"standoff\":15},\"zerolinecolor\":\"white\",\"zerolinewidth\":2}}},\"xaxis\":{\"anchor\":\"y\",\"domain\":[0.0,1.0],\"title\":{\"text\":\"time\"}},\"yaxis\":{\"anchor\":\"x\",\"domain\":[0.0,1.0],\"title\":{\"text\":\"value\"}}},                        {\"responsive\": true}                    ).then(function(){\n",
       "                            \n",
       "var gd = document.getElementById('0d0a915f-49fc-4caa-a68a-f47a6567319c');\n",
       "var x = new MutationObserver(function (mutations, observer) {{\n",
       "        var display = window.getComputedStyle(gd).display;\n",
       "        if (!display || display === 'none') {{\n",
       "            console.log([gd, 'removed!']);\n",
       "            Plotly.purge(gd);\n",
       "            observer.disconnect();\n",
       "        }}\n",
       "}});\n",
       "\n",
       "// Listen for the removal of the full notebook cells\n",
       "var notebookContainer = gd.closest('#notebook-container');\n",
       "if (notebookContainer) {{\n",
       "    x.observe(notebookContainer, {childList: true});\n",
       "}}\n",
       "\n",
       "// Listen for the clearing of the current output cell\n",
       "var outputEl = gd.closest('.output');\n",
       "if (outputEl) {{\n",
       "    x.observe(outputEl, {childList: true});\n",
       "}}\n",
       "\n",
       "                        })                };                });            </script>        </div>"
      ]
     },
     "metadata": {},
     "output_type": "display_data"
    },
    {
     "name": "stdout",
     "output_type": "stream",
     "text": [
      "21-1-2\n"
     ]
    }
   ],
   "source": [
    "m = 21\n",
    "n = 1\n",
    "s = 2\n",
    "\n",
    "df=pd.read_csv(r'C:\\Users\\Tosha.E.T\\Desktop\\Sinotech\\716\\{0}-{1}-{2}_clean.csv'.format(m,n,s))\n",
    "df=df[df['value']>25]\n",
    "df=df[df['value']<37]\n",
    "df = df.reset_index()\n",
    "\n",
    "i = 1\n",
    "while i<(len(df[\"value\"])-1):\n",
    "    a = df[\"value\"][i-1]\n",
    "    b = df[\"value\"][i]\n",
    "    c = df[\"value\"][i+1]\n",
    "    if (abs(b-c)+abs(a-b))/2>abs(c-a)*1.5:\n",
    "        df[\"value\"][i] = (a+c)/2\n",
    "        i=i+1\n",
    "    else:\n",
    "        i=i+1\n",
    "df.to_csv(r'C:\\Users\\Tosha.E.T\\Desktop\\Sinotech\\716\\{0}-{1}-{2}_cut.csv'.format(m,n,s))\n",
    "print(\"cut save!!\")\n",
    "#---------------------------------------------------\n",
    "fig = px.line(df, y='value', x='time')        \n",
    "fig.show()\n",
    "print(\"{0}-{1}-{2}\".format(m,n,s))"
   ]
  },
  {
   "cell_type": "code",
   "execution_count": 254,
   "id": "collectible-giant",
   "metadata": {},
   "outputs": [],
   "source": [
    "# m = 21\n",
    "# n = 2\n",
    "# s = 1\n",
    "\n",
    "# df=pd.read_csv(r'C:\\Users\\Tosha.E.T\\Desktop\\Sinotech\\716\\{0}-{1}-{2}_clean.csv'.format(m,n,s))\n",
    "# df=df[df['value']>30]\n",
    "# df=df[df['value']<45]\n",
    "# df = df.reset_index()\n",
    "\n",
    "# i = 1\n",
    "# while i<(len(df[\"value\"])-1):\n",
    "#     a = df[\"value\"][i-1]\n",
    "#     b = df[\"value\"][i]\n",
    "#     c = df[\"value\"][i+1]\n",
    "#     if (abs(b-c)+abs(a-b))/2>abs(c-a)*1.5:\n",
    "#         df[\"value\"][i] = (a+c)/2\n",
    "#         i=i+1\n",
    "#     else:\n",
    "#         i=i+1\n",
    "# df.to_csv(r'C:\\Users\\Tosha.E.T\\Desktop\\Sinotech\\716\\{0}-{1}-{2}_cut.csv'.format(m,n,s))\n",
    "# print(\"cut save!!\")\n",
    "# #---------------------------------------------------\n",
    "# fig = px.line(df, y='value', x='time')        \n",
    "# fig.show()\n",
    "# print(\"{0}-{1}-{2}\".format(m,n,s))"
   ]
  },
  {
   "cell_type": "code",
   "execution_count": 253,
   "id": "professional-matter",
   "metadata": {},
   "outputs": [],
   "source": [
    "# m = 21\n",
    "# n = 2\n",
    "# s = 2\n",
    "\n",
    "# df=pd.read_csv(r'C:\\Users\\Tosha.E.T\\Desktop\\Sinotech\\716\\{0}-{1}-{2}_clean.csv'.format(m,n,s))\n",
    "# df=df[df['value']>23]\n",
    "# df=df[df['value']<35]\n",
    "# df = df.reset_index()\n",
    "\n",
    "# i = 1\n",
    "# while i<(len(df[\"value\"])-1):\n",
    "#     a = df[\"value\"][i-1]\n",
    "#     b = df[\"value\"][i]\n",
    "#     c = df[\"value\"][i+1]\n",
    "#     if (abs(b-c)+abs(a-b))/2>abs(c-a)*1.5:\n",
    "#         df[\"value\"][i] = (a+c)/2\n",
    "#         i=i+1\n",
    "#     else:\n",
    "#         i=i+1\n",
    "# df.to_csv(r'C:\\Users\\Tosha.E.T\\Desktop\\Sinotech\\716\\{0}-{1}-{2}_cut.csv'.format(m,n,s))\n",
    "# print(\"cut save!!\")\n",
    "# #---------------------------------------------------\n",
    "# fig = px.line(df, y='value', x='time')        \n",
    "# fig.show()\n",
    "# print(\"{0}-{1}-{2}\".format(m,n,s))"
   ]
  },
  {
   "cell_type": "code",
   "execution_count": 252,
   "id": "pleasant-college",
   "metadata": {},
   "outputs": [],
   "source": [
    "# m = 22\n",
    "# n = 1\n",
    "# s = 1\n",
    "\n",
    "# df=pd.read_csv(r'C:\\Users\\Tosha.E.T\\Desktop\\Sinotech\\716\\{0}-{1}-{2}_clean.csv'.format(m,n,s))\n",
    "# df=df[df['value']>40]\n",
    "# df=df[df['value']<44]\n",
    "# df = df.reset_index()\n",
    "\n",
    "# i = 1\n",
    "# while i<(len(df[\"value\"])-1):\n",
    "#     a = df[\"value\"][i-1]\n",
    "#     b = df[\"value\"][i]\n",
    "#     c = df[\"value\"][i+1]\n",
    "#     if (abs(b-c)+abs(a-b))/2>abs(c-a)*1.5:\n",
    "#         df[\"value\"][i] = (a+c)/2\n",
    "#         i=i+1\n",
    "#     else:\n",
    "#         i=i+1\n",
    "# df.to_csv(r'C:\\Users\\Tosha.E.T\\Desktop\\Sinotech\\716\\{0}-{1}-{2}_cut.csv'.format(m,n,s))\n",
    "# print(\"cut save!!\")\n",
    "# #---------------------------------------------------\n",
    "# fig = px.line(df, y='value', x='time')        \n",
    "# fig.show()\n",
    "# print(\"{0}-{1}-{2}\".format(m,n,s))"
   ]
  },
  {
   "cell_type": "code",
   "execution_count": 24,
   "id": "rapid-somalia",
   "metadata": {},
   "outputs": [
    {
     "name": "stdout",
     "output_type": "stream",
     "text": [
      "cut save!!\n"
     ]
    },
    {
     "name": "stderr",
     "output_type": "stream",
     "text": [
      "<ipython-input-24-b27cbb41d16f>:16: SettingWithCopyWarning:\n",
      "\n",
      "\n",
      "A value is trying to be set on a copy of a slice from a DataFrame\n",
      "\n",
      "See the caveats in the documentation: https://pandas.pydata.org/pandas-docs/stable/user_guide/indexing.html#returning-a-view-versus-a-copy\n",
      "\n"
     ]
    },
    {
     "data": {
      "application/vnd.plotly.v1+json": {
       "config": {
        "plotlyServerURL": "https://plot.ly"
       },
       "data": [
        {
         "hovertemplate": "time=%{x}<br>value=%{y}<extra></extra>",
         "legendgroup": "",
         "line": {
          "color": "#636efa",
          "dash": "solid"
         },
         "mode": "lines",
         "name": "",
         "orientation": "v",
         "showlegend": false,
         "type": "scatter",
         "x": [
          "2021-06-16",
          "2021-06-18",
          "2021-06-20",
          "2021-06-21",
          "2021-06-22"
         ],
         "xaxis": "x",
         "y": [
          32.49541666666667,
          32.53228571428573,
          32.41276447876449,
          32.293243243243246,
          30.72972222222223
         ],
         "yaxis": "y"
        }
       ],
       "layout": {
        "legend": {
         "tracegroupgap": 0
        },
        "margin": {
         "t": 60
        },
        "template": {
         "data": {
          "bar": [
           {
            "error_x": {
             "color": "#2a3f5f"
            },
            "error_y": {
             "color": "#2a3f5f"
            },
            "marker": {
             "line": {
              "color": "#E5ECF6",
              "width": 0.5
             },
             "pattern": {
              "fillmode": "overlay",
              "size": 10,
              "solidity": 0.2
             }
            },
            "type": "bar"
           }
          ],
          "barpolar": [
           {
            "marker": {
             "line": {
              "color": "#E5ECF6",
              "width": 0.5
             },
             "pattern": {
              "fillmode": "overlay",
              "size": 10,
              "solidity": 0.2
             }
            },
            "type": "barpolar"
           }
          ],
          "carpet": [
           {
            "aaxis": {
             "endlinecolor": "#2a3f5f",
             "gridcolor": "white",
             "linecolor": "white",
             "minorgridcolor": "white",
             "startlinecolor": "#2a3f5f"
            },
            "baxis": {
             "endlinecolor": "#2a3f5f",
             "gridcolor": "white",
             "linecolor": "white",
             "minorgridcolor": "white",
             "startlinecolor": "#2a3f5f"
            },
            "type": "carpet"
           }
          ],
          "choropleth": [
           {
            "colorbar": {
             "outlinewidth": 0,
             "ticks": ""
            },
            "type": "choropleth"
           }
          ],
          "contour": [
           {
            "colorbar": {
             "outlinewidth": 0,
             "ticks": ""
            },
            "colorscale": [
             [
              0,
              "#0d0887"
             ],
             [
              0.1111111111111111,
              "#46039f"
             ],
             [
              0.2222222222222222,
              "#7201a8"
             ],
             [
              0.3333333333333333,
              "#9c179e"
             ],
             [
              0.4444444444444444,
              "#bd3786"
             ],
             [
              0.5555555555555556,
              "#d8576b"
             ],
             [
              0.6666666666666666,
              "#ed7953"
             ],
             [
              0.7777777777777778,
              "#fb9f3a"
             ],
             [
              0.8888888888888888,
              "#fdca26"
             ],
             [
              1,
              "#f0f921"
             ]
            ],
            "type": "contour"
           }
          ],
          "contourcarpet": [
           {
            "colorbar": {
             "outlinewidth": 0,
             "ticks": ""
            },
            "type": "contourcarpet"
           }
          ],
          "heatmap": [
           {
            "colorbar": {
             "outlinewidth": 0,
             "ticks": ""
            },
            "colorscale": [
             [
              0,
              "#0d0887"
             ],
             [
              0.1111111111111111,
              "#46039f"
             ],
             [
              0.2222222222222222,
              "#7201a8"
             ],
             [
              0.3333333333333333,
              "#9c179e"
             ],
             [
              0.4444444444444444,
              "#bd3786"
             ],
             [
              0.5555555555555556,
              "#d8576b"
             ],
             [
              0.6666666666666666,
              "#ed7953"
             ],
             [
              0.7777777777777778,
              "#fb9f3a"
             ],
             [
              0.8888888888888888,
              "#fdca26"
             ],
             [
              1,
              "#f0f921"
             ]
            ],
            "type": "heatmap"
           }
          ],
          "heatmapgl": [
           {
            "colorbar": {
             "outlinewidth": 0,
             "ticks": ""
            },
            "colorscale": [
             [
              0,
              "#0d0887"
             ],
             [
              0.1111111111111111,
              "#46039f"
             ],
             [
              0.2222222222222222,
              "#7201a8"
             ],
             [
              0.3333333333333333,
              "#9c179e"
             ],
             [
              0.4444444444444444,
              "#bd3786"
             ],
             [
              0.5555555555555556,
              "#d8576b"
             ],
             [
              0.6666666666666666,
              "#ed7953"
             ],
             [
              0.7777777777777778,
              "#fb9f3a"
             ],
             [
              0.8888888888888888,
              "#fdca26"
             ],
             [
              1,
              "#f0f921"
             ]
            ],
            "type": "heatmapgl"
           }
          ],
          "histogram": [
           {
            "marker": {
             "pattern": {
              "fillmode": "overlay",
              "size": 10,
              "solidity": 0.2
             }
            },
            "type": "histogram"
           }
          ],
          "histogram2d": [
           {
            "colorbar": {
             "outlinewidth": 0,
             "ticks": ""
            },
            "colorscale": [
             [
              0,
              "#0d0887"
             ],
             [
              0.1111111111111111,
              "#46039f"
             ],
             [
              0.2222222222222222,
              "#7201a8"
             ],
             [
              0.3333333333333333,
              "#9c179e"
             ],
             [
              0.4444444444444444,
              "#bd3786"
             ],
             [
              0.5555555555555556,
              "#d8576b"
             ],
             [
              0.6666666666666666,
              "#ed7953"
             ],
             [
              0.7777777777777778,
              "#fb9f3a"
             ],
             [
              0.8888888888888888,
              "#fdca26"
             ],
             [
              1,
              "#f0f921"
             ]
            ],
            "type": "histogram2d"
           }
          ],
          "histogram2dcontour": [
           {
            "colorbar": {
             "outlinewidth": 0,
             "ticks": ""
            },
            "colorscale": [
             [
              0,
              "#0d0887"
             ],
             [
              0.1111111111111111,
              "#46039f"
             ],
             [
              0.2222222222222222,
              "#7201a8"
             ],
             [
              0.3333333333333333,
              "#9c179e"
             ],
             [
              0.4444444444444444,
              "#bd3786"
             ],
             [
              0.5555555555555556,
              "#d8576b"
             ],
             [
              0.6666666666666666,
              "#ed7953"
             ],
             [
              0.7777777777777778,
              "#fb9f3a"
             ],
             [
              0.8888888888888888,
              "#fdca26"
             ],
             [
              1,
              "#f0f921"
             ]
            ],
            "type": "histogram2dcontour"
           }
          ],
          "mesh3d": [
           {
            "colorbar": {
             "outlinewidth": 0,
             "ticks": ""
            },
            "type": "mesh3d"
           }
          ],
          "parcoords": [
           {
            "line": {
             "colorbar": {
              "outlinewidth": 0,
              "ticks": ""
             }
            },
            "type": "parcoords"
           }
          ],
          "pie": [
           {
            "automargin": true,
            "type": "pie"
           }
          ],
          "scatter": [
           {
            "marker": {
             "colorbar": {
              "outlinewidth": 0,
              "ticks": ""
             }
            },
            "type": "scatter"
           }
          ],
          "scatter3d": [
           {
            "line": {
             "colorbar": {
              "outlinewidth": 0,
              "ticks": ""
             }
            },
            "marker": {
             "colorbar": {
              "outlinewidth": 0,
              "ticks": ""
             }
            },
            "type": "scatter3d"
           }
          ],
          "scattercarpet": [
           {
            "marker": {
             "colorbar": {
              "outlinewidth": 0,
              "ticks": ""
             }
            },
            "type": "scattercarpet"
           }
          ],
          "scattergeo": [
           {
            "marker": {
             "colorbar": {
              "outlinewidth": 0,
              "ticks": ""
             }
            },
            "type": "scattergeo"
           }
          ],
          "scattergl": [
           {
            "marker": {
             "colorbar": {
              "outlinewidth": 0,
              "ticks": ""
             }
            },
            "type": "scattergl"
           }
          ],
          "scattermapbox": [
           {
            "marker": {
             "colorbar": {
              "outlinewidth": 0,
              "ticks": ""
             }
            },
            "type": "scattermapbox"
           }
          ],
          "scatterpolar": [
           {
            "marker": {
             "colorbar": {
              "outlinewidth": 0,
              "ticks": ""
             }
            },
            "type": "scatterpolar"
           }
          ],
          "scatterpolargl": [
           {
            "marker": {
             "colorbar": {
              "outlinewidth": 0,
              "ticks": ""
             }
            },
            "type": "scatterpolargl"
           }
          ],
          "scatterternary": [
           {
            "marker": {
             "colorbar": {
              "outlinewidth": 0,
              "ticks": ""
             }
            },
            "type": "scatterternary"
           }
          ],
          "surface": [
           {
            "colorbar": {
             "outlinewidth": 0,
             "ticks": ""
            },
            "colorscale": [
             [
              0,
              "#0d0887"
             ],
             [
              0.1111111111111111,
              "#46039f"
             ],
             [
              0.2222222222222222,
              "#7201a8"
             ],
             [
              0.3333333333333333,
              "#9c179e"
             ],
             [
              0.4444444444444444,
              "#bd3786"
             ],
             [
              0.5555555555555556,
              "#d8576b"
             ],
             [
              0.6666666666666666,
              "#ed7953"
             ],
             [
              0.7777777777777778,
              "#fb9f3a"
             ],
             [
              0.8888888888888888,
              "#fdca26"
             ],
             [
              1,
              "#f0f921"
             ]
            ],
            "type": "surface"
           }
          ],
          "table": [
           {
            "cells": {
             "fill": {
              "color": "#EBF0F8"
             },
             "line": {
              "color": "white"
             }
            },
            "header": {
             "fill": {
              "color": "#C8D4E3"
             },
             "line": {
              "color": "white"
             }
            },
            "type": "table"
           }
          ]
         },
         "layout": {
          "annotationdefaults": {
           "arrowcolor": "#2a3f5f",
           "arrowhead": 0,
           "arrowwidth": 1
          },
          "autotypenumbers": "strict",
          "coloraxis": {
           "colorbar": {
            "outlinewidth": 0,
            "ticks": ""
           }
          },
          "colorscale": {
           "diverging": [
            [
             0,
             "#8e0152"
            ],
            [
             0.1,
             "#c51b7d"
            ],
            [
             0.2,
             "#de77ae"
            ],
            [
             0.3,
             "#f1b6da"
            ],
            [
             0.4,
             "#fde0ef"
            ],
            [
             0.5,
             "#f7f7f7"
            ],
            [
             0.6,
             "#e6f5d0"
            ],
            [
             0.7,
             "#b8e186"
            ],
            [
             0.8,
             "#7fbc41"
            ],
            [
             0.9,
             "#4d9221"
            ],
            [
             1,
             "#276419"
            ]
           ],
           "sequential": [
            [
             0,
             "#0d0887"
            ],
            [
             0.1111111111111111,
             "#46039f"
            ],
            [
             0.2222222222222222,
             "#7201a8"
            ],
            [
             0.3333333333333333,
             "#9c179e"
            ],
            [
             0.4444444444444444,
             "#bd3786"
            ],
            [
             0.5555555555555556,
             "#d8576b"
            ],
            [
             0.6666666666666666,
             "#ed7953"
            ],
            [
             0.7777777777777778,
             "#fb9f3a"
            ],
            [
             0.8888888888888888,
             "#fdca26"
            ],
            [
             1,
             "#f0f921"
            ]
           ],
           "sequentialminus": [
            [
             0,
             "#0d0887"
            ],
            [
             0.1111111111111111,
             "#46039f"
            ],
            [
             0.2222222222222222,
             "#7201a8"
            ],
            [
             0.3333333333333333,
             "#9c179e"
            ],
            [
             0.4444444444444444,
             "#bd3786"
            ],
            [
             0.5555555555555556,
             "#d8576b"
            ],
            [
             0.6666666666666666,
             "#ed7953"
            ],
            [
             0.7777777777777778,
             "#fb9f3a"
            ],
            [
             0.8888888888888888,
             "#fdca26"
            ],
            [
             1,
             "#f0f921"
            ]
           ]
          },
          "colorway": [
           "#636efa",
           "#EF553B",
           "#00cc96",
           "#ab63fa",
           "#FFA15A",
           "#19d3f3",
           "#FF6692",
           "#B6E880",
           "#FF97FF",
           "#FECB52"
          ],
          "font": {
           "color": "#2a3f5f"
          },
          "geo": {
           "bgcolor": "white",
           "lakecolor": "white",
           "landcolor": "#E5ECF6",
           "showlakes": true,
           "showland": true,
           "subunitcolor": "white"
          },
          "hoverlabel": {
           "align": "left"
          },
          "hovermode": "closest",
          "mapbox": {
           "style": "light"
          },
          "paper_bgcolor": "white",
          "plot_bgcolor": "#E5ECF6",
          "polar": {
           "angularaxis": {
            "gridcolor": "white",
            "linecolor": "white",
            "ticks": ""
           },
           "bgcolor": "#E5ECF6",
           "radialaxis": {
            "gridcolor": "white",
            "linecolor": "white",
            "ticks": ""
           }
          },
          "scene": {
           "xaxis": {
            "backgroundcolor": "#E5ECF6",
            "gridcolor": "white",
            "gridwidth": 2,
            "linecolor": "white",
            "showbackground": true,
            "ticks": "",
            "zerolinecolor": "white"
           },
           "yaxis": {
            "backgroundcolor": "#E5ECF6",
            "gridcolor": "white",
            "gridwidth": 2,
            "linecolor": "white",
            "showbackground": true,
            "ticks": "",
            "zerolinecolor": "white"
           },
           "zaxis": {
            "backgroundcolor": "#E5ECF6",
            "gridcolor": "white",
            "gridwidth": 2,
            "linecolor": "white",
            "showbackground": true,
            "ticks": "",
            "zerolinecolor": "white"
           }
          },
          "shapedefaults": {
           "line": {
            "color": "#2a3f5f"
           }
          },
          "ternary": {
           "aaxis": {
            "gridcolor": "white",
            "linecolor": "white",
            "ticks": ""
           },
           "baxis": {
            "gridcolor": "white",
            "linecolor": "white",
            "ticks": ""
           },
           "bgcolor": "#E5ECF6",
           "caxis": {
            "gridcolor": "white",
            "linecolor": "white",
            "ticks": ""
           }
          },
          "title": {
           "x": 0.05
          },
          "xaxis": {
           "automargin": true,
           "gridcolor": "white",
           "linecolor": "white",
           "ticks": "",
           "title": {
            "standoff": 15
           },
           "zerolinecolor": "white",
           "zerolinewidth": 2
          },
          "yaxis": {
           "automargin": true,
           "gridcolor": "white",
           "linecolor": "white",
           "ticks": "",
           "title": {
            "standoff": 15
           },
           "zerolinecolor": "white",
           "zerolinewidth": 2
          }
         }
        },
        "xaxis": {
         "anchor": "y",
         "domain": [
          0,
          1
         ],
         "title": {
          "text": "time"
         }
        },
        "yaxis": {
         "anchor": "x",
         "domain": [
          0,
          1
         ],
         "title": {
          "text": "value"
         }
        }
       }
      },
      "text/html": [
       "<div>                            <div id=\"3d7f1125-3116-4c7a-b154-c3abec3ce6a6\" class=\"plotly-graph-div\" style=\"height:525px; width:100%;\"></div>            <script type=\"text/javascript\">                require([\"plotly\"], function(Plotly) {                    window.PLOTLYENV=window.PLOTLYENV || {};                                    if (document.getElementById(\"3d7f1125-3116-4c7a-b154-c3abec3ce6a6\")) {                    Plotly.newPlot(                        \"3d7f1125-3116-4c7a-b154-c3abec3ce6a6\",                        [{\"hovertemplate\":\"time=%{x}<br>value=%{y}<extra></extra>\",\"legendgroup\":\"\",\"line\":{\"color\":\"#636efa\",\"dash\":\"solid\"},\"mode\":\"lines\",\"name\":\"\",\"orientation\":\"v\",\"showlegend\":false,\"type\":\"scatter\",\"x\":[\"2021-06-16\",\"2021-06-18\",\"2021-06-20\",\"2021-06-21\",\"2021-06-22\"],\"xaxis\":\"x\",\"y\":[32.49541666666667,32.53228571428573,32.41276447876449,32.293243243243246,30.72972222222223],\"yaxis\":\"y\"}],                        {\"legend\":{\"tracegroupgap\":0},\"margin\":{\"t\":60},\"template\":{\"data\":{\"bar\":[{\"error_x\":{\"color\":\"#2a3f5f\"},\"error_y\":{\"color\":\"#2a3f5f\"},\"marker\":{\"line\":{\"color\":\"#E5ECF6\",\"width\":0.5},\"pattern\":{\"fillmode\":\"overlay\",\"size\":10,\"solidity\":0.2}},\"type\":\"bar\"}],\"barpolar\":[{\"marker\":{\"line\":{\"color\":\"#E5ECF6\",\"width\":0.5},\"pattern\":{\"fillmode\":\"overlay\",\"size\":10,\"solidity\":0.2}},\"type\":\"barpolar\"}],\"carpet\":[{\"aaxis\":{\"endlinecolor\":\"#2a3f5f\",\"gridcolor\":\"white\",\"linecolor\":\"white\",\"minorgridcolor\":\"white\",\"startlinecolor\":\"#2a3f5f\"},\"baxis\":{\"endlinecolor\":\"#2a3f5f\",\"gridcolor\":\"white\",\"linecolor\":\"white\",\"minorgridcolor\":\"white\",\"startlinecolor\":\"#2a3f5f\"},\"type\":\"carpet\"}],\"choropleth\":[{\"colorbar\":{\"outlinewidth\":0,\"ticks\":\"\"},\"type\":\"choropleth\"}],\"contour\":[{\"colorbar\":{\"outlinewidth\":0,\"ticks\":\"\"},\"colorscale\":[[0.0,\"#0d0887\"],[0.1111111111111111,\"#46039f\"],[0.2222222222222222,\"#7201a8\"],[0.3333333333333333,\"#9c179e\"],[0.4444444444444444,\"#bd3786\"],[0.5555555555555556,\"#d8576b\"],[0.6666666666666666,\"#ed7953\"],[0.7777777777777778,\"#fb9f3a\"],[0.8888888888888888,\"#fdca26\"],[1.0,\"#f0f921\"]],\"type\":\"contour\"}],\"contourcarpet\":[{\"colorbar\":{\"outlinewidth\":0,\"ticks\":\"\"},\"type\":\"contourcarpet\"}],\"heatmap\":[{\"colorbar\":{\"outlinewidth\":0,\"ticks\":\"\"},\"colorscale\":[[0.0,\"#0d0887\"],[0.1111111111111111,\"#46039f\"],[0.2222222222222222,\"#7201a8\"],[0.3333333333333333,\"#9c179e\"],[0.4444444444444444,\"#bd3786\"],[0.5555555555555556,\"#d8576b\"],[0.6666666666666666,\"#ed7953\"],[0.7777777777777778,\"#fb9f3a\"],[0.8888888888888888,\"#fdca26\"],[1.0,\"#f0f921\"]],\"type\":\"heatmap\"}],\"heatmapgl\":[{\"colorbar\":{\"outlinewidth\":0,\"ticks\":\"\"},\"colorscale\":[[0.0,\"#0d0887\"],[0.1111111111111111,\"#46039f\"],[0.2222222222222222,\"#7201a8\"],[0.3333333333333333,\"#9c179e\"],[0.4444444444444444,\"#bd3786\"],[0.5555555555555556,\"#d8576b\"],[0.6666666666666666,\"#ed7953\"],[0.7777777777777778,\"#fb9f3a\"],[0.8888888888888888,\"#fdca26\"],[1.0,\"#f0f921\"]],\"type\":\"heatmapgl\"}],\"histogram\":[{\"marker\":{\"pattern\":{\"fillmode\":\"overlay\",\"size\":10,\"solidity\":0.2}},\"type\":\"histogram\"}],\"histogram2d\":[{\"colorbar\":{\"outlinewidth\":0,\"ticks\":\"\"},\"colorscale\":[[0.0,\"#0d0887\"],[0.1111111111111111,\"#46039f\"],[0.2222222222222222,\"#7201a8\"],[0.3333333333333333,\"#9c179e\"],[0.4444444444444444,\"#bd3786\"],[0.5555555555555556,\"#d8576b\"],[0.6666666666666666,\"#ed7953\"],[0.7777777777777778,\"#fb9f3a\"],[0.8888888888888888,\"#fdca26\"],[1.0,\"#f0f921\"]],\"type\":\"histogram2d\"}],\"histogram2dcontour\":[{\"colorbar\":{\"outlinewidth\":0,\"ticks\":\"\"},\"colorscale\":[[0.0,\"#0d0887\"],[0.1111111111111111,\"#46039f\"],[0.2222222222222222,\"#7201a8\"],[0.3333333333333333,\"#9c179e\"],[0.4444444444444444,\"#bd3786\"],[0.5555555555555556,\"#d8576b\"],[0.6666666666666666,\"#ed7953\"],[0.7777777777777778,\"#fb9f3a\"],[0.8888888888888888,\"#fdca26\"],[1.0,\"#f0f921\"]],\"type\":\"histogram2dcontour\"}],\"mesh3d\":[{\"colorbar\":{\"outlinewidth\":0,\"ticks\":\"\"},\"type\":\"mesh3d\"}],\"parcoords\":[{\"line\":{\"colorbar\":{\"outlinewidth\":0,\"ticks\":\"\"}},\"type\":\"parcoords\"}],\"pie\":[{\"automargin\":true,\"type\":\"pie\"}],\"scatter\":[{\"marker\":{\"colorbar\":{\"outlinewidth\":0,\"ticks\":\"\"}},\"type\":\"scatter\"}],\"scatter3d\":[{\"line\":{\"colorbar\":{\"outlinewidth\":0,\"ticks\":\"\"}},\"marker\":{\"colorbar\":{\"outlinewidth\":0,\"ticks\":\"\"}},\"type\":\"scatter3d\"}],\"scattercarpet\":[{\"marker\":{\"colorbar\":{\"outlinewidth\":0,\"ticks\":\"\"}},\"type\":\"scattercarpet\"}],\"scattergeo\":[{\"marker\":{\"colorbar\":{\"outlinewidth\":0,\"ticks\":\"\"}},\"type\":\"scattergeo\"}],\"scattergl\":[{\"marker\":{\"colorbar\":{\"outlinewidth\":0,\"ticks\":\"\"}},\"type\":\"scattergl\"}],\"scattermapbox\":[{\"marker\":{\"colorbar\":{\"outlinewidth\":0,\"ticks\":\"\"}},\"type\":\"scattermapbox\"}],\"scatterpolar\":[{\"marker\":{\"colorbar\":{\"outlinewidth\":0,\"ticks\":\"\"}},\"type\":\"scatterpolar\"}],\"scatterpolargl\":[{\"marker\":{\"colorbar\":{\"outlinewidth\":0,\"ticks\":\"\"}},\"type\":\"scatterpolargl\"}],\"scatterternary\":[{\"marker\":{\"colorbar\":{\"outlinewidth\":0,\"ticks\":\"\"}},\"type\":\"scatterternary\"}],\"surface\":[{\"colorbar\":{\"outlinewidth\":0,\"ticks\":\"\"},\"colorscale\":[[0.0,\"#0d0887\"],[0.1111111111111111,\"#46039f\"],[0.2222222222222222,\"#7201a8\"],[0.3333333333333333,\"#9c179e\"],[0.4444444444444444,\"#bd3786\"],[0.5555555555555556,\"#d8576b\"],[0.6666666666666666,\"#ed7953\"],[0.7777777777777778,\"#fb9f3a\"],[0.8888888888888888,\"#fdca26\"],[1.0,\"#f0f921\"]],\"type\":\"surface\"}],\"table\":[{\"cells\":{\"fill\":{\"color\":\"#EBF0F8\"},\"line\":{\"color\":\"white\"}},\"header\":{\"fill\":{\"color\":\"#C8D4E3\"},\"line\":{\"color\":\"white\"}},\"type\":\"table\"}]},\"layout\":{\"annotationdefaults\":{\"arrowcolor\":\"#2a3f5f\",\"arrowhead\":0,\"arrowwidth\":1},\"autotypenumbers\":\"strict\",\"coloraxis\":{\"colorbar\":{\"outlinewidth\":0,\"ticks\":\"\"}},\"colorscale\":{\"diverging\":[[0,\"#8e0152\"],[0.1,\"#c51b7d\"],[0.2,\"#de77ae\"],[0.3,\"#f1b6da\"],[0.4,\"#fde0ef\"],[0.5,\"#f7f7f7\"],[0.6,\"#e6f5d0\"],[0.7,\"#b8e186\"],[0.8,\"#7fbc41\"],[0.9,\"#4d9221\"],[1,\"#276419\"]],\"sequential\":[[0.0,\"#0d0887\"],[0.1111111111111111,\"#46039f\"],[0.2222222222222222,\"#7201a8\"],[0.3333333333333333,\"#9c179e\"],[0.4444444444444444,\"#bd3786\"],[0.5555555555555556,\"#d8576b\"],[0.6666666666666666,\"#ed7953\"],[0.7777777777777778,\"#fb9f3a\"],[0.8888888888888888,\"#fdca26\"],[1.0,\"#f0f921\"]],\"sequentialminus\":[[0.0,\"#0d0887\"],[0.1111111111111111,\"#46039f\"],[0.2222222222222222,\"#7201a8\"],[0.3333333333333333,\"#9c179e\"],[0.4444444444444444,\"#bd3786\"],[0.5555555555555556,\"#d8576b\"],[0.6666666666666666,\"#ed7953\"],[0.7777777777777778,\"#fb9f3a\"],[0.8888888888888888,\"#fdca26\"],[1.0,\"#f0f921\"]]},\"colorway\":[\"#636efa\",\"#EF553B\",\"#00cc96\",\"#ab63fa\",\"#FFA15A\",\"#19d3f3\",\"#FF6692\",\"#B6E880\",\"#FF97FF\",\"#FECB52\"],\"font\":{\"color\":\"#2a3f5f\"},\"geo\":{\"bgcolor\":\"white\",\"lakecolor\":\"white\",\"landcolor\":\"#E5ECF6\",\"showlakes\":true,\"showland\":true,\"subunitcolor\":\"white\"},\"hoverlabel\":{\"align\":\"left\"},\"hovermode\":\"closest\",\"mapbox\":{\"style\":\"light\"},\"paper_bgcolor\":\"white\",\"plot_bgcolor\":\"#E5ECF6\",\"polar\":{\"angularaxis\":{\"gridcolor\":\"white\",\"linecolor\":\"white\",\"ticks\":\"\"},\"bgcolor\":\"#E5ECF6\",\"radialaxis\":{\"gridcolor\":\"white\",\"linecolor\":\"white\",\"ticks\":\"\"}},\"scene\":{\"xaxis\":{\"backgroundcolor\":\"#E5ECF6\",\"gridcolor\":\"white\",\"gridwidth\":2,\"linecolor\":\"white\",\"showbackground\":true,\"ticks\":\"\",\"zerolinecolor\":\"white\"},\"yaxis\":{\"backgroundcolor\":\"#E5ECF6\",\"gridcolor\":\"white\",\"gridwidth\":2,\"linecolor\":\"white\",\"showbackground\":true,\"ticks\":\"\",\"zerolinecolor\":\"white\"},\"zaxis\":{\"backgroundcolor\":\"#E5ECF6\",\"gridcolor\":\"white\",\"gridwidth\":2,\"linecolor\":\"white\",\"showbackground\":true,\"ticks\":\"\",\"zerolinecolor\":\"white\"}},\"shapedefaults\":{\"line\":{\"color\":\"#2a3f5f\"}},\"ternary\":{\"aaxis\":{\"gridcolor\":\"white\",\"linecolor\":\"white\",\"ticks\":\"\"},\"baxis\":{\"gridcolor\":\"white\",\"linecolor\":\"white\",\"ticks\":\"\"},\"bgcolor\":\"#E5ECF6\",\"caxis\":{\"gridcolor\":\"white\",\"linecolor\":\"white\",\"ticks\":\"\"}},\"title\":{\"x\":0.05},\"xaxis\":{\"automargin\":true,\"gridcolor\":\"white\",\"linecolor\":\"white\",\"ticks\":\"\",\"title\":{\"standoff\":15},\"zerolinecolor\":\"white\",\"zerolinewidth\":2},\"yaxis\":{\"automargin\":true,\"gridcolor\":\"white\",\"linecolor\":\"white\",\"ticks\":\"\",\"title\":{\"standoff\":15},\"zerolinecolor\":\"white\",\"zerolinewidth\":2}}},\"xaxis\":{\"anchor\":\"y\",\"domain\":[0.0,1.0],\"title\":{\"text\":\"time\"}},\"yaxis\":{\"anchor\":\"x\",\"domain\":[0.0,1.0],\"title\":{\"text\":\"value\"}}},                        {\"responsive\": true}                    ).then(function(){\n",
       "                            \n",
       "var gd = document.getElementById('3d7f1125-3116-4c7a-b154-c3abec3ce6a6');\n",
       "var x = new MutationObserver(function (mutations, observer) {{\n",
       "        var display = window.getComputedStyle(gd).display;\n",
       "        if (!display || display === 'none') {{\n",
       "            console.log([gd, 'removed!']);\n",
       "            Plotly.purge(gd);\n",
       "            observer.disconnect();\n",
       "        }}\n",
       "}});\n",
       "\n",
       "// Listen for the removal of the full notebook cells\n",
       "var notebookContainer = gd.closest('#notebook-container');\n",
       "if (notebookContainer) {{\n",
       "    x.observe(notebookContainer, {childList: true});\n",
       "}}\n",
       "\n",
       "// Listen for the clearing of the current output cell\n",
       "var outputEl = gd.closest('.output');\n",
       "if (outputEl) {{\n",
       "    x.observe(outputEl, {childList: true});\n",
       "}}\n",
       "\n",
       "                        })                };                });            </script>        </div>"
      ]
     },
     "metadata": {},
     "output_type": "display_data"
    },
    {
     "name": "stdout",
     "output_type": "stream",
     "text": [
      "22-1-2\n"
     ]
    }
   ],
   "source": [
    "m = 22\n",
    "n = 1\n",
    "s = 2\n",
    "\n",
    "df=pd.read_csv(r'C:\\Users\\Tosha.E.T\\Desktop\\Sinotech\\716\\{0}-{1}-{2}_clean.csv'.format(m,n,s))\n",
    "df=df[df['value']>29]\n",
    "df=df[df['value']<33]\n",
    "df = df.reset_index()\n",
    "\n",
    "i = 1\n",
    "while i<(len(df[\"value\"])-1):\n",
    "    a = df[\"value\"][i-1]\n",
    "    b = df[\"value\"][i]\n",
    "    c = df[\"value\"][i+1]\n",
    "    if (abs(b-c)+abs(a-b))/2>abs(c-a)*1.5:\n",
    "        df[\"value\"][i] = (a+c)/2\n",
    "        i=i+1\n",
    "    else:\n",
    "        i=i+1\n",
    "        \n",
    "df.to_csv(r'C:\\Users\\Tosha.E.T\\Desktop\\Sinotech\\716\\{0}-{1}-{2}_cut.csv'.format(m,n,s))\n",
    "print(\"cut save!!\")\n",
    "#---------------------------------------------------\n",
    "fig = px.line(df, y='value', x='time')        \n",
    "fig.show()\n",
    "print(\"{0}-{1}-{2}\".format(m,n,s))"
   ]
  },
  {
   "cell_type": "code",
   "execution_count": 25,
   "id": "eligible-discount",
   "metadata": {},
   "outputs": [
    {
     "name": "stdout",
     "output_type": "stream",
     "text": [
      "cut save!!\n"
     ]
    },
    {
     "name": "stderr",
     "output_type": "stream",
     "text": [
      "<ipython-input-25-31563f75dfd5>:16: SettingWithCopyWarning:\n",
      "\n",
      "\n",
      "A value is trying to be set on a copy of a slice from a DataFrame\n",
      "\n",
      "See the caveats in the documentation: https://pandas.pydata.org/pandas-docs/stable/user_guide/indexing.html#returning-a-view-versus-a-copy\n",
      "\n"
     ]
    },
    {
     "data": {
      "application/vnd.plotly.v1+json": {
       "config": {
        "plotlyServerURL": "https://plot.ly"
       },
       "data": [
        {
         "hovertemplate": "time=%{x}<br>value=%{y}<extra></extra>",
         "legendgroup": "",
         "line": {
          "color": "#636efa",
          "dash": "solid"
         },
         "mode": "lines",
         "name": "",
         "orientation": "v",
         "showlegend": false,
         "type": "scatter",
         "x": [
          "2021-06-10 17:00:00",
          "2021-06-10 17:30:00",
          "2021-06-10 18:00:00",
          "2021-06-10 18:30:00",
          "2021-06-10 19:00:00",
          "2021-06-10 20:00:00",
          "2021-06-10 21:30:00",
          "2021-06-10 22:00:00",
          "2021-06-10 23:00:00",
          "2021-06-10 23:30:00",
          "2021-06-11 00:00:00",
          "2021-06-11 00:30:00",
          "2021-06-11 01:30:00",
          "2021-06-11 02:30:00",
          "2021-06-11 03:30:00",
          "2021-06-11 04:30:00",
          "2021-06-11 05:30:00",
          "2021-06-11 06:00:00",
          "2021-06-11 06:30:00",
          "2021-06-11 07:00:00",
          "2021-06-11 07:30:00",
          "2021-06-11 11:30:00",
          "2021-06-11 14:00:00",
          "2021-06-11 14:30:00",
          "2021-06-11 15:00:00",
          "2021-06-11 15:30:00",
          "2021-06-11 16:00:00",
          "2021-06-11 16:30:00",
          "2021-06-11 17:00:00",
          "2021-06-11 17:30:00",
          "2021-06-11 18:00:00",
          "2021-06-11 18:30:00",
          "2021-06-11 19:00:00",
          "2021-06-11 19:30:00",
          "2021-06-11 20:00:00",
          "2021-06-11 20:30:00",
          "2021-06-11 21:00:00",
          "2021-06-11 22:00:00",
          "2021-06-12 04:00:00",
          "2021-06-12 05:00:00",
          "2021-06-12 06:00:00",
          "2021-06-12 07:00:00",
          "2021-06-12 08:00:00",
          "2021-06-12 09:00:00",
          "2021-06-12 10:00:00",
          "2021-06-12 11:00:00",
          "2021-06-12 12:00:00",
          "2021-06-12 13:00:00",
          "2021-06-12 14:00:00",
          "2021-06-12 14:30:00",
          "2021-06-12 15:30:00",
          "2021-06-12 16:30:00",
          "2021-06-12 17:00:00",
          "2021-06-12 17:30:00",
          "2021-06-12 18:00:00",
          "2021-06-12 18:30:00",
          "2021-06-12 19:00:00",
          "2021-06-12 19:30:00",
          "2021-06-12 20:00:00",
          "2021-06-12 21:00:00",
          "2021-06-12 22:00:00",
          "2021-06-12 23:00:00",
          "2021-06-13 00:00:00",
          "2021-06-13 01:00:00",
          "2021-06-13 02:00:00",
          "2021-06-13 02:30:00",
          "2021-06-13 03:00:00",
          "2021-06-13 04:00:00",
          "2021-06-13 05:00:00",
          "2021-06-13 06:00:00",
          "2021-06-13 07:00:00",
          "2021-06-13 08:00:00",
          "2021-06-13 10:00:00",
          "2021-06-13 10:30:00",
          "2021-06-13 11:00:00",
          "2021-06-13 11:30:00",
          "2021-06-13 12:00:00",
          "2021-06-13 12:30:00",
          "2021-06-13 13:00:00",
          "2021-06-13 13:30:00",
          "2021-06-13 14:30:00",
          "2021-06-13 15:30:00",
          "2021-06-13 16:00:00",
          "2021-06-13 16:30:00",
          "2021-06-13 17:00:00",
          "2021-06-13 17:30:00",
          "2021-06-13 18:30:00",
          "2021-06-13 19:00:00",
          "2021-06-13 19:30:00",
          "2021-06-13 20:00:00",
          "2021-06-13 20:30:00",
          "2021-06-13 21:00:00",
          "2021-06-13 21:30:00",
          "2021-06-13 22:00:00",
          "2021-06-13 22:30:00",
          "2021-06-13 23:00:00",
          "2021-06-13 23:30:00",
          "2021-06-14 00:00:00",
          "2021-06-14 01:00:00",
          "2021-06-14 01:30:00",
          "2021-06-14 02:00:00",
          "2021-06-14 02:30:00",
          "2021-06-14 03:00:00",
          "2021-06-14 04:00:00",
          "2021-06-14 04:30:00",
          "2021-06-14 05:00:00",
          "2021-06-14 05:30:00",
          "2021-06-14 06:00:00",
          "2021-06-14 06:30:00",
          "2021-06-14 07:00:00",
          "2021-06-14 07:30:00",
          "2021-06-14 08:30:00",
          "2021-06-14 09:00:00",
          "2021-06-14 10:00:00",
          "2021-06-14 11:00:00",
          "2021-06-14 12:00:00",
          "2021-06-14 13:00:00",
          "2021-06-14 13:30:00",
          "2021-06-14 14:30:00",
          "2021-06-14 15:30:00",
          "2021-06-14 16:30:00",
          "2021-06-14 17:30:00",
          "2021-06-14 18:00:00",
          "2021-06-14 18:30:00",
          "2021-06-14 19:30:00",
          "2021-06-14 20:00:00",
          "2021-06-14 20:30:00",
          "2021-06-14 21:00:00",
          "2021-06-14 21:30:00",
          "2021-06-14 22:00:00",
          "2021-06-14 22:30:00",
          "2021-06-15 00:00:00",
          "2021-06-15 01:00:00",
          "2021-06-15 02:00:00",
          "2021-06-15 03:00:00",
          "2021-06-15 04:00:00",
          "2021-06-15 05:30:00",
          "2021-06-15 07:00:00",
          "2021-06-15 07:30:00",
          "2021-06-15 08:00:00",
          "2021-06-15 08:30:00",
          "2021-06-15 09:00:00",
          "2021-06-15 10:00:00",
          "2021-06-15 15:00:00",
          "2021-06-15 16:00:00",
          "2021-06-15 17:00:00",
          "2021-06-15 18:00:00",
          "2021-06-15 19:00:00",
          "2021-06-15 19:30:00",
          "2021-06-15 20:00:00",
          "2021-06-15 21:00:00",
          "2021-06-15 21:30:00",
          "2021-06-15 22:00:00",
          "2021-06-15 23:00:00",
          "2021-06-15 23:30:00",
          "2021-06-16 00:00:00",
          "2021-06-16 00:30:00",
          "2021-06-16 01:00:00",
          "2021-06-16 01:30:00",
          "2021-06-16 02:00:00",
          "2021-06-16 02:30:00",
          "2021-06-16 03:00:00",
          "2021-06-16 03:30:00",
          "2021-06-16 04:00:00",
          "2021-06-16 04:30:00",
          "2021-06-16 05:00:00",
          "2021-06-16 05:30:00",
          "2021-06-16 06:00:00",
          "2021-06-16 06:30:00",
          "2021-06-16 11:30:00",
          "2021-06-16 17:30:00",
          "2021-06-16 18:30:00",
          "2021-06-16 19:30:00",
          "2021-06-16 20:30:00",
          "2021-06-16 22:00:00",
          "2021-06-16 22:30:00",
          "2021-06-16 23:30:00",
          "2021-06-17 00:00:00",
          "2021-06-17 01:00:00",
          "2021-06-17 02:00:00",
          "2021-06-17 03:00:00",
          "2021-06-17 12:00:00",
          "2021-06-17 13:00:00",
          "2021-06-17 13:30:00",
          "2021-06-17 14:30:00",
          "2021-06-17 15:00:00",
          "2021-06-17 16:00:00",
          "2021-06-17 16:30:00",
          "2021-06-17 17:00:00",
          "2021-06-17 17:30:00",
          "2021-06-17 18:00:00",
          "2021-06-17 18:30:00",
          "2021-06-17 19:00:00",
          "2021-06-17 19:30:00",
          "2021-06-17 20:00:00",
          "2021-06-17 20:30:00",
          "2021-06-17 21:00:00",
          "2021-06-17 21:30:00",
          "2021-06-17 22:00:00",
          "2021-06-17 23:00:00",
          "2021-06-18 00:00:00",
          "2021-06-18 10:00:00",
          "2021-06-18 11:00:00",
          "2021-06-18 12:00:00",
          "2021-06-18 12:30:00",
          "2021-06-18 13:30:00",
          "2021-06-18 14:30:00",
          "2021-06-18 15:30:00",
          "2021-06-18 16:30:00",
          "2021-06-18 17:00:00",
          "2021-06-18 17:30:00",
          "2021-06-18 18:00:00",
          "2021-06-18 18:30:00",
          "2021-06-18 19:30:00",
          "2021-06-18 20:00:00",
          "2021-06-18 20:30:00",
          "2021-06-18 21:00:00",
          "2021-06-18 22:00:00",
          "2021-06-18 23:00:00",
          "2021-06-19 00:00:00",
          "2021-06-19 07:00:00",
          "2021-06-19 11:00:00",
          "2021-06-19 11:30:00",
          "2021-06-19 12:30:00",
          "2021-06-19 13:30:00",
          "2021-06-19 14:30:00",
          "2021-06-19 15:30:00",
          "2021-06-19 16:30:00",
          "2021-06-19 17:00:00",
          "2021-06-19 17:30:00",
          "2021-06-19 18:00:00",
          "2021-06-19 18:30:00",
          "2021-06-19 19:00:00",
          "2021-06-19 19:30:00",
          "2021-06-19 20:00:00",
          "2021-06-19 20:30:00",
          "2021-06-19 21:00:00",
          "2021-06-20 07:30:00",
          "2021-06-20 10:00:00",
          "2021-06-20 10:30:00",
          "2021-06-20 11:30:00",
          "2021-06-20 12:00:00",
          "2021-06-20 14:30:00",
          "2021-06-20 15:00:00",
          "2021-06-20 15:30:00",
          "2021-06-20 16:00:00",
          "2021-06-20 16:30:00",
          "2021-06-20 17:00:00",
          "2021-06-20 17:30:00",
          "2021-06-20 18:30:00",
          "2021-06-20 19:00:00",
          "2021-06-20 19:30:00",
          "2021-06-20 20:00:00",
          "2021-06-21 07:30:00",
          "2021-06-21 10:00:00",
          "2021-06-21 10:30:00",
          "2021-06-21 11:00:00",
          "2021-06-21 11:30:00",
          "2021-06-21 12:00:00",
          "2021-06-21 12:30:00",
          "2021-06-21 13:00:00",
          "2021-06-21 13:30:00",
          "2021-06-21 14:30:00",
          "2021-06-21 15:00:00",
          "2021-06-21 15:30:00",
          "2021-06-21 16:00:00",
          "2021-06-21 16:30:00",
          "2021-06-21 17:00:00",
          "2021-06-21 17:30:00",
          "2021-06-21 18:00:00",
          "2021-06-21 18:30:00",
          "2021-06-21 19:00:00",
          "2021-06-21 19:30:00",
          "2021-06-21 20:00:00",
          "2021-06-22 07:30:00",
          "2021-06-22 09:30:00",
          "2021-06-22 10:00:00",
          "2021-06-22 10:30:00",
          "2021-06-22 11:00:00",
          "2021-06-22 11:30:00",
          "2021-06-22 14:00:00",
          "2021-06-22 14:30:00",
          "2021-06-22 15:00:00",
          "2021-06-22 17:00:00",
          "2021-06-23 05:00:00",
          "2021-06-23 10:30:00",
          "2021-06-23 14:00:00",
          "2021-06-24 09:00:00",
          "2021-06-24 09:30:00",
          "2021-06-24 10:00:00",
          "2021-06-24 12:00:00",
          "2021-06-24 13:00:00",
          "2021-06-24 18:30:00",
          "2021-06-25 10:30:00",
          "2021-06-25 14:00:00",
          "2021-06-26 09:00:00",
          "2021-06-26 09:30:00",
          "2021-06-26 12:00:00",
          "2021-06-26 13:00:00",
          "2021-06-26 13:30:00",
          "2021-06-26 14:00:00",
          "2021-06-26 14:30:00",
          "2021-06-26 15:00:00",
          "2021-06-26 15:30:00",
          "2021-06-26 16:00:00",
          "2021-06-26 16:30:00",
          "2021-06-26 17:00:00",
          "2021-06-26 17:30:00",
          "2021-06-26 18:00:00",
          "2021-06-26 18:30:00",
          "2021-06-26 19:00:00",
          "2021-06-26 19:30:00",
          "2021-06-26 20:00:00",
          "2021-06-27 12:00:00",
          "2021-06-27 13:00:00",
          "2021-06-27 14:00:00",
          "2021-06-27 15:00:00",
          "2021-06-27 16:00:00",
          "2021-06-27 17:00:00",
          "2021-06-28 12:00:00",
          "2021-06-28 13:00:00",
          "2021-06-28 16:00:00",
          "2021-06-28 17:00:00",
          "2021-06-28 18:00:00",
          "2021-06-28 19:00:00",
          "2021-06-29 13:00:00",
          "2021-06-29 15:00:00",
          "2021-06-29 16:00:00",
          "2021-06-29 17:00:00",
          "2021-06-29 18:00:00",
          "2021-06-29 19:30:00",
          "2021-06-30 09:30:00",
          "2021-06-30 10:30:00",
          "2021-06-30 22:00:00",
          "2021-07-01 04:00:00",
          "2021-07-01 12:00:00",
          "2021-07-01 13:00:00",
          "2021-07-01 14:00:00",
          "2021-07-01 15:00:00",
          "2021-07-01 16:00:00",
          "2021-07-01 17:00:00",
          "2021-07-01 18:00:00",
          "2021-07-01 19:00:00",
          "2021-07-01 20:00:00",
          "2021-07-01 21:00:00",
          "2021-07-02 11:30:00",
          "2021-07-02 12:30:00",
          "2021-07-02 13:30:00",
          "2021-07-02 14:30:00",
          "2021-07-02 15:30:00",
          "2021-07-02 16:30:00",
          "2021-07-02 17:30:00",
          "2021-07-02 18:30:00",
          "2021-07-02 19:30:00",
          "2021-07-02 20:30:00",
          "2021-07-02 21:30:00",
          "2021-07-02 23:30:00",
          "2021-07-03 13:00:00",
          "2021-07-03 14:00:00",
          "2021-07-03 15:00:00",
          "2021-07-03 16:00:00",
          "2021-07-03 17:00:00",
          "2021-07-03 22:00:00",
          "2021-07-03 23:00:00",
          "2021-07-04 04:00:00",
          "2021-07-04 11:30:00",
          "2021-07-04 12:30:00",
          "2021-07-04 13:30:00",
          "2021-07-04 14:30:00",
          "2021-07-04 15:30:00",
          "2021-07-05 11:30:00",
          "2021-07-05 12:00:00",
          "2021-07-05 12:30:00",
          "2021-07-05 13:00:00",
          "2021-07-05 13:30:00",
          "2021-07-05 14:00:00",
          "2021-07-05 14:30:00",
          "2021-07-05 15:30:00",
          "2021-07-05 16:00:00",
          "2021-07-05 17:00:00",
          "2021-07-05 17:30:00",
          "2021-07-05 18:00:00",
          "2021-07-06 09:30:00",
          "2021-07-06 10:00:00",
          "2021-07-06 12:00:00",
          "2021-07-06 13:00:00",
          "2021-07-06 14:00:00",
          "2021-07-06 15:00:00",
          "2021-07-06 15:30:00",
          "2021-07-06 16:00:00",
          "2021-07-06 17:00:00",
          "2021-07-06 17:30:00",
          "2021-07-07 10:00:00",
          "2021-07-07 13:00:00",
          "2021-07-07 14:00:00",
          "2021-07-07 14:30:00",
          "2021-07-07 15:00:00",
          "2021-07-07 15:30:00",
          "2021-07-07 16:00:00",
          "2021-07-07 16:30:00",
          "2021-07-07 17:00:00",
          "2021-07-07 17:30:00",
          "2021-07-07 18:00:00",
          "2021-07-07 19:00:00",
          "2021-07-07 22:30:00",
          "2021-07-08 09:30:00",
          "2021-07-08 11:30:00",
          "2021-07-08 12:30:00",
          "2021-07-08 13:00:00",
          "2021-07-08 13:30:00",
          "2021-07-08 14:30:00",
          "2021-07-08 16:30:00",
          "2021-07-08 17:30:00",
          "2021-07-08 19:30:00",
          "2021-07-08 20:30:00",
          "2021-07-08 21:30:00",
          "2021-07-08 22:00:00",
          "2021-07-09 11:30:00",
          "2021-07-09 12:30:00",
          "2021-07-09 13:30:00",
          "2021-07-09 14:30:00",
          "2021-07-09 15:30:00",
          "2021-07-09 16:30:00",
          "2021-07-09 17:30:00",
          "2021-07-09 18:30:00",
          "2021-07-09 19:30:00",
          "2021-07-09 20:30:00",
          "2021-07-09 21:30:00",
          "2021-07-09 22:30:00",
          "2021-07-09 23:30:00",
          "2021-07-10 03:30:00",
          "2021-07-10 04:00:00",
          "2021-07-10 04:30:00",
          "2021-07-10 05:00:00",
          "2021-07-10 07:00:00",
          "2021-07-10 08:30:00",
          "2021-07-10 09:00:00",
          "2021-07-10 09:30:00",
          "2021-07-10 10:00:00",
          "2021-07-10 10:30:00",
          "2021-07-10 11:00:00",
          "2021-07-10 11:30:00",
          "2021-07-10 12:30:00",
          "2021-07-10 13:30:00",
          "2021-07-10 14:30:00",
          "2021-07-10 15:00:00",
          "2021-07-10 15:30:00",
          "2021-07-10 16:00:00",
          "2021-07-10 16:30:00",
          "2021-07-10 17:00:00",
          "2021-07-10 17:30:00",
          "2021-07-10 18:00:00",
          "2021-07-10 18:30:00",
          "2021-07-10 19:00:00",
          "2021-07-10 19:30:00",
          "2021-07-10 20:00:00",
          "2021-07-10 20:30:00",
          "2021-07-10 21:00:00",
          "2021-07-10 21:30:00",
          "2021-07-10 22:00:00",
          "2021-07-10 22:30:00",
          "2021-07-10 23:30:00",
          "2021-07-11 10:00:00",
          "2021-07-11 11:00:00",
          "2021-07-11 11:30:00",
          "2021-07-11 12:00:00",
          "2021-07-11 12:30:00",
          "2021-07-11 13:00:00",
          "2021-07-11 13:30:00",
          "2021-07-11 14:00:00",
          "2021-07-11 14:30:00",
          "2021-07-11 15:00:00",
          "2021-07-11 15:30:00",
          "2021-07-11 16:00:00",
          "2021-07-11 16:30:00",
          "2021-07-11 17:00:00",
          "2021-07-11 17:30:00",
          "2021-07-11 18:00:00",
          "2021-07-11 19:00:00",
          "2021-07-11 19:30:00",
          "2021-07-11 20:00:00",
          "2021-07-11 20:30:00",
          "2021-07-11 21:00:00",
          "2021-07-11 21:30:00",
          "2021-07-12 11:30:00",
          "2021-07-12 14:30:00",
          "2021-07-12 19:30:00",
          "2021-07-12 20:30:00",
          "2021-07-12 21:00:00",
          "2021-07-12 22:00:00",
          "2021-07-12 22:30:00",
          "2021-07-12 23:00:00",
          "2021-07-13 09:30:00",
          "2021-07-13 10:30:00",
          "2021-07-13 14:30:00",
          "2021-07-13 16:30:00",
          "2021-07-13 18:00:00",
          "2021-07-13 19:00:00",
          "2021-07-13 21:30:00",
          "2021-07-13 22:00:00",
          "2021-07-13 22:30:00",
          "2021-07-13 23:00:00",
          "2021-07-14 07:30:00",
          "2021-07-14 08:00:00",
          "2021-07-14 09:30:00",
          "2021-07-14 11:30:00",
          "2021-07-14 13:30:00",
          "2021-07-14 14:30:00",
          "2021-07-14 15:30:00",
          "2021-07-14 16:30:00",
          "2021-07-14 17:30:00",
          "2021-07-14 18:30:00",
          "2021-07-14 19:00:00",
          "2021-07-14 19:30:00",
          "2021-07-14 20:00:00",
          "2021-07-14 20:30:00",
          "2021-07-14 21:00:00",
          "2021-07-14 21:30:00",
          "2021-07-14 22:00:00",
          "2021-07-14 22:30:00",
          "2021-07-14 23:00:00",
          "2021-07-15 02:30:00"
         ],
         "xaxis": "x",
         "y": [
          42.09,
          42.07,
          41.64,
          41.72,
          42.22,
          42.07,
          41.92,
          41.95,
          41.9525,
          41.955,
          42.41,
          42.42,
          42.84,
          42.9,
          42.93,
          42.95,
          42.95,
          42.61,
          42.5,
          42.48,
          41.98,
          41.53,
          41.66,
          41.75,
          41.715,
          41.68,
          41.66,
          41.65,
          42.15,
          42.2,
          42.23,
          42.24,
          42.255,
          42.2525,
          42.25,
          42.25,
          42.27,
          42.35,
          42.45,
          41.59,
          41.53,
          40.87,
          40.47,
          40.47,
          40.52,
          40.55,
          40.58,
          40.62,
          41.12,
          41.37,
          41.62,
          42.08,
          41.92,
          41.73,
          41.76,
          41.61,
          41.37,
          41.85,
          41.92,
          42.88,
          42.88,
          42.88,
          42.8,
          42.79,
          42.01,
          42.01,
          41.59,
          42.49,
          42.51,
          42.93,
          42.91,
          42.37,
          41.18,
          41.53,
          41.57,
          40.85,
          41.05,
          41.27,
          41.69,
          41.71,
          41.7,
          41.605000000000004,
          41.51,
          41.55,
          41.97,
          41.97,
          42.11,
          42.215,
          42.3,
          42.265,
          42.23,
          41.94,
          41.94,
          41.97,
          42.06,
          42.13,
          41.97,
          42.01,
          42.02,
          42.02,
          42.05,
          42.08,
          42.08,
          42.19,
          42.165,
          42.14,
          42.11,
          42.08,
          42.06,
          41.94,
          41.93,
          41.92,
          41.77,
          41.11,
          40.43,
          40.4,
          41.43,
          41.55,
          41.41,
          41.27,
          41.445,
          41.62,
          41.83,
          41.81,
          41.769999999999996,
          41.73,
          41.86,
          41.94,
          41.97,
          41.97,
          41.97,
          41.59,
          41.64,
          41.68,
          41.7,
          41.71,
          41.72,
          42.02,
          41.97,
          41.995000000000005,
          42.02,
          41.73,
          41.49,
          40.74,
          40.6,
          41.1,
          41.46,
          41.69,
          41.75,
          41.78,
          41.43,
          41.43,
          41.43,
          41.5,
          41.53,
          41.55,
          41.57,
          41.58,
          41.61,
          41.64,
          41.65,
          41.650000000000006,
          41.25,
          41.29,
          41.29,
          41.275,
          41.26,
          41.24,
          41.150000000000006,
          41.06,
          40.94,
          41.25,
          41.39,
          41.43,
          41.45,
          41.52,
          41.98,
          42,
          42.03,
          42.06,
          42.12,
          41.22,
          41.37,
          41.52,
          41.515,
          41.51,
          41.489999999999995,
          41.47,
          40.98,
          41.08,
          41.19,
          41.22,
          41.3,
          41.28,
          41.34,
          41.41,
          41.41,
          41.44,
          41.58,
          41.81,
          41.97,
          40.57,
          40.9,
          41.4,
          41.42,
          40.77,
          40.81,
          40.85,
          41.075,
          41.3,
          41.31,
          41.32,
          41.51,
          41.480000000000004,
          41.45,
          41.435,
          41.42,
          41.88,
          41.94,
          41.97,
          42.01,
          41.86,
          41.84,
          40.82,
          40.95,
          41.01,
          41.4,
          41.35,
          41.55,
          41.9,
          41.92,
          41.95,
          41.96,
          41.97,
          41.78,
          41.86,
          41.83,
          41.8,
          41.46,
          41.45,
          41.48,
          41.5,
          41.34,
          41.33,
          41.285,
          41.24,
          41.41,
          41.53,
          41.5,
          41.68,
          41.74,
          41.71,
          41.72,
          41.620000000000005,
          41.52,
          41.52,
          41.2,
          40.98,
          40.955,
          40.93,
          40.92,
          40.91,
          41.07,
          41.41,
          41.3,
          41.305,
          41.31,
          41.88,
          41.64,
          41.655,
          42.1,
          42.24,
          42.25,
          42.27,
          42.21,
          41.83,
          41.6,
          41.58,
          41.56,
          41.7,
          41.64,
          41.29,
          41.305,
          41.32,
          41.144999999999996,
          40.97,
          41.9,
          41.87,
          41.875,
          41.88,
          41.88,
          41.88,
          41.875,
          41.87,
          42.02,
          41.26,
          41.34,
          41.52,
          41.47,
          40.51,
          40.52,
          40.68,
          41.62,
          41.18,
          41.29,
          41.74,
          41.68,
          41.66,
          42.12,
          42.82,
          42.76,
          42.34,
          41.95,
          40.23,
          40.18,
          40.42,
          40.66,
          40.79,
          40.82,
          40.57,
          42.38,
          41.97,
          41.73,
          41.35,
          43.52,
          44.86,
          41.16,
          41.21,
          41.62,
          41.76,
          41.68,
          41.6,
          41.28,
          41.92,
          42.62,
          40.59,
          40.82,
          40.78,
          40.74,
          41.58,
          41.84,
          41.82,
          41.8,
          41.59,
          41.68,
          41.18,
          41.36,
          41.29,
          41.620000000000005,
          41.635000000000005,
          41.65,
          42.04,
          42.25,
          42.37,
          42.39,
          42.47,
          42.48,
          41.16,
          40.92,
          40.63,
          40.77,
          41.91,
          41.91,
          41.88,
          41.35,
          41.18,
          41.07,
          40.69,
          41.53,
          41.97,
          42.4,
          42.59,
          42.78,
          41.94,
          41.87,
          41.89,
          41.52,
          41.760000000000005,
          42,
          40.85,
          41.18,
          41.22,
          40.81,
          40.89,
          40.87,
          41.01,
          41,
          41.45,
          41.61,
          41.61,
          41.870000000000005,
          42.13,
          40.86,
          40.905,
          40.95,
          41.04,
          41.56,
          41.58,
          41.56,
          41.54,
          42.1,
          42,
          42.08,
          42.16,
          44.57,
          44.48,
          40.56,
          40.555,
          40.55,
          41.69,
          41.265,
          40.84,
          41.73,
          41.56,
          43.44,
          43.495,
          43.55,
          41.57,
          40.82,
          40.38,
          40.35,
          40.42,
          40.55,
          40.92,
          40.894999999999996,
          40.87,
          40.87,
          40.91,
          40.96,
          41.05,
          44.98,
          43.94,
          42.6,
          41.6,
          41.96,
          41.754999999999995,
          41.55,
          41.44,
          41.45,
          41.42,
          41.35,
          41.28,
          41.46,
          41.435,
          41.41,
          41.425,
          41.44,
          42.37,
          42.375,
          42.38,
          42.1,
          42.09,
          42.2,
          41.85,
          41.79,
          42.59,
          42.4,
          42.41,
          42.77,
          42.76,
          42.305,
          42.285,
          41.82,
          42.035,
          42.25,
          42.48,
          41.78,
          41.29,
          41.28,
          41.27,
          41.27,
          41.27,
          41.52,
          41.53,
          41.54,
          41.315,
          41.09,
          42.6,
          43.11,
          42.04,
          41.19,
          41.125,
          41.06,
          41.24,
          41.54,
          41.435,
          41.33,
          42.72,
          42.93,
          43.66,
          43.65,
          43.474999999999994,
          43.3,
          40.67,
          40.72,
          40.894999999999996,
          41.07,
          41.06,
          43.44,
          43.61,
          42.79,
          44.66,
          40.06,
          41.15,
          40.765,
          40.38,
          40.425,
          40.47,
          40.42,
          40.370000000000005,
          40.67,
          41.62,
          41.85,
          41.85,
          41.85,
          41.63,
          41.5,
          41.519999999999996,
          41.54,
          41.54,
          41.58,
          41.95
         ],
         "yaxis": "y"
        }
       ],
       "layout": {
        "legend": {
         "tracegroupgap": 0
        },
        "margin": {
         "t": 60
        },
        "template": {
         "data": {
          "bar": [
           {
            "error_x": {
             "color": "#2a3f5f"
            },
            "error_y": {
             "color": "#2a3f5f"
            },
            "marker": {
             "line": {
              "color": "#E5ECF6",
              "width": 0.5
             },
             "pattern": {
              "fillmode": "overlay",
              "size": 10,
              "solidity": 0.2
             }
            },
            "type": "bar"
           }
          ],
          "barpolar": [
           {
            "marker": {
             "line": {
              "color": "#E5ECF6",
              "width": 0.5
             },
             "pattern": {
              "fillmode": "overlay",
              "size": 10,
              "solidity": 0.2
             }
            },
            "type": "barpolar"
           }
          ],
          "carpet": [
           {
            "aaxis": {
             "endlinecolor": "#2a3f5f",
             "gridcolor": "white",
             "linecolor": "white",
             "minorgridcolor": "white",
             "startlinecolor": "#2a3f5f"
            },
            "baxis": {
             "endlinecolor": "#2a3f5f",
             "gridcolor": "white",
             "linecolor": "white",
             "minorgridcolor": "white",
             "startlinecolor": "#2a3f5f"
            },
            "type": "carpet"
           }
          ],
          "choropleth": [
           {
            "colorbar": {
             "outlinewidth": 0,
             "ticks": ""
            },
            "type": "choropleth"
           }
          ],
          "contour": [
           {
            "colorbar": {
             "outlinewidth": 0,
             "ticks": ""
            },
            "colorscale": [
             [
              0,
              "#0d0887"
             ],
             [
              0.1111111111111111,
              "#46039f"
             ],
             [
              0.2222222222222222,
              "#7201a8"
             ],
             [
              0.3333333333333333,
              "#9c179e"
             ],
             [
              0.4444444444444444,
              "#bd3786"
             ],
             [
              0.5555555555555556,
              "#d8576b"
             ],
             [
              0.6666666666666666,
              "#ed7953"
             ],
             [
              0.7777777777777778,
              "#fb9f3a"
             ],
             [
              0.8888888888888888,
              "#fdca26"
             ],
             [
              1,
              "#f0f921"
             ]
            ],
            "type": "contour"
           }
          ],
          "contourcarpet": [
           {
            "colorbar": {
             "outlinewidth": 0,
             "ticks": ""
            },
            "type": "contourcarpet"
           }
          ],
          "heatmap": [
           {
            "colorbar": {
             "outlinewidth": 0,
             "ticks": ""
            },
            "colorscale": [
             [
              0,
              "#0d0887"
             ],
             [
              0.1111111111111111,
              "#46039f"
             ],
             [
              0.2222222222222222,
              "#7201a8"
             ],
             [
              0.3333333333333333,
              "#9c179e"
             ],
             [
              0.4444444444444444,
              "#bd3786"
             ],
             [
              0.5555555555555556,
              "#d8576b"
             ],
             [
              0.6666666666666666,
              "#ed7953"
             ],
             [
              0.7777777777777778,
              "#fb9f3a"
             ],
             [
              0.8888888888888888,
              "#fdca26"
             ],
             [
              1,
              "#f0f921"
             ]
            ],
            "type": "heatmap"
           }
          ],
          "heatmapgl": [
           {
            "colorbar": {
             "outlinewidth": 0,
             "ticks": ""
            },
            "colorscale": [
             [
              0,
              "#0d0887"
             ],
             [
              0.1111111111111111,
              "#46039f"
             ],
             [
              0.2222222222222222,
              "#7201a8"
             ],
             [
              0.3333333333333333,
              "#9c179e"
             ],
             [
              0.4444444444444444,
              "#bd3786"
             ],
             [
              0.5555555555555556,
              "#d8576b"
             ],
             [
              0.6666666666666666,
              "#ed7953"
             ],
             [
              0.7777777777777778,
              "#fb9f3a"
             ],
             [
              0.8888888888888888,
              "#fdca26"
             ],
             [
              1,
              "#f0f921"
             ]
            ],
            "type": "heatmapgl"
           }
          ],
          "histogram": [
           {
            "marker": {
             "pattern": {
              "fillmode": "overlay",
              "size": 10,
              "solidity": 0.2
             }
            },
            "type": "histogram"
           }
          ],
          "histogram2d": [
           {
            "colorbar": {
             "outlinewidth": 0,
             "ticks": ""
            },
            "colorscale": [
             [
              0,
              "#0d0887"
             ],
             [
              0.1111111111111111,
              "#46039f"
             ],
             [
              0.2222222222222222,
              "#7201a8"
             ],
             [
              0.3333333333333333,
              "#9c179e"
             ],
             [
              0.4444444444444444,
              "#bd3786"
             ],
             [
              0.5555555555555556,
              "#d8576b"
             ],
             [
              0.6666666666666666,
              "#ed7953"
             ],
             [
              0.7777777777777778,
              "#fb9f3a"
             ],
             [
              0.8888888888888888,
              "#fdca26"
             ],
             [
              1,
              "#f0f921"
             ]
            ],
            "type": "histogram2d"
           }
          ],
          "histogram2dcontour": [
           {
            "colorbar": {
             "outlinewidth": 0,
             "ticks": ""
            },
            "colorscale": [
             [
              0,
              "#0d0887"
             ],
             [
              0.1111111111111111,
              "#46039f"
             ],
             [
              0.2222222222222222,
              "#7201a8"
             ],
             [
              0.3333333333333333,
              "#9c179e"
             ],
             [
              0.4444444444444444,
              "#bd3786"
             ],
             [
              0.5555555555555556,
              "#d8576b"
             ],
             [
              0.6666666666666666,
              "#ed7953"
             ],
             [
              0.7777777777777778,
              "#fb9f3a"
             ],
             [
              0.8888888888888888,
              "#fdca26"
             ],
             [
              1,
              "#f0f921"
             ]
            ],
            "type": "histogram2dcontour"
           }
          ],
          "mesh3d": [
           {
            "colorbar": {
             "outlinewidth": 0,
             "ticks": ""
            },
            "type": "mesh3d"
           }
          ],
          "parcoords": [
           {
            "line": {
             "colorbar": {
              "outlinewidth": 0,
              "ticks": ""
             }
            },
            "type": "parcoords"
           }
          ],
          "pie": [
           {
            "automargin": true,
            "type": "pie"
           }
          ],
          "scatter": [
           {
            "marker": {
             "colorbar": {
              "outlinewidth": 0,
              "ticks": ""
             }
            },
            "type": "scatter"
           }
          ],
          "scatter3d": [
           {
            "line": {
             "colorbar": {
              "outlinewidth": 0,
              "ticks": ""
             }
            },
            "marker": {
             "colorbar": {
              "outlinewidth": 0,
              "ticks": ""
             }
            },
            "type": "scatter3d"
           }
          ],
          "scattercarpet": [
           {
            "marker": {
             "colorbar": {
              "outlinewidth": 0,
              "ticks": ""
             }
            },
            "type": "scattercarpet"
           }
          ],
          "scattergeo": [
           {
            "marker": {
             "colorbar": {
              "outlinewidth": 0,
              "ticks": ""
             }
            },
            "type": "scattergeo"
           }
          ],
          "scattergl": [
           {
            "marker": {
             "colorbar": {
              "outlinewidth": 0,
              "ticks": ""
             }
            },
            "type": "scattergl"
           }
          ],
          "scattermapbox": [
           {
            "marker": {
             "colorbar": {
              "outlinewidth": 0,
              "ticks": ""
             }
            },
            "type": "scattermapbox"
           }
          ],
          "scatterpolar": [
           {
            "marker": {
             "colorbar": {
              "outlinewidth": 0,
              "ticks": ""
             }
            },
            "type": "scatterpolar"
           }
          ],
          "scatterpolargl": [
           {
            "marker": {
             "colorbar": {
              "outlinewidth": 0,
              "ticks": ""
             }
            },
            "type": "scatterpolargl"
           }
          ],
          "scatterternary": [
           {
            "marker": {
             "colorbar": {
              "outlinewidth": 0,
              "ticks": ""
             }
            },
            "type": "scatterternary"
           }
          ],
          "surface": [
           {
            "colorbar": {
             "outlinewidth": 0,
             "ticks": ""
            },
            "colorscale": [
             [
              0,
              "#0d0887"
             ],
             [
              0.1111111111111111,
              "#46039f"
             ],
             [
              0.2222222222222222,
              "#7201a8"
             ],
             [
              0.3333333333333333,
              "#9c179e"
             ],
             [
              0.4444444444444444,
              "#bd3786"
             ],
             [
              0.5555555555555556,
              "#d8576b"
             ],
             [
              0.6666666666666666,
              "#ed7953"
             ],
             [
              0.7777777777777778,
              "#fb9f3a"
             ],
             [
              0.8888888888888888,
              "#fdca26"
             ],
             [
              1,
              "#f0f921"
             ]
            ],
            "type": "surface"
           }
          ],
          "table": [
           {
            "cells": {
             "fill": {
              "color": "#EBF0F8"
             },
             "line": {
              "color": "white"
             }
            },
            "header": {
             "fill": {
              "color": "#C8D4E3"
             },
             "line": {
              "color": "white"
             }
            },
            "type": "table"
           }
          ]
         },
         "layout": {
          "annotationdefaults": {
           "arrowcolor": "#2a3f5f",
           "arrowhead": 0,
           "arrowwidth": 1
          },
          "autotypenumbers": "strict",
          "coloraxis": {
           "colorbar": {
            "outlinewidth": 0,
            "ticks": ""
           }
          },
          "colorscale": {
           "diverging": [
            [
             0,
             "#8e0152"
            ],
            [
             0.1,
             "#c51b7d"
            ],
            [
             0.2,
             "#de77ae"
            ],
            [
             0.3,
             "#f1b6da"
            ],
            [
             0.4,
             "#fde0ef"
            ],
            [
             0.5,
             "#f7f7f7"
            ],
            [
             0.6,
             "#e6f5d0"
            ],
            [
             0.7,
             "#b8e186"
            ],
            [
             0.8,
             "#7fbc41"
            ],
            [
             0.9,
             "#4d9221"
            ],
            [
             1,
             "#276419"
            ]
           ],
           "sequential": [
            [
             0,
             "#0d0887"
            ],
            [
             0.1111111111111111,
             "#46039f"
            ],
            [
             0.2222222222222222,
             "#7201a8"
            ],
            [
             0.3333333333333333,
             "#9c179e"
            ],
            [
             0.4444444444444444,
             "#bd3786"
            ],
            [
             0.5555555555555556,
             "#d8576b"
            ],
            [
             0.6666666666666666,
             "#ed7953"
            ],
            [
             0.7777777777777778,
             "#fb9f3a"
            ],
            [
             0.8888888888888888,
             "#fdca26"
            ],
            [
             1,
             "#f0f921"
            ]
           ],
           "sequentialminus": [
            [
             0,
             "#0d0887"
            ],
            [
             0.1111111111111111,
             "#46039f"
            ],
            [
             0.2222222222222222,
             "#7201a8"
            ],
            [
             0.3333333333333333,
             "#9c179e"
            ],
            [
             0.4444444444444444,
             "#bd3786"
            ],
            [
             0.5555555555555556,
             "#d8576b"
            ],
            [
             0.6666666666666666,
             "#ed7953"
            ],
            [
             0.7777777777777778,
             "#fb9f3a"
            ],
            [
             0.8888888888888888,
             "#fdca26"
            ],
            [
             1,
             "#f0f921"
            ]
           ]
          },
          "colorway": [
           "#636efa",
           "#EF553B",
           "#00cc96",
           "#ab63fa",
           "#FFA15A",
           "#19d3f3",
           "#FF6692",
           "#B6E880",
           "#FF97FF",
           "#FECB52"
          ],
          "font": {
           "color": "#2a3f5f"
          },
          "geo": {
           "bgcolor": "white",
           "lakecolor": "white",
           "landcolor": "#E5ECF6",
           "showlakes": true,
           "showland": true,
           "subunitcolor": "white"
          },
          "hoverlabel": {
           "align": "left"
          },
          "hovermode": "closest",
          "mapbox": {
           "style": "light"
          },
          "paper_bgcolor": "white",
          "plot_bgcolor": "#E5ECF6",
          "polar": {
           "angularaxis": {
            "gridcolor": "white",
            "linecolor": "white",
            "ticks": ""
           },
           "bgcolor": "#E5ECF6",
           "radialaxis": {
            "gridcolor": "white",
            "linecolor": "white",
            "ticks": ""
           }
          },
          "scene": {
           "xaxis": {
            "backgroundcolor": "#E5ECF6",
            "gridcolor": "white",
            "gridwidth": 2,
            "linecolor": "white",
            "showbackground": true,
            "ticks": "",
            "zerolinecolor": "white"
           },
           "yaxis": {
            "backgroundcolor": "#E5ECF6",
            "gridcolor": "white",
            "gridwidth": 2,
            "linecolor": "white",
            "showbackground": true,
            "ticks": "",
            "zerolinecolor": "white"
           },
           "zaxis": {
            "backgroundcolor": "#E5ECF6",
            "gridcolor": "white",
            "gridwidth": 2,
            "linecolor": "white",
            "showbackground": true,
            "ticks": "",
            "zerolinecolor": "white"
           }
          },
          "shapedefaults": {
           "line": {
            "color": "#2a3f5f"
           }
          },
          "ternary": {
           "aaxis": {
            "gridcolor": "white",
            "linecolor": "white",
            "ticks": ""
           },
           "baxis": {
            "gridcolor": "white",
            "linecolor": "white",
            "ticks": ""
           },
           "bgcolor": "#E5ECF6",
           "caxis": {
            "gridcolor": "white",
            "linecolor": "white",
            "ticks": ""
           }
          },
          "title": {
           "x": 0.05
          },
          "xaxis": {
           "automargin": true,
           "gridcolor": "white",
           "linecolor": "white",
           "ticks": "",
           "title": {
            "standoff": 15
           },
           "zerolinecolor": "white",
           "zerolinewidth": 2
          },
          "yaxis": {
           "automargin": true,
           "gridcolor": "white",
           "linecolor": "white",
           "ticks": "",
           "title": {
            "standoff": 15
           },
           "zerolinecolor": "white",
           "zerolinewidth": 2
          }
         }
        },
        "xaxis": {
         "anchor": "y",
         "domain": [
          0,
          1
         ],
         "title": {
          "text": "time"
         }
        },
        "yaxis": {
         "anchor": "x",
         "domain": [
          0,
          1
         ],
         "title": {
          "text": "value"
         }
        }
       }
      },
      "text/html": [
       "<div>                            <div id=\"19812afc-675a-4d44-bff0-c720419c1ea5\" class=\"plotly-graph-div\" style=\"height:525px; width:100%;\"></div>            <script type=\"text/javascript\">                require([\"plotly\"], function(Plotly) {                    window.PLOTLYENV=window.PLOTLYENV || {};                                    if (document.getElementById(\"19812afc-675a-4d44-bff0-c720419c1ea5\")) {                    Plotly.newPlot(                        \"19812afc-675a-4d44-bff0-c720419c1ea5\",                        [{\"hovertemplate\":\"time=%{x}<br>value=%{y}<extra></extra>\",\"legendgroup\":\"\",\"line\":{\"color\":\"#636efa\",\"dash\":\"solid\"},\"mode\":\"lines\",\"name\":\"\",\"orientation\":\"v\",\"showlegend\":false,\"type\":\"scatter\",\"x\":[\"2021-06-10 17:00:00\",\"2021-06-10 17:30:00\",\"2021-06-10 18:00:00\",\"2021-06-10 18:30:00\",\"2021-06-10 19:00:00\",\"2021-06-10 20:00:00\",\"2021-06-10 21:30:00\",\"2021-06-10 22:00:00\",\"2021-06-10 23:00:00\",\"2021-06-10 23:30:00\",\"2021-06-11 00:00:00\",\"2021-06-11 00:30:00\",\"2021-06-11 01:30:00\",\"2021-06-11 02:30:00\",\"2021-06-11 03:30:00\",\"2021-06-11 04:30:00\",\"2021-06-11 05:30:00\",\"2021-06-11 06:00:00\",\"2021-06-11 06:30:00\",\"2021-06-11 07:00:00\",\"2021-06-11 07:30:00\",\"2021-06-11 11:30:00\",\"2021-06-11 14:00:00\",\"2021-06-11 14:30:00\",\"2021-06-11 15:00:00\",\"2021-06-11 15:30:00\",\"2021-06-11 16:00:00\",\"2021-06-11 16:30:00\",\"2021-06-11 17:00:00\",\"2021-06-11 17:30:00\",\"2021-06-11 18:00:00\",\"2021-06-11 18:30:00\",\"2021-06-11 19:00:00\",\"2021-06-11 19:30:00\",\"2021-06-11 20:00:00\",\"2021-06-11 20:30:00\",\"2021-06-11 21:00:00\",\"2021-06-11 22:00:00\",\"2021-06-12 04:00:00\",\"2021-06-12 05:00:00\",\"2021-06-12 06:00:00\",\"2021-06-12 07:00:00\",\"2021-06-12 08:00:00\",\"2021-06-12 09:00:00\",\"2021-06-12 10:00:00\",\"2021-06-12 11:00:00\",\"2021-06-12 12:00:00\",\"2021-06-12 13:00:00\",\"2021-06-12 14:00:00\",\"2021-06-12 14:30:00\",\"2021-06-12 15:30:00\",\"2021-06-12 16:30:00\",\"2021-06-12 17:00:00\",\"2021-06-12 17:30:00\",\"2021-06-12 18:00:00\",\"2021-06-12 18:30:00\",\"2021-06-12 19:00:00\",\"2021-06-12 19:30:00\",\"2021-06-12 20:00:00\",\"2021-06-12 21:00:00\",\"2021-06-12 22:00:00\",\"2021-06-12 23:00:00\",\"2021-06-13 00:00:00\",\"2021-06-13 01:00:00\",\"2021-06-13 02:00:00\",\"2021-06-13 02:30:00\",\"2021-06-13 03:00:00\",\"2021-06-13 04:00:00\",\"2021-06-13 05:00:00\",\"2021-06-13 06:00:00\",\"2021-06-13 07:00:00\",\"2021-06-13 08:00:00\",\"2021-06-13 10:00:00\",\"2021-06-13 10:30:00\",\"2021-06-13 11:00:00\",\"2021-06-13 11:30:00\",\"2021-06-13 12:00:00\",\"2021-06-13 12:30:00\",\"2021-06-13 13:00:00\",\"2021-06-13 13:30:00\",\"2021-06-13 14:30:00\",\"2021-06-13 15:30:00\",\"2021-06-13 16:00:00\",\"2021-06-13 16:30:00\",\"2021-06-13 17:00:00\",\"2021-06-13 17:30:00\",\"2021-06-13 18:30:00\",\"2021-06-13 19:00:00\",\"2021-06-13 19:30:00\",\"2021-06-13 20:00:00\",\"2021-06-13 20:30:00\",\"2021-06-13 21:00:00\",\"2021-06-13 21:30:00\",\"2021-06-13 22:00:00\",\"2021-06-13 22:30:00\",\"2021-06-13 23:00:00\",\"2021-06-13 23:30:00\",\"2021-06-14 00:00:00\",\"2021-06-14 01:00:00\",\"2021-06-14 01:30:00\",\"2021-06-14 02:00:00\",\"2021-06-14 02:30:00\",\"2021-06-14 03:00:00\",\"2021-06-14 04:00:00\",\"2021-06-14 04:30:00\",\"2021-06-14 05:00:00\",\"2021-06-14 05:30:00\",\"2021-06-14 06:00:00\",\"2021-06-14 06:30:00\",\"2021-06-14 07:00:00\",\"2021-06-14 07:30:00\",\"2021-06-14 08:30:00\",\"2021-06-14 09:00:00\",\"2021-06-14 10:00:00\",\"2021-06-14 11:00:00\",\"2021-06-14 12:00:00\",\"2021-06-14 13:00:00\",\"2021-06-14 13:30:00\",\"2021-06-14 14:30:00\",\"2021-06-14 15:30:00\",\"2021-06-14 16:30:00\",\"2021-06-14 17:30:00\",\"2021-06-14 18:00:00\",\"2021-06-14 18:30:00\",\"2021-06-14 19:30:00\",\"2021-06-14 20:00:00\",\"2021-06-14 20:30:00\",\"2021-06-14 21:00:00\",\"2021-06-14 21:30:00\",\"2021-06-14 22:00:00\",\"2021-06-14 22:30:00\",\"2021-06-15 00:00:00\",\"2021-06-15 01:00:00\",\"2021-06-15 02:00:00\",\"2021-06-15 03:00:00\",\"2021-06-15 04:00:00\",\"2021-06-15 05:30:00\",\"2021-06-15 07:00:00\",\"2021-06-15 07:30:00\",\"2021-06-15 08:00:00\",\"2021-06-15 08:30:00\",\"2021-06-15 09:00:00\",\"2021-06-15 10:00:00\",\"2021-06-15 15:00:00\",\"2021-06-15 16:00:00\",\"2021-06-15 17:00:00\",\"2021-06-15 18:00:00\",\"2021-06-15 19:00:00\",\"2021-06-15 19:30:00\",\"2021-06-15 20:00:00\",\"2021-06-15 21:00:00\",\"2021-06-15 21:30:00\",\"2021-06-15 22:00:00\",\"2021-06-15 23:00:00\",\"2021-06-15 23:30:00\",\"2021-06-16 00:00:00\",\"2021-06-16 00:30:00\",\"2021-06-16 01:00:00\",\"2021-06-16 01:30:00\",\"2021-06-16 02:00:00\",\"2021-06-16 02:30:00\",\"2021-06-16 03:00:00\",\"2021-06-16 03:30:00\",\"2021-06-16 04:00:00\",\"2021-06-16 04:30:00\",\"2021-06-16 05:00:00\",\"2021-06-16 05:30:00\",\"2021-06-16 06:00:00\",\"2021-06-16 06:30:00\",\"2021-06-16 11:30:00\",\"2021-06-16 17:30:00\",\"2021-06-16 18:30:00\",\"2021-06-16 19:30:00\",\"2021-06-16 20:30:00\",\"2021-06-16 22:00:00\",\"2021-06-16 22:30:00\",\"2021-06-16 23:30:00\",\"2021-06-17 00:00:00\",\"2021-06-17 01:00:00\",\"2021-06-17 02:00:00\",\"2021-06-17 03:00:00\",\"2021-06-17 12:00:00\",\"2021-06-17 13:00:00\",\"2021-06-17 13:30:00\",\"2021-06-17 14:30:00\",\"2021-06-17 15:00:00\",\"2021-06-17 16:00:00\",\"2021-06-17 16:30:00\",\"2021-06-17 17:00:00\",\"2021-06-17 17:30:00\",\"2021-06-17 18:00:00\",\"2021-06-17 18:30:00\",\"2021-06-17 19:00:00\",\"2021-06-17 19:30:00\",\"2021-06-17 20:00:00\",\"2021-06-17 20:30:00\",\"2021-06-17 21:00:00\",\"2021-06-17 21:30:00\",\"2021-06-17 22:00:00\",\"2021-06-17 23:00:00\",\"2021-06-18 00:00:00\",\"2021-06-18 10:00:00\",\"2021-06-18 11:00:00\",\"2021-06-18 12:00:00\",\"2021-06-18 12:30:00\",\"2021-06-18 13:30:00\",\"2021-06-18 14:30:00\",\"2021-06-18 15:30:00\",\"2021-06-18 16:30:00\",\"2021-06-18 17:00:00\",\"2021-06-18 17:30:00\",\"2021-06-18 18:00:00\",\"2021-06-18 18:30:00\",\"2021-06-18 19:30:00\",\"2021-06-18 20:00:00\",\"2021-06-18 20:30:00\",\"2021-06-18 21:00:00\",\"2021-06-18 22:00:00\",\"2021-06-18 23:00:00\",\"2021-06-19 00:00:00\",\"2021-06-19 07:00:00\",\"2021-06-19 11:00:00\",\"2021-06-19 11:30:00\",\"2021-06-19 12:30:00\",\"2021-06-19 13:30:00\",\"2021-06-19 14:30:00\",\"2021-06-19 15:30:00\",\"2021-06-19 16:30:00\",\"2021-06-19 17:00:00\",\"2021-06-19 17:30:00\",\"2021-06-19 18:00:00\",\"2021-06-19 18:30:00\",\"2021-06-19 19:00:00\",\"2021-06-19 19:30:00\",\"2021-06-19 20:00:00\",\"2021-06-19 20:30:00\",\"2021-06-19 21:00:00\",\"2021-06-20 07:30:00\",\"2021-06-20 10:00:00\",\"2021-06-20 10:30:00\",\"2021-06-20 11:30:00\",\"2021-06-20 12:00:00\",\"2021-06-20 14:30:00\",\"2021-06-20 15:00:00\",\"2021-06-20 15:30:00\",\"2021-06-20 16:00:00\",\"2021-06-20 16:30:00\",\"2021-06-20 17:00:00\",\"2021-06-20 17:30:00\",\"2021-06-20 18:30:00\",\"2021-06-20 19:00:00\",\"2021-06-20 19:30:00\",\"2021-06-20 20:00:00\",\"2021-06-21 07:30:00\",\"2021-06-21 10:00:00\",\"2021-06-21 10:30:00\",\"2021-06-21 11:00:00\",\"2021-06-21 11:30:00\",\"2021-06-21 12:00:00\",\"2021-06-21 12:30:00\",\"2021-06-21 13:00:00\",\"2021-06-21 13:30:00\",\"2021-06-21 14:30:00\",\"2021-06-21 15:00:00\",\"2021-06-21 15:30:00\",\"2021-06-21 16:00:00\",\"2021-06-21 16:30:00\",\"2021-06-21 17:00:00\",\"2021-06-21 17:30:00\",\"2021-06-21 18:00:00\",\"2021-06-21 18:30:00\",\"2021-06-21 19:00:00\",\"2021-06-21 19:30:00\",\"2021-06-21 20:00:00\",\"2021-06-22 07:30:00\",\"2021-06-22 09:30:00\",\"2021-06-22 10:00:00\",\"2021-06-22 10:30:00\",\"2021-06-22 11:00:00\",\"2021-06-22 11:30:00\",\"2021-06-22 14:00:00\",\"2021-06-22 14:30:00\",\"2021-06-22 15:00:00\",\"2021-06-22 17:00:00\",\"2021-06-23 05:00:00\",\"2021-06-23 10:30:00\",\"2021-06-23 14:00:00\",\"2021-06-24 09:00:00\",\"2021-06-24 09:30:00\",\"2021-06-24 10:00:00\",\"2021-06-24 12:00:00\",\"2021-06-24 13:00:00\",\"2021-06-24 18:30:00\",\"2021-06-25 10:30:00\",\"2021-06-25 14:00:00\",\"2021-06-26 09:00:00\",\"2021-06-26 09:30:00\",\"2021-06-26 12:00:00\",\"2021-06-26 13:00:00\",\"2021-06-26 13:30:00\",\"2021-06-26 14:00:00\",\"2021-06-26 14:30:00\",\"2021-06-26 15:00:00\",\"2021-06-26 15:30:00\",\"2021-06-26 16:00:00\",\"2021-06-26 16:30:00\",\"2021-06-26 17:00:00\",\"2021-06-26 17:30:00\",\"2021-06-26 18:00:00\",\"2021-06-26 18:30:00\",\"2021-06-26 19:00:00\",\"2021-06-26 19:30:00\",\"2021-06-26 20:00:00\",\"2021-06-27 12:00:00\",\"2021-06-27 13:00:00\",\"2021-06-27 14:00:00\",\"2021-06-27 15:00:00\",\"2021-06-27 16:00:00\",\"2021-06-27 17:00:00\",\"2021-06-28 12:00:00\",\"2021-06-28 13:00:00\",\"2021-06-28 16:00:00\",\"2021-06-28 17:00:00\",\"2021-06-28 18:00:00\",\"2021-06-28 19:00:00\",\"2021-06-29 13:00:00\",\"2021-06-29 15:00:00\",\"2021-06-29 16:00:00\",\"2021-06-29 17:00:00\",\"2021-06-29 18:00:00\",\"2021-06-29 19:30:00\",\"2021-06-30 09:30:00\",\"2021-06-30 10:30:00\",\"2021-06-30 22:00:00\",\"2021-07-01 04:00:00\",\"2021-07-01 12:00:00\",\"2021-07-01 13:00:00\",\"2021-07-01 14:00:00\",\"2021-07-01 15:00:00\",\"2021-07-01 16:00:00\",\"2021-07-01 17:00:00\",\"2021-07-01 18:00:00\",\"2021-07-01 19:00:00\",\"2021-07-01 20:00:00\",\"2021-07-01 21:00:00\",\"2021-07-02 11:30:00\",\"2021-07-02 12:30:00\",\"2021-07-02 13:30:00\",\"2021-07-02 14:30:00\",\"2021-07-02 15:30:00\",\"2021-07-02 16:30:00\",\"2021-07-02 17:30:00\",\"2021-07-02 18:30:00\",\"2021-07-02 19:30:00\",\"2021-07-02 20:30:00\",\"2021-07-02 21:30:00\",\"2021-07-02 23:30:00\",\"2021-07-03 13:00:00\",\"2021-07-03 14:00:00\",\"2021-07-03 15:00:00\",\"2021-07-03 16:00:00\",\"2021-07-03 17:00:00\",\"2021-07-03 22:00:00\",\"2021-07-03 23:00:00\",\"2021-07-04 04:00:00\",\"2021-07-04 11:30:00\",\"2021-07-04 12:30:00\",\"2021-07-04 13:30:00\",\"2021-07-04 14:30:00\",\"2021-07-04 15:30:00\",\"2021-07-05 11:30:00\",\"2021-07-05 12:00:00\",\"2021-07-05 12:30:00\",\"2021-07-05 13:00:00\",\"2021-07-05 13:30:00\",\"2021-07-05 14:00:00\",\"2021-07-05 14:30:00\",\"2021-07-05 15:30:00\",\"2021-07-05 16:00:00\",\"2021-07-05 17:00:00\",\"2021-07-05 17:30:00\",\"2021-07-05 18:00:00\",\"2021-07-06 09:30:00\",\"2021-07-06 10:00:00\",\"2021-07-06 12:00:00\",\"2021-07-06 13:00:00\",\"2021-07-06 14:00:00\",\"2021-07-06 15:00:00\",\"2021-07-06 15:30:00\",\"2021-07-06 16:00:00\",\"2021-07-06 17:00:00\",\"2021-07-06 17:30:00\",\"2021-07-07 10:00:00\",\"2021-07-07 13:00:00\",\"2021-07-07 14:00:00\",\"2021-07-07 14:30:00\",\"2021-07-07 15:00:00\",\"2021-07-07 15:30:00\",\"2021-07-07 16:00:00\",\"2021-07-07 16:30:00\",\"2021-07-07 17:00:00\",\"2021-07-07 17:30:00\",\"2021-07-07 18:00:00\",\"2021-07-07 19:00:00\",\"2021-07-07 22:30:00\",\"2021-07-08 09:30:00\",\"2021-07-08 11:30:00\",\"2021-07-08 12:30:00\",\"2021-07-08 13:00:00\",\"2021-07-08 13:30:00\",\"2021-07-08 14:30:00\",\"2021-07-08 16:30:00\",\"2021-07-08 17:30:00\",\"2021-07-08 19:30:00\",\"2021-07-08 20:30:00\",\"2021-07-08 21:30:00\",\"2021-07-08 22:00:00\",\"2021-07-09 11:30:00\",\"2021-07-09 12:30:00\",\"2021-07-09 13:30:00\",\"2021-07-09 14:30:00\",\"2021-07-09 15:30:00\",\"2021-07-09 16:30:00\",\"2021-07-09 17:30:00\",\"2021-07-09 18:30:00\",\"2021-07-09 19:30:00\",\"2021-07-09 20:30:00\",\"2021-07-09 21:30:00\",\"2021-07-09 22:30:00\",\"2021-07-09 23:30:00\",\"2021-07-10 03:30:00\",\"2021-07-10 04:00:00\",\"2021-07-10 04:30:00\",\"2021-07-10 05:00:00\",\"2021-07-10 07:00:00\",\"2021-07-10 08:30:00\",\"2021-07-10 09:00:00\",\"2021-07-10 09:30:00\",\"2021-07-10 10:00:00\",\"2021-07-10 10:30:00\",\"2021-07-10 11:00:00\",\"2021-07-10 11:30:00\",\"2021-07-10 12:30:00\",\"2021-07-10 13:30:00\",\"2021-07-10 14:30:00\",\"2021-07-10 15:00:00\",\"2021-07-10 15:30:00\",\"2021-07-10 16:00:00\",\"2021-07-10 16:30:00\",\"2021-07-10 17:00:00\",\"2021-07-10 17:30:00\",\"2021-07-10 18:00:00\",\"2021-07-10 18:30:00\",\"2021-07-10 19:00:00\",\"2021-07-10 19:30:00\",\"2021-07-10 20:00:00\",\"2021-07-10 20:30:00\",\"2021-07-10 21:00:00\",\"2021-07-10 21:30:00\",\"2021-07-10 22:00:00\",\"2021-07-10 22:30:00\",\"2021-07-10 23:30:00\",\"2021-07-11 10:00:00\",\"2021-07-11 11:00:00\",\"2021-07-11 11:30:00\",\"2021-07-11 12:00:00\",\"2021-07-11 12:30:00\",\"2021-07-11 13:00:00\",\"2021-07-11 13:30:00\",\"2021-07-11 14:00:00\",\"2021-07-11 14:30:00\",\"2021-07-11 15:00:00\",\"2021-07-11 15:30:00\",\"2021-07-11 16:00:00\",\"2021-07-11 16:30:00\",\"2021-07-11 17:00:00\",\"2021-07-11 17:30:00\",\"2021-07-11 18:00:00\",\"2021-07-11 19:00:00\",\"2021-07-11 19:30:00\",\"2021-07-11 20:00:00\",\"2021-07-11 20:30:00\",\"2021-07-11 21:00:00\",\"2021-07-11 21:30:00\",\"2021-07-12 11:30:00\",\"2021-07-12 14:30:00\",\"2021-07-12 19:30:00\",\"2021-07-12 20:30:00\",\"2021-07-12 21:00:00\",\"2021-07-12 22:00:00\",\"2021-07-12 22:30:00\",\"2021-07-12 23:00:00\",\"2021-07-13 09:30:00\",\"2021-07-13 10:30:00\",\"2021-07-13 14:30:00\",\"2021-07-13 16:30:00\",\"2021-07-13 18:00:00\",\"2021-07-13 19:00:00\",\"2021-07-13 21:30:00\",\"2021-07-13 22:00:00\",\"2021-07-13 22:30:00\",\"2021-07-13 23:00:00\",\"2021-07-14 07:30:00\",\"2021-07-14 08:00:00\",\"2021-07-14 09:30:00\",\"2021-07-14 11:30:00\",\"2021-07-14 13:30:00\",\"2021-07-14 14:30:00\",\"2021-07-14 15:30:00\",\"2021-07-14 16:30:00\",\"2021-07-14 17:30:00\",\"2021-07-14 18:30:00\",\"2021-07-14 19:00:00\",\"2021-07-14 19:30:00\",\"2021-07-14 20:00:00\",\"2021-07-14 20:30:00\",\"2021-07-14 21:00:00\",\"2021-07-14 21:30:00\",\"2021-07-14 22:00:00\",\"2021-07-14 22:30:00\",\"2021-07-14 23:00:00\",\"2021-07-15 02:30:00\"],\"xaxis\":\"x\",\"y\":[42.09,42.07,41.64,41.72,42.22,42.07,41.92,41.95,41.9525,41.955,42.41,42.42,42.84,42.9,42.93,42.95,42.95,42.61,42.5,42.48,41.98,41.53,41.66,41.75,41.715,41.68,41.66,41.65,42.15,42.2,42.23,42.24,42.255,42.2525,42.25,42.25,42.27,42.35,42.45,41.59,41.53,40.87,40.47,40.47,40.52,40.55,40.58,40.62,41.12,41.37,41.62,42.08,41.92,41.73,41.76,41.61,41.37,41.85,41.92,42.88,42.88,42.88,42.8,42.79,42.01,42.01,41.59,42.49,42.51,42.93,42.91,42.37,41.18,41.53,41.57,40.85,41.05,41.27,41.69,41.71,41.7,41.605000000000004,41.51,41.55,41.97,41.97,42.11,42.215,42.3,42.265,42.23,41.94,41.94,41.97,42.06,42.13,41.97,42.01,42.02,42.02,42.05,42.08,42.08,42.19,42.165,42.14,42.11,42.08,42.06,41.94,41.93,41.92,41.77,41.11,40.43,40.4,41.43,41.55,41.41,41.27,41.445,41.62,41.83,41.81,41.769999999999996,41.73,41.86,41.94,41.97,41.97,41.97,41.59,41.64,41.68,41.7,41.71,41.72,42.02,41.97,41.995000000000005,42.02,41.73,41.49,40.74,40.6,41.1,41.46,41.69,41.75,41.78,41.43,41.43,41.43,41.5,41.53,41.55,41.57,41.58,41.61,41.64,41.65,41.650000000000006,41.25,41.29,41.29,41.275,41.26,41.24,41.150000000000006,41.06,40.94,41.25,41.39,41.43,41.45,41.52,41.98,42.0,42.03,42.06,42.12,41.22,41.37,41.52,41.515,41.51,41.489999999999995,41.47,40.98,41.08,41.19,41.22,41.3,41.28,41.34,41.41,41.41,41.44,41.58,41.81,41.97,40.57,40.9,41.4,41.42,40.77,40.81,40.85,41.075,41.3,41.31,41.32,41.51,41.480000000000004,41.45,41.435,41.42,41.88,41.94,41.97,42.01,41.86,41.84,40.82,40.95,41.01,41.4,41.35,41.55,41.9,41.92,41.95,41.96,41.97,41.78,41.86,41.83,41.8,41.46,41.45,41.48,41.5,41.34,41.33,41.285,41.24,41.41,41.53,41.5,41.68,41.74,41.71,41.72,41.620000000000005,41.52,41.52,41.2,40.98,40.955,40.93,40.92,40.91,41.07,41.41,41.3,41.305,41.31,41.88,41.64,41.655,42.1,42.24,42.25,42.27,42.21,41.83,41.6,41.58,41.56,41.7,41.64,41.29,41.305,41.32,41.144999999999996,40.97,41.9,41.87,41.875,41.88,41.88,41.88,41.875,41.87,42.02,41.26,41.34,41.52,41.47,40.51,40.52,40.68,41.62,41.18,41.29,41.74,41.68,41.66,42.12,42.82,42.76,42.34,41.95,40.23,40.18,40.42,40.66,40.79,40.82,40.57,42.38,41.97,41.73,41.35,43.52,44.86,41.16,41.21,41.62,41.76,41.68,41.6,41.28,41.92,42.62,40.59,40.82,40.78,40.74,41.58,41.84,41.82,41.8,41.59,41.68,41.18,41.36,41.29,41.620000000000005,41.635000000000005,41.65,42.04,42.25,42.37,42.39,42.47,42.48,41.16,40.92,40.63,40.77,41.91,41.91,41.88,41.35,41.18,41.07,40.69,41.53,41.97,42.4,42.59,42.78,41.94,41.87,41.89,41.52,41.760000000000005,42.0,40.85,41.18,41.22,40.81,40.89,40.87,41.01,41.0,41.45,41.61,41.61,41.870000000000005,42.13,40.86,40.905,40.95,41.04,41.56,41.58,41.56,41.54,42.1,42.0,42.08,42.16,44.57,44.48,40.56,40.555,40.55,41.69,41.265,40.84,41.73,41.56,43.44,43.495,43.55,41.57,40.82,40.38,40.35,40.42,40.55,40.92,40.894999999999996,40.87,40.87,40.91,40.96,41.05,44.98,43.94,42.6,41.6,41.96,41.754999999999995,41.55,41.44,41.45,41.42,41.35,41.28,41.46,41.435,41.41,41.425,41.44,42.37,42.375,42.38,42.1,42.09,42.2,41.85,41.79,42.59,42.4,42.41,42.77,42.76,42.305,42.285,41.82,42.035,42.25,42.48,41.78,41.29,41.28,41.27,41.27,41.27,41.52,41.53,41.54,41.315,41.09,42.6,43.11,42.04,41.19,41.125,41.06,41.24,41.54,41.435,41.33,42.72,42.93,43.66,43.65,43.474999999999994,43.3,40.67,40.72,40.894999999999996,41.07,41.06,43.44,43.61,42.79,44.66,40.06,41.15,40.765,40.38,40.425,40.47,40.42,40.370000000000005,40.67,41.62,41.85,41.85,41.85,41.63,41.5,41.519999999999996,41.54,41.54,41.58,41.95],\"yaxis\":\"y\"}],                        {\"legend\":{\"tracegroupgap\":0},\"margin\":{\"t\":60},\"template\":{\"data\":{\"bar\":[{\"error_x\":{\"color\":\"#2a3f5f\"},\"error_y\":{\"color\":\"#2a3f5f\"},\"marker\":{\"line\":{\"color\":\"#E5ECF6\",\"width\":0.5},\"pattern\":{\"fillmode\":\"overlay\",\"size\":10,\"solidity\":0.2}},\"type\":\"bar\"}],\"barpolar\":[{\"marker\":{\"line\":{\"color\":\"#E5ECF6\",\"width\":0.5},\"pattern\":{\"fillmode\":\"overlay\",\"size\":10,\"solidity\":0.2}},\"type\":\"barpolar\"}],\"carpet\":[{\"aaxis\":{\"endlinecolor\":\"#2a3f5f\",\"gridcolor\":\"white\",\"linecolor\":\"white\",\"minorgridcolor\":\"white\",\"startlinecolor\":\"#2a3f5f\"},\"baxis\":{\"endlinecolor\":\"#2a3f5f\",\"gridcolor\":\"white\",\"linecolor\":\"white\",\"minorgridcolor\":\"white\",\"startlinecolor\":\"#2a3f5f\"},\"type\":\"carpet\"}],\"choropleth\":[{\"colorbar\":{\"outlinewidth\":0,\"ticks\":\"\"},\"type\":\"choropleth\"}],\"contour\":[{\"colorbar\":{\"outlinewidth\":0,\"ticks\":\"\"},\"colorscale\":[[0.0,\"#0d0887\"],[0.1111111111111111,\"#46039f\"],[0.2222222222222222,\"#7201a8\"],[0.3333333333333333,\"#9c179e\"],[0.4444444444444444,\"#bd3786\"],[0.5555555555555556,\"#d8576b\"],[0.6666666666666666,\"#ed7953\"],[0.7777777777777778,\"#fb9f3a\"],[0.8888888888888888,\"#fdca26\"],[1.0,\"#f0f921\"]],\"type\":\"contour\"}],\"contourcarpet\":[{\"colorbar\":{\"outlinewidth\":0,\"ticks\":\"\"},\"type\":\"contourcarpet\"}],\"heatmap\":[{\"colorbar\":{\"outlinewidth\":0,\"ticks\":\"\"},\"colorscale\":[[0.0,\"#0d0887\"],[0.1111111111111111,\"#46039f\"],[0.2222222222222222,\"#7201a8\"],[0.3333333333333333,\"#9c179e\"],[0.4444444444444444,\"#bd3786\"],[0.5555555555555556,\"#d8576b\"],[0.6666666666666666,\"#ed7953\"],[0.7777777777777778,\"#fb9f3a\"],[0.8888888888888888,\"#fdca26\"],[1.0,\"#f0f921\"]],\"type\":\"heatmap\"}],\"heatmapgl\":[{\"colorbar\":{\"outlinewidth\":0,\"ticks\":\"\"},\"colorscale\":[[0.0,\"#0d0887\"],[0.1111111111111111,\"#46039f\"],[0.2222222222222222,\"#7201a8\"],[0.3333333333333333,\"#9c179e\"],[0.4444444444444444,\"#bd3786\"],[0.5555555555555556,\"#d8576b\"],[0.6666666666666666,\"#ed7953\"],[0.7777777777777778,\"#fb9f3a\"],[0.8888888888888888,\"#fdca26\"],[1.0,\"#f0f921\"]],\"type\":\"heatmapgl\"}],\"histogram\":[{\"marker\":{\"pattern\":{\"fillmode\":\"overlay\",\"size\":10,\"solidity\":0.2}},\"type\":\"histogram\"}],\"histogram2d\":[{\"colorbar\":{\"outlinewidth\":0,\"ticks\":\"\"},\"colorscale\":[[0.0,\"#0d0887\"],[0.1111111111111111,\"#46039f\"],[0.2222222222222222,\"#7201a8\"],[0.3333333333333333,\"#9c179e\"],[0.4444444444444444,\"#bd3786\"],[0.5555555555555556,\"#d8576b\"],[0.6666666666666666,\"#ed7953\"],[0.7777777777777778,\"#fb9f3a\"],[0.8888888888888888,\"#fdca26\"],[1.0,\"#f0f921\"]],\"type\":\"histogram2d\"}],\"histogram2dcontour\":[{\"colorbar\":{\"outlinewidth\":0,\"ticks\":\"\"},\"colorscale\":[[0.0,\"#0d0887\"],[0.1111111111111111,\"#46039f\"],[0.2222222222222222,\"#7201a8\"],[0.3333333333333333,\"#9c179e\"],[0.4444444444444444,\"#bd3786\"],[0.5555555555555556,\"#d8576b\"],[0.6666666666666666,\"#ed7953\"],[0.7777777777777778,\"#fb9f3a\"],[0.8888888888888888,\"#fdca26\"],[1.0,\"#f0f921\"]],\"type\":\"histogram2dcontour\"}],\"mesh3d\":[{\"colorbar\":{\"outlinewidth\":0,\"ticks\":\"\"},\"type\":\"mesh3d\"}],\"parcoords\":[{\"line\":{\"colorbar\":{\"outlinewidth\":0,\"ticks\":\"\"}},\"type\":\"parcoords\"}],\"pie\":[{\"automargin\":true,\"type\":\"pie\"}],\"scatter\":[{\"marker\":{\"colorbar\":{\"outlinewidth\":0,\"ticks\":\"\"}},\"type\":\"scatter\"}],\"scatter3d\":[{\"line\":{\"colorbar\":{\"outlinewidth\":0,\"ticks\":\"\"}},\"marker\":{\"colorbar\":{\"outlinewidth\":0,\"ticks\":\"\"}},\"type\":\"scatter3d\"}],\"scattercarpet\":[{\"marker\":{\"colorbar\":{\"outlinewidth\":0,\"ticks\":\"\"}},\"type\":\"scattercarpet\"}],\"scattergeo\":[{\"marker\":{\"colorbar\":{\"outlinewidth\":0,\"ticks\":\"\"}},\"type\":\"scattergeo\"}],\"scattergl\":[{\"marker\":{\"colorbar\":{\"outlinewidth\":0,\"ticks\":\"\"}},\"type\":\"scattergl\"}],\"scattermapbox\":[{\"marker\":{\"colorbar\":{\"outlinewidth\":0,\"ticks\":\"\"}},\"type\":\"scattermapbox\"}],\"scatterpolar\":[{\"marker\":{\"colorbar\":{\"outlinewidth\":0,\"ticks\":\"\"}},\"type\":\"scatterpolar\"}],\"scatterpolargl\":[{\"marker\":{\"colorbar\":{\"outlinewidth\":0,\"ticks\":\"\"}},\"type\":\"scatterpolargl\"}],\"scatterternary\":[{\"marker\":{\"colorbar\":{\"outlinewidth\":0,\"ticks\":\"\"}},\"type\":\"scatterternary\"}],\"surface\":[{\"colorbar\":{\"outlinewidth\":0,\"ticks\":\"\"},\"colorscale\":[[0.0,\"#0d0887\"],[0.1111111111111111,\"#46039f\"],[0.2222222222222222,\"#7201a8\"],[0.3333333333333333,\"#9c179e\"],[0.4444444444444444,\"#bd3786\"],[0.5555555555555556,\"#d8576b\"],[0.6666666666666666,\"#ed7953\"],[0.7777777777777778,\"#fb9f3a\"],[0.8888888888888888,\"#fdca26\"],[1.0,\"#f0f921\"]],\"type\":\"surface\"}],\"table\":[{\"cells\":{\"fill\":{\"color\":\"#EBF0F8\"},\"line\":{\"color\":\"white\"}},\"header\":{\"fill\":{\"color\":\"#C8D4E3\"},\"line\":{\"color\":\"white\"}},\"type\":\"table\"}]},\"layout\":{\"annotationdefaults\":{\"arrowcolor\":\"#2a3f5f\",\"arrowhead\":0,\"arrowwidth\":1},\"autotypenumbers\":\"strict\",\"coloraxis\":{\"colorbar\":{\"outlinewidth\":0,\"ticks\":\"\"}},\"colorscale\":{\"diverging\":[[0,\"#8e0152\"],[0.1,\"#c51b7d\"],[0.2,\"#de77ae\"],[0.3,\"#f1b6da\"],[0.4,\"#fde0ef\"],[0.5,\"#f7f7f7\"],[0.6,\"#e6f5d0\"],[0.7,\"#b8e186\"],[0.8,\"#7fbc41\"],[0.9,\"#4d9221\"],[1,\"#276419\"]],\"sequential\":[[0.0,\"#0d0887\"],[0.1111111111111111,\"#46039f\"],[0.2222222222222222,\"#7201a8\"],[0.3333333333333333,\"#9c179e\"],[0.4444444444444444,\"#bd3786\"],[0.5555555555555556,\"#d8576b\"],[0.6666666666666666,\"#ed7953\"],[0.7777777777777778,\"#fb9f3a\"],[0.8888888888888888,\"#fdca26\"],[1.0,\"#f0f921\"]],\"sequentialminus\":[[0.0,\"#0d0887\"],[0.1111111111111111,\"#46039f\"],[0.2222222222222222,\"#7201a8\"],[0.3333333333333333,\"#9c179e\"],[0.4444444444444444,\"#bd3786\"],[0.5555555555555556,\"#d8576b\"],[0.6666666666666666,\"#ed7953\"],[0.7777777777777778,\"#fb9f3a\"],[0.8888888888888888,\"#fdca26\"],[1.0,\"#f0f921\"]]},\"colorway\":[\"#636efa\",\"#EF553B\",\"#00cc96\",\"#ab63fa\",\"#FFA15A\",\"#19d3f3\",\"#FF6692\",\"#B6E880\",\"#FF97FF\",\"#FECB52\"],\"font\":{\"color\":\"#2a3f5f\"},\"geo\":{\"bgcolor\":\"white\",\"lakecolor\":\"white\",\"landcolor\":\"#E5ECF6\",\"showlakes\":true,\"showland\":true,\"subunitcolor\":\"white\"},\"hoverlabel\":{\"align\":\"left\"},\"hovermode\":\"closest\",\"mapbox\":{\"style\":\"light\"},\"paper_bgcolor\":\"white\",\"plot_bgcolor\":\"#E5ECF6\",\"polar\":{\"angularaxis\":{\"gridcolor\":\"white\",\"linecolor\":\"white\",\"ticks\":\"\"},\"bgcolor\":\"#E5ECF6\",\"radialaxis\":{\"gridcolor\":\"white\",\"linecolor\":\"white\",\"ticks\":\"\"}},\"scene\":{\"xaxis\":{\"backgroundcolor\":\"#E5ECF6\",\"gridcolor\":\"white\",\"gridwidth\":2,\"linecolor\":\"white\",\"showbackground\":true,\"ticks\":\"\",\"zerolinecolor\":\"white\"},\"yaxis\":{\"backgroundcolor\":\"#E5ECF6\",\"gridcolor\":\"white\",\"gridwidth\":2,\"linecolor\":\"white\",\"showbackground\":true,\"ticks\":\"\",\"zerolinecolor\":\"white\"},\"zaxis\":{\"backgroundcolor\":\"#E5ECF6\",\"gridcolor\":\"white\",\"gridwidth\":2,\"linecolor\":\"white\",\"showbackground\":true,\"ticks\":\"\",\"zerolinecolor\":\"white\"}},\"shapedefaults\":{\"line\":{\"color\":\"#2a3f5f\"}},\"ternary\":{\"aaxis\":{\"gridcolor\":\"white\",\"linecolor\":\"white\",\"ticks\":\"\"},\"baxis\":{\"gridcolor\":\"white\",\"linecolor\":\"white\",\"ticks\":\"\"},\"bgcolor\":\"#E5ECF6\",\"caxis\":{\"gridcolor\":\"white\",\"linecolor\":\"white\",\"ticks\":\"\"}},\"title\":{\"x\":0.05},\"xaxis\":{\"automargin\":true,\"gridcolor\":\"white\",\"linecolor\":\"white\",\"ticks\":\"\",\"title\":{\"standoff\":15},\"zerolinecolor\":\"white\",\"zerolinewidth\":2},\"yaxis\":{\"automargin\":true,\"gridcolor\":\"white\",\"linecolor\":\"white\",\"ticks\":\"\",\"title\":{\"standoff\":15},\"zerolinecolor\":\"white\",\"zerolinewidth\":2}}},\"xaxis\":{\"anchor\":\"y\",\"domain\":[0.0,1.0],\"title\":{\"text\":\"time\"}},\"yaxis\":{\"anchor\":\"x\",\"domain\":[0.0,1.0],\"title\":{\"text\":\"value\"}}},                        {\"responsive\": true}                    ).then(function(){\n",
       "                            \n",
       "var gd = document.getElementById('19812afc-675a-4d44-bff0-c720419c1ea5');\n",
       "var x = new MutationObserver(function (mutations, observer) {{\n",
       "        var display = window.getComputedStyle(gd).display;\n",
       "        if (!display || display === 'none') {{\n",
       "            console.log([gd, 'removed!']);\n",
       "            Plotly.purge(gd);\n",
       "            observer.disconnect();\n",
       "        }}\n",
       "}});\n",
       "\n",
       "// Listen for the removal of the full notebook cells\n",
       "var notebookContainer = gd.closest('#notebook-container');\n",
       "if (notebookContainer) {{\n",
       "    x.observe(notebookContainer, {childList: true});\n",
       "}}\n",
       "\n",
       "// Listen for the clearing of the current output cell\n",
       "var outputEl = gd.closest('.output');\n",
       "if (outputEl) {{\n",
       "    x.observe(outputEl, {childList: true});\n",
       "}}\n",
       "\n",
       "                        })                };                });            </script>        </div>"
      ]
     },
     "metadata": {},
     "output_type": "display_data"
    },
    {
     "name": "stdout",
     "output_type": "stream",
     "text": [
      "22-2-1\n"
     ]
    }
   ],
   "source": [
    "m = 22\n",
    "n = 2\n",
    "s = 1\n",
    "\n",
    "df=pd.read_csv(r'C:\\Users\\Tosha.E.T\\Desktop\\Sinotech\\716\\{0}-{1}-{2}_clean.csv'.format(m,n,s))\n",
    "df=df[df['value']>40]\n",
    "df=df[df['value']<45]\n",
    "df = df.reset_index()\n",
    "\n",
    "i = 1\n",
    "while i<(len(df[\"value\"])-1):\n",
    "    a = df[\"value\"][i-1]\n",
    "    b = df[\"value\"][i]\n",
    "    c = df[\"value\"][i+1]\n",
    "    if (abs(b-c)+abs(a-b))/2>abs(c-a)*1.5:\n",
    "        df[\"value\"][i] = (a+c)/2\n",
    "        i=i+1\n",
    "    else:\n",
    "        i=i+1\n",
    "df.to_csv(r'C:\\Users\\Tosha.E.T\\Desktop\\Sinotech\\716\\{0}-{1}-{2}_cut.csv'.format(m,n,s))\n",
    "print(\"cut save!!\")\n",
    "#---------------------------------------------------\n",
    "fig = px.line(df, y='value', x='time')        \n",
    "fig.show()\n",
    "print(\"{0}-{1}-{2}\".format(m,n,s))"
   ]
  },
  {
   "cell_type": "code",
   "execution_count": null,
   "id": "emotional-notebook",
   "metadata": {},
   "outputs": [],
   "source": []
  },
  {
   "cell_type": "code",
   "execution_count": 26,
   "id": "colonial-bedroom",
   "metadata": {},
   "outputs": [
    {
     "name": "stdout",
     "output_type": "stream",
     "text": [
      "cut save!!\n"
     ]
    },
    {
     "name": "stderr",
     "output_type": "stream",
     "text": [
      "<ipython-input-26-fc1f059281c2>:16: SettingWithCopyWarning:\n",
      "\n",
      "\n",
      "A value is trying to be set on a copy of a slice from a DataFrame\n",
      "\n",
      "See the caveats in the documentation: https://pandas.pydata.org/pandas-docs/stable/user_guide/indexing.html#returning-a-view-versus-a-copy\n",
      "\n"
     ]
    },
    {
     "data": {
      "application/vnd.plotly.v1+json": {
       "config": {
        "plotlyServerURL": "https://plot.ly"
       },
       "data": [
        {
         "hovertemplate": "time=%{x}<br>value=%{y}<extra></extra>",
         "legendgroup": "",
         "line": {
          "color": "#636efa",
          "dash": "solid"
         },
         "mode": "lines",
         "name": "",
         "orientation": "v",
         "showlegend": false,
         "type": "scatter",
         "x": [
          "2021-06-10 19:30:00",
          "2021-06-10 21:00:00",
          "2021-06-10 21:30:00",
          "2021-06-10 22:00:00",
          "2021-06-10 22:30:00",
          "2021-06-10 23:00:00",
          "2021-06-10 23:30:00",
          "2021-06-11 00:00:00",
          "2021-06-11 00:30:00",
          "2021-06-11 01:00:00",
          "2021-06-11 01:30:00",
          "2021-06-11 02:00:00",
          "2021-06-11 02:30:00",
          "2021-06-11 03:00:00",
          "2021-06-11 03:30:00",
          "2021-06-11 04:00:00",
          "2021-06-11 04:30:00",
          "2021-06-11 05:00:00",
          "2021-06-11 05:30:00",
          "2021-06-11 06:00:00",
          "2021-06-11 06:30:00",
          "2021-06-11 07:00:00",
          "2021-06-11 07:30:00",
          "2021-06-11 08:30:00",
          "2021-06-11 11:30:00",
          "2021-06-11 12:30:00",
          "2021-06-11 13:00:00",
          "2021-06-11 13:30:00",
          "2021-06-11 14:00:00",
          "2021-06-11 14:30:00",
          "2021-06-11 15:00:00",
          "2021-06-11 15:30:00",
          "2021-06-11 16:30:00",
          "2021-06-11 17:00:00",
          "2021-06-11 17:30:00",
          "2021-06-11 18:00:00",
          "2021-06-11 19:00:00",
          "2021-06-11 20:00:00",
          "2021-06-11 21:00:00",
          "2021-06-11 22:00:00",
          "2021-06-11 23:00:00",
          "2021-06-12 00:00:00",
          "2021-06-12 01:00:00",
          "2021-06-12 02:00:00",
          "2021-06-12 03:00:00",
          "2021-06-12 04:30:00",
          "2021-06-12 05:00:00",
          "2021-06-12 05:30:00",
          "2021-06-12 06:30:00",
          "2021-06-12 07:30:00",
          "2021-06-12 08:30:00",
          "2021-06-12 09:30:00",
          "2021-06-12 10:30:00",
          "2021-06-12 11:00:00",
          "2021-06-12 11:30:00",
          "2021-06-12 12:30:00",
          "2021-06-12 13:30:00",
          "2021-06-12 14:30:00",
          "2021-06-12 15:30:00",
          "2021-06-12 16:30:00",
          "2021-06-12 17:30:00",
          "2021-06-12 18:30:00",
          "2021-06-12 19:30:00",
          "2021-06-12 20:30:00",
          "2021-06-12 21:30:00",
          "2021-06-13 09:30:00",
          "2021-06-13 10:30:00",
          "2021-06-13 11:30:00",
          "2021-06-13 12:30:00",
          "2021-06-13 13:30:00",
          "2021-06-13 15:30:00",
          "2021-06-13 16:30:00",
          "2021-06-13 17:30:00",
          "2021-06-13 19:30:00",
          "2021-06-13 20:30:00",
          "2021-06-13 21:30:00",
          "2021-06-13 22:30:00",
          "2021-06-13 23:30:00",
          "2021-06-14 01:30:00",
          "2021-06-14 02:30:00",
          "2021-06-14 04:00:00",
          "2021-06-14 04:30:00",
          "2021-06-14 05:30:00",
          "2021-06-14 06:00:00",
          "2021-06-14 07:00:00",
          "2021-06-14 09:00:00",
          "2021-06-14 10:00:00",
          "2021-06-14 11:00:00",
          "2021-06-14 13:00:00",
          "2021-06-14 15:00:00",
          "2021-06-14 16:00:00",
          "2021-06-14 17:00:00",
          "2021-06-14 18:00:00",
          "2021-06-14 19:30:00",
          "2021-06-14 20:00:00",
          "2021-06-14 20:30:00",
          "2021-06-14 21:00:00",
          "2021-06-14 21:30:00",
          "2021-06-14 22:00:00",
          "2021-06-14 22:30:00",
          "2021-06-14 23:30:00",
          "2021-06-15 00:00:00",
          "2021-06-15 00:30:00",
          "2021-06-15 01:00:00",
          "2021-06-15 01:30:00",
          "2021-06-15 02:00:00",
          "2021-06-15 02:30:00",
          "2021-06-15 03:00:00",
          "2021-06-15 03:30:00",
          "2021-06-15 04:30:00",
          "2021-06-15 05:30:00",
          "2021-06-15 07:30:00",
          "2021-06-15 08:00:00",
          "2021-06-15 08:30:00",
          "2021-06-15 09:00:00",
          "2021-06-15 09:30:00",
          "2021-06-15 10:00:00",
          "2021-06-15 11:00:00",
          "2021-06-15 12:00:00",
          "2021-06-15 13:00:00",
          "2021-06-15 14:00:00",
          "2021-06-15 15:00:00",
          "2021-06-15 16:00:00",
          "2021-06-15 17:00:00",
          "2021-06-15 18:00:00",
          "2021-06-15 19:00:00",
          "2021-06-15 19:30:00",
          "2021-06-15 21:30:00",
          "2021-06-15 22:00:00",
          "2021-06-15 23:00:00",
          "2021-06-16 00:00:00",
          "2021-06-16 01:00:00",
          "2021-06-16 02:00:00",
          "2021-06-16 03:00:00",
          "2021-06-16 16:00:00",
          "2021-06-16 17:00:00",
          "2021-06-16 22:00:00",
          "2021-06-17 13:00:00",
          "2021-06-17 14:00:00",
          "2021-06-17 15:00:00",
          "2021-06-17 16:00:00",
          "2021-06-17 17:00:00",
          "2021-06-17 18:00:00",
          "2021-06-17 19:00:00",
          "2021-06-17 20:00:00",
          "2021-06-17 22:00:00",
          "2021-06-17 23:00:00",
          "2021-06-18 00:00:00",
          "2021-06-18 01:00:00",
          "2021-06-18 02:00:00",
          "2021-06-18 03:00:00",
          "2021-06-18 10:00:00",
          "2021-06-18 11:00:00",
          "2021-06-18 12:00:00",
          "2021-06-18 13:00:00",
          "2021-06-18 14:00:00",
          "2021-06-18 15:00:00",
          "2021-06-18 16:00:00",
          "2021-06-18 17:00:00",
          "2021-06-18 18:00:00",
          "2021-06-18 19:00:00",
          "2021-06-18 20:00:00",
          "2021-06-18 21:00:00",
          "2021-06-18 21:30:00",
          "2021-06-18 22:00:00",
          "2021-06-18 22:30:00",
          "2021-06-18 23:00:00",
          "2021-06-19 00:00:00",
          "2021-06-19 06:00:00",
          "2021-06-19 07:00:00",
          "2021-06-19 11:00:00",
          "2021-06-19 12:00:00",
          "2021-06-19 13:00:00",
          "2021-06-19 14:00:00",
          "2021-06-19 15:00:00",
          "2021-06-19 16:00:00",
          "2021-06-19 17:00:00",
          "2021-06-19 18:00:00",
          "2021-06-19 19:00:00",
          "2021-06-19 20:00:00",
          "2021-06-19 21:00:00",
          "2021-06-20 04:30:00",
          "2021-06-20 07:30:00",
          "2021-06-20 10:30:00",
          "2021-06-20 12:30:00",
          "2021-06-20 14:30:00",
          "2021-06-20 15:00:00",
          "2021-06-20 15:30:00",
          "2021-06-20 16:00:00",
          "2021-06-20 16:30:00",
          "2021-06-20 17:00:00",
          "2021-06-20 17:30:00",
          "2021-06-20 18:30:00",
          "2021-06-20 19:00:00",
          "2021-06-20 19:30:00",
          "2021-06-20 20:00:00",
          "2021-06-21 02:00:00",
          "2021-06-21 02:30:00",
          "2021-06-21 03:00:00",
          "2021-06-21 07:30:00",
          "2021-06-21 10:00:00",
          "2021-06-21 10:30:00",
          "2021-06-21 11:00:00",
          "2021-06-21 11:30:00",
          "2021-06-21 12:00:00",
          "2021-06-21 12:30:00",
          "2021-06-21 13:00:00",
          "2021-06-21 13:30:00",
          "2021-06-21 14:00:00",
          "2021-06-21 14:30:00",
          "2021-06-21 15:00:00",
          "2021-06-21 15:30:00",
          "2021-06-21 16:00:00",
          "2021-06-21 16:30:00",
          "2021-06-21 17:00:00",
          "2021-06-21 17:30:00",
          "2021-06-21 18:00:00",
          "2021-06-21 18:30:00",
          "2021-06-21 19:00:00",
          "2021-06-21 19:30:00",
          "2021-06-21 20:00:00",
          "2021-06-22 07:30:00",
          "2021-06-22 09:30:00",
          "2021-06-22 10:00:00",
          "2021-06-22 10:30:00",
          "2021-06-22 11:00:00",
          "2021-06-22 11:30:00",
          "2021-06-22 14:00:00",
          "2021-06-22 14:30:00",
          "2021-06-22 15:00:00",
          "2021-06-22 17:00:00",
          "2021-06-23 10:00:00",
          "2021-06-23 10:30:00",
          "2021-06-23 11:00:00",
          "2021-06-23 13:30:00",
          "2021-06-23 14:00:00",
          "2021-06-24 09:00:00",
          "2021-06-24 09:30:00",
          "2021-06-24 10:00:00",
          "2021-06-24 12:00:00",
          "2021-06-24 12:30:00",
          "2021-06-24 13:00:00",
          "2021-06-24 18:30:00",
          "2021-06-24 23:00:00",
          "2021-06-25 10:00:00",
          "2021-06-25 10:30:00",
          "2021-06-25 13:30:00",
          "2021-06-25 14:00:00",
          "2021-06-26 09:00:00",
          "2021-06-26 10:30:00",
          "2021-06-26 12:00:00",
          "2021-06-26 13:00:00",
          "2021-06-26 13:30:00",
          "2021-06-26 14:00:00",
          "2021-06-26 14:30:00",
          "2021-06-26 15:00:00",
          "2021-06-26 15:30:00",
          "2021-06-26 16:00:00",
          "2021-06-26 16:30:00",
          "2021-06-26 17:00:00",
          "2021-06-26 17:30:00",
          "2021-06-26 18:00:00",
          "2021-06-26 18:30:00",
          "2021-06-26 19:00:00",
          "2021-06-26 19:30:00",
          "2021-06-26 20:00:00",
          "2021-06-26 20:30:00",
          "2021-06-27 11:30:00",
          "2021-06-27 12:00:00",
          "2021-06-27 12:30:00",
          "2021-06-27 13:00:00",
          "2021-06-27 13:30:00",
          "2021-06-27 14:00:00",
          "2021-06-27 14:30:00",
          "2021-06-27 15:00:00",
          "2021-06-27 15:30:00",
          "2021-06-27 16:00:00",
          "2021-06-27 16:30:00",
          "2021-06-27 17:00:00",
          "2021-06-28 09:00:00",
          "2021-06-28 11:30:00",
          "2021-06-28 12:00:00",
          "2021-06-28 12:30:00",
          "2021-06-28 13:00:00",
          "2021-06-28 14:00:00",
          "2021-06-28 14:30:00",
          "2021-06-28 15:00:00",
          "2021-06-28 16:00:00",
          "2021-06-28 16:30:00",
          "2021-06-28 17:00:00",
          "2021-06-28 17:30:00",
          "2021-06-28 18:00:00",
          "2021-06-29 09:30:00",
          "2021-06-29 10:00:00",
          "2021-06-29 10:30:00",
          "2021-06-29 11:00:00",
          "2021-06-29 11:30:00",
          "2021-06-29 12:00:00",
          "2021-06-29 12:30:00",
          "2021-06-29 14:30:00",
          "2021-06-29 15:00:00",
          "2021-06-29 15:30:00",
          "2021-06-29 16:00:00",
          "2021-06-29 16:30:00",
          "2021-06-29 17:30:00",
          "2021-06-29 19:00:00",
          "2021-06-29 20:00:00",
          "2021-06-30 10:00:00",
          "2021-06-30 13:00:00",
          "2021-06-30 14:00:00",
          "2021-06-30 15:00:00",
          "2021-06-30 15:30:00",
          "2021-06-30 17:00:00",
          "2021-06-30 18:00:00",
          "2021-06-30 19:00:00",
          "2021-06-30 20:00:00",
          "2021-06-30 21:00:00",
          "2021-06-30 22:30:00",
          "2021-07-01 00:30:00",
          "2021-07-01 03:30:00",
          "2021-07-01 22:30:00",
          "2021-07-01 23:30:00",
          "2021-07-02 23:00:00",
          "2021-07-03 12:00:00",
          "2021-07-03 13:00:00",
          "2021-07-03 14:00:00",
          "2021-07-03 15:00:00",
          "2021-07-03 16:00:00",
          "2021-07-03 17:00:00",
          "2021-07-03 20:00:00",
          "2021-07-03 21:00:00",
          "2021-07-03 22:00:00",
          "2021-07-03 22:30:00",
          "2021-07-03 23:00:00",
          "2021-07-04 09:00:00",
          "2021-07-04 11:30:00",
          "2021-07-04 12:00:00",
          "2021-07-04 12:30:00",
          "2021-07-04 13:00:00",
          "2021-07-04 13:30:00",
          "2021-07-04 14:00:00",
          "2021-07-04 14:30:00",
          "2021-07-04 15:00:00",
          "2021-07-04 15:30:00",
          "2021-07-04 16:00:00",
          "2021-07-05 10:00:00",
          "2021-07-05 11:30:00",
          "2021-07-05 12:00:00",
          "2021-07-05 12:30:00",
          "2021-07-05 13:00:00",
          "2021-07-05 13:30:00",
          "2021-07-05 14:00:00",
          "2021-07-05 14:30:00",
          "2021-07-05 16:30:00",
          "2021-07-05 17:00:00",
          "2021-07-05 17:30:00",
          "2021-07-05 18:00:00",
          "2021-07-06 10:00:00",
          "2021-07-06 12:30:00",
          "2021-07-06 13:30:00",
          "2021-07-06 14:30:00",
          "2021-07-06 15:30:00",
          "2021-07-06 16:30:00",
          "2021-07-06 17:30:00",
          "2021-07-07 09:30:00",
          "2021-07-07 10:30:00",
          "2021-07-07 14:00:00",
          "2021-07-07 15:00:00",
          "2021-07-07 16:00:00",
          "2021-07-07 16:30:00",
          "2021-07-07 17:30:00",
          "2021-07-07 18:30:00",
          "2021-07-07 19:30:00",
          "2021-07-08 11:30:00",
          "2021-07-08 12:30:00",
          "2021-07-08 15:00:00",
          "2021-07-08 16:30:00",
          "2021-07-09 11:30:00",
          "2021-07-09 12:30:00",
          "2021-07-09 13:00:00",
          "2021-07-09 13:30:00",
          "2021-07-09 14:00:00",
          "2021-07-09 14:30:00",
          "2021-07-09 15:00:00",
          "2021-07-09 15:30:00",
          "2021-07-09 16:00:00",
          "2021-07-09 16:30:00",
          "2021-07-09 17:00:00",
          "2021-07-09 17:30:00",
          "2021-07-09 18:30:00",
          "2021-07-09 19:00:00",
          "2021-07-09 19:30:00",
          "2021-07-09 20:00:00",
          "2021-07-09 20:30:00",
          "2021-07-09 21:00:00",
          "2021-07-09 21:30:00",
          "2021-07-09 22:00:00",
          "2021-07-09 22:30:00",
          "2021-07-09 23:00:00",
          "2021-07-09 23:30:00",
          "2021-07-10 09:30:00",
          "2021-07-10 10:30:00",
          "2021-07-10 11:30:00",
          "2021-07-10 12:30:00",
          "2021-07-10 13:30:00",
          "2021-07-10 14:30:00",
          "2021-07-10 15:30:00",
          "2021-07-10 16:00:00",
          "2021-07-10 16:30:00",
          "2021-07-10 17:00:00",
          "2021-07-10 17:30:00",
          "2021-07-10 18:00:00",
          "2021-07-10 18:30:00",
          "2021-07-10 19:00:00",
          "2021-07-10 19:30:00",
          "2021-07-10 22:30:00",
          "2021-07-11 07:00:00",
          "2021-07-11 09:00:00",
          "2021-07-11 09:30:00",
          "2021-07-11 10:00:00",
          "2021-07-11 10:30:00",
          "2021-07-11 11:00:00",
          "2021-07-11 11:30:00",
          "2021-07-11 12:00:00",
          "2021-07-11 12:30:00",
          "2021-07-11 13:00:00",
          "2021-07-11 13:30:00",
          "2021-07-11 14:00:00",
          "2021-07-11 14:30:00",
          "2021-07-11 15:00:00",
          "2021-07-11 15:30:00",
          "2021-07-11 16:00:00",
          "2021-07-11 16:30:00",
          "2021-07-11 17:00:00",
          "2021-07-12 11:30:00",
          "2021-07-12 14:30:00",
          "2021-07-12 15:30:00",
          "2021-07-12 16:00:00",
          "2021-07-12 17:00:00",
          "2021-07-12 18:00:00",
          "2021-07-12 19:00:00",
          "2021-07-12 19:30:00",
          "2021-07-12 20:00:00",
          "2021-07-12 20:30:00",
          "2021-07-12 21:00:00",
          "2021-07-12 21:30:00",
          "2021-07-13 10:30:00",
          "2021-07-13 18:30:00",
          "2021-07-14 11:00:00",
          "2021-07-14 11:30:00",
          "2021-07-14 12:00:00",
          "2021-07-14 13:00:00",
          "2021-07-14 13:30:00",
          "2021-07-14 14:00:00",
          "2021-07-14 14:30:00",
          "2021-07-14 15:00:00",
          "2021-07-14 15:30:00",
          "2021-07-14 16:00:00",
          "2021-07-14 16:30:00",
          "2021-07-14 17:00:00",
          "2021-07-14 18:00:00",
          "2021-07-14 18:30:00"
         ],
         "xaxis": "x",
         "y": [
          47.58,
          47.78,
          47.98,
          48.03,
          48.03,
          48.03,
          47.775,
          48.53,
          48.53,
          48.53,
          48.48,
          48.525,
          48.57,
          48.31,
          48.275000000000006,
          48.24,
          48.17,
          48.17,
          48.17,
          47.73,
          47.76,
          47.66,
          47.58,
          47.42,
          47.38,
          47.67,
          47.74,
          47.5,
          47.46,
          47.46,
          47.46,
          47.425,
          47.39,
          47.58,
          47.58,
          47.81,
          47.84,
          48.12,
          48.02,
          47.985,
          47.96,
          48.07,
          48.1,
          48.085,
          48.07,
          48,
          47.65,
          47.64,
          47.59,
          47.47,
          47.76,
          47.695,
          47.7025,
          47.71,
          47.760000000000005,
          47.81,
          47.07,
          47.3,
          46.84,
          47.99,
          47.87,
          47.864999999999995,
          47.86,
          48.05,
          47.63,
          46.02,
          45.83,
          45.849999999999994,
          45.87,
          45.7,
          45.755,
          45.81,
          45.8,
          46.12,
          46.59,
          46.59,
          46.59,
          46.52,
          46.33,
          46.82,
          46.85,
          46.87,
          46.86,
          46.83,
          46.24,
          46.07,
          45.91,
          45.74,
          45.735,
          45.73,
          45.78,
          45.79,
          46.06,
          46.19,
          46.16,
          46.23,
          46.235,
          46.24,
          46.25,
          46.27,
          46.31,
          46.33,
          46.29,
          46.39,
          46.42,
          46.43,
          46.45,
          46.46,
          46.47,
          46.48,
          46.49,
          46.27,
          46.14,
          45.94,
          46,
          46.16,
          46.245,
          46.33,
          45.56,
          45.85,
          45.89,
          45.78,
          45.769999999999996,
          45.76,
          45.79,
          45.64,
          46.06,
          46.08,
          46.1,
          46.17,
          46.31,
          46.34,
          45.57,
          45.62,
          45.07,
          44.91,
          45.37,
          45.15,
          45.17,
          45.19,
          45.24,
          45.28,
          45.49,
          45.65,
          45.64,
          45.77,
          45.83,
          45.88,
          45.91,
          45.95,
          45.99,
          45.32,
          45.364999999999995,
          45.41,
          45.325,
          45.3675,
          45.41,
          45.24,
          45.21,
          45.48,
          45.58,
          45.7,
          45.76,
          45.76,
          45.76,
          45.81,
          45.84,
          45.44,
          45.47,
          45.5,
          44.87,
          44.68,
          44.68,
          44.66,
          44.76,
          44.76,
          44.8,
          45.03,
          45.17,
          45.25,
          45.34,
          45.3,
          45.26,
          45.455,
          45.65,
          44.71,
          44.69,
          44.66,
          44.67,
          44.82,
          44.86,
          44.92,
          45.11,
          45.2,
          45.225,
          45.25,
          45.75,
          46.25,
          45.82,
          45.39,
          44.96,
          44.97,
          44.77,
          44.78,
          44.9,
          44.905,
          44.91,
          44.89,
          44.87,
          44.86,
          44.88,
          44.83,
          44.96,
          44.965,
          44.97,
          45.01,
          45.075,
          45.19,
          45.25,
          45.28,
          45.3,
          45.31,
          44.97,
          45.08,
          45.055,
          45.03,
          45.01,
          45.13,
          45.41,
          45.385,
          45.36,
          45.230000000000004,
          45.265,
          45.3,
          45.42,
          45.41,
          45.87,
          45.69,
          45.7,
          45.77,
          45.84,
          45.88,
          45.620000000000005,
          45.36,
          45.92,
          46.02,
          45.29,
          45.295,
          45.3,
          45.19,
          45.08,
          44.97,
          44.955,
          44.94,
          44.974999999999994,
          45.01,
          45.06,
          45.17,
          45.16,
          45.2,
          45.3,
          45.32,
          45.38,
          45.44,
          45.45,
          45.48,
          45.42,
          45.01,
          45.06,
          45.03,
          45.025000000000006,
          45.02,
          45.05,
          45.15,
          45.18,
          45.16,
          45.14,
          45.15,
          45.16,
          45.19,
          45.22,
          45.04,
          45.07,
          45.12,
          45,
          45.04,
          45.035,
          45.03,
          45.07,
          45.13,
          45.26,
          45.235,
          45.21,
          45.21,
          45.21,
          44.99,
          44.980000000000004,
          44.97,
          44.955,
          44.94,
          44.99,
          45.06,
          45.095,
          45.13,
          45.17,
          45.34,
          45.41,
          45.06,
          44.9,
          44.85,
          44.84,
          44.925,
          45.01,
          45.17,
          45.28,
          45.34,
          45.44,
          45.53,
          45.6,
          45.53,
          45.46,
          45.48,
          45.44,
          44.67,
          44.89,
          44.879999999999995,
          44.87,
          44.93,
          45.07,
          45.25,
          45.3,
          45.33,
          45.39,
          45.39,
          45.08,
          45.04,
          45,
          44.82,
          44.9,
          44.98,
          45.01,
          45,
          45.05,
          45.16,
          45.38,
          45.375,
          45.37,
          45.34,
          45.55,
          45.47,
          45.43,
          45.27,
          45.05,
          45.11,
          45.17,
          45.22,
          45.24,
          45.290000000000006,
          45.34,
          45.5,
          45.49,
          45.17,
          45.14,
          45.25,
          45.95,
          46.31,
          46.49,
          46.46,
          45.74,
          45.94,
          46.03,
          45.68,
          45.665,
          45.65,
          45.88,
          46.33,
          46.61,
          46.480000000000004,
          46.35,
          45.615,
          45.57,
          45.91,
          45.99,
          46.010000000000005,
          46.03,
          45.91,
          45.78,
          45.62,
          45.675,
          45.73,
          45.72,
          45.71,
          45.67,
          45.76,
          45.38,
          45.46,
          45.44,
          45.49,
          45.48,
          45.54,
          45.6,
          45.43,
          45.88,
          45.825,
          45.77,
          46.67,
          46.57,
          45.88,
          45.65,
          45.69,
          45.73,
          45.74,
          45.3,
          45.31,
          45.73,
          46.305,
          46.3575,
          46.363749999999996,
          46.37,
          46.47,
          46.46,
          46.45,
          46.75,
          46.72,
          46.69,
          46.6,
          46.47,
          46.26,
          45.92,
          45.97,
          45.62,
          45.584999999999994,
          45.5975,
          45.61,
          45.9,
          46.17,
          45.43,
          45.32,
          46.24,
          46.260000000000005,
          46.28,
          47.25,
          47.2,
          47.47,
          47.66,
          47.93,
          47.445,
          46.96,
          46.57,
          46.18,
          45.65,
          49,
          47.66,
          48.08,
          47.86,
          47.64,
          47.59,
          47.54,
          47.595,
          47.65,
          47.474999999999994,
          47.3
         ],
         "yaxis": "y"
        }
       ],
       "layout": {
        "legend": {
         "tracegroupgap": 0
        },
        "margin": {
         "t": 60
        },
        "template": {
         "data": {
          "bar": [
           {
            "error_x": {
             "color": "#2a3f5f"
            },
            "error_y": {
             "color": "#2a3f5f"
            },
            "marker": {
             "line": {
              "color": "#E5ECF6",
              "width": 0.5
             },
             "pattern": {
              "fillmode": "overlay",
              "size": 10,
              "solidity": 0.2
             }
            },
            "type": "bar"
           }
          ],
          "barpolar": [
           {
            "marker": {
             "line": {
              "color": "#E5ECF6",
              "width": 0.5
             },
             "pattern": {
              "fillmode": "overlay",
              "size": 10,
              "solidity": 0.2
             }
            },
            "type": "barpolar"
           }
          ],
          "carpet": [
           {
            "aaxis": {
             "endlinecolor": "#2a3f5f",
             "gridcolor": "white",
             "linecolor": "white",
             "minorgridcolor": "white",
             "startlinecolor": "#2a3f5f"
            },
            "baxis": {
             "endlinecolor": "#2a3f5f",
             "gridcolor": "white",
             "linecolor": "white",
             "minorgridcolor": "white",
             "startlinecolor": "#2a3f5f"
            },
            "type": "carpet"
           }
          ],
          "choropleth": [
           {
            "colorbar": {
             "outlinewidth": 0,
             "ticks": ""
            },
            "type": "choropleth"
           }
          ],
          "contour": [
           {
            "colorbar": {
             "outlinewidth": 0,
             "ticks": ""
            },
            "colorscale": [
             [
              0,
              "#0d0887"
             ],
             [
              0.1111111111111111,
              "#46039f"
             ],
             [
              0.2222222222222222,
              "#7201a8"
             ],
             [
              0.3333333333333333,
              "#9c179e"
             ],
             [
              0.4444444444444444,
              "#bd3786"
             ],
             [
              0.5555555555555556,
              "#d8576b"
             ],
             [
              0.6666666666666666,
              "#ed7953"
             ],
             [
              0.7777777777777778,
              "#fb9f3a"
             ],
             [
              0.8888888888888888,
              "#fdca26"
             ],
             [
              1,
              "#f0f921"
             ]
            ],
            "type": "contour"
           }
          ],
          "contourcarpet": [
           {
            "colorbar": {
             "outlinewidth": 0,
             "ticks": ""
            },
            "type": "contourcarpet"
           }
          ],
          "heatmap": [
           {
            "colorbar": {
             "outlinewidth": 0,
             "ticks": ""
            },
            "colorscale": [
             [
              0,
              "#0d0887"
             ],
             [
              0.1111111111111111,
              "#46039f"
             ],
             [
              0.2222222222222222,
              "#7201a8"
             ],
             [
              0.3333333333333333,
              "#9c179e"
             ],
             [
              0.4444444444444444,
              "#bd3786"
             ],
             [
              0.5555555555555556,
              "#d8576b"
             ],
             [
              0.6666666666666666,
              "#ed7953"
             ],
             [
              0.7777777777777778,
              "#fb9f3a"
             ],
             [
              0.8888888888888888,
              "#fdca26"
             ],
             [
              1,
              "#f0f921"
             ]
            ],
            "type": "heatmap"
           }
          ],
          "heatmapgl": [
           {
            "colorbar": {
             "outlinewidth": 0,
             "ticks": ""
            },
            "colorscale": [
             [
              0,
              "#0d0887"
             ],
             [
              0.1111111111111111,
              "#46039f"
             ],
             [
              0.2222222222222222,
              "#7201a8"
             ],
             [
              0.3333333333333333,
              "#9c179e"
             ],
             [
              0.4444444444444444,
              "#bd3786"
             ],
             [
              0.5555555555555556,
              "#d8576b"
             ],
             [
              0.6666666666666666,
              "#ed7953"
             ],
             [
              0.7777777777777778,
              "#fb9f3a"
             ],
             [
              0.8888888888888888,
              "#fdca26"
             ],
             [
              1,
              "#f0f921"
             ]
            ],
            "type": "heatmapgl"
           }
          ],
          "histogram": [
           {
            "marker": {
             "pattern": {
              "fillmode": "overlay",
              "size": 10,
              "solidity": 0.2
             }
            },
            "type": "histogram"
           }
          ],
          "histogram2d": [
           {
            "colorbar": {
             "outlinewidth": 0,
             "ticks": ""
            },
            "colorscale": [
             [
              0,
              "#0d0887"
             ],
             [
              0.1111111111111111,
              "#46039f"
             ],
             [
              0.2222222222222222,
              "#7201a8"
             ],
             [
              0.3333333333333333,
              "#9c179e"
             ],
             [
              0.4444444444444444,
              "#bd3786"
             ],
             [
              0.5555555555555556,
              "#d8576b"
             ],
             [
              0.6666666666666666,
              "#ed7953"
             ],
             [
              0.7777777777777778,
              "#fb9f3a"
             ],
             [
              0.8888888888888888,
              "#fdca26"
             ],
             [
              1,
              "#f0f921"
             ]
            ],
            "type": "histogram2d"
           }
          ],
          "histogram2dcontour": [
           {
            "colorbar": {
             "outlinewidth": 0,
             "ticks": ""
            },
            "colorscale": [
             [
              0,
              "#0d0887"
             ],
             [
              0.1111111111111111,
              "#46039f"
             ],
             [
              0.2222222222222222,
              "#7201a8"
             ],
             [
              0.3333333333333333,
              "#9c179e"
             ],
             [
              0.4444444444444444,
              "#bd3786"
             ],
             [
              0.5555555555555556,
              "#d8576b"
             ],
             [
              0.6666666666666666,
              "#ed7953"
             ],
             [
              0.7777777777777778,
              "#fb9f3a"
             ],
             [
              0.8888888888888888,
              "#fdca26"
             ],
             [
              1,
              "#f0f921"
             ]
            ],
            "type": "histogram2dcontour"
           }
          ],
          "mesh3d": [
           {
            "colorbar": {
             "outlinewidth": 0,
             "ticks": ""
            },
            "type": "mesh3d"
           }
          ],
          "parcoords": [
           {
            "line": {
             "colorbar": {
              "outlinewidth": 0,
              "ticks": ""
             }
            },
            "type": "parcoords"
           }
          ],
          "pie": [
           {
            "automargin": true,
            "type": "pie"
           }
          ],
          "scatter": [
           {
            "marker": {
             "colorbar": {
              "outlinewidth": 0,
              "ticks": ""
             }
            },
            "type": "scatter"
           }
          ],
          "scatter3d": [
           {
            "line": {
             "colorbar": {
              "outlinewidth": 0,
              "ticks": ""
             }
            },
            "marker": {
             "colorbar": {
              "outlinewidth": 0,
              "ticks": ""
             }
            },
            "type": "scatter3d"
           }
          ],
          "scattercarpet": [
           {
            "marker": {
             "colorbar": {
              "outlinewidth": 0,
              "ticks": ""
             }
            },
            "type": "scattercarpet"
           }
          ],
          "scattergeo": [
           {
            "marker": {
             "colorbar": {
              "outlinewidth": 0,
              "ticks": ""
             }
            },
            "type": "scattergeo"
           }
          ],
          "scattergl": [
           {
            "marker": {
             "colorbar": {
              "outlinewidth": 0,
              "ticks": ""
             }
            },
            "type": "scattergl"
           }
          ],
          "scattermapbox": [
           {
            "marker": {
             "colorbar": {
              "outlinewidth": 0,
              "ticks": ""
             }
            },
            "type": "scattermapbox"
           }
          ],
          "scatterpolar": [
           {
            "marker": {
             "colorbar": {
              "outlinewidth": 0,
              "ticks": ""
             }
            },
            "type": "scatterpolar"
           }
          ],
          "scatterpolargl": [
           {
            "marker": {
             "colorbar": {
              "outlinewidth": 0,
              "ticks": ""
             }
            },
            "type": "scatterpolargl"
           }
          ],
          "scatterternary": [
           {
            "marker": {
             "colorbar": {
              "outlinewidth": 0,
              "ticks": ""
             }
            },
            "type": "scatterternary"
           }
          ],
          "surface": [
           {
            "colorbar": {
             "outlinewidth": 0,
             "ticks": ""
            },
            "colorscale": [
             [
              0,
              "#0d0887"
             ],
             [
              0.1111111111111111,
              "#46039f"
             ],
             [
              0.2222222222222222,
              "#7201a8"
             ],
             [
              0.3333333333333333,
              "#9c179e"
             ],
             [
              0.4444444444444444,
              "#bd3786"
             ],
             [
              0.5555555555555556,
              "#d8576b"
             ],
             [
              0.6666666666666666,
              "#ed7953"
             ],
             [
              0.7777777777777778,
              "#fb9f3a"
             ],
             [
              0.8888888888888888,
              "#fdca26"
             ],
             [
              1,
              "#f0f921"
             ]
            ],
            "type": "surface"
           }
          ],
          "table": [
           {
            "cells": {
             "fill": {
              "color": "#EBF0F8"
             },
             "line": {
              "color": "white"
             }
            },
            "header": {
             "fill": {
              "color": "#C8D4E3"
             },
             "line": {
              "color": "white"
             }
            },
            "type": "table"
           }
          ]
         },
         "layout": {
          "annotationdefaults": {
           "arrowcolor": "#2a3f5f",
           "arrowhead": 0,
           "arrowwidth": 1
          },
          "autotypenumbers": "strict",
          "coloraxis": {
           "colorbar": {
            "outlinewidth": 0,
            "ticks": ""
           }
          },
          "colorscale": {
           "diverging": [
            [
             0,
             "#8e0152"
            ],
            [
             0.1,
             "#c51b7d"
            ],
            [
             0.2,
             "#de77ae"
            ],
            [
             0.3,
             "#f1b6da"
            ],
            [
             0.4,
             "#fde0ef"
            ],
            [
             0.5,
             "#f7f7f7"
            ],
            [
             0.6,
             "#e6f5d0"
            ],
            [
             0.7,
             "#b8e186"
            ],
            [
             0.8,
             "#7fbc41"
            ],
            [
             0.9,
             "#4d9221"
            ],
            [
             1,
             "#276419"
            ]
           ],
           "sequential": [
            [
             0,
             "#0d0887"
            ],
            [
             0.1111111111111111,
             "#46039f"
            ],
            [
             0.2222222222222222,
             "#7201a8"
            ],
            [
             0.3333333333333333,
             "#9c179e"
            ],
            [
             0.4444444444444444,
             "#bd3786"
            ],
            [
             0.5555555555555556,
             "#d8576b"
            ],
            [
             0.6666666666666666,
             "#ed7953"
            ],
            [
             0.7777777777777778,
             "#fb9f3a"
            ],
            [
             0.8888888888888888,
             "#fdca26"
            ],
            [
             1,
             "#f0f921"
            ]
           ],
           "sequentialminus": [
            [
             0,
             "#0d0887"
            ],
            [
             0.1111111111111111,
             "#46039f"
            ],
            [
             0.2222222222222222,
             "#7201a8"
            ],
            [
             0.3333333333333333,
             "#9c179e"
            ],
            [
             0.4444444444444444,
             "#bd3786"
            ],
            [
             0.5555555555555556,
             "#d8576b"
            ],
            [
             0.6666666666666666,
             "#ed7953"
            ],
            [
             0.7777777777777778,
             "#fb9f3a"
            ],
            [
             0.8888888888888888,
             "#fdca26"
            ],
            [
             1,
             "#f0f921"
            ]
           ]
          },
          "colorway": [
           "#636efa",
           "#EF553B",
           "#00cc96",
           "#ab63fa",
           "#FFA15A",
           "#19d3f3",
           "#FF6692",
           "#B6E880",
           "#FF97FF",
           "#FECB52"
          ],
          "font": {
           "color": "#2a3f5f"
          },
          "geo": {
           "bgcolor": "white",
           "lakecolor": "white",
           "landcolor": "#E5ECF6",
           "showlakes": true,
           "showland": true,
           "subunitcolor": "white"
          },
          "hoverlabel": {
           "align": "left"
          },
          "hovermode": "closest",
          "mapbox": {
           "style": "light"
          },
          "paper_bgcolor": "white",
          "plot_bgcolor": "#E5ECF6",
          "polar": {
           "angularaxis": {
            "gridcolor": "white",
            "linecolor": "white",
            "ticks": ""
           },
           "bgcolor": "#E5ECF6",
           "radialaxis": {
            "gridcolor": "white",
            "linecolor": "white",
            "ticks": ""
           }
          },
          "scene": {
           "xaxis": {
            "backgroundcolor": "#E5ECF6",
            "gridcolor": "white",
            "gridwidth": 2,
            "linecolor": "white",
            "showbackground": true,
            "ticks": "",
            "zerolinecolor": "white"
           },
           "yaxis": {
            "backgroundcolor": "#E5ECF6",
            "gridcolor": "white",
            "gridwidth": 2,
            "linecolor": "white",
            "showbackground": true,
            "ticks": "",
            "zerolinecolor": "white"
           },
           "zaxis": {
            "backgroundcolor": "#E5ECF6",
            "gridcolor": "white",
            "gridwidth": 2,
            "linecolor": "white",
            "showbackground": true,
            "ticks": "",
            "zerolinecolor": "white"
           }
          },
          "shapedefaults": {
           "line": {
            "color": "#2a3f5f"
           }
          },
          "ternary": {
           "aaxis": {
            "gridcolor": "white",
            "linecolor": "white",
            "ticks": ""
           },
           "baxis": {
            "gridcolor": "white",
            "linecolor": "white",
            "ticks": ""
           },
           "bgcolor": "#E5ECF6",
           "caxis": {
            "gridcolor": "white",
            "linecolor": "white",
            "ticks": ""
           }
          },
          "title": {
           "x": 0.05
          },
          "xaxis": {
           "automargin": true,
           "gridcolor": "white",
           "linecolor": "white",
           "ticks": "",
           "title": {
            "standoff": 15
           },
           "zerolinecolor": "white",
           "zerolinewidth": 2
          },
          "yaxis": {
           "automargin": true,
           "gridcolor": "white",
           "linecolor": "white",
           "ticks": "",
           "title": {
            "standoff": 15
           },
           "zerolinecolor": "white",
           "zerolinewidth": 2
          }
         }
        },
        "xaxis": {
         "anchor": "y",
         "domain": [
          0,
          1
         ],
         "title": {
          "text": "time"
         }
        },
        "yaxis": {
         "anchor": "x",
         "domain": [
          0,
          1
         ],
         "title": {
          "text": "value"
         }
        }
       }
      },
      "text/html": [
       "<div>                            <div id=\"8b90e0d1-29e8-40bd-b2bd-3fc8478be34a\" class=\"plotly-graph-div\" style=\"height:525px; width:100%;\"></div>            <script type=\"text/javascript\">                require([\"plotly\"], function(Plotly) {                    window.PLOTLYENV=window.PLOTLYENV || {};                                    if (document.getElementById(\"8b90e0d1-29e8-40bd-b2bd-3fc8478be34a\")) {                    Plotly.newPlot(                        \"8b90e0d1-29e8-40bd-b2bd-3fc8478be34a\",                        [{\"hovertemplate\":\"time=%{x}<br>value=%{y}<extra></extra>\",\"legendgroup\":\"\",\"line\":{\"color\":\"#636efa\",\"dash\":\"solid\"},\"mode\":\"lines\",\"name\":\"\",\"orientation\":\"v\",\"showlegend\":false,\"type\":\"scatter\",\"x\":[\"2021-06-10 19:30:00\",\"2021-06-10 21:00:00\",\"2021-06-10 21:30:00\",\"2021-06-10 22:00:00\",\"2021-06-10 22:30:00\",\"2021-06-10 23:00:00\",\"2021-06-10 23:30:00\",\"2021-06-11 00:00:00\",\"2021-06-11 00:30:00\",\"2021-06-11 01:00:00\",\"2021-06-11 01:30:00\",\"2021-06-11 02:00:00\",\"2021-06-11 02:30:00\",\"2021-06-11 03:00:00\",\"2021-06-11 03:30:00\",\"2021-06-11 04:00:00\",\"2021-06-11 04:30:00\",\"2021-06-11 05:00:00\",\"2021-06-11 05:30:00\",\"2021-06-11 06:00:00\",\"2021-06-11 06:30:00\",\"2021-06-11 07:00:00\",\"2021-06-11 07:30:00\",\"2021-06-11 08:30:00\",\"2021-06-11 11:30:00\",\"2021-06-11 12:30:00\",\"2021-06-11 13:00:00\",\"2021-06-11 13:30:00\",\"2021-06-11 14:00:00\",\"2021-06-11 14:30:00\",\"2021-06-11 15:00:00\",\"2021-06-11 15:30:00\",\"2021-06-11 16:30:00\",\"2021-06-11 17:00:00\",\"2021-06-11 17:30:00\",\"2021-06-11 18:00:00\",\"2021-06-11 19:00:00\",\"2021-06-11 20:00:00\",\"2021-06-11 21:00:00\",\"2021-06-11 22:00:00\",\"2021-06-11 23:00:00\",\"2021-06-12 00:00:00\",\"2021-06-12 01:00:00\",\"2021-06-12 02:00:00\",\"2021-06-12 03:00:00\",\"2021-06-12 04:30:00\",\"2021-06-12 05:00:00\",\"2021-06-12 05:30:00\",\"2021-06-12 06:30:00\",\"2021-06-12 07:30:00\",\"2021-06-12 08:30:00\",\"2021-06-12 09:30:00\",\"2021-06-12 10:30:00\",\"2021-06-12 11:00:00\",\"2021-06-12 11:30:00\",\"2021-06-12 12:30:00\",\"2021-06-12 13:30:00\",\"2021-06-12 14:30:00\",\"2021-06-12 15:30:00\",\"2021-06-12 16:30:00\",\"2021-06-12 17:30:00\",\"2021-06-12 18:30:00\",\"2021-06-12 19:30:00\",\"2021-06-12 20:30:00\",\"2021-06-12 21:30:00\",\"2021-06-13 09:30:00\",\"2021-06-13 10:30:00\",\"2021-06-13 11:30:00\",\"2021-06-13 12:30:00\",\"2021-06-13 13:30:00\",\"2021-06-13 15:30:00\",\"2021-06-13 16:30:00\",\"2021-06-13 17:30:00\",\"2021-06-13 19:30:00\",\"2021-06-13 20:30:00\",\"2021-06-13 21:30:00\",\"2021-06-13 22:30:00\",\"2021-06-13 23:30:00\",\"2021-06-14 01:30:00\",\"2021-06-14 02:30:00\",\"2021-06-14 04:00:00\",\"2021-06-14 04:30:00\",\"2021-06-14 05:30:00\",\"2021-06-14 06:00:00\",\"2021-06-14 07:00:00\",\"2021-06-14 09:00:00\",\"2021-06-14 10:00:00\",\"2021-06-14 11:00:00\",\"2021-06-14 13:00:00\",\"2021-06-14 15:00:00\",\"2021-06-14 16:00:00\",\"2021-06-14 17:00:00\",\"2021-06-14 18:00:00\",\"2021-06-14 19:30:00\",\"2021-06-14 20:00:00\",\"2021-06-14 20:30:00\",\"2021-06-14 21:00:00\",\"2021-06-14 21:30:00\",\"2021-06-14 22:00:00\",\"2021-06-14 22:30:00\",\"2021-06-14 23:30:00\",\"2021-06-15 00:00:00\",\"2021-06-15 00:30:00\",\"2021-06-15 01:00:00\",\"2021-06-15 01:30:00\",\"2021-06-15 02:00:00\",\"2021-06-15 02:30:00\",\"2021-06-15 03:00:00\",\"2021-06-15 03:30:00\",\"2021-06-15 04:30:00\",\"2021-06-15 05:30:00\",\"2021-06-15 07:30:00\",\"2021-06-15 08:00:00\",\"2021-06-15 08:30:00\",\"2021-06-15 09:00:00\",\"2021-06-15 09:30:00\",\"2021-06-15 10:00:00\",\"2021-06-15 11:00:00\",\"2021-06-15 12:00:00\",\"2021-06-15 13:00:00\",\"2021-06-15 14:00:00\",\"2021-06-15 15:00:00\",\"2021-06-15 16:00:00\",\"2021-06-15 17:00:00\",\"2021-06-15 18:00:00\",\"2021-06-15 19:00:00\",\"2021-06-15 19:30:00\",\"2021-06-15 21:30:00\",\"2021-06-15 22:00:00\",\"2021-06-15 23:00:00\",\"2021-06-16 00:00:00\",\"2021-06-16 01:00:00\",\"2021-06-16 02:00:00\",\"2021-06-16 03:00:00\",\"2021-06-16 16:00:00\",\"2021-06-16 17:00:00\",\"2021-06-16 22:00:00\",\"2021-06-17 13:00:00\",\"2021-06-17 14:00:00\",\"2021-06-17 15:00:00\",\"2021-06-17 16:00:00\",\"2021-06-17 17:00:00\",\"2021-06-17 18:00:00\",\"2021-06-17 19:00:00\",\"2021-06-17 20:00:00\",\"2021-06-17 22:00:00\",\"2021-06-17 23:00:00\",\"2021-06-18 00:00:00\",\"2021-06-18 01:00:00\",\"2021-06-18 02:00:00\",\"2021-06-18 03:00:00\",\"2021-06-18 10:00:00\",\"2021-06-18 11:00:00\",\"2021-06-18 12:00:00\",\"2021-06-18 13:00:00\",\"2021-06-18 14:00:00\",\"2021-06-18 15:00:00\",\"2021-06-18 16:00:00\",\"2021-06-18 17:00:00\",\"2021-06-18 18:00:00\",\"2021-06-18 19:00:00\",\"2021-06-18 20:00:00\",\"2021-06-18 21:00:00\",\"2021-06-18 21:30:00\",\"2021-06-18 22:00:00\",\"2021-06-18 22:30:00\",\"2021-06-18 23:00:00\",\"2021-06-19 00:00:00\",\"2021-06-19 06:00:00\",\"2021-06-19 07:00:00\",\"2021-06-19 11:00:00\",\"2021-06-19 12:00:00\",\"2021-06-19 13:00:00\",\"2021-06-19 14:00:00\",\"2021-06-19 15:00:00\",\"2021-06-19 16:00:00\",\"2021-06-19 17:00:00\",\"2021-06-19 18:00:00\",\"2021-06-19 19:00:00\",\"2021-06-19 20:00:00\",\"2021-06-19 21:00:00\",\"2021-06-20 04:30:00\",\"2021-06-20 07:30:00\",\"2021-06-20 10:30:00\",\"2021-06-20 12:30:00\",\"2021-06-20 14:30:00\",\"2021-06-20 15:00:00\",\"2021-06-20 15:30:00\",\"2021-06-20 16:00:00\",\"2021-06-20 16:30:00\",\"2021-06-20 17:00:00\",\"2021-06-20 17:30:00\",\"2021-06-20 18:30:00\",\"2021-06-20 19:00:00\",\"2021-06-20 19:30:00\",\"2021-06-20 20:00:00\",\"2021-06-21 02:00:00\",\"2021-06-21 02:30:00\",\"2021-06-21 03:00:00\",\"2021-06-21 07:30:00\",\"2021-06-21 10:00:00\",\"2021-06-21 10:30:00\",\"2021-06-21 11:00:00\",\"2021-06-21 11:30:00\",\"2021-06-21 12:00:00\",\"2021-06-21 12:30:00\",\"2021-06-21 13:00:00\",\"2021-06-21 13:30:00\",\"2021-06-21 14:00:00\",\"2021-06-21 14:30:00\",\"2021-06-21 15:00:00\",\"2021-06-21 15:30:00\",\"2021-06-21 16:00:00\",\"2021-06-21 16:30:00\",\"2021-06-21 17:00:00\",\"2021-06-21 17:30:00\",\"2021-06-21 18:00:00\",\"2021-06-21 18:30:00\",\"2021-06-21 19:00:00\",\"2021-06-21 19:30:00\",\"2021-06-21 20:00:00\",\"2021-06-22 07:30:00\",\"2021-06-22 09:30:00\",\"2021-06-22 10:00:00\",\"2021-06-22 10:30:00\",\"2021-06-22 11:00:00\",\"2021-06-22 11:30:00\",\"2021-06-22 14:00:00\",\"2021-06-22 14:30:00\",\"2021-06-22 15:00:00\",\"2021-06-22 17:00:00\",\"2021-06-23 10:00:00\",\"2021-06-23 10:30:00\",\"2021-06-23 11:00:00\",\"2021-06-23 13:30:00\",\"2021-06-23 14:00:00\",\"2021-06-24 09:00:00\",\"2021-06-24 09:30:00\",\"2021-06-24 10:00:00\",\"2021-06-24 12:00:00\",\"2021-06-24 12:30:00\",\"2021-06-24 13:00:00\",\"2021-06-24 18:30:00\",\"2021-06-24 23:00:00\",\"2021-06-25 10:00:00\",\"2021-06-25 10:30:00\",\"2021-06-25 13:30:00\",\"2021-06-25 14:00:00\",\"2021-06-26 09:00:00\",\"2021-06-26 10:30:00\",\"2021-06-26 12:00:00\",\"2021-06-26 13:00:00\",\"2021-06-26 13:30:00\",\"2021-06-26 14:00:00\",\"2021-06-26 14:30:00\",\"2021-06-26 15:00:00\",\"2021-06-26 15:30:00\",\"2021-06-26 16:00:00\",\"2021-06-26 16:30:00\",\"2021-06-26 17:00:00\",\"2021-06-26 17:30:00\",\"2021-06-26 18:00:00\",\"2021-06-26 18:30:00\",\"2021-06-26 19:00:00\",\"2021-06-26 19:30:00\",\"2021-06-26 20:00:00\",\"2021-06-26 20:30:00\",\"2021-06-27 11:30:00\",\"2021-06-27 12:00:00\",\"2021-06-27 12:30:00\",\"2021-06-27 13:00:00\",\"2021-06-27 13:30:00\",\"2021-06-27 14:00:00\",\"2021-06-27 14:30:00\",\"2021-06-27 15:00:00\",\"2021-06-27 15:30:00\",\"2021-06-27 16:00:00\",\"2021-06-27 16:30:00\",\"2021-06-27 17:00:00\",\"2021-06-28 09:00:00\",\"2021-06-28 11:30:00\",\"2021-06-28 12:00:00\",\"2021-06-28 12:30:00\",\"2021-06-28 13:00:00\",\"2021-06-28 14:00:00\",\"2021-06-28 14:30:00\",\"2021-06-28 15:00:00\",\"2021-06-28 16:00:00\",\"2021-06-28 16:30:00\",\"2021-06-28 17:00:00\",\"2021-06-28 17:30:00\",\"2021-06-28 18:00:00\",\"2021-06-29 09:30:00\",\"2021-06-29 10:00:00\",\"2021-06-29 10:30:00\",\"2021-06-29 11:00:00\",\"2021-06-29 11:30:00\",\"2021-06-29 12:00:00\",\"2021-06-29 12:30:00\",\"2021-06-29 14:30:00\",\"2021-06-29 15:00:00\",\"2021-06-29 15:30:00\",\"2021-06-29 16:00:00\",\"2021-06-29 16:30:00\",\"2021-06-29 17:30:00\",\"2021-06-29 19:00:00\",\"2021-06-29 20:00:00\",\"2021-06-30 10:00:00\",\"2021-06-30 13:00:00\",\"2021-06-30 14:00:00\",\"2021-06-30 15:00:00\",\"2021-06-30 15:30:00\",\"2021-06-30 17:00:00\",\"2021-06-30 18:00:00\",\"2021-06-30 19:00:00\",\"2021-06-30 20:00:00\",\"2021-06-30 21:00:00\",\"2021-06-30 22:30:00\",\"2021-07-01 00:30:00\",\"2021-07-01 03:30:00\",\"2021-07-01 22:30:00\",\"2021-07-01 23:30:00\",\"2021-07-02 23:00:00\",\"2021-07-03 12:00:00\",\"2021-07-03 13:00:00\",\"2021-07-03 14:00:00\",\"2021-07-03 15:00:00\",\"2021-07-03 16:00:00\",\"2021-07-03 17:00:00\",\"2021-07-03 20:00:00\",\"2021-07-03 21:00:00\",\"2021-07-03 22:00:00\",\"2021-07-03 22:30:00\",\"2021-07-03 23:00:00\",\"2021-07-04 09:00:00\",\"2021-07-04 11:30:00\",\"2021-07-04 12:00:00\",\"2021-07-04 12:30:00\",\"2021-07-04 13:00:00\",\"2021-07-04 13:30:00\",\"2021-07-04 14:00:00\",\"2021-07-04 14:30:00\",\"2021-07-04 15:00:00\",\"2021-07-04 15:30:00\",\"2021-07-04 16:00:00\",\"2021-07-05 10:00:00\",\"2021-07-05 11:30:00\",\"2021-07-05 12:00:00\",\"2021-07-05 12:30:00\",\"2021-07-05 13:00:00\",\"2021-07-05 13:30:00\",\"2021-07-05 14:00:00\",\"2021-07-05 14:30:00\",\"2021-07-05 16:30:00\",\"2021-07-05 17:00:00\",\"2021-07-05 17:30:00\",\"2021-07-05 18:00:00\",\"2021-07-06 10:00:00\",\"2021-07-06 12:30:00\",\"2021-07-06 13:30:00\",\"2021-07-06 14:30:00\",\"2021-07-06 15:30:00\",\"2021-07-06 16:30:00\",\"2021-07-06 17:30:00\",\"2021-07-07 09:30:00\",\"2021-07-07 10:30:00\",\"2021-07-07 14:00:00\",\"2021-07-07 15:00:00\",\"2021-07-07 16:00:00\",\"2021-07-07 16:30:00\",\"2021-07-07 17:30:00\",\"2021-07-07 18:30:00\",\"2021-07-07 19:30:00\",\"2021-07-08 11:30:00\",\"2021-07-08 12:30:00\",\"2021-07-08 15:00:00\",\"2021-07-08 16:30:00\",\"2021-07-09 11:30:00\",\"2021-07-09 12:30:00\",\"2021-07-09 13:00:00\",\"2021-07-09 13:30:00\",\"2021-07-09 14:00:00\",\"2021-07-09 14:30:00\",\"2021-07-09 15:00:00\",\"2021-07-09 15:30:00\",\"2021-07-09 16:00:00\",\"2021-07-09 16:30:00\",\"2021-07-09 17:00:00\",\"2021-07-09 17:30:00\",\"2021-07-09 18:30:00\",\"2021-07-09 19:00:00\",\"2021-07-09 19:30:00\",\"2021-07-09 20:00:00\",\"2021-07-09 20:30:00\",\"2021-07-09 21:00:00\",\"2021-07-09 21:30:00\",\"2021-07-09 22:00:00\",\"2021-07-09 22:30:00\",\"2021-07-09 23:00:00\",\"2021-07-09 23:30:00\",\"2021-07-10 09:30:00\",\"2021-07-10 10:30:00\",\"2021-07-10 11:30:00\",\"2021-07-10 12:30:00\",\"2021-07-10 13:30:00\",\"2021-07-10 14:30:00\",\"2021-07-10 15:30:00\",\"2021-07-10 16:00:00\",\"2021-07-10 16:30:00\",\"2021-07-10 17:00:00\",\"2021-07-10 17:30:00\",\"2021-07-10 18:00:00\",\"2021-07-10 18:30:00\",\"2021-07-10 19:00:00\",\"2021-07-10 19:30:00\",\"2021-07-10 22:30:00\",\"2021-07-11 07:00:00\",\"2021-07-11 09:00:00\",\"2021-07-11 09:30:00\",\"2021-07-11 10:00:00\",\"2021-07-11 10:30:00\",\"2021-07-11 11:00:00\",\"2021-07-11 11:30:00\",\"2021-07-11 12:00:00\",\"2021-07-11 12:30:00\",\"2021-07-11 13:00:00\",\"2021-07-11 13:30:00\",\"2021-07-11 14:00:00\",\"2021-07-11 14:30:00\",\"2021-07-11 15:00:00\",\"2021-07-11 15:30:00\",\"2021-07-11 16:00:00\",\"2021-07-11 16:30:00\",\"2021-07-11 17:00:00\",\"2021-07-12 11:30:00\",\"2021-07-12 14:30:00\",\"2021-07-12 15:30:00\",\"2021-07-12 16:00:00\",\"2021-07-12 17:00:00\",\"2021-07-12 18:00:00\",\"2021-07-12 19:00:00\",\"2021-07-12 19:30:00\",\"2021-07-12 20:00:00\",\"2021-07-12 20:30:00\",\"2021-07-12 21:00:00\",\"2021-07-12 21:30:00\",\"2021-07-13 10:30:00\",\"2021-07-13 18:30:00\",\"2021-07-14 11:00:00\",\"2021-07-14 11:30:00\",\"2021-07-14 12:00:00\",\"2021-07-14 13:00:00\",\"2021-07-14 13:30:00\",\"2021-07-14 14:00:00\",\"2021-07-14 14:30:00\",\"2021-07-14 15:00:00\",\"2021-07-14 15:30:00\",\"2021-07-14 16:00:00\",\"2021-07-14 16:30:00\",\"2021-07-14 17:00:00\",\"2021-07-14 18:00:00\",\"2021-07-14 18:30:00\"],\"xaxis\":\"x\",\"y\":[47.58,47.78,47.98,48.03,48.03,48.03,47.775,48.53,48.53,48.53,48.48,48.525,48.57,48.31,48.275000000000006,48.24,48.17,48.17,48.17,47.73,47.76,47.66,47.58,47.42,47.38,47.67,47.74,47.5,47.46,47.46,47.46,47.425,47.39,47.58,47.58,47.81,47.84,48.12,48.02,47.985,47.96,48.07,48.1,48.085,48.07,48.0,47.65,47.64,47.59,47.47,47.76,47.695,47.7025,47.71,47.760000000000005,47.81,47.07,47.3,46.84,47.99,47.87,47.864999999999995,47.86,48.05,47.63,46.02,45.83,45.849999999999994,45.87,45.7,45.755,45.81,45.8,46.12,46.59,46.59,46.59,46.52,46.33,46.82,46.85,46.87,46.86,46.83,46.24,46.07,45.91,45.74,45.735,45.73,45.78,45.79,46.06,46.19,46.16,46.23,46.235,46.24,46.25,46.27,46.31,46.33,46.29,46.39,46.42,46.43,46.45,46.46,46.47,46.48,46.49,46.27,46.14,45.94,46.0,46.16,46.245,46.33,45.56,45.85,45.89,45.78,45.769999999999996,45.76,45.79,45.64,46.06,46.08,46.1,46.17,46.31,46.34,45.57,45.62,45.07,44.91,45.37,45.15,45.17,45.19,45.24,45.28,45.49,45.65,45.64,45.77,45.83,45.88,45.91,45.95,45.99,45.32,45.364999999999995,45.41,45.325,45.3675,45.41,45.24,45.21,45.48,45.58,45.7,45.76,45.76,45.76,45.81,45.84,45.44,45.47,45.5,44.87,44.68,44.68,44.66,44.76,44.76,44.8,45.03,45.17,45.25,45.34,45.3,45.26,45.455,45.65,44.71,44.69,44.66,44.67,44.82,44.86,44.92,45.11,45.2,45.225,45.25,45.75,46.25,45.82,45.39,44.96,44.97,44.77,44.78,44.9,44.905,44.91,44.89,44.87,44.86,44.88,44.83,44.96,44.965,44.97,45.01,45.075,45.19,45.25,45.28,45.3,45.31,44.97,45.08,45.055,45.03,45.01,45.13,45.41,45.385,45.36,45.230000000000004,45.265,45.3,45.42,45.41,45.87,45.69,45.7,45.77,45.84,45.88,45.620000000000005,45.36,45.92,46.02,45.29,45.295,45.3,45.19,45.08,44.97,44.955,44.94,44.974999999999994,45.01,45.06,45.17,45.16,45.2,45.3,45.32,45.38,45.44,45.45,45.48,45.42,45.01,45.06,45.03,45.025000000000006,45.02,45.05,45.15,45.18,45.16,45.14,45.15,45.16,45.19,45.22,45.04,45.07,45.12,45.0,45.04,45.035,45.03,45.07,45.13,45.26,45.235,45.21,45.21,45.21,44.99,44.980000000000004,44.97,44.955,44.94,44.99,45.06,45.095,45.13,45.17,45.34,45.41,45.06,44.9,44.85,44.84,44.925,45.01,45.17,45.28,45.34,45.44,45.53,45.6,45.53,45.46,45.48,45.44,44.67,44.89,44.879999999999995,44.87,44.93,45.07,45.25,45.3,45.33,45.39,45.39,45.08,45.04,45.0,44.82,44.9,44.98,45.01,45.0,45.05,45.16,45.38,45.375,45.37,45.34,45.55,45.47,45.43,45.27,45.05,45.11,45.17,45.22,45.24,45.290000000000006,45.34,45.5,45.49,45.17,45.14,45.25,45.95,46.31,46.49,46.46,45.74,45.94,46.03,45.68,45.665,45.65,45.88,46.33,46.61,46.480000000000004,46.35,45.615,45.57,45.91,45.99,46.010000000000005,46.03,45.91,45.78,45.62,45.675,45.73,45.72,45.71,45.67,45.76,45.38,45.46,45.44,45.49,45.48,45.54,45.6,45.43,45.88,45.825,45.77,46.67,46.57,45.88,45.65,45.69,45.73,45.74,45.3,45.31,45.73,46.305,46.3575,46.363749999999996,46.37,46.47,46.46,46.45,46.75,46.72,46.69,46.6,46.47,46.26,45.92,45.97,45.62,45.584999999999994,45.5975,45.61,45.9,46.17,45.43,45.32,46.24,46.260000000000005,46.28,47.25,47.2,47.47,47.66,47.93,47.445,46.96,46.57,46.18,45.65,49.0,47.66,48.08,47.86,47.64,47.59,47.54,47.595,47.65,47.474999999999994,47.3],\"yaxis\":\"y\"}],                        {\"legend\":{\"tracegroupgap\":0},\"margin\":{\"t\":60},\"template\":{\"data\":{\"bar\":[{\"error_x\":{\"color\":\"#2a3f5f\"},\"error_y\":{\"color\":\"#2a3f5f\"},\"marker\":{\"line\":{\"color\":\"#E5ECF6\",\"width\":0.5},\"pattern\":{\"fillmode\":\"overlay\",\"size\":10,\"solidity\":0.2}},\"type\":\"bar\"}],\"barpolar\":[{\"marker\":{\"line\":{\"color\":\"#E5ECF6\",\"width\":0.5},\"pattern\":{\"fillmode\":\"overlay\",\"size\":10,\"solidity\":0.2}},\"type\":\"barpolar\"}],\"carpet\":[{\"aaxis\":{\"endlinecolor\":\"#2a3f5f\",\"gridcolor\":\"white\",\"linecolor\":\"white\",\"minorgridcolor\":\"white\",\"startlinecolor\":\"#2a3f5f\"},\"baxis\":{\"endlinecolor\":\"#2a3f5f\",\"gridcolor\":\"white\",\"linecolor\":\"white\",\"minorgridcolor\":\"white\",\"startlinecolor\":\"#2a3f5f\"},\"type\":\"carpet\"}],\"choropleth\":[{\"colorbar\":{\"outlinewidth\":0,\"ticks\":\"\"},\"type\":\"choropleth\"}],\"contour\":[{\"colorbar\":{\"outlinewidth\":0,\"ticks\":\"\"},\"colorscale\":[[0.0,\"#0d0887\"],[0.1111111111111111,\"#46039f\"],[0.2222222222222222,\"#7201a8\"],[0.3333333333333333,\"#9c179e\"],[0.4444444444444444,\"#bd3786\"],[0.5555555555555556,\"#d8576b\"],[0.6666666666666666,\"#ed7953\"],[0.7777777777777778,\"#fb9f3a\"],[0.8888888888888888,\"#fdca26\"],[1.0,\"#f0f921\"]],\"type\":\"contour\"}],\"contourcarpet\":[{\"colorbar\":{\"outlinewidth\":0,\"ticks\":\"\"},\"type\":\"contourcarpet\"}],\"heatmap\":[{\"colorbar\":{\"outlinewidth\":0,\"ticks\":\"\"},\"colorscale\":[[0.0,\"#0d0887\"],[0.1111111111111111,\"#46039f\"],[0.2222222222222222,\"#7201a8\"],[0.3333333333333333,\"#9c179e\"],[0.4444444444444444,\"#bd3786\"],[0.5555555555555556,\"#d8576b\"],[0.6666666666666666,\"#ed7953\"],[0.7777777777777778,\"#fb9f3a\"],[0.8888888888888888,\"#fdca26\"],[1.0,\"#f0f921\"]],\"type\":\"heatmap\"}],\"heatmapgl\":[{\"colorbar\":{\"outlinewidth\":0,\"ticks\":\"\"},\"colorscale\":[[0.0,\"#0d0887\"],[0.1111111111111111,\"#46039f\"],[0.2222222222222222,\"#7201a8\"],[0.3333333333333333,\"#9c179e\"],[0.4444444444444444,\"#bd3786\"],[0.5555555555555556,\"#d8576b\"],[0.6666666666666666,\"#ed7953\"],[0.7777777777777778,\"#fb9f3a\"],[0.8888888888888888,\"#fdca26\"],[1.0,\"#f0f921\"]],\"type\":\"heatmapgl\"}],\"histogram\":[{\"marker\":{\"pattern\":{\"fillmode\":\"overlay\",\"size\":10,\"solidity\":0.2}},\"type\":\"histogram\"}],\"histogram2d\":[{\"colorbar\":{\"outlinewidth\":0,\"ticks\":\"\"},\"colorscale\":[[0.0,\"#0d0887\"],[0.1111111111111111,\"#46039f\"],[0.2222222222222222,\"#7201a8\"],[0.3333333333333333,\"#9c179e\"],[0.4444444444444444,\"#bd3786\"],[0.5555555555555556,\"#d8576b\"],[0.6666666666666666,\"#ed7953\"],[0.7777777777777778,\"#fb9f3a\"],[0.8888888888888888,\"#fdca26\"],[1.0,\"#f0f921\"]],\"type\":\"histogram2d\"}],\"histogram2dcontour\":[{\"colorbar\":{\"outlinewidth\":0,\"ticks\":\"\"},\"colorscale\":[[0.0,\"#0d0887\"],[0.1111111111111111,\"#46039f\"],[0.2222222222222222,\"#7201a8\"],[0.3333333333333333,\"#9c179e\"],[0.4444444444444444,\"#bd3786\"],[0.5555555555555556,\"#d8576b\"],[0.6666666666666666,\"#ed7953\"],[0.7777777777777778,\"#fb9f3a\"],[0.8888888888888888,\"#fdca26\"],[1.0,\"#f0f921\"]],\"type\":\"histogram2dcontour\"}],\"mesh3d\":[{\"colorbar\":{\"outlinewidth\":0,\"ticks\":\"\"},\"type\":\"mesh3d\"}],\"parcoords\":[{\"line\":{\"colorbar\":{\"outlinewidth\":0,\"ticks\":\"\"}},\"type\":\"parcoords\"}],\"pie\":[{\"automargin\":true,\"type\":\"pie\"}],\"scatter\":[{\"marker\":{\"colorbar\":{\"outlinewidth\":0,\"ticks\":\"\"}},\"type\":\"scatter\"}],\"scatter3d\":[{\"line\":{\"colorbar\":{\"outlinewidth\":0,\"ticks\":\"\"}},\"marker\":{\"colorbar\":{\"outlinewidth\":0,\"ticks\":\"\"}},\"type\":\"scatter3d\"}],\"scattercarpet\":[{\"marker\":{\"colorbar\":{\"outlinewidth\":0,\"ticks\":\"\"}},\"type\":\"scattercarpet\"}],\"scattergeo\":[{\"marker\":{\"colorbar\":{\"outlinewidth\":0,\"ticks\":\"\"}},\"type\":\"scattergeo\"}],\"scattergl\":[{\"marker\":{\"colorbar\":{\"outlinewidth\":0,\"ticks\":\"\"}},\"type\":\"scattergl\"}],\"scattermapbox\":[{\"marker\":{\"colorbar\":{\"outlinewidth\":0,\"ticks\":\"\"}},\"type\":\"scattermapbox\"}],\"scatterpolar\":[{\"marker\":{\"colorbar\":{\"outlinewidth\":0,\"ticks\":\"\"}},\"type\":\"scatterpolar\"}],\"scatterpolargl\":[{\"marker\":{\"colorbar\":{\"outlinewidth\":0,\"ticks\":\"\"}},\"type\":\"scatterpolargl\"}],\"scatterternary\":[{\"marker\":{\"colorbar\":{\"outlinewidth\":0,\"ticks\":\"\"}},\"type\":\"scatterternary\"}],\"surface\":[{\"colorbar\":{\"outlinewidth\":0,\"ticks\":\"\"},\"colorscale\":[[0.0,\"#0d0887\"],[0.1111111111111111,\"#46039f\"],[0.2222222222222222,\"#7201a8\"],[0.3333333333333333,\"#9c179e\"],[0.4444444444444444,\"#bd3786\"],[0.5555555555555556,\"#d8576b\"],[0.6666666666666666,\"#ed7953\"],[0.7777777777777778,\"#fb9f3a\"],[0.8888888888888888,\"#fdca26\"],[1.0,\"#f0f921\"]],\"type\":\"surface\"}],\"table\":[{\"cells\":{\"fill\":{\"color\":\"#EBF0F8\"},\"line\":{\"color\":\"white\"}},\"header\":{\"fill\":{\"color\":\"#C8D4E3\"},\"line\":{\"color\":\"white\"}},\"type\":\"table\"}]},\"layout\":{\"annotationdefaults\":{\"arrowcolor\":\"#2a3f5f\",\"arrowhead\":0,\"arrowwidth\":1},\"autotypenumbers\":\"strict\",\"coloraxis\":{\"colorbar\":{\"outlinewidth\":0,\"ticks\":\"\"}},\"colorscale\":{\"diverging\":[[0,\"#8e0152\"],[0.1,\"#c51b7d\"],[0.2,\"#de77ae\"],[0.3,\"#f1b6da\"],[0.4,\"#fde0ef\"],[0.5,\"#f7f7f7\"],[0.6,\"#e6f5d0\"],[0.7,\"#b8e186\"],[0.8,\"#7fbc41\"],[0.9,\"#4d9221\"],[1,\"#276419\"]],\"sequential\":[[0.0,\"#0d0887\"],[0.1111111111111111,\"#46039f\"],[0.2222222222222222,\"#7201a8\"],[0.3333333333333333,\"#9c179e\"],[0.4444444444444444,\"#bd3786\"],[0.5555555555555556,\"#d8576b\"],[0.6666666666666666,\"#ed7953\"],[0.7777777777777778,\"#fb9f3a\"],[0.8888888888888888,\"#fdca26\"],[1.0,\"#f0f921\"]],\"sequentialminus\":[[0.0,\"#0d0887\"],[0.1111111111111111,\"#46039f\"],[0.2222222222222222,\"#7201a8\"],[0.3333333333333333,\"#9c179e\"],[0.4444444444444444,\"#bd3786\"],[0.5555555555555556,\"#d8576b\"],[0.6666666666666666,\"#ed7953\"],[0.7777777777777778,\"#fb9f3a\"],[0.8888888888888888,\"#fdca26\"],[1.0,\"#f0f921\"]]},\"colorway\":[\"#636efa\",\"#EF553B\",\"#00cc96\",\"#ab63fa\",\"#FFA15A\",\"#19d3f3\",\"#FF6692\",\"#B6E880\",\"#FF97FF\",\"#FECB52\"],\"font\":{\"color\":\"#2a3f5f\"},\"geo\":{\"bgcolor\":\"white\",\"lakecolor\":\"white\",\"landcolor\":\"#E5ECF6\",\"showlakes\":true,\"showland\":true,\"subunitcolor\":\"white\"},\"hoverlabel\":{\"align\":\"left\"},\"hovermode\":\"closest\",\"mapbox\":{\"style\":\"light\"},\"paper_bgcolor\":\"white\",\"plot_bgcolor\":\"#E5ECF6\",\"polar\":{\"angularaxis\":{\"gridcolor\":\"white\",\"linecolor\":\"white\",\"ticks\":\"\"},\"bgcolor\":\"#E5ECF6\",\"radialaxis\":{\"gridcolor\":\"white\",\"linecolor\":\"white\",\"ticks\":\"\"}},\"scene\":{\"xaxis\":{\"backgroundcolor\":\"#E5ECF6\",\"gridcolor\":\"white\",\"gridwidth\":2,\"linecolor\":\"white\",\"showbackground\":true,\"ticks\":\"\",\"zerolinecolor\":\"white\"},\"yaxis\":{\"backgroundcolor\":\"#E5ECF6\",\"gridcolor\":\"white\",\"gridwidth\":2,\"linecolor\":\"white\",\"showbackground\":true,\"ticks\":\"\",\"zerolinecolor\":\"white\"},\"zaxis\":{\"backgroundcolor\":\"#E5ECF6\",\"gridcolor\":\"white\",\"gridwidth\":2,\"linecolor\":\"white\",\"showbackground\":true,\"ticks\":\"\",\"zerolinecolor\":\"white\"}},\"shapedefaults\":{\"line\":{\"color\":\"#2a3f5f\"}},\"ternary\":{\"aaxis\":{\"gridcolor\":\"white\",\"linecolor\":\"white\",\"ticks\":\"\"},\"baxis\":{\"gridcolor\":\"white\",\"linecolor\":\"white\",\"ticks\":\"\"},\"bgcolor\":\"#E5ECF6\",\"caxis\":{\"gridcolor\":\"white\",\"linecolor\":\"white\",\"ticks\":\"\"}},\"title\":{\"x\":0.05},\"xaxis\":{\"automargin\":true,\"gridcolor\":\"white\",\"linecolor\":\"white\",\"ticks\":\"\",\"title\":{\"standoff\":15},\"zerolinecolor\":\"white\",\"zerolinewidth\":2},\"yaxis\":{\"automargin\":true,\"gridcolor\":\"white\",\"linecolor\":\"white\",\"ticks\":\"\",\"title\":{\"standoff\":15},\"zerolinecolor\":\"white\",\"zerolinewidth\":2}}},\"xaxis\":{\"anchor\":\"y\",\"domain\":[0.0,1.0],\"title\":{\"text\":\"time\"}},\"yaxis\":{\"anchor\":\"x\",\"domain\":[0.0,1.0],\"title\":{\"text\":\"value\"}}},                        {\"responsive\": true}                    ).then(function(){\n",
       "                            \n",
       "var gd = document.getElementById('8b90e0d1-29e8-40bd-b2bd-3fc8478be34a');\n",
       "var x = new MutationObserver(function (mutations, observer) {{\n",
       "        var display = window.getComputedStyle(gd).display;\n",
       "        if (!display || display === 'none') {{\n",
       "            console.log([gd, 'removed!']);\n",
       "            Plotly.purge(gd);\n",
       "            observer.disconnect();\n",
       "        }}\n",
       "}});\n",
       "\n",
       "// Listen for the removal of the full notebook cells\n",
       "var notebookContainer = gd.closest('#notebook-container');\n",
       "if (notebookContainer) {{\n",
       "    x.observe(notebookContainer, {childList: true});\n",
       "}}\n",
       "\n",
       "// Listen for the clearing of the current output cell\n",
       "var outputEl = gd.closest('.output');\n",
       "if (outputEl) {{\n",
       "    x.observe(outputEl, {childList: true});\n",
       "}}\n",
       "\n",
       "                        })                };                });            </script>        </div>"
      ]
     },
     "metadata": {},
     "output_type": "display_data"
    },
    {
     "name": "stdout",
     "output_type": "stream",
     "text": [
      "22-2-2\n"
     ]
    }
   ],
   "source": [
    "m = 22\n",
    "n = 2\n",
    "s = 2\n",
    "\n",
    "df=pd.read_csv(r'C:\\Users\\Tosha.E.T\\Desktop\\Sinotech\\716\\{0}-{1}-{2}_clean.csv'.format(m,n,s))\n",
    "df=df[df['value']>43]\n",
    "df=df[df['value']<50]\n",
    "df = df.reset_index()\n",
    "\n",
    "i = 1\n",
    "while i<(len(df[\"value\"])-1):\n",
    "    a = df[\"value\"][i-1]\n",
    "    b = df[\"value\"][i]\n",
    "    c = df[\"value\"][i+1]\n",
    "    if (abs(b-c)+abs(a-b))/2>abs(c-a)*1.5:\n",
    "        df[\"value\"][i] = (a+c)/2\n",
    "        i=i+1\n",
    "    else:\n",
    "        i=i+1\n",
    "df.to_csv(r'C:\\Users\\Tosha.E.T\\Desktop\\Sinotech\\716\\{0}-{1}-{2}_cut.csv'.format(m,n,s))\n",
    "print(\"cut save!!\")\n",
    "#---------------------------------------------------\n",
    "fig = px.line(df, y='value', x='time')        \n",
    "fig.show()\n",
    "print(\"{0}-{1}-{2}\".format(m,n,s))"
   ]
  },
  {
   "cell_type": "code",
   "execution_count": 248,
   "id": "fluid-aerospace",
   "metadata": {},
   "outputs": [],
   "source": [
    "# m = 23\n",
    "# n = 1\n",
    "# s = 1\n",
    "\n",
    "# df=pd.read_csv(r'C:\\Users\\Tosha.E.T\\Desktop\\Sinotech\\716\\{0}-{1}-{2}_clean.csv'.format(m,n,s))\n",
    "# df=df[df['value']>21]\n",
    "# df=df[df['value']<32]\n",
    "# df = df.reset_index()\n",
    "\n",
    "# i = 1\n",
    "# while i<(len(df[\"value\"])-1):\n",
    "#     a = df[\"value\"][i-1]\n",
    "#     b = df[\"value\"][i]\n",
    "#     c = df[\"value\"][i+1]\n",
    "#     if (abs(b-c)+abs(a-b))/2>abs(c-a)*1.5:\n",
    "#         df[\"value\"][i] = (a+c)/2\n",
    "#         i=i+1\n",
    "#     else:\n",
    "#         i=i+1\n",
    "# df.to_csv(r'C:\\Users\\Tosha.E.T\\Desktop\\Sinotech\\716\\{0}-{1}-{2}_cut.csv'.format(m,n,s))\n",
    "# print(\"cut save!!\")\n",
    "# #---------------------------------------------------\n",
    "# fig = px.line(df, y='value', x='time')        \n",
    "# fig.show()\n",
    "# print(\"{0}-{1}-{2}\".format(m,n,s))"
   ]
  },
  {
   "cell_type": "code",
   "execution_count": 30,
   "id": "active-detection",
   "metadata": {},
   "outputs": [
    {
     "name": "stdout",
     "output_type": "stream",
     "text": [
      "cut save!!\n"
     ]
    },
    {
     "name": "stderr",
     "output_type": "stream",
     "text": [
      "<ipython-input-30-b547ac9ed64a>:16: SettingWithCopyWarning:\n",
      "\n",
      "\n",
      "A value is trying to be set on a copy of a slice from a DataFrame\n",
      "\n",
      "See the caveats in the documentation: https://pandas.pydata.org/pandas-docs/stable/user_guide/indexing.html#returning-a-view-versus-a-copy\n",
      "\n"
     ]
    },
    {
     "data": {
      "application/vnd.plotly.v1+json": {
       "config": {
        "plotlyServerURL": "https://plot.ly"
       },
       "data": [
        {
         "hovertemplate": "time=%{x}<br>value=%{y}<extra></extra>",
         "legendgroup": "",
         "line": {
          "color": "#636efa",
          "dash": "solid"
         },
         "mode": "lines",
         "name": "",
         "orientation": "v",
         "showlegend": false,
         "type": "scatter",
         "x": [
          "2021-06-16 11:00:00",
          "2021-06-16 12:00:00",
          "2021-06-16 13:30:00",
          "2021-06-16 14:00:00",
          "2021-06-16 14:30:00",
          "2021-06-16 15:00:00",
          "2021-06-16 15:30:00",
          "2021-06-16 16:00:00",
          "2021-06-16 16:30:00",
          "2021-06-16 17:00:00",
          "2021-06-16 17:30:00",
          "2021-06-16 18:00:00",
          "2021-06-16 18:30:00",
          "2021-06-16 19:00:00",
          "2021-06-16 19:30:00",
          "2021-06-16 20:00:00",
          "2021-06-16 20:30:00",
          "2021-06-16 21:00:00",
          "2021-06-16 22:30:00",
          "2021-06-16 23:30:00",
          "2021-06-17 00:00:00",
          "2021-06-17 00:30:00",
          "2021-06-17 01:30:00",
          "2021-06-17 02:30:00",
          "2021-06-17 03:30:00",
          "2021-06-17 04:00:00",
          "2021-06-17 04:30:00",
          "2021-06-17 05:00:00",
          "2021-06-17 05:30:00",
          "2021-06-17 06:00:00",
          "2021-06-17 06:30:00",
          "2021-06-17 07:00:00",
          "2021-06-17 07:30:00",
          "2021-06-17 08:00:00",
          "2021-06-17 09:00:00",
          "2021-06-17 11:00:00",
          "2021-06-17 12:30:00",
          "2021-06-17 13:00:00",
          "2021-06-17 17:00:00",
          "2021-06-17 17:30:00",
          "2021-06-17 18:30:00",
          "2021-06-17 19:00:00",
          "2021-06-17 19:30:00",
          "2021-06-17 20:00:00",
          "2021-06-17 20:30:00",
          "2021-06-17 21:00:00",
          "2021-06-17 21:30:00",
          "2021-06-17 22:00:00",
          "2021-06-17 22:30:00",
          "2021-06-17 23:00:00",
          "2021-06-17 23:30:00",
          "2021-06-18 00:00:00",
          "2021-06-18 00:30:00",
          "2021-06-18 01:00:00",
          "2021-06-18 01:30:00",
          "2021-06-18 02:00:00",
          "2021-06-18 02:30:00",
          "2021-06-18 03:00:00",
          "2021-06-18 04:00:00",
          "2021-06-18 06:00:00",
          "2021-06-18 06:30:00",
          "2021-06-18 07:00:00",
          "2021-06-18 07:30:00",
          "2021-06-18 08:00:00",
          "2021-06-18 08:30:00",
          "2021-06-18 09:00:00",
          "2021-06-18 10:30:00",
          "2021-06-18 13:30:00",
          "2021-06-18 15:30:00",
          "2021-06-18 17:30:00",
          "2021-06-18 18:00:00",
          "2021-06-18 18:30:00",
          "2021-06-18 19:00:00",
          "2021-06-18 19:30:00",
          "2021-06-18 20:00:00",
          "2021-06-18 20:30:00",
          "2021-06-18 21:00:00",
          "2021-06-18 21:30:00",
          "2021-06-18 22:00:00",
          "2021-06-18 22:30:00",
          "2021-06-18 23:30:00",
          "2021-06-19 00:30:00",
          "2021-06-19 01:30:00",
          "2021-06-19 02:30:00",
          "2021-06-19 04:30:00",
          "2021-06-19 05:30:00",
          "2021-06-19 06:30:00",
          "2021-06-19 07:30:00",
          "2021-06-19 08:30:00",
          "2021-06-19 09:30:00",
          "2021-06-19 10:30:00",
          "2021-06-19 11:30:00",
          "2021-06-19 13:00:00",
          "2021-06-19 14:00:00",
          "2021-06-19 15:00:00",
          "2021-06-19 16:00:00",
          "2021-06-19 17:00:00",
          "2021-06-19 18:00:00",
          "2021-06-19 19:00:00",
          "2021-06-19 19:30:00",
          "2021-06-19 20:30:00",
          "2021-06-19 21:30:00",
          "2021-06-19 22:30:00",
          "2021-06-19 23:30:00",
          "2021-06-20 00:30:00",
          "2021-06-20 01:30:00",
          "2021-06-20 02:30:00",
          "2021-06-20 04:30:00",
          "2021-06-20 05:30:00",
          "2021-06-20 06:30:00",
          "2021-06-20 07:30:00",
          "2021-06-20 08:30:00",
          "2021-06-20 09:30:00",
          "2021-06-20 10:00:00",
          "2021-06-20 10:30:00",
          "2021-06-20 11:00:00",
          "2021-06-20 12:00:00",
          "2021-06-20 12:30:00",
          "2021-06-20 13:00:00",
          "2021-06-20 14:00:00",
          "2021-06-20 15:00:00",
          "2021-06-20 15:30:00",
          "2021-06-20 16:00:00",
          "2021-06-20 17:00:00",
          "2021-06-20 17:30:00",
          "2021-06-20 18:30:00",
          "2021-06-20 20:30:00",
          "2021-06-20 21:30:00",
          "2021-06-20 23:30:00",
          "2021-06-21 02:30:00",
          "2021-06-21 03:30:00",
          "2021-06-21 04:30:00",
          "2021-06-21 06:30:00",
          "2021-06-21 11:00:00",
          "2021-06-21 12:00:00",
          "2021-06-21 13:30:00",
          "2021-06-21 15:00:00",
          "2021-06-21 18:00:00",
          "2021-06-21 19:00:00",
          "2021-06-21 22:00:00",
          "2021-06-21 23:00:00",
          "2021-06-22 00:00:00",
          "2021-06-22 01:00:00",
          "2021-06-22 02:00:00",
          "2021-06-22 03:00:00",
          "2021-06-22 04:00:00",
          "2021-06-22 05:00:00",
          "2021-06-22 07:30:00",
          "2021-06-22 08:30:00",
          "2021-06-22 10:30:00",
          "2021-06-22 11:30:00",
          "2021-06-22 12:30:00",
          "2021-06-22 14:30:00",
          "2021-06-22 15:00:00",
          "2021-06-22 16:30:00",
          "2021-06-22 17:30:00",
          "2021-06-22 18:30:00",
          "2021-06-22 19:30:00",
          "2021-06-22 20:00:00",
          "2021-06-22 21:00:00",
          "2021-06-22 22:00:00",
          "2021-06-22 23:00:00",
          "2021-06-23 00:00:00",
          "2021-06-23 01:00:00",
          "2021-06-23 03:00:00",
          "2021-06-23 04:00:00",
          "2021-06-23 05:00:00",
          "2021-06-23 06:00:00",
          "2021-06-23 07:00:00",
          "2021-06-23 08:00:00",
          "2021-06-23 10:00:00",
          "2021-06-23 11:00:00",
          "2021-06-23 12:00:00",
          "2021-06-23 13:00:00",
          "2021-06-23 14:00:00",
          "2021-06-23 15:00:00",
          "2021-06-23 16:00:00",
          "2021-06-23 17:00:00",
          "2021-06-23 18:00:00",
          "2021-06-23 19:00:00",
          "2021-06-23 22:30:00",
          "2021-06-23 23:30:00",
          "2021-06-24 00:30:00",
          "2021-06-24 07:30:00",
          "2021-06-24 08:30:00",
          "2021-06-24 11:30:00",
          "2021-06-24 12:30:00",
          "2021-06-24 13:00:00",
          "2021-06-24 14:00:00",
          "2021-06-24 16:00:00",
          "2021-06-24 21:00:00",
          "2021-06-24 22:00:00",
          "2021-06-24 23:00:00",
          "2021-06-25 00:00:00",
          "2021-06-25 01:00:00",
          "2021-06-25 02:00:00",
          "2021-06-25 03:00:00",
          "2021-06-25 04:00:00",
          "2021-06-25 05:00:00",
          "2021-06-25 06:00:00",
          "2021-06-25 06:30:00",
          "2021-06-25 07:30:00",
          "2021-06-25 08:30:00",
          "2021-06-25 12:30:00",
          "2021-06-25 13:30:00",
          "2021-06-25 14:00:00",
          "2021-06-25 14:30:00",
          "2021-06-25 15:30:00",
          "2021-06-25 16:30:00",
          "2021-06-25 17:30:00",
          "2021-06-25 22:30:00",
          "2021-06-25 23:30:00",
          "2021-06-26 00:30:00",
          "2021-06-26 01:00:00",
          "2021-06-26 02:00:00",
          "2021-06-26 03:00:00",
          "2021-06-26 04:00:00",
          "2021-06-26 04:30:00",
          "2021-06-26 05:30:00",
          "2021-06-26 06:30:00",
          "2021-06-26 07:00:00",
          "2021-06-26 07:30:00",
          "2021-06-26 08:30:00",
          "2021-06-26 09:30:00",
          "2021-06-26 10:00:00",
          "2021-06-26 10:30:00",
          "2021-06-26 11:00:00",
          "2021-06-26 11:30:00",
          "2021-06-26 12:30:00",
          "2021-06-26 13:00:00",
          "2021-06-26 14:00:00",
          "2021-06-26 15:00:00",
          "2021-06-26 16:30:00",
          "2021-06-26 17:00:00",
          "2021-06-26 17:30:00",
          "2021-06-26 18:00:00",
          "2021-06-26 19:00:00",
          "2021-06-26 19:30:00",
          "2021-06-26 20:00:00",
          "2021-06-26 20:30:00",
          "2021-06-26 21:00:00",
          "2021-06-26 21:30:00",
          "2021-06-26 22:00:00",
          "2021-06-26 22:30:00",
          "2021-06-27 01:30:00",
          "2021-06-27 02:00:00",
          "2021-06-27 02:30:00",
          "2021-06-27 03:00:00",
          "2021-06-27 03:30:00",
          "2021-06-27 04:00:00",
          "2021-06-27 04:30:00",
          "2021-06-27 05:30:00",
          "2021-06-27 06:30:00",
          "2021-06-27 07:30:00",
          "2021-06-27 08:30:00",
          "2021-06-27 09:30:00",
          "2021-06-27 10:30:00",
          "2021-06-27 13:30:00",
          "2021-06-27 15:00:00",
          "2021-06-27 16:00:00",
          "2021-06-27 17:00:00",
          "2021-06-27 18:00:00",
          "2021-06-27 18:30:00",
          "2021-06-27 19:00:00",
          "2021-06-27 19:30:00",
          "2021-06-27 20:00:00",
          "2021-06-27 20:30:00",
          "2021-06-27 21:00:00",
          "2021-06-27 21:30:00",
          "2021-06-27 22:00:00",
          "2021-06-27 22:30:00",
          "2021-06-27 23:00:00",
          "2021-06-27 23:30:00",
          "2021-06-28 00:00:00",
          "2021-06-28 00:30:00",
          "2021-06-28 01:00:00",
          "2021-06-28 01:30:00",
          "2021-06-28 02:00:00",
          "2021-06-28 02:30:00",
          "2021-06-28 03:00:00",
          "2021-06-28 03:30:00",
          "2021-06-28 04:00:00",
          "2021-06-28 05:00:00",
          "2021-06-28 05:30:00",
          "2021-06-28 06:00:00",
          "2021-06-28 06:30:00",
          "2021-06-28 09:30:00",
          "2021-06-28 10:30:00",
          "2021-06-28 11:00:00",
          "2021-06-28 12:00:00",
          "2021-06-28 12:30:00",
          "2021-06-28 13:00:00",
          "2021-06-28 13:30:00",
          "2021-06-28 14:00:00",
          "2021-06-28 14:30:00",
          "2021-06-28 15:30:00",
          "2021-06-28 16:00:00",
          "2021-06-28 16:30:00",
          "2021-06-28 17:00:00",
          "2021-06-28 17:30:00",
          "2021-06-28 18:00:00",
          "2021-06-28 18:30:00",
          "2021-06-28 19:00:00",
          "2021-06-28 19:30:00",
          "2021-06-28 20:00:00",
          "2021-06-28 20:30:00",
          "2021-06-28 21:00:00",
          "2021-06-28 21:30:00",
          "2021-06-28 22:00:00",
          "2021-06-28 22:30:00",
          "2021-06-28 23:00:00",
          "2021-06-28 23:30:00",
          "2021-06-29 01:00:00",
          "2021-06-29 01:30:00",
          "2021-06-29 02:00:00",
          "2021-06-29 02:30:00",
          "2021-06-29 03:30:00",
          "2021-06-29 05:00:00",
          "2021-06-29 05:30:00",
          "2021-06-29 06:30:00",
          "2021-06-29 07:30:00",
          "2021-06-29 09:00:00",
          "2021-06-29 10:00:00",
          "2021-06-29 10:30:00",
          "2021-06-29 11:00:00",
          "2021-06-29 11:30:00",
          "2021-06-29 12:00:00",
          "2021-06-29 13:00:00",
          "2021-06-29 14:00:00",
          "2021-06-30 08:00:00",
          "2021-06-30 09:00:00",
          "2021-06-30 10:00:00",
          "2021-06-30 11:30:00",
          "2021-06-30 12:00:00",
          "2021-06-30 12:30:00",
          "2021-06-30 13:00:00",
          "2021-06-30 13:30:00",
          "2021-06-30 15:00:00",
          "2021-06-30 23:00:00",
          "2021-07-01 00:00:00",
          "2021-07-01 01:00:00",
          "2021-07-01 03:00:00",
          "2021-07-01 04:00:00",
          "2021-07-01 08:00:00",
          "2021-07-01 10:00:00",
          "2021-07-01 11:00:00",
          "2021-07-01 11:30:00",
          "2021-07-01 12:00:00",
          "2021-07-01 12:30:00",
          "2021-07-01 13:00:00",
          "2021-07-01 13:30:00",
          "2021-07-01 14:00:00",
          "2021-07-01 14:30:00",
          "2021-07-01 15:00:00",
          "2021-07-01 15:30:00",
          "2021-07-01 16:00:00",
          "2021-07-01 16:30:00",
          "2021-07-01 17:00:00",
          "2021-07-01 17:30:00",
          "2021-07-01 18:00:00",
          "2021-07-01 20:30:00",
          "2021-07-01 21:30:00",
          "2021-07-02 03:30:00",
          "2021-07-02 04:30:00",
          "2021-07-02 05:30:00",
          "2021-07-02 07:30:00",
          "2021-07-02 08:30:00",
          "2021-07-02 09:30:00",
          "2021-07-02 10:30:00",
          "2021-07-02 11:30:00",
          "2021-07-02 12:00:00",
          "2021-07-02 12:30:00",
          "2021-07-02 13:30:00",
          "2021-07-02 14:30:00",
          "2021-07-02 15:30:00",
          "2021-07-02 16:30:00",
          "2021-07-02 17:00:00",
          "2021-07-02 19:00:00",
          "2021-07-02 20:00:00",
          "2021-07-03 01:00:00",
          "2021-07-03 02:00:00",
          "2021-07-03 03:00:00",
          "2021-07-03 07:00:00",
          "2021-07-03 08:00:00",
          "2021-07-03 10:00:00",
          "2021-07-03 11:00:00",
          "2021-07-03 12:00:00",
          "2021-07-03 13:30:00",
          "2021-07-03 14:00:00",
          "2021-07-03 15:00:00",
          "2021-07-03 16:30:00",
          "2021-07-03 17:00:00",
          "2021-07-03 18:00:00",
          "2021-07-03 18:30:00",
          "2021-07-03 19:30:00",
          "2021-07-03 20:00:00",
          "2021-07-03 21:00:00",
          "2021-07-03 21:30:00",
          "2021-07-03 22:00:00",
          "2021-07-03 22:30:00",
          "2021-07-03 23:00:00",
          "2021-07-03 23:30:00",
          "2021-07-04 00:30:00",
          "2021-07-04 01:00:00",
          "2021-07-04 01:30:00",
          "2021-07-04 02:00:00",
          "2021-07-04 03:00:00",
          "2021-07-04 04:00:00",
          "2021-07-04 05:00:00",
          "2021-07-04 06:00:00",
          "2021-07-04 07:00:00",
          "2021-07-04 08:00:00",
          "2021-07-04 09:00:00",
          "2021-07-04 09:30:00",
          "2021-07-04 10:00:00",
          "2021-07-04 10:30:00",
          "2021-07-04 11:30:00",
          "2021-07-04 12:00:00",
          "2021-07-04 12:30:00",
          "2021-07-04 13:00:00",
          "2021-07-04 13:30:00",
          "2021-07-04 14:00:00",
          "2021-07-04 14:30:00",
          "2021-07-04 15:00:00",
          "2021-07-04 15:30:00",
          "2021-07-04 16:00:00",
          "2021-07-04 16:30:00",
          "2021-07-04 17:00:00",
          "2021-07-04 18:30:00",
          "2021-07-04 19:30:00",
          "2021-07-04 20:30:00",
          "2021-07-04 21:30:00",
          "2021-07-04 22:30:00",
          "2021-07-04 23:00:00",
          "2021-07-04 23:30:00",
          "2021-07-05 00:00:00",
          "2021-07-05 01:00:00",
          "2021-07-05 01:30:00",
          "2021-07-05 02:00:00",
          "2021-07-05 02:30:00",
          "2021-07-05 03:00:00",
          "2021-07-05 03:30:00",
          "2021-07-05 04:00:00",
          "2021-07-05 04:30:00",
          "2021-07-05 05:00:00",
          "2021-07-05 06:00:00",
          "2021-07-05 07:00:00",
          "2021-07-05 08:00:00",
          "2021-07-05 09:00:00",
          "2021-07-05 09:30:00",
          "2021-07-05 10:00:00",
          "2021-07-05 11:00:00",
          "2021-07-05 12:00:00",
          "2021-07-05 12:30:00",
          "2021-07-05 14:00:00",
          "2021-07-05 15:00:00",
          "2021-07-05 16:00:00",
          "2021-07-05 16:30:00",
          "2021-07-05 18:00:00",
          "2021-07-05 18:30:00",
          "2021-07-05 19:00:00",
          "2021-07-05 19:30:00",
          "2021-07-05 20:00:00",
          "2021-07-05 20:30:00",
          "2021-07-05 21:00:00",
          "2021-07-05 21:30:00",
          "2021-07-05 22:00:00",
          "2021-07-05 22:30:00",
          "2021-07-05 23:00:00",
          "2021-07-05 23:30:00",
          "2021-07-06 00:00:00",
          "2021-07-06 00:30:00",
          "2021-07-06 01:00:00",
          "2021-07-06 01:30:00",
          "2021-07-06 02:00:00",
          "2021-07-06 02:30:00",
          "2021-07-06 03:00:00",
          "2021-07-06 03:30:00",
          "2021-07-06 04:00:00",
          "2021-07-06 04:30:00",
          "2021-07-06 05:00:00",
          "2021-07-06 06:00:00",
          "2021-07-06 06:30:00",
          "2021-07-06 07:30:00",
          "2021-07-06 08:30:00",
          "2021-07-06 09:00:00",
          "2021-07-06 10:00:00",
          "2021-07-06 10:30:00",
          "2021-07-06 11:00:00",
          "2021-07-06 12:00:00",
          "2021-07-06 12:30:00",
          "2021-07-06 13:30:00",
          "2021-07-06 14:30:00",
          "2021-07-06 15:30:00",
          "2021-07-06 18:00:00",
          "2021-07-06 19:00:00",
          "2021-07-06 19:30:00",
          "2021-07-06 20:00:00",
          "2021-07-06 20:30:00",
          "2021-07-06 21:00:00",
          "2021-07-06 21:30:00",
          "2021-07-06 22:00:00",
          "2021-07-06 22:30:00",
          "2021-07-06 23:30:00",
          "2021-07-07 00:30:00",
          "2021-07-07 01:30:00",
          "2021-07-07 02:00:00",
          "2021-07-07 02:30:00",
          "2021-07-07 03:00:00",
          "2021-07-07 03:30:00",
          "2021-07-07 04:30:00",
          "2021-07-07 05:30:00",
          "2021-07-07 07:00:00",
          "2021-07-07 07:30:00",
          "2021-07-07 08:00:00",
          "2021-07-07 09:00:00",
          "2021-07-07 10:30:00",
          "2021-07-07 11:00:00",
          "2021-07-07 12:00:00",
          "2021-07-07 13:30:00",
          "2021-07-07 14:30:00",
          "2021-07-07 15:00:00",
          "2021-07-07 16:00:00",
          "2021-07-07 17:00:00",
          "2021-07-07 18:00:00",
          "2021-07-07 18:30:00",
          "2021-07-07 19:00:00",
          "2021-07-07 19:30:00",
          "2021-07-07 20:00:00",
          "2021-07-07 20:30:00",
          "2021-07-07 21:00:00",
          "2021-07-07 21:30:00",
          "2021-07-07 22:30:00",
          "2021-07-07 23:00:00",
          "2021-07-07 23:30:00",
          "2021-07-08 00:00:00",
          "2021-07-08 00:30:00",
          "2021-07-08 01:00:00",
          "2021-07-08 01:30:00",
          "2021-07-08 02:00:00",
          "2021-07-08 02:30:00",
          "2021-07-08 03:00:00",
          "2021-07-08 03:30:00",
          "2021-07-08 04:00:00",
          "2021-07-08 04:30:00",
          "2021-07-08 05:00:00",
          "2021-07-08 06:30:00",
          "2021-07-08 08:00:00",
          "2021-07-08 08:30:00",
          "2021-07-08 10:30:00",
          "2021-07-08 11:00:00",
          "2021-07-08 11:30:00",
          "2021-07-08 12:30:00",
          "2021-07-08 13:30:00",
          "2021-07-08 14:00:00",
          "2021-07-08 21:00:00",
          "2021-07-08 22:00:00",
          "2021-07-09 01:00:00",
          "2021-07-09 02:30:00",
          "2021-07-09 03:00:00",
          "2021-07-09 03:30:00",
          "2021-07-09 04:00:00",
          "2021-07-09 04:30:00",
          "2021-07-09 05:00:00",
          "2021-07-09 05:30:00",
          "2021-07-09 06:30:00",
          "2021-07-09 07:00:00",
          "2021-07-09 07:30:00",
          "2021-07-09 08:30:00",
          "2021-07-09 09:00:00",
          "2021-07-09 09:30:00",
          "2021-07-09 10:30:00",
          "2021-07-09 11:00:00",
          "2021-07-09 12:00:00",
          "2021-07-09 13:00:00",
          "2021-07-09 13:30:00",
          "2021-07-09 14:30:00",
          "2021-07-09 15:00:00",
          "2021-07-09 15:30:00",
          "2021-07-09 16:00:00",
          "2021-07-09 16:30:00",
          "2021-07-09 17:30:00",
          "2021-07-09 18:00:00",
          "2021-07-09 18:30:00",
          "2021-07-09 19:30:00",
          "2021-07-09 20:00:00",
          "2021-07-09 20:30:00",
          "2021-07-09 21:00:00",
          "2021-07-09 22:00:00",
          "2021-07-09 22:30:00",
          "2021-07-09 23:00:00",
          "2021-07-09 23:30:00",
          "2021-07-10 00:30:00",
          "2021-07-10 01:00:00",
          "2021-07-10 01:30:00",
          "2021-07-10 02:00:00",
          "2021-07-10 03:00:00",
          "2021-07-10 04:00:00",
          "2021-07-10 04:30:00",
          "2021-07-10 05:00:00",
          "2021-07-10 05:30:00",
          "2021-07-10 06:00:00",
          "2021-07-10 06:30:00",
          "2021-07-10 07:30:00",
          "2021-07-10 08:30:00",
          "2021-07-10 09:30:00",
          "2021-07-10 10:00:00",
          "2021-07-10 10:30:00",
          "2021-07-10 11:00:00",
          "2021-07-10 12:00:00",
          "2021-07-10 13:30:00",
          "2021-07-10 15:00:00",
          "2021-07-10 16:00:00",
          "2021-07-10 17:30:00",
          "2021-07-10 18:00:00",
          "2021-07-10 18:30:00",
          "2021-07-10 19:00:00",
          "2021-07-10 19:30:00",
          "2021-07-10 20:00:00",
          "2021-07-10 20:30:00",
          "2021-07-10 21:00:00",
          "2021-07-10 21:30:00",
          "2021-07-10 22:00:00",
          "2021-07-10 22:30:00",
          "2021-07-10 23:00:00",
          "2021-07-10 23:30:00",
          "2021-07-11 00:00:00",
          "2021-07-11 00:30:00",
          "2021-07-11 01:00:00",
          "2021-07-11 01:30:00",
          "2021-07-11 02:00:00",
          "2021-07-11 03:00:00",
          "2021-07-11 03:30:00",
          "2021-07-11 04:30:00",
          "2021-07-11 05:00:00",
          "2021-07-11 06:00:00",
          "2021-07-11 07:00:00",
          "2021-07-11 08:30:00",
          "2021-07-11 09:30:00",
          "2021-07-11 10:00:00",
          "2021-07-11 10:30:00",
          "2021-07-11 11:00:00",
          "2021-07-11 12:00:00",
          "2021-07-11 12:30:00",
          "2021-07-11 13:30:00",
          "2021-07-11 14:30:00",
          "2021-07-11 16:30:00",
          "2021-07-11 17:30:00",
          "2021-07-11 18:30:00",
          "2021-07-11 19:30:00",
          "2021-07-11 20:30:00",
          "2021-07-11 21:30:00",
          "2021-07-11 22:30:00",
          "2021-07-11 23:30:00",
          "2021-07-12 00:30:00",
          "2021-07-12 01:30:00",
          "2021-07-12 02:30:00",
          "2021-07-12 03:00:00",
          "2021-07-12 04:00:00",
          "2021-07-12 08:00:00",
          "2021-07-12 08:30:00",
          "2021-07-12 10:30:00",
          "2021-07-12 11:00:00",
          "2021-07-12 12:00:00",
          "2021-07-12 12:30:00",
          "2021-07-12 13:00:00",
          "2021-07-12 14:30:00",
          "2021-07-12 15:30:00",
          "2021-07-12 17:00:00",
          "2021-07-12 18:00:00",
          "2021-07-12 18:30:00",
          "2021-07-12 19:00:00",
          "2021-07-12 19:30:00",
          "2021-07-12 20:00:00",
          "2021-07-12 20:30:00",
          "2021-07-12 21:00:00",
          "2021-07-12 21:30:00",
          "2021-07-12 22:00:00",
          "2021-07-12 23:00:00",
          "2021-07-13 09:00:00",
          "2021-07-13 09:30:00",
          "2021-07-13 10:00:00",
          "2021-07-13 11:00:00",
          "2021-07-13 13:00:00",
          "2021-07-13 14:30:00",
          "2021-07-13 15:00:00",
          "2021-07-13 16:00:00",
          "2021-07-13 17:00:00",
          "2021-07-13 20:30:00",
          "2021-07-14 09:30:00",
          "2021-07-14 11:30:00",
          "2021-07-14 12:30:00",
          "2021-07-14 15:00:00",
          "2021-07-14 19:00:00",
          "2021-07-14 21:00:00",
          "2021-07-14 22:00:00",
          "2021-07-15 00:00:00",
          "2021-07-15 01:00:00",
          "2021-07-15 01:30:00",
          "2021-07-15 03:30:00",
          "2021-07-15 04:30:00"
         ],
         "xaxis": "x",
         "y": [
          49.33,
          40.56,
          43.58,
          44.09,
          44.09,
          44.09,
          47.46,
          46.68,
          45.59,
          47.98,
          47.01,
          45.89,
          46.42,
          43.91,
          45.04,
          45.14,
          44.97,
          44.8,
          44.87,
          45.37,
          45.38,
          45.12,
          44.65,
          44.59,
          45.46,
          45.56,
          45.71,
          45.629999999999995,
          45.55,
          45.75,
          45.8,
          45.765,
          45.73,
          45.665,
          45.6,
          44.05,
          44.67,
          45.45,
          45.53,
          44.78,
          44.915,
          45.05,
          44.915,
          44.9075,
          44.9,
          45.2,
          45.29,
          45.315,
          45.34,
          45.365,
          45.39,
          45.4,
          45.41,
          45.34,
          45.3,
          45.345,
          45.39,
          44.66,
          44.545,
          44.43,
          44.2,
          44.19,
          44.63,
          44.75,
          44.49,
          44.475,
          44.46,
          44.68,
          44.72,
          44.76,
          44.96,
          44.03,
          44.28,
          44.92,
          44.65,
          44.48,
          44.32,
          44.78,
          44.78,
          44.65,
          44.96,
          45.27,
          45.15,
          45.09,
          45.53,
          45.48,
          45.49,
          45.33,
          45.25,
          45.22,
          43.77,
          44.05500000000001,
          44.34,
          44.05500000000001,
          43.77,
          46.26,
          47.78,
          47.07,
          45.14,
          45.144999999999996,
          45.15,
          45.52,
          46.2,
          47.86,
          47.65,
          48.07,
          46.57,
          46.52,
          46.58,
          46.64,
          45.69,
          45.39,
          45.45,
          45.19,
          44.89,
          44.45,
          44.870000000000005,
          44.825,
          44.78,
          44.02,
          44.465,
          44.91,
          44.82,
          44.79,
          44.63,
          43.68,
          43.11,
          42.99,
          43.25,
          43.43,
          43.79,
          44.33,
          44.17,
          45.27,
          45.21,
          45.15,
          45.09,
          43.82,
          44.26,
          44.7,
          44.94,
          45.16,
          45.19,
          45.31,
          44.96,
          44.92,
          44.88,
          45.32,
          43.92,
          43.37,
          44.98,
          44.34,
          44.03,
          44.11,
          45.59,
          45.68,
          45.46,
          45.48,
          44.3,
          43.74,
          45.48,
          45.52,
          45.34,
          45.27,
          45.63,
          45.765,
          45.9,
          46.09,
          45.34,
          45.3,
          46.98,
          46.955,
          46.93,
          46.89,
          46.519999999999996,
          46.15,
          44.89,
          42.83,
          42.5,
          41.78,
          43.38,
          46.32,
          46.66,
          42.55,
          44.03,
          44.95,
          44.665000000000006,
          44.38,
          43.12,
          42.5,
          41.98,
          42.065,
          42.15,
          41.81,
          41.64,
          42.06,
          41.91,
          42.97,
          42.95,
          43.19,
          44.6,
          43.91,
          44.515,
          45.120000000000005,
          45.1,
          45.08,
          44.98,
          44.775,
          44.57,
          45.22,
          45.87,
          46.04,
          45.49,
          45.23,
          44.57,
          44.3,
          44.209999999999994,
          44.12,
          44.155,
          44.19,
          45.09,
          44.92,
          44.64,
          46.29,
          45.75,
          45.53,
          44.58,
          44.89,
          45.39,
          46.95,
          46.73,
          46.71,
          46.43,
          43.4,
          43.97,
          43.74,
          44.31,
          44.88,
          46.76,
          46.7,
          44.87,
          45.06,
          45.43,
          45.8,
          44.38,
          44.275,
          44.16,
          44.125,
          44.09,
          43.95,
          43.945,
          43.94,
          43.86,
          43.78,
          44.12,
          43.97,
          46.11,
          45.16,
          45.095,
          45.03,
          44.99,
          44.95,
          44.8,
          44.834999999999994,
          44.87,
          44.88,
          44.72,
          44.71,
          44.7,
          44.8,
          45.08,
          45.09,
          45.29,
          45.295,
          45.3,
          45.23,
          45.28,
          45.33,
          45.62,
          45.51,
          45.44,
          45.44,
          45.3,
          45.06,
          45.18,
          44.77,
          46.62,
          46.51,
          46.4,
          46.114999999999995,
          46.2275,
          46.34,
          43.73,
          43.65,
          43.49,
          46.72,
          46.34,
          46.42,
          43.98,
          43.94,
          44.38,
          44.51,
          44.495,
          44.4925,
          44.49,
          44.515,
          44.54,
          44.57,
          44.57,
          44.595,
          44.62,
          44.44,
          46.02,
          45.94,
          45.86,
          46.04,
          46.105000000000004,
          46.17,
          45.89,
          45.855000000000004,
          45.82,
          44.12,
          44.93,
          44.6,
          45.045,
          45.49,
          46.11,
          46.085,
          46.06,
          45.11,
          47.5,
          47.32,
          43.73,
          44.07,
          44.27,
          44.73,
          45.66,
          45.36,
          47.54,
          48.25,
          48.69,
          48.175,
          47.66,
          48.239999999999995,
          48.82,
          45.58,
          44.42,
          44.42,
          44.195,
          43.97,
          43.9,
          44.49,
          44.19,
          43.89,
          44.205,
          44.52,
          44.61,
          44.4,
          45.19,
          45.19,
          46.37,
          47.37,
          47.175,
          46.98,
          45.31,
          48.83,
          48.57,
          46.905,
          45.24,
          45.19,
          44.57,
          44.15,
          44.370000000000005,
          44.59,
          44.53,
          44.47,
          46,
          49.22,
          49.185,
          49.15,
          49.8,
          49.599999999999994,
          49.56,
          49.52,
          44.79,
          44.765,
          44.74,
          44.64,
          44.45,
          44.92,
          45.35,
          45.269999999999996,
          45.19,
          44.87,
          44.64,
          45.15,
          44.95,
          45.040000000000006,
          45.13,
          45.07,
          45.07,
          45.07,
          45.1,
          45.13,
          45.07,
          45.47,
          48.41,
          48.79,
          48.735,
          48.68,
          48.57,
          48.22,
          48.12,
          45.71,
          44.72,
          44.51,
          44.5,
          43.94,
          44.26,
          44.58,
          43.85,
          43.86,
          44.08,
          44.36,
          44.42,
          45.41,
          45.05,
          45.02,
          44.97,
          44.54,
          44.62,
          44.64,
          44.79,
          45.22,
          45.22,
          44.83,
          44.98,
          45.315,
          45.73,
          45.58,
          45.47,
          45.86,
          45.79,
          45.97,
          46.019999999999996,
          46.07,
          46.57,
          46.39,
          46.06,
          45.66,
          44.96,
          44.805,
          44.65,
          44.65,
          44.65,
          44.535,
          44.5725,
          44.57125,
          44.57,
          44.55,
          44.41,
          44.72,
          44.739999999999995,
          44.76,
          44.96,
          44.97,
          45.07,
          45.23,
          45.22,
          45.27,
          45.19,
          45.175,
          45.16,
          45.105,
          45.1075,
          45.11,
          45.13,
          45.4,
          45.37,
          45.405,
          45.44,
          45.61,
          45.69,
          46.11,
          46.53,
          45.43,
          45.230000000000004,
          45.03,
          44.5,
          44.51,
          44.98,
          44.83,
          44.72,
          45.11,
          45.5,
          45.57,
          45.475,
          45.38,
          45.14,
          45.09,
          45.02,
          45.045,
          45.07,
          45.08,
          45.17,
          45.19,
          45.18,
          45.17,
          45.16,
          45.16,
          45.16,
          45.125,
          45.09,
          45.120000000000005,
          45.15,
          45.14,
          45.13,
          44.88,
          44.88,
          44.88,
          45.105000000000004,
          45.33,
          45.29,
          44.8,
          44.4,
          44.41,
          44.57,
          44.53,
          44.55,
          44.57,
          44.52,
          44.575,
          44.63,
          44.7,
          44.67,
          44.64,
          44.65,
          44.65,
          44.65,
          44.71,
          44.77,
          44.87,
          45.02,
          45.09,
          45.5,
          45.34,
          45.3,
          45.17,
          45.04,
          44.38,
          44.260000000000005,
          44.14,
          44.1,
          44.33,
          44.56,
          45.14,
          45.19,
          45.24,
          46.27,
          46.28,
          46.28,
          46.25,
          46.22,
          46.33,
          46.31,
          46.29,
          44.64,
          44.575,
          44.51,
          44.76,
          45.01,
          45.02,
          44.33,
          44.67,
          45.3,
          42.92,
          42.3,
          43.76,
          44.96,
          44.650000000000006,
          44.34,
          45.38,
          45.22,
          45.06,
          44.98,
          45.22,
          45.21,
          45.2,
          45.53,
          45.52,
          45.51,
          45.27,
          45.29,
          44.97,
          44.89,
          45.05,
          45.55,
          45.36,
          45.82,
          45.86,
          45.79,
          45.72,
          45.06,
          45.105000000000004,
          45.15,
          44.41,
          44.09,
          44.13,
          44.45,
          44.36,
          44.57,
          44.83,
          44.72,
          44.61,
          44.61,
          44.59,
          44.55,
          44.55,
          44.81,
          45.08,
          45.11,
          45.14,
          44.76,
          44.64,
          44.735,
          44.83,
          44.82,
          44.88,
          44.88,
          44.89,
          44.9,
          44.82,
          44.86,
          44.9,
          45.36,
          45.29,
          45.22,
          45.224999999999994,
          45.23,
          45.224999999999994,
          45.22,
          45.41,
          44.9,
          44.82,
          44.86,
          45,
          45.05,
          45.1,
          45.41,
          44.935,
          44.46,
          44.38,
          44.3,
          44.83,
          41.56,
          41.61,
          41.66,
          44.56,
          43.38,
          44.644999999999996,
          44.442499999999995,
          44.24,
          45.74,
          45.25,
          45.21,
          44.84,
          44.92,
          45,
          45.21,
          45.245000000000005,
          45.2375,
          45.23,
          45.04,
          44.97,
          44.925,
          44.88,
          44.99,
          45.27,
          45.22,
          45.22,
          45.39,
          44.81,
          45.285,
          45.4025,
          45.52,
          44.7,
          44.27,
          43.32,
          41.760000000000005,
          40.2,
          44.87,
          45.325,
          45.78,
          45.370000000000005,
          44.96,
          43.4,
          46.94,
          45.29,
          44.81,
          47.6,
          41.06
         ],
         "yaxis": "y"
        }
       ],
       "layout": {
        "legend": {
         "tracegroupgap": 0
        },
        "margin": {
         "t": 60
        },
        "template": {
         "data": {
          "bar": [
           {
            "error_x": {
             "color": "#2a3f5f"
            },
            "error_y": {
             "color": "#2a3f5f"
            },
            "marker": {
             "line": {
              "color": "#E5ECF6",
              "width": 0.5
             },
             "pattern": {
              "fillmode": "overlay",
              "size": 10,
              "solidity": 0.2
             }
            },
            "type": "bar"
           }
          ],
          "barpolar": [
           {
            "marker": {
             "line": {
              "color": "#E5ECF6",
              "width": 0.5
             },
             "pattern": {
              "fillmode": "overlay",
              "size": 10,
              "solidity": 0.2
             }
            },
            "type": "barpolar"
           }
          ],
          "carpet": [
           {
            "aaxis": {
             "endlinecolor": "#2a3f5f",
             "gridcolor": "white",
             "linecolor": "white",
             "minorgridcolor": "white",
             "startlinecolor": "#2a3f5f"
            },
            "baxis": {
             "endlinecolor": "#2a3f5f",
             "gridcolor": "white",
             "linecolor": "white",
             "minorgridcolor": "white",
             "startlinecolor": "#2a3f5f"
            },
            "type": "carpet"
           }
          ],
          "choropleth": [
           {
            "colorbar": {
             "outlinewidth": 0,
             "ticks": ""
            },
            "type": "choropleth"
           }
          ],
          "contour": [
           {
            "colorbar": {
             "outlinewidth": 0,
             "ticks": ""
            },
            "colorscale": [
             [
              0,
              "#0d0887"
             ],
             [
              0.1111111111111111,
              "#46039f"
             ],
             [
              0.2222222222222222,
              "#7201a8"
             ],
             [
              0.3333333333333333,
              "#9c179e"
             ],
             [
              0.4444444444444444,
              "#bd3786"
             ],
             [
              0.5555555555555556,
              "#d8576b"
             ],
             [
              0.6666666666666666,
              "#ed7953"
             ],
             [
              0.7777777777777778,
              "#fb9f3a"
             ],
             [
              0.8888888888888888,
              "#fdca26"
             ],
             [
              1,
              "#f0f921"
             ]
            ],
            "type": "contour"
           }
          ],
          "contourcarpet": [
           {
            "colorbar": {
             "outlinewidth": 0,
             "ticks": ""
            },
            "type": "contourcarpet"
           }
          ],
          "heatmap": [
           {
            "colorbar": {
             "outlinewidth": 0,
             "ticks": ""
            },
            "colorscale": [
             [
              0,
              "#0d0887"
             ],
             [
              0.1111111111111111,
              "#46039f"
             ],
             [
              0.2222222222222222,
              "#7201a8"
             ],
             [
              0.3333333333333333,
              "#9c179e"
             ],
             [
              0.4444444444444444,
              "#bd3786"
             ],
             [
              0.5555555555555556,
              "#d8576b"
             ],
             [
              0.6666666666666666,
              "#ed7953"
             ],
             [
              0.7777777777777778,
              "#fb9f3a"
             ],
             [
              0.8888888888888888,
              "#fdca26"
             ],
             [
              1,
              "#f0f921"
             ]
            ],
            "type": "heatmap"
           }
          ],
          "heatmapgl": [
           {
            "colorbar": {
             "outlinewidth": 0,
             "ticks": ""
            },
            "colorscale": [
             [
              0,
              "#0d0887"
             ],
             [
              0.1111111111111111,
              "#46039f"
             ],
             [
              0.2222222222222222,
              "#7201a8"
             ],
             [
              0.3333333333333333,
              "#9c179e"
             ],
             [
              0.4444444444444444,
              "#bd3786"
             ],
             [
              0.5555555555555556,
              "#d8576b"
             ],
             [
              0.6666666666666666,
              "#ed7953"
             ],
             [
              0.7777777777777778,
              "#fb9f3a"
             ],
             [
              0.8888888888888888,
              "#fdca26"
             ],
             [
              1,
              "#f0f921"
             ]
            ],
            "type": "heatmapgl"
           }
          ],
          "histogram": [
           {
            "marker": {
             "pattern": {
              "fillmode": "overlay",
              "size": 10,
              "solidity": 0.2
             }
            },
            "type": "histogram"
           }
          ],
          "histogram2d": [
           {
            "colorbar": {
             "outlinewidth": 0,
             "ticks": ""
            },
            "colorscale": [
             [
              0,
              "#0d0887"
             ],
             [
              0.1111111111111111,
              "#46039f"
             ],
             [
              0.2222222222222222,
              "#7201a8"
             ],
             [
              0.3333333333333333,
              "#9c179e"
             ],
             [
              0.4444444444444444,
              "#bd3786"
             ],
             [
              0.5555555555555556,
              "#d8576b"
             ],
             [
              0.6666666666666666,
              "#ed7953"
             ],
             [
              0.7777777777777778,
              "#fb9f3a"
             ],
             [
              0.8888888888888888,
              "#fdca26"
             ],
             [
              1,
              "#f0f921"
             ]
            ],
            "type": "histogram2d"
           }
          ],
          "histogram2dcontour": [
           {
            "colorbar": {
             "outlinewidth": 0,
             "ticks": ""
            },
            "colorscale": [
             [
              0,
              "#0d0887"
             ],
             [
              0.1111111111111111,
              "#46039f"
             ],
             [
              0.2222222222222222,
              "#7201a8"
             ],
             [
              0.3333333333333333,
              "#9c179e"
             ],
             [
              0.4444444444444444,
              "#bd3786"
             ],
             [
              0.5555555555555556,
              "#d8576b"
             ],
             [
              0.6666666666666666,
              "#ed7953"
             ],
             [
              0.7777777777777778,
              "#fb9f3a"
             ],
             [
              0.8888888888888888,
              "#fdca26"
             ],
             [
              1,
              "#f0f921"
             ]
            ],
            "type": "histogram2dcontour"
           }
          ],
          "mesh3d": [
           {
            "colorbar": {
             "outlinewidth": 0,
             "ticks": ""
            },
            "type": "mesh3d"
           }
          ],
          "parcoords": [
           {
            "line": {
             "colorbar": {
              "outlinewidth": 0,
              "ticks": ""
             }
            },
            "type": "parcoords"
           }
          ],
          "pie": [
           {
            "automargin": true,
            "type": "pie"
           }
          ],
          "scatter": [
           {
            "marker": {
             "colorbar": {
              "outlinewidth": 0,
              "ticks": ""
             }
            },
            "type": "scatter"
           }
          ],
          "scatter3d": [
           {
            "line": {
             "colorbar": {
              "outlinewidth": 0,
              "ticks": ""
             }
            },
            "marker": {
             "colorbar": {
              "outlinewidth": 0,
              "ticks": ""
             }
            },
            "type": "scatter3d"
           }
          ],
          "scattercarpet": [
           {
            "marker": {
             "colorbar": {
              "outlinewidth": 0,
              "ticks": ""
             }
            },
            "type": "scattercarpet"
           }
          ],
          "scattergeo": [
           {
            "marker": {
             "colorbar": {
              "outlinewidth": 0,
              "ticks": ""
             }
            },
            "type": "scattergeo"
           }
          ],
          "scattergl": [
           {
            "marker": {
             "colorbar": {
              "outlinewidth": 0,
              "ticks": ""
             }
            },
            "type": "scattergl"
           }
          ],
          "scattermapbox": [
           {
            "marker": {
             "colorbar": {
              "outlinewidth": 0,
              "ticks": ""
             }
            },
            "type": "scattermapbox"
           }
          ],
          "scatterpolar": [
           {
            "marker": {
             "colorbar": {
              "outlinewidth": 0,
              "ticks": ""
             }
            },
            "type": "scatterpolar"
           }
          ],
          "scatterpolargl": [
           {
            "marker": {
             "colorbar": {
              "outlinewidth": 0,
              "ticks": ""
             }
            },
            "type": "scatterpolargl"
           }
          ],
          "scatterternary": [
           {
            "marker": {
             "colorbar": {
              "outlinewidth": 0,
              "ticks": ""
             }
            },
            "type": "scatterternary"
           }
          ],
          "surface": [
           {
            "colorbar": {
             "outlinewidth": 0,
             "ticks": ""
            },
            "colorscale": [
             [
              0,
              "#0d0887"
             ],
             [
              0.1111111111111111,
              "#46039f"
             ],
             [
              0.2222222222222222,
              "#7201a8"
             ],
             [
              0.3333333333333333,
              "#9c179e"
             ],
             [
              0.4444444444444444,
              "#bd3786"
             ],
             [
              0.5555555555555556,
              "#d8576b"
             ],
             [
              0.6666666666666666,
              "#ed7953"
             ],
             [
              0.7777777777777778,
              "#fb9f3a"
             ],
             [
              0.8888888888888888,
              "#fdca26"
             ],
             [
              1,
              "#f0f921"
             ]
            ],
            "type": "surface"
           }
          ],
          "table": [
           {
            "cells": {
             "fill": {
              "color": "#EBF0F8"
             },
             "line": {
              "color": "white"
             }
            },
            "header": {
             "fill": {
              "color": "#C8D4E3"
             },
             "line": {
              "color": "white"
             }
            },
            "type": "table"
           }
          ]
         },
         "layout": {
          "annotationdefaults": {
           "arrowcolor": "#2a3f5f",
           "arrowhead": 0,
           "arrowwidth": 1
          },
          "autotypenumbers": "strict",
          "coloraxis": {
           "colorbar": {
            "outlinewidth": 0,
            "ticks": ""
           }
          },
          "colorscale": {
           "diverging": [
            [
             0,
             "#8e0152"
            ],
            [
             0.1,
             "#c51b7d"
            ],
            [
             0.2,
             "#de77ae"
            ],
            [
             0.3,
             "#f1b6da"
            ],
            [
             0.4,
             "#fde0ef"
            ],
            [
             0.5,
             "#f7f7f7"
            ],
            [
             0.6,
             "#e6f5d0"
            ],
            [
             0.7,
             "#b8e186"
            ],
            [
             0.8,
             "#7fbc41"
            ],
            [
             0.9,
             "#4d9221"
            ],
            [
             1,
             "#276419"
            ]
           ],
           "sequential": [
            [
             0,
             "#0d0887"
            ],
            [
             0.1111111111111111,
             "#46039f"
            ],
            [
             0.2222222222222222,
             "#7201a8"
            ],
            [
             0.3333333333333333,
             "#9c179e"
            ],
            [
             0.4444444444444444,
             "#bd3786"
            ],
            [
             0.5555555555555556,
             "#d8576b"
            ],
            [
             0.6666666666666666,
             "#ed7953"
            ],
            [
             0.7777777777777778,
             "#fb9f3a"
            ],
            [
             0.8888888888888888,
             "#fdca26"
            ],
            [
             1,
             "#f0f921"
            ]
           ],
           "sequentialminus": [
            [
             0,
             "#0d0887"
            ],
            [
             0.1111111111111111,
             "#46039f"
            ],
            [
             0.2222222222222222,
             "#7201a8"
            ],
            [
             0.3333333333333333,
             "#9c179e"
            ],
            [
             0.4444444444444444,
             "#bd3786"
            ],
            [
             0.5555555555555556,
             "#d8576b"
            ],
            [
             0.6666666666666666,
             "#ed7953"
            ],
            [
             0.7777777777777778,
             "#fb9f3a"
            ],
            [
             0.8888888888888888,
             "#fdca26"
            ],
            [
             1,
             "#f0f921"
            ]
           ]
          },
          "colorway": [
           "#636efa",
           "#EF553B",
           "#00cc96",
           "#ab63fa",
           "#FFA15A",
           "#19d3f3",
           "#FF6692",
           "#B6E880",
           "#FF97FF",
           "#FECB52"
          ],
          "font": {
           "color": "#2a3f5f"
          },
          "geo": {
           "bgcolor": "white",
           "lakecolor": "white",
           "landcolor": "#E5ECF6",
           "showlakes": true,
           "showland": true,
           "subunitcolor": "white"
          },
          "hoverlabel": {
           "align": "left"
          },
          "hovermode": "closest",
          "mapbox": {
           "style": "light"
          },
          "paper_bgcolor": "white",
          "plot_bgcolor": "#E5ECF6",
          "polar": {
           "angularaxis": {
            "gridcolor": "white",
            "linecolor": "white",
            "ticks": ""
           },
           "bgcolor": "#E5ECF6",
           "radialaxis": {
            "gridcolor": "white",
            "linecolor": "white",
            "ticks": ""
           }
          },
          "scene": {
           "xaxis": {
            "backgroundcolor": "#E5ECF6",
            "gridcolor": "white",
            "gridwidth": 2,
            "linecolor": "white",
            "showbackground": true,
            "ticks": "",
            "zerolinecolor": "white"
           },
           "yaxis": {
            "backgroundcolor": "#E5ECF6",
            "gridcolor": "white",
            "gridwidth": 2,
            "linecolor": "white",
            "showbackground": true,
            "ticks": "",
            "zerolinecolor": "white"
           },
           "zaxis": {
            "backgroundcolor": "#E5ECF6",
            "gridcolor": "white",
            "gridwidth": 2,
            "linecolor": "white",
            "showbackground": true,
            "ticks": "",
            "zerolinecolor": "white"
           }
          },
          "shapedefaults": {
           "line": {
            "color": "#2a3f5f"
           }
          },
          "ternary": {
           "aaxis": {
            "gridcolor": "white",
            "linecolor": "white",
            "ticks": ""
           },
           "baxis": {
            "gridcolor": "white",
            "linecolor": "white",
            "ticks": ""
           },
           "bgcolor": "#E5ECF6",
           "caxis": {
            "gridcolor": "white",
            "linecolor": "white",
            "ticks": ""
           }
          },
          "title": {
           "x": 0.05
          },
          "xaxis": {
           "automargin": true,
           "gridcolor": "white",
           "linecolor": "white",
           "ticks": "",
           "title": {
            "standoff": 15
           },
           "zerolinecolor": "white",
           "zerolinewidth": 2
          },
          "yaxis": {
           "automargin": true,
           "gridcolor": "white",
           "linecolor": "white",
           "ticks": "",
           "title": {
            "standoff": 15
           },
           "zerolinecolor": "white",
           "zerolinewidth": 2
          }
         }
        },
        "xaxis": {
         "anchor": "y",
         "domain": [
          0,
          1
         ],
         "title": {
          "text": "time"
         }
        },
        "yaxis": {
         "anchor": "x",
         "domain": [
          0,
          1
         ],
         "title": {
          "text": "value"
         }
        }
       }
      },
      "text/html": [
       "<div>                            <div id=\"c38327ff-9052-4b88-addc-0add2eadb341\" class=\"plotly-graph-div\" style=\"height:525px; width:100%;\"></div>            <script type=\"text/javascript\">                require([\"plotly\"], function(Plotly) {                    window.PLOTLYENV=window.PLOTLYENV || {};                                    if (document.getElementById(\"c38327ff-9052-4b88-addc-0add2eadb341\")) {                    Plotly.newPlot(                        \"c38327ff-9052-4b88-addc-0add2eadb341\",                        [{\"hovertemplate\":\"time=%{x}<br>value=%{y}<extra></extra>\",\"legendgroup\":\"\",\"line\":{\"color\":\"#636efa\",\"dash\":\"solid\"},\"mode\":\"lines\",\"name\":\"\",\"orientation\":\"v\",\"showlegend\":false,\"type\":\"scatter\",\"x\":[\"2021-06-16 11:00:00\",\"2021-06-16 12:00:00\",\"2021-06-16 13:30:00\",\"2021-06-16 14:00:00\",\"2021-06-16 14:30:00\",\"2021-06-16 15:00:00\",\"2021-06-16 15:30:00\",\"2021-06-16 16:00:00\",\"2021-06-16 16:30:00\",\"2021-06-16 17:00:00\",\"2021-06-16 17:30:00\",\"2021-06-16 18:00:00\",\"2021-06-16 18:30:00\",\"2021-06-16 19:00:00\",\"2021-06-16 19:30:00\",\"2021-06-16 20:00:00\",\"2021-06-16 20:30:00\",\"2021-06-16 21:00:00\",\"2021-06-16 22:30:00\",\"2021-06-16 23:30:00\",\"2021-06-17 00:00:00\",\"2021-06-17 00:30:00\",\"2021-06-17 01:30:00\",\"2021-06-17 02:30:00\",\"2021-06-17 03:30:00\",\"2021-06-17 04:00:00\",\"2021-06-17 04:30:00\",\"2021-06-17 05:00:00\",\"2021-06-17 05:30:00\",\"2021-06-17 06:00:00\",\"2021-06-17 06:30:00\",\"2021-06-17 07:00:00\",\"2021-06-17 07:30:00\",\"2021-06-17 08:00:00\",\"2021-06-17 09:00:00\",\"2021-06-17 11:00:00\",\"2021-06-17 12:30:00\",\"2021-06-17 13:00:00\",\"2021-06-17 17:00:00\",\"2021-06-17 17:30:00\",\"2021-06-17 18:30:00\",\"2021-06-17 19:00:00\",\"2021-06-17 19:30:00\",\"2021-06-17 20:00:00\",\"2021-06-17 20:30:00\",\"2021-06-17 21:00:00\",\"2021-06-17 21:30:00\",\"2021-06-17 22:00:00\",\"2021-06-17 22:30:00\",\"2021-06-17 23:00:00\",\"2021-06-17 23:30:00\",\"2021-06-18 00:00:00\",\"2021-06-18 00:30:00\",\"2021-06-18 01:00:00\",\"2021-06-18 01:30:00\",\"2021-06-18 02:00:00\",\"2021-06-18 02:30:00\",\"2021-06-18 03:00:00\",\"2021-06-18 04:00:00\",\"2021-06-18 06:00:00\",\"2021-06-18 06:30:00\",\"2021-06-18 07:00:00\",\"2021-06-18 07:30:00\",\"2021-06-18 08:00:00\",\"2021-06-18 08:30:00\",\"2021-06-18 09:00:00\",\"2021-06-18 10:30:00\",\"2021-06-18 13:30:00\",\"2021-06-18 15:30:00\",\"2021-06-18 17:30:00\",\"2021-06-18 18:00:00\",\"2021-06-18 18:30:00\",\"2021-06-18 19:00:00\",\"2021-06-18 19:30:00\",\"2021-06-18 20:00:00\",\"2021-06-18 20:30:00\",\"2021-06-18 21:00:00\",\"2021-06-18 21:30:00\",\"2021-06-18 22:00:00\",\"2021-06-18 22:30:00\",\"2021-06-18 23:30:00\",\"2021-06-19 00:30:00\",\"2021-06-19 01:30:00\",\"2021-06-19 02:30:00\",\"2021-06-19 04:30:00\",\"2021-06-19 05:30:00\",\"2021-06-19 06:30:00\",\"2021-06-19 07:30:00\",\"2021-06-19 08:30:00\",\"2021-06-19 09:30:00\",\"2021-06-19 10:30:00\",\"2021-06-19 11:30:00\",\"2021-06-19 13:00:00\",\"2021-06-19 14:00:00\",\"2021-06-19 15:00:00\",\"2021-06-19 16:00:00\",\"2021-06-19 17:00:00\",\"2021-06-19 18:00:00\",\"2021-06-19 19:00:00\",\"2021-06-19 19:30:00\",\"2021-06-19 20:30:00\",\"2021-06-19 21:30:00\",\"2021-06-19 22:30:00\",\"2021-06-19 23:30:00\",\"2021-06-20 00:30:00\",\"2021-06-20 01:30:00\",\"2021-06-20 02:30:00\",\"2021-06-20 04:30:00\",\"2021-06-20 05:30:00\",\"2021-06-20 06:30:00\",\"2021-06-20 07:30:00\",\"2021-06-20 08:30:00\",\"2021-06-20 09:30:00\",\"2021-06-20 10:00:00\",\"2021-06-20 10:30:00\",\"2021-06-20 11:00:00\",\"2021-06-20 12:00:00\",\"2021-06-20 12:30:00\",\"2021-06-20 13:00:00\",\"2021-06-20 14:00:00\",\"2021-06-20 15:00:00\",\"2021-06-20 15:30:00\",\"2021-06-20 16:00:00\",\"2021-06-20 17:00:00\",\"2021-06-20 17:30:00\",\"2021-06-20 18:30:00\",\"2021-06-20 20:30:00\",\"2021-06-20 21:30:00\",\"2021-06-20 23:30:00\",\"2021-06-21 02:30:00\",\"2021-06-21 03:30:00\",\"2021-06-21 04:30:00\",\"2021-06-21 06:30:00\",\"2021-06-21 11:00:00\",\"2021-06-21 12:00:00\",\"2021-06-21 13:30:00\",\"2021-06-21 15:00:00\",\"2021-06-21 18:00:00\",\"2021-06-21 19:00:00\",\"2021-06-21 22:00:00\",\"2021-06-21 23:00:00\",\"2021-06-22 00:00:00\",\"2021-06-22 01:00:00\",\"2021-06-22 02:00:00\",\"2021-06-22 03:00:00\",\"2021-06-22 04:00:00\",\"2021-06-22 05:00:00\",\"2021-06-22 07:30:00\",\"2021-06-22 08:30:00\",\"2021-06-22 10:30:00\",\"2021-06-22 11:30:00\",\"2021-06-22 12:30:00\",\"2021-06-22 14:30:00\",\"2021-06-22 15:00:00\",\"2021-06-22 16:30:00\",\"2021-06-22 17:30:00\",\"2021-06-22 18:30:00\",\"2021-06-22 19:30:00\",\"2021-06-22 20:00:00\",\"2021-06-22 21:00:00\",\"2021-06-22 22:00:00\",\"2021-06-22 23:00:00\",\"2021-06-23 00:00:00\",\"2021-06-23 01:00:00\",\"2021-06-23 03:00:00\",\"2021-06-23 04:00:00\",\"2021-06-23 05:00:00\",\"2021-06-23 06:00:00\",\"2021-06-23 07:00:00\",\"2021-06-23 08:00:00\",\"2021-06-23 10:00:00\",\"2021-06-23 11:00:00\",\"2021-06-23 12:00:00\",\"2021-06-23 13:00:00\",\"2021-06-23 14:00:00\",\"2021-06-23 15:00:00\",\"2021-06-23 16:00:00\",\"2021-06-23 17:00:00\",\"2021-06-23 18:00:00\",\"2021-06-23 19:00:00\",\"2021-06-23 22:30:00\",\"2021-06-23 23:30:00\",\"2021-06-24 00:30:00\",\"2021-06-24 07:30:00\",\"2021-06-24 08:30:00\",\"2021-06-24 11:30:00\",\"2021-06-24 12:30:00\",\"2021-06-24 13:00:00\",\"2021-06-24 14:00:00\",\"2021-06-24 16:00:00\",\"2021-06-24 21:00:00\",\"2021-06-24 22:00:00\",\"2021-06-24 23:00:00\",\"2021-06-25 00:00:00\",\"2021-06-25 01:00:00\",\"2021-06-25 02:00:00\",\"2021-06-25 03:00:00\",\"2021-06-25 04:00:00\",\"2021-06-25 05:00:00\",\"2021-06-25 06:00:00\",\"2021-06-25 06:30:00\",\"2021-06-25 07:30:00\",\"2021-06-25 08:30:00\",\"2021-06-25 12:30:00\",\"2021-06-25 13:30:00\",\"2021-06-25 14:00:00\",\"2021-06-25 14:30:00\",\"2021-06-25 15:30:00\",\"2021-06-25 16:30:00\",\"2021-06-25 17:30:00\",\"2021-06-25 22:30:00\",\"2021-06-25 23:30:00\",\"2021-06-26 00:30:00\",\"2021-06-26 01:00:00\",\"2021-06-26 02:00:00\",\"2021-06-26 03:00:00\",\"2021-06-26 04:00:00\",\"2021-06-26 04:30:00\",\"2021-06-26 05:30:00\",\"2021-06-26 06:30:00\",\"2021-06-26 07:00:00\",\"2021-06-26 07:30:00\",\"2021-06-26 08:30:00\",\"2021-06-26 09:30:00\",\"2021-06-26 10:00:00\",\"2021-06-26 10:30:00\",\"2021-06-26 11:00:00\",\"2021-06-26 11:30:00\",\"2021-06-26 12:30:00\",\"2021-06-26 13:00:00\",\"2021-06-26 14:00:00\",\"2021-06-26 15:00:00\",\"2021-06-26 16:30:00\",\"2021-06-26 17:00:00\",\"2021-06-26 17:30:00\",\"2021-06-26 18:00:00\",\"2021-06-26 19:00:00\",\"2021-06-26 19:30:00\",\"2021-06-26 20:00:00\",\"2021-06-26 20:30:00\",\"2021-06-26 21:00:00\",\"2021-06-26 21:30:00\",\"2021-06-26 22:00:00\",\"2021-06-26 22:30:00\",\"2021-06-27 01:30:00\",\"2021-06-27 02:00:00\",\"2021-06-27 02:30:00\",\"2021-06-27 03:00:00\",\"2021-06-27 03:30:00\",\"2021-06-27 04:00:00\",\"2021-06-27 04:30:00\",\"2021-06-27 05:30:00\",\"2021-06-27 06:30:00\",\"2021-06-27 07:30:00\",\"2021-06-27 08:30:00\",\"2021-06-27 09:30:00\",\"2021-06-27 10:30:00\",\"2021-06-27 13:30:00\",\"2021-06-27 15:00:00\",\"2021-06-27 16:00:00\",\"2021-06-27 17:00:00\",\"2021-06-27 18:00:00\",\"2021-06-27 18:30:00\",\"2021-06-27 19:00:00\",\"2021-06-27 19:30:00\",\"2021-06-27 20:00:00\",\"2021-06-27 20:30:00\",\"2021-06-27 21:00:00\",\"2021-06-27 21:30:00\",\"2021-06-27 22:00:00\",\"2021-06-27 22:30:00\",\"2021-06-27 23:00:00\",\"2021-06-27 23:30:00\",\"2021-06-28 00:00:00\",\"2021-06-28 00:30:00\",\"2021-06-28 01:00:00\",\"2021-06-28 01:30:00\",\"2021-06-28 02:00:00\",\"2021-06-28 02:30:00\",\"2021-06-28 03:00:00\",\"2021-06-28 03:30:00\",\"2021-06-28 04:00:00\",\"2021-06-28 05:00:00\",\"2021-06-28 05:30:00\",\"2021-06-28 06:00:00\",\"2021-06-28 06:30:00\",\"2021-06-28 09:30:00\",\"2021-06-28 10:30:00\",\"2021-06-28 11:00:00\",\"2021-06-28 12:00:00\",\"2021-06-28 12:30:00\",\"2021-06-28 13:00:00\",\"2021-06-28 13:30:00\",\"2021-06-28 14:00:00\",\"2021-06-28 14:30:00\",\"2021-06-28 15:30:00\",\"2021-06-28 16:00:00\",\"2021-06-28 16:30:00\",\"2021-06-28 17:00:00\",\"2021-06-28 17:30:00\",\"2021-06-28 18:00:00\",\"2021-06-28 18:30:00\",\"2021-06-28 19:00:00\",\"2021-06-28 19:30:00\",\"2021-06-28 20:00:00\",\"2021-06-28 20:30:00\",\"2021-06-28 21:00:00\",\"2021-06-28 21:30:00\",\"2021-06-28 22:00:00\",\"2021-06-28 22:30:00\",\"2021-06-28 23:00:00\",\"2021-06-28 23:30:00\",\"2021-06-29 01:00:00\",\"2021-06-29 01:30:00\",\"2021-06-29 02:00:00\",\"2021-06-29 02:30:00\",\"2021-06-29 03:30:00\",\"2021-06-29 05:00:00\",\"2021-06-29 05:30:00\",\"2021-06-29 06:30:00\",\"2021-06-29 07:30:00\",\"2021-06-29 09:00:00\",\"2021-06-29 10:00:00\",\"2021-06-29 10:30:00\",\"2021-06-29 11:00:00\",\"2021-06-29 11:30:00\",\"2021-06-29 12:00:00\",\"2021-06-29 13:00:00\",\"2021-06-29 14:00:00\",\"2021-06-30 08:00:00\",\"2021-06-30 09:00:00\",\"2021-06-30 10:00:00\",\"2021-06-30 11:30:00\",\"2021-06-30 12:00:00\",\"2021-06-30 12:30:00\",\"2021-06-30 13:00:00\",\"2021-06-30 13:30:00\",\"2021-06-30 15:00:00\",\"2021-06-30 23:00:00\",\"2021-07-01 00:00:00\",\"2021-07-01 01:00:00\",\"2021-07-01 03:00:00\",\"2021-07-01 04:00:00\",\"2021-07-01 08:00:00\",\"2021-07-01 10:00:00\",\"2021-07-01 11:00:00\",\"2021-07-01 11:30:00\",\"2021-07-01 12:00:00\",\"2021-07-01 12:30:00\",\"2021-07-01 13:00:00\",\"2021-07-01 13:30:00\",\"2021-07-01 14:00:00\",\"2021-07-01 14:30:00\",\"2021-07-01 15:00:00\",\"2021-07-01 15:30:00\",\"2021-07-01 16:00:00\",\"2021-07-01 16:30:00\",\"2021-07-01 17:00:00\",\"2021-07-01 17:30:00\",\"2021-07-01 18:00:00\",\"2021-07-01 20:30:00\",\"2021-07-01 21:30:00\",\"2021-07-02 03:30:00\",\"2021-07-02 04:30:00\",\"2021-07-02 05:30:00\",\"2021-07-02 07:30:00\",\"2021-07-02 08:30:00\",\"2021-07-02 09:30:00\",\"2021-07-02 10:30:00\",\"2021-07-02 11:30:00\",\"2021-07-02 12:00:00\",\"2021-07-02 12:30:00\",\"2021-07-02 13:30:00\",\"2021-07-02 14:30:00\",\"2021-07-02 15:30:00\",\"2021-07-02 16:30:00\",\"2021-07-02 17:00:00\",\"2021-07-02 19:00:00\",\"2021-07-02 20:00:00\",\"2021-07-03 01:00:00\",\"2021-07-03 02:00:00\",\"2021-07-03 03:00:00\",\"2021-07-03 07:00:00\",\"2021-07-03 08:00:00\",\"2021-07-03 10:00:00\",\"2021-07-03 11:00:00\",\"2021-07-03 12:00:00\",\"2021-07-03 13:30:00\",\"2021-07-03 14:00:00\",\"2021-07-03 15:00:00\",\"2021-07-03 16:30:00\",\"2021-07-03 17:00:00\",\"2021-07-03 18:00:00\",\"2021-07-03 18:30:00\",\"2021-07-03 19:30:00\",\"2021-07-03 20:00:00\",\"2021-07-03 21:00:00\",\"2021-07-03 21:30:00\",\"2021-07-03 22:00:00\",\"2021-07-03 22:30:00\",\"2021-07-03 23:00:00\",\"2021-07-03 23:30:00\",\"2021-07-04 00:30:00\",\"2021-07-04 01:00:00\",\"2021-07-04 01:30:00\",\"2021-07-04 02:00:00\",\"2021-07-04 03:00:00\",\"2021-07-04 04:00:00\",\"2021-07-04 05:00:00\",\"2021-07-04 06:00:00\",\"2021-07-04 07:00:00\",\"2021-07-04 08:00:00\",\"2021-07-04 09:00:00\",\"2021-07-04 09:30:00\",\"2021-07-04 10:00:00\",\"2021-07-04 10:30:00\",\"2021-07-04 11:30:00\",\"2021-07-04 12:00:00\",\"2021-07-04 12:30:00\",\"2021-07-04 13:00:00\",\"2021-07-04 13:30:00\",\"2021-07-04 14:00:00\",\"2021-07-04 14:30:00\",\"2021-07-04 15:00:00\",\"2021-07-04 15:30:00\",\"2021-07-04 16:00:00\",\"2021-07-04 16:30:00\",\"2021-07-04 17:00:00\",\"2021-07-04 18:30:00\",\"2021-07-04 19:30:00\",\"2021-07-04 20:30:00\",\"2021-07-04 21:30:00\",\"2021-07-04 22:30:00\",\"2021-07-04 23:00:00\",\"2021-07-04 23:30:00\",\"2021-07-05 00:00:00\",\"2021-07-05 01:00:00\",\"2021-07-05 01:30:00\",\"2021-07-05 02:00:00\",\"2021-07-05 02:30:00\",\"2021-07-05 03:00:00\",\"2021-07-05 03:30:00\",\"2021-07-05 04:00:00\",\"2021-07-05 04:30:00\",\"2021-07-05 05:00:00\",\"2021-07-05 06:00:00\",\"2021-07-05 07:00:00\",\"2021-07-05 08:00:00\",\"2021-07-05 09:00:00\",\"2021-07-05 09:30:00\",\"2021-07-05 10:00:00\",\"2021-07-05 11:00:00\",\"2021-07-05 12:00:00\",\"2021-07-05 12:30:00\",\"2021-07-05 14:00:00\",\"2021-07-05 15:00:00\",\"2021-07-05 16:00:00\",\"2021-07-05 16:30:00\",\"2021-07-05 18:00:00\",\"2021-07-05 18:30:00\",\"2021-07-05 19:00:00\",\"2021-07-05 19:30:00\",\"2021-07-05 20:00:00\",\"2021-07-05 20:30:00\",\"2021-07-05 21:00:00\",\"2021-07-05 21:30:00\",\"2021-07-05 22:00:00\",\"2021-07-05 22:30:00\",\"2021-07-05 23:00:00\",\"2021-07-05 23:30:00\",\"2021-07-06 00:00:00\",\"2021-07-06 00:30:00\",\"2021-07-06 01:00:00\",\"2021-07-06 01:30:00\",\"2021-07-06 02:00:00\",\"2021-07-06 02:30:00\",\"2021-07-06 03:00:00\",\"2021-07-06 03:30:00\",\"2021-07-06 04:00:00\",\"2021-07-06 04:30:00\",\"2021-07-06 05:00:00\",\"2021-07-06 06:00:00\",\"2021-07-06 06:30:00\",\"2021-07-06 07:30:00\",\"2021-07-06 08:30:00\",\"2021-07-06 09:00:00\",\"2021-07-06 10:00:00\",\"2021-07-06 10:30:00\",\"2021-07-06 11:00:00\",\"2021-07-06 12:00:00\",\"2021-07-06 12:30:00\",\"2021-07-06 13:30:00\",\"2021-07-06 14:30:00\",\"2021-07-06 15:30:00\",\"2021-07-06 18:00:00\",\"2021-07-06 19:00:00\",\"2021-07-06 19:30:00\",\"2021-07-06 20:00:00\",\"2021-07-06 20:30:00\",\"2021-07-06 21:00:00\",\"2021-07-06 21:30:00\",\"2021-07-06 22:00:00\",\"2021-07-06 22:30:00\",\"2021-07-06 23:30:00\",\"2021-07-07 00:30:00\",\"2021-07-07 01:30:00\",\"2021-07-07 02:00:00\",\"2021-07-07 02:30:00\",\"2021-07-07 03:00:00\",\"2021-07-07 03:30:00\",\"2021-07-07 04:30:00\",\"2021-07-07 05:30:00\",\"2021-07-07 07:00:00\",\"2021-07-07 07:30:00\",\"2021-07-07 08:00:00\",\"2021-07-07 09:00:00\",\"2021-07-07 10:30:00\",\"2021-07-07 11:00:00\",\"2021-07-07 12:00:00\",\"2021-07-07 13:30:00\",\"2021-07-07 14:30:00\",\"2021-07-07 15:00:00\",\"2021-07-07 16:00:00\",\"2021-07-07 17:00:00\",\"2021-07-07 18:00:00\",\"2021-07-07 18:30:00\",\"2021-07-07 19:00:00\",\"2021-07-07 19:30:00\",\"2021-07-07 20:00:00\",\"2021-07-07 20:30:00\",\"2021-07-07 21:00:00\",\"2021-07-07 21:30:00\",\"2021-07-07 22:30:00\",\"2021-07-07 23:00:00\",\"2021-07-07 23:30:00\",\"2021-07-08 00:00:00\",\"2021-07-08 00:30:00\",\"2021-07-08 01:00:00\",\"2021-07-08 01:30:00\",\"2021-07-08 02:00:00\",\"2021-07-08 02:30:00\",\"2021-07-08 03:00:00\",\"2021-07-08 03:30:00\",\"2021-07-08 04:00:00\",\"2021-07-08 04:30:00\",\"2021-07-08 05:00:00\",\"2021-07-08 06:30:00\",\"2021-07-08 08:00:00\",\"2021-07-08 08:30:00\",\"2021-07-08 10:30:00\",\"2021-07-08 11:00:00\",\"2021-07-08 11:30:00\",\"2021-07-08 12:30:00\",\"2021-07-08 13:30:00\",\"2021-07-08 14:00:00\",\"2021-07-08 21:00:00\",\"2021-07-08 22:00:00\",\"2021-07-09 01:00:00\",\"2021-07-09 02:30:00\",\"2021-07-09 03:00:00\",\"2021-07-09 03:30:00\",\"2021-07-09 04:00:00\",\"2021-07-09 04:30:00\",\"2021-07-09 05:00:00\",\"2021-07-09 05:30:00\",\"2021-07-09 06:30:00\",\"2021-07-09 07:00:00\",\"2021-07-09 07:30:00\",\"2021-07-09 08:30:00\",\"2021-07-09 09:00:00\",\"2021-07-09 09:30:00\",\"2021-07-09 10:30:00\",\"2021-07-09 11:00:00\",\"2021-07-09 12:00:00\",\"2021-07-09 13:00:00\",\"2021-07-09 13:30:00\",\"2021-07-09 14:30:00\",\"2021-07-09 15:00:00\",\"2021-07-09 15:30:00\",\"2021-07-09 16:00:00\",\"2021-07-09 16:30:00\",\"2021-07-09 17:30:00\",\"2021-07-09 18:00:00\",\"2021-07-09 18:30:00\",\"2021-07-09 19:30:00\",\"2021-07-09 20:00:00\",\"2021-07-09 20:30:00\",\"2021-07-09 21:00:00\",\"2021-07-09 22:00:00\",\"2021-07-09 22:30:00\",\"2021-07-09 23:00:00\",\"2021-07-09 23:30:00\",\"2021-07-10 00:30:00\",\"2021-07-10 01:00:00\",\"2021-07-10 01:30:00\",\"2021-07-10 02:00:00\",\"2021-07-10 03:00:00\",\"2021-07-10 04:00:00\",\"2021-07-10 04:30:00\",\"2021-07-10 05:00:00\",\"2021-07-10 05:30:00\",\"2021-07-10 06:00:00\",\"2021-07-10 06:30:00\",\"2021-07-10 07:30:00\",\"2021-07-10 08:30:00\",\"2021-07-10 09:30:00\",\"2021-07-10 10:00:00\",\"2021-07-10 10:30:00\",\"2021-07-10 11:00:00\",\"2021-07-10 12:00:00\",\"2021-07-10 13:30:00\",\"2021-07-10 15:00:00\",\"2021-07-10 16:00:00\",\"2021-07-10 17:30:00\",\"2021-07-10 18:00:00\",\"2021-07-10 18:30:00\",\"2021-07-10 19:00:00\",\"2021-07-10 19:30:00\",\"2021-07-10 20:00:00\",\"2021-07-10 20:30:00\",\"2021-07-10 21:00:00\",\"2021-07-10 21:30:00\",\"2021-07-10 22:00:00\",\"2021-07-10 22:30:00\",\"2021-07-10 23:00:00\",\"2021-07-10 23:30:00\",\"2021-07-11 00:00:00\",\"2021-07-11 00:30:00\",\"2021-07-11 01:00:00\",\"2021-07-11 01:30:00\",\"2021-07-11 02:00:00\",\"2021-07-11 03:00:00\",\"2021-07-11 03:30:00\",\"2021-07-11 04:30:00\",\"2021-07-11 05:00:00\",\"2021-07-11 06:00:00\",\"2021-07-11 07:00:00\",\"2021-07-11 08:30:00\",\"2021-07-11 09:30:00\",\"2021-07-11 10:00:00\",\"2021-07-11 10:30:00\",\"2021-07-11 11:00:00\",\"2021-07-11 12:00:00\",\"2021-07-11 12:30:00\",\"2021-07-11 13:30:00\",\"2021-07-11 14:30:00\",\"2021-07-11 16:30:00\",\"2021-07-11 17:30:00\",\"2021-07-11 18:30:00\",\"2021-07-11 19:30:00\",\"2021-07-11 20:30:00\",\"2021-07-11 21:30:00\",\"2021-07-11 22:30:00\",\"2021-07-11 23:30:00\",\"2021-07-12 00:30:00\",\"2021-07-12 01:30:00\",\"2021-07-12 02:30:00\",\"2021-07-12 03:00:00\",\"2021-07-12 04:00:00\",\"2021-07-12 08:00:00\",\"2021-07-12 08:30:00\",\"2021-07-12 10:30:00\",\"2021-07-12 11:00:00\",\"2021-07-12 12:00:00\",\"2021-07-12 12:30:00\",\"2021-07-12 13:00:00\",\"2021-07-12 14:30:00\",\"2021-07-12 15:30:00\",\"2021-07-12 17:00:00\",\"2021-07-12 18:00:00\",\"2021-07-12 18:30:00\",\"2021-07-12 19:00:00\",\"2021-07-12 19:30:00\",\"2021-07-12 20:00:00\",\"2021-07-12 20:30:00\",\"2021-07-12 21:00:00\",\"2021-07-12 21:30:00\",\"2021-07-12 22:00:00\",\"2021-07-12 23:00:00\",\"2021-07-13 09:00:00\",\"2021-07-13 09:30:00\",\"2021-07-13 10:00:00\",\"2021-07-13 11:00:00\",\"2021-07-13 13:00:00\",\"2021-07-13 14:30:00\",\"2021-07-13 15:00:00\",\"2021-07-13 16:00:00\",\"2021-07-13 17:00:00\",\"2021-07-13 20:30:00\",\"2021-07-14 09:30:00\",\"2021-07-14 11:30:00\",\"2021-07-14 12:30:00\",\"2021-07-14 15:00:00\",\"2021-07-14 19:00:00\",\"2021-07-14 21:00:00\",\"2021-07-14 22:00:00\",\"2021-07-15 00:00:00\",\"2021-07-15 01:00:00\",\"2021-07-15 01:30:00\",\"2021-07-15 03:30:00\",\"2021-07-15 04:30:00\"],\"xaxis\":\"x\",\"y\":[49.33,40.56,43.58,44.09,44.09,44.09,47.46,46.68,45.59,47.98,47.01,45.89,46.42,43.91,45.04,45.14,44.97,44.8,44.87,45.37,45.38,45.12,44.65,44.59,45.46,45.56,45.71,45.629999999999995,45.55,45.75,45.8,45.765,45.73,45.665,45.6,44.05,44.67,45.45,45.53,44.78,44.915,45.05,44.915,44.9075,44.9,45.2,45.29,45.315,45.34,45.365,45.39,45.4,45.41,45.34,45.3,45.345,45.39,44.66,44.545,44.43,44.2,44.19,44.63,44.75,44.49,44.475,44.46,44.68,44.72,44.76,44.96,44.03,44.28,44.92,44.65,44.48,44.32,44.78,44.78,44.65,44.96,45.27,45.15,45.09,45.53,45.48,45.49,45.33,45.25,45.22,43.77,44.05500000000001,44.34,44.05500000000001,43.77,46.26,47.78,47.07,45.14,45.144999999999996,45.15,45.52,46.2,47.86,47.65,48.07,46.57,46.52,46.58,46.64,45.69,45.39,45.45,45.19,44.89,44.45,44.870000000000005,44.825,44.78,44.02,44.465,44.91,44.82,44.79,44.63,43.68,43.11,42.99,43.25,43.43,43.79,44.33,44.17,45.27,45.21,45.15,45.09,43.82,44.26,44.7,44.94,45.16,45.19,45.31,44.96,44.92,44.88,45.32,43.92,43.37,44.98,44.34,44.03,44.11,45.59,45.68,45.46,45.48,44.3,43.74,45.48,45.52,45.34,45.27,45.63,45.765,45.9,46.09,45.34,45.3,46.98,46.955,46.93,46.89,46.519999999999996,46.15,44.89,42.83,42.5,41.78,43.38,46.32,46.66,42.55,44.03,44.95,44.665000000000006,44.38,43.12,42.5,41.98,42.065,42.15,41.81,41.64,42.06,41.91,42.97,42.95,43.19,44.6,43.91,44.515,45.120000000000005,45.1,45.08,44.98,44.775,44.57,45.22,45.87,46.04,45.49,45.23,44.57,44.3,44.209999999999994,44.12,44.155,44.19,45.09,44.92,44.64,46.29,45.75,45.53,44.58,44.89,45.39,46.95,46.73,46.71,46.43,43.4,43.97,43.74,44.31,44.88,46.76,46.7,44.87,45.06,45.43,45.8,44.38,44.275,44.16,44.125,44.09,43.95,43.945,43.94,43.86,43.78,44.12,43.97,46.11,45.16,45.095,45.03,44.99,44.95,44.8,44.834999999999994,44.87,44.88,44.72,44.71,44.7,44.8,45.08,45.09,45.29,45.295,45.3,45.23,45.28,45.33,45.62,45.51,45.44,45.44,45.3,45.06,45.18,44.77,46.62,46.51,46.4,46.114999999999995,46.2275,46.34,43.73,43.65,43.49,46.72,46.34,46.42,43.98,43.94,44.38,44.51,44.495,44.4925,44.49,44.515,44.54,44.57,44.57,44.595,44.62,44.44,46.02,45.94,45.86,46.04,46.105000000000004,46.17,45.89,45.855000000000004,45.82,44.12,44.93,44.6,45.045,45.49,46.11,46.085,46.06,45.11,47.5,47.32,43.73,44.07,44.27,44.73,45.66,45.36,47.54,48.25,48.69,48.175,47.66,48.239999999999995,48.82,45.58,44.42,44.42,44.195,43.97,43.9,44.49,44.19,43.89,44.205,44.52,44.61,44.4,45.19,45.19,46.37,47.37,47.175,46.98,45.31,48.83,48.57,46.905,45.24,45.19,44.57,44.15,44.370000000000005,44.59,44.53,44.47,46.0,49.22,49.185,49.15,49.8,49.599999999999994,49.56,49.52,44.79,44.765,44.74,44.64,44.45,44.92,45.35,45.269999999999996,45.19,44.87,44.64,45.15,44.95,45.040000000000006,45.13,45.07,45.07,45.07,45.1,45.13,45.07,45.47,48.41,48.79,48.735,48.68,48.57,48.22,48.12,45.71,44.72,44.51,44.5,43.94,44.26,44.58,43.85,43.86,44.08,44.36,44.42,45.41,45.05,45.02,44.97,44.54,44.62,44.64,44.79,45.22,45.22,44.83,44.98,45.315,45.73,45.58,45.47,45.86,45.79,45.97,46.019999999999996,46.07,46.57,46.39,46.06,45.66,44.96,44.805,44.65,44.65,44.65,44.535,44.5725,44.57125,44.57,44.55,44.41,44.72,44.739999999999995,44.76,44.96,44.97,45.07,45.23,45.22,45.27,45.19,45.175,45.16,45.105,45.1075,45.11,45.13,45.4,45.37,45.405,45.44,45.61,45.69,46.11,46.53,45.43,45.230000000000004,45.03,44.5,44.51,44.98,44.83,44.72,45.11,45.5,45.57,45.475,45.38,45.14,45.09,45.02,45.045,45.07,45.08,45.17,45.19,45.18,45.17,45.16,45.16,45.16,45.125,45.09,45.120000000000005,45.15,45.14,45.13,44.88,44.88,44.88,45.105000000000004,45.33,45.29,44.8,44.4,44.41,44.57,44.53,44.55,44.57,44.52,44.575,44.63,44.7,44.67,44.64,44.65,44.65,44.65,44.71,44.77,44.87,45.02,45.09,45.5,45.34,45.3,45.17,45.04,44.38,44.260000000000005,44.14,44.1,44.33,44.56,45.14,45.19,45.24,46.27,46.28,46.28,46.25,46.22,46.33,46.31,46.29,44.64,44.575,44.51,44.76,45.01,45.02,44.33,44.67,45.3,42.92,42.3,43.76,44.96,44.650000000000006,44.34,45.38,45.22,45.06,44.98,45.22,45.21,45.2,45.53,45.52,45.51,45.27,45.29,44.97,44.89,45.05,45.55,45.36,45.82,45.86,45.79,45.72,45.06,45.105000000000004,45.15,44.41,44.09,44.13,44.45,44.36,44.57,44.83,44.72,44.61,44.61,44.59,44.55,44.55,44.81,45.08,45.11,45.14,44.76,44.64,44.735,44.83,44.82,44.88,44.88,44.89,44.9,44.82,44.86,44.9,45.36,45.29,45.22,45.224999999999994,45.23,45.224999999999994,45.22,45.41,44.9,44.82,44.86,45.0,45.05,45.1,45.41,44.935,44.46,44.38,44.3,44.83,41.56,41.61,41.66,44.56,43.38,44.644999999999996,44.442499999999995,44.24,45.74,45.25,45.21,44.84,44.92,45.0,45.21,45.245000000000005,45.2375,45.23,45.04,44.97,44.925,44.88,44.99,45.27,45.22,45.22,45.39,44.81,45.285,45.4025,45.52,44.7,44.27,43.32,41.760000000000005,40.2,44.87,45.325,45.78,45.370000000000005,44.96,43.4,46.94,45.29,44.81,47.6,41.06],\"yaxis\":\"y\"}],                        {\"legend\":{\"tracegroupgap\":0},\"margin\":{\"t\":60},\"template\":{\"data\":{\"bar\":[{\"error_x\":{\"color\":\"#2a3f5f\"},\"error_y\":{\"color\":\"#2a3f5f\"},\"marker\":{\"line\":{\"color\":\"#E5ECF6\",\"width\":0.5},\"pattern\":{\"fillmode\":\"overlay\",\"size\":10,\"solidity\":0.2}},\"type\":\"bar\"}],\"barpolar\":[{\"marker\":{\"line\":{\"color\":\"#E5ECF6\",\"width\":0.5},\"pattern\":{\"fillmode\":\"overlay\",\"size\":10,\"solidity\":0.2}},\"type\":\"barpolar\"}],\"carpet\":[{\"aaxis\":{\"endlinecolor\":\"#2a3f5f\",\"gridcolor\":\"white\",\"linecolor\":\"white\",\"minorgridcolor\":\"white\",\"startlinecolor\":\"#2a3f5f\"},\"baxis\":{\"endlinecolor\":\"#2a3f5f\",\"gridcolor\":\"white\",\"linecolor\":\"white\",\"minorgridcolor\":\"white\",\"startlinecolor\":\"#2a3f5f\"},\"type\":\"carpet\"}],\"choropleth\":[{\"colorbar\":{\"outlinewidth\":0,\"ticks\":\"\"},\"type\":\"choropleth\"}],\"contour\":[{\"colorbar\":{\"outlinewidth\":0,\"ticks\":\"\"},\"colorscale\":[[0.0,\"#0d0887\"],[0.1111111111111111,\"#46039f\"],[0.2222222222222222,\"#7201a8\"],[0.3333333333333333,\"#9c179e\"],[0.4444444444444444,\"#bd3786\"],[0.5555555555555556,\"#d8576b\"],[0.6666666666666666,\"#ed7953\"],[0.7777777777777778,\"#fb9f3a\"],[0.8888888888888888,\"#fdca26\"],[1.0,\"#f0f921\"]],\"type\":\"contour\"}],\"contourcarpet\":[{\"colorbar\":{\"outlinewidth\":0,\"ticks\":\"\"},\"type\":\"contourcarpet\"}],\"heatmap\":[{\"colorbar\":{\"outlinewidth\":0,\"ticks\":\"\"},\"colorscale\":[[0.0,\"#0d0887\"],[0.1111111111111111,\"#46039f\"],[0.2222222222222222,\"#7201a8\"],[0.3333333333333333,\"#9c179e\"],[0.4444444444444444,\"#bd3786\"],[0.5555555555555556,\"#d8576b\"],[0.6666666666666666,\"#ed7953\"],[0.7777777777777778,\"#fb9f3a\"],[0.8888888888888888,\"#fdca26\"],[1.0,\"#f0f921\"]],\"type\":\"heatmap\"}],\"heatmapgl\":[{\"colorbar\":{\"outlinewidth\":0,\"ticks\":\"\"},\"colorscale\":[[0.0,\"#0d0887\"],[0.1111111111111111,\"#46039f\"],[0.2222222222222222,\"#7201a8\"],[0.3333333333333333,\"#9c179e\"],[0.4444444444444444,\"#bd3786\"],[0.5555555555555556,\"#d8576b\"],[0.6666666666666666,\"#ed7953\"],[0.7777777777777778,\"#fb9f3a\"],[0.8888888888888888,\"#fdca26\"],[1.0,\"#f0f921\"]],\"type\":\"heatmapgl\"}],\"histogram\":[{\"marker\":{\"pattern\":{\"fillmode\":\"overlay\",\"size\":10,\"solidity\":0.2}},\"type\":\"histogram\"}],\"histogram2d\":[{\"colorbar\":{\"outlinewidth\":0,\"ticks\":\"\"},\"colorscale\":[[0.0,\"#0d0887\"],[0.1111111111111111,\"#46039f\"],[0.2222222222222222,\"#7201a8\"],[0.3333333333333333,\"#9c179e\"],[0.4444444444444444,\"#bd3786\"],[0.5555555555555556,\"#d8576b\"],[0.6666666666666666,\"#ed7953\"],[0.7777777777777778,\"#fb9f3a\"],[0.8888888888888888,\"#fdca26\"],[1.0,\"#f0f921\"]],\"type\":\"histogram2d\"}],\"histogram2dcontour\":[{\"colorbar\":{\"outlinewidth\":0,\"ticks\":\"\"},\"colorscale\":[[0.0,\"#0d0887\"],[0.1111111111111111,\"#46039f\"],[0.2222222222222222,\"#7201a8\"],[0.3333333333333333,\"#9c179e\"],[0.4444444444444444,\"#bd3786\"],[0.5555555555555556,\"#d8576b\"],[0.6666666666666666,\"#ed7953\"],[0.7777777777777778,\"#fb9f3a\"],[0.8888888888888888,\"#fdca26\"],[1.0,\"#f0f921\"]],\"type\":\"histogram2dcontour\"}],\"mesh3d\":[{\"colorbar\":{\"outlinewidth\":0,\"ticks\":\"\"},\"type\":\"mesh3d\"}],\"parcoords\":[{\"line\":{\"colorbar\":{\"outlinewidth\":0,\"ticks\":\"\"}},\"type\":\"parcoords\"}],\"pie\":[{\"automargin\":true,\"type\":\"pie\"}],\"scatter\":[{\"marker\":{\"colorbar\":{\"outlinewidth\":0,\"ticks\":\"\"}},\"type\":\"scatter\"}],\"scatter3d\":[{\"line\":{\"colorbar\":{\"outlinewidth\":0,\"ticks\":\"\"}},\"marker\":{\"colorbar\":{\"outlinewidth\":0,\"ticks\":\"\"}},\"type\":\"scatter3d\"}],\"scattercarpet\":[{\"marker\":{\"colorbar\":{\"outlinewidth\":0,\"ticks\":\"\"}},\"type\":\"scattercarpet\"}],\"scattergeo\":[{\"marker\":{\"colorbar\":{\"outlinewidth\":0,\"ticks\":\"\"}},\"type\":\"scattergeo\"}],\"scattergl\":[{\"marker\":{\"colorbar\":{\"outlinewidth\":0,\"ticks\":\"\"}},\"type\":\"scattergl\"}],\"scattermapbox\":[{\"marker\":{\"colorbar\":{\"outlinewidth\":0,\"ticks\":\"\"}},\"type\":\"scattermapbox\"}],\"scatterpolar\":[{\"marker\":{\"colorbar\":{\"outlinewidth\":0,\"ticks\":\"\"}},\"type\":\"scatterpolar\"}],\"scatterpolargl\":[{\"marker\":{\"colorbar\":{\"outlinewidth\":0,\"ticks\":\"\"}},\"type\":\"scatterpolargl\"}],\"scatterternary\":[{\"marker\":{\"colorbar\":{\"outlinewidth\":0,\"ticks\":\"\"}},\"type\":\"scatterternary\"}],\"surface\":[{\"colorbar\":{\"outlinewidth\":0,\"ticks\":\"\"},\"colorscale\":[[0.0,\"#0d0887\"],[0.1111111111111111,\"#46039f\"],[0.2222222222222222,\"#7201a8\"],[0.3333333333333333,\"#9c179e\"],[0.4444444444444444,\"#bd3786\"],[0.5555555555555556,\"#d8576b\"],[0.6666666666666666,\"#ed7953\"],[0.7777777777777778,\"#fb9f3a\"],[0.8888888888888888,\"#fdca26\"],[1.0,\"#f0f921\"]],\"type\":\"surface\"}],\"table\":[{\"cells\":{\"fill\":{\"color\":\"#EBF0F8\"},\"line\":{\"color\":\"white\"}},\"header\":{\"fill\":{\"color\":\"#C8D4E3\"},\"line\":{\"color\":\"white\"}},\"type\":\"table\"}]},\"layout\":{\"annotationdefaults\":{\"arrowcolor\":\"#2a3f5f\",\"arrowhead\":0,\"arrowwidth\":1},\"autotypenumbers\":\"strict\",\"coloraxis\":{\"colorbar\":{\"outlinewidth\":0,\"ticks\":\"\"}},\"colorscale\":{\"diverging\":[[0,\"#8e0152\"],[0.1,\"#c51b7d\"],[0.2,\"#de77ae\"],[0.3,\"#f1b6da\"],[0.4,\"#fde0ef\"],[0.5,\"#f7f7f7\"],[0.6,\"#e6f5d0\"],[0.7,\"#b8e186\"],[0.8,\"#7fbc41\"],[0.9,\"#4d9221\"],[1,\"#276419\"]],\"sequential\":[[0.0,\"#0d0887\"],[0.1111111111111111,\"#46039f\"],[0.2222222222222222,\"#7201a8\"],[0.3333333333333333,\"#9c179e\"],[0.4444444444444444,\"#bd3786\"],[0.5555555555555556,\"#d8576b\"],[0.6666666666666666,\"#ed7953\"],[0.7777777777777778,\"#fb9f3a\"],[0.8888888888888888,\"#fdca26\"],[1.0,\"#f0f921\"]],\"sequentialminus\":[[0.0,\"#0d0887\"],[0.1111111111111111,\"#46039f\"],[0.2222222222222222,\"#7201a8\"],[0.3333333333333333,\"#9c179e\"],[0.4444444444444444,\"#bd3786\"],[0.5555555555555556,\"#d8576b\"],[0.6666666666666666,\"#ed7953\"],[0.7777777777777778,\"#fb9f3a\"],[0.8888888888888888,\"#fdca26\"],[1.0,\"#f0f921\"]]},\"colorway\":[\"#636efa\",\"#EF553B\",\"#00cc96\",\"#ab63fa\",\"#FFA15A\",\"#19d3f3\",\"#FF6692\",\"#B6E880\",\"#FF97FF\",\"#FECB52\"],\"font\":{\"color\":\"#2a3f5f\"},\"geo\":{\"bgcolor\":\"white\",\"lakecolor\":\"white\",\"landcolor\":\"#E5ECF6\",\"showlakes\":true,\"showland\":true,\"subunitcolor\":\"white\"},\"hoverlabel\":{\"align\":\"left\"},\"hovermode\":\"closest\",\"mapbox\":{\"style\":\"light\"},\"paper_bgcolor\":\"white\",\"plot_bgcolor\":\"#E5ECF6\",\"polar\":{\"angularaxis\":{\"gridcolor\":\"white\",\"linecolor\":\"white\",\"ticks\":\"\"},\"bgcolor\":\"#E5ECF6\",\"radialaxis\":{\"gridcolor\":\"white\",\"linecolor\":\"white\",\"ticks\":\"\"}},\"scene\":{\"xaxis\":{\"backgroundcolor\":\"#E5ECF6\",\"gridcolor\":\"white\",\"gridwidth\":2,\"linecolor\":\"white\",\"showbackground\":true,\"ticks\":\"\",\"zerolinecolor\":\"white\"},\"yaxis\":{\"backgroundcolor\":\"#E5ECF6\",\"gridcolor\":\"white\",\"gridwidth\":2,\"linecolor\":\"white\",\"showbackground\":true,\"ticks\":\"\",\"zerolinecolor\":\"white\"},\"zaxis\":{\"backgroundcolor\":\"#E5ECF6\",\"gridcolor\":\"white\",\"gridwidth\":2,\"linecolor\":\"white\",\"showbackground\":true,\"ticks\":\"\",\"zerolinecolor\":\"white\"}},\"shapedefaults\":{\"line\":{\"color\":\"#2a3f5f\"}},\"ternary\":{\"aaxis\":{\"gridcolor\":\"white\",\"linecolor\":\"white\",\"ticks\":\"\"},\"baxis\":{\"gridcolor\":\"white\",\"linecolor\":\"white\",\"ticks\":\"\"},\"bgcolor\":\"#E5ECF6\",\"caxis\":{\"gridcolor\":\"white\",\"linecolor\":\"white\",\"ticks\":\"\"}},\"title\":{\"x\":0.05},\"xaxis\":{\"automargin\":true,\"gridcolor\":\"white\",\"linecolor\":\"white\",\"ticks\":\"\",\"title\":{\"standoff\":15},\"zerolinecolor\":\"white\",\"zerolinewidth\":2},\"yaxis\":{\"automargin\":true,\"gridcolor\":\"white\",\"linecolor\":\"white\",\"ticks\":\"\",\"title\":{\"standoff\":15},\"zerolinecolor\":\"white\",\"zerolinewidth\":2}}},\"xaxis\":{\"anchor\":\"y\",\"domain\":[0.0,1.0],\"title\":{\"text\":\"time\"}},\"yaxis\":{\"anchor\":\"x\",\"domain\":[0.0,1.0],\"title\":{\"text\":\"value\"}}},                        {\"responsive\": true}                    ).then(function(){\n",
       "                            \n",
       "var gd = document.getElementById('c38327ff-9052-4b88-addc-0add2eadb341');\n",
       "var x = new MutationObserver(function (mutations, observer) {{\n",
       "        var display = window.getComputedStyle(gd).display;\n",
       "        if (!display || display === 'none') {{\n",
       "            console.log([gd, 'removed!']);\n",
       "            Plotly.purge(gd);\n",
       "            observer.disconnect();\n",
       "        }}\n",
       "}});\n",
       "\n",
       "// Listen for the removal of the full notebook cells\n",
       "var notebookContainer = gd.closest('#notebook-container');\n",
       "if (notebookContainer) {{\n",
       "    x.observe(notebookContainer, {childList: true});\n",
       "}}\n",
       "\n",
       "// Listen for the clearing of the current output cell\n",
       "var outputEl = gd.closest('.output');\n",
       "if (outputEl) {{\n",
       "    x.observe(outputEl, {childList: true});\n",
       "}}\n",
       "\n",
       "                        })                };                });            </script>        </div>"
      ]
     },
     "metadata": {},
     "output_type": "display_data"
    },
    {
     "name": "stdout",
     "output_type": "stream",
     "text": [
      "23-1-2\n"
     ]
    }
   ],
   "source": [
    "m = 23\n",
    "n = 1\n",
    "s = 2\n",
    "\n",
    "df=pd.read_csv(r'C:\\Users\\Tosha.E.T\\Desktop\\Sinotech\\716\\{0}-{1}-{2}_clean.csv'.format(m,n,s))\n",
    "df=df[df['value']>40]\n",
    "df=df[df['value']<50]\n",
    "df = df.reset_index()\n",
    "\n",
    "i = 1\n",
    "while i<(len(df[\"value\"])-1):\n",
    "    a = df[\"value\"][i-1]\n",
    "    b = df[\"value\"][i]\n",
    "    c = df[\"value\"][i+1]\n",
    "    if (abs(b-c)+abs(a-b))/2>abs(c-a)*1.5:\n",
    "        df[\"value\"][i] = (a+c)/2\n",
    "        i=i+1\n",
    "    else:\n",
    "        i=i+1\n",
    "df.to_csv(r'C:\\Users\\Tosha.E.T\\Desktop\\Sinotech\\716\\{0}-{1}-{2}_cut.csv'.format(m,n,s))\n",
    "print(\"cut save!!\")\n",
    "#---------------------------------------------------\n",
    "fig = px.line(df, y='value', x='time')        \n",
    "fig.show()\n",
    "print(\"{0}-{1}-{2}\".format(m,n,s))"
   ]
  },
  {
   "cell_type": "code",
   "execution_count": 31,
   "id": "positive-actress",
   "metadata": {},
   "outputs": [
    {
     "name": "stdout",
     "output_type": "stream",
     "text": [
      "cut save!!\n"
     ]
    },
    {
     "name": "stderr",
     "output_type": "stream",
     "text": [
      "<ipython-input-31-a6baaa47a69b>:16: SettingWithCopyWarning:\n",
      "\n",
      "\n",
      "A value is trying to be set on a copy of a slice from a DataFrame\n",
      "\n",
      "See the caveats in the documentation: https://pandas.pydata.org/pandas-docs/stable/user_guide/indexing.html#returning-a-view-versus-a-copy\n",
      "\n"
     ]
    },
    {
     "data": {
      "application/vnd.plotly.v1+json": {
       "config": {
        "plotlyServerURL": "https://plot.ly"
       },
       "data": [
        {
         "hovertemplate": "time=%{x}<br>value=%{y}<extra></extra>",
         "legendgroup": "",
         "line": {
          "color": "#636efa",
          "dash": "solid"
         },
         "mode": "lines",
         "name": "",
         "orientation": "v",
         "showlegend": false,
         "type": "scatter",
         "x": [
          "2021-06-16 12:00:00",
          "2021-06-16 13:00:00",
          "2021-06-16 13:30:00",
          "2021-06-16 14:00:00",
          "2021-06-16 14:30:00",
          "2021-06-16 15:00:00",
          "2021-06-16 17:00:00",
          "2021-06-16 17:30:00",
          "2021-06-16 18:00:00",
          "2021-06-16 18:30:00",
          "2021-06-16 19:00:00",
          "2021-06-16 19:30:00",
          "2021-06-16 20:00:00",
          "2021-06-16 21:00:00",
          "2021-06-16 23:30:00",
          "2021-06-17 00:30:00",
          "2021-06-17 02:00:00",
          "2021-06-17 02:30:00",
          "2021-06-17 03:30:00",
          "2021-06-17 04:30:00",
          "2021-06-17 05:30:00",
          "2021-06-17 06:00:00",
          "2021-06-17 06:30:00",
          "2021-06-17 07:00:00",
          "2021-06-17 07:30:00",
          "2021-06-17 08:30:00",
          "2021-06-17 09:30:00",
          "2021-06-17 10:30:00",
          "2021-06-17 12:00:00",
          "2021-06-17 14:00:00",
          "2021-06-17 15:00:00",
          "2021-06-17 15:30:00",
          "2021-06-17 16:30:00",
          "2021-06-17 17:00:00",
          "2021-06-17 18:00:00",
          "2021-06-17 18:30:00",
          "2021-06-17 19:00:00",
          "2021-06-17 19:30:00",
          "2021-06-17 20:00:00",
          "2021-06-17 20:30:00",
          "2021-06-17 21:30:00",
          "2021-06-17 22:30:00",
          "2021-06-17 23:30:00",
          "2021-06-18 02:00:00",
          "2021-06-18 03:00:00",
          "2021-06-18 07:30:00",
          "2021-06-18 08:00:00",
          "2021-06-18 09:00:00",
          "2021-06-18 10:00:00",
          "2021-06-18 11:00:00",
          "2021-06-18 13:00:00",
          "2021-06-18 13:30:00",
          "2021-06-18 14:00:00",
          "2021-06-18 14:30:00",
          "2021-06-18 15:00:00",
          "2021-06-18 15:30:00",
          "2021-06-18 16:00:00",
          "2021-06-18 16:30:00",
          "2021-06-18 17:00:00",
          "2021-06-18 17:30:00",
          "2021-06-18 18:00:00",
          "2021-06-18 19:00:00",
          "2021-06-18 19:30:00",
          "2021-06-18 20:00:00",
          "2021-06-18 20:30:00",
          "2021-06-18 21:00:00",
          "2021-06-18 21:30:00",
          "2021-06-18 22:00:00",
          "2021-06-18 22:30:00",
          "2021-06-18 23:30:00",
          "2021-06-19 01:00:00",
          "2021-06-19 01:30:00",
          "2021-06-19 02:00:00",
          "2021-06-19 03:00:00",
          "2021-06-19 04:00:00",
          "2021-06-19 04:30:00",
          "2021-06-19 05:30:00",
          "2021-06-19 06:00:00",
          "2021-06-19 06:30:00",
          "2021-06-19 07:00:00",
          "2021-06-19 08:00:00",
          "2021-06-19 09:30:00",
          "2021-06-19 10:00:00",
          "2021-06-19 11:30:00",
          "2021-06-19 12:30:00",
          "2021-06-19 14:30:00",
          "2021-06-19 16:00:00",
          "2021-06-19 17:00:00",
          "2021-06-19 17:30:00",
          "2021-06-19 18:30:00",
          "2021-06-19 19:30:00",
          "2021-06-19 20:30:00",
          "2021-06-19 22:30:00",
          "2021-06-19 23:30:00",
          "2021-06-20 00:30:00",
          "2021-06-20 01:30:00",
          "2021-06-20 02:30:00",
          "2021-06-20 03:30:00",
          "2021-06-20 05:30:00",
          "2021-06-20 06:30:00",
          "2021-06-20 07:30:00",
          "2021-06-20 08:30:00",
          "2021-06-20 09:30:00",
          "2021-06-20 10:30:00",
          "2021-06-20 11:30:00",
          "2021-06-20 12:30:00",
          "2021-06-20 13:30:00",
          "2021-06-20 17:30:00",
          "2021-06-20 18:30:00",
          "2021-06-20 20:30:00",
          "2021-06-20 21:30:00",
          "2021-06-21 00:30:00",
          "2021-06-21 01:30:00",
          "2021-06-21 04:30:00",
          "2021-06-21 05:30:00",
          "2021-06-21 07:00:00",
          "2021-06-21 07:30:00",
          "2021-06-21 09:30:00",
          "2021-06-21 10:30:00",
          "2021-06-21 12:30:00",
          "2021-06-21 15:00:00",
          "2021-06-21 15:30:00",
          "2021-06-21 16:30:00",
          "2021-06-21 17:30:00",
          "2021-06-21 18:30:00",
          "2021-06-21 19:00:00",
          "2021-06-21 20:00:00",
          "2021-06-21 21:00:00",
          "2021-06-21 22:00:00",
          "2021-06-21 22:30:00",
          "2021-06-21 23:00:00",
          "2021-06-21 23:30:00",
          "2021-06-22 00:00:00",
          "2021-06-22 01:00:00",
          "2021-06-22 01:30:00",
          "2021-06-22 02:00:00",
          "2021-06-22 02:30:00",
          "2021-06-22 03:30:00",
          "2021-06-22 04:30:00",
          "2021-06-22 05:00:00",
          "2021-06-22 06:00:00",
          "2021-06-22 07:00:00",
          "2021-06-22 08:00:00",
          "2021-06-22 08:30:00",
          "2021-06-22 09:30:00",
          "2021-06-22 12:30:00",
          "2021-06-22 13:30:00",
          "2021-06-22 14:30:00",
          "2021-06-22 15:30:00",
          "2021-06-22 16:30:00",
          "2021-06-22 22:30:00",
          "2021-06-23 00:30:00",
          "2021-06-23 01:30:00",
          "2021-06-23 07:00:00",
          "2021-06-23 07:30:00",
          "2021-06-23 08:30:00",
          "2021-06-23 10:30:00",
          "2021-06-23 12:30:00",
          "2021-06-23 13:00:00",
          "2021-06-23 14:00:00",
          "2021-06-23 14:30:00",
          "2021-06-23 15:00:00",
          "2021-06-23 17:30:00",
          "2021-06-23 18:00:00",
          "2021-06-23 18:30:00",
          "2021-06-23 19:00:00",
          "2021-06-23 20:00:00",
          "2021-06-23 22:00:00",
          "2021-06-23 22:30:00",
          "2021-06-23 23:00:00",
          "2021-06-23 23:30:00",
          "2021-06-24 00:00:00",
          "2021-06-24 00:30:00",
          "2021-06-24 01:30:00",
          "2021-06-24 02:00:00",
          "2021-06-24 04:30:00",
          "2021-06-24 05:30:00",
          "2021-06-24 07:00:00",
          "2021-06-24 08:00:00",
          "2021-06-24 11:00:00",
          "2021-06-24 11:30:00",
          "2021-06-24 12:00:00",
          "2021-06-24 12:30:00",
          "2021-06-24 13:00:00",
          "2021-06-24 13:30:00",
          "2021-06-24 14:00:00",
          "2021-06-24 14:30:00",
          "2021-06-24 15:00:00",
          "2021-06-24 15:30:00",
          "2021-06-24 16:00:00",
          "2021-06-24 16:30:00",
          "2021-06-24 19:30:00",
          "2021-06-24 20:30:00",
          "2021-06-24 21:00:00",
          "2021-06-24 21:30:00",
          "2021-06-24 22:30:00",
          "2021-06-24 23:30:00",
          "2021-06-25 00:00:00",
          "2021-06-25 01:00:00",
          "2021-06-25 03:00:00",
          "2021-06-25 04:00:00",
          "2021-06-25 04:30:00",
          "2021-06-25 05:00:00",
          "2021-06-25 05:30:00",
          "2021-06-25 06:30:00",
          "2021-06-25 07:30:00",
          "2021-06-25 08:30:00",
          "2021-06-25 10:30:00",
          "2021-06-25 11:30:00",
          "2021-06-25 13:30:00",
          "2021-06-25 15:00:00",
          "2021-06-25 16:00:00",
          "2021-06-26 09:00:00",
          "2021-06-26 09:30:00",
          "2021-06-26 10:00:00",
          "2021-06-26 10:30:00",
          "2021-06-26 11:00:00",
          "2021-06-26 11:30:00",
          "2021-06-26 12:00:00",
          "2021-06-26 12:30:00",
          "2021-06-26 13:00:00",
          "2021-06-26 13:30:00",
          "2021-06-26 14:00:00",
          "2021-06-26 14:30:00",
          "2021-06-26 16:30:00",
          "2021-06-26 17:00:00",
          "2021-06-26 17:30:00",
          "2021-06-26 18:00:00",
          "2021-06-26 18:30:00",
          "2021-06-26 19:00:00",
          "2021-06-26 19:30:00",
          "2021-06-26 20:00:00",
          "2021-06-26 20:30:00",
          "2021-06-26 21:00:00",
          "2021-06-26 22:00:00",
          "2021-06-27 09:30:00",
          "2021-06-27 10:30:00",
          "2021-06-27 12:30:00",
          "2021-06-27 14:00:00",
          "2021-06-27 16:30:00",
          "2021-06-27 19:30:00",
          "2021-06-27 20:30:00",
          "2021-06-27 21:00:00",
          "2021-06-27 21:30:00",
          "2021-06-27 22:00:00",
          "2021-06-27 22:30:00",
          "2021-06-27 23:00:00",
          "2021-06-27 23:30:00",
          "2021-06-28 12:00:00",
          "2021-06-28 13:00:00",
          "2021-06-28 15:00:00",
          "2021-06-28 15:30:00",
          "2021-06-28 16:00:00",
          "2021-06-28 16:30:00",
          "2021-06-28 17:00:00",
          "2021-06-29 09:00:00",
          "2021-06-29 09:30:00",
          "2021-06-29 10:00:00",
          "2021-06-29 10:30:00",
          "2021-06-29 11:00:00",
          "2021-06-29 11:30:00",
          "2021-06-29 12:30:00",
          "2021-06-29 14:30:00",
          "2021-06-29 15:30:00",
          "2021-06-29 17:00:00",
          "2021-06-29 17:30:00",
          "2021-06-29 18:30:00",
          "2021-06-29 19:30:00",
          "2021-06-29 20:30:00",
          "2021-06-30 10:30:00",
          "2021-06-30 12:30:00",
          "2021-06-30 13:00:00",
          "2021-06-30 14:00:00",
          "2021-06-30 15:00:00",
          "2021-06-30 16:00:00",
          "2021-06-30 16:30:00",
          "2021-06-30 17:00:00",
          "2021-06-30 18:00:00",
          "2021-06-30 19:00:00",
          "2021-06-30 19:30:00",
          "2021-06-30 20:30:00",
          "2021-06-30 21:00:00",
          "2021-06-30 21:30:00",
          "2021-06-30 22:00:00",
          "2021-06-30 23:00:00",
          "2021-07-01 00:00:00",
          "2021-07-01 00:30:00",
          "2021-07-01 01:00:00",
          "2021-07-01 02:00:00",
          "2021-07-01 03:00:00",
          "2021-07-01 04:00:00",
          "2021-07-01 07:00:00",
          "2021-07-01 07:30:00",
          "2021-07-01 09:00:00",
          "2021-07-01 09:30:00",
          "2021-07-01 11:00:00",
          "2021-07-01 11:30:00",
          "2021-07-01 12:00:00",
          "2021-07-01 16:30:00",
          "2021-07-01 17:30:00",
          "2021-07-01 18:00:00",
          "2021-07-01 19:00:00",
          "2021-07-01 19:30:00",
          "2021-07-01 20:00:00",
          "2021-07-01 20:30:00",
          "2021-07-01 21:00:00",
          "2021-07-01 22:00:00",
          "2021-07-02 01:00:00",
          "2021-07-02 02:00:00",
          "2021-07-02 03:00:00",
          "2021-07-02 04:00:00",
          "2021-07-02 05:00:00",
          "2021-07-02 05:30:00",
          "2021-07-02 09:00:00",
          "2021-07-02 09:30:00",
          "2021-07-02 10:00:00",
          "2021-07-02 11:00:00",
          "2021-07-02 11:30:00",
          "2021-07-02 12:00:00",
          "2021-07-02 13:30:00",
          "2021-07-02 14:00:00",
          "2021-07-02 14:30:00",
          "2021-07-02 15:00:00",
          "2021-07-02 16:30:00",
          "2021-07-02 17:30:00",
          "2021-07-02 19:00:00",
          "2021-07-02 19:30:00",
          "2021-07-02 20:00:00",
          "2021-07-02 20:30:00",
          "2021-07-02 21:00:00",
          "2021-07-02 21:30:00",
          "2021-07-02 22:00:00",
          "2021-07-02 23:00:00",
          "2021-07-02 23:30:00",
          "2021-07-03 00:00:00",
          "2021-07-03 00:30:00",
          "2021-07-03 01:00:00",
          "2021-07-03 01:30:00",
          "2021-07-03 02:00:00",
          "2021-07-03 02:30:00",
          "2021-07-03 03:00:00",
          "2021-07-03 03:30:00",
          "2021-07-03 04:00:00",
          "2021-07-03 06:00:00",
          "2021-07-03 09:00:00",
          "2021-07-03 10:00:00",
          "2021-07-03 11:00:00",
          "2021-07-03 16:30:00",
          "2021-07-03 17:00:00",
          "2021-07-03 17:30:00",
          "2021-07-03 18:30:00",
          "2021-07-03 20:00:00",
          "2021-07-03 21:00:00",
          "2021-07-03 21:30:00",
          "2021-07-03 22:00:00",
          "2021-07-03 23:00:00",
          "2021-07-03 23:30:00",
          "2021-07-04 00:00:00",
          "2021-07-04 00:30:00",
          "2021-07-04 01:00:00",
          "2021-07-04 01:30:00",
          "2021-07-04 03:00:00",
          "2021-07-04 03:30:00",
          "2021-07-04 05:30:00",
          "2021-07-04 07:30:00",
          "2021-07-04 08:30:00",
          "2021-07-04 09:00:00",
          "2021-07-04 10:00:00",
          "2021-07-04 11:00:00",
          "2021-07-04 16:30:00",
          "2021-07-04 17:00:00",
          "2021-07-04 17:30:00",
          "2021-07-04 18:00:00",
          "2021-07-04 18:30:00",
          "2021-07-04 19:00:00",
          "2021-07-04 19:30:00",
          "2021-07-04 20:00:00",
          "2021-07-04 20:30:00",
          "2021-07-04 21:00:00",
          "2021-07-05 10:00:00",
          "2021-07-05 11:00:00",
          "2021-07-05 12:30:00",
          "2021-07-05 19:00:00",
          "2021-07-05 19:30:00",
          "2021-07-05 20:00:00",
          "2021-07-05 20:30:00",
          "2021-07-05 21:00:00",
          "2021-07-05 21:30:00",
          "2021-07-05 22:30:00",
          "2021-07-05 23:00:00",
          "2021-07-06 10:30:00",
          "2021-07-06 11:00:00",
          "2021-07-06 12:00:00",
          "2021-07-06 15:30:00",
          "2021-07-06 16:00:00",
          "2021-07-06 18:00:00",
          "2021-07-06 19:00:00",
          "2021-07-06 20:00:00",
          "2021-07-06 20:30:00",
          "2021-07-06 21:00:00",
          "2021-07-06 21:30:00",
          "2021-07-06 22:00:00",
          "2021-07-06 22:30:00",
          "2021-07-06 23:00:00",
          "2021-07-06 23:30:00",
          "2021-07-07 09:00:00",
          "2021-07-07 10:00:00",
          "2021-07-07 10:30:00",
          "2021-07-07 11:00:00",
          "2021-07-07 11:30:00",
          "2021-07-07 12:30:00",
          "2021-07-07 14:30:00",
          "2021-07-07 15:00:00",
          "2021-07-07 17:00:00",
          "2021-07-07 17:30:00",
          "2021-07-07 18:00:00",
          "2021-07-07 18:30:00",
          "2021-07-07 19:00:00",
          "2021-07-07 19:30:00",
          "2021-07-07 20:00:00",
          "2021-07-07 20:30:00",
          "2021-07-07 21:30:00",
          "2021-07-07 22:30:00",
          "2021-07-08 10:00:00",
          "2021-07-08 10:30:00",
          "2021-07-08 11:30:00",
          "2021-07-08 12:30:00",
          "2021-07-08 15:30:00",
          "2021-07-08 16:00:00",
          "2021-07-08 16:30:00",
          "2021-07-08 17:00:00",
          "2021-07-08 17:30:00",
          "2021-07-08 18:00:00",
          "2021-07-08 18:30:00",
          "2021-07-08 22:30:00",
          "2021-07-08 23:00:00",
          "2021-07-09 10:00:00",
          "2021-07-09 14:00:00",
          "2021-07-09 14:30:00",
          "2021-07-09 16:30:00",
          "2021-07-09 23:30:00",
          "2021-07-10 00:00:00",
          "2021-07-10 01:30:00",
          "2021-07-10 02:00:00",
          "2021-07-10 02:30:00",
          "2021-07-10 03:00:00",
          "2021-07-10 11:30:00",
          "2021-07-10 12:00:00",
          "2021-07-10 18:30:00",
          "2021-07-11 11:00:00",
          "2021-07-11 13:00:00",
          "2021-07-11 16:00:00",
          "2021-07-12 11:00:00",
          "2021-07-12 11:30:00",
          "2021-07-12 12:00:00",
          "2021-07-12 13:00:00",
          "2021-07-12 13:30:00",
          "2021-07-13 00:00:00",
          "2021-07-13 11:00:00",
          "2021-07-13 12:00:00",
          "2021-07-13 17:30:00",
          "2021-07-13 19:30:00",
          "2021-07-13 20:00:00",
          "2021-07-13 20:30:00",
          "2021-07-13 21:00:00",
          "2021-07-13 22:00:00",
          "2021-07-13 23:30:00",
          "2021-07-14 00:00:00",
          "2021-07-14 08:30:00",
          "2021-07-14 10:30:00",
          "2021-07-14 11:00:00",
          "2021-07-14 16:00:00",
          "2021-07-14 18:30:00",
          "2021-07-14 19:00:00",
          "2021-07-14 19:30:00",
          "2021-07-14 20:30:00",
          "2021-07-14 21:00:00",
          "2021-07-14 21:30:00",
          "2021-07-14 22:00:00",
          "2021-07-14 22:30:00",
          "2021-07-14 23:00:00",
          "2021-07-14 23:30:00",
          "2021-07-15 00:30:00",
          "2021-07-15 01:30:00"
         ],
         "xaxis": "x",
         "y": [
          50.15,
          52.15,
          52.25,
          51.47,
          50.37,
          50.995,
          51.62,
          54.78,
          54.24,
          53.87,
          53.879999999999995,
          53.89,
          54.48,
          54.525,
          54.57,
          54.620000000000005,
          54.67,
          54.73,
          54.72,
          54.71,
          54.63,
          54.59,
          54.565,
          54.54,
          53.58,
          52.66,
          53.01,
          52.93,
          53.88,
          51.82,
          52.61,
          52.64,
          54.61,
          53.64,
          53.58,
          53.52,
          54.15,
          54.22,
          54.19,
          54.16,
          54.49,
          54.53,
          54.57,
          54.67,
          54.77,
          53.92,
          53.43,
          52.5,
          52.5,
          52.480000000000004,
          52.46,
          53.19,
          53.03,
          52.74,
          52.85,
          53.9,
          54.8,
          54.54,
          53.69,
          53,
          53.23,
          53.31,
          53.39,
          53.64,
          53.76,
          53.765,
          53.77,
          53.88,
          54.03,
          54.03,
          54.12,
          54.114999999999995,
          54.11,
          53.62,
          53.6075,
          53.595,
          53.49,
          53.45,
          53.41,
          53.04,
          52.85,
          52.67,
          52.79,
          52.91,
          52.49,
          52.48,
          52.525,
          52.57,
          52.585,
          52.6,
          52.46,
          52.35,
          52.24,
          52.22,
          52.19,
          52.27,
          52.59,
          52.6,
          52.74,
          52.805,
          52.87,
          52.66,
          52.45,
          52.59,
          52.73,
          52.34,
          52.415000000000006,
          52.49,
          52.73,
          52.02,
          51.81,
          52.76,
          52.71,
          52.67,
          52.68,
          52.69,
          52.76,
          52.39,
          52.33,
          52.46,
          52.445,
          52.43,
          52.87,
          53.07,
          52.32,
          52.34,
          53.3,
          52.98,
          52.56,
          52.545,
          52.53,
          52.42,
          52.14,
          52.14,
          52.19,
          52.19,
          52.19,
          52.33,
          52.379999999999995,
          52.43,
          52.79,
          52.815,
          52.84,
          52.2,
          52.43,
          52.66,
          52.745,
          52.83,
          54.05,
          54.1,
          53.64,
          53.61,
          53.21,
          52.75,
          52.64,
          53.15,
          53.33,
          54.04,
          52.29,
          52.71,
          52.98,
          53.13,
          53.28,
          53.38,
          53.655,
          53.93,
          53.89,
          53.85,
          53.4,
          53.4,
          53.42,
          53.42,
          53.41,
          53.4,
          53.4,
          53.82,
          53.62,
          54.03,
          53.95,
          53.53,
          53.55,
          53.1,
          53.23,
          52.73,
          52.71,
          53.04,
          53.14,
          53.14,
          53.16,
          53.09,
          53.02,
          53.41,
          53.3,
          52.88,
          52.86,
          52.84,
          52.865,
          52.89,
          53.33,
          53.33,
          52.97,
          52.89,
          52.905,
          52.92,
          53.77,
          53.72,
          53.485,
          53.417500000000004,
          53.35,
          51.98,
          52.48,
          52.47,
          52.84,
          53.34,
          53.290000000000006,
          53.285000000000004,
          53.28,
          52.87,
          52.37,
          53.45,
          53.39,
          52.76,
          52.995,
          53.0125,
          53.03,
          53.150000000000006,
          53.27,
          53.37,
          53.04,
          53.12,
          53.315,
          53.51,
          53.88,
          53.71,
          53.67,
          54.27,
          51.56,
          51.37,
          53.26,
          53.47,
          53.385,
          53.3675,
          53.35,
          53.31,
          53.27,
          53.335,
          53.317499999999995,
          53.3,
          53.03,
          52.980000000000004,
          52.93,
          53.57,
          53.61,
          53.65,
          53.34,
          53.385000000000005,
          53.43,
          53.67,
          53.03,
          53.25,
          53.43,
          51.34,
          50.64,
          52.95,
          53.14,
          53.17,
          52.6,
          53.84,
          54.08,
          52.2,
          52.9,
          52.91,
          52.86,
          52.81,
          53.49,
          53.4,
          53.01,
          52.959999999999994,
          52.91,
          53.41,
          53.504999999999995,
          53.6,
          53.595,
          53.59,
          54.1,
          54.08,
          54.03,
          54.22,
          54.245000000000005,
          54.27,
          54.4,
          53.75,
          53.74,
          51.41,
          51.16,
          51.44499999999999,
          51.73,
          52.61,
          53.105000000000004,
          53.6,
          53.45,
          53.56,
          53.67,
          53.75,
          53.88,
          53.89,
          53.9,
          53.79,
          53.68,
          54.03,
          53.15,
          53.14,
          52.995000000000005,
          52.9875,
          52.98,
          52.84,
          52.57,
          52.675,
          52.78,
          52.775000000000006,
          52.77,
          52.55,
          52.41,
          50.45,
          50.96,
          53.58,
          53.57,
          53.56,
          53.605000000000004,
          53.65,
          53.79,
          53.83,
          53.83,
          53.74,
          54.15,
          54.19,
          54.81,
          52.6,
          53.15,
          52.894999999999996,
          52.64,
          51.93,
          53.99,
          54.28,
          53.08,
          53.28,
          53.2,
          53.12,
          53.32,
          53.63,
          53.47,
          53.31,
          53.74,
          52.8,
          52.88,
          53.41,
          54.32,
          54.19,
          54.06,
          52.94,
          51.81,
          51.73,
          51.28,
          51.845,
          52.41,
          52.64,
          52.6,
          52.02,
          51.76,
          53.98,
          53.78,
          53.14,
          53.18,
          53.045,
          52.91,
          52.81,
          52.715,
          52.62,
          52.91,
          52.519999999999996,
          52.675,
          52.83,
          52.98,
          53.16,
          52.72,
          52.9,
          52.4,
          52.4,
          52.29,
          51.98,
          53.09,
          54.27,
          51.05,
          52.4,
          52.15,
          52.3625,
          52.575,
          52.73,
          52.76,
          52.79,
          52.69,
          52.59,
          52.57,
          52.5,
          52.5,
          52.5,
          51.12,
          51.8,
          51.99,
          52.36,
          52.33,
          52.3,
          51.64,
          51.51,
          51.59,
          51.67,
          52.03,
          52.06,
          52.07,
          52,
          51.73,
          51.72,
          51.35,
          51.225,
          51.1,
          51.06,
          50.8425,
          50.625,
          53.03,
          53.38,
          51.71,
          51.26,
          50.88,
          51.64,
          52.31,
          52.39,
          51.74,
          50.7,
          50.95,
          51.010000000000005,
          51.07,
          52.42,
          52.39,
          52.36,
          52.36,
          52.355,
          52.57,
          52.515,
          52.46,
          52.31,
          52.33,
          51.75,
          50.85,
          51.435,
          52.02,
          51.78,
          51.77,
          51.135000000000005,
          50.5,
          52.27,
          52.97,
          53.39,
          53.365,
          53.34,
          53.35,
          52.87,
          53.09,
          53.005,
          52.92,
          52.62,
          52.5,
          52.41,
          52.67,
          52.74,
          52.81,
          52.82,
          52.83,
          52.98,
          52.55,
          52.56,
          52.56,
          52.69,
          52.68,
          52.67
         ],
         "yaxis": "y"
        }
       ],
       "layout": {
        "legend": {
         "tracegroupgap": 0
        },
        "margin": {
         "t": 60
        },
        "template": {
         "data": {
          "bar": [
           {
            "error_x": {
             "color": "#2a3f5f"
            },
            "error_y": {
             "color": "#2a3f5f"
            },
            "marker": {
             "line": {
              "color": "#E5ECF6",
              "width": 0.5
             },
             "pattern": {
              "fillmode": "overlay",
              "size": 10,
              "solidity": 0.2
             }
            },
            "type": "bar"
           }
          ],
          "barpolar": [
           {
            "marker": {
             "line": {
              "color": "#E5ECF6",
              "width": 0.5
             },
             "pattern": {
              "fillmode": "overlay",
              "size": 10,
              "solidity": 0.2
             }
            },
            "type": "barpolar"
           }
          ],
          "carpet": [
           {
            "aaxis": {
             "endlinecolor": "#2a3f5f",
             "gridcolor": "white",
             "linecolor": "white",
             "minorgridcolor": "white",
             "startlinecolor": "#2a3f5f"
            },
            "baxis": {
             "endlinecolor": "#2a3f5f",
             "gridcolor": "white",
             "linecolor": "white",
             "minorgridcolor": "white",
             "startlinecolor": "#2a3f5f"
            },
            "type": "carpet"
           }
          ],
          "choropleth": [
           {
            "colorbar": {
             "outlinewidth": 0,
             "ticks": ""
            },
            "type": "choropleth"
           }
          ],
          "contour": [
           {
            "colorbar": {
             "outlinewidth": 0,
             "ticks": ""
            },
            "colorscale": [
             [
              0,
              "#0d0887"
             ],
             [
              0.1111111111111111,
              "#46039f"
             ],
             [
              0.2222222222222222,
              "#7201a8"
             ],
             [
              0.3333333333333333,
              "#9c179e"
             ],
             [
              0.4444444444444444,
              "#bd3786"
             ],
             [
              0.5555555555555556,
              "#d8576b"
             ],
             [
              0.6666666666666666,
              "#ed7953"
             ],
             [
              0.7777777777777778,
              "#fb9f3a"
             ],
             [
              0.8888888888888888,
              "#fdca26"
             ],
             [
              1,
              "#f0f921"
             ]
            ],
            "type": "contour"
           }
          ],
          "contourcarpet": [
           {
            "colorbar": {
             "outlinewidth": 0,
             "ticks": ""
            },
            "type": "contourcarpet"
           }
          ],
          "heatmap": [
           {
            "colorbar": {
             "outlinewidth": 0,
             "ticks": ""
            },
            "colorscale": [
             [
              0,
              "#0d0887"
             ],
             [
              0.1111111111111111,
              "#46039f"
             ],
             [
              0.2222222222222222,
              "#7201a8"
             ],
             [
              0.3333333333333333,
              "#9c179e"
             ],
             [
              0.4444444444444444,
              "#bd3786"
             ],
             [
              0.5555555555555556,
              "#d8576b"
             ],
             [
              0.6666666666666666,
              "#ed7953"
             ],
             [
              0.7777777777777778,
              "#fb9f3a"
             ],
             [
              0.8888888888888888,
              "#fdca26"
             ],
             [
              1,
              "#f0f921"
             ]
            ],
            "type": "heatmap"
           }
          ],
          "heatmapgl": [
           {
            "colorbar": {
             "outlinewidth": 0,
             "ticks": ""
            },
            "colorscale": [
             [
              0,
              "#0d0887"
             ],
             [
              0.1111111111111111,
              "#46039f"
             ],
             [
              0.2222222222222222,
              "#7201a8"
             ],
             [
              0.3333333333333333,
              "#9c179e"
             ],
             [
              0.4444444444444444,
              "#bd3786"
             ],
             [
              0.5555555555555556,
              "#d8576b"
             ],
             [
              0.6666666666666666,
              "#ed7953"
             ],
             [
              0.7777777777777778,
              "#fb9f3a"
             ],
             [
              0.8888888888888888,
              "#fdca26"
             ],
             [
              1,
              "#f0f921"
             ]
            ],
            "type": "heatmapgl"
           }
          ],
          "histogram": [
           {
            "marker": {
             "pattern": {
              "fillmode": "overlay",
              "size": 10,
              "solidity": 0.2
             }
            },
            "type": "histogram"
           }
          ],
          "histogram2d": [
           {
            "colorbar": {
             "outlinewidth": 0,
             "ticks": ""
            },
            "colorscale": [
             [
              0,
              "#0d0887"
             ],
             [
              0.1111111111111111,
              "#46039f"
             ],
             [
              0.2222222222222222,
              "#7201a8"
             ],
             [
              0.3333333333333333,
              "#9c179e"
             ],
             [
              0.4444444444444444,
              "#bd3786"
             ],
             [
              0.5555555555555556,
              "#d8576b"
             ],
             [
              0.6666666666666666,
              "#ed7953"
             ],
             [
              0.7777777777777778,
              "#fb9f3a"
             ],
             [
              0.8888888888888888,
              "#fdca26"
             ],
             [
              1,
              "#f0f921"
             ]
            ],
            "type": "histogram2d"
           }
          ],
          "histogram2dcontour": [
           {
            "colorbar": {
             "outlinewidth": 0,
             "ticks": ""
            },
            "colorscale": [
             [
              0,
              "#0d0887"
             ],
             [
              0.1111111111111111,
              "#46039f"
             ],
             [
              0.2222222222222222,
              "#7201a8"
             ],
             [
              0.3333333333333333,
              "#9c179e"
             ],
             [
              0.4444444444444444,
              "#bd3786"
             ],
             [
              0.5555555555555556,
              "#d8576b"
             ],
             [
              0.6666666666666666,
              "#ed7953"
             ],
             [
              0.7777777777777778,
              "#fb9f3a"
             ],
             [
              0.8888888888888888,
              "#fdca26"
             ],
             [
              1,
              "#f0f921"
             ]
            ],
            "type": "histogram2dcontour"
           }
          ],
          "mesh3d": [
           {
            "colorbar": {
             "outlinewidth": 0,
             "ticks": ""
            },
            "type": "mesh3d"
           }
          ],
          "parcoords": [
           {
            "line": {
             "colorbar": {
              "outlinewidth": 0,
              "ticks": ""
             }
            },
            "type": "parcoords"
           }
          ],
          "pie": [
           {
            "automargin": true,
            "type": "pie"
           }
          ],
          "scatter": [
           {
            "marker": {
             "colorbar": {
              "outlinewidth": 0,
              "ticks": ""
             }
            },
            "type": "scatter"
           }
          ],
          "scatter3d": [
           {
            "line": {
             "colorbar": {
              "outlinewidth": 0,
              "ticks": ""
             }
            },
            "marker": {
             "colorbar": {
              "outlinewidth": 0,
              "ticks": ""
             }
            },
            "type": "scatter3d"
           }
          ],
          "scattercarpet": [
           {
            "marker": {
             "colorbar": {
              "outlinewidth": 0,
              "ticks": ""
             }
            },
            "type": "scattercarpet"
           }
          ],
          "scattergeo": [
           {
            "marker": {
             "colorbar": {
              "outlinewidth": 0,
              "ticks": ""
             }
            },
            "type": "scattergeo"
           }
          ],
          "scattergl": [
           {
            "marker": {
             "colorbar": {
              "outlinewidth": 0,
              "ticks": ""
             }
            },
            "type": "scattergl"
           }
          ],
          "scattermapbox": [
           {
            "marker": {
             "colorbar": {
              "outlinewidth": 0,
              "ticks": ""
             }
            },
            "type": "scattermapbox"
           }
          ],
          "scatterpolar": [
           {
            "marker": {
             "colorbar": {
              "outlinewidth": 0,
              "ticks": ""
             }
            },
            "type": "scatterpolar"
           }
          ],
          "scatterpolargl": [
           {
            "marker": {
             "colorbar": {
              "outlinewidth": 0,
              "ticks": ""
             }
            },
            "type": "scatterpolargl"
           }
          ],
          "scatterternary": [
           {
            "marker": {
             "colorbar": {
              "outlinewidth": 0,
              "ticks": ""
             }
            },
            "type": "scatterternary"
           }
          ],
          "surface": [
           {
            "colorbar": {
             "outlinewidth": 0,
             "ticks": ""
            },
            "colorscale": [
             [
              0,
              "#0d0887"
             ],
             [
              0.1111111111111111,
              "#46039f"
             ],
             [
              0.2222222222222222,
              "#7201a8"
             ],
             [
              0.3333333333333333,
              "#9c179e"
             ],
             [
              0.4444444444444444,
              "#bd3786"
             ],
             [
              0.5555555555555556,
              "#d8576b"
             ],
             [
              0.6666666666666666,
              "#ed7953"
             ],
             [
              0.7777777777777778,
              "#fb9f3a"
             ],
             [
              0.8888888888888888,
              "#fdca26"
             ],
             [
              1,
              "#f0f921"
             ]
            ],
            "type": "surface"
           }
          ],
          "table": [
           {
            "cells": {
             "fill": {
              "color": "#EBF0F8"
             },
             "line": {
              "color": "white"
             }
            },
            "header": {
             "fill": {
              "color": "#C8D4E3"
             },
             "line": {
              "color": "white"
             }
            },
            "type": "table"
           }
          ]
         },
         "layout": {
          "annotationdefaults": {
           "arrowcolor": "#2a3f5f",
           "arrowhead": 0,
           "arrowwidth": 1
          },
          "autotypenumbers": "strict",
          "coloraxis": {
           "colorbar": {
            "outlinewidth": 0,
            "ticks": ""
           }
          },
          "colorscale": {
           "diverging": [
            [
             0,
             "#8e0152"
            ],
            [
             0.1,
             "#c51b7d"
            ],
            [
             0.2,
             "#de77ae"
            ],
            [
             0.3,
             "#f1b6da"
            ],
            [
             0.4,
             "#fde0ef"
            ],
            [
             0.5,
             "#f7f7f7"
            ],
            [
             0.6,
             "#e6f5d0"
            ],
            [
             0.7,
             "#b8e186"
            ],
            [
             0.8,
             "#7fbc41"
            ],
            [
             0.9,
             "#4d9221"
            ],
            [
             1,
             "#276419"
            ]
           ],
           "sequential": [
            [
             0,
             "#0d0887"
            ],
            [
             0.1111111111111111,
             "#46039f"
            ],
            [
             0.2222222222222222,
             "#7201a8"
            ],
            [
             0.3333333333333333,
             "#9c179e"
            ],
            [
             0.4444444444444444,
             "#bd3786"
            ],
            [
             0.5555555555555556,
             "#d8576b"
            ],
            [
             0.6666666666666666,
             "#ed7953"
            ],
            [
             0.7777777777777778,
             "#fb9f3a"
            ],
            [
             0.8888888888888888,
             "#fdca26"
            ],
            [
             1,
             "#f0f921"
            ]
           ],
           "sequentialminus": [
            [
             0,
             "#0d0887"
            ],
            [
             0.1111111111111111,
             "#46039f"
            ],
            [
             0.2222222222222222,
             "#7201a8"
            ],
            [
             0.3333333333333333,
             "#9c179e"
            ],
            [
             0.4444444444444444,
             "#bd3786"
            ],
            [
             0.5555555555555556,
             "#d8576b"
            ],
            [
             0.6666666666666666,
             "#ed7953"
            ],
            [
             0.7777777777777778,
             "#fb9f3a"
            ],
            [
             0.8888888888888888,
             "#fdca26"
            ],
            [
             1,
             "#f0f921"
            ]
           ]
          },
          "colorway": [
           "#636efa",
           "#EF553B",
           "#00cc96",
           "#ab63fa",
           "#FFA15A",
           "#19d3f3",
           "#FF6692",
           "#B6E880",
           "#FF97FF",
           "#FECB52"
          ],
          "font": {
           "color": "#2a3f5f"
          },
          "geo": {
           "bgcolor": "white",
           "lakecolor": "white",
           "landcolor": "#E5ECF6",
           "showlakes": true,
           "showland": true,
           "subunitcolor": "white"
          },
          "hoverlabel": {
           "align": "left"
          },
          "hovermode": "closest",
          "mapbox": {
           "style": "light"
          },
          "paper_bgcolor": "white",
          "plot_bgcolor": "#E5ECF6",
          "polar": {
           "angularaxis": {
            "gridcolor": "white",
            "linecolor": "white",
            "ticks": ""
           },
           "bgcolor": "#E5ECF6",
           "radialaxis": {
            "gridcolor": "white",
            "linecolor": "white",
            "ticks": ""
           }
          },
          "scene": {
           "xaxis": {
            "backgroundcolor": "#E5ECF6",
            "gridcolor": "white",
            "gridwidth": 2,
            "linecolor": "white",
            "showbackground": true,
            "ticks": "",
            "zerolinecolor": "white"
           },
           "yaxis": {
            "backgroundcolor": "#E5ECF6",
            "gridcolor": "white",
            "gridwidth": 2,
            "linecolor": "white",
            "showbackground": true,
            "ticks": "",
            "zerolinecolor": "white"
           },
           "zaxis": {
            "backgroundcolor": "#E5ECF6",
            "gridcolor": "white",
            "gridwidth": 2,
            "linecolor": "white",
            "showbackground": true,
            "ticks": "",
            "zerolinecolor": "white"
           }
          },
          "shapedefaults": {
           "line": {
            "color": "#2a3f5f"
           }
          },
          "ternary": {
           "aaxis": {
            "gridcolor": "white",
            "linecolor": "white",
            "ticks": ""
           },
           "baxis": {
            "gridcolor": "white",
            "linecolor": "white",
            "ticks": ""
           },
           "bgcolor": "#E5ECF6",
           "caxis": {
            "gridcolor": "white",
            "linecolor": "white",
            "ticks": ""
           }
          },
          "title": {
           "x": 0.05
          },
          "xaxis": {
           "automargin": true,
           "gridcolor": "white",
           "linecolor": "white",
           "ticks": "",
           "title": {
            "standoff": 15
           },
           "zerolinecolor": "white",
           "zerolinewidth": 2
          },
          "yaxis": {
           "automargin": true,
           "gridcolor": "white",
           "linecolor": "white",
           "ticks": "",
           "title": {
            "standoff": 15
           },
           "zerolinecolor": "white",
           "zerolinewidth": 2
          }
         }
        },
        "xaxis": {
         "anchor": "y",
         "domain": [
          0,
          1
         ],
         "title": {
          "text": "time"
         }
        },
        "yaxis": {
         "anchor": "x",
         "domain": [
          0,
          1
         ],
         "title": {
          "text": "value"
         }
        }
       }
      },
      "text/html": [
       "<div>                            <div id=\"238b777b-db0f-4edb-81e9-969b1d24d379\" class=\"plotly-graph-div\" style=\"height:525px; width:100%;\"></div>            <script type=\"text/javascript\">                require([\"plotly\"], function(Plotly) {                    window.PLOTLYENV=window.PLOTLYENV || {};                                    if (document.getElementById(\"238b777b-db0f-4edb-81e9-969b1d24d379\")) {                    Plotly.newPlot(                        \"238b777b-db0f-4edb-81e9-969b1d24d379\",                        [{\"hovertemplate\":\"time=%{x}<br>value=%{y}<extra></extra>\",\"legendgroup\":\"\",\"line\":{\"color\":\"#636efa\",\"dash\":\"solid\"},\"mode\":\"lines\",\"name\":\"\",\"orientation\":\"v\",\"showlegend\":false,\"type\":\"scatter\",\"x\":[\"2021-06-16 12:00:00\",\"2021-06-16 13:00:00\",\"2021-06-16 13:30:00\",\"2021-06-16 14:00:00\",\"2021-06-16 14:30:00\",\"2021-06-16 15:00:00\",\"2021-06-16 17:00:00\",\"2021-06-16 17:30:00\",\"2021-06-16 18:00:00\",\"2021-06-16 18:30:00\",\"2021-06-16 19:00:00\",\"2021-06-16 19:30:00\",\"2021-06-16 20:00:00\",\"2021-06-16 21:00:00\",\"2021-06-16 23:30:00\",\"2021-06-17 00:30:00\",\"2021-06-17 02:00:00\",\"2021-06-17 02:30:00\",\"2021-06-17 03:30:00\",\"2021-06-17 04:30:00\",\"2021-06-17 05:30:00\",\"2021-06-17 06:00:00\",\"2021-06-17 06:30:00\",\"2021-06-17 07:00:00\",\"2021-06-17 07:30:00\",\"2021-06-17 08:30:00\",\"2021-06-17 09:30:00\",\"2021-06-17 10:30:00\",\"2021-06-17 12:00:00\",\"2021-06-17 14:00:00\",\"2021-06-17 15:00:00\",\"2021-06-17 15:30:00\",\"2021-06-17 16:30:00\",\"2021-06-17 17:00:00\",\"2021-06-17 18:00:00\",\"2021-06-17 18:30:00\",\"2021-06-17 19:00:00\",\"2021-06-17 19:30:00\",\"2021-06-17 20:00:00\",\"2021-06-17 20:30:00\",\"2021-06-17 21:30:00\",\"2021-06-17 22:30:00\",\"2021-06-17 23:30:00\",\"2021-06-18 02:00:00\",\"2021-06-18 03:00:00\",\"2021-06-18 07:30:00\",\"2021-06-18 08:00:00\",\"2021-06-18 09:00:00\",\"2021-06-18 10:00:00\",\"2021-06-18 11:00:00\",\"2021-06-18 13:00:00\",\"2021-06-18 13:30:00\",\"2021-06-18 14:00:00\",\"2021-06-18 14:30:00\",\"2021-06-18 15:00:00\",\"2021-06-18 15:30:00\",\"2021-06-18 16:00:00\",\"2021-06-18 16:30:00\",\"2021-06-18 17:00:00\",\"2021-06-18 17:30:00\",\"2021-06-18 18:00:00\",\"2021-06-18 19:00:00\",\"2021-06-18 19:30:00\",\"2021-06-18 20:00:00\",\"2021-06-18 20:30:00\",\"2021-06-18 21:00:00\",\"2021-06-18 21:30:00\",\"2021-06-18 22:00:00\",\"2021-06-18 22:30:00\",\"2021-06-18 23:30:00\",\"2021-06-19 01:00:00\",\"2021-06-19 01:30:00\",\"2021-06-19 02:00:00\",\"2021-06-19 03:00:00\",\"2021-06-19 04:00:00\",\"2021-06-19 04:30:00\",\"2021-06-19 05:30:00\",\"2021-06-19 06:00:00\",\"2021-06-19 06:30:00\",\"2021-06-19 07:00:00\",\"2021-06-19 08:00:00\",\"2021-06-19 09:30:00\",\"2021-06-19 10:00:00\",\"2021-06-19 11:30:00\",\"2021-06-19 12:30:00\",\"2021-06-19 14:30:00\",\"2021-06-19 16:00:00\",\"2021-06-19 17:00:00\",\"2021-06-19 17:30:00\",\"2021-06-19 18:30:00\",\"2021-06-19 19:30:00\",\"2021-06-19 20:30:00\",\"2021-06-19 22:30:00\",\"2021-06-19 23:30:00\",\"2021-06-20 00:30:00\",\"2021-06-20 01:30:00\",\"2021-06-20 02:30:00\",\"2021-06-20 03:30:00\",\"2021-06-20 05:30:00\",\"2021-06-20 06:30:00\",\"2021-06-20 07:30:00\",\"2021-06-20 08:30:00\",\"2021-06-20 09:30:00\",\"2021-06-20 10:30:00\",\"2021-06-20 11:30:00\",\"2021-06-20 12:30:00\",\"2021-06-20 13:30:00\",\"2021-06-20 17:30:00\",\"2021-06-20 18:30:00\",\"2021-06-20 20:30:00\",\"2021-06-20 21:30:00\",\"2021-06-21 00:30:00\",\"2021-06-21 01:30:00\",\"2021-06-21 04:30:00\",\"2021-06-21 05:30:00\",\"2021-06-21 07:00:00\",\"2021-06-21 07:30:00\",\"2021-06-21 09:30:00\",\"2021-06-21 10:30:00\",\"2021-06-21 12:30:00\",\"2021-06-21 15:00:00\",\"2021-06-21 15:30:00\",\"2021-06-21 16:30:00\",\"2021-06-21 17:30:00\",\"2021-06-21 18:30:00\",\"2021-06-21 19:00:00\",\"2021-06-21 20:00:00\",\"2021-06-21 21:00:00\",\"2021-06-21 22:00:00\",\"2021-06-21 22:30:00\",\"2021-06-21 23:00:00\",\"2021-06-21 23:30:00\",\"2021-06-22 00:00:00\",\"2021-06-22 01:00:00\",\"2021-06-22 01:30:00\",\"2021-06-22 02:00:00\",\"2021-06-22 02:30:00\",\"2021-06-22 03:30:00\",\"2021-06-22 04:30:00\",\"2021-06-22 05:00:00\",\"2021-06-22 06:00:00\",\"2021-06-22 07:00:00\",\"2021-06-22 08:00:00\",\"2021-06-22 08:30:00\",\"2021-06-22 09:30:00\",\"2021-06-22 12:30:00\",\"2021-06-22 13:30:00\",\"2021-06-22 14:30:00\",\"2021-06-22 15:30:00\",\"2021-06-22 16:30:00\",\"2021-06-22 22:30:00\",\"2021-06-23 00:30:00\",\"2021-06-23 01:30:00\",\"2021-06-23 07:00:00\",\"2021-06-23 07:30:00\",\"2021-06-23 08:30:00\",\"2021-06-23 10:30:00\",\"2021-06-23 12:30:00\",\"2021-06-23 13:00:00\",\"2021-06-23 14:00:00\",\"2021-06-23 14:30:00\",\"2021-06-23 15:00:00\",\"2021-06-23 17:30:00\",\"2021-06-23 18:00:00\",\"2021-06-23 18:30:00\",\"2021-06-23 19:00:00\",\"2021-06-23 20:00:00\",\"2021-06-23 22:00:00\",\"2021-06-23 22:30:00\",\"2021-06-23 23:00:00\",\"2021-06-23 23:30:00\",\"2021-06-24 00:00:00\",\"2021-06-24 00:30:00\",\"2021-06-24 01:30:00\",\"2021-06-24 02:00:00\",\"2021-06-24 04:30:00\",\"2021-06-24 05:30:00\",\"2021-06-24 07:00:00\",\"2021-06-24 08:00:00\",\"2021-06-24 11:00:00\",\"2021-06-24 11:30:00\",\"2021-06-24 12:00:00\",\"2021-06-24 12:30:00\",\"2021-06-24 13:00:00\",\"2021-06-24 13:30:00\",\"2021-06-24 14:00:00\",\"2021-06-24 14:30:00\",\"2021-06-24 15:00:00\",\"2021-06-24 15:30:00\",\"2021-06-24 16:00:00\",\"2021-06-24 16:30:00\",\"2021-06-24 19:30:00\",\"2021-06-24 20:30:00\",\"2021-06-24 21:00:00\",\"2021-06-24 21:30:00\",\"2021-06-24 22:30:00\",\"2021-06-24 23:30:00\",\"2021-06-25 00:00:00\",\"2021-06-25 01:00:00\",\"2021-06-25 03:00:00\",\"2021-06-25 04:00:00\",\"2021-06-25 04:30:00\",\"2021-06-25 05:00:00\",\"2021-06-25 05:30:00\",\"2021-06-25 06:30:00\",\"2021-06-25 07:30:00\",\"2021-06-25 08:30:00\",\"2021-06-25 10:30:00\",\"2021-06-25 11:30:00\",\"2021-06-25 13:30:00\",\"2021-06-25 15:00:00\",\"2021-06-25 16:00:00\",\"2021-06-26 09:00:00\",\"2021-06-26 09:30:00\",\"2021-06-26 10:00:00\",\"2021-06-26 10:30:00\",\"2021-06-26 11:00:00\",\"2021-06-26 11:30:00\",\"2021-06-26 12:00:00\",\"2021-06-26 12:30:00\",\"2021-06-26 13:00:00\",\"2021-06-26 13:30:00\",\"2021-06-26 14:00:00\",\"2021-06-26 14:30:00\",\"2021-06-26 16:30:00\",\"2021-06-26 17:00:00\",\"2021-06-26 17:30:00\",\"2021-06-26 18:00:00\",\"2021-06-26 18:30:00\",\"2021-06-26 19:00:00\",\"2021-06-26 19:30:00\",\"2021-06-26 20:00:00\",\"2021-06-26 20:30:00\",\"2021-06-26 21:00:00\",\"2021-06-26 22:00:00\",\"2021-06-27 09:30:00\",\"2021-06-27 10:30:00\",\"2021-06-27 12:30:00\",\"2021-06-27 14:00:00\",\"2021-06-27 16:30:00\",\"2021-06-27 19:30:00\",\"2021-06-27 20:30:00\",\"2021-06-27 21:00:00\",\"2021-06-27 21:30:00\",\"2021-06-27 22:00:00\",\"2021-06-27 22:30:00\",\"2021-06-27 23:00:00\",\"2021-06-27 23:30:00\",\"2021-06-28 12:00:00\",\"2021-06-28 13:00:00\",\"2021-06-28 15:00:00\",\"2021-06-28 15:30:00\",\"2021-06-28 16:00:00\",\"2021-06-28 16:30:00\",\"2021-06-28 17:00:00\",\"2021-06-29 09:00:00\",\"2021-06-29 09:30:00\",\"2021-06-29 10:00:00\",\"2021-06-29 10:30:00\",\"2021-06-29 11:00:00\",\"2021-06-29 11:30:00\",\"2021-06-29 12:30:00\",\"2021-06-29 14:30:00\",\"2021-06-29 15:30:00\",\"2021-06-29 17:00:00\",\"2021-06-29 17:30:00\",\"2021-06-29 18:30:00\",\"2021-06-29 19:30:00\",\"2021-06-29 20:30:00\",\"2021-06-30 10:30:00\",\"2021-06-30 12:30:00\",\"2021-06-30 13:00:00\",\"2021-06-30 14:00:00\",\"2021-06-30 15:00:00\",\"2021-06-30 16:00:00\",\"2021-06-30 16:30:00\",\"2021-06-30 17:00:00\",\"2021-06-30 18:00:00\",\"2021-06-30 19:00:00\",\"2021-06-30 19:30:00\",\"2021-06-30 20:30:00\",\"2021-06-30 21:00:00\",\"2021-06-30 21:30:00\",\"2021-06-30 22:00:00\",\"2021-06-30 23:00:00\",\"2021-07-01 00:00:00\",\"2021-07-01 00:30:00\",\"2021-07-01 01:00:00\",\"2021-07-01 02:00:00\",\"2021-07-01 03:00:00\",\"2021-07-01 04:00:00\",\"2021-07-01 07:00:00\",\"2021-07-01 07:30:00\",\"2021-07-01 09:00:00\",\"2021-07-01 09:30:00\",\"2021-07-01 11:00:00\",\"2021-07-01 11:30:00\",\"2021-07-01 12:00:00\",\"2021-07-01 16:30:00\",\"2021-07-01 17:30:00\",\"2021-07-01 18:00:00\",\"2021-07-01 19:00:00\",\"2021-07-01 19:30:00\",\"2021-07-01 20:00:00\",\"2021-07-01 20:30:00\",\"2021-07-01 21:00:00\",\"2021-07-01 22:00:00\",\"2021-07-02 01:00:00\",\"2021-07-02 02:00:00\",\"2021-07-02 03:00:00\",\"2021-07-02 04:00:00\",\"2021-07-02 05:00:00\",\"2021-07-02 05:30:00\",\"2021-07-02 09:00:00\",\"2021-07-02 09:30:00\",\"2021-07-02 10:00:00\",\"2021-07-02 11:00:00\",\"2021-07-02 11:30:00\",\"2021-07-02 12:00:00\",\"2021-07-02 13:30:00\",\"2021-07-02 14:00:00\",\"2021-07-02 14:30:00\",\"2021-07-02 15:00:00\",\"2021-07-02 16:30:00\",\"2021-07-02 17:30:00\",\"2021-07-02 19:00:00\",\"2021-07-02 19:30:00\",\"2021-07-02 20:00:00\",\"2021-07-02 20:30:00\",\"2021-07-02 21:00:00\",\"2021-07-02 21:30:00\",\"2021-07-02 22:00:00\",\"2021-07-02 23:00:00\",\"2021-07-02 23:30:00\",\"2021-07-03 00:00:00\",\"2021-07-03 00:30:00\",\"2021-07-03 01:00:00\",\"2021-07-03 01:30:00\",\"2021-07-03 02:00:00\",\"2021-07-03 02:30:00\",\"2021-07-03 03:00:00\",\"2021-07-03 03:30:00\",\"2021-07-03 04:00:00\",\"2021-07-03 06:00:00\",\"2021-07-03 09:00:00\",\"2021-07-03 10:00:00\",\"2021-07-03 11:00:00\",\"2021-07-03 16:30:00\",\"2021-07-03 17:00:00\",\"2021-07-03 17:30:00\",\"2021-07-03 18:30:00\",\"2021-07-03 20:00:00\",\"2021-07-03 21:00:00\",\"2021-07-03 21:30:00\",\"2021-07-03 22:00:00\",\"2021-07-03 23:00:00\",\"2021-07-03 23:30:00\",\"2021-07-04 00:00:00\",\"2021-07-04 00:30:00\",\"2021-07-04 01:00:00\",\"2021-07-04 01:30:00\",\"2021-07-04 03:00:00\",\"2021-07-04 03:30:00\",\"2021-07-04 05:30:00\",\"2021-07-04 07:30:00\",\"2021-07-04 08:30:00\",\"2021-07-04 09:00:00\",\"2021-07-04 10:00:00\",\"2021-07-04 11:00:00\",\"2021-07-04 16:30:00\",\"2021-07-04 17:00:00\",\"2021-07-04 17:30:00\",\"2021-07-04 18:00:00\",\"2021-07-04 18:30:00\",\"2021-07-04 19:00:00\",\"2021-07-04 19:30:00\",\"2021-07-04 20:00:00\",\"2021-07-04 20:30:00\",\"2021-07-04 21:00:00\",\"2021-07-05 10:00:00\",\"2021-07-05 11:00:00\",\"2021-07-05 12:30:00\",\"2021-07-05 19:00:00\",\"2021-07-05 19:30:00\",\"2021-07-05 20:00:00\",\"2021-07-05 20:30:00\",\"2021-07-05 21:00:00\",\"2021-07-05 21:30:00\",\"2021-07-05 22:30:00\",\"2021-07-05 23:00:00\",\"2021-07-06 10:30:00\",\"2021-07-06 11:00:00\",\"2021-07-06 12:00:00\",\"2021-07-06 15:30:00\",\"2021-07-06 16:00:00\",\"2021-07-06 18:00:00\",\"2021-07-06 19:00:00\",\"2021-07-06 20:00:00\",\"2021-07-06 20:30:00\",\"2021-07-06 21:00:00\",\"2021-07-06 21:30:00\",\"2021-07-06 22:00:00\",\"2021-07-06 22:30:00\",\"2021-07-06 23:00:00\",\"2021-07-06 23:30:00\",\"2021-07-07 09:00:00\",\"2021-07-07 10:00:00\",\"2021-07-07 10:30:00\",\"2021-07-07 11:00:00\",\"2021-07-07 11:30:00\",\"2021-07-07 12:30:00\",\"2021-07-07 14:30:00\",\"2021-07-07 15:00:00\",\"2021-07-07 17:00:00\",\"2021-07-07 17:30:00\",\"2021-07-07 18:00:00\",\"2021-07-07 18:30:00\",\"2021-07-07 19:00:00\",\"2021-07-07 19:30:00\",\"2021-07-07 20:00:00\",\"2021-07-07 20:30:00\",\"2021-07-07 21:30:00\",\"2021-07-07 22:30:00\",\"2021-07-08 10:00:00\",\"2021-07-08 10:30:00\",\"2021-07-08 11:30:00\",\"2021-07-08 12:30:00\",\"2021-07-08 15:30:00\",\"2021-07-08 16:00:00\",\"2021-07-08 16:30:00\",\"2021-07-08 17:00:00\",\"2021-07-08 17:30:00\",\"2021-07-08 18:00:00\",\"2021-07-08 18:30:00\",\"2021-07-08 22:30:00\",\"2021-07-08 23:00:00\",\"2021-07-09 10:00:00\",\"2021-07-09 14:00:00\",\"2021-07-09 14:30:00\",\"2021-07-09 16:30:00\",\"2021-07-09 23:30:00\",\"2021-07-10 00:00:00\",\"2021-07-10 01:30:00\",\"2021-07-10 02:00:00\",\"2021-07-10 02:30:00\",\"2021-07-10 03:00:00\",\"2021-07-10 11:30:00\",\"2021-07-10 12:00:00\",\"2021-07-10 18:30:00\",\"2021-07-11 11:00:00\",\"2021-07-11 13:00:00\",\"2021-07-11 16:00:00\",\"2021-07-12 11:00:00\",\"2021-07-12 11:30:00\",\"2021-07-12 12:00:00\",\"2021-07-12 13:00:00\",\"2021-07-12 13:30:00\",\"2021-07-13 00:00:00\",\"2021-07-13 11:00:00\",\"2021-07-13 12:00:00\",\"2021-07-13 17:30:00\",\"2021-07-13 19:30:00\",\"2021-07-13 20:00:00\",\"2021-07-13 20:30:00\",\"2021-07-13 21:00:00\",\"2021-07-13 22:00:00\",\"2021-07-13 23:30:00\",\"2021-07-14 00:00:00\",\"2021-07-14 08:30:00\",\"2021-07-14 10:30:00\",\"2021-07-14 11:00:00\",\"2021-07-14 16:00:00\",\"2021-07-14 18:30:00\",\"2021-07-14 19:00:00\",\"2021-07-14 19:30:00\",\"2021-07-14 20:30:00\",\"2021-07-14 21:00:00\",\"2021-07-14 21:30:00\",\"2021-07-14 22:00:00\",\"2021-07-14 22:30:00\",\"2021-07-14 23:00:00\",\"2021-07-14 23:30:00\",\"2021-07-15 00:30:00\",\"2021-07-15 01:30:00\"],\"xaxis\":\"x\",\"y\":[50.15,52.15,52.25,51.47,50.37,50.995,51.62,54.78,54.24,53.87,53.879999999999995,53.89,54.48,54.525,54.57,54.620000000000005,54.67,54.73,54.72,54.71,54.63,54.59,54.565,54.54,53.58,52.66,53.01,52.93,53.88,51.82,52.61,52.64,54.61,53.64,53.58,53.52,54.15,54.22,54.19,54.16,54.49,54.53,54.57,54.67,54.77,53.92,53.43,52.5,52.5,52.480000000000004,52.46,53.19,53.03,52.74,52.85,53.9,54.8,54.54,53.69,53.0,53.23,53.31,53.39,53.64,53.76,53.765,53.77,53.88,54.03,54.03,54.12,54.114999999999995,54.11,53.62,53.6075,53.595,53.49,53.45,53.41,53.04,52.85,52.67,52.79,52.91,52.49,52.48,52.525,52.57,52.585,52.6,52.46,52.35,52.24,52.22,52.19,52.27,52.59,52.6,52.74,52.805,52.87,52.66,52.45,52.59,52.73,52.34,52.415000000000006,52.49,52.73,52.02,51.81,52.76,52.71,52.67,52.68,52.69,52.76,52.39,52.33,52.46,52.445,52.43,52.87,53.07,52.32,52.34,53.3,52.98,52.56,52.545,52.53,52.42,52.14,52.14,52.19,52.19,52.19,52.33,52.379999999999995,52.43,52.79,52.815,52.84,52.2,52.43,52.66,52.745,52.83,54.05,54.1,53.64,53.61,53.21,52.75,52.64,53.15,53.33,54.04,52.29,52.71,52.98,53.13,53.28,53.38,53.655,53.93,53.89,53.85,53.4,53.4,53.42,53.42,53.41,53.4,53.4,53.82,53.62,54.03,53.95,53.53,53.55,53.1,53.23,52.73,52.71,53.04,53.14,53.14,53.16,53.09,53.02,53.41,53.3,52.88,52.86,52.84,52.865,52.89,53.33,53.33,52.97,52.89,52.905,52.92,53.77,53.72,53.485,53.417500000000004,53.35,51.98,52.48,52.47,52.84,53.34,53.290000000000006,53.285000000000004,53.28,52.87,52.37,53.45,53.39,52.76,52.995,53.0125,53.03,53.150000000000006,53.27,53.37,53.04,53.12,53.315,53.51,53.88,53.71,53.67,54.27,51.56,51.37,53.26,53.47,53.385,53.3675,53.35,53.31,53.27,53.335,53.317499999999995,53.3,53.03,52.980000000000004,52.93,53.57,53.61,53.65,53.34,53.385000000000005,53.43,53.67,53.03,53.25,53.43,51.34,50.64,52.95,53.14,53.17,52.6,53.84,54.08,52.2,52.9,52.91,52.86,52.81,53.49,53.4,53.01,52.959999999999994,52.91,53.41,53.504999999999995,53.6,53.595,53.59,54.1,54.08,54.03,54.22,54.245000000000005,54.27,54.4,53.75,53.74,51.41,51.16,51.44499999999999,51.73,52.61,53.105000000000004,53.6,53.45,53.56,53.67,53.75,53.88,53.89,53.9,53.79,53.68,54.03,53.15,53.14,52.995000000000005,52.9875,52.98,52.84,52.57,52.675,52.78,52.775000000000006,52.77,52.55,52.41,50.45,50.96,53.58,53.57,53.56,53.605000000000004,53.65,53.79,53.83,53.83,53.74,54.15,54.19,54.81,52.6,53.15,52.894999999999996,52.64,51.93,53.99,54.28,53.08,53.28,53.2,53.12,53.32,53.63,53.47,53.31,53.74,52.8,52.88,53.41,54.32,54.19,54.06,52.94,51.81,51.73,51.28,51.845,52.41,52.64,52.6,52.02,51.76,53.98,53.78,53.14,53.18,53.045,52.91,52.81,52.715,52.62,52.91,52.519999999999996,52.675,52.83,52.98,53.16,52.72,52.9,52.4,52.4,52.29,51.98,53.09,54.27,51.05,52.4,52.15,52.3625,52.575,52.73,52.76,52.79,52.69,52.59,52.57,52.5,52.5,52.5,51.12,51.8,51.99,52.36,52.33,52.3,51.64,51.51,51.59,51.67,52.03,52.06,52.07,52.0,51.73,51.72,51.35,51.225,51.1,51.06,50.8425,50.625,53.03,53.38,51.71,51.26,50.88,51.64,52.31,52.39,51.74,50.7,50.95,51.010000000000005,51.07,52.42,52.39,52.36,52.36,52.355,52.57,52.515,52.46,52.31,52.33,51.75,50.85,51.435,52.02,51.78,51.77,51.135000000000005,50.5,52.27,52.97,53.39,53.365,53.34,53.35,52.87,53.09,53.005,52.92,52.62,52.5,52.41,52.67,52.74,52.81,52.82,52.83,52.98,52.55,52.56,52.56,52.69,52.68,52.67],\"yaxis\":\"y\"}],                        {\"legend\":{\"tracegroupgap\":0},\"margin\":{\"t\":60},\"template\":{\"data\":{\"bar\":[{\"error_x\":{\"color\":\"#2a3f5f\"},\"error_y\":{\"color\":\"#2a3f5f\"},\"marker\":{\"line\":{\"color\":\"#E5ECF6\",\"width\":0.5},\"pattern\":{\"fillmode\":\"overlay\",\"size\":10,\"solidity\":0.2}},\"type\":\"bar\"}],\"barpolar\":[{\"marker\":{\"line\":{\"color\":\"#E5ECF6\",\"width\":0.5},\"pattern\":{\"fillmode\":\"overlay\",\"size\":10,\"solidity\":0.2}},\"type\":\"barpolar\"}],\"carpet\":[{\"aaxis\":{\"endlinecolor\":\"#2a3f5f\",\"gridcolor\":\"white\",\"linecolor\":\"white\",\"minorgridcolor\":\"white\",\"startlinecolor\":\"#2a3f5f\"},\"baxis\":{\"endlinecolor\":\"#2a3f5f\",\"gridcolor\":\"white\",\"linecolor\":\"white\",\"minorgridcolor\":\"white\",\"startlinecolor\":\"#2a3f5f\"},\"type\":\"carpet\"}],\"choropleth\":[{\"colorbar\":{\"outlinewidth\":0,\"ticks\":\"\"},\"type\":\"choropleth\"}],\"contour\":[{\"colorbar\":{\"outlinewidth\":0,\"ticks\":\"\"},\"colorscale\":[[0.0,\"#0d0887\"],[0.1111111111111111,\"#46039f\"],[0.2222222222222222,\"#7201a8\"],[0.3333333333333333,\"#9c179e\"],[0.4444444444444444,\"#bd3786\"],[0.5555555555555556,\"#d8576b\"],[0.6666666666666666,\"#ed7953\"],[0.7777777777777778,\"#fb9f3a\"],[0.8888888888888888,\"#fdca26\"],[1.0,\"#f0f921\"]],\"type\":\"contour\"}],\"contourcarpet\":[{\"colorbar\":{\"outlinewidth\":0,\"ticks\":\"\"},\"type\":\"contourcarpet\"}],\"heatmap\":[{\"colorbar\":{\"outlinewidth\":0,\"ticks\":\"\"},\"colorscale\":[[0.0,\"#0d0887\"],[0.1111111111111111,\"#46039f\"],[0.2222222222222222,\"#7201a8\"],[0.3333333333333333,\"#9c179e\"],[0.4444444444444444,\"#bd3786\"],[0.5555555555555556,\"#d8576b\"],[0.6666666666666666,\"#ed7953\"],[0.7777777777777778,\"#fb9f3a\"],[0.8888888888888888,\"#fdca26\"],[1.0,\"#f0f921\"]],\"type\":\"heatmap\"}],\"heatmapgl\":[{\"colorbar\":{\"outlinewidth\":0,\"ticks\":\"\"},\"colorscale\":[[0.0,\"#0d0887\"],[0.1111111111111111,\"#46039f\"],[0.2222222222222222,\"#7201a8\"],[0.3333333333333333,\"#9c179e\"],[0.4444444444444444,\"#bd3786\"],[0.5555555555555556,\"#d8576b\"],[0.6666666666666666,\"#ed7953\"],[0.7777777777777778,\"#fb9f3a\"],[0.8888888888888888,\"#fdca26\"],[1.0,\"#f0f921\"]],\"type\":\"heatmapgl\"}],\"histogram\":[{\"marker\":{\"pattern\":{\"fillmode\":\"overlay\",\"size\":10,\"solidity\":0.2}},\"type\":\"histogram\"}],\"histogram2d\":[{\"colorbar\":{\"outlinewidth\":0,\"ticks\":\"\"},\"colorscale\":[[0.0,\"#0d0887\"],[0.1111111111111111,\"#46039f\"],[0.2222222222222222,\"#7201a8\"],[0.3333333333333333,\"#9c179e\"],[0.4444444444444444,\"#bd3786\"],[0.5555555555555556,\"#d8576b\"],[0.6666666666666666,\"#ed7953\"],[0.7777777777777778,\"#fb9f3a\"],[0.8888888888888888,\"#fdca26\"],[1.0,\"#f0f921\"]],\"type\":\"histogram2d\"}],\"histogram2dcontour\":[{\"colorbar\":{\"outlinewidth\":0,\"ticks\":\"\"},\"colorscale\":[[0.0,\"#0d0887\"],[0.1111111111111111,\"#46039f\"],[0.2222222222222222,\"#7201a8\"],[0.3333333333333333,\"#9c179e\"],[0.4444444444444444,\"#bd3786\"],[0.5555555555555556,\"#d8576b\"],[0.6666666666666666,\"#ed7953\"],[0.7777777777777778,\"#fb9f3a\"],[0.8888888888888888,\"#fdca26\"],[1.0,\"#f0f921\"]],\"type\":\"histogram2dcontour\"}],\"mesh3d\":[{\"colorbar\":{\"outlinewidth\":0,\"ticks\":\"\"},\"type\":\"mesh3d\"}],\"parcoords\":[{\"line\":{\"colorbar\":{\"outlinewidth\":0,\"ticks\":\"\"}},\"type\":\"parcoords\"}],\"pie\":[{\"automargin\":true,\"type\":\"pie\"}],\"scatter\":[{\"marker\":{\"colorbar\":{\"outlinewidth\":0,\"ticks\":\"\"}},\"type\":\"scatter\"}],\"scatter3d\":[{\"line\":{\"colorbar\":{\"outlinewidth\":0,\"ticks\":\"\"}},\"marker\":{\"colorbar\":{\"outlinewidth\":0,\"ticks\":\"\"}},\"type\":\"scatter3d\"}],\"scattercarpet\":[{\"marker\":{\"colorbar\":{\"outlinewidth\":0,\"ticks\":\"\"}},\"type\":\"scattercarpet\"}],\"scattergeo\":[{\"marker\":{\"colorbar\":{\"outlinewidth\":0,\"ticks\":\"\"}},\"type\":\"scattergeo\"}],\"scattergl\":[{\"marker\":{\"colorbar\":{\"outlinewidth\":0,\"ticks\":\"\"}},\"type\":\"scattergl\"}],\"scattermapbox\":[{\"marker\":{\"colorbar\":{\"outlinewidth\":0,\"ticks\":\"\"}},\"type\":\"scattermapbox\"}],\"scatterpolar\":[{\"marker\":{\"colorbar\":{\"outlinewidth\":0,\"ticks\":\"\"}},\"type\":\"scatterpolar\"}],\"scatterpolargl\":[{\"marker\":{\"colorbar\":{\"outlinewidth\":0,\"ticks\":\"\"}},\"type\":\"scatterpolargl\"}],\"scatterternary\":[{\"marker\":{\"colorbar\":{\"outlinewidth\":0,\"ticks\":\"\"}},\"type\":\"scatterternary\"}],\"surface\":[{\"colorbar\":{\"outlinewidth\":0,\"ticks\":\"\"},\"colorscale\":[[0.0,\"#0d0887\"],[0.1111111111111111,\"#46039f\"],[0.2222222222222222,\"#7201a8\"],[0.3333333333333333,\"#9c179e\"],[0.4444444444444444,\"#bd3786\"],[0.5555555555555556,\"#d8576b\"],[0.6666666666666666,\"#ed7953\"],[0.7777777777777778,\"#fb9f3a\"],[0.8888888888888888,\"#fdca26\"],[1.0,\"#f0f921\"]],\"type\":\"surface\"}],\"table\":[{\"cells\":{\"fill\":{\"color\":\"#EBF0F8\"},\"line\":{\"color\":\"white\"}},\"header\":{\"fill\":{\"color\":\"#C8D4E3\"},\"line\":{\"color\":\"white\"}},\"type\":\"table\"}]},\"layout\":{\"annotationdefaults\":{\"arrowcolor\":\"#2a3f5f\",\"arrowhead\":0,\"arrowwidth\":1},\"autotypenumbers\":\"strict\",\"coloraxis\":{\"colorbar\":{\"outlinewidth\":0,\"ticks\":\"\"}},\"colorscale\":{\"diverging\":[[0,\"#8e0152\"],[0.1,\"#c51b7d\"],[0.2,\"#de77ae\"],[0.3,\"#f1b6da\"],[0.4,\"#fde0ef\"],[0.5,\"#f7f7f7\"],[0.6,\"#e6f5d0\"],[0.7,\"#b8e186\"],[0.8,\"#7fbc41\"],[0.9,\"#4d9221\"],[1,\"#276419\"]],\"sequential\":[[0.0,\"#0d0887\"],[0.1111111111111111,\"#46039f\"],[0.2222222222222222,\"#7201a8\"],[0.3333333333333333,\"#9c179e\"],[0.4444444444444444,\"#bd3786\"],[0.5555555555555556,\"#d8576b\"],[0.6666666666666666,\"#ed7953\"],[0.7777777777777778,\"#fb9f3a\"],[0.8888888888888888,\"#fdca26\"],[1.0,\"#f0f921\"]],\"sequentialminus\":[[0.0,\"#0d0887\"],[0.1111111111111111,\"#46039f\"],[0.2222222222222222,\"#7201a8\"],[0.3333333333333333,\"#9c179e\"],[0.4444444444444444,\"#bd3786\"],[0.5555555555555556,\"#d8576b\"],[0.6666666666666666,\"#ed7953\"],[0.7777777777777778,\"#fb9f3a\"],[0.8888888888888888,\"#fdca26\"],[1.0,\"#f0f921\"]]},\"colorway\":[\"#636efa\",\"#EF553B\",\"#00cc96\",\"#ab63fa\",\"#FFA15A\",\"#19d3f3\",\"#FF6692\",\"#B6E880\",\"#FF97FF\",\"#FECB52\"],\"font\":{\"color\":\"#2a3f5f\"},\"geo\":{\"bgcolor\":\"white\",\"lakecolor\":\"white\",\"landcolor\":\"#E5ECF6\",\"showlakes\":true,\"showland\":true,\"subunitcolor\":\"white\"},\"hoverlabel\":{\"align\":\"left\"},\"hovermode\":\"closest\",\"mapbox\":{\"style\":\"light\"},\"paper_bgcolor\":\"white\",\"plot_bgcolor\":\"#E5ECF6\",\"polar\":{\"angularaxis\":{\"gridcolor\":\"white\",\"linecolor\":\"white\",\"ticks\":\"\"},\"bgcolor\":\"#E5ECF6\",\"radialaxis\":{\"gridcolor\":\"white\",\"linecolor\":\"white\",\"ticks\":\"\"}},\"scene\":{\"xaxis\":{\"backgroundcolor\":\"#E5ECF6\",\"gridcolor\":\"white\",\"gridwidth\":2,\"linecolor\":\"white\",\"showbackground\":true,\"ticks\":\"\",\"zerolinecolor\":\"white\"},\"yaxis\":{\"backgroundcolor\":\"#E5ECF6\",\"gridcolor\":\"white\",\"gridwidth\":2,\"linecolor\":\"white\",\"showbackground\":true,\"ticks\":\"\",\"zerolinecolor\":\"white\"},\"zaxis\":{\"backgroundcolor\":\"#E5ECF6\",\"gridcolor\":\"white\",\"gridwidth\":2,\"linecolor\":\"white\",\"showbackground\":true,\"ticks\":\"\",\"zerolinecolor\":\"white\"}},\"shapedefaults\":{\"line\":{\"color\":\"#2a3f5f\"}},\"ternary\":{\"aaxis\":{\"gridcolor\":\"white\",\"linecolor\":\"white\",\"ticks\":\"\"},\"baxis\":{\"gridcolor\":\"white\",\"linecolor\":\"white\",\"ticks\":\"\"},\"bgcolor\":\"#E5ECF6\",\"caxis\":{\"gridcolor\":\"white\",\"linecolor\":\"white\",\"ticks\":\"\"}},\"title\":{\"x\":0.05},\"xaxis\":{\"automargin\":true,\"gridcolor\":\"white\",\"linecolor\":\"white\",\"ticks\":\"\",\"title\":{\"standoff\":15},\"zerolinecolor\":\"white\",\"zerolinewidth\":2},\"yaxis\":{\"automargin\":true,\"gridcolor\":\"white\",\"linecolor\":\"white\",\"ticks\":\"\",\"title\":{\"standoff\":15},\"zerolinecolor\":\"white\",\"zerolinewidth\":2}}},\"xaxis\":{\"anchor\":\"y\",\"domain\":[0.0,1.0],\"title\":{\"text\":\"time\"}},\"yaxis\":{\"anchor\":\"x\",\"domain\":[0.0,1.0],\"title\":{\"text\":\"value\"}}},                        {\"responsive\": true}                    ).then(function(){\n",
       "                            \n",
       "var gd = document.getElementById('238b777b-db0f-4edb-81e9-969b1d24d379');\n",
       "var x = new MutationObserver(function (mutations, observer) {{\n",
       "        var display = window.getComputedStyle(gd).display;\n",
       "        if (!display || display === 'none') {{\n",
       "            console.log([gd, 'removed!']);\n",
       "            Plotly.purge(gd);\n",
       "            observer.disconnect();\n",
       "        }}\n",
       "}});\n",
       "\n",
       "// Listen for the removal of the full notebook cells\n",
       "var notebookContainer = gd.closest('#notebook-container');\n",
       "if (notebookContainer) {{\n",
       "    x.observe(notebookContainer, {childList: true});\n",
       "}}\n",
       "\n",
       "// Listen for the clearing of the current output cell\n",
       "var outputEl = gd.closest('.output');\n",
       "if (outputEl) {{\n",
       "    x.observe(outputEl, {childList: true});\n",
       "}}\n",
       "\n",
       "                        })                };                });            </script>        </div>"
      ]
     },
     "metadata": {},
     "output_type": "display_data"
    },
    {
     "name": "stdout",
     "output_type": "stream",
     "text": [
      "23-2-1\n"
     ]
    }
   ],
   "source": [
    "m = 23\n",
    "n = 2\n",
    "s = 1\n",
    "\n",
    "df=pd.read_csv(r'C:\\Users\\Tosha.E.T\\Desktop\\Sinotech\\716\\{0}-{1}-{2}_clean.csv'.format(m,n,s))\n",
    "df=df[df['value']>50]\n",
    "df=df[df['value']<55]\n",
    "df = df.reset_index()\n",
    "\n",
    "i = 1\n",
    "while i<(len(df[\"value\"])-1):\n",
    "    a = df[\"value\"][i-1]\n",
    "    b = df[\"value\"][i]\n",
    "    c = df[\"value\"][i+1]\n",
    "    if (abs(b-c)+abs(a-b))/2>abs(c-a)*1.5:\n",
    "        df[\"value\"][i] = (a+c)/2\n",
    "        i=i+1\n",
    "    else:\n",
    "        i=i+1\n",
    "df.to_csv(r'C:\\Users\\Tosha.E.T\\Desktop\\Sinotech\\716\\{0}-{1}-{2}_cut.csv'.format(m,n,s))\n",
    "print(\"cut save!!\")\n",
    "#---------------------------------------------------\n",
    "fig = px.line(df, y='value', x='time')        \n",
    "fig.show()\n",
    "print(\"{0}-{1}-{2}\".format(m,n,s))"
   ]
  },
  {
   "cell_type": "code",
   "execution_count": 32,
   "id": "solid-clear",
   "metadata": {},
   "outputs": [
    {
     "name": "stdout",
     "output_type": "stream",
     "text": [
      "cut save!!\n"
     ]
    },
    {
     "name": "stderr",
     "output_type": "stream",
     "text": [
      "<ipython-input-32-b9b4114ef64d>:16: SettingWithCopyWarning:\n",
      "\n",
      "\n",
      "A value is trying to be set on a copy of a slice from a DataFrame\n",
      "\n",
      "See the caveats in the documentation: https://pandas.pydata.org/pandas-docs/stable/user_guide/indexing.html#returning-a-view-versus-a-copy\n",
      "\n"
     ]
    },
    {
     "data": {
      "application/vnd.plotly.v1+json": {
       "config": {
        "plotlyServerURL": "https://plot.ly"
       },
       "data": [
        {
         "hovertemplate": "time=%{x}<br>value=%{y}<extra></extra>",
         "legendgroup": "",
         "line": {
          "color": "#636efa",
          "dash": "solid"
         },
         "mode": "lines",
         "name": "",
         "orientation": "v",
         "showlegend": false,
         "type": "scatter",
         "x": [
          "2021-06-17",
          "2021-06-30",
          "2021-07-01",
          "2021-07-02",
          "2021-07-05",
          "2021-07-06",
          "2021-07-07",
          "2021-07-08",
          "2021-07-09",
          "2021-07-10",
          "2021-07-11",
          "2021-07-12",
          "2021-07-13",
          "2021-07-14"
         ],
         "xaxis": "x",
         "y": [
          50.82435897435899,
          50.64239999999999,
          53.90388888888888,
          53.09944444444444,
          52.6108695652174,
          52.55636363636363,
          52.83535573122529,
          53.11434782608696,
          52.20133333333333,
          52.269393939393936,
          53.759166666666665,
          53.63190476190475,
          53.69455238095238,
          53.75720000000001
         ],
         "yaxis": "y"
        }
       ],
       "layout": {
        "legend": {
         "tracegroupgap": 0
        },
        "margin": {
         "t": 60
        },
        "template": {
         "data": {
          "bar": [
           {
            "error_x": {
             "color": "#2a3f5f"
            },
            "error_y": {
             "color": "#2a3f5f"
            },
            "marker": {
             "line": {
              "color": "#E5ECF6",
              "width": 0.5
             },
             "pattern": {
              "fillmode": "overlay",
              "size": 10,
              "solidity": 0.2
             }
            },
            "type": "bar"
           }
          ],
          "barpolar": [
           {
            "marker": {
             "line": {
              "color": "#E5ECF6",
              "width": 0.5
             },
             "pattern": {
              "fillmode": "overlay",
              "size": 10,
              "solidity": 0.2
             }
            },
            "type": "barpolar"
           }
          ],
          "carpet": [
           {
            "aaxis": {
             "endlinecolor": "#2a3f5f",
             "gridcolor": "white",
             "linecolor": "white",
             "minorgridcolor": "white",
             "startlinecolor": "#2a3f5f"
            },
            "baxis": {
             "endlinecolor": "#2a3f5f",
             "gridcolor": "white",
             "linecolor": "white",
             "minorgridcolor": "white",
             "startlinecolor": "#2a3f5f"
            },
            "type": "carpet"
           }
          ],
          "choropleth": [
           {
            "colorbar": {
             "outlinewidth": 0,
             "ticks": ""
            },
            "type": "choropleth"
           }
          ],
          "contour": [
           {
            "colorbar": {
             "outlinewidth": 0,
             "ticks": ""
            },
            "colorscale": [
             [
              0,
              "#0d0887"
             ],
             [
              0.1111111111111111,
              "#46039f"
             ],
             [
              0.2222222222222222,
              "#7201a8"
             ],
             [
              0.3333333333333333,
              "#9c179e"
             ],
             [
              0.4444444444444444,
              "#bd3786"
             ],
             [
              0.5555555555555556,
              "#d8576b"
             ],
             [
              0.6666666666666666,
              "#ed7953"
             ],
             [
              0.7777777777777778,
              "#fb9f3a"
             ],
             [
              0.8888888888888888,
              "#fdca26"
             ],
             [
              1,
              "#f0f921"
             ]
            ],
            "type": "contour"
           }
          ],
          "contourcarpet": [
           {
            "colorbar": {
             "outlinewidth": 0,
             "ticks": ""
            },
            "type": "contourcarpet"
           }
          ],
          "heatmap": [
           {
            "colorbar": {
             "outlinewidth": 0,
             "ticks": ""
            },
            "colorscale": [
             [
              0,
              "#0d0887"
             ],
             [
              0.1111111111111111,
              "#46039f"
             ],
             [
              0.2222222222222222,
              "#7201a8"
             ],
             [
              0.3333333333333333,
              "#9c179e"
             ],
             [
              0.4444444444444444,
              "#bd3786"
             ],
             [
              0.5555555555555556,
              "#d8576b"
             ],
             [
              0.6666666666666666,
              "#ed7953"
             ],
             [
              0.7777777777777778,
              "#fb9f3a"
             ],
             [
              0.8888888888888888,
              "#fdca26"
             ],
             [
              1,
              "#f0f921"
             ]
            ],
            "type": "heatmap"
           }
          ],
          "heatmapgl": [
           {
            "colorbar": {
             "outlinewidth": 0,
             "ticks": ""
            },
            "colorscale": [
             [
              0,
              "#0d0887"
             ],
             [
              0.1111111111111111,
              "#46039f"
             ],
             [
              0.2222222222222222,
              "#7201a8"
             ],
             [
              0.3333333333333333,
              "#9c179e"
             ],
             [
              0.4444444444444444,
              "#bd3786"
             ],
             [
              0.5555555555555556,
              "#d8576b"
             ],
             [
              0.6666666666666666,
              "#ed7953"
             ],
             [
              0.7777777777777778,
              "#fb9f3a"
             ],
             [
              0.8888888888888888,
              "#fdca26"
             ],
             [
              1,
              "#f0f921"
             ]
            ],
            "type": "heatmapgl"
           }
          ],
          "histogram": [
           {
            "marker": {
             "pattern": {
              "fillmode": "overlay",
              "size": 10,
              "solidity": 0.2
             }
            },
            "type": "histogram"
           }
          ],
          "histogram2d": [
           {
            "colorbar": {
             "outlinewidth": 0,
             "ticks": ""
            },
            "colorscale": [
             [
              0,
              "#0d0887"
             ],
             [
              0.1111111111111111,
              "#46039f"
             ],
             [
              0.2222222222222222,
              "#7201a8"
             ],
             [
              0.3333333333333333,
              "#9c179e"
             ],
             [
              0.4444444444444444,
              "#bd3786"
             ],
             [
              0.5555555555555556,
              "#d8576b"
             ],
             [
              0.6666666666666666,
              "#ed7953"
             ],
             [
              0.7777777777777778,
              "#fb9f3a"
             ],
             [
              0.8888888888888888,
              "#fdca26"
             ],
             [
              1,
              "#f0f921"
             ]
            ],
            "type": "histogram2d"
           }
          ],
          "histogram2dcontour": [
           {
            "colorbar": {
             "outlinewidth": 0,
             "ticks": ""
            },
            "colorscale": [
             [
              0,
              "#0d0887"
             ],
             [
              0.1111111111111111,
              "#46039f"
             ],
             [
              0.2222222222222222,
              "#7201a8"
             ],
             [
              0.3333333333333333,
              "#9c179e"
             ],
             [
              0.4444444444444444,
              "#bd3786"
             ],
             [
              0.5555555555555556,
              "#d8576b"
             ],
             [
              0.6666666666666666,
              "#ed7953"
             ],
             [
              0.7777777777777778,
              "#fb9f3a"
             ],
             [
              0.8888888888888888,
              "#fdca26"
             ],
             [
              1,
              "#f0f921"
             ]
            ],
            "type": "histogram2dcontour"
           }
          ],
          "mesh3d": [
           {
            "colorbar": {
             "outlinewidth": 0,
             "ticks": ""
            },
            "type": "mesh3d"
           }
          ],
          "parcoords": [
           {
            "line": {
             "colorbar": {
              "outlinewidth": 0,
              "ticks": ""
             }
            },
            "type": "parcoords"
           }
          ],
          "pie": [
           {
            "automargin": true,
            "type": "pie"
           }
          ],
          "scatter": [
           {
            "marker": {
             "colorbar": {
              "outlinewidth": 0,
              "ticks": ""
             }
            },
            "type": "scatter"
           }
          ],
          "scatter3d": [
           {
            "line": {
             "colorbar": {
              "outlinewidth": 0,
              "ticks": ""
             }
            },
            "marker": {
             "colorbar": {
              "outlinewidth": 0,
              "ticks": ""
             }
            },
            "type": "scatter3d"
           }
          ],
          "scattercarpet": [
           {
            "marker": {
             "colorbar": {
              "outlinewidth": 0,
              "ticks": ""
             }
            },
            "type": "scattercarpet"
           }
          ],
          "scattergeo": [
           {
            "marker": {
             "colorbar": {
              "outlinewidth": 0,
              "ticks": ""
             }
            },
            "type": "scattergeo"
           }
          ],
          "scattergl": [
           {
            "marker": {
             "colorbar": {
              "outlinewidth": 0,
              "ticks": ""
             }
            },
            "type": "scattergl"
           }
          ],
          "scattermapbox": [
           {
            "marker": {
             "colorbar": {
              "outlinewidth": 0,
              "ticks": ""
             }
            },
            "type": "scattermapbox"
           }
          ],
          "scatterpolar": [
           {
            "marker": {
             "colorbar": {
              "outlinewidth": 0,
              "ticks": ""
             }
            },
            "type": "scatterpolar"
           }
          ],
          "scatterpolargl": [
           {
            "marker": {
             "colorbar": {
              "outlinewidth": 0,
              "ticks": ""
             }
            },
            "type": "scatterpolargl"
           }
          ],
          "scatterternary": [
           {
            "marker": {
             "colorbar": {
              "outlinewidth": 0,
              "ticks": ""
             }
            },
            "type": "scatterternary"
           }
          ],
          "surface": [
           {
            "colorbar": {
             "outlinewidth": 0,
             "ticks": ""
            },
            "colorscale": [
             [
              0,
              "#0d0887"
             ],
             [
              0.1111111111111111,
              "#46039f"
             ],
             [
              0.2222222222222222,
              "#7201a8"
             ],
             [
              0.3333333333333333,
              "#9c179e"
             ],
             [
              0.4444444444444444,
              "#bd3786"
             ],
             [
              0.5555555555555556,
              "#d8576b"
             ],
             [
              0.6666666666666666,
              "#ed7953"
             ],
             [
              0.7777777777777778,
              "#fb9f3a"
             ],
             [
              0.8888888888888888,
              "#fdca26"
             ],
             [
              1,
              "#f0f921"
             ]
            ],
            "type": "surface"
           }
          ],
          "table": [
           {
            "cells": {
             "fill": {
              "color": "#EBF0F8"
             },
             "line": {
              "color": "white"
             }
            },
            "header": {
             "fill": {
              "color": "#C8D4E3"
             },
             "line": {
              "color": "white"
             }
            },
            "type": "table"
           }
          ]
         },
         "layout": {
          "annotationdefaults": {
           "arrowcolor": "#2a3f5f",
           "arrowhead": 0,
           "arrowwidth": 1
          },
          "autotypenumbers": "strict",
          "coloraxis": {
           "colorbar": {
            "outlinewidth": 0,
            "ticks": ""
           }
          },
          "colorscale": {
           "diverging": [
            [
             0,
             "#8e0152"
            ],
            [
             0.1,
             "#c51b7d"
            ],
            [
             0.2,
             "#de77ae"
            ],
            [
             0.3,
             "#f1b6da"
            ],
            [
             0.4,
             "#fde0ef"
            ],
            [
             0.5,
             "#f7f7f7"
            ],
            [
             0.6,
             "#e6f5d0"
            ],
            [
             0.7,
             "#b8e186"
            ],
            [
             0.8,
             "#7fbc41"
            ],
            [
             0.9,
             "#4d9221"
            ],
            [
             1,
             "#276419"
            ]
           ],
           "sequential": [
            [
             0,
             "#0d0887"
            ],
            [
             0.1111111111111111,
             "#46039f"
            ],
            [
             0.2222222222222222,
             "#7201a8"
            ],
            [
             0.3333333333333333,
             "#9c179e"
            ],
            [
             0.4444444444444444,
             "#bd3786"
            ],
            [
             0.5555555555555556,
             "#d8576b"
            ],
            [
             0.6666666666666666,
             "#ed7953"
            ],
            [
             0.7777777777777778,
             "#fb9f3a"
            ],
            [
             0.8888888888888888,
             "#fdca26"
            ],
            [
             1,
             "#f0f921"
            ]
           ],
           "sequentialminus": [
            [
             0,
             "#0d0887"
            ],
            [
             0.1111111111111111,
             "#46039f"
            ],
            [
             0.2222222222222222,
             "#7201a8"
            ],
            [
             0.3333333333333333,
             "#9c179e"
            ],
            [
             0.4444444444444444,
             "#bd3786"
            ],
            [
             0.5555555555555556,
             "#d8576b"
            ],
            [
             0.6666666666666666,
             "#ed7953"
            ],
            [
             0.7777777777777778,
             "#fb9f3a"
            ],
            [
             0.8888888888888888,
             "#fdca26"
            ],
            [
             1,
             "#f0f921"
            ]
           ]
          },
          "colorway": [
           "#636efa",
           "#EF553B",
           "#00cc96",
           "#ab63fa",
           "#FFA15A",
           "#19d3f3",
           "#FF6692",
           "#B6E880",
           "#FF97FF",
           "#FECB52"
          ],
          "font": {
           "color": "#2a3f5f"
          },
          "geo": {
           "bgcolor": "white",
           "lakecolor": "white",
           "landcolor": "#E5ECF6",
           "showlakes": true,
           "showland": true,
           "subunitcolor": "white"
          },
          "hoverlabel": {
           "align": "left"
          },
          "hovermode": "closest",
          "mapbox": {
           "style": "light"
          },
          "paper_bgcolor": "white",
          "plot_bgcolor": "#E5ECF6",
          "polar": {
           "angularaxis": {
            "gridcolor": "white",
            "linecolor": "white",
            "ticks": ""
           },
           "bgcolor": "#E5ECF6",
           "radialaxis": {
            "gridcolor": "white",
            "linecolor": "white",
            "ticks": ""
           }
          },
          "scene": {
           "xaxis": {
            "backgroundcolor": "#E5ECF6",
            "gridcolor": "white",
            "gridwidth": 2,
            "linecolor": "white",
            "showbackground": true,
            "ticks": "",
            "zerolinecolor": "white"
           },
           "yaxis": {
            "backgroundcolor": "#E5ECF6",
            "gridcolor": "white",
            "gridwidth": 2,
            "linecolor": "white",
            "showbackground": true,
            "ticks": "",
            "zerolinecolor": "white"
           },
           "zaxis": {
            "backgroundcolor": "#E5ECF6",
            "gridcolor": "white",
            "gridwidth": 2,
            "linecolor": "white",
            "showbackground": true,
            "ticks": "",
            "zerolinecolor": "white"
           }
          },
          "shapedefaults": {
           "line": {
            "color": "#2a3f5f"
           }
          },
          "ternary": {
           "aaxis": {
            "gridcolor": "white",
            "linecolor": "white",
            "ticks": ""
           },
           "baxis": {
            "gridcolor": "white",
            "linecolor": "white",
            "ticks": ""
           },
           "bgcolor": "#E5ECF6",
           "caxis": {
            "gridcolor": "white",
            "linecolor": "white",
            "ticks": ""
           }
          },
          "title": {
           "x": 0.05
          },
          "xaxis": {
           "automargin": true,
           "gridcolor": "white",
           "linecolor": "white",
           "ticks": "",
           "title": {
            "standoff": 15
           },
           "zerolinecolor": "white",
           "zerolinewidth": 2
          },
          "yaxis": {
           "automargin": true,
           "gridcolor": "white",
           "linecolor": "white",
           "ticks": "",
           "title": {
            "standoff": 15
           },
           "zerolinecolor": "white",
           "zerolinewidth": 2
          }
         }
        },
        "xaxis": {
         "anchor": "y",
         "domain": [
          0,
          1
         ],
         "title": {
          "text": "time"
         }
        },
        "yaxis": {
         "anchor": "x",
         "domain": [
          0,
          1
         ],
         "title": {
          "text": "value"
         }
        }
       }
      },
      "text/html": [
       "<div>                            <div id=\"ed3031d2-0e90-499e-a79a-d97df01b5022\" class=\"plotly-graph-div\" style=\"height:525px; width:100%;\"></div>            <script type=\"text/javascript\">                require([\"plotly\"], function(Plotly) {                    window.PLOTLYENV=window.PLOTLYENV || {};                                    if (document.getElementById(\"ed3031d2-0e90-499e-a79a-d97df01b5022\")) {                    Plotly.newPlot(                        \"ed3031d2-0e90-499e-a79a-d97df01b5022\",                        [{\"hovertemplate\":\"time=%{x}<br>value=%{y}<extra></extra>\",\"legendgroup\":\"\",\"line\":{\"color\":\"#636efa\",\"dash\":\"solid\"},\"mode\":\"lines\",\"name\":\"\",\"orientation\":\"v\",\"showlegend\":false,\"type\":\"scatter\",\"x\":[\"2021-06-17\",\"2021-06-30\",\"2021-07-01\",\"2021-07-02\",\"2021-07-05\",\"2021-07-06\",\"2021-07-07\",\"2021-07-08\",\"2021-07-09\",\"2021-07-10\",\"2021-07-11\",\"2021-07-12\",\"2021-07-13\",\"2021-07-14\"],\"xaxis\":\"x\",\"y\":[50.82435897435899,50.64239999999999,53.90388888888888,53.09944444444444,52.6108695652174,52.55636363636363,52.83535573122529,53.11434782608696,52.20133333333333,52.269393939393936,53.759166666666665,53.63190476190475,53.69455238095238,53.75720000000001],\"yaxis\":\"y\"}],                        {\"legend\":{\"tracegroupgap\":0},\"margin\":{\"t\":60},\"template\":{\"data\":{\"bar\":[{\"error_x\":{\"color\":\"#2a3f5f\"},\"error_y\":{\"color\":\"#2a3f5f\"},\"marker\":{\"line\":{\"color\":\"#E5ECF6\",\"width\":0.5},\"pattern\":{\"fillmode\":\"overlay\",\"size\":10,\"solidity\":0.2}},\"type\":\"bar\"}],\"barpolar\":[{\"marker\":{\"line\":{\"color\":\"#E5ECF6\",\"width\":0.5},\"pattern\":{\"fillmode\":\"overlay\",\"size\":10,\"solidity\":0.2}},\"type\":\"barpolar\"}],\"carpet\":[{\"aaxis\":{\"endlinecolor\":\"#2a3f5f\",\"gridcolor\":\"white\",\"linecolor\":\"white\",\"minorgridcolor\":\"white\",\"startlinecolor\":\"#2a3f5f\"},\"baxis\":{\"endlinecolor\":\"#2a3f5f\",\"gridcolor\":\"white\",\"linecolor\":\"white\",\"minorgridcolor\":\"white\",\"startlinecolor\":\"#2a3f5f\"},\"type\":\"carpet\"}],\"choropleth\":[{\"colorbar\":{\"outlinewidth\":0,\"ticks\":\"\"},\"type\":\"choropleth\"}],\"contour\":[{\"colorbar\":{\"outlinewidth\":0,\"ticks\":\"\"},\"colorscale\":[[0.0,\"#0d0887\"],[0.1111111111111111,\"#46039f\"],[0.2222222222222222,\"#7201a8\"],[0.3333333333333333,\"#9c179e\"],[0.4444444444444444,\"#bd3786\"],[0.5555555555555556,\"#d8576b\"],[0.6666666666666666,\"#ed7953\"],[0.7777777777777778,\"#fb9f3a\"],[0.8888888888888888,\"#fdca26\"],[1.0,\"#f0f921\"]],\"type\":\"contour\"}],\"contourcarpet\":[{\"colorbar\":{\"outlinewidth\":0,\"ticks\":\"\"},\"type\":\"contourcarpet\"}],\"heatmap\":[{\"colorbar\":{\"outlinewidth\":0,\"ticks\":\"\"},\"colorscale\":[[0.0,\"#0d0887\"],[0.1111111111111111,\"#46039f\"],[0.2222222222222222,\"#7201a8\"],[0.3333333333333333,\"#9c179e\"],[0.4444444444444444,\"#bd3786\"],[0.5555555555555556,\"#d8576b\"],[0.6666666666666666,\"#ed7953\"],[0.7777777777777778,\"#fb9f3a\"],[0.8888888888888888,\"#fdca26\"],[1.0,\"#f0f921\"]],\"type\":\"heatmap\"}],\"heatmapgl\":[{\"colorbar\":{\"outlinewidth\":0,\"ticks\":\"\"},\"colorscale\":[[0.0,\"#0d0887\"],[0.1111111111111111,\"#46039f\"],[0.2222222222222222,\"#7201a8\"],[0.3333333333333333,\"#9c179e\"],[0.4444444444444444,\"#bd3786\"],[0.5555555555555556,\"#d8576b\"],[0.6666666666666666,\"#ed7953\"],[0.7777777777777778,\"#fb9f3a\"],[0.8888888888888888,\"#fdca26\"],[1.0,\"#f0f921\"]],\"type\":\"heatmapgl\"}],\"histogram\":[{\"marker\":{\"pattern\":{\"fillmode\":\"overlay\",\"size\":10,\"solidity\":0.2}},\"type\":\"histogram\"}],\"histogram2d\":[{\"colorbar\":{\"outlinewidth\":0,\"ticks\":\"\"},\"colorscale\":[[0.0,\"#0d0887\"],[0.1111111111111111,\"#46039f\"],[0.2222222222222222,\"#7201a8\"],[0.3333333333333333,\"#9c179e\"],[0.4444444444444444,\"#bd3786\"],[0.5555555555555556,\"#d8576b\"],[0.6666666666666666,\"#ed7953\"],[0.7777777777777778,\"#fb9f3a\"],[0.8888888888888888,\"#fdca26\"],[1.0,\"#f0f921\"]],\"type\":\"histogram2d\"}],\"histogram2dcontour\":[{\"colorbar\":{\"outlinewidth\":0,\"ticks\":\"\"},\"colorscale\":[[0.0,\"#0d0887\"],[0.1111111111111111,\"#46039f\"],[0.2222222222222222,\"#7201a8\"],[0.3333333333333333,\"#9c179e\"],[0.4444444444444444,\"#bd3786\"],[0.5555555555555556,\"#d8576b\"],[0.6666666666666666,\"#ed7953\"],[0.7777777777777778,\"#fb9f3a\"],[0.8888888888888888,\"#fdca26\"],[1.0,\"#f0f921\"]],\"type\":\"histogram2dcontour\"}],\"mesh3d\":[{\"colorbar\":{\"outlinewidth\":0,\"ticks\":\"\"},\"type\":\"mesh3d\"}],\"parcoords\":[{\"line\":{\"colorbar\":{\"outlinewidth\":0,\"ticks\":\"\"}},\"type\":\"parcoords\"}],\"pie\":[{\"automargin\":true,\"type\":\"pie\"}],\"scatter\":[{\"marker\":{\"colorbar\":{\"outlinewidth\":0,\"ticks\":\"\"}},\"type\":\"scatter\"}],\"scatter3d\":[{\"line\":{\"colorbar\":{\"outlinewidth\":0,\"ticks\":\"\"}},\"marker\":{\"colorbar\":{\"outlinewidth\":0,\"ticks\":\"\"}},\"type\":\"scatter3d\"}],\"scattercarpet\":[{\"marker\":{\"colorbar\":{\"outlinewidth\":0,\"ticks\":\"\"}},\"type\":\"scattercarpet\"}],\"scattergeo\":[{\"marker\":{\"colorbar\":{\"outlinewidth\":0,\"ticks\":\"\"}},\"type\":\"scattergeo\"}],\"scattergl\":[{\"marker\":{\"colorbar\":{\"outlinewidth\":0,\"ticks\":\"\"}},\"type\":\"scattergl\"}],\"scattermapbox\":[{\"marker\":{\"colorbar\":{\"outlinewidth\":0,\"ticks\":\"\"}},\"type\":\"scattermapbox\"}],\"scatterpolar\":[{\"marker\":{\"colorbar\":{\"outlinewidth\":0,\"ticks\":\"\"}},\"type\":\"scatterpolar\"}],\"scatterpolargl\":[{\"marker\":{\"colorbar\":{\"outlinewidth\":0,\"ticks\":\"\"}},\"type\":\"scatterpolargl\"}],\"scatterternary\":[{\"marker\":{\"colorbar\":{\"outlinewidth\":0,\"ticks\":\"\"}},\"type\":\"scatterternary\"}],\"surface\":[{\"colorbar\":{\"outlinewidth\":0,\"ticks\":\"\"},\"colorscale\":[[0.0,\"#0d0887\"],[0.1111111111111111,\"#46039f\"],[0.2222222222222222,\"#7201a8\"],[0.3333333333333333,\"#9c179e\"],[0.4444444444444444,\"#bd3786\"],[0.5555555555555556,\"#d8576b\"],[0.6666666666666666,\"#ed7953\"],[0.7777777777777778,\"#fb9f3a\"],[0.8888888888888888,\"#fdca26\"],[1.0,\"#f0f921\"]],\"type\":\"surface\"}],\"table\":[{\"cells\":{\"fill\":{\"color\":\"#EBF0F8\"},\"line\":{\"color\":\"white\"}},\"header\":{\"fill\":{\"color\":\"#C8D4E3\"},\"line\":{\"color\":\"white\"}},\"type\":\"table\"}]},\"layout\":{\"annotationdefaults\":{\"arrowcolor\":\"#2a3f5f\",\"arrowhead\":0,\"arrowwidth\":1},\"autotypenumbers\":\"strict\",\"coloraxis\":{\"colorbar\":{\"outlinewidth\":0,\"ticks\":\"\"}},\"colorscale\":{\"diverging\":[[0,\"#8e0152\"],[0.1,\"#c51b7d\"],[0.2,\"#de77ae\"],[0.3,\"#f1b6da\"],[0.4,\"#fde0ef\"],[0.5,\"#f7f7f7\"],[0.6,\"#e6f5d0\"],[0.7,\"#b8e186\"],[0.8,\"#7fbc41\"],[0.9,\"#4d9221\"],[1,\"#276419\"]],\"sequential\":[[0.0,\"#0d0887\"],[0.1111111111111111,\"#46039f\"],[0.2222222222222222,\"#7201a8\"],[0.3333333333333333,\"#9c179e\"],[0.4444444444444444,\"#bd3786\"],[0.5555555555555556,\"#d8576b\"],[0.6666666666666666,\"#ed7953\"],[0.7777777777777778,\"#fb9f3a\"],[0.8888888888888888,\"#fdca26\"],[1.0,\"#f0f921\"]],\"sequentialminus\":[[0.0,\"#0d0887\"],[0.1111111111111111,\"#46039f\"],[0.2222222222222222,\"#7201a8\"],[0.3333333333333333,\"#9c179e\"],[0.4444444444444444,\"#bd3786\"],[0.5555555555555556,\"#d8576b\"],[0.6666666666666666,\"#ed7953\"],[0.7777777777777778,\"#fb9f3a\"],[0.8888888888888888,\"#fdca26\"],[1.0,\"#f0f921\"]]},\"colorway\":[\"#636efa\",\"#EF553B\",\"#00cc96\",\"#ab63fa\",\"#FFA15A\",\"#19d3f3\",\"#FF6692\",\"#B6E880\",\"#FF97FF\",\"#FECB52\"],\"font\":{\"color\":\"#2a3f5f\"},\"geo\":{\"bgcolor\":\"white\",\"lakecolor\":\"white\",\"landcolor\":\"#E5ECF6\",\"showlakes\":true,\"showland\":true,\"subunitcolor\":\"white\"},\"hoverlabel\":{\"align\":\"left\"},\"hovermode\":\"closest\",\"mapbox\":{\"style\":\"light\"},\"paper_bgcolor\":\"white\",\"plot_bgcolor\":\"#E5ECF6\",\"polar\":{\"angularaxis\":{\"gridcolor\":\"white\",\"linecolor\":\"white\",\"ticks\":\"\"},\"bgcolor\":\"#E5ECF6\",\"radialaxis\":{\"gridcolor\":\"white\",\"linecolor\":\"white\",\"ticks\":\"\"}},\"scene\":{\"xaxis\":{\"backgroundcolor\":\"#E5ECF6\",\"gridcolor\":\"white\",\"gridwidth\":2,\"linecolor\":\"white\",\"showbackground\":true,\"ticks\":\"\",\"zerolinecolor\":\"white\"},\"yaxis\":{\"backgroundcolor\":\"#E5ECF6\",\"gridcolor\":\"white\",\"gridwidth\":2,\"linecolor\":\"white\",\"showbackground\":true,\"ticks\":\"\",\"zerolinecolor\":\"white\"},\"zaxis\":{\"backgroundcolor\":\"#E5ECF6\",\"gridcolor\":\"white\",\"gridwidth\":2,\"linecolor\":\"white\",\"showbackground\":true,\"ticks\":\"\",\"zerolinecolor\":\"white\"}},\"shapedefaults\":{\"line\":{\"color\":\"#2a3f5f\"}},\"ternary\":{\"aaxis\":{\"gridcolor\":\"white\",\"linecolor\":\"white\",\"ticks\":\"\"},\"baxis\":{\"gridcolor\":\"white\",\"linecolor\":\"white\",\"ticks\":\"\"},\"bgcolor\":\"#E5ECF6\",\"caxis\":{\"gridcolor\":\"white\",\"linecolor\":\"white\",\"ticks\":\"\"}},\"title\":{\"x\":0.05},\"xaxis\":{\"automargin\":true,\"gridcolor\":\"white\",\"linecolor\":\"white\",\"ticks\":\"\",\"title\":{\"standoff\":15},\"zerolinecolor\":\"white\",\"zerolinewidth\":2},\"yaxis\":{\"automargin\":true,\"gridcolor\":\"white\",\"linecolor\":\"white\",\"ticks\":\"\",\"title\":{\"standoff\":15},\"zerolinecolor\":\"white\",\"zerolinewidth\":2}}},\"xaxis\":{\"anchor\":\"y\",\"domain\":[0.0,1.0],\"title\":{\"text\":\"time\"}},\"yaxis\":{\"anchor\":\"x\",\"domain\":[0.0,1.0],\"title\":{\"text\":\"value\"}}},                        {\"responsive\": true}                    ).then(function(){\n",
       "                            \n",
       "var gd = document.getElementById('ed3031d2-0e90-499e-a79a-d97df01b5022');\n",
       "var x = new MutationObserver(function (mutations, observer) {{\n",
       "        var display = window.getComputedStyle(gd).display;\n",
       "        if (!display || display === 'none') {{\n",
       "            console.log([gd, 'removed!']);\n",
       "            Plotly.purge(gd);\n",
       "            observer.disconnect();\n",
       "        }}\n",
       "}});\n",
       "\n",
       "// Listen for the removal of the full notebook cells\n",
       "var notebookContainer = gd.closest('#notebook-container');\n",
       "if (notebookContainer) {{\n",
       "    x.observe(notebookContainer, {childList: true});\n",
       "}}\n",
       "\n",
       "// Listen for the clearing of the current output cell\n",
       "var outputEl = gd.closest('.output');\n",
       "if (outputEl) {{\n",
       "    x.observe(outputEl, {childList: true});\n",
       "}}\n",
       "\n",
       "                        })                };                });            </script>        </div>"
      ]
     },
     "metadata": {},
     "output_type": "display_data"
    },
    {
     "name": "stdout",
     "output_type": "stream",
     "text": [
      "23-2-2\n"
     ]
    }
   ],
   "source": [
    "m = 23\n",
    "n = 2\n",
    "s = 2\n",
    "\n",
    "df=pd.read_csv(r'C:\\Users\\Tosha.E.T\\Desktop\\Sinotech\\716\\{0}-{1}-{2}_clean.csv'.format(m,n,s))\n",
    "df=df[df['value']>50]\n",
    "df=df[df['value']<60]\n",
    "df = df.reset_index()\n",
    "\n",
    "i = 1\n",
    "while i<(len(df[\"value\"])-1):\n",
    "    a = df[\"value\"][i-1]\n",
    "    b = df[\"value\"][i]\n",
    "    c = df[\"value\"][i+1]\n",
    "    if (abs(b-c)+abs(a-b))/2>abs(c-a)*1.5:\n",
    "        df[\"value\"][i] = (a+c)/2\n",
    "        i=i+1\n",
    "    else:\n",
    "        i=i+1\n",
    "df.to_csv(r'C:\\Users\\Tosha.E.T\\Desktop\\Sinotech\\716\\{0}-{1}-{2}_cut.csv'.format(m,n,s))\n",
    "print(\"cut save!!\")\n",
    "#---------------------------------------------------\n",
    "fig = px.line(df, y='value', x='time')        \n",
    "fig.show()\n",
    "print(\"{0}-{1}-{2}\".format(m,n,s))"
   ]
  },
  {
   "cell_type": "code",
   "execution_count": null,
   "id": "familiar-neighborhood",
   "metadata": {},
   "outputs": [],
   "source": []
  },
  {
   "cell_type": "code",
   "execution_count": 33,
   "id": "romantic-northeast",
   "metadata": {},
   "outputs": [
    {
     "name": "stdout",
     "output_type": "stream",
     "text": [
      "cut save!!\n"
     ]
    },
    {
     "name": "stderr",
     "output_type": "stream",
     "text": [
      "<ipython-input-33-d2274afa9cf1>:16: SettingWithCopyWarning:\n",
      "\n",
      "\n",
      "A value is trying to be set on a copy of a slice from a DataFrame\n",
      "\n",
      "See the caveats in the documentation: https://pandas.pydata.org/pandas-docs/stable/user_guide/indexing.html#returning-a-view-versus-a-copy\n",
      "\n"
     ]
    },
    {
     "data": {
      "application/vnd.plotly.v1+json": {
       "config": {
        "plotlyServerURL": "https://plot.ly"
       },
       "data": [
        {
         "hovertemplate": "time=%{x}<br>value=%{y}<extra></extra>",
         "legendgroup": "",
         "line": {
          "color": "#636efa",
          "dash": "solid"
         },
         "mode": "lines",
         "name": "",
         "orientation": "v",
         "showlegend": false,
         "type": "scatter",
         "x": [
          "2021-06-11 16:00:00",
          "2021-06-11 16:30:00",
          "2021-06-11 17:30:00",
          "2021-06-11 18:00:00",
          "2021-06-11 18:30:00",
          "2021-06-11 19:00:00",
          "2021-06-11 19:30:00",
          "2021-06-11 20:30:00",
          "2021-06-11 21:30:00",
          "2021-06-11 22:00:00",
          "2021-06-12 01:30:00",
          "2021-06-12 02:00:00",
          "2021-06-12 03:00:00",
          "2021-06-12 03:30:00",
          "2021-06-12 04:00:00",
          "2021-06-12 04:30:00",
          "2021-06-12 05:00:00",
          "2021-06-12 05:30:00",
          "2021-06-12 07:00:00",
          "2021-06-12 07:30:00",
          "2021-06-12 10:00:00",
          "2021-06-12 10:30:00",
          "2021-06-12 11:00:00",
          "2021-06-12 12:00:00",
          "2021-06-12 12:30:00",
          "2021-06-12 13:00:00",
          "2021-06-12 14:00:00",
          "2021-06-12 14:30:00",
          "2021-06-12 17:30:00",
          "2021-06-12 18:30:00",
          "2021-06-12 19:00:00",
          "2021-06-12 20:00:00",
          "2021-06-12 20:30:00",
          "2021-06-12 21:30:00",
          "2021-06-12 22:00:00",
          "2021-06-12 22:30:00",
          "2021-06-12 23:30:00",
          "2021-06-13 00:00:00",
          "2021-06-13 00:30:00",
          "2021-06-13 01:00:00",
          "2021-06-13 02:00:00",
          "2021-06-13 02:30:00",
          "2021-06-13 03:00:00",
          "2021-06-13 03:30:00",
          "2021-06-13 04:30:00",
          "2021-06-13 05:30:00",
          "2021-06-13 06:00:00",
          "2021-06-13 06:30:00",
          "2021-06-13 07:00:00",
          "2021-06-13 08:00:00",
          "2021-06-13 08:30:00",
          "2021-06-13 09:00:00",
          "2021-06-13 09:30:00",
          "2021-06-13 10:00:00",
          "2021-06-13 11:00:00",
          "2021-06-13 11:30:00",
          "2021-06-13 17:30:00",
          "2021-06-13 23:00:00",
          "2021-06-14 00:00:00",
          "2021-06-14 00:30:00",
          "2021-06-14 01:00:00",
          "2021-06-14 02:00:00",
          "2021-06-14 04:00:00",
          "2021-06-14 04:30:00",
          "2021-06-14 05:30:00",
          "2021-06-14 07:30:00",
          "2021-06-14 08:30:00",
          "2021-06-14 10:00:00",
          "2021-06-14 11:30:00",
          "2021-06-14 18:30:00",
          "2021-06-14 23:30:00",
          "2021-06-15 03:00:00",
          "2021-06-15 10:00:00",
          "2021-06-15 11:00:00",
          "2021-06-15 14:00:00",
          "2021-06-15 15:00:00",
          "2021-06-15 17:00:00",
          "2021-06-15 20:30:00",
          "2021-06-15 21:30:00",
          "2021-06-16 03:30:00",
          "2021-06-16 06:30:00",
          "2021-06-16 09:00:00",
          "2021-06-16 10:00:00",
          "2021-06-16 18:30:00",
          "2021-06-17 00:30:00",
          "2021-06-17 01:30:00",
          "2021-06-17 02:30:00",
          "2021-06-17 04:30:00",
          "2021-06-17 05:30:00",
          "2021-06-17 06:30:00",
          "2021-06-17 07:30:00",
          "2021-06-17 08:00:00",
          "2021-06-17 09:00:00",
          "2021-06-17 12:30:00",
          "2021-06-17 15:30:00",
          "2021-06-17 18:00:00",
          "2021-06-17 20:00:00",
          "2021-06-17 20:30:00",
          "2021-06-17 21:00:00",
          "2021-06-17 21:30:00",
          "2021-06-17 22:30:00",
          "2021-06-18 05:00:00",
          "2021-06-18 07:30:00",
          "2021-06-18 08:00:00",
          "2021-06-18 08:30:00",
          "2021-06-18 09:00:00",
          "2021-06-18 14:00:00",
          "2021-06-18 14:30:00",
          "2021-06-18 15:30:00",
          "2021-06-18 16:00:00",
          "2021-06-18 17:00:00",
          "2021-06-18 17:30:00",
          "2021-06-18 20:30:00",
          "2021-06-18 21:30:00",
          "2021-06-18 22:30:00",
          "2021-06-18 23:30:00",
          "2021-06-19 00:30:00",
          "2021-06-19 01:30:00",
          "2021-06-19 05:30:00",
          "2021-06-19 06:00:00",
          "2021-06-19 06:30:00",
          "2021-06-19 09:00:00",
          "2021-06-19 11:30:00",
          "2021-06-19 13:00:00",
          "2021-06-19 14:00:00",
          "2021-06-19 15:00:00",
          "2021-06-19 16:00:00",
          "2021-06-19 16:30:00",
          "2021-06-19 17:30:00",
          "2021-06-19 23:00:00",
          "2021-06-20 02:00:00",
          "2021-06-20 02:30:00",
          "2021-06-20 06:30:00",
          "2021-06-20 09:30:00",
          "2021-06-20 10:00:00",
          "2021-06-20 10:30:00",
          "2021-06-20 13:30:00",
          "2021-06-20 15:30:00",
          "2021-06-20 16:00:00",
          "2021-06-20 17:30:00",
          "2021-06-20 18:00:00",
          "2021-06-20 19:30:00",
          "2021-06-20 21:00:00",
          "2021-06-20 22:30:00",
          "2021-06-20 23:00:00",
          "2021-06-21 00:30:00",
          "2021-06-21 02:00:00",
          "2021-06-21 03:00:00",
          "2021-06-21 08:30:00",
          "2021-06-21 09:00:00",
          "2021-06-21 11:30:00",
          "2021-06-21 12:00:00",
          "2021-06-21 12:30:00",
          "2021-06-21 13:00:00",
          "2021-06-21 13:30:00",
          "2021-06-21 15:00:00",
          "2021-06-21 15:30:00",
          "2021-06-21 16:30:00",
          "2021-06-21 19:00:00",
          "2021-06-21 19:30:00",
          "2021-06-21 20:00:00",
          "2021-06-21 20:30:00",
          "2021-06-21 21:30:00",
          "2021-06-21 22:30:00",
          "2021-06-21 23:30:00",
          "2021-06-22 02:00:00",
          "2021-06-22 03:00:00",
          "2021-06-22 03:30:00",
          "2021-06-22 04:00:00",
          "2021-06-22 04:30:00",
          "2021-06-22 05:00:00",
          "2021-06-22 08:00:00",
          "2021-06-22 08:30:00",
          "2021-06-22 09:00:00",
          "2021-06-22 10:00:00",
          "2021-06-22 10:30:00",
          "2021-06-22 11:00:00",
          "2021-06-22 11:30:00",
          "2021-06-22 12:00:00",
          "2021-06-22 12:30:00",
          "2021-06-22 13:00:00",
          "2021-06-22 13:30:00",
          "2021-06-22 14:00:00",
          "2021-06-22 14:30:00",
          "2021-06-22 18:30:00",
          "2021-06-22 19:00:00",
          "2021-06-22 19:30:00",
          "2021-06-22 22:00:00",
          "2021-06-22 22:30:00",
          "2021-06-23 06:30:00",
          "2021-06-23 07:00:00",
          "2021-06-23 13:00:00",
          "2021-06-23 14:00:00",
          "2021-06-23 15:00:00",
          "2021-06-23 17:30:00",
          "2021-06-23 19:00:00",
          "2021-06-23 19:30:00",
          "2021-06-23 20:00:00",
          "2021-06-23 20:30:00",
          "2021-06-23 21:00:00",
          "2021-06-23 22:00:00",
          "2021-06-23 22:30:00",
          "2021-06-24 00:00:00",
          "2021-06-24 01:00:00",
          "2021-06-24 01:30:00",
          "2021-06-24 02:30:00",
          "2021-06-24 03:00:00",
          "2021-06-24 06:00:00",
          "2021-06-24 06:30:00",
          "2021-06-24 07:00:00",
          "2021-06-24 10:00:00",
          "2021-06-24 11:00:00",
          "2021-06-24 11:30:00",
          "2021-06-24 17:30:00",
          "2021-06-24 18:30:00",
          "2021-06-24 19:00:00",
          "2021-06-24 19:30:00",
          "2021-06-24 20:30:00",
          "2021-06-24 21:00:00",
          "2021-06-24 21:30:00",
          "2021-06-24 22:30:00",
          "2021-06-24 23:00:00",
          "2021-06-24 23:30:00",
          "2021-06-25 00:30:00",
          "2021-06-25 01:30:00",
          "2021-06-25 03:30:00",
          "2021-06-25 04:00:00",
          "2021-06-25 04:30:00",
          "2021-06-25 05:00:00",
          "2021-06-25 06:00:00",
          "2021-06-25 07:00:00",
          "2021-06-25 10:00:00",
          "2021-06-25 17:30:00",
          "2021-06-25 18:30:00",
          "2021-06-25 19:00:00",
          "2021-06-25 19:30:00",
          "2021-06-25 20:00:00",
          "2021-06-25 23:30:00",
          "2021-06-26 00:00:00",
          "2021-06-26 01:30:00",
          "2021-06-26 04:00:00",
          "2021-06-26 07:00:00",
          "2021-06-26 07:30:00",
          "2021-06-26 08:30:00",
          "2021-06-26 10:00:00",
          "2021-06-26 11:00:00",
          "2021-06-26 11:30:00",
          "2021-06-26 12:30:00",
          "2021-06-26 13:30:00",
          "2021-06-26 16:30:00",
          "2021-06-26 17:30:00",
          "2021-06-26 18:00:00",
          "2021-06-26 20:30:00",
          "2021-06-26 21:00:00",
          "2021-06-26 21:30:00",
          "2021-06-26 22:00:00",
          "2021-06-26 22:30:00",
          "2021-06-26 23:00:00",
          "2021-06-26 23:30:00",
          "2021-06-27 01:00:00",
          "2021-06-27 01:30:00",
          "2021-06-27 02:00:00",
          "2021-06-27 04:00:00",
          "2021-06-27 07:30:00",
          "2021-06-27 10:00:00",
          "2021-06-27 12:00:00",
          "2021-06-27 12:30:00",
          "2021-06-27 13:00:00",
          "2021-06-27 13:30:00",
          "2021-06-27 14:30:00",
          "2021-06-28 00:00:00",
          "2021-06-28 00:30:00",
          "2021-06-28 02:30:00",
          "2021-06-28 04:00:00",
          "2021-06-28 05:00:00",
          "2021-06-28 05:30:00",
          "2021-06-28 06:00:00",
          "2021-06-28 09:00:00",
          "2021-06-28 10:00:00",
          "2021-06-28 12:30:00",
          "2021-06-28 14:00:00",
          "2021-06-28 15:00:00",
          "2021-06-28 16:00:00",
          "2021-06-28 19:00:00",
          "2021-06-28 22:00:00",
          "2021-06-28 22:30:00",
          "2021-06-29 00:30:00",
          "2021-06-29 01:30:00",
          "2021-06-29 04:30:00",
          "2021-06-29 08:00:00",
          "2021-06-29 14:00:00",
          "2021-06-29 15:00:00",
          "2021-06-29 20:30:00",
          "2021-06-29 22:30:00",
          "2021-06-30 01:30:00",
          "2021-06-30 02:30:00",
          "2021-06-30 05:30:00",
          "2021-06-30 06:30:00",
          "2021-06-30 07:30:00",
          "2021-07-01 10:30:00",
          "2021-07-02 05:30:00",
          "2021-07-02 10:00:00",
          "2021-07-02 11:00:00",
          "2021-07-02 15:00:00",
          "2021-07-02 15:30:00",
          "2021-07-02 16:00:00",
          "2021-07-02 17:00:00",
          "2021-07-03 06:00:00",
          "2021-07-03 16:30:00",
          "2021-07-05 01:00:00",
          "2021-07-05 10:00:00",
          "2021-07-06 09:30:00",
          "2021-07-06 10:30:00",
          "2021-07-06 12:00:00",
          "2021-07-06 12:30:00"
         ],
         "xaxis": "x",
         "y": [
          37.22,
          36.04,
          35.98,
          35.93,
          35.9,
          36.79,
          36.55,
          36.215,
          36.2775,
          36.34,
          35.5,
          34.88,
          36.24,
          35.8,
          35.54,
          35.61,
          35.81,
          34.76,
          35.02,
          36.1,
          36.56,
          35,
          35.75,
          36.19,
          34.07,
          34.29,
          34.24,
          34.83,
          37.86,
          37.53,
          36.28,
          34.32,
          34.385000000000005,
          34.45,
          34.685,
          34.587500000000006,
          34.60875,
          34.63,
          34.87,
          35.3,
          35.42,
          35.45,
          35.22,
          35.23,
          34.98,
          36.2,
          35.98,
          36.65,
          36.82,
          36.37,
          36.45,
          36.53,
          36.49,
          36.45,
          36.540000000000006,
          36.63,
          35.66,
          35.55,
          35.44,
          35.48,
          35.83,
          35.76,
          35.69,
          35.6,
          35.44,
          35.06,
          34.695,
          34.33,
          35.83,
          35.57,
          35.31,
          34.96,
          34.18,
          37.69,
          37.495,
          37.3,
          36.69,
          36.709999999999994,
          36.73,
          36.56,
          36.97,
          35.71,
          36.18,
          34.77,
          34.74,
          34.71,
          34.66,
          35.21,
          35.45,
          35.72,
          35.42,
          35.12,
          34.91,
          34.29,
          37.96,
          36.73,
          36.82,
          35.84,
          35.54,
          35.5,
          35.6,
          35.56,
          34.96,
          35.144999999999996,
          35.33,
          35.55,
          34.59,
          34.595,
          34.6,
          34.03,
          34.365,
          34.7,
          37.71,
          38.01,
          36.36,
          35.34,
          35.62,
          35.6,
          35.24,
          34.88,
          35.82,
          35.38,
          35.7225,
          36.065,
          35.98,
          35.17,
          35.14,
          35.105000000000004,
          35.07,
          37.89,
          36.51,
          36.5,
          36.19,
          35.72,
          35.55,
          35.99,
          35.900000000000006,
          35.81,
          35.945,
          36.08,
          35.974999999999994,
          35.87,
          35.67,
          35.46,
          35.25,
          35.565,
          35.6375,
          35.633750000000006,
          35.63,
          34.95,
          36.59,
          36.88,
          35.25,
          35.195,
          35.14,
          35.26,
          35.47,
          35.95,
          36.11,
          36.78,
          36.75,
          36.83,
          36.82,
          36.81,
          35.35,
          35.52,
          35.3,
          35.08,
          35.065,
          35.05,
          34.45,
          35.87,
          35.754999999999995,
          35.64,
          35.02,
          35.31,
          35.39,
          35.1,
          35,
          35.42,
          35.82,
          36.18,
          36.35,
          36.01,
          35.765,
          35.52,
          35.43,
          35.69,
          35.17,
          34.6,
          34.7,
          34.730000000000004,
          34.76,
          36.57,
          37.1,
          35.72,
          35.65,
          36.285,
          36.92,
          35.2,
          35.23,
          35.285,
          35.34,
          34.71,
          34.675,
          34.64,
          34.9,
          34.754999999999995,
          34.61,
          34.644999999999996,
          34.68,
          34.24,
          34.36,
          36.68,
          36.475,
          36.27,
          34.23,
          34.165,
          34.1,
          35.28,
          36.18,
          36.175,
          36.17,
          36.27,
          36.18000000000001,
          36.09,
          35.87,
          35.935,
          36,
          34.62,
          34.435,
          34.25,
          34.04,
          34.595,
          35.15,
          34.89,
          35.105000000000004,
          35.32,
          36.2,
          36.11,
          35.65,
          35.19,
          34.42,
          34.21,
          35.71,
          35.28,
          35.11,
          34.91,
          34.71,
          36.57,
          35.79,
          35.480000000000004,
          35.17,
          34.81,
          34.8,
          35.07,
          35.44,
          35.245,
          35.2625,
          35.28,
          35.400000000000006,
          35.52,
          35.175,
          34.83,
          34.79,
          34.635,
          34.48,
          34.81999999999999,
          35.16,
          35.315,
          35.47,
          34.97,
          35.165,
          35.36,
          35.52,
          35.235,
          35.2175,
          35.213750000000005,
          35.21,
          34.71,
          36.02,
          37.39,
          38.355000000000004,
          39.32,
          34.82,
          34.85,
          34.480000000000004,
          34.855000000000004,
          34.7875,
          34.72,
          34.805,
          34.89,
          34.655,
          34.42,
          34.480000000000004,
          34.54,
          39.42,
          37.51,
          36.04,
          35.849999999999994,
          35.66,
          35.004999999999995,
          34.8875,
          34.77,
          35.25,
          35.065,
          34.88,
          34.65,
          34.45,
          34.25,
          36.34,
          36.47,
          34.84,
          34.685,
          34.53
         ],
         "yaxis": "y"
        }
       ],
       "layout": {
        "legend": {
         "tracegroupgap": 0
        },
        "margin": {
         "t": 60
        },
        "template": {
         "data": {
          "bar": [
           {
            "error_x": {
             "color": "#2a3f5f"
            },
            "error_y": {
             "color": "#2a3f5f"
            },
            "marker": {
             "line": {
              "color": "#E5ECF6",
              "width": 0.5
             },
             "pattern": {
              "fillmode": "overlay",
              "size": 10,
              "solidity": 0.2
             }
            },
            "type": "bar"
           }
          ],
          "barpolar": [
           {
            "marker": {
             "line": {
              "color": "#E5ECF6",
              "width": 0.5
             },
             "pattern": {
              "fillmode": "overlay",
              "size": 10,
              "solidity": 0.2
             }
            },
            "type": "barpolar"
           }
          ],
          "carpet": [
           {
            "aaxis": {
             "endlinecolor": "#2a3f5f",
             "gridcolor": "white",
             "linecolor": "white",
             "minorgridcolor": "white",
             "startlinecolor": "#2a3f5f"
            },
            "baxis": {
             "endlinecolor": "#2a3f5f",
             "gridcolor": "white",
             "linecolor": "white",
             "minorgridcolor": "white",
             "startlinecolor": "#2a3f5f"
            },
            "type": "carpet"
           }
          ],
          "choropleth": [
           {
            "colorbar": {
             "outlinewidth": 0,
             "ticks": ""
            },
            "type": "choropleth"
           }
          ],
          "contour": [
           {
            "colorbar": {
             "outlinewidth": 0,
             "ticks": ""
            },
            "colorscale": [
             [
              0,
              "#0d0887"
             ],
             [
              0.1111111111111111,
              "#46039f"
             ],
             [
              0.2222222222222222,
              "#7201a8"
             ],
             [
              0.3333333333333333,
              "#9c179e"
             ],
             [
              0.4444444444444444,
              "#bd3786"
             ],
             [
              0.5555555555555556,
              "#d8576b"
             ],
             [
              0.6666666666666666,
              "#ed7953"
             ],
             [
              0.7777777777777778,
              "#fb9f3a"
             ],
             [
              0.8888888888888888,
              "#fdca26"
             ],
             [
              1,
              "#f0f921"
             ]
            ],
            "type": "contour"
           }
          ],
          "contourcarpet": [
           {
            "colorbar": {
             "outlinewidth": 0,
             "ticks": ""
            },
            "type": "contourcarpet"
           }
          ],
          "heatmap": [
           {
            "colorbar": {
             "outlinewidth": 0,
             "ticks": ""
            },
            "colorscale": [
             [
              0,
              "#0d0887"
             ],
             [
              0.1111111111111111,
              "#46039f"
             ],
             [
              0.2222222222222222,
              "#7201a8"
             ],
             [
              0.3333333333333333,
              "#9c179e"
             ],
             [
              0.4444444444444444,
              "#bd3786"
             ],
             [
              0.5555555555555556,
              "#d8576b"
             ],
             [
              0.6666666666666666,
              "#ed7953"
             ],
             [
              0.7777777777777778,
              "#fb9f3a"
             ],
             [
              0.8888888888888888,
              "#fdca26"
             ],
             [
              1,
              "#f0f921"
             ]
            ],
            "type": "heatmap"
           }
          ],
          "heatmapgl": [
           {
            "colorbar": {
             "outlinewidth": 0,
             "ticks": ""
            },
            "colorscale": [
             [
              0,
              "#0d0887"
             ],
             [
              0.1111111111111111,
              "#46039f"
             ],
             [
              0.2222222222222222,
              "#7201a8"
             ],
             [
              0.3333333333333333,
              "#9c179e"
             ],
             [
              0.4444444444444444,
              "#bd3786"
             ],
             [
              0.5555555555555556,
              "#d8576b"
             ],
             [
              0.6666666666666666,
              "#ed7953"
             ],
             [
              0.7777777777777778,
              "#fb9f3a"
             ],
             [
              0.8888888888888888,
              "#fdca26"
             ],
             [
              1,
              "#f0f921"
             ]
            ],
            "type": "heatmapgl"
           }
          ],
          "histogram": [
           {
            "marker": {
             "pattern": {
              "fillmode": "overlay",
              "size": 10,
              "solidity": 0.2
             }
            },
            "type": "histogram"
           }
          ],
          "histogram2d": [
           {
            "colorbar": {
             "outlinewidth": 0,
             "ticks": ""
            },
            "colorscale": [
             [
              0,
              "#0d0887"
             ],
             [
              0.1111111111111111,
              "#46039f"
             ],
             [
              0.2222222222222222,
              "#7201a8"
             ],
             [
              0.3333333333333333,
              "#9c179e"
             ],
             [
              0.4444444444444444,
              "#bd3786"
             ],
             [
              0.5555555555555556,
              "#d8576b"
             ],
             [
              0.6666666666666666,
              "#ed7953"
             ],
             [
              0.7777777777777778,
              "#fb9f3a"
             ],
             [
              0.8888888888888888,
              "#fdca26"
             ],
             [
              1,
              "#f0f921"
             ]
            ],
            "type": "histogram2d"
           }
          ],
          "histogram2dcontour": [
           {
            "colorbar": {
             "outlinewidth": 0,
             "ticks": ""
            },
            "colorscale": [
             [
              0,
              "#0d0887"
             ],
             [
              0.1111111111111111,
              "#46039f"
             ],
             [
              0.2222222222222222,
              "#7201a8"
             ],
             [
              0.3333333333333333,
              "#9c179e"
             ],
             [
              0.4444444444444444,
              "#bd3786"
             ],
             [
              0.5555555555555556,
              "#d8576b"
             ],
             [
              0.6666666666666666,
              "#ed7953"
             ],
             [
              0.7777777777777778,
              "#fb9f3a"
             ],
             [
              0.8888888888888888,
              "#fdca26"
             ],
             [
              1,
              "#f0f921"
             ]
            ],
            "type": "histogram2dcontour"
           }
          ],
          "mesh3d": [
           {
            "colorbar": {
             "outlinewidth": 0,
             "ticks": ""
            },
            "type": "mesh3d"
           }
          ],
          "parcoords": [
           {
            "line": {
             "colorbar": {
              "outlinewidth": 0,
              "ticks": ""
             }
            },
            "type": "parcoords"
           }
          ],
          "pie": [
           {
            "automargin": true,
            "type": "pie"
           }
          ],
          "scatter": [
           {
            "marker": {
             "colorbar": {
              "outlinewidth": 0,
              "ticks": ""
             }
            },
            "type": "scatter"
           }
          ],
          "scatter3d": [
           {
            "line": {
             "colorbar": {
              "outlinewidth": 0,
              "ticks": ""
             }
            },
            "marker": {
             "colorbar": {
              "outlinewidth": 0,
              "ticks": ""
             }
            },
            "type": "scatter3d"
           }
          ],
          "scattercarpet": [
           {
            "marker": {
             "colorbar": {
              "outlinewidth": 0,
              "ticks": ""
             }
            },
            "type": "scattercarpet"
           }
          ],
          "scattergeo": [
           {
            "marker": {
             "colorbar": {
              "outlinewidth": 0,
              "ticks": ""
             }
            },
            "type": "scattergeo"
           }
          ],
          "scattergl": [
           {
            "marker": {
             "colorbar": {
              "outlinewidth": 0,
              "ticks": ""
             }
            },
            "type": "scattergl"
           }
          ],
          "scattermapbox": [
           {
            "marker": {
             "colorbar": {
              "outlinewidth": 0,
              "ticks": ""
             }
            },
            "type": "scattermapbox"
           }
          ],
          "scatterpolar": [
           {
            "marker": {
             "colorbar": {
              "outlinewidth": 0,
              "ticks": ""
             }
            },
            "type": "scatterpolar"
           }
          ],
          "scatterpolargl": [
           {
            "marker": {
             "colorbar": {
              "outlinewidth": 0,
              "ticks": ""
             }
            },
            "type": "scatterpolargl"
           }
          ],
          "scatterternary": [
           {
            "marker": {
             "colorbar": {
              "outlinewidth": 0,
              "ticks": ""
             }
            },
            "type": "scatterternary"
           }
          ],
          "surface": [
           {
            "colorbar": {
             "outlinewidth": 0,
             "ticks": ""
            },
            "colorscale": [
             [
              0,
              "#0d0887"
             ],
             [
              0.1111111111111111,
              "#46039f"
             ],
             [
              0.2222222222222222,
              "#7201a8"
             ],
             [
              0.3333333333333333,
              "#9c179e"
             ],
             [
              0.4444444444444444,
              "#bd3786"
             ],
             [
              0.5555555555555556,
              "#d8576b"
             ],
             [
              0.6666666666666666,
              "#ed7953"
             ],
             [
              0.7777777777777778,
              "#fb9f3a"
             ],
             [
              0.8888888888888888,
              "#fdca26"
             ],
             [
              1,
              "#f0f921"
             ]
            ],
            "type": "surface"
           }
          ],
          "table": [
           {
            "cells": {
             "fill": {
              "color": "#EBF0F8"
             },
             "line": {
              "color": "white"
             }
            },
            "header": {
             "fill": {
              "color": "#C8D4E3"
             },
             "line": {
              "color": "white"
             }
            },
            "type": "table"
           }
          ]
         },
         "layout": {
          "annotationdefaults": {
           "arrowcolor": "#2a3f5f",
           "arrowhead": 0,
           "arrowwidth": 1
          },
          "autotypenumbers": "strict",
          "coloraxis": {
           "colorbar": {
            "outlinewidth": 0,
            "ticks": ""
           }
          },
          "colorscale": {
           "diverging": [
            [
             0,
             "#8e0152"
            ],
            [
             0.1,
             "#c51b7d"
            ],
            [
             0.2,
             "#de77ae"
            ],
            [
             0.3,
             "#f1b6da"
            ],
            [
             0.4,
             "#fde0ef"
            ],
            [
             0.5,
             "#f7f7f7"
            ],
            [
             0.6,
             "#e6f5d0"
            ],
            [
             0.7,
             "#b8e186"
            ],
            [
             0.8,
             "#7fbc41"
            ],
            [
             0.9,
             "#4d9221"
            ],
            [
             1,
             "#276419"
            ]
           ],
           "sequential": [
            [
             0,
             "#0d0887"
            ],
            [
             0.1111111111111111,
             "#46039f"
            ],
            [
             0.2222222222222222,
             "#7201a8"
            ],
            [
             0.3333333333333333,
             "#9c179e"
            ],
            [
             0.4444444444444444,
             "#bd3786"
            ],
            [
             0.5555555555555556,
             "#d8576b"
            ],
            [
             0.6666666666666666,
             "#ed7953"
            ],
            [
             0.7777777777777778,
             "#fb9f3a"
            ],
            [
             0.8888888888888888,
             "#fdca26"
            ],
            [
             1,
             "#f0f921"
            ]
           ],
           "sequentialminus": [
            [
             0,
             "#0d0887"
            ],
            [
             0.1111111111111111,
             "#46039f"
            ],
            [
             0.2222222222222222,
             "#7201a8"
            ],
            [
             0.3333333333333333,
             "#9c179e"
            ],
            [
             0.4444444444444444,
             "#bd3786"
            ],
            [
             0.5555555555555556,
             "#d8576b"
            ],
            [
             0.6666666666666666,
             "#ed7953"
            ],
            [
             0.7777777777777778,
             "#fb9f3a"
            ],
            [
             0.8888888888888888,
             "#fdca26"
            ],
            [
             1,
             "#f0f921"
            ]
           ]
          },
          "colorway": [
           "#636efa",
           "#EF553B",
           "#00cc96",
           "#ab63fa",
           "#FFA15A",
           "#19d3f3",
           "#FF6692",
           "#B6E880",
           "#FF97FF",
           "#FECB52"
          ],
          "font": {
           "color": "#2a3f5f"
          },
          "geo": {
           "bgcolor": "white",
           "lakecolor": "white",
           "landcolor": "#E5ECF6",
           "showlakes": true,
           "showland": true,
           "subunitcolor": "white"
          },
          "hoverlabel": {
           "align": "left"
          },
          "hovermode": "closest",
          "mapbox": {
           "style": "light"
          },
          "paper_bgcolor": "white",
          "plot_bgcolor": "#E5ECF6",
          "polar": {
           "angularaxis": {
            "gridcolor": "white",
            "linecolor": "white",
            "ticks": ""
           },
           "bgcolor": "#E5ECF6",
           "radialaxis": {
            "gridcolor": "white",
            "linecolor": "white",
            "ticks": ""
           }
          },
          "scene": {
           "xaxis": {
            "backgroundcolor": "#E5ECF6",
            "gridcolor": "white",
            "gridwidth": 2,
            "linecolor": "white",
            "showbackground": true,
            "ticks": "",
            "zerolinecolor": "white"
           },
           "yaxis": {
            "backgroundcolor": "#E5ECF6",
            "gridcolor": "white",
            "gridwidth": 2,
            "linecolor": "white",
            "showbackground": true,
            "ticks": "",
            "zerolinecolor": "white"
           },
           "zaxis": {
            "backgroundcolor": "#E5ECF6",
            "gridcolor": "white",
            "gridwidth": 2,
            "linecolor": "white",
            "showbackground": true,
            "ticks": "",
            "zerolinecolor": "white"
           }
          },
          "shapedefaults": {
           "line": {
            "color": "#2a3f5f"
           }
          },
          "ternary": {
           "aaxis": {
            "gridcolor": "white",
            "linecolor": "white",
            "ticks": ""
           },
           "baxis": {
            "gridcolor": "white",
            "linecolor": "white",
            "ticks": ""
           },
           "bgcolor": "#E5ECF6",
           "caxis": {
            "gridcolor": "white",
            "linecolor": "white",
            "ticks": ""
           }
          },
          "title": {
           "x": 0.05
          },
          "xaxis": {
           "automargin": true,
           "gridcolor": "white",
           "linecolor": "white",
           "ticks": "",
           "title": {
            "standoff": 15
           },
           "zerolinecolor": "white",
           "zerolinewidth": 2
          },
          "yaxis": {
           "automargin": true,
           "gridcolor": "white",
           "linecolor": "white",
           "ticks": "",
           "title": {
            "standoff": 15
           },
           "zerolinecolor": "white",
           "zerolinewidth": 2
          }
         }
        },
        "xaxis": {
         "anchor": "y",
         "domain": [
          0,
          1
         ],
         "title": {
          "text": "time"
         }
        },
        "yaxis": {
         "anchor": "x",
         "domain": [
          0,
          1
         ],
         "title": {
          "text": "value"
         }
        }
       }
      },
      "text/html": [
       "<div>                            <div id=\"f888741f-29ca-41de-8650-ddc86f4046f4\" class=\"plotly-graph-div\" style=\"height:525px; width:100%;\"></div>            <script type=\"text/javascript\">                require([\"plotly\"], function(Plotly) {                    window.PLOTLYENV=window.PLOTLYENV || {};                                    if (document.getElementById(\"f888741f-29ca-41de-8650-ddc86f4046f4\")) {                    Plotly.newPlot(                        \"f888741f-29ca-41de-8650-ddc86f4046f4\",                        [{\"hovertemplate\":\"time=%{x}<br>value=%{y}<extra></extra>\",\"legendgroup\":\"\",\"line\":{\"color\":\"#636efa\",\"dash\":\"solid\"},\"mode\":\"lines\",\"name\":\"\",\"orientation\":\"v\",\"showlegend\":false,\"type\":\"scatter\",\"x\":[\"2021-06-11 16:00:00\",\"2021-06-11 16:30:00\",\"2021-06-11 17:30:00\",\"2021-06-11 18:00:00\",\"2021-06-11 18:30:00\",\"2021-06-11 19:00:00\",\"2021-06-11 19:30:00\",\"2021-06-11 20:30:00\",\"2021-06-11 21:30:00\",\"2021-06-11 22:00:00\",\"2021-06-12 01:30:00\",\"2021-06-12 02:00:00\",\"2021-06-12 03:00:00\",\"2021-06-12 03:30:00\",\"2021-06-12 04:00:00\",\"2021-06-12 04:30:00\",\"2021-06-12 05:00:00\",\"2021-06-12 05:30:00\",\"2021-06-12 07:00:00\",\"2021-06-12 07:30:00\",\"2021-06-12 10:00:00\",\"2021-06-12 10:30:00\",\"2021-06-12 11:00:00\",\"2021-06-12 12:00:00\",\"2021-06-12 12:30:00\",\"2021-06-12 13:00:00\",\"2021-06-12 14:00:00\",\"2021-06-12 14:30:00\",\"2021-06-12 17:30:00\",\"2021-06-12 18:30:00\",\"2021-06-12 19:00:00\",\"2021-06-12 20:00:00\",\"2021-06-12 20:30:00\",\"2021-06-12 21:30:00\",\"2021-06-12 22:00:00\",\"2021-06-12 22:30:00\",\"2021-06-12 23:30:00\",\"2021-06-13 00:00:00\",\"2021-06-13 00:30:00\",\"2021-06-13 01:00:00\",\"2021-06-13 02:00:00\",\"2021-06-13 02:30:00\",\"2021-06-13 03:00:00\",\"2021-06-13 03:30:00\",\"2021-06-13 04:30:00\",\"2021-06-13 05:30:00\",\"2021-06-13 06:00:00\",\"2021-06-13 06:30:00\",\"2021-06-13 07:00:00\",\"2021-06-13 08:00:00\",\"2021-06-13 08:30:00\",\"2021-06-13 09:00:00\",\"2021-06-13 09:30:00\",\"2021-06-13 10:00:00\",\"2021-06-13 11:00:00\",\"2021-06-13 11:30:00\",\"2021-06-13 17:30:00\",\"2021-06-13 23:00:00\",\"2021-06-14 00:00:00\",\"2021-06-14 00:30:00\",\"2021-06-14 01:00:00\",\"2021-06-14 02:00:00\",\"2021-06-14 04:00:00\",\"2021-06-14 04:30:00\",\"2021-06-14 05:30:00\",\"2021-06-14 07:30:00\",\"2021-06-14 08:30:00\",\"2021-06-14 10:00:00\",\"2021-06-14 11:30:00\",\"2021-06-14 18:30:00\",\"2021-06-14 23:30:00\",\"2021-06-15 03:00:00\",\"2021-06-15 10:00:00\",\"2021-06-15 11:00:00\",\"2021-06-15 14:00:00\",\"2021-06-15 15:00:00\",\"2021-06-15 17:00:00\",\"2021-06-15 20:30:00\",\"2021-06-15 21:30:00\",\"2021-06-16 03:30:00\",\"2021-06-16 06:30:00\",\"2021-06-16 09:00:00\",\"2021-06-16 10:00:00\",\"2021-06-16 18:30:00\",\"2021-06-17 00:30:00\",\"2021-06-17 01:30:00\",\"2021-06-17 02:30:00\",\"2021-06-17 04:30:00\",\"2021-06-17 05:30:00\",\"2021-06-17 06:30:00\",\"2021-06-17 07:30:00\",\"2021-06-17 08:00:00\",\"2021-06-17 09:00:00\",\"2021-06-17 12:30:00\",\"2021-06-17 15:30:00\",\"2021-06-17 18:00:00\",\"2021-06-17 20:00:00\",\"2021-06-17 20:30:00\",\"2021-06-17 21:00:00\",\"2021-06-17 21:30:00\",\"2021-06-17 22:30:00\",\"2021-06-18 05:00:00\",\"2021-06-18 07:30:00\",\"2021-06-18 08:00:00\",\"2021-06-18 08:30:00\",\"2021-06-18 09:00:00\",\"2021-06-18 14:00:00\",\"2021-06-18 14:30:00\",\"2021-06-18 15:30:00\",\"2021-06-18 16:00:00\",\"2021-06-18 17:00:00\",\"2021-06-18 17:30:00\",\"2021-06-18 20:30:00\",\"2021-06-18 21:30:00\",\"2021-06-18 22:30:00\",\"2021-06-18 23:30:00\",\"2021-06-19 00:30:00\",\"2021-06-19 01:30:00\",\"2021-06-19 05:30:00\",\"2021-06-19 06:00:00\",\"2021-06-19 06:30:00\",\"2021-06-19 09:00:00\",\"2021-06-19 11:30:00\",\"2021-06-19 13:00:00\",\"2021-06-19 14:00:00\",\"2021-06-19 15:00:00\",\"2021-06-19 16:00:00\",\"2021-06-19 16:30:00\",\"2021-06-19 17:30:00\",\"2021-06-19 23:00:00\",\"2021-06-20 02:00:00\",\"2021-06-20 02:30:00\",\"2021-06-20 06:30:00\",\"2021-06-20 09:30:00\",\"2021-06-20 10:00:00\",\"2021-06-20 10:30:00\",\"2021-06-20 13:30:00\",\"2021-06-20 15:30:00\",\"2021-06-20 16:00:00\",\"2021-06-20 17:30:00\",\"2021-06-20 18:00:00\",\"2021-06-20 19:30:00\",\"2021-06-20 21:00:00\",\"2021-06-20 22:30:00\",\"2021-06-20 23:00:00\",\"2021-06-21 00:30:00\",\"2021-06-21 02:00:00\",\"2021-06-21 03:00:00\",\"2021-06-21 08:30:00\",\"2021-06-21 09:00:00\",\"2021-06-21 11:30:00\",\"2021-06-21 12:00:00\",\"2021-06-21 12:30:00\",\"2021-06-21 13:00:00\",\"2021-06-21 13:30:00\",\"2021-06-21 15:00:00\",\"2021-06-21 15:30:00\",\"2021-06-21 16:30:00\",\"2021-06-21 19:00:00\",\"2021-06-21 19:30:00\",\"2021-06-21 20:00:00\",\"2021-06-21 20:30:00\",\"2021-06-21 21:30:00\",\"2021-06-21 22:30:00\",\"2021-06-21 23:30:00\",\"2021-06-22 02:00:00\",\"2021-06-22 03:00:00\",\"2021-06-22 03:30:00\",\"2021-06-22 04:00:00\",\"2021-06-22 04:30:00\",\"2021-06-22 05:00:00\",\"2021-06-22 08:00:00\",\"2021-06-22 08:30:00\",\"2021-06-22 09:00:00\",\"2021-06-22 10:00:00\",\"2021-06-22 10:30:00\",\"2021-06-22 11:00:00\",\"2021-06-22 11:30:00\",\"2021-06-22 12:00:00\",\"2021-06-22 12:30:00\",\"2021-06-22 13:00:00\",\"2021-06-22 13:30:00\",\"2021-06-22 14:00:00\",\"2021-06-22 14:30:00\",\"2021-06-22 18:30:00\",\"2021-06-22 19:00:00\",\"2021-06-22 19:30:00\",\"2021-06-22 22:00:00\",\"2021-06-22 22:30:00\",\"2021-06-23 06:30:00\",\"2021-06-23 07:00:00\",\"2021-06-23 13:00:00\",\"2021-06-23 14:00:00\",\"2021-06-23 15:00:00\",\"2021-06-23 17:30:00\",\"2021-06-23 19:00:00\",\"2021-06-23 19:30:00\",\"2021-06-23 20:00:00\",\"2021-06-23 20:30:00\",\"2021-06-23 21:00:00\",\"2021-06-23 22:00:00\",\"2021-06-23 22:30:00\",\"2021-06-24 00:00:00\",\"2021-06-24 01:00:00\",\"2021-06-24 01:30:00\",\"2021-06-24 02:30:00\",\"2021-06-24 03:00:00\",\"2021-06-24 06:00:00\",\"2021-06-24 06:30:00\",\"2021-06-24 07:00:00\",\"2021-06-24 10:00:00\",\"2021-06-24 11:00:00\",\"2021-06-24 11:30:00\",\"2021-06-24 17:30:00\",\"2021-06-24 18:30:00\",\"2021-06-24 19:00:00\",\"2021-06-24 19:30:00\",\"2021-06-24 20:30:00\",\"2021-06-24 21:00:00\",\"2021-06-24 21:30:00\",\"2021-06-24 22:30:00\",\"2021-06-24 23:00:00\",\"2021-06-24 23:30:00\",\"2021-06-25 00:30:00\",\"2021-06-25 01:30:00\",\"2021-06-25 03:30:00\",\"2021-06-25 04:00:00\",\"2021-06-25 04:30:00\",\"2021-06-25 05:00:00\",\"2021-06-25 06:00:00\",\"2021-06-25 07:00:00\",\"2021-06-25 10:00:00\",\"2021-06-25 17:30:00\",\"2021-06-25 18:30:00\",\"2021-06-25 19:00:00\",\"2021-06-25 19:30:00\",\"2021-06-25 20:00:00\",\"2021-06-25 23:30:00\",\"2021-06-26 00:00:00\",\"2021-06-26 01:30:00\",\"2021-06-26 04:00:00\",\"2021-06-26 07:00:00\",\"2021-06-26 07:30:00\",\"2021-06-26 08:30:00\",\"2021-06-26 10:00:00\",\"2021-06-26 11:00:00\",\"2021-06-26 11:30:00\",\"2021-06-26 12:30:00\",\"2021-06-26 13:30:00\",\"2021-06-26 16:30:00\",\"2021-06-26 17:30:00\",\"2021-06-26 18:00:00\",\"2021-06-26 20:30:00\",\"2021-06-26 21:00:00\",\"2021-06-26 21:30:00\",\"2021-06-26 22:00:00\",\"2021-06-26 22:30:00\",\"2021-06-26 23:00:00\",\"2021-06-26 23:30:00\",\"2021-06-27 01:00:00\",\"2021-06-27 01:30:00\",\"2021-06-27 02:00:00\",\"2021-06-27 04:00:00\",\"2021-06-27 07:30:00\",\"2021-06-27 10:00:00\",\"2021-06-27 12:00:00\",\"2021-06-27 12:30:00\",\"2021-06-27 13:00:00\",\"2021-06-27 13:30:00\",\"2021-06-27 14:30:00\",\"2021-06-28 00:00:00\",\"2021-06-28 00:30:00\",\"2021-06-28 02:30:00\",\"2021-06-28 04:00:00\",\"2021-06-28 05:00:00\",\"2021-06-28 05:30:00\",\"2021-06-28 06:00:00\",\"2021-06-28 09:00:00\",\"2021-06-28 10:00:00\",\"2021-06-28 12:30:00\",\"2021-06-28 14:00:00\",\"2021-06-28 15:00:00\",\"2021-06-28 16:00:00\",\"2021-06-28 19:00:00\",\"2021-06-28 22:00:00\",\"2021-06-28 22:30:00\",\"2021-06-29 00:30:00\",\"2021-06-29 01:30:00\",\"2021-06-29 04:30:00\",\"2021-06-29 08:00:00\",\"2021-06-29 14:00:00\",\"2021-06-29 15:00:00\",\"2021-06-29 20:30:00\",\"2021-06-29 22:30:00\",\"2021-06-30 01:30:00\",\"2021-06-30 02:30:00\",\"2021-06-30 05:30:00\",\"2021-06-30 06:30:00\",\"2021-06-30 07:30:00\",\"2021-07-01 10:30:00\",\"2021-07-02 05:30:00\",\"2021-07-02 10:00:00\",\"2021-07-02 11:00:00\",\"2021-07-02 15:00:00\",\"2021-07-02 15:30:00\",\"2021-07-02 16:00:00\",\"2021-07-02 17:00:00\",\"2021-07-03 06:00:00\",\"2021-07-03 16:30:00\",\"2021-07-05 01:00:00\",\"2021-07-05 10:00:00\",\"2021-07-06 09:30:00\",\"2021-07-06 10:30:00\",\"2021-07-06 12:00:00\",\"2021-07-06 12:30:00\"],\"xaxis\":\"x\",\"y\":[37.22,36.04,35.98,35.93,35.9,36.79,36.55,36.215,36.2775,36.34,35.5,34.88,36.24,35.8,35.54,35.61,35.81,34.76,35.02,36.1,36.56,35.0,35.75,36.19,34.07,34.29,34.24,34.83,37.86,37.53,36.28,34.32,34.385000000000005,34.45,34.685,34.587500000000006,34.60875,34.63,34.87,35.3,35.42,35.45,35.22,35.23,34.98,36.2,35.98,36.65,36.82,36.37,36.45,36.53,36.49,36.45,36.540000000000006,36.63,35.66,35.55,35.44,35.48,35.83,35.76,35.69,35.6,35.44,35.06,34.695,34.33,35.83,35.57,35.31,34.96,34.18,37.69,37.495,37.3,36.69,36.709999999999994,36.73,36.56,36.97,35.71,36.18,34.77,34.74,34.71,34.66,35.21,35.45,35.72,35.42,35.12,34.91,34.29,37.96,36.73,36.82,35.84,35.54,35.5,35.6,35.56,34.96,35.144999999999996,35.33,35.55,34.59,34.595,34.6,34.03,34.365,34.7,37.71,38.01,36.36,35.34,35.62,35.6,35.24,34.88,35.82,35.38,35.7225,36.065,35.98,35.17,35.14,35.105000000000004,35.07,37.89,36.51,36.5,36.19,35.72,35.55,35.99,35.900000000000006,35.81,35.945,36.08,35.974999999999994,35.87,35.67,35.46,35.25,35.565,35.6375,35.633750000000006,35.63,34.95,36.59,36.88,35.25,35.195,35.14,35.26,35.47,35.95,36.11,36.78,36.75,36.83,36.82,36.81,35.35,35.52,35.3,35.08,35.065,35.05,34.45,35.87,35.754999999999995,35.64,35.02,35.31,35.39,35.1,35.0,35.42,35.82,36.18,36.35,36.01,35.765,35.52,35.43,35.69,35.17,34.6,34.7,34.730000000000004,34.76,36.57,37.1,35.72,35.65,36.285,36.92,35.2,35.23,35.285,35.34,34.71,34.675,34.64,34.9,34.754999999999995,34.61,34.644999999999996,34.68,34.24,34.36,36.68,36.475,36.27,34.23,34.165,34.1,35.28,36.18,36.175,36.17,36.27,36.18000000000001,36.09,35.87,35.935,36.0,34.62,34.435,34.25,34.04,34.595,35.15,34.89,35.105000000000004,35.32,36.2,36.11,35.65,35.19,34.42,34.21,35.71,35.28,35.11,34.91,34.71,36.57,35.79,35.480000000000004,35.17,34.81,34.8,35.07,35.44,35.245,35.2625,35.28,35.400000000000006,35.52,35.175,34.83,34.79,34.635,34.48,34.81999999999999,35.16,35.315,35.47,34.97,35.165,35.36,35.52,35.235,35.2175,35.213750000000005,35.21,34.71,36.02,37.39,38.355000000000004,39.32,34.82,34.85,34.480000000000004,34.855000000000004,34.7875,34.72,34.805,34.89,34.655,34.42,34.480000000000004,34.54,39.42,37.51,36.04,35.849999999999994,35.66,35.004999999999995,34.8875,34.77,35.25,35.065,34.88,34.65,34.45,34.25,36.34,36.47,34.84,34.685,34.53],\"yaxis\":\"y\"}],                        {\"legend\":{\"tracegroupgap\":0},\"margin\":{\"t\":60},\"template\":{\"data\":{\"bar\":[{\"error_x\":{\"color\":\"#2a3f5f\"},\"error_y\":{\"color\":\"#2a3f5f\"},\"marker\":{\"line\":{\"color\":\"#E5ECF6\",\"width\":0.5},\"pattern\":{\"fillmode\":\"overlay\",\"size\":10,\"solidity\":0.2}},\"type\":\"bar\"}],\"barpolar\":[{\"marker\":{\"line\":{\"color\":\"#E5ECF6\",\"width\":0.5},\"pattern\":{\"fillmode\":\"overlay\",\"size\":10,\"solidity\":0.2}},\"type\":\"barpolar\"}],\"carpet\":[{\"aaxis\":{\"endlinecolor\":\"#2a3f5f\",\"gridcolor\":\"white\",\"linecolor\":\"white\",\"minorgridcolor\":\"white\",\"startlinecolor\":\"#2a3f5f\"},\"baxis\":{\"endlinecolor\":\"#2a3f5f\",\"gridcolor\":\"white\",\"linecolor\":\"white\",\"minorgridcolor\":\"white\",\"startlinecolor\":\"#2a3f5f\"},\"type\":\"carpet\"}],\"choropleth\":[{\"colorbar\":{\"outlinewidth\":0,\"ticks\":\"\"},\"type\":\"choropleth\"}],\"contour\":[{\"colorbar\":{\"outlinewidth\":0,\"ticks\":\"\"},\"colorscale\":[[0.0,\"#0d0887\"],[0.1111111111111111,\"#46039f\"],[0.2222222222222222,\"#7201a8\"],[0.3333333333333333,\"#9c179e\"],[0.4444444444444444,\"#bd3786\"],[0.5555555555555556,\"#d8576b\"],[0.6666666666666666,\"#ed7953\"],[0.7777777777777778,\"#fb9f3a\"],[0.8888888888888888,\"#fdca26\"],[1.0,\"#f0f921\"]],\"type\":\"contour\"}],\"contourcarpet\":[{\"colorbar\":{\"outlinewidth\":0,\"ticks\":\"\"},\"type\":\"contourcarpet\"}],\"heatmap\":[{\"colorbar\":{\"outlinewidth\":0,\"ticks\":\"\"},\"colorscale\":[[0.0,\"#0d0887\"],[0.1111111111111111,\"#46039f\"],[0.2222222222222222,\"#7201a8\"],[0.3333333333333333,\"#9c179e\"],[0.4444444444444444,\"#bd3786\"],[0.5555555555555556,\"#d8576b\"],[0.6666666666666666,\"#ed7953\"],[0.7777777777777778,\"#fb9f3a\"],[0.8888888888888888,\"#fdca26\"],[1.0,\"#f0f921\"]],\"type\":\"heatmap\"}],\"heatmapgl\":[{\"colorbar\":{\"outlinewidth\":0,\"ticks\":\"\"},\"colorscale\":[[0.0,\"#0d0887\"],[0.1111111111111111,\"#46039f\"],[0.2222222222222222,\"#7201a8\"],[0.3333333333333333,\"#9c179e\"],[0.4444444444444444,\"#bd3786\"],[0.5555555555555556,\"#d8576b\"],[0.6666666666666666,\"#ed7953\"],[0.7777777777777778,\"#fb9f3a\"],[0.8888888888888888,\"#fdca26\"],[1.0,\"#f0f921\"]],\"type\":\"heatmapgl\"}],\"histogram\":[{\"marker\":{\"pattern\":{\"fillmode\":\"overlay\",\"size\":10,\"solidity\":0.2}},\"type\":\"histogram\"}],\"histogram2d\":[{\"colorbar\":{\"outlinewidth\":0,\"ticks\":\"\"},\"colorscale\":[[0.0,\"#0d0887\"],[0.1111111111111111,\"#46039f\"],[0.2222222222222222,\"#7201a8\"],[0.3333333333333333,\"#9c179e\"],[0.4444444444444444,\"#bd3786\"],[0.5555555555555556,\"#d8576b\"],[0.6666666666666666,\"#ed7953\"],[0.7777777777777778,\"#fb9f3a\"],[0.8888888888888888,\"#fdca26\"],[1.0,\"#f0f921\"]],\"type\":\"histogram2d\"}],\"histogram2dcontour\":[{\"colorbar\":{\"outlinewidth\":0,\"ticks\":\"\"},\"colorscale\":[[0.0,\"#0d0887\"],[0.1111111111111111,\"#46039f\"],[0.2222222222222222,\"#7201a8\"],[0.3333333333333333,\"#9c179e\"],[0.4444444444444444,\"#bd3786\"],[0.5555555555555556,\"#d8576b\"],[0.6666666666666666,\"#ed7953\"],[0.7777777777777778,\"#fb9f3a\"],[0.8888888888888888,\"#fdca26\"],[1.0,\"#f0f921\"]],\"type\":\"histogram2dcontour\"}],\"mesh3d\":[{\"colorbar\":{\"outlinewidth\":0,\"ticks\":\"\"},\"type\":\"mesh3d\"}],\"parcoords\":[{\"line\":{\"colorbar\":{\"outlinewidth\":0,\"ticks\":\"\"}},\"type\":\"parcoords\"}],\"pie\":[{\"automargin\":true,\"type\":\"pie\"}],\"scatter\":[{\"marker\":{\"colorbar\":{\"outlinewidth\":0,\"ticks\":\"\"}},\"type\":\"scatter\"}],\"scatter3d\":[{\"line\":{\"colorbar\":{\"outlinewidth\":0,\"ticks\":\"\"}},\"marker\":{\"colorbar\":{\"outlinewidth\":0,\"ticks\":\"\"}},\"type\":\"scatter3d\"}],\"scattercarpet\":[{\"marker\":{\"colorbar\":{\"outlinewidth\":0,\"ticks\":\"\"}},\"type\":\"scattercarpet\"}],\"scattergeo\":[{\"marker\":{\"colorbar\":{\"outlinewidth\":0,\"ticks\":\"\"}},\"type\":\"scattergeo\"}],\"scattergl\":[{\"marker\":{\"colorbar\":{\"outlinewidth\":0,\"ticks\":\"\"}},\"type\":\"scattergl\"}],\"scattermapbox\":[{\"marker\":{\"colorbar\":{\"outlinewidth\":0,\"ticks\":\"\"}},\"type\":\"scattermapbox\"}],\"scatterpolar\":[{\"marker\":{\"colorbar\":{\"outlinewidth\":0,\"ticks\":\"\"}},\"type\":\"scatterpolar\"}],\"scatterpolargl\":[{\"marker\":{\"colorbar\":{\"outlinewidth\":0,\"ticks\":\"\"}},\"type\":\"scatterpolargl\"}],\"scatterternary\":[{\"marker\":{\"colorbar\":{\"outlinewidth\":0,\"ticks\":\"\"}},\"type\":\"scatterternary\"}],\"surface\":[{\"colorbar\":{\"outlinewidth\":0,\"ticks\":\"\"},\"colorscale\":[[0.0,\"#0d0887\"],[0.1111111111111111,\"#46039f\"],[0.2222222222222222,\"#7201a8\"],[0.3333333333333333,\"#9c179e\"],[0.4444444444444444,\"#bd3786\"],[0.5555555555555556,\"#d8576b\"],[0.6666666666666666,\"#ed7953\"],[0.7777777777777778,\"#fb9f3a\"],[0.8888888888888888,\"#fdca26\"],[1.0,\"#f0f921\"]],\"type\":\"surface\"}],\"table\":[{\"cells\":{\"fill\":{\"color\":\"#EBF0F8\"},\"line\":{\"color\":\"white\"}},\"header\":{\"fill\":{\"color\":\"#C8D4E3\"},\"line\":{\"color\":\"white\"}},\"type\":\"table\"}]},\"layout\":{\"annotationdefaults\":{\"arrowcolor\":\"#2a3f5f\",\"arrowhead\":0,\"arrowwidth\":1},\"autotypenumbers\":\"strict\",\"coloraxis\":{\"colorbar\":{\"outlinewidth\":0,\"ticks\":\"\"}},\"colorscale\":{\"diverging\":[[0,\"#8e0152\"],[0.1,\"#c51b7d\"],[0.2,\"#de77ae\"],[0.3,\"#f1b6da\"],[0.4,\"#fde0ef\"],[0.5,\"#f7f7f7\"],[0.6,\"#e6f5d0\"],[0.7,\"#b8e186\"],[0.8,\"#7fbc41\"],[0.9,\"#4d9221\"],[1,\"#276419\"]],\"sequential\":[[0.0,\"#0d0887\"],[0.1111111111111111,\"#46039f\"],[0.2222222222222222,\"#7201a8\"],[0.3333333333333333,\"#9c179e\"],[0.4444444444444444,\"#bd3786\"],[0.5555555555555556,\"#d8576b\"],[0.6666666666666666,\"#ed7953\"],[0.7777777777777778,\"#fb9f3a\"],[0.8888888888888888,\"#fdca26\"],[1.0,\"#f0f921\"]],\"sequentialminus\":[[0.0,\"#0d0887\"],[0.1111111111111111,\"#46039f\"],[0.2222222222222222,\"#7201a8\"],[0.3333333333333333,\"#9c179e\"],[0.4444444444444444,\"#bd3786\"],[0.5555555555555556,\"#d8576b\"],[0.6666666666666666,\"#ed7953\"],[0.7777777777777778,\"#fb9f3a\"],[0.8888888888888888,\"#fdca26\"],[1.0,\"#f0f921\"]]},\"colorway\":[\"#636efa\",\"#EF553B\",\"#00cc96\",\"#ab63fa\",\"#FFA15A\",\"#19d3f3\",\"#FF6692\",\"#B6E880\",\"#FF97FF\",\"#FECB52\"],\"font\":{\"color\":\"#2a3f5f\"},\"geo\":{\"bgcolor\":\"white\",\"lakecolor\":\"white\",\"landcolor\":\"#E5ECF6\",\"showlakes\":true,\"showland\":true,\"subunitcolor\":\"white\"},\"hoverlabel\":{\"align\":\"left\"},\"hovermode\":\"closest\",\"mapbox\":{\"style\":\"light\"},\"paper_bgcolor\":\"white\",\"plot_bgcolor\":\"#E5ECF6\",\"polar\":{\"angularaxis\":{\"gridcolor\":\"white\",\"linecolor\":\"white\",\"ticks\":\"\"},\"bgcolor\":\"#E5ECF6\",\"radialaxis\":{\"gridcolor\":\"white\",\"linecolor\":\"white\",\"ticks\":\"\"}},\"scene\":{\"xaxis\":{\"backgroundcolor\":\"#E5ECF6\",\"gridcolor\":\"white\",\"gridwidth\":2,\"linecolor\":\"white\",\"showbackground\":true,\"ticks\":\"\",\"zerolinecolor\":\"white\"},\"yaxis\":{\"backgroundcolor\":\"#E5ECF6\",\"gridcolor\":\"white\",\"gridwidth\":2,\"linecolor\":\"white\",\"showbackground\":true,\"ticks\":\"\",\"zerolinecolor\":\"white\"},\"zaxis\":{\"backgroundcolor\":\"#E5ECF6\",\"gridcolor\":\"white\",\"gridwidth\":2,\"linecolor\":\"white\",\"showbackground\":true,\"ticks\":\"\",\"zerolinecolor\":\"white\"}},\"shapedefaults\":{\"line\":{\"color\":\"#2a3f5f\"}},\"ternary\":{\"aaxis\":{\"gridcolor\":\"white\",\"linecolor\":\"white\",\"ticks\":\"\"},\"baxis\":{\"gridcolor\":\"white\",\"linecolor\":\"white\",\"ticks\":\"\"},\"bgcolor\":\"#E5ECF6\",\"caxis\":{\"gridcolor\":\"white\",\"linecolor\":\"white\",\"ticks\":\"\"}},\"title\":{\"x\":0.05},\"xaxis\":{\"automargin\":true,\"gridcolor\":\"white\",\"linecolor\":\"white\",\"ticks\":\"\",\"title\":{\"standoff\":15},\"zerolinecolor\":\"white\",\"zerolinewidth\":2},\"yaxis\":{\"automargin\":true,\"gridcolor\":\"white\",\"linecolor\":\"white\",\"ticks\":\"\",\"title\":{\"standoff\":15},\"zerolinecolor\":\"white\",\"zerolinewidth\":2}}},\"xaxis\":{\"anchor\":\"y\",\"domain\":[0.0,1.0],\"title\":{\"text\":\"time\"}},\"yaxis\":{\"anchor\":\"x\",\"domain\":[0.0,1.0],\"title\":{\"text\":\"value\"}}},                        {\"responsive\": true}                    ).then(function(){\n",
       "                            \n",
       "var gd = document.getElementById('f888741f-29ca-41de-8650-ddc86f4046f4');\n",
       "var x = new MutationObserver(function (mutations, observer) {{\n",
       "        var display = window.getComputedStyle(gd).display;\n",
       "        if (!display || display === 'none') {{\n",
       "            console.log([gd, 'removed!']);\n",
       "            Plotly.purge(gd);\n",
       "            observer.disconnect();\n",
       "        }}\n",
       "}});\n",
       "\n",
       "// Listen for the removal of the full notebook cells\n",
       "var notebookContainer = gd.closest('#notebook-container');\n",
       "if (notebookContainer) {{\n",
       "    x.observe(notebookContainer, {childList: true});\n",
       "}}\n",
       "\n",
       "// Listen for the clearing of the current output cell\n",
       "var outputEl = gd.closest('.output');\n",
       "if (outputEl) {{\n",
       "    x.observe(outputEl, {childList: true});\n",
       "}}\n",
       "\n",
       "                        })                };                });            </script>        </div>"
      ]
     },
     "metadata": {},
     "output_type": "display_data"
    },
    {
     "name": "stdout",
     "output_type": "stream",
     "text": [
      "24-1-1\n"
     ]
    }
   ],
   "source": [
    "m = 24\n",
    "n = 1\n",
    "s = 1\n",
    "\n",
    "df=pd.read_csv(r'C:\\Users\\Tosha.E.T\\Desktop\\Sinotech\\716\\{0}-{1}-{2}_clean.csv'.format(m,n,s))\n",
    "df=df[df['value']>34]\n",
    "df=df[df['value']<40]\n",
    "df = df.reset_index()\n",
    "\n",
    "i = 1\n",
    "while i<(len(df[\"value\"])-1):\n",
    "    a = df[\"value\"][i-1]\n",
    "    b = df[\"value\"][i]\n",
    "    c = df[\"value\"][i+1]\n",
    "    if (abs(b-c)+abs(a-b))/2>abs(c-a)*1.5:\n",
    "        df[\"value\"][i] = (a+c)/2\n",
    "        i=i+1\n",
    "    else:\n",
    "        i=i+1\n",
    "df.to_csv(r'C:\\Users\\Tosha.E.T\\Desktop\\Sinotech\\716\\{0}-{1}-{2}_cut.csv'.format(m,n,s))\n",
    "print(\"cut save!!\")\n",
    "#---------------------------------------------------\n",
    "fig = px.line(df, y='value', x='time')        \n",
    "fig.show()\n",
    "print(\"{0}-{1}-{2}\".format(m,n,s))"
   ]
  },
  {
   "cell_type": "code",
   "execution_count": 243,
   "id": "adjustable-hughes",
   "metadata": {},
   "outputs": [],
   "source": [
    "# m = 24\n",
    "# n = 1\n",
    "# s = 2\n",
    "\n",
    "# df=pd.read_csv(r'C:\\Users\\Tosha.E.T\\Desktop\\Sinotech\\716\\{0}-{1}-{2}_clean.csv'.format(m,n,s))\n",
    "# df=df[df['value']>32]\n",
    "# df=df[df['value']<42]\n",
    "# df = df.reset_index()\n",
    "\n",
    "# i = 1\n",
    "# while i<(len(df[\"value\"])-1):\n",
    "#     a = df[\"value\"][i-1]\n",
    "#     b = df[\"value\"][i]\n",
    "#     c = df[\"value\"][i+1]\n",
    "#     if (abs(b-c)+abs(a-b))/2>abs(c-a)*1.5:\n",
    "#         df[\"value\"][i] = (a+c)/2\n",
    "#         i=i+1\n",
    "#     else:\n",
    "#         i=i+1\n",
    "# df.to_csv(r'C:\\Users\\Tosha.E.T\\Desktop\\Sinotech\\716\\{0}-{1}-{2}_cut.csv'.format(m,n,s))\n",
    "# print(\"cut save!!\")\n",
    "# #---------------------------------------------------\n",
    "# fig = px.line(df, y='value', x='time')        \n",
    "# fig.show()\n",
    "# print(\"{0}-{1}-{2}\".format(m,n,s))"
   ]
  },
  {
   "cell_type": "code",
   "execution_count": 242,
   "id": "warming-ratio",
   "metadata": {},
   "outputs": [],
   "source": [
    "# m = 24\n",
    "# n = 2\n",
    "# s = 1\n",
    "\n",
    "# df=pd.read_csv(r'C:\\Users\\Tosha.E.T\\Desktop\\Sinotech\\716\\{0}-{1}-{2}_clean.csv'.format(m,n,s))\n",
    "# df=df[df['value']>20]\n",
    "# df=df[df['value']<60]\n",
    "# df = df.reset_index()\n",
    "\n",
    "# i = 1\n",
    "# while i<(len(df[\"value\"])-1):\n",
    "#     a = df[\"value\"][i-1]\n",
    "#     b = df[\"value\"][i]\n",
    "#     c = df[\"value\"][i+1]\n",
    "#     if (abs(b-c)+abs(a-b))/2>abs(c-a)*1.5:\n",
    "#         df[\"value\"][i] = (a+c)/2\n",
    "#         i=i+1\n",
    "#     else:\n",
    "#         i=i+1\n",
    "# df.to_csv(r'C:\\Users\\Tosha.E.T\\Desktop\\Sinotech\\716\\{0}-{1}-{2}_cut.csv'.format(m,n,s))\n",
    "# print(\"cut save!!\")\n",
    "# #---------------------------------------------------\n",
    "# fig = px.line(df, y='value', x='time')        \n",
    "# fig.show()\n",
    "# print(\"{0}-{1}-{2}\".format(m,n,s))"
   ]
  },
  {
   "cell_type": "code",
   "execution_count": 241,
   "id": "included-guatemala",
   "metadata": {},
   "outputs": [],
   "source": [
    "# m = 24\n",
    "# n = 2\n",
    "# s = 2\n",
    "\n",
    "# df=pd.read_csv(r'C:\\Users\\Tosha.E.T\\Desktop\\Sinotech\\716\\{0}-{1}-{2}_clean.csv'.format(m,n,s))\n",
    "\n",
    "# df=df[df['value']>42]\n",
    "# df=df[df['value']<54]\n",
    "# df = df.reset_index()\n",
    "\n",
    "# i = 1\n",
    "# while i<(len(df[\"value\"])-1):\n",
    "#     a = df[\"value\"][i-1]\n",
    "#     b = df[\"value\"][i]\n",
    "#     c = df[\"value\"][i+1]\n",
    "#     if (abs(b-c)+abs(a-b))/2>abs(c-a)*1.5:\n",
    "#         df[\"value\"][i] = (a+c)/2\n",
    "#         i=i+1\n",
    "#     else:\n",
    "#         i=i+1\n",
    "# df.to_csv(r'C:\\Users\\Tosha.E.T\\Desktop\\Sinotech\\716\\{0}-{1}-{2}_cut.csv'.format(m,n,s))\n",
    "# print(\"cut save!!\")\n",
    "# #---------------------------------------------------\n",
    "# fig = px.line(df, y='value', x='time')        \n",
    "# fig.show()\n",
    "# print(\"{0}-{1}-{2}\".format(m,n,s))"
   ]
  },
  {
   "cell_type": "code",
   "execution_count": null,
   "id": "artificial-duncan",
   "metadata": {},
   "outputs": [],
   "source": []
  },
  {
   "cell_type": "code",
   "execution_count": 240,
   "id": "republican-charleston",
   "metadata": {},
   "outputs": [],
   "source": [
    "# m = 25\n",
    "# n = 1\n",
    "# s = 1\n",
    "\n",
    "# df=pd.read_csv(r'C:\\Users\\Tosha.E.T\\Desktop\\Sinotech\\716\\{0}-{1}-{2}_clean.csv'.format(m,n,s))\n",
    "\n",
    "# df=df[df['value']>44]\n",
    "# df=df[df['value']<57]\n",
    "# df = df.reset_index()\n",
    "\n",
    "# i = 1\n",
    "# while i<(len(df[\"value\"])-1):\n",
    "#     a = df[\"value\"][i-1]\n",
    "#     b = df[\"value\"][i]\n",
    "#     c = df[\"value\"][i+1]\n",
    "#     if (abs(b-c)+abs(a-b))/2>abs(c-a)*1.5:\n",
    "#         df[\"value\"][i] = (a+c)/2\n",
    "#         i=i+1\n",
    "#     else:\n",
    "#         i=i+1\n",
    "# df.to_csv(r'C:\\Users\\Tosha.E.T\\Desktop\\Sinotech\\716\\{0}-{1}-{2}_cut.csv'.format(m,n,s))\n",
    "# print(\"cut save!!\")\n",
    "# #---------------------------------------------------\n",
    "# fig = px.line(df, y='value', x='time')        \n",
    "# fig.show()\n",
    "# print(\"{0}-{1}-{2}\".format(m,n,s))"
   ]
  },
  {
   "cell_type": "code",
   "execution_count": 239,
   "id": "agricultural-statement",
   "metadata": {},
   "outputs": [],
   "source": [
    "# m = 25\n",
    "# n = 1\n",
    "# s = 2\n",
    "\n",
    "# df=pd.read_csv(r'C:\\Users\\Tosha.E.T\\Desktop\\Sinotech\\716\\{0}-{1}-{2}_clean.csv'.format(m,n,s))\n",
    "# df=df[df['value']>20]\n",
    "# df=df[df['value']<44]\n",
    "# df = df.reset_index()\n",
    "\n",
    "# i = 1\n",
    "# while i<(len(df[\"value\"])-1):\n",
    "#     a = df[\"value\"][i-1]\n",
    "#     b = df[\"value\"][i]\n",
    "#     c = df[\"value\"][i+1]\n",
    "#     if (abs(b-c)+abs(a-b))/2>abs(c-a)*1.5:\n",
    "#         df[\"value\"][i] = (a+c)/2\n",
    "#         i=i+1\n",
    "#     else:\n",
    "#         i=i+1\n",
    "# df.to_csv(r'C:\\Users\\Tosha.E.T\\Desktop\\Sinotech\\716\\{0}-{1}-{2}_cut.csv'.format(m,n,s))\n",
    "# print(\"cut save!!\")\n",
    "# #---------------------------------------------------\n",
    "# fig = px.line(df, y='value', x='time')        \n",
    "# fig.show()\n",
    "# print(\"{0}-{1}-{2}\".format(m,n,s))"
   ]
  },
  {
   "cell_type": "code",
   "execution_count": 238,
   "id": "pressed-latin",
   "metadata": {},
   "outputs": [],
   "source": [
    "# m = 25\n",
    "# n = 2\n",
    "# s = 1\n",
    "\n",
    "# df=pd.read_csv(r'C:\\Users\\Tosha.E.T\\Desktop\\Sinotech\\716\\{0}-{1}-{2}_clean.csv'.format(m,n,s))\n",
    "# df=df[df['value']>40]\n",
    "# df=df[df['value']<65]\n",
    "# df = df.reset_index()\n",
    "\n",
    "# i = 1\n",
    "# while i<(len(df[\"value\"])-1):\n",
    "#     a = df[\"value\"][i-1]\n",
    "#     b = df[\"value\"][i]\n",
    "#     c = df[\"value\"][i+1]\n",
    "#     if (abs(b-c)+abs(a-b))/2>abs(c-a)*1.5:\n",
    "#         df[\"value\"][i] = (a+c)/2\n",
    "#         i=i+1\n",
    "#     else:\n",
    "#         i=i+1\n",
    "# df.to_csv(r'C:\\Users\\Tosha.E.T\\Desktop\\Sinotech\\716\\{0}-{1}-{2}_cut.csv'.format(m,n,s))\n",
    "# print(\"cut save!!\")\n",
    "# #---------------------------------------------------\n",
    "# fig = px.line(df, y='value', x='time')        \n",
    "# fig.show()\n",
    "# print(\"{0}-{1}-{2}\".format(m,n,s))"
   ]
  },
  {
   "cell_type": "code",
   "execution_count": 237,
   "id": "illegal-litigation",
   "metadata": {},
   "outputs": [],
   "source": [
    "# m = 25\n",
    "# n = 2\n",
    "# s = 2\n",
    "\n",
    "# df=pd.read_csv(r'C:\\Users\\Tosha.E.T\\Desktop\\Sinotech\\716\\{0}-{1}-{2}_clean.csv'.format(m,n,s))\n",
    "# df=df[df['value']>35]\n",
    "# df=df[df['value']<55]\n",
    "# df = df.reset_index()\n",
    "\n",
    "# i = 1\n",
    "# while i<(len(df[\"value\"])-1):\n",
    "#     a = df[\"value\"][i-1]\n",
    "#     b = df[\"value\"][i]\n",
    "#     c = df[\"value\"][i+1]\n",
    "#     if (abs(b-c)+abs(a-b))/2>abs(c-a)*1.5:\n",
    "#         df[\"value\"][i] = (a+c)/2\n",
    "#         i=i+1\n",
    "#     else:\n",
    "#         i=i+1\n",
    "# df.to_csv(r'C:\\Users\\Tosha.E.T\\Desktop\\Sinotech\\716\\{0}-{1}-{2}_cut.csv'.format(m,n,s))\n",
    "# print(\"cut save!!\")        \n",
    "# #---------------------------------------------------\n",
    "# fig = px.line(df, y='value', x='time')        \n",
    "# fig.show()\n",
    "# print(\"{0}-{1}-{2}\".format(m,n,s))"
   ]
  },
  {
   "cell_type": "code",
   "execution_count": null,
   "id": "professional-freight",
   "metadata": {},
   "outputs": [],
   "source": []
  },
  {
   "cell_type": "code",
   "execution_count": 34,
   "id": "advance-experience",
   "metadata": {},
   "outputs": [
    {
     "name": "stdout",
     "output_type": "stream",
     "text": [
      "cut save!!\n"
     ]
    },
    {
     "data": {
      "application/vnd.plotly.v1+json": {
       "config": {
        "plotlyServerURL": "https://plot.ly"
       },
       "data": [
        {
         "hovertemplate": "time=%{x}<br>value=%{y}<extra></extra>",
         "legendgroup": "",
         "line": {
          "color": "#636efa",
          "dash": "solid"
         },
         "mode": "lines",
         "name": "",
         "orientation": "v",
         "showlegend": false,
         "type": "scatter",
         "x": [
          "2021-06-17",
          "2021-06-19",
          "2021-06-20",
          "2021-06-21"
         ],
         "xaxis": "x",
         "y": [
          43.58142857142857,
          41.13483870967742,
          41.03055555555554,
          40.58394736842106
         ],
         "yaxis": "y"
        }
       ],
       "layout": {
        "legend": {
         "tracegroupgap": 0
        },
        "margin": {
         "t": 60
        },
        "template": {
         "data": {
          "bar": [
           {
            "error_x": {
             "color": "#2a3f5f"
            },
            "error_y": {
             "color": "#2a3f5f"
            },
            "marker": {
             "line": {
              "color": "#E5ECF6",
              "width": 0.5
             },
             "pattern": {
              "fillmode": "overlay",
              "size": 10,
              "solidity": 0.2
             }
            },
            "type": "bar"
           }
          ],
          "barpolar": [
           {
            "marker": {
             "line": {
              "color": "#E5ECF6",
              "width": 0.5
             },
             "pattern": {
              "fillmode": "overlay",
              "size": 10,
              "solidity": 0.2
             }
            },
            "type": "barpolar"
           }
          ],
          "carpet": [
           {
            "aaxis": {
             "endlinecolor": "#2a3f5f",
             "gridcolor": "white",
             "linecolor": "white",
             "minorgridcolor": "white",
             "startlinecolor": "#2a3f5f"
            },
            "baxis": {
             "endlinecolor": "#2a3f5f",
             "gridcolor": "white",
             "linecolor": "white",
             "minorgridcolor": "white",
             "startlinecolor": "#2a3f5f"
            },
            "type": "carpet"
           }
          ],
          "choropleth": [
           {
            "colorbar": {
             "outlinewidth": 0,
             "ticks": ""
            },
            "type": "choropleth"
           }
          ],
          "contour": [
           {
            "colorbar": {
             "outlinewidth": 0,
             "ticks": ""
            },
            "colorscale": [
             [
              0,
              "#0d0887"
             ],
             [
              0.1111111111111111,
              "#46039f"
             ],
             [
              0.2222222222222222,
              "#7201a8"
             ],
             [
              0.3333333333333333,
              "#9c179e"
             ],
             [
              0.4444444444444444,
              "#bd3786"
             ],
             [
              0.5555555555555556,
              "#d8576b"
             ],
             [
              0.6666666666666666,
              "#ed7953"
             ],
             [
              0.7777777777777778,
              "#fb9f3a"
             ],
             [
              0.8888888888888888,
              "#fdca26"
             ],
             [
              1,
              "#f0f921"
             ]
            ],
            "type": "contour"
           }
          ],
          "contourcarpet": [
           {
            "colorbar": {
             "outlinewidth": 0,
             "ticks": ""
            },
            "type": "contourcarpet"
           }
          ],
          "heatmap": [
           {
            "colorbar": {
             "outlinewidth": 0,
             "ticks": ""
            },
            "colorscale": [
             [
              0,
              "#0d0887"
             ],
             [
              0.1111111111111111,
              "#46039f"
             ],
             [
              0.2222222222222222,
              "#7201a8"
             ],
             [
              0.3333333333333333,
              "#9c179e"
             ],
             [
              0.4444444444444444,
              "#bd3786"
             ],
             [
              0.5555555555555556,
              "#d8576b"
             ],
             [
              0.6666666666666666,
              "#ed7953"
             ],
             [
              0.7777777777777778,
              "#fb9f3a"
             ],
             [
              0.8888888888888888,
              "#fdca26"
             ],
             [
              1,
              "#f0f921"
             ]
            ],
            "type": "heatmap"
           }
          ],
          "heatmapgl": [
           {
            "colorbar": {
             "outlinewidth": 0,
             "ticks": ""
            },
            "colorscale": [
             [
              0,
              "#0d0887"
             ],
             [
              0.1111111111111111,
              "#46039f"
             ],
             [
              0.2222222222222222,
              "#7201a8"
             ],
             [
              0.3333333333333333,
              "#9c179e"
             ],
             [
              0.4444444444444444,
              "#bd3786"
             ],
             [
              0.5555555555555556,
              "#d8576b"
             ],
             [
              0.6666666666666666,
              "#ed7953"
             ],
             [
              0.7777777777777778,
              "#fb9f3a"
             ],
             [
              0.8888888888888888,
              "#fdca26"
             ],
             [
              1,
              "#f0f921"
             ]
            ],
            "type": "heatmapgl"
           }
          ],
          "histogram": [
           {
            "marker": {
             "pattern": {
              "fillmode": "overlay",
              "size": 10,
              "solidity": 0.2
             }
            },
            "type": "histogram"
           }
          ],
          "histogram2d": [
           {
            "colorbar": {
             "outlinewidth": 0,
             "ticks": ""
            },
            "colorscale": [
             [
              0,
              "#0d0887"
             ],
             [
              0.1111111111111111,
              "#46039f"
             ],
             [
              0.2222222222222222,
              "#7201a8"
             ],
             [
              0.3333333333333333,
              "#9c179e"
             ],
             [
              0.4444444444444444,
              "#bd3786"
             ],
             [
              0.5555555555555556,
              "#d8576b"
             ],
             [
              0.6666666666666666,
              "#ed7953"
             ],
             [
              0.7777777777777778,
              "#fb9f3a"
             ],
             [
              0.8888888888888888,
              "#fdca26"
             ],
             [
              1,
              "#f0f921"
             ]
            ],
            "type": "histogram2d"
           }
          ],
          "histogram2dcontour": [
           {
            "colorbar": {
             "outlinewidth": 0,
             "ticks": ""
            },
            "colorscale": [
             [
              0,
              "#0d0887"
             ],
             [
              0.1111111111111111,
              "#46039f"
             ],
             [
              0.2222222222222222,
              "#7201a8"
             ],
             [
              0.3333333333333333,
              "#9c179e"
             ],
             [
              0.4444444444444444,
              "#bd3786"
             ],
             [
              0.5555555555555556,
              "#d8576b"
             ],
             [
              0.6666666666666666,
              "#ed7953"
             ],
             [
              0.7777777777777778,
              "#fb9f3a"
             ],
             [
              0.8888888888888888,
              "#fdca26"
             ],
             [
              1,
              "#f0f921"
             ]
            ],
            "type": "histogram2dcontour"
           }
          ],
          "mesh3d": [
           {
            "colorbar": {
             "outlinewidth": 0,
             "ticks": ""
            },
            "type": "mesh3d"
           }
          ],
          "parcoords": [
           {
            "line": {
             "colorbar": {
              "outlinewidth": 0,
              "ticks": ""
             }
            },
            "type": "parcoords"
           }
          ],
          "pie": [
           {
            "automargin": true,
            "type": "pie"
           }
          ],
          "scatter": [
           {
            "marker": {
             "colorbar": {
              "outlinewidth": 0,
              "ticks": ""
             }
            },
            "type": "scatter"
           }
          ],
          "scatter3d": [
           {
            "line": {
             "colorbar": {
              "outlinewidth": 0,
              "ticks": ""
             }
            },
            "marker": {
             "colorbar": {
              "outlinewidth": 0,
              "ticks": ""
             }
            },
            "type": "scatter3d"
           }
          ],
          "scattercarpet": [
           {
            "marker": {
             "colorbar": {
              "outlinewidth": 0,
              "ticks": ""
             }
            },
            "type": "scattercarpet"
           }
          ],
          "scattergeo": [
           {
            "marker": {
             "colorbar": {
              "outlinewidth": 0,
              "ticks": ""
             }
            },
            "type": "scattergeo"
           }
          ],
          "scattergl": [
           {
            "marker": {
             "colorbar": {
              "outlinewidth": 0,
              "ticks": ""
             }
            },
            "type": "scattergl"
           }
          ],
          "scattermapbox": [
           {
            "marker": {
             "colorbar": {
              "outlinewidth": 0,
              "ticks": ""
             }
            },
            "type": "scattermapbox"
           }
          ],
          "scatterpolar": [
           {
            "marker": {
             "colorbar": {
              "outlinewidth": 0,
              "ticks": ""
             }
            },
            "type": "scatterpolar"
           }
          ],
          "scatterpolargl": [
           {
            "marker": {
             "colorbar": {
              "outlinewidth": 0,
              "ticks": ""
             }
            },
            "type": "scatterpolargl"
           }
          ],
          "scatterternary": [
           {
            "marker": {
             "colorbar": {
              "outlinewidth": 0,
              "ticks": ""
             }
            },
            "type": "scatterternary"
           }
          ],
          "surface": [
           {
            "colorbar": {
             "outlinewidth": 0,
             "ticks": ""
            },
            "colorscale": [
             [
              0,
              "#0d0887"
             ],
             [
              0.1111111111111111,
              "#46039f"
             ],
             [
              0.2222222222222222,
              "#7201a8"
             ],
             [
              0.3333333333333333,
              "#9c179e"
             ],
             [
              0.4444444444444444,
              "#bd3786"
             ],
             [
              0.5555555555555556,
              "#d8576b"
             ],
             [
              0.6666666666666666,
              "#ed7953"
             ],
             [
              0.7777777777777778,
              "#fb9f3a"
             ],
             [
              0.8888888888888888,
              "#fdca26"
             ],
             [
              1,
              "#f0f921"
             ]
            ],
            "type": "surface"
           }
          ],
          "table": [
           {
            "cells": {
             "fill": {
              "color": "#EBF0F8"
             },
             "line": {
              "color": "white"
             }
            },
            "header": {
             "fill": {
              "color": "#C8D4E3"
             },
             "line": {
              "color": "white"
             }
            },
            "type": "table"
           }
          ]
         },
         "layout": {
          "annotationdefaults": {
           "arrowcolor": "#2a3f5f",
           "arrowhead": 0,
           "arrowwidth": 1
          },
          "autotypenumbers": "strict",
          "coloraxis": {
           "colorbar": {
            "outlinewidth": 0,
            "ticks": ""
           }
          },
          "colorscale": {
           "diverging": [
            [
             0,
             "#8e0152"
            ],
            [
             0.1,
             "#c51b7d"
            ],
            [
             0.2,
             "#de77ae"
            ],
            [
             0.3,
             "#f1b6da"
            ],
            [
             0.4,
             "#fde0ef"
            ],
            [
             0.5,
             "#f7f7f7"
            ],
            [
             0.6,
             "#e6f5d0"
            ],
            [
             0.7,
             "#b8e186"
            ],
            [
             0.8,
             "#7fbc41"
            ],
            [
             0.9,
             "#4d9221"
            ],
            [
             1,
             "#276419"
            ]
           ],
           "sequential": [
            [
             0,
             "#0d0887"
            ],
            [
             0.1111111111111111,
             "#46039f"
            ],
            [
             0.2222222222222222,
             "#7201a8"
            ],
            [
             0.3333333333333333,
             "#9c179e"
            ],
            [
             0.4444444444444444,
             "#bd3786"
            ],
            [
             0.5555555555555556,
             "#d8576b"
            ],
            [
             0.6666666666666666,
             "#ed7953"
            ],
            [
             0.7777777777777778,
             "#fb9f3a"
            ],
            [
             0.8888888888888888,
             "#fdca26"
            ],
            [
             1,
             "#f0f921"
            ]
           ],
           "sequentialminus": [
            [
             0,
             "#0d0887"
            ],
            [
             0.1111111111111111,
             "#46039f"
            ],
            [
             0.2222222222222222,
             "#7201a8"
            ],
            [
             0.3333333333333333,
             "#9c179e"
            ],
            [
             0.4444444444444444,
             "#bd3786"
            ],
            [
             0.5555555555555556,
             "#d8576b"
            ],
            [
             0.6666666666666666,
             "#ed7953"
            ],
            [
             0.7777777777777778,
             "#fb9f3a"
            ],
            [
             0.8888888888888888,
             "#fdca26"
            ],
            [
             1,
             "#f0f921"
            ]
           ]
          },
          "colorway": [
           "#636efa",
           "#EF553B",
           "#00cc96",
           "#ab63fa",
           "#FFA15A",
           "#19d3f3",
           "#FF6692",
           "#B6E880",
           "#FF97FF",
           "#FECB52"
          ],
          "font": {
           "color": "#2a3f5f"
          },
          "geo": {
           "bgcolor": "white",
           "lakecolor": "white",
           "landcolor": "#E5ECF6",
           "showlakes": true,
           "showland": true,
           "subunitcolor": "white"
          },
          "hoverlabel": {
           "align": "left"
          },
          "hovermode": "closest",
          "mapbox": {
           "style": "light"
          },
          "paper_bgcolor": "white",
          "plot_bgcolor": "#E5ECF6",
          "polar": {
           "angularaxis": {
            "gridcolor": "white",
            "linecolor": "white",
            "ticks": ""
           },
           "bgcolor": "#E5ECF6",
           "radialaxis": {
            "gridcolor": "white",
            "linecolor": "white",
            "ticks": ""
           }
          },
          "scene": {
           "xaxis": {
            "backgroundcolor": "#E5ECF6",
            "gridcolor": "white",
            "gridwidth": 2,
            "linecolor": "white",
            "showbackground": true,
            "ticks": "",
            "zerolinecolor": "white"
           },
           "yaxis": {
            "backgroundcolor": "#E5ECF6",
            "gridcolor": "white",
            "gridwidth": 2,
            "linecolor": "white",
            "showbackground": true,
            "ticks": "",
            "zerolinecolor": "white"
           },
           "zaxis": {
            "backgroundcolor": "#E5ECF6",
            "gridcolor": "white",
            "gridwidth": 2,
            "linecolor": "white",
            "showbackground": true,
            "ticks": "",
            "zerolinecolor": "white"
           }
          },
          "shapedefaults": {
           "line": {
            "color": "#2a3f5f"
           }
          },
          "ternary": {
           "aaxis": {
            "gridcolor": "white",
            "linecolor": "white",
            "ticks": ""
           },
           "baxis": {
            "gridcolor": "white",
            "linecolor": "white",
            "ticks": ""
           },
           "bgcolor": "#E5ECF6",
           "caxis": {
            "gridcolor": "white",
            "linecolor": "white",
            "ticks": ""
           }
          },
          "title": {
           "x": 0.05
          },
          "xaxis": {
           "automargin": true,
           "gridcolor": "white",
           "linecolor": "white",
           "ticks": "",
           "title": {
            "standoff": 15
           },
           "zerolinecolor": "white",
           "zerolinewidth": 2
          },
          "yaxis": {
           "automargin": true,
           "gridcolor": "white",
           "linecolor": "white",
           "ticks": "",
           "title": {
            "standoff": 15
           },
           "zerolinecolor": "white",
           "zerolinewidth": 2
          }
         }
        },
        "xaxis": {
         "anchor": "y",
         "domain": [
          0,
          1
         ],
         "title": {
          "text": "time"
         }
        },
        "yaxis": {
         "anchor": "x",
         "domain": [
          0,
          1
         ],
         "title": {
          "text": "value"
         }
        }
       }
      },
      "text/html": [
       "<div>                            <div id=\"2be21f6d-9379-4e0e-8945-04d04eb06adb\" class=\"plotly-graph-div\" style=\"height:525px; width:100%;\"></div>            <script type=\"text/javascript\">                require([\"plotly\"], function(Plotly) {                    window.PLOTLYENV=window.PLOTLYENV || {};                                    if (document.getElementById(\"2be21f6d-9379-4e0e-8945-04d04eb06adb\")) {                    Plotly.newPlot(                        \"2be21f6d-9379-4e0e-8945-04d04eb06adb\",                        [{\"hovertemplate\":\"time=%{x}<br>value=%{y}<extra></extra>\",\"legendgroup\":\"\",\"line\":{\"color\":\"#636efa\",\"dash\":\"solid\"},\"mode\":\"lines\",\"name\":\"\",\"orientation\":\"v\",\"showlegend\":false,\"type\":\"scatter\",\"x\":[\"2021-06-17\",\"2021-06-19\",\"2021-06-20\",\"2021-06-21\"],\"xaxis\":\"x\",\"y\":[43.58142857142857,41.13483870967742,41.03055555555554,40.58394736842106],\"yaxis\":\"y\"}],                        {\"legend\":{\"tracegroupgap\":0},\"margin\":{\"t\":60},\"template\":{\"data\":{\"bar\":[{\"error_x\":{\"color\":\"#2a3f5f\"},\"error_y\":{\"color\":\"#2a3f5f\"},\"marker\":{\"line\":{\"color\":\"#E5ECF6\",\"width\":0.5},\"pattern\":{\"fillmode\":\"overlay\",\"size\":10,\"solidity\":0.2}},\"type\":\"bar\"}],\"barpolar\":[{\"marker\":{\"line\":{\"color\":\"#E5ECF6\",\"width\":0.5},\"pattern\":{\"fillmode\":\"overlay\",\"size\":10,\"solidity\":0.2}},\"type\":\"barpolar\"}],\"carpet\":[{\"aaxis\":{\"endlinecolor\":\"#2a3f5f\",\"gridcolor\":\"white\",\"linecolor\":\"white\",\"minorgridcolor\":\"white\",\"startlinecolor\":\"#2a3f5f\"},\"baxis\":{\"endlinecolor\":\"#2a3f5f\",\"gridcolor\":\"white\",\"linecolor\":\"white\",\"minorgridcolor\":\"white\",\"startlinecolor\":\"#2a3f5f\"},\"type\":\"carpet\"}],\"choropleth\":[{\"colorbar\":{\"outlinewidth\":0,\"ticks\":\"\"},\"type\":\"choropleth\"}],\"contour\":[{\"colorbar\":{\"outlinewidth\":0,\"ticks\":\"\"},\"colorscale\":[[0.0,\"#0d0887\"],[0.1111111111111111,\"#46039f\"],[0.2222222222222222,\"#7201a8\"],[0.3333333333333333,\"#9c179e\"],[0.4444444444444444,\"#bd3786\"],[0.5555555555555556,\"#d8576b\"],[0.6666666666666666,\"#ed7953\"],[0.7777777777777778,\"#fb9f3a\"],[0.8888888888888888,\"#fdca26\"],[1.0,\"#f0f921\"]],\"type\":\"contour\"}],\"contourcarpet\":[{\"colorbar\":{\"outlinewidth\":0,\"ticks\":\"\"},\"type\":\"contourcarpet\"}],\"heatmap\":[{\"colorbar\":{\"outlinewidth\":0,\"ticks\":\"\"},\"colorscale\":[[0.0,\"#0d0887\"],[0.1111111111111111,\"#46039f\"],[0.2222222222222222,\"#7201a8\"],[0.3333333333333333,\"#9c179e\"],[0.4444444444444444,\"#bd3786\"],[0.5555555555555556,\"#d8576b\"],[0.6666666666666666,\"#ed7953\"],[0.7777777777777778,\"#fb9f3a\"],[0.8888888888888888,\"#fdca26\"],[1.0,\"#f0f921\"]],\"type\":\"heatmap\"}],\"heatmapgl\":[{\"colorbar\":{\"outlinewidth\":0,\"ticks\":\"\"},\"colorscale\":[[0.0,\"#0d0887\"],[0.1111111111111111,\"#46039f\"],[0.2222222222222222,\"#7201a8\"],[0.3333333333333333,\"#9c179e\"],[0.4444444444444444,\"#bd3786\"],[0.5555555555555556,\"#d8576b\"],[0.6666666666666666,\"#ed7953\"],[0.7777777777777778,\"#fb9f3a\"],[0.8888888888888888,\"#fdca26\"],[1.0,\"#f0f921\"]],\"type\":\"heatmapgl\"}],\"histogram\":[{\"marker\":{\"pattern\":{\"fillmode\":\"overlay\",\"size\":10,\"solidity\":0.2}},\"type\":\"histogram\"}],\"histogram2d\":[{\"colorbar\":{\"outlinewidth\":0,\"ticks\":\"\"},\"colorscale\":[[0.0,\"#0d0887\"],[0.1111111111111111,\"#46039f\"],[0.2222222222222222,\"#7201a8\"],[0.3333333333333333,\"#9c179e\"],[0.4444444444444444,\"#bd3786\"],[0.5555555555555556,\"#d8576b\"],[0.6666666666666666,\"#ed7953\"],[0.7777777777777778,\"#fb9f3a\"],[0.8888888888888888,\"#fdca26\"],[1.0,\"#f0f921\"]],\"type\":\"histogram2d\"}],\"histogram2dcontour\":[{\"colorbar\":{\"outlinewidth\":0,\"ticks\":\"\"},\"colorscale\":[[0.0,\"#0d0887\"],[0.1111111111111111,\"#46039f\"],[0.2222222222222222,\"#7201a8\"],[0.3333333333333333,\"#9c179e\"],[0.4444444444444444,\"#bd3786\"],[0.5555555555555556,\"#d8576b\"],[0.6666666666666666,\"#ed7953\"],[0.7777777777777778,\"#fb9f3a\"],[0.8888888888888888,\"#fdca26\"],[1.0,\"#f0f921\"]],\"type\":\"histogram2dcontour\"}],\"mesh3d\":[{\"colorbar\":{\"outlinewidth\":0,\"ticks\":\"\"},\"type\":\"mesh3d\"}],\"parcoords\":[{\"line\":{\"colorbar\":{\"outlinewidth\":0,\"ticks\":\"\"}},\"type\":\"parcoords\"}],\"pie\":[{\"automargin\":true,\"type\":\"pie\"}],\"scatter\":[{\"marker\":{\"colorbar\":{\"outlinewidth\":0,\"ticks\":\"\"}},\"type\":\"scatter\"}],\"scatter3d\":[{\"line\":{\"colorbar\":{\"outlinewidth\":0,\"ticks\":\"\"}},\"marker\":{\"colorbar\":{\"outlinewidth\":0,\"ticks\":\"\"}},\"type\":\"scatter3d\"}],\"scattercarpet\":[{\"marker\":{\"colorbar\":{\"outlinewidth\":0,\"ticks\":\"\"}},\"type\":\"scattercarpet\"}],\"scattergeo\":[{\"marker\":{\"colorbar\":{\"outlinewidth\":0,\"ticks\":\"\"}},\"type\":\"scattergeo\"}],\"scattergl\":[{\"marker\":{\"colorbar\":{\"outlinewidth\":0,\"ticks\":\"\"}},\"type\":\"scattergl\"}],\"scattermapbox\":[{\"marker\":{\"colorbar\":{\"outlinewidth\":0,\"ticks\":\"\"}},\"type\":\"scattermapbox\"}],\"scatterpolar\":[{\"marker\":{\"colorbar\":{\"outlinewidth\":0,\"ticks\":\"\"}},\"type\":\"scatterpolar\"}],\"scatterpolargl\":[{\"marker\":{\"colorbar\":{\"outlinewidth\":0,\"ticks\":\"\"}},\"type\":\"scatterpolargl\"}],\"scatterternary\":[{\"marker\":{\"colorbar\":{\"outlinewidth\":0,\"ticks\":\"\"}},\"type\":\"scatterternary\"}],\"surface\":[{\"colorbar\":{\"outlinewidth\":0,\"ticks\":\"\"},\"colorscale\":[[0.0,\"#0d0887\"],[0.1111111111111111,\"#46039f\"],[0.2222222222222222,\"#7201a8\"],[0.3333333333333333,\"#9c179e\"],[0.4444444444444444,\"#bd3786\"],[0.5555555555555556,\"#d8576b\"],[0.6666666666666666,\"#ed7953\"],[0.7777777777777778,\"#fb9f3a\"],[0.8888888888888888,\"#fdca26\"],[1.0,\"#f0f921\"]],\"type\":\"surface\"}],\"table\":[{\"cells\":{\"fill\":{\"color\":\"#EBF0F8\"},\"line\":{\"color\":\"white\"}},\"header\":{\"fill\":{\"color\":\"#C8D4E3\"},\"line\":{\"color\":\"white\"}},\"type\":\"table\"}]},\"layout\":{\"annotationdefaults\":{\"arrowcolor\":\"#2a3f5f\",\"arrowhead\":0,\"arrowwidth\":1},\"autotypenumbers\":\"strict\",\"coloraxis\":{\"colorbar\":{\"outlinewidth\":0,\"ticks\":\"\"}},\"colorscale\":{\"diverging\":[[0,\"#8e0152\"],[0.1,\"#c51b7d\"],[0.2,\"#de77ae\"],[0.3,\"#f1b6da\"],[0.4,\"#fde0ef\"],[0.5,\"#f7f7f7\"],[0.6,\"#e6f5d0\"],[0.7,\"#b8e186\"],[0.8,\"#7fbc41\"],[0.9,\"#4d9221\"],[1,\"#276419\"]],\"sequential\":[[0.0,\"#0d0887\"],[0.1111111111111111,\"#46039f\"],[0.2222222222222222,\"#7201a8\"],[0.3333333333333333,\"#9c179e\"],[0.4444444444444444,\"#bd3786\"],[0.5555555555555556,\"#d8576b\"],[0.6666666666666666,\"#ed7953\"],[0.7777777777777778,\"#fb9f3a\"],[0.8888888888888888,\"#fdca26\"],[1.0,\"#f0f921\"]],\"sequentialminus\":[[0.0,\"#0d0887\"],[0.1111111111111111,\"#46039f\"],[0.2222222222222222,\"#7201a8\"],[0.3333333333333333,\"#9c179e\"],[0.4444444444444444,\"#bd3786\"],[0.5555555555555556,\"#d8576b\"],[0.6666666666666666,\"#ed7953\"],[0.7777777777777778,\"#fb9f3a\"],[0.8888888888888888,\"#fdca26\"],[1.0,\"#f0f921\"]]},\"colorway\":[\"#636efa\",\"#EF553B\",\"#00cc96\",\"#ab63fa\",\"#FFA15A\",\"#19d3f3\",\"#FF6692\",\"#B6E880\",\"#FF97FF\",\"#FECB52\"],\"font\":{\"color\":\"#2a3f5f\"},\"geo\":{\"bgcolor\":\"white\",\"lakecolor\":\"white\",\"landcolor\":\"#E5ECF6\",\"showlakes\":true,\"showland\":true,\"subunitcolor\":\"white\"},\"hoverlabel\":{\"align\":\"left\"},\"hovermode\":\"closest\",\"mapbox\":{\"style\":\"light\"},\"paper_bgcolor\":\"white\",\"plot_bgcolor\":\"#E5ECF6\",\"polar\":{\"angularaxis\":{\"gridcolor\":\"white\",\"linecolor\":\"white\",\"ticks\":\"\"},\"bgcolor\":\"#E5ECF6\",\"radialaxis\":{\"gridcolor\":\"white\",\"linecolor\":\"white\",\"ticks\":\"\"}},\"scene\":{\"xaxis\":{\"backgroundcolor\":\"#E5ECF6\",\"gridcolor\":\"white\",\"gridwidth\":2,\"linecolor\":\"white\",\"showbackground\":true,\"ticks\":\"\",\"zerolinecolor\":\"white\"},\"yaxis\":{\"backgroundcolor\":\"#E5ECF6\",\"gridcolor\":\"white\",\"gridwidth\":2,\"linecolor\":\"white\",\"showbackground\":true,\"ticks\":\"\",\"zerolinecolor\":\"white\"},\"zaxis\":{\"backgroundcolor\":\"#E5ECF6\",\"gridcolor\":\"white\",\"gridwidth\":2,\"linecolor\":\"white\",\"showbackground\":true,\"ticks\":\"\",\"zerolinecolor\":\"white\"}},\"shapedefaults\":{\"line\":{\"color\":\"#2a3f5f\"}},\"ternary\":{\"aaxis\":{\"gridcolor\":\"white\",\"linecolor\":\"white\",\"ticks\":\"\"},\"baxis\":{\"gridcolor\":\"white\",\"linecolor\":\"white\",\"ticks\":\"\"},\"bgcolor\":\"#E5ECF6\",\"caxis\":{\"gridcolor\":\"white\",\"linecolor\":\"white\",\"ticks\":\"\"}},\"title\":{\"x\":0.05},\"xaxis\":{\"automargin\":true,\"gridcolor\":\"white\",\"linecolor\":\"white\",\"ticks\":\"\",\"title\":{\"standoff\":15},\"zerolinecolor\":\"white\",\"zerolinewidth\":2},\"yaxis\":{\"automargin\":true,\"gridcolor\":\"white\",\"linecolor\":\"white\",\"ticks\":\"\",\"title\":{\"standoff\":15},\"zerolinecolor\":\"white\",\"zerolinewidth\":2}}},\"xaxis\":{\"anchor\":\"y\",\"domain\":[0.0,1.0],\"title\":{\"text\":\"time\"}},\"yaxis\":{\"anchor\":\"x\",\"domain\":[0.0,1.0],\"title\":{\"text\":\"value\"}}},                        {\"responsive\": true}                    ).then(function(){\n",
       "                            \n",
       "var gd = document.getElementById('2be21f6d-9379-4e0e-8945-04d04eb06adb');\n",
       "var x = new MutationObserver(function (mutations, observer) {{\n",
       "        var display = window.getComputedStyle(gd).display;\n",
       "        if (!display || display === 'none') {{\n",
       "            console.log([gd, 'removed!']);\n",
       "            Plotly.purge(gd);\n",
       "            observer.disconnect();\n",
       "        }}\n",
       "}});\n",
       "\n",
       "// Listen for the removal of the full notebook cells\n",
       "var notebookContainer = gd.closest('#notebook-container');\n",
       "if (notebookContainer) {{\n",
       "    x.observe(notebookContainer, {childList: true});\n",
       "}}\n",
       "\n",
       "// Listen for the clearing of the current output cell\n",
       "var outputEl = gd.closest('.output');\n",
       "if (outputEl) {{\n",
       "    x.observe(outputEl, {childList: true});\n",
       "}}\n",
       "\n",
       "                        })                };                });            </script>        </div>"
      ]
     },
     "metadata": {},
     "output_type": "display_data"
    },
    {
     "name": "stdout",
     "output_type": "stream",
     "text": [
      "26-1-1\n"
     ]
    }
   ],
   "source": [
    "m = 26\n",
    "n = 1\n",
    "s = 1\n",
    "\n",
    "df=pd.read_csv(r'C:\\Users\\Tosha.E.T\\Desktop\\Sinotech\\716\\{0}-{1}-{2}_clean.csv'.format(m,n,s))\n",
    "\n",
    "df=df[df['value']>40]\n",
    "df=df[df['value']<48]\n",
    "df = df.reset_index()\n",
    "\n",
    "i = 1\n",
    "while i<(len(df[\"value\"])-1):\n",
    "    a = df[\"value\"][i-1]\n",
    "    b = df[\"value\"][i]\n",
    "    c = df[\"value\"][i+1]\n",
    "    if (abs(b-c)+abs(a-b))/2>abs(c-a)*1.5:\n",
    "        df[\"value\"][i] = (a+c)/2\n",
    "        i=i+1\n",
    "    else:\n",
    "        i=i+1\n",
    "df.to_csv(r'C:\\Users\\Tosha.E.T\\Desktop\\Sinotech\\716\\{0}-{1}-{2}_cut.csv'.format(m,n,s))\n",
    "print(\"cut save!!\")\n",
    "#---------------------------------------------------\n",
    "fig = px.line(df, y='value', x='time')        \n",
    "fig.show()\n",
    "print(\"{0}-{1}-{2}\".format(m,n,s))"
   ]
  },
  {
   "cell_type": "code",
   "execution_count": 35,
   "id": "psychological-beaver",
   "metadata": {},
   "outputs": [
    {
     "name": "stdout",
     "output_type": "stream",
     "text": [
      "cut save!!\n"
     ]
    },
    {
     "name": "stderr",
     "output_type": "stream",
     "text": [
      "<ipython-input-35-57b86845158c>:16: SettingWithCopyWarning:\n",
      "\n",
      "\n",
      "A value is trying to be set on a copy of a slice from a DataFrame\n",
      "\n",
      "See the caveats in the documentation: https://pandas.pydata.org/pandas-docs/stable/user_guide/indexing.html#returning-a-view-versus-a-copy\n",
      "\n"
     ]
    },
    {
     "data": {
      "application/vnd.plotly.v1+json": {
       "config": {
        "plotlyServerURL": "https://plot.ly"
       },
       "data": [
        {
         "hovertemplate": "time=%{x}<br>value=%{y}<extra></extra>",
         "legendgroup": "",
         "line": {
          "color": "#636efa",
          "dash": "solid"
         },
         "mode": "lines",
         "name": "",
         "orientation": "v",
         "showlegend": false,
         "type": "scatter",
         "x": [
          "2021-06-16",
          "2021-06-17",
          "2021-06-18",
          "2021-06-22",
          "2021-06-27",
          "2021-07-01"
         ],
         "xaxis": "x",
         "y": [
          40.37800000000001,
          39.262142857142855,
          38.50214285714285,
          36.260000000000005,
          36.177173913043475,
          36.09434782608695
         ],
         "yaxis": "y"
        }
       ],
       "layout": {
        "legend": {
         "tracegroupgap": 0
        },
        "margin": {
         "t": 60
        },
        "template": {
         "data": {
          "bar": [
           {
            "error_x": {
             "color": "#2a3f5f"
            },
            "error_y": {
             "color": "#2a3f5f"
            },
            "marker": {
             "line": {
              "color": "#E5ECF6",
              "width": 0.5
             },
             "pattern": {
              "fillmode": "overlay",
              "size": 10,
              "solidity": 0.2
             }
            },
            "type": "bar"
           }
          ],
          "barpolar": [
           {
            "marker": {
             "line": {
              "color": "#E5ECF6",
              "width": 0.5
             },
             "pattern": {
              "fillmode": "overlay",
              "size": 10,
              "solidity": 0.2
             }
            },
            "type": "barpolar"
           }
          ],
          "carpet": [
           {
            "aaxis": {
             "endlinecolor": "#2a3f5f",
             "gridcolor": "white",
             "linecolor": "white",
             "minorgridcolor": "white",
             "startlinecolor": "#2a3f5f"
            },
            "baxis": {
             "endlinecolor": "#2a3f5f",
             "gridcolor": "white",
             "linecolor": "white",
             "minorgridcolor": "white",
             "startlinecolor": "#2a3f5f"
            },
            "type": "carpet"
           }
          ],
          "choropleth": [
           {
            "colorbar": {
             "outlinewidth": 0,
             "ticks": ""
            },
            "type": "choropleth"
           }
          ],
          "contour": [
           {
            "colorbar": {
             "outlinewidth": 0,
             "ticks": ""
            },
            "colorscale": [
             [
              0,
              "#0d0887"
             ],
             [
              0.1111111111111111,
              "#46039f"
             ],
             [
              0.2222222222222222,
              "#7201a8"
             ],
             [
              0.3333333333333333,
              "#9c179e"
             ],
             [
              0.4444444444444444,
              "#bd3786"
             ],
             [
              0.5555555555555556,
              "#d8576b"
             ],
             [
              0.6666666666666666,
              "#ed7953"
             ],
             [
              0.7777777777777778,
              "#fb9f3a"
             ],
             [
              0.8888888888888888,
              "#fdca26"
             ],
             [
              1,
              "#f0f921"
             ]
            ],
            "type": "contour"
           }
          ],
          "contourcarpet": [
           {
            "colorbar": {
             "outlinewidth": 0,
             "ticks": ""
            },
            "type": "contourcarpet"
           }
          ],
          "heatmap": [
           {
            "colorbar": {
             "outlinewidth": 0,
             "ticks": ""
            },
            "colorscale": [
             [
              0,
              "#0d0887"
             ],
             [
              0.1111111111111111,
              "#46039f"
             ],
             [
              0.2222222222222222,
              "#7201a8"
             ],
             [
              0.3333333333333333,
              "#9c179e"
             ],
             [
              0.4444444444444444,
              "#bd3786"
             ],
             [
              0.5555555555555556,
              "#d8576b"
             ],
             [
              0.6666666666666666,
              "#ed7953"
             ],
             [
              0.7777777777777778,
              "#fb9f3a"
             ],
             [
              0.8888888888888888,
              "#fdca26"
             ],
             [
              1,
              "#f0f921"
             ]
            ],
            "type": "heatmap"
           }
          ],
          "heatmapgl": [
           {
            "colorbar": {
             "outlinewidth": 0,
             "ticks": ""
            },
            "colorscale": [
             [
              0,
              "#0d0887"
             ],
             [
              0.1111111111111111,
              "#46039f"
             ],
             [
              0.2222222222222222,
              "#7201a8"
             ],
             [
              0.3333333333333333,
              "#9c179e"
             ],
             [
              0.4444444444444444,
              "#bd3786"
             ],
             [
              0.5555555555555556,
              "#d8576b"
             ],
             [
              0.6666666666666666,
              "#ed7953"
             ],
             [
              0.7777777777777778,
              "#fb9f3a"
             ],
             [
              0.8888888888888888,
              "#fdca26"
             ],
             [
              1,
              "#f0f921"
             ]
            ],
            "type": "heatmapgl"
           }
          ],
          "histogram": [
           {
            "marker": {
             "pattern": {
              "fillmode": "overlay",
              "size": 10,
              "solidity": 0.2
             }
            },
            "type": "histogram"
           }
          ],
          "histogram2d": [
           {
            "colorbar": {
             "outlinewidth": 0,
             "ticks": ""
            },
            "colorscale": [
             [
              0,
              "#0d0887"
             ],
             [
              0.1111111111111111,
              "#46039f"
             ],
             [
              0.2222222222222222,
              "#7201a8"
             ],
             [
              0.3333333333333333,
              "#9c179e"
             ],
             [
              0.4444444444444444,
              "#bd3786"
             ],
             [
              0.5555555555555556,
              "#d8576b"
             ],
             [
              0.6666666666666666,
              "#ed7953"
             ],
             [
              0.7777777777777778,
              "#fb9f3a"
             ],
             [
              0.8888888888888888,
              "#fdca26"
             ],
             [
              1,
              "#f0f921"
             ]
            ],
            "type": "histogram2d"
           }
          ],
          "histogram2dcontour": [
           {
            "colorbar": {
             "outlinewidth": 0,
             "ticks": ""
            },
            "colorscale": [
             [
              0,
              "#0d0887"
             ],
             [
              0.1111111111111111,
              "#46039f"
             ],
             [
              0.2222222222222222,
              "#7201a8"
             ],
             [
              0.3333333333333333,
              "#9c179e"
             ],
             [
              0.4444444444444444,
              "#bd3786"
             ],
             [
              0.5555555555555556,
              "#d8576b"
             ],
             [
              0.6666666666666666,
              "#ed7953"
             ],
             [
              0.7777777777777778,
              "#fb9f3a"
             ],
             [
              0.8888888888888888,
              "#fdca26"
             ],
             [
              1,
              "#f0f921"
             ]
            ],
            "type": "histogram2dcontour"
           }
          ],
          "mesh3d": [
           {
            "colorbar": {
             "outlinewidth": 0,
             "ticks": ""
            },
            "type": "mesh3d"
           }
          ],
          "parcoords": [
           {
            "line": {
             "colorbar": {
              "outlinewidth": 0,
              "ticks": ""
             }
            },
            "type": "parcoords"
           }
          ],
          "pie": [
           {
            "automargin": true,
            "type": "pie"
           }
          ],
          "scatter": [
           {
            "marker": {
             "colorbar": {
              "outlinewidth": 0,
              "ticks": ""
             }
            },
            "type": "scatter"
           }
          ],
          "scatter3d": [
           {
            "line": {
             "colorbar": {
              "outlinewidth": 0,
              "ticks": ""
             }
            },
            "marker": {
             "colorbar": {
              "outlinewidth": 0,
              "ticks": ""
             }
            },
            "type": "scatter3d"
           }
          ],
          "scattercarpet": [
           {
            "marker": {
             "colorbar": {
              "outlinewidth": 0,
              "ticks": ""
             }
            },
            "type": "scattercarpet"
           }
          ],
          "scattergeo": [
           {
            "marker": {
             "colorbar": {
              "outlinewidth": 0,
              "ticks": ""
             }
            },
            "type": "scattergeo"
           }
          ],
          "scattergl": [
           {
            "marker": {
             "colorbar": {
              "outlinewidth": 0,
              "ticks": ""
             }
            },
            "type": "scattergl"
           }
          ],
          "scattermapbox": [
           {
            "marker": {
             "colorbar": {
              "outlinewidth": 0,
              "ticks": ""
             }
            },
            "type": "scattermapbox"
           }
          ],
          "scatterpolar": [
           {
            "marker": {
             "colorbar": {
              "outlinewidth": 0,
              "ticks": ""
             }
            },
            "type": "scatterpolar"
           }
          ],
          "scatterpolargl": [
           {
            "marker": {
             "colorbar": {
              "outlinewidth": 0,
              "ticks": ""
             }
            },
            "type": "scatterpolargl"
           }
          ],
          "scatterternary": [
           {
            "marker": {
             "colorbar": {
              "outlinewidth": 0,
              "ticks": ""
             }
            },
            "type": "scatterternary"
           }
          ],
          "surface": [
           {
            "colorbar": {
             "outlinewidth": 0,
             "ticks": ""
            },
            "colorscale": [
             [
              0,
              "#0d0887"
             ],
             [
              0.1111111111111111,
              "#46039f"
             ],
             [
              0.2222222222222222,
              "#7201a8"
             ],
             [
              0.3333333333333333,
              "#9c179e"
             ],
             [
              0.4444444444444444,
              "#bd3786"
             ],
             [
              0.5555555555555556,
              "#d8576b"
             ],
             [
              0.6666666666666666,
              "#ed7953"
             ],
             [
              0.7777777777777778,
              "#fb9f3a"
             ],
             [
              0.8888888888888888,
              "#fdca26"
             ],
             [
              1,
              "#f0f921"
             ]
            ],
            "type": "surface"
           }
          ],
          "table": [
           {
            "cells": {
             "fill": {
              "color": "#EBF0F8"
             },
             "line": {
              "color": "white"
             }
            },
            "header": {
             "fill": {
              "color": "#C8D4E3"
             },
             "line": {
              "color": "white"
             }
            },
            "type": "table"
           }
          ]
         },
         "layout": {
          "annotationdefaults": {
           "arrowcolor": "#2a3f5f",
           "arrowhead": 0,
           "arrowwidth": 1
          },
          "autotypenumbers": "strict",
          "coloraxis": {
           "colorbar": {
            "outlinewidth": 0,
            "ticks": ""
           }
          },
          "colorscale": {
           "diverging": [
            [
             0,
             "#8e0152"
            ],
            [
             0.1,
             "#c51b7d"
            ],
            [
             0.2,
             "#de77ae"
            ],
            [
             0.3,
             "#f1b6da"
            ],
            [
             0.4,
             "#fde0ef"
            ],
            [
             0.5,
             "#f7f7f7"
            ],
            [
             0.6,
             "#e6f5d0"
            ],
            [
             0.7,
             "#b8e186"
            ],
            [
             0.8,
             "#7fbc41"
            ],
            [
             0.9,
             "#4d9221"
            ],
            [
             1,
             "#276419"
            ]
           ],
           "sequential": [
            [
             0,
             "#0d0887"
            ],
            [
             0.1111111111111111,
             "#46039f"
            ],
            [
             0.2222222222222222,
             "#7201a8"
            ],
            [
             0.3333333333333333,
             "#9c179e"
            ],
            [
             0.4444444444444444,
             "#bd3786"
            ],
            [
             0.5555555555555556,
             "#d8576b"
            ],
            [
             0.6666666666666666,
             "#ed7953"
            ],
            [
             0.7777777777777778,
             "#fb9f3a"
            ],
            [
             0.8888888888888888,
             "#fdca26"
            ],
            [
             1,
             "#f0f921"
            ]
           ],
           "sequentialminus": [
            [
             0,
             "#0d0887"
            ],
            [
             0.1111111111111111,
             "#46039f"
            ],
            [
             0.2222222222222222,
             "#7201a8"
            ],
            [
             0.3333333333333333,
             "#9c179e"
            ],
            [
             0.4444444444444444,
             "#bd3786"
            ],
            [
             0.5555555555555556,
             "#d8576b"
            ],
            [
             0.6666666666666666,
             "#ed7953"
            ],
            [
             0.7777777777777778,
             "#fb9f3a"
            ],
            [
             0.8888888888888888,
             "#fdca26"
            ],
            [
             1,
             "#f0f921"
            ]
           ]
          },
          "colorway": [
           "#636efa",
           "#EF553B",
           "#00cc96",
           "#ab63fa",
           "#FFA15A",
           "#19d3f3",
           "#FF6692",
           "#B6E880",
           "#FF97FF",
           "#FECB52"
          ],
          "font": {
           "color": "#2a3f5f"
          },
          "geo": {
           "bgcolor": "white",
           "lakecolor": "white",
           "landcolor": "#E5ECF6",
           "showlakes": true,
           "showland": true,
           "subunitcolor": "white"
          },
          "hoverlabel": {
           "align": "left"
          },
          "hovermode": "closest",
          "mapbox": {
           "style": "light"
          },
          "paper_bgcolor": "white",
          "plot_bgcolor": "#E5ECF6",
          "polar": {
           "angularaxis": {
            "gridcolor": "white",
            "linecolor": "white",
            "ticks": ""
           },
           "bgcolor": "#E5ECF6",
           "radialaxis": {
            "gridcolor": "white",
            "linecolor": "white",
            "ticks": ""
           }
          },
          "scene": {
           "xaxis": {
            "backgroundcolor": "#E5ECF6",
            "gridcolor": "white",
            "gridwidth": 2,
            "linecolor": "white",
            "showbackground": true,
            "ticks": "",
            "zerolinecolor": "white"
           },
           "yaxis": {
            "backgroundcolor": "#E5ECF6",
            "gridcolor": "white",
            "gridwidth": 2,
            "linecolor": "white",
            "showbackground": true,
            "ticks": "",
            "zerolinecolor": "white"
           },
           "zaxis": {
            "backgroundcolor": "#E5ECF6",
            "gridcolor": "white",
            "gridwidth": 2,
            "linecolor": "white",
            "showbackground": true,
            "ticks": "",
            "zerolinecolor": "white"
           }
          },
          "shapedefaults": {
           "line": {
            "color": "#2a3f5f"
           }
          },
          "ternary": {
           "aaxis": {
            "gridcolor": "white",
            "linecolor": "white",
            "ticks": ""
           },
           "baxis": {
            "gridcolor": "white",
            "linecolor": "white",
            "ticks": ""
           },
           "bgcolor": "#E5ECF6",
           "caxis": {
            "gridcolor": "white",
            "linecolor": "white",
            "ticks": ""
           }
          },
          "title": {
           "x": 0.05
          },
          "xaxis": {
           "automargin": true,
           "gridcolor": "white",
           "linecolor": "white",
           "ticks": "",
           "title": {
            "standoff": 15
           },
           "zerolinecolor": "white",
           "zerolinewidth": 2
          },
          "yaxis": {
           "automargin": true,
           "gridcolor": "white",
           "linecolor": "white",
           "ticks": "",
           "title": {
            "standoff": 15
           },
           "zerolinecolor": "white",
           "zerolinewidth": 2
          }
         }
        },
        "xaxis": {
         "anchor": "y",
         "domain": [
          0,
          1
         ],
         "title": {
          "text": "time"
         }
        },
        "yaxis": {
         "anchor": "x",
         "domain": [
          0,
          1
         ],
         "title": {
          "text": "value"
         }
        }
       }
      },
      "text/html": [
       "<div>                            <div id=\"b1051dbe-1593-4c6f-96f7-a83e7c8d8b9d\" class=\"plotly-graph-div\" style=\"height:525px; width:100%;\"></div>            <script type=\"text/javascript\">                require([\"plotly\"], function(Plotly) {                    window.PLOTLYENV=window.PLOTLYENV || {};                                    if (document.getElementById(\"b1051dbe-1593-4c6f-96f7-a83e7c8d8b9d\")) {                    Plotly.newPlot(                        \"b1051dbe-1593-4c6f-96f7-a83e7c8d8b9d\",                        [{\"hovertemplate\":\"time=%{x}<br>value=%{y}<extra></extra>\",\"legendgroup\":\"\",\"line\":{\"color\":\"#636efa\",\"dash\":\"solid\"},\"mode\":\"lines\",\"name\":\"\",\"orientation\":\"v\",\"showlegend\":false,\"type\":\"scatter\",\"x\":[\"2021-06-16\",\"2021-06-17\",\"2021-06-18\",\"2021-06-22\",\"2021-06-27\",\"2021-07-01\"],\"xaxis\":\"x\",\"y\":[40.37800000000001,39.262142857142855,38.50214285714285,36.260000000000005,36.177173913043475,36.09434782608695],\"yaxis\":\"y\"}],                        {\"legend\":{\"tracegroupgap\":0},\"margin\":{\"t\":60},\"template\":{\"data\":{\"bar\":[{\"error_x\":{\"color\":\"#2a3f5f\"},\"error_y\":{\"color\":\"#2a3f5f\"},\"marker\":{\"line\":{\"color\":\"#E5ECF6\",\"width\":0.5},\"pattern\":{\"fillmode\":\"overlay\",\"size\":10,\"solidity\":0.2}},\"type\":\"bar\"}],\"barpolar\":[{\"marker\":{\"line\":{\"color\":\"#E5ECF6\",\"width\":0.5},\"pattern\":{\"fillmode\":\"overlay\",\"size\":10,\"solidity\":0.2}},\"type\":\"barpolar\"}],\"carpet\":[{\"aaxis\":{\"endlinecolor\":\"#2a3f5f\",\"gridcolor\":\"white\",\"linecolor\":\"white\",\"minorgridcolor\":\"white\",\"startlinecolor\":\"#2a3f5f\"},\"baxis\":{\"endlinecolor\":\"#2a3f5f\",\"gridcolor\":\"white\",\"linecolor\":\"white\",\"minorgridcolor\":\"white\",\"startlinecolor\":\"#2a3f5f\"},\"type\":\"carpet\"}],\"choropleth\":[{\"colorbar\":{\"outlinewidth\":0,\"ticks\":\"\"},\"type\":\"choropleth\"}],\"contour\":[{\"colorbar\":{\"outlinewidth\":0,\"ticks\":\"\"},\"colorscale\":[[0.0,\"#0d0887\"],[0.1111111111111111,\"#46039f\"],[0.2222222222222222,\"#7201a8\"],[0.3333333333333333,\"#9c179e\"],[0.4444444444444444,\"#bd3786\"],[0.5555555555555556,\"#d8576b\"],[0.6666666666666666,\"#ed7953\"],[0.7777777777777778,\"#fb9f3a\"],[0.8888888888888888,\"#fdca26\"],[1.0,\"#f0f921\"]],\"type\":\"contour\"}],\"contourcarpet\":[{\"colorbar\":{\"outlinewidth\":0,\"ticks\":\"\"},\"type\":\"contourcarpet\"}],\"heatmap\":[{\"colorbar\":{\"outlinewidth\":0,\"ticks\":\"\"},\"colorscale\":[[0.0,\"#0d0887\"],[0.1111111111111111,\"#46039f\"],[0.2222222222222222,\"#7201a8\"],[0.3333333333333333,\"#9c179e\"],[0.4444444444444444,\"#bd3786\"],[0.5555555555555556,\"#d8576b\"],[0.6666666666666666,\"#ed7953\"],[0.7777777777777778,\"#fb9f3a\"],[0.8888888888888888,\"#fdca26\"],[1.0,\"#f0f921\"]],\"type\":\"heatmap\"}],\"heatmapgl\":[{\"colorbar\":{\"outlinewidth\":0,\"ticks\":\"\"},\"colorscale\":[[0.0,\"#0d0887\"],[0.1111111111111111,\"#46039f\"],[0.2222222222222222,\"#7201a8\"],[0.3333333333333333,\"#9c179e\"],[0.4444444444444444,\"#bd3786\"],[0.5555555555555556,\"#d8576b\"],[0.6666666666666666,\"#ed7953\"],[0.7777777777777778,\"#fb9f3a\"],[0.8888888888888888,\"#fdca26\"],[1.0,\"#f0f921\"]],\"type\":\"heatmapgl\"}],\"histogram\":[{\"marker\":{\"pattern\":{\"fillmode\":\"overlay\",\"size\":10,\"solidity\":0.2}},\"type\":\"histogram\"}],\"histogram2d\":[{\"colorbar\":{\"outlinewidth\":0,\"ticks\":\"\"},\"colorscale\":[[0.0,\"#0d0887\"],[0.1111111111111111,\"#46039f\"],[0.2222222222222222,\"#7201a8\"],[0.3333333333333333,\"#9c179e\"],[0.4444444444444444,\"#bd3786\"],[0.5555555555555556,\"#d8576b\"],[0.6666666666666666,\"#ed7953\"],[0.7777777777777778,\"#fb9f3a\"],[0.8888888888888888,\"#fdca26\"],[1.0,\"#f0f921\"]],\"type\":\"histogram2d\"}],\"histogram2dcontour\":[{\"colorbar\":{\"outlinewidth\":0,\"ticks\":\"\"},\"colorscale\":[[0.0,\"#0d0887\"],[0.1111111111111111,\"#46039f\"],[0.2222222222222222,\"#7201a8\"],[0.3333333333333333,\"#9c179e\"],[0.4444444444444444,\"#bd3786\"],[0.5555555555555556,\"#d8576b\"],[0.6666666666666666,\"#ed7953\"],[0.7777777777777778,\"#fb9f3a\"],[0.8888888888888888,\"#fdca26\"],[1.0,\"#f0f921\"]],\"type\":\"histogram2dcontour\"}],\"mesh3d\":[{\"colorbar\":{\"outlinewidth\":0,\"ticks\":\"\"},\"type\":\"mesh3d\"}],\"parcoords\":[{\"line\":{\"colorbar\":{\"outlinewidth\":0,\"ticks\":\"\"}},\"type\":\"parcoords\"}],\"pie\":[{\"automargin\":true,\"type\":\"pie\"}],\"scatter\":[{\"marker\":{\"colorbar\":{\"outlinewidth\":0,\"ticks\":\"\"}},\"type\":\"scatter\"}],\"scatter3d\":[{\"line\":{\"colorbar\":{\"outlinewidth\":0,\"ticks\":\"\"}},\"marker\":{\"colorbar\":{\"outlinewidth\":0,\"ticks\":\"\"}},\"type\":\"scatter3d\"}],\"scattercarpet\":[{\"marker\":{\"colorbar\":{\"outlinewidth\":0,\"ticks\":\"\"}},\"type\":\"scattercarpet\"}],\"scattergeo\":[{\"marker\":{\"colorbar\":{\"outlinewidth\":0,\"ticks\":\"\"}},\"type\":\"scattergeo\"}],\"scattergl\":[{\"marker\":{\"colorbar\":{\"outlinewidth\":0,\"ticks\":\"\"}},\"type\":\"scattergl\"}],\"scattermapbox\":[{\"marker\":{\"colorbar\":{\"outlinewidth\":0,\"ticks\":\"\"}},\"type\":\"scattermapbox\"}],\"scatterpolar\":[{\"marker\":{\"colorbar\":{\"outlinewidth\":0,\"ticks\":\"\"}},\"type\":\"scatterpolar\"}],\"scatterpolargl\":[{\"marker\":{\"colorbar\":{\"outlinewidth\":0,\"ticks\":\"\"}},\"type\":\"scatterpolargl\"}],\"scatterternary\":[{\"marker\":{\"colorbar\":{\"outlinewidth\":0,\"ticks\":\"\"}},\"type\":\"scatterternary\"}],\"surface\":[{\"colorbar\":{\"outlinewidth\":0,\"ticks\":\"\"},\"colorscale\":[[0.0,\"#0d0887\"],[0.1111111111111111,\"#46039f\"],[0.2222222222222222,\"#7201a8\"],[0.3333333333333333,\"#9c179e\"],[0.4444444444444444,\"#bd3786\"],[0.5555555555555556,\"#d8576b\"],[0.6666666666666666,\"#ed7953\"],[0.7777777777777778,\"#fb9f3a\"],[0.8888888888888888,\"#fdca26\"],[1.0,\"#f0f921\"]],\"type\":\"surface\"}],\"table\":[{\"cells\":{\"fill\":{\"color\":\"#EBF0F8\"},\"line\":{\"color\":\"white\"}},\"header\":{\"fill\":{\"color\":\"#C8D4E3\"},\"line\":{\"color\":\"white\"}},\"type\":\"table\"}]},\"layout\":{\"annotationdefaults\":{\"arrowcolor\":\"#2a3f5f\",\"arrowhead\":0,\"arrowwidth\":1},\"autotypenumbers\":\"strict\",\"coloraxis\":{\"colorbar\":{\"outlinewidth\":0,\"ticks\":\"\"}},\"colorscale\":{\"diverging\":[[0,\"#8e0152\"],[0.1,\"#c51b7d\"],[0.2,\"#de77ae\"],[0.3,\"#f1b6da\"],[0.4,\"#fde0ef\"],[0.5,\"#f7f7f7\"],[0.6,\"#e6f5d0\"],[0.7,\"#b8e186\"],[0.8,\"#7fbc41\"],[0.9,\"#4d9221\"],[1,\"#276419\"]],\"sequential\":[[0.0,\"#0d0887\"],[0.1111111111111111,\"#46039f\"],[0.2222222222222222,\"#7201a8\"],[0.3333333333333333,\"#9c179e\"],[0.4444444444444444,\"#bd3786\"],[0.5555555555555556,\"#d8576b\"],[0.6666666666666666,\"#ed7953\"],[0.7777777777777778,\"#fb9f3a\"],[0.8888888888888888,\"#fdca26\"],[1.0,\"#f0f921\"]],\"sequentialminus\":[[0.0,\"#0d0887\"],[0.1111111111111111,\"#46039f\"],[0.2222222222222222,\"#7201a8\"],[0.3333333333333333,\"#9c179e\"],[0.4444444444444444,\"#bd3786\"],[0.5555555555555556,\"#d8576b\"],[0.6666666666666666,\"#ed7953\"],[0.7777777777777778,\"#fb9f3a\"],[0.8888888888888888,\"#fdca26\"],[1.0,\"#f0f921\"]]},\"colorway\":[\"#636efa\",\"#EF553B\",\"#00cc96\",\"#ab63fa\",\"#FFA15A\",\"#19d3f3\",\"#FF6692\",\"#B6E880\",\"#FF97FF\",\"#FECB52\"],\"font\":{\"color\":\"#2a3f5f\"},\"geo\":{\"bgcolor\":\"white\",\"lakecolor\":\"white\",\"landcolor\":\"#E5ECF6\",\"showlakes\":true,\"showland\":true,\"subunitcolor\":\"white\"},\"hoverlabel\":{\"align\":\"left\"},\"hovermode\":\"closest\",\"mapbox\":{\"style\":\"light\"},\"paper_bgcolor\":\"white\",\"plot_bgcolor\":\"#E5ECF6\",\"polar\":{\"angularaxis\":{\"gridcolor\":\"white\",\"linecolor\":\"white\",\"ticks\":\"\"},\"bgcolor\":\"#E5ECF6\",\"radialaxis\":{\"gridcolor\":\"white\",\"linecolor\":\"white\",\"ticks\":\"\"}},\"scene\":{\"xaxis\":{\"backgroundcolor\":\"#E5ECF6\",\"gridcolor\":\"white\",\"gridwidth\":2,\"linecolor\":\"white\",\"showbackground\":true,\"ticks\":\"\",\"zerolinecolor\":\"white\"},\"yaxis\":{\"backgroundcolor\":\"#E5ECF6\",\"gridcolor\":\"white\",\"gridwidth\":2,\"linecolor\":\"white\",\"showbackground\":true,\"ticks\":\"\",\"zerolinecolor\":\"white\"},\"zaxis\":{\"backgroundcolor\":\"#E5ECF6\",\"gridcolor\":\"white\",\"gridwidth\":2,\"linecolor\":\"white\",\"showbackground\":true,\"ticks\":\"\",\"zerolinecolor\":\"white\"}},\"shapedefaults\":{\"line\":{\"color\":\"#2a3f5f\"}},\"ternary\":{\"aaxis\":{\"gridcolor\":\"white\",\"linecolor\":\"white\",\"ticks\":\"\"},\"baxis\":{\"gridcolor\":\"white\",\"linecolor\":\"white\",\"ticks\":\"\"},\"bgcolor\":\"#E5ECF6\",\"caxis\":{\"gridcolor\":\"white\",\"linecolor\":\"white\",\"ticks\":\"\"}},\"title\":{\"x\":0.05},\"xaxis\":{\"automargin\":true,\"gridcolor\":\"white\",\"linecolor\":\"white\",\"ticks\":\"\",\"title\":{\"standoff\":15},\"zerolinecolor\":\"white\",\"zerolinewidth\":2},\"yaxis\":{\"automargin\":true,\"gridcolor\":\"white\",\"linecolor\":\"white\",\"ticks\":\"\",\"title\":{\"standoff\":15},\"zerolinecolor\":\"white\",\"zerolinewidth\":2}}},\"xaxis\":{\"anchor\":\"y\",\"domain\":[0.0,1.0],\"title\":{\"text\":\"time\"}},\"yaxis\":{\"anchor\":\"x\",\"domain\":[0.0,1.0],\"title\":{\"text\":\"value\"}}},                        {\"responsive\": true}                    ).then(function(){\n",
       "                            \n",
       "var gd = document.getElementById('b1051dbe-1593-4c6f-96f7-a83e7c8d8b9d');\n",
       "var x = new MutationObserver(function (mutations, observer) {{\n",
       "        var display = window.getComputedStyle(gd).display;\n",
       "        if (!display || display === 'none') {{\n",
       "            console.log([gd, 'removed!']);\n",
       "            Plotly.purge(gd);\n",
       "            observer.disconnect();\n",
       "        }}\n",
       "}});\n",
       "\n",
       "// Listen for the removal of the full notebook cells\n",
       "var notebookContainer = gd.closest('#notebook-container');\n",
       "if (notebookContainer) {{\n",
       "    x.observe(notebookContainer, {childList: true});\n",
       "}}\n",
       "\n",
       "// Listen for the clearing of the current output cell\n",
       "var outputEl = gd.closest('.output');\n",
       "if (outputEl) {{\n",
       "    x.observe(outputEl, {childList: true});\n",
       "}}\n",
       "\n",
       "                        })                };                });            </script>        </div>"
      ]
     },
     "metadata": {},
     "output_type": "display_data"
    },
    {
     "name": "stdout",
     "output_type": "stream",
     "text": [
      "26-1-2\n"
     ]
    }
   ],
   "source": [
    "m = 26\n",
    "n = 1\n",
    "s = 2\n",
    "\n",
    "df=pd.read_csv(r'C:\\Users\\Tosha.E.T\\Desktop\\Sinotech\\716\\{0}-{1}-{2}_clean.csv'.format(m,n,s))\n",
    "df=df[df['value']>36]\n",
    "df=df[df['value']<43]\n",
    "df = df.reset_index()\n",
    "\n",
    "i = 1\n",
    "while i<(len(df[\"value\"])-1):\n",
    "    a = df[\"value\"][i-1]\n",
    "    b = df[\"value\"][i]\n",
    "    c = df[\"value\"][i+1]\n",
    "    if (abs(b-c)+abs(a-b))/2>abs(c-a)*1.5:\n",
    "        df[\"value\"][i] = (a+c)/2\n",
    "        i=i+1\n",
    "    else:\n",
    "        i=i+1\n",
    "df.to_csv(r'C:\\Users\\Tosha.E.T\\Desktop\\Sinotech\\716\\{0}-{1}-{2}_cut.csv'.format(m,n,s))\n",
    "print(\"cut save!!\")\n",
    "#---------------------------------------------------\n",
    "fig = px.line(df, y='value', x='time')        \n",
    "fig.show()\n",
    "print(\"{0}-{1}-{2}\".format(m,n,s))"
   ]
  },
  {
   "cell_type": "code",
   "execution_count": 36,
   "id": "inclusive-retention",
   "metadata": {},
   "outputs": [
    {
     "name": "stdout",
     "output_type": "stream",
     "text": [
      "cut save!!\n"
     ]
    },
    {
     "name": "stderr",
     "output_type": "stream",
     "text": [
      "<ipython-input-36-1839985151b8>:16: SettingWithCopyWarning:\n",
      "\n",
      "\n",
      "A value is trying to be set on a copy of a slice from a DataFrame\n",
      "\n",
      "See the caveats in the documentation: https://pandas.pydata.org/pandas-docs/stable/user_guide/indexing.html#returning-a-view-versus-a-copy\n",
      "\n"
     ]
    },
    {
     "data": {
      "application/vnd.plotly.v1+json": {
       "config": {
        "plotlyServerURL": "https://plot.ly"
       },
       "data": [
        {
         "hovertemplate": "time=%{x}<br>value=%{y}<extra></extra>",
         "legendgroup": "",
         "line": {
          "color": "#636efa",
          "dash": "solid"
         },
         "mode": "lines",
         "name": "",
         "orientation": "v",
         "showlegend": false,
         "type": "scatter",
         "x": [
          "2021-06-14",
          "2021-06-16",
          "2021-06-17",
          "2021-06-18",
          "2021-06-19",
          "2021-06-20",
          "2021-06-21",
          "2021-06-22"
         ],
         "xaxis": "x",
         "y": [
          42.76,
          41.46133333333333,
          42.084285714285706,
          42.157222222222224,
          42.2,
          42.155,
          42.11,
          42.76909090909091
         ],
         "yaxis": "y"
        }
       ],
       "layout": {
        "legend": {
         "tracegroupgap": 0
        },
        "margin": {
         "t": 60
        },
        "template": {
         "data": {
          "bar": [
           {
            "error_x": {
             "color": "#2a3f5f"
            },
            "error_y": {
             "color": "#2a3f5f"
            },
            "marker": {
             "line": {
              "color": "#E5ECF6",
              "width": 0.5
             },
             "pattern": {
              "fillmode": "overlay",
              "size": 10,
              "solidity": 0.2
             }
            },
            "type": "bar"
           }
          ],
          "barpolar": [
           {
            "marker": {
             "line": {
              "color": "#E5ECF6",
              "width": 0.5
             },
             "pattern": {
              "fillmode": "overlay",
              "size": 10,
              "solidity": 0.2
             }
            },
            "type": "barpolar"
           }
          ],
          "carpet": [
           {
            "aaxis": {
             "endlinecolor": "#2a3f5f",
             "gridcolor": "white",
             "linecolor": "white",
             "minorgridcolor": "white",
             "startlinecolor": "#2a3f5f"
            },
            "baxis": {
             "endlinecolor": "#2a3f5f",
             "gridcolor": "white",
             "linecolor": "white",
             "minorgridcolor": "white",
             "startlinecolor": "#2a3f5f"
            },
            "type": "carpet"
           }
          ],
          "choropleth": [
           {
            "colorbar": {
             "outlinewidth": 0,
             "ticks": ""
            },
            "type": "choropleth"
           }
          ],
          "contour": [
           {
            "colorbar": {
             "outlinewidth": 0,
             "ticks": ""
            },
            "colorscale": [
             [
              0,
              "#0d0887"
             ],
             [
              0.1111111111111111,
              "#46039f"
             ],
             [
              0.2222222222222222,
              "#7201a8"
             ],
             [
              0.3333333333333333,
              "#9c179e"
             ],
             [
              0.4444444444444444,
              "#bd3786"
             ],
             [
              0.5555555555555556,
              "#d8576b"
             ],
             [
              0.6666666666666666,
              "#ed7953"
             ],
             [
              0.7777777777777778,
              "#fb9f3a"
             ],
             [
              0.8888888888888888,
              "#fdca26"
             ],
             [
              1,
              "#f0f921"
             ]
            ],
            "type": "contour"
           }
          ],
          "contourcarpet": [
           {
            "colorbar": {
             "outlinewidth": 0,
             "ticks": ""
            },
            "type": "contourcarpet"
           }
          ],
          "heatmap": [
           {
            "colorbar": {
             "outlinewidth": 0,
             "ticks": ""
            },
            "colorscale": [
             [
              0,
              "#0d0887"
             ],
             [
              0.1111111111111111,
              "#46039f"
             ],
             [
              0.2222222222222222,
              "#7201a8"
             ],
             [
              0.3333333333333333,
              "#9c179e"
             ],
             [
              0.4444444444444444,
              "#bd3786"
             ],
             [
              0.5555555555555556,
              "#d8576b"
             ],
             [
              0.6666666666666666,
              "#ed7953"
             ],
             [
              0.7777777777777778,
              "#fb9f3a"
             ],
             [
              0.8888888888888888,
              "#fdca26"
             ],
             [
              1,
              "#f0f921"
             ]
            ],
            "type": "heatmap"
           }
          ],
          "heatmapgl": [
           {
            "colorbar": {
             "outlinewidth": 0,
             "ticks": ""
            },
            "colorscale": [
             [
              0,
              "#0d0887"
             ],
             [
              0.1111111111111111,
              "#46039f"
             ],
             [
              0.2222222222222222,
              "#7201a8"
             ],
             [
              0.3333333333333333,
              "#9c179e"
             ],
             [
              0.4444444444444444,
              "#bd3786"
             ],
             [
              0.5555555555555556,
              "#d8576b"
             ],
             [
              0.6666666666666666,
              "#ed7953"
             ],
             [
              0.7777777777777778,
              "#fb9f3a"
             ],
             [
              0.8888888888888888,
              "#fdca26"
             ],
             [
              1,
              "#f0f921"
             ]
            ],
            "type": "heatmapgl"
           }
          ],
          "histogram": [
           {
            "marker": {
             "pattern": {
              "fillmode": "overlay",
              "size": 10,
              "solidity": 0.2
             }
            },
            "type": "histogram"
           }
          ],
          "histogram2d": [
           {
            "colorbar": {
             "outlinewidth": 0,
             "ticks": ""
            },
            "colorscale": [
             [
              0,
              "#0d0887"
             ],
             [
              0.1111111111111111,
              "#46039f"
             ],
             [
              0.2222222222222222,
              "#7201a8"
             ],
             [
              0.3333333333333333,
              "#9c179e"
             ],
             [
              0.4444444444444444,
              "#bd3786"
             ],
             [
              0.5555555555555556,
              "#d8576b"
             ],
             [
              0.6666666666666666,
              "#ed7953"
             ],
             [
              0.7777777777777778,
              "#fb9f3a"
             ],
             [
              0.8888888888888888,
              "#fdca26"
             ],
             [
              1,
              "#f0f921"
             ]
            ],
            "type": "histogram2d"
           }
          ],
          "histogram2dcontour": [
           {
            "colorbar": {
             "outlinewidth": 0,
             "ticks": ""
            },
            "colorscale": [
             [
              0,
              "#0d0887"
             ],
             [
              0.1111111111111111,
              "#46039f"
             ],
             [
              0.2222222222222222,
              "#7201a8"
             ],
             [
              0.3333333333333333,
              "#9c179e"
             ],
             [
              0.4444444444444444,
              "#bd3786"
             ],
             [
              0.5555555555555556,
              "#d8576b"
             ],
             [
              0.6666666666666666,
              "#ed7953"
             ],
             [
              0.7777777777777778,
              "#fb9f3a"
             ],
             [
              0.8888888888888888,
              "#fdca26"
             ],
             [
              1,
              "#f0f921"
             ]
            ],
            "type": "histogram2dcontour"
           }
          ],
          "mesh3d": [
           {
            "colorbar": {
             "outlinewidth": 0,
             "ticks": ""
            },
            "type": "mesh3d"
           }
          ],
          "parcoords": [
           {
            "line": {
             "colorbar": {
              "outlinewidth": 0,
              "ticks": ""
             }
            },
            "type": "parcoords"
           }
          ],
          "pie": [
           {
            "automargin": true,
            "type": "pie"
           }
          ],
          "scatter": [
           {
            "marker": {
             "colorbar": {
              "outlinewidth": 0,
              "ticks": ""
             }
            },
            "type": "scatter"
           }
          ],
          "scatter3d": [
           {
            "line": {
             "colorbar": {
              "outlinewidth": 0,
              "ticks": ""
             }
            },
            "marker": {
             "colorbar": {
              "outlinewidth": 0,
              "ticks": ""
             }
            },
            "type": "scatter3d"
           }
          ],
          "scattercarpet": [
           {
            "marker": {
             "colorbar": {
              "outlinewidth": 0,
              "ticks": ""
             }
            },
            "type": "scattercarpet"
           }
          ],
          "scattergeo": [
           {
            "marker": {
             "colorbar": {
              "outlinewidth": 0,
              "ticks": ""
             }
            },
            "type": "scattergeo"
           }
          ],
          "scattergl": [
           {
            "marker": {
             "colorbar": {
              "outlinewidth": 0,
              "ticks": ""
             }
            },
            "type": "scattergl"
           }
          ],
          "scattermapbox": [
           {
            "marker": {
             "colorbar": {
              "outlinewidth": 0,
              "ticks": ""
             }
            },
            "type": "scattermapbox"
           }
          ],
          "scatterpolar": [
           {
            "marker": {
             "colorbar": {
              "outlinewidth": 0,
              "ticks": ""
             }
            },
            "type": "scatterpolar"
           }
          ],
          "scatterpolargl": [
           {
            "marker": {
             "colorbar": {
              "outlinewidth": 0,
              "ticks": ""
             }
            },
            "type": "scatterpolargl"
           }
          ],
          "scatterternary": [
           {
            "marker": {
             "colorbar": {
              "outlinewidth": 0,
              "ticks": ""
             }
            },
            "type": "scatterternary"
           }
          ],
          "surface": [
           {
            "colorbar": {
             "outlinewidth": 0,
             "ticks": ""
            },
            "colorscale": [
             [
              0,
              "#0d0887"
             ],
             [
              0.1111111111111111,
              "#46039f"
             ],
             [
              0.2222222222222222,
              "#7201a8"
             ],
             [
              0.3333333333333333,
              "#9c179e"
             ],
             [
              0.4444444444444444,
              "#bd3786"
             ],
             [
              0.5555555555555556,
              "#d8576b"
             ],
             [
              0.6666666666666666,
              "#ed7953"
             ],
             [
              0.7777777777777778,
              "#fb9f3a"
             ],
             [
              0.8888888888888888,
              "#fdca26"
             ],
             [
              1,
              "#f0f921"
             ]
            ],
            "type": "surface"
           }
          ],
          "table": [
           {
            "cells": {
             "fill": {
              "color": "#EBF0F8"
             },
             "line": {
              "color": "white"
             }
            },
            "header": {
             "fill": {
              "color": "#C8D4E3"
             },
             "line": {
              "color": "white"
             }
            },
            "type": "table"
           }
          ]
         },
         "layout": {
          "annotationdefaults": {
           "arrowcolor": "#2a3f5f",
           "arrowhead": 0,
           "arrowwidth": 1
          },
          "autotypenumbers": "strict",
          "coloraxis": {
           "colorbar": {
            "outlinewidth": 0,
            "ticks": ""
           }
          },
          "colorscale": {
           "diverging": [
            [
             0,
             "#8e0152"
            ],
            [
             0.1,
             "#c51b7d"
            ],
            [
             0.2,
             "#de77ae"
            ],
            [
             0.3,
             "#f1b6da"
            ],
            [
             0.4,
             "#fde0ef"
            ],
            [
             0.5,
             "#f7f7f7"
            ],
            [
             0.6,
             "#e6f5d0"
            ],
            [
             0.7,
             "#b8e186"
            ],
            [
             0.8,
             "#7fbc41"
            ],
            [
             0.9,
             "#4d9221"
            ],
            [
             1,
             "#276419"
            ]
           ],
           "sequential": [
            [
             0,
             "#0d0887"
            ],
            [
             0.1111111111111111,
             "#46039f"
            ],
            [
             0.2222222222222222,
             "#7201a8"
            ],
            [
             0.3333333333333333,
             "#9c179e"
            ],
            [
             0.4444444444444444,
             "#bd3786"
            ],
            [
             0.5555555555555556,
             "#d8576b"
            ],
            [
             0.6666666666666666,
             "#ed7953"
            ],
            [
             0.7777777777777778,
             "#fb9f3a"
            ],
            [
             0.8888888888888888,
             "#fdca26"
            ],
            [
             1,
             "#f0f921"
            ]
           ],
           "sequentialminus": [
            [
             0,
             "#0d0887"
            ],
            [
             0.1111111111111111,
             "#46039f"
            ],
            [
             0.2222222222222222,
             "#7201a8"
            ],
            [
             0.3333333333333333,
             "#9c179e"
            ],
            [
             0.4444444444444444,
             "#bd3786"
            ],
            [
             0.5555555555555556,
             "#d8576b"
            ],
            [
             0.6666666666666666,
             "#ed7953"
            ],
            [
             0.7777777777777778,
             "#fb9f3a"
            ],
            [
             0.8888888888888888,
             "#fdca26"
            ],
            [
             1,
             "#f0f921"
            ]
           ]
          },
          "colorway": [
           "#636efa",
           "#EF553B",
           "#00cc96",
           "#ab63fa",
           "#FFA15A",
           "#19d3f3",
           "#FF6692",
           "#B6E880",
           "#FF97FF",
           "#FECB52"
          ],
          "font": {
           "color": "#2a3f5f"
          },
          "geo": {
           "bgcolor": "white",
           "lakecolor": "white",
           "landcolor": "#E5ECF6",
           "showlakes": true,
           "showland": true,
           "subunitcolor": "white"
          },
          "hoverlabel": {
           "align": "left"
          },
          "hovermode": "closest",
          "mapbox": {
           "style": "light"
          },
          "paper_bgcolor": "white",
          "plot_bgcolor": "#E5ECF6",
          "polar": {
           "angularaxis": {
            "gridcolor": "white",
            "linecolor": "white",
            "ticks": ""
           },
           "bgcolor": "#E5ECF6",
           "radialaxis": {
            "gridcolor": "white",
            "linecolor": "white",
            "ticks": ""
           }
          },
          "scene": {
           "xaxis": {
            "backgroundcolor": "#E5ECF6",
            "gridcolor": "white",
            "gridwidth": 2,
            "linecolor": "white",
            "showbackground": true,
            "ticks": "",
            "zerolinecolor": "white"
           },
           "yaxis": {
            "backgroundcolor": "#E5ECF6",
            "gridcolor": "white",
            "gridwidth": 2,
            "linecolor": "white",
            "showbackground": true,
            "ticks": "",
            "zerolinecolor": "white"
           },
           "zaxis": {
            "backgroundcolor": "#E5ECF6",
            "gridcolor": "white",
            "gridwidth": 2,
            "linecolor": "white",
            "showbackground": true,
            "ticks": "",
            "zerolinecolor": "white"
           }
          },
          "shapedefaults": {
           "line": {
            "color": "#2a3f5f"
           }
          },
          "ternary": {
           "aaxis": {
            "gridcolor": "white",
            "linecolor": "white",
            "ticks": ""
           },
           "baxis": {
            "gridcolor": "white",
            "linecolor": "white",
            "ticks": ""
           },
           "bgcolor": "#E5ECF6",
           "caxis": {
            "gridcolor": "white",
            "linecolor": "white",
            "ticks": ""
           }
          },
          "title": {
           "x": 0.05
          },
          "xaxis": {
           "automargin": true,
           "gridcolor": "white",
           "linecolor": "white",
           "ticks": "",
           "title": {
            "standoff": 15
           },
           "zerolinecolor": "white",
           "zerolinewidth": 2
          },
          "yaxis": {
           "automargin": true,
           "gridcolor": "white",
           "linecolor": "white",
           "ticks": "",
           "title": {
            "standoff": 15
           },
           "zerolinecolor": "white",
           "zerolinewidth": 2
          }
         }
        },
        "xaxis": {
         "anchor": "y",
         "domain": [
          0,
          1
         ],
         "title": {
          "text": "time"
         }
        },
        "yaxis": {
         "anchor": "x",
         "domain": [
          0,
          1
         ],
         "title": {
          "text": "value"
         }
        }
       }
      },
      "text/html": [
       "<div>                            <div id=\"cedd425b-c92b-4717-805a-dc9d68f549f9\" class=\"plotly-graph-div\" style=\"height:525px; width:100%;\"></div>            <script type=\"text/javascript\">                require([\"plotly\"], function(Plotly) {                    window.PLOTLYENV=window.PLOTLYENV || {};                                    if (document.getElementById(\"cedd425b-c92b-4717-805a-dc9d68f549f9\")) {                    Plotly.newPlot(                        \"cedd425b-c92b-4717-805a-dc9d68f549f9\",                        [{\"hovertemplate\":\"time=%{x}<br>value=%{y}<extra></extra>\",\"legendgroup\":\"\",\"line\":{\"color\":\"#636efa\",\"dash\":\"solid\"},\"mode\":\"lines\",\"name\":\"\",\"orientation\":\"v\",\"showlegend\":false,\"type\":\"scatter\",\"x\":[\"2021-06-14\",\"2021-06-16\",\"2021-06-17\",\"2021-06-18\",\"2021-06-19\",\"2021-06-20\",\"2021-06-21\",\"2021-06-22\"],\"xaxis\":\"x\",\"y\":[42.76,41.46133333333333,42.084285714285706,42.157222222222224,42.2,42.155,42.11,42.76909090909091],\"yaxis\":\"y\"}],                        {\"legend\":{\"tracegroupgap\":0},\"margin\":{\"t\":60},\"template\":{\"data\":{\"bar\":[{\"error_x\":{\"color\":\"#2a3f5f\"},\"error_y\":{\"color\":\"#2a3f5f\"},\"marker\":{\"line\":{\"color\":\"#E5ECF6\",\"width\":0.5},\"pattern\":{\"fillmode\":\"overlay\",\"size\":10,\"solidity\":0.2}},\"type\":\"bar\"}],\"barpolar\":[{\"marker\":{\"line\":{\"color\":\"#E5ECF6\",\"width\":0.5},\"pattern\":{\"fillmode\":\"overlay\",\"size\":10,\"solidity\":0.2}},\"type\":\"barpolar\"}],\"carpet\":[{\"aaxis\":{\"endlinecolor\":\"#2a3f5f\",\"gridcolor\":\"white\",\"linecolor\":\"white\",\"minorgridcolor\":\"white\",\"startlinecolor\":\"#2a3f5f\"},\"baxis\":{\"endlinecolor\":\"#2a3f5f\",\"gridcolor\":\"white\",\"linecolor\":\"white\",\"minorgridcolor\":\"white\",\"startlinecolor\":\"#2a3f5f\"},\"type\":\"carpet\"}],\"choropleth\":[{\"colorbar\":{\"outlinewidth\":0,\"ticks\":\"\"},\"type\":\"choropleth\"}],\"contour\":[{\"colorbar\":{\"outlinewidth\":0,\"ticks\":\"\"},\"colorscale\":[[0.0,\"#0d0887\"],[0.1111111111111111,\"#46039f\"],[0.2222222222222222,\"#7201a8\"],[0.3333333333333333,\"#9c179e\"],[0.4444444444444444,\"#bd3786\"],[0.5555555555555556,\"#d8576b\"],[0.6666666666666666,\"#ed7953\"],[0.7777777777777778,\"#fb9f3a\"],[0.8888888888888888,\"#fdca26\"],[1.0,\"#f0f921\"]],\"type\":\"contour\"}],\"contourcarpet\":[{\"colorbar\":{\"outlinewidth\":0,\"ticks\":\"\"},\"type\":\"contourcarpet\"}],\"heatmap\":[{\"colorbar\":{\"outlinewidth\":0,\"ticks\":\"\"},\"colorscale\":[[0.0,\"#0d0887\"],[0.1111111111111111,\"#46039f\"],[0.2222222222222222,\"#7201a8\"],[0.3333333333333333,\"#9c179e\"],[0.4444444444444444,\"#bd3786\"],[0.5555555555555556,\"#d8576b\"],[0.6666666666666666,\"#ed7953\"],[0.7777777777777778,\"#fb9f3a\"],[0.8888888888888888,\"#fdca26\"],[1.0,\"#f0f921\"]],\"type\":\"heatmap\"}],\"heatmapgl\":[{\"colorbar\":{\"outlinewidth\":0,\"ticks\":\"\"},\"colorscale\":[[0.0,\"#0d0887\"],[0.1111111111111111,\"#46039f\"],[0.2222222222222222,\"#7201a8\"],[0.3333333333333333,\"#9c179e\"],[0.4444444444444444,\"#bd3786\"],[0.5555555555555556,\"#d8576b\"],[0.6666666666666666,\"#ed7953\"],[0.7777777777777778,\"#fb9f3a\"],[0.8888888888888888,\"#fdca26\"],[1.0,\"#f0f921\"]],\"type\":\"heatmapgl\"}],\"histogram\":[{\"marker\":{\"pattern\":{\"fillmode\":\"overlay\",\"size\":10,\"solidity\":0.2}},\"type\":\"histogram\"}],\"histogram2d\":[{\"colorbar\":{\"outlinewidth\":0,\"ticks\":\"\"},\"colorscale\":[[0.0,\"#0d0887\"],[0.1111111111111111,\"#46039f\"],[0.2222222222222222,\"#7201a8\"],[0.3333333333333333,\"#9c179e\"],[0.4444444444444444,\"#bd3786\"],[0.5555555555555556,\"#d8576b\"],[0.6666666666666666,\"#ed7953\"],[0.7777777777777778,\"#fb9f3a\"],[0.8888888888888888,\"#fdca26\"],[1.0,\"#f0f921\"]],\"type\":\"histogram2d\"}],\"histogram2dcontour\":[{\"colorbar\":{\"outlinewidth\":0,\"ticks\":\"\"},\"colorscale\":[[0.0,\"#0d0887\"],[0.1111111111111111,\"#46039f\"],[0.2222222222222222,\"#7201a8\"],[0.3333333333333333,\"#9c179e\"],[0.4444444444444444,\"#bd3786\"],[0.5555555555555556,\"#d8576b\"],[0.6666666666666666,\"#ed7953\"],[0.7777777777777778,\"#fb9f3a\"],[0.8888888888888888,\"#fdca26\"],[1.0,\"#f0f921\"]],\"type\":\"histogram2dcontour\"}],\"mesh3d\":[{\"colorbar\":{\"outlinewidth\":0,\"ticks\":\"\"},\"type\":\"mesh3d\"}],\"parcoords\":[{\"line\":{\"colorbar\":{\"outlinewidth\":0,\"ticks\":\"\"}},\"type\":\"parcoords\"}],\"pie\":[{\"automargin\":true,\"type\":\"pie\"}],\"scatter\":[{\"marker\":{\"colorbar\":{\"outlinewidth\":0,\"ticks\":\"\"}},\"type\":\"scatter\"}],\"scatter3d\":[{\"line\":{\"colorbar\":{\"outlinewidth\":0,\"ticks\":\"\"}},\"marker\":{\"colorbar\":{\"outlinewidth\":0,\"ticks\":\"\"}},\"type\":\"scatter3d\"}],\"scattercarpet\":[{\"marker\":{\"colorbar\":{\"outlinewidth\":0,\"ticks\":\"\"}},\"type\":\"scattercarpet\"}],\"scattergeo\":[{\"marker\":{\"colorbar\":{\"outlinewidth\":0,\"ticks\":\"\"}},\"type\":\"scattergeo\"}],\"scattergl\":[{\"marker\":{\"colorbar\":{\"outlinewidth\":0,\"ticks\":\"\"}},\"type\":\"scattergl\"}],\"scattermapbox\":[{\"marker\":{\"colorbar\":{\"outlinewidth\":0,\"ticks\":\"\"}},\"type\":\"scattermapbox\"}],\"scatterpolar\":[{\"marker\":{\"colorbar\":{\"outlinewidth\":0,\"ticks\":\"\"}},\"type\":\"scatterpolar\"}],\"scatterpolargl\":[{\"marker\":{\"colorbar\":{\"outlinewidth\":0,\"ticks\":\"\"}},\"type\":\"scatterpolargl\"}],\"scatterternary\":[{\"marker\":{\"colorbar\":{\"outlinewidth\":0,\"ticks\":\"\"}},\"type\":\"scatterternary\"}],\"surface\":[{\"colorbar\":{\"outlinewidth\":0,\"ticks\":\"\"},\"colorscale\":[[0.0,\"#0d0887\"],[0.1111111111111111,\"#46039f\"],[0.2222222222222222,\"#7201a8\"],[0.3333333333333333,\"#9c179e\"],[0.4444444444444444,\"#bd3786\"],[0.5555555555555556,\"#d8576b\"],[0.6666666666666666,\"#ed7953\"],[0.7777777777777778,\"#fb9f3a\"],[0.8888888888888888,\"#fdca26\"],[1.0,\"#f0f921\"]],\"type\":\"surface\"}],\"table\":[{\"cells\":{\"fill\":{\"color\":\"#EBF0F8\"},\"line\":{\"color\":\"white\"}},\"header\":{\"fill\":{\"color\":\"#C8D4E3\"},\"line\":{\"color\":\"white\"}},\"type\":\"table\"}]},\"layout\":{\"annotationdefaults\":{\"arrowcolor\":\"#2a3f5f\",\"arrowhead\":0,\"arrowwidth\":1},\"autotypenumbers\":\"strict\",\"coloraxis\":{\"colorbar\":{\"outlinewidth\":0,\"ticks\":\"\"}},\"colorscale\":{\"diverging\":[[0,\"#8e0152\"],[0.1,\"#c51b7d\"],[0.2,\"#de77ae\"],[0.3,\"#f1b6da\"],[0.4,\"#fde0ef\"],[0.5,\"#f7f7f7\"],[0.6,\"#e6f5d0\"],[0.7,\"#b8e186\"],[0.8,\"#7fbc41\"],[0.9,\"#4d9221\"],[1,\"#276419\"]],\"sequential\":[[0.0,\"#0d0887\"],[0.1111111111111111,\"#46039f\"],[0.2222222222222222,\"#7201a8\"],[0.3333333333333333,\"#9c179e\"],[0.4444444444444444,\"#bd3786\"],[0.5555555555555556,\"#d8576b\"],[0.6666666666666666,\"#ed7953\"],[0.7777777777777778,\"#fb9f3a\"],[0.8888888888888888,\"#fdca26\"],[1.0,\"#f0f921\"]],\"sequentialminus\":[[0.0,\"#0d0887\"],[0.1111111111111111,\"#46039f\"],[0.2222222222222222,\"#7201a8\"],[0.3333333333333333,\"#9c179e\"],[0.4444444444444444,\"#bd3786\"],[0.5555555555555556,\"#d8576b\"],[0.6666666666666666,\"#ed7953\"],[0.7777777777777778,\"#fb9f3a\"],[0.8888888888888888,\"#fdca26\"],[1.0,\"#f0f921\"]]},\"colorway\":[\"#636efa\",\"#EF553B\",\"#00cc96\",\"#ab63fa\",\"#FFA15A\",\"#19d3f3\",\"#FF6692\",\"#B6E880\",\"#FF97FF\",\"#FECB52\"],\"font\":{\"color\":\"#2a3f5f\"},\"geo\":{\"bgcolor\":\"white\",\"lakecolor\":\"white\",\"landcolor\":\"#E5ECF6\",\"showlakes\":true,\"showland\":true,\"subunitcolor\":\"white\"},\"hoverlabel\":{\"align\":\"left\"},\"hovermode\":\"closest\",\"mapbox\":{\"style\":\"light\"},\"paper_bgcolor\":\"white\",\"plot_bgcolor\":\"#E5ECF6\",\"polar\":{\"angularaxis\":{\"gridcolor\":\"white\",\"linecolor\":\"white\",\"ticks\":\"\"},\"bgcolor\":\"#E5ECF6\",\"radialaxis\":{\"gridcolor\":\"white\",\"linecolor\":\"white\",\"ticks\":\"\"}},\"scene\":{\"xaxis\":{\"backgroundcolor\":\"#E5ECF6\",\"gridcolor\":\"white\",\"gridwidth\":2,\"linecolor\":\"white\",\"showbackground\":true,\"ticks\":\"\",\"zerolinecolor\":\"white\"},\"yaxis\":{\"backgroundcolor\":\"#E5ECF6\",\"gridcolor\":\"white\",\"gridwidth\":2,\"linecolor\":\"white\",\"showbackground\":true,\"ticks\":\"\",\"zerolinecolor\":\"white\"},\"zaxis\":{\"backgroundcolor\":\"#E5ECF6\",\"gridcolor\":\"white\",\"gridwidth\":2,\"linecolor\":\"white\",\"showbackground\":true,\"ticks\":\"\",\"zerolinecolor\":\"white\"}},\"shapedefaults\":{\"line\":{\"color\":\"#2a3f5f\"}},\"ternary\":{\"aaxis\":{\"gridcolor\":\"white\",\"linecolor\":\"white\",\"ticks\":\"\"},\"baxis\":{\"gridcolor\":\"white\",\"linecolor\":\"white\",\"ticks\":\"\"},\"bgcolor\":\"#E5ECF6\",\"caxis\":{\"gridcolor\":\"white\",\"linecolor\":\"white\",\"ticks\":\"\"}},\"title\":{\"x\":0.05},\"xaxis\":{\"automargin\":true,\"gridcolor\":\"white\",\"linecolor\":\"white\",\"ticks\":\"\",\"title\":{\"standoff\":15},\"zerolinecolor\":\"white\",\"zerolinewidth\":2},\"yaxis\":{\"automargin\":true,\"gridcolor\":\"white\",\"linecolor\":\"white\",\"ticks\":\"\",\"title\":{\"standoff\":15},\"zerolinecolor\":\"white\",\"zerolinewidth\":2}}},\"xaxis\":{\"anchor\":\"y\",\"domain\":[0.0,1.0],\"title\":{\"text\":\"time\"}},\"yaxis\":{\"anchor\":\"x\",\"domain\":[0.0,1.0],\"title\":{\"text\":\"value\"}}},                        {\"responsive\": true}                    ).then(function(){\n",
       "                            \n",
       "var gd = document.getElementById('cedd425b-c92b-4717-805a-dc9d68f549f9');\n",
       "var x = new MutationObserver(function (mutations, observer) {{\n",
       "        var display = window.getComputedStyle(gd).display;\n",
       "        if (!display || display === 'none') {{\n",
       "            console.log([gd, 'removed!']);\n",
       "            Plotly.purge(gd);\n",
       "            observer.disconnect();\n",
       "        }}\n",
       "}});\n",
       "\n",
       "// Listen for the removal of the full notebook cells\n",
       "var notebookContainer = gd.closest('#notebook-container');\n",
       "if (notebookContainer) {{\n",
       "    x.observe(notebookContainer, {childList: true});\n",
       "}}\n",
       "\n",
       "// Listen for the clearing of the current output cell\n",
       "var outputEl = gd.closest('.output');\n",
       "if (outputEl) {{\n",
       "    x.observe(outputEl, {childList: true});\n",
       "}}\n",
       "\n",
       "                        })                };                });            </script>        </div>"
      ]
     },
     "metadata": {},
     "output_type": "display_data"
    },
    {
     "name": "stdout",
     "output_type": "stream",
     "text": [
      "26-2-1\n"
     ]
    }
   ],
   "source": [
    "m = 26\n",
    "n = 2\n",
    "s = 1\n",
    "\n",
    "df=pd.read_csv(r'C:\\Users\\Tosha.E.T\\Desktop\\Sinotech\\716\\{0}-{1}-{2}_clean.csv'.format(m,n,s))\n",
    "df=df[df['value']>40]\n",
    "df=df[df['value']<45]\n",
    "df = df.reset_index()\n",
    "\n",
    "i = 1\n",
    "while i<(len(df[\"value\"])-1):\n",
    "    a = df[\"value\"][i-1]\n",
    "    b = df[\"value\"][i]\n",
    "    c = df[\"value\"][i+1]\n",
    "    if (abs(b-c)+abs(a-b))/2>abs(c-a)*1.5:\n",
    "        df[\"value\"][i] = (a+c)/2\n",
    "        i=i+1\n",
    "    else:\n",
    "        i=i+1\n",
    "df.to_csv(r'C:\\Users\\Tosha.E.T\\Desktop\\Sinotech\\716\\{0}-{1}-{2}_cut.csv'.format(m,n,s))\n",
    "print(\"cut save!!\")\n",
    "#---------------------------------------------------\n",
    "fig = px.line(df, y='value', x='time')        \n",
    "fig.show()\n",
    "print(\"{0}-{1}-{2}\".format(m,n,s))"
   ]
  },
  {
   "cell_type": "code",
   "execution_count": null,
   "id": "exempt-illinois",
   "metadata": {},
   "outputs": [],
   "source": []
  },
  {
   "cell_type": "code",
   "execution_count": 125,
   "id": "removed-decline",
   "metadata": {},
   "outputs": [],
   "source": [
    "# for i in range(19,27):\n",
    "#     for j in range(1,3):\n",
    "#         for k in range(1,3):\n",
    "#             df9=pd.read_csv(r'C:\\Users\\Tosha.E.T\\Desktop\\Sinotech\\716\\{0}-{1}-{2}_cut.csv'.format(i,j,k))\n",
    "#             res= STL(df9.value,period=103).fit()\n",
    "#             res.plot()\n",
    "#             plt.show()\n",
    "#             print(\"{0}-{1}-{2}\".format(i,j,k))\n",
    "#                 #把陣列轉成dataframe\n",
    "    \n",
    "#                 #re3=df9.to_frame()\n",
    "#                 #把分解出來的趨勢轉回去\n",
    "#             df9['trend']=res.trend\n",
    "#             df9['season']=res.seasonal\n",
    "#             df9['residual']=res.resid\n",
    "#                 #補滿前後資料\n",
    "#             df9=df9.fillna(method='ffill')\n",
    "#             df9=df9.fillna(method='bfill')\n",
    "#                 #print(name+\"資料STL處理完成\")\n",
    "#             df9.to_csv(r'C:\\Users\\Tosha.E.T\\Desktop\\Sinotech\\716\\{0}-{1}-{2}_stl.csv'.format(i,j,k))\n",
    "#             print(\"坡面侵蝕done\")"
   ]
  },
  {
   "cell_type": "code",
   "execution_count": 232,
   "id": "generic-capitol",
   "metadata": {},
   "outputs": [],
   "source": [
    "# for i in range(19,27):\n",
    "#     for j in range(1,3):\n",
    "#         for k in range(1,3):\n",
    "#             df=pd.read_csv(r'C:\\Users\\Tosha.E.T\\Desktop\\Sinotech\\716\\{0}-{1}-{2}_cut.csv'.format(i,j,k))\n",
    "# #             print(df)\n",
    "\n",
    "#             df=df.drop(columns=['Unnamed: 0','index'])\n",
    "# # # # #             df=df.drop([0])\n",
    "# # # #             print(df)\n",
    "#             df.to_csv(r'C:\\Users\\Tosha.E.T\\Desktop\\Sinotech\\716\\{0}-{1}-{2}_cut.csv'.format(i,j,k),index=False)\n",
    "\n",
    "# print(\"over!!!\")\n"
   ]
  },
  {
   "cell_type": "code",
   "execution_count": null,
   "id": "baking-crossing",
   "metadata": {},
   "outputs": [],
   "source": []
  }
 ],
 "metadata": {
  "kernelspec": {
   "display_name": "Python 3",
   "language": "python",
   "name": "python3"
  },
  "language_info": {
   "codemirror_mode": {
    "name": "ipython",
    "version": 3
   },
   "file_extension": ".py",
   "mimetype": "text/x-python",
   "name": "python",
   "nbconvert_exporter": "python",
   "pygments_lexer": "ipython3",
   "version": "3.9.2"
  }
 },
 "nbformat": 4,
 "nbformat_minor": 5
}
