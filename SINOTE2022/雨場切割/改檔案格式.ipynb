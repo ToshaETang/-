{
 "cells": [
  {
   "cell_type": "code",
   "execution_count": 114,
   "id": "adjacent-armenia",
   "metadata": {},
   "outputs": [],
   "source": [
    "import pandas as pd\n",
    "import numpy as np\n",
    "import os\n",
    "import os.path\n",
    "import datetime\n"
   ]
  },
  {
   "cell_type": "code",
   "execution_count": 177,
   "id": "utility-dover",
   "metadata": {},
   "outputs": [
    {
     "name": "stdout",
     "output_type": "stream",
     "text": [
      "時間塞完了\n"
     ]
    }
   ],
   "source": [
    "###塞時間\n",
    "\n",
    "df = pd.read_csv(r'C:\\TET\\SINOTE2022\\雨場切割\\年\\C1V340大津_年\\C1V340大津_補遺_2020.csv')\n",
    "TIME = []\n",
    "for i in range(len(df['yy'])):\n",
    "    for h in range(1,25):\n",
    "        if h == 24:\n",
    "            h=0\n",
    "        n = (str(df['yy'][i])+\"-\"+str(df['mm'][i])+\"-\"+str(df['dd'][i])+\" \"+str(h)+\":00\")\n",
    "        TIME.append(n)\n",
    "\n",
    "dfr = np.split(df,[4],axis = 1)        \n",
    "RAIN = dfr[1].values.ravel()\n",
    "\n",
    "result = pd.DataFrame()\n",
    "index = 0\n",
    "\n",
    "for i in range(len(RAIN)):\n",
    "    d={\n",
    "        'st_no':df['st_no'][0],\n",
    "        'time':TIME[i],\n",
    "        'rain':RAIN[i]\n",
    "    }\n",
    "    \n",
    "    df_test = pd.DataFrame(data = d,index=[0])\n",
    "    result = pd.concat([result, df_test],axis =0)\n",
    "    index = index + 1\n",
    "    \n",
    "result.to_csv(r'C:\\TET\\SINOTE2022\\雨場切割\\時間\\C1V340大津_補遺_2020_TIME.csv',index=False)\n",
    "print(\"時間塞完了\")\n"
   ]
  },
  {
   "cell_type": "code",
   "execution_count": null,
   "id": "worthy-footwear",
   "metadata": {},
   "outputs": [],
   "source": []
  },
  {
   "cell_type": "code",
   "execution_count": 118,
   "id": "sacred-advocate",
   "metadata": {},
   "outputs": [
    {
     "name": "stdout",
     "output_type": "stream",
     "text": [
      "年切割完成\n"
     ]
    }
   ],
   "source": [
    "###切割年\n",
    "df = pd.read_csv(r'C:\\TET\\SINOTE2022\\雨場切割\\SWCB_2002_2020_C1V340大津_補遺.csv')\n",
    "df = df.drop(columns = 'HQT')            #拿掉每日雨量\n",
    "\n",
    "\n",
    "YEAR = df['yy'].unique()\n",
    "for Y in YEAR:\n",
    "    N_df = df[df['yy']==Y]\n",
    "    N_df.to_csv(r'C:\\TET\\SINOTE2022\\雨場切割\\年\\C1V340大津_補遺_{}.csv'.format(str(Y)),index=False)\n",
    "\n",
    "print(\"年切割完成\")    "
   ]
  },
  {
   "cell_type": "code",
   "execution_count": 40,
   "id": "ignored-mayor",
   "metadata": {},
   "outputs": [],
   "source": []
  },
  {
   "cell_type": "code",
   "execution_count": null,
   "id": "common-geneva",
   "metadata": {},
   "outputs": [],
   "source": []
  },
  {
   "cell_type": "code",
   "execution_count": null,
   "id": "comprehensive-punishment",
   "metadata": {},
   "outputs": [],
   "source": []
  },
  {
   "cell_type": "code",
   "execution_count": null,
   "id": "meaningful-lithuania",
   "metadata": {},
   "outputs": [],
   "source": []
  }
 ],
 "metadata": {
  "kernelspec": {
   "display_name": "Python 3",
   "language": "python",
   "name": "python3"
  },
  "language_info": {
   "codemirror_mode": {
    "name": "ipython",
    "version": 3
   },
   "file_extension": ".py",
   "mimetype": "text/x-python",
   "name": "python",
   "nbconvert_exporter": "python",
   "pygments_lexer": "ipython3",
   "version": "3.9.2"
  }
 },
 "nbformat": 4,
 "nbformat_minor": 5
}
