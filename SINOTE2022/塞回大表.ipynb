{
 "cells": [
  {
   "cell_type": "code",
   "execution_count": 83,
   "id": "cathedral-hypothesis",
   "metadata": {},
   "outputs": [],
   "source": [
    "import pandas as pd\n",
    "import numpy as np\n",
    "import warnings\n",
    "warnings.filterwarnings('ignore')"
   ]
  },
  {
   "cell_type": "code",
   "execution_count": 89,
   "id": "upper-combat",
   "metadata": {},
   "outputs": [
    {
     "name": "stdout",
     "output_type": "stream",
     "text": [
      "done\n"
     ]
    }
   ],
   "source": [
    "df_B = pd.read_excel(r\"C:\\TET\\SINOTE2022\\監測資料上傳API與參數表_done.xlsx\")\n",
    "df_V = pd.read_csv(r'C:\\TET\\SINOTE2022\\抓設備最新資料.csv')\n",
    "\n",
    "\n",
    "df_V['Time'] = pd.to_datetime(pd.Series(df_V['Time'])) \n",
    "\n",
    "for i in range(len(df_B['OBS_Type'])):\n",
    "    if (df_B['OBS_Type'][i]==\"水位\"):\n",
    "        for j in range(len(df_V['設備'])):\n",
    "            if df_V['設備'][j] == df_B['設備編號'][i]:\n",
    "                df_B['value'][i] = df_V['field5'][j]\n",
    "                df_B['time'][i] = str(df_V['Time'][j].strftime(\"%Y%m%d%H%M%S\"))\n",
    "                df_B['entry_id'][i] = str(df_V['entry_id'][j])\n",
    "                try:\n",
    "                    df_B['true value'][i] = float(df_B['校正係數A'][i]) - (df_V['field5'][j]*float(df_B['校正係數B'][i]))\n",
    "                except:\n",
    "                    df_B['true value'][i] = 0\n",
    "\n",
    "                \n",
    "    elif (df_B['OBS_Type'][i]==\"濁度\"):\n",
    "        for j in range(len(df_V['設備'])):\n",
    "            if df_V['設備'][j] == df_B['設備編號'][i]:\n",
    "                df_B['value'][i] = df_V['field6'][j]\n",
    "                df_B['time'][i] = str(df_V['Time'][j].strftime(\"%Y%m%d%H%M%S\"))\n",
    "                df_B['entry_id'][i] = str(df_V['entry_id'][j])\n",
    "                try:\n",
    "                    df_B['true value'][i] = float(df_B['校正係數A'][i])*np.log(df_V['field6'][j]) + float(df_B['校正係數B'][i])\n",
    "                except:\n",
    "                    df_B['true value'][i] = 0\n",
    "                \n",
    "                \n",
    "DF = df_B\n",
    "\n",
    "DF.to_excel(r'C:\\TET\\SINOTE2022\\彙整完的大表.xlsx', index=False,encoding='utf_8_sig')\n",
    "print(\"done\")"
   ]
  },
  {
   "cell_type": "code",
   "execution_count": null,
   "id": "caring-trinity",
   "metadata": {},
   "outputs": [],
   "source": []
  },
  {
   "cell_type": "code",
   "execution_count": null,
   "id": "convertible-dover",
   "metadata": {},
   "outputs": [],
   "source": []
  }
 ],
 "metadata": {
  "kernelspec": {
   "display_name": "Python 3",
   "language": "python",
   "name": "python3"
  },
  "language_info": {
   "codemirror_mode": {
    "name": "ipython",
    "version": 3
   },
   "file_extension": ".py",
   "mimetype": "text/x-python",
   "name": "python",
   "nbconvert_exporter": "python",
   "pygments_lexer": "ipython3",
   "version": "3.9.2"
  }
 },
 "nbformat": 4,
 "nbformat_minor": 5
}
