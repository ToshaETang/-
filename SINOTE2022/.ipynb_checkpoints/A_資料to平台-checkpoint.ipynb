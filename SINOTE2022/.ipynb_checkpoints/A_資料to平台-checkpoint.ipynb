{
 "cells": [
  {
   "cell_type": "code",
   "execution_count": 2,
   "id": "swedish-fashion",
   "metadata": {
    "scrolled": false
   },
   "outputs": [],
   "source": [
    "import requests\n",
    "import json\n",
    "import pandas as pd\n",
    "pd.set_option('display.max_rows', None)   #顯示所有rows\n",
    "\n",
    "\n",
    "\n",
    "url1 = r'http://59.120.114.172:8080/APP_SWCB_IFEM/api/User/GetToken'\n",
    "dt1 = {\"API_USER_ID\": \"Sinotech\", \"API_USER_PWD\": \"Sinotech!Org@swcb\"}\n",
    "r1 = requests.post(url1, data =dt1)\n",
    "jr1 = json.loads(r1.text)\n",
    "\n",
    "T = jr1[\"Token\"]\n",
    "\n",
    "url2 = r'http://59.120.114.172:8080/APP_SWCB_IFEM/api/Stations/GetStationSensorPQ'\n",
    "dt2 = {\"Token\":\"{}\".format(T)}\n",
    "r2 = requests.post(url2, data =dt2)\n",
    "jr2 = json.loads(r2.text)\n",
    "\n",
    "\n",
    "dfr2=pd.DataFrame(jr2[\"Data\"])\n",
    "\n",
    "# print(dfr2)\n",
    "\n",
    "# url3 = 'http://59.120.114.172:8080/APP_SWCB_IFEM/api/Stations/UpdateStationSensorPQ'\n",
    "# dt3 = {\n",
    "#     \"Token\":\"{}\".format(T),\n",
    "#     \"Data\":\n",
    "#     [\n",
    "#         {\"PQguid\": \"D5684684-BA8D-414C-BDEF-282FF63CD7E9\",\n",
    "#          \"VALUES\": \"0.5\"\n",
    "#         }\n",
    "#     ]\n",
    "# }\n",
    "\n",
    "# r3 = requests.post(url3, json =dt3)\n",
    "\n"
   ]
  },
  {
   "cell_type": "code",
   "execution_count": 18,
   "id": "similar-louisville",
   "metadata": {},
   "outputs": [],
   "source": [
    "### Function版 ###\n",
    "\n",
    "def UpdatePQ(ID, PWD, DT, VALUES):\n",
    "    url1 = r'http://59.120.114.172:8080/APP_SWCB_IFEM/api/User/GetToken'\n",
    "    \n",
    "    dt1 = {\"API_USER_ID\": \"{}\".format(ID), \"API_USER_PWD\": \"{}\".format(PWD)}\n",
    "    r1 = requests.post(url1, data =dt1)\n",
    "    jr1 = json.loads(r1.text)\n",
    "    \n",
    "    T = jr1[\"Token\"]\n",
    "    \n",
    "    \n",
    "    url3 = 'http://59.120.114.172:8080/APP_SWCB_IFEM/api/Stations/UpdateStationSensorPQ'\n",
    "    dt3 = {\n",
    "        \"Token\":\"{}\".format(T),\n",
    "        \"Data\":\n",
    "        [\n",
    "            {\"PQguid\": \"D5684684-BA8D-414C-BDEF-282FF63CD7E9\",\n",
    "             \"VALUES\": \"\".format(VALUES)\n",
    "            }\n",
    "        ]\n",
    "    }\n",
    "    \n",
    "    r3 = requests.post(url3, json =dt3)\n",
    "    print(r3.text)\n",
    "\n",
    "\n",
    "#---------------------------------------------------------#\n",
    "    \n",
    "    \n",
    "    \n",
    "def GetPQ(ID,PWD):\n",
    "    url1 = r'http://59.120.114.172:8080/APP_SWCB_IFEM/api/User/GetToken'\n",
    "    \n",
    "    dt1 = {\"API_USER_ID\": \"{}\".format(ID), \"API_USER_PWD\": \"{}\".format(PWD)}\n",
    "    r1 = requests.post(url1, data =dt1)\n",
    "    jr1 = json.loads(r1.text)\n",
    "    \n",
    "    T = jr1[\"Token\"]\n",
    "    \n",
    "    \n",
    "    url2 = r'http://59.120.114.172:8080/APP_SWCB_IFEM/api/Stations/GetStationSensorPQ'\n",
    "    dt2 = {\"Token\":\"{}\".format(T)}\n",
    "    r2 = requests.post(url2, data =dt2)\n",
    "    jr2 = json.loads(r2.text)\n",
    "#     dfr2=pd.DataFrame(jr2[\"Date\"])\n",
    "    print(r2.text)"
   ]
  },
  {
   "cell_type": "code",
   "execution_count": null,
   "id": "controversial-preview",
   "metadata": {},
   "outputs": [],
   "source": []
  },
  {
   "cell_type": "code",
   "execution_count": 19,
   "id": "final-satellite",
   "metadata": {},
   "outputs": [
    {
     "name": "stdout",
     "output_type": "stream",
     "text": [
      "{\"Message\":\"授權成功\",\"Status\":\"1\",\"Data\":[{\"ST_ID\":\"A1140004\",\"ST_NameC\":\"蘇樂溪_蘇樂橋上游10號防砂壩\",\"SensorID\":\"SRA_S0002\",\"SR_NameC\":\"光感式濁度計\",\"PQ_ID\":\"PQ_S0001\",\"PQ_NameC\":\"十分鐘濁度\",\"PQguid\":\"6FCA06C3-89FC-4070-92E1-7509C79BC6B6\"},{\"ST_ID\":\"A1140004\",\"ST_NameC\":\"蘇樂溪_蘇樂橋上游10號防砂壩\",\"SensorID\":\"SRA_W0002\",\"SR_NameC\":\"超音波水位計\",\"PQ_ID\":\"PQ_W0001\",\"PQ_NameC\":\"十分鐘水位\",\"PQguid\":\"699D400D-23FE-402E-96C8-AD1A74195E56\"},{\"ST_ID\":\"A1140005\",\"ST_NameC\":\"玉峰2號野溪_玉峰橋旁防砂壩\",\"SensorID\":\"SRA_S0003\",\"SR_NameC\":\"光感式濁度計\",\"PQ_ID\":\"PQ_S0001\",\"PQ_NameC\":\"十分鐘濁度\",\"PQguid\":\"9CEA1BB0-FF6A-4CFC-A770-06B5967BC263\"},{\"ST_ID\":\"A1140005\",\"ST_NameC\":\"玉峰2號野溪_玉峰橋旁防砂壩\",\"SensorID\":\"SRA_W0003\",\"SR_NameC\":\"超音波水位計\",\"PQ_ID\":\"PQ_W0001\",\"PQ_NameC\":\"十分鐘水位\",\"PQguid\":\"51DB6B9D-D975-49DC-A510-F1FE1FD3B1F5\"},{\"ST_ID\":\"A1140006\",\"ST_NameC\":\"匹亞溪_下游匯流口處\",\"SensorID\":\"SRA_S0004\",\"SR_NameC\":\"光感式濁度計\",\"PQ_ID\":\"PQ_S0001\",\"PQ_NameC\":\"十分鐘濁度\",\"PQguid\":\"85FB5369-61A9-4828-A818-C635F70D49C6\"},{\"ST_ID\":\"A1140006\",\"ST_NameC\":\"匹亞溪_下游匯流口處\",\"SensorID\":\"SRA_W0004\",\"SR_NameC\":\"超音波水位計\",\"PQ_ID\":\"PQ_W0001\",\"PQ_NameC\":\"十分鐘水位\",\"PQguid\":\"A7C6FAC3-4A92-4761-8B71-81E9A561538A\"},{\"ST_ID\":\"A1140007\",\"ST_NameC\":\"卡拉溪_哈崖橋\",\"SensorID\":\"SRA_S0005\",\"SR_NameC\":\"光感式濁度計\",\"PQ_ID\":\"PQ_S0001\",\"PQ_NameC\":\"十分鐘濁度\",\"PQguid\":\"3E21B337-D928-4A3A-835F-D8DB1C288065\"},{\"ST_ID\":\"A1140007\",\"ST_NameC\":\"卡拉溪_哈崖橋\",\"SensorID\":\"SRA_W0005\",\"SR_NameC\":\"超音波水位計\",\"PQ_ID\":\"PQ_W0001\",\"PQ_NameC\":\"十分鐘水位\",\"PQguid\":\"27BBD3E2-FD15-486B-B2E2-5744C3CDD1F4\"},{\"ST_ID\":\"A1140008\",\"ST_NameC\":\"泰平溪_泰平溪橋下游防砂壩\",\"SensorID\":\"SRA_S0006\",\"SR_NameC\":\"光感式濁度計\",\"PQ_ID\":\"PQ_S0001\",\"PQ_NameC\":\"十分鐘濁度\",\"PQguid\":\"1914E4BA-8EFC-4DE6-93ED-BFF16BB16E99\"},{\"ST_ID\":\"A1140008\",\"ST_NameC\":\"泰平溪_泰平溪橋下游防砂壩\",\"SensorID\":\"SRA_W0006\",\"SR_NameC\":\"超音波水位計\",\"PQ_ID\":\"PQ_W0001\",\"PQ_NameC\":\"十分鐘水位\",\"PQguid\":\"FE6CE897-8513-40FE-8935-C433B665CCDD\"},{\"ST_ID\":\"A1140009\",\"ST_NameC\":\"霞雲溪_霞雲橋上游防砂壩\",\"SensorID\":\"SRA_S0007\",\"SR_NameC\":\"光感式濁度計\",\"PQ_ID\":\"PQ_S0001\",\"PQ_NameC\":\"十分鐘濁度\",\"PQguid\":\"2FC6399F-64CD-40FC-8635-223E9C745F74\"},{\"ST_ID\":\"A1140009\",\"ST_NameC\":\"霞雲溪_霞雲橋上游防砂壩\",\"SensorID\":\"SRA_W0007\",\"SR_NameC\":\"超音波水位計\",\"PQ_ID\":\"PQ_W0001\",\"PQ_NameC\":\"十分鐘水位\",\"PQguid\":\"242F37DF-97E3-4B4F-BA79-BA1AA99B65CE\"},{\"ST_ID\":\"A1140010\",\"ST_NameC\":\"玉峰7號野溪(爺亨溪)_爺亨橋\",\"SensorID\":\"SRA_S0008\",\"SR_NameC\":\"光感式濁度計\",\"PQ_ID\":\"PQ_S0001\",\"PQ_NameC\":\"十分鐘濁度\",\"PQguid\":\"DFFCCC87-C59A-43D1-99A0-0063AC8BB22D\"},{\"ST_ID\":\"A1140010\",\"ST_NameC\":\"玉峰7號野溪(爺亨溪)_爺亨橋\",\"SensorID\":\"SRA_W0008\",\"SR_NameC\":\"超音波水位計\",\"PQ_ID\":\"PQ_W0001\",\"PQ_NameC\":\"十分鐘水位\",\"PQguid\":\"6591D142-00DB-4BE6-B7BC-46DBD3D63C9C\"},{\"ST_ID\":\"A1140011\",\"ST_NameC\":\"泰平3號野溪_無名橋\",\"SensorID\":\"SRA_S0009\",\"SR_NameC\":\"光感式濁度計\",\"PQ_ID\":\"PQ_S0001\",\"PQ_NameC\":\"十分鐘濁度\",\"PQguid\":\"147470C4-8CD9-4B00-9377-1312EA108627\"},{\"ST_ID\":\"A1140011\",\"ST_NameC\":\"泰平3號野溪_無名橋\",\"SensorID\":\"SRA_W0009\",\"SR_NameC\":\"超音波水位計\",\"PQ_ID\":\"PQ_W0001\",\"PQ_NameC\":\"十分鐘水位\",\"PQguid\":\"ADEF8909-3951-4700-9FC2-8CFC8226D9A5\"},{\"ST_ID\":\"A1140012\",\"ST_NameC\":\"玉峰10號野溪(老鷹溪)_匯流口處防砂壩\",\"SensorID\":\"SRA_S0010\",\"SR_NameC\":\"光感式濁度計\",\"PQ_ID\":\"PQ_S0001\",\"PQ_NameC\":\"十分鐘濁度\",\"PQguid\":\"B71A1DD2-5EC5-4F8F-AC58-597EA9A12437\"},{\"ST_ID\":\"A1140012\",\"ST_NameC\":\"玉峰10號野溪(老鷹溪)_匯流口處防砂壩\",\"SensorID\":\"SRA_W0010\",\"SR_NameC\":\"超音波水位計\",\"PQ_ID\":\"PQ_W0001\",\"PQ_NameC\":\"十分鐘水位\",\"PQguid\":\"C3C56150-5CD8-44FC-8F5D-67DE58B837EF\"},{\"ST_ID\":\"A1140013\",\"ST_NameC\":\"白石溪_秀巒橋上游\",\"SensorID\":\"SRA_S0011\",\"SR_NameC\":\"光感式濁度計\",\"PQ_ID\":\"PQ_S0001\",\"PQ_NameC\":\"十分鐘濁度\",\"PQguid\":\"12B6C33D-CC99-4369-B501-6CC81FBA837B\"},{\"ST_ID\":\"A1140013\",\"ST_NameC\":\"白石溪_秀巒橋上游\",\"SensorID\":\"SRA_W0011\",\"SR_NameC\":\"超音波水位計\",\"PQ_ID\":\"PQ_W0001\",\"PQ_NameC\":\"十分鐘水位\",\"PQguid\":\"D8BA872C-7D12-4CBF-95E2-B048D9A21B44\"},{\"ST_ID\":\"A1140014\",\"ST_NameC\":\"葛樂喜溪_無名橋\",\"SensorID\":\"SRA_S0012\",\"SR_NameC\":\"光感式濁度計\",\"PQ_ID\":\"PQ_S0001\",\"PQ_NameC\":\"十分鐘濁度\",\"PQguid\":\"B94AD358-2413-4F3B-9EC1-E344BD94A08B\"},{\"ST_ID\":\"A1140014\",\"ST_NameC\":\"葛樂喜溪_無名橋\",\"SensorID\":\"SRA_W0012\",\"SR_NameC\":\"超音波水位計\",\"PQ_ID\":\"PQ_W0001\",\"PQ_NameC\":\"十分鐘水位\",\"PQguid\":\"3EF94AA2-6432-403E-BB60-D93117BC45E1\"},{\"ST_ID\":\"A1140015\",\"ST_NameC\":\"寶里苦野溪_高義橋\",\"SensorID\":\"SRA_S0013\",\"SR_NameC\":\"光感式濁度計\",\"PQ_ID\":\"PQ_S0001\",\"PQ_NameC\":\"十分鐘濁度\",\"PQguid\":\"41A3E84D-25BF-4AC7-9753-EBCE9790DE17\"},{\"ST_ID\":\"A1140015\",\"ST_NameC\":\"寶里苦野溪_高義橋\",\"SensorID\":\"SRA_W0013\",\"SR_NameC\":\"超音波水位計\",\"PQ_ID\":\"PQ_W0001\",\"PQ_NameC\":\"十分鐘水位\",\"PQguid\":\"1965489D-69BE-4002-8A57-668E0E91FFE4\"},{\"ST_ID\":\"A1140016\",\"ST_NameC\":\"蘇樂溪_蘇樂橋上游15號防砂壩\",\"SensorID\":\"SRA_S0014\",\"SR_NameC\":\"光感式濁度計\",\"PQ_ID\":\"PQ_S0001\",\"PQ_NameC\":\"十分鐘濁度\",\"PQguid\":\"D723C3B2-A367-40C2-B34D-93F99EE82766\"},{\"ST_ID\":\"A1140016\",\"ST_NameC\":\"蘇樂溪_蘇樂橋上游15號防砂壩\",\"SensorID\":\"SRA_W0014\",\"SR_NameC\":\"超音波水位計\",\"PQ_ID\":\"PQ_W0001\",\"PQ_NameC\":\"十分鐘水位\",\"PQguid\":\"4EFC00D6-F620-42DD-B7CF-F28058CA5FD8\"},{\"ST_ID\":\"A1140017\",\"ST_NameC\":\"宇內溪_宇內溪和平橋下游防砂壩\",\"SensorID\":\"SRA_S0015\",\"SR_NameC\":\"光感式濁度計\",\"PQ_ID\":\"PQ_S0001\",\"PQ_NameC\":\"十分鐘濁度\",\"PQguid\":\"EC7C8FE8-74CD-48EE-BE50-5CFDA251F6AE\"},{\"ST_ID\":\"A1140017\",\"ST_NameC\":\"宇內溪_宇內溪和平橋下游防砂壩\",\"SensorID\":\"SRA_W0015\",\"SR_NameC\":\"超音波水位計\",\"PQ_ID\":\"PQ_W0001\",\"PQ_NameC\":\"十分鐘水位\",\"PQguid\":\"4C9F70F2-D2FE-4379-A7F5-7547773B3824\"},{\"ST_ID\":\"A1140018\",\"ST_NameC\":\"泰平溪_泰平溪橋上游防砂壩\",\"SensorID\":\"SRA_S0016\",\"SR_NameC\":\"光感式濁度計\",\"PQ_ID\":\"PQ_S0001\",\"PQ_NameC\":\"十分鐘濁度\",\"PQguid\":\"D2A136B1-0410-4B77-B10A-952A3777639B\"},{\"ST_ID\":\"A1140018\",\"ST_NameC\":\"泰平溪_泰平溪橋上游防砂壩\",\"SensorID\":\"SRA_W0016\",\"SR_NameC\":\"超音波水位計\",\"PQ_ID\":\"PQ_W0001\",\"PQ_NameC\":\"十分鐘水位\",\"PQguid\":\"C304514F-409B-4301-A9F3-6E5528390E50\"},{\"ST_ID\":\"A2560013\",\"ST_NameC\":\"美優溪_美優溪防砂壩\",\"SensorID\":\"SRA_S0001\",\"SR_NameC\":\"光感式濁度計\",\"PQ_ID\":\"PQ_S0001\",\"PQ_NameC\":\"十分鐘濁度\",\"PQguid\":\"D5684684-BA8D-414C-BDEF-282FF63CD7E9\"},{\"ST_ID\":\"A2560013\",\"ST_NameC\":\"美優溪_美優溪防砂壩\",\"SensorID\":\"SRA_W0001\",\"SR_NameC\":\"超音波水位計\",\"PQ_ID\":\"PQ_W0001\",\"PQ_NameC\":\"十分鐘水位\",\"PQguid\":\"527180DE-C2EE-4884-A178-FB9B1FA161DD\"},{\"ST_ID\":\"B1350001\",\"ST_NameC\":\"獅潭川_永興一號橋\",\"SensorID\":\"SRB_S0011\",\"SR_NameC\":\"光感式濁度計\",\"PQ_ID\":\"PQ_S0001\",\"PQ_NameC\":\"十分鐘濁度\",\"PQguid\":\"2A3DC88A-A424-4879-B487-C0F1021F2072\"},{\"ST_ID\":\"B1350001\",\"ST_NameC\":\"獅潭川_永興一號橋\",\"SensorID\":\"SRB_W0011\",\"SR_NameC\":\"超音波水位計\",\"PQ_ID\":\"PQ_W0001\",\"PQ_NameC\":\"十分鐘水位\",\"PQguid\":\"AE79E69C-ED77-4C67-A690-7D61E8358EFA\"},{\"ST_ID\":\"B1350002\",\"ST_NameC\":\"獅潭川_永善橋\",\"SensorID\":\"SRB_S0012\",\"SR_NameC\":\"光感式濁度計\",\"PQ_ID\":\"PQ_S0001\",\"PQ_NameC\":\"十分鐘濁度\",\"PQguid\":\"E64977E1-3ED9-4B89-A9C5-EE395B26CDA8\"},{\"ST_ID\":\"B1350002\",\"ST_NameC\":\"獅潭川_永善橋\",\"SensorID\":\"SRB_W0012\",\"SR_NameC\":\"超音波水位計\",\"PQ_ID\":\"PQ_W0001\",\"PQ_NameC\":\"十分鐘水位\",\"PQguid\":\"462BEA96-D8E4-47D6-9C24-0DFABC0BF9CE\"},{\"ST_ID\":\"B1350003\",\"ST_NameC\":\"大東勢溪_大東勢一橋\",\"SensorID\":\"SRB_S0013\",\"SR_NameC\":\"光感式濁度計\",\"PQ_ID\":\"PQ_S0001\",\"PQ_NameC\":\"十分鐘濁度\",\"PQguid\":\"9629854D-5EA1-4A6B-B71C-61EBBE4B0EF6\"},{\"ST_ID\":\"B1350003\",\"ST_NameC\":\"大東勢溪_大東勢一橋\",\"SensorID\":\"SRB_W0013\",\"SR_NameC\":\"超音波水位計\",\"PQ_ID\":\"PQ_W0001\",\"PQ_NameC\":\"十分鐘水位\",\"PQguid\":\"2E7BD3BA-6C5B-4DC3-8034-41D170B60368\"},{\"ST_ID\":\"B1420002\",\"ST_NameC\":\"抽藤坑溪_抽藤坑溪二號橋\",\"SensorID\":\"SRB_S0001\",\"SR_NameC\":\"光感式濁度計\",\"PQ_ID\":\"PQ_S0001\",\"PQ_NameC\":\"十分鐘濁度\",\"PQguid\":\"2626C14F-D4A5-4369-99FD-DAFD69374772\"},{\"ST_ID\":\"B1420002\",\"ST_NameC\":\"抽藤坑溪_抽藤坑溪二號橋\",\"SensorID\":\"SRB_W0001\",\"SR_NameC\":\"超音波水位計\",\"PQ_ID\":\"PQ_W0001\",\"PQ_NameC\":\"十分鐘水位\",\"PQguid\":\"A55D3FBB-DD41-4C3D-8895-7927FBF25A11\"},{\"ST_ID\":\"B1420005\",\"ST_NameC\":\"環山溪_德基環山三號橋\",\"SensorID\":\"SRB_S0002\",\"SR_NameC\":\"光感式濁度計\",\"PQ_ID\":\"PQ_S0001\",\"PQ_NameC\":\"十分鐘濁度\",\"PQguid\":\"EC9C7696-311F-4FB1-9B74-76BF51135F02\"},{\"ST_ID\":\"B1420005\",\"ST_NameC\":\"環山溪_德基環山三號橋\",\"SensorID\":\"SRB_W0002\",\"SR_NameC\":\"超音波水位計\",\"PQ_ID\":\"PQ_W0001\",\"PQ_NameC\":\"十分鐘水位\",\"PQguid\":\"D1BFBC35-84BD-45CF-BCF0-F46FB808B3E0\"},{\"ST_ID\":\"B1420006\",\"ST_NameC\":\"南湖溪_德基南湖溪鋼便橋\",\"SensorID\":\"SRB_S0003\",\"SR_NameC\":\"光感式濁度計\",\"PQ_ID\":\"PQ_S0001\",\"PQ_NameC\":\"十分鐘濁度\",\"PQguid\":\"22040351-4455-40F4-ACB0-BCBF52AE93C6\"},{\"ST_ID\":\"B1420006\",\"ST_NameC\":\"南湖溪_德基南湖溪鋼便橋\",\"SensorID\":\"SRB_W0003\",\"SR_NameC\":\"超音波水位計\",\"PQ_ID\":\"PQ_W0001\",\"PQ_NameC\":\"十分鐘水位\",\"PQguid\":\"6336B7CC-4686-46A8-98AE-E60C55F5C9C1\"},{\"ST_ID\":\"B1420007\",\"ST_NameC\":\"七家灣溪_德基京華橋\",\"SensorID\":\"SRB_S0004\",\"SR_NameC\":\"光感式濁度計\",\"PQ_ID\":\"PQ_S0001\",\"PQ_NameC\":\"十分鐘濁度\",\"PQguid\":\"871DA6D1-C52B-4399-8B73-AABF367D90F6\"},{\"ST_ID\":\"B1420007\",\"ST_NameC\":\"七家灣溪_德基京華橋\",\"SensorID\":\"SRB_W0004\",\"SR_NameC\":\"超音波水位計\",\"PQ_ID\":\"PQ_W0001\",\"PQ_NameC\":\"十分鐘水位\",\"PQguid\":\"A6DCCA32-97DE-4F7B-AB0E-C58BAF84BBBB\"},{\"ST_ID\":\"B1430001\",\"ST_NameC\":\"廍子坑溪_下游政興橋\",\"SensorID\":\"SRB_S0005\",\"SR_NameC\":\"光感式濁度計\",\"PQ_ID\":\"PQ_S0001\",\"PQ_NameC\":\"十分鐘濁度\",\"PQguid\":\"856E9588-1A89-4B79-BFB2-87485F0A57FE\"},{\"ST_ID\":\"B1430001\",\"ST_NameC\":\"廍子坑溪_下游政興橋\",\"SensorID\":\"SRB_W0005\",\"SR_NameC\":\"超音波水位計\",\"PQ_ID\":\"PQ_W0001\",\"PQ_NameC\":\"十分鐘水位\",\"PQguid\":\"AF4FDDA9-2689-41B2-91C8-80EEA25DBA3A\"},{\"ST_ID\":\"B1430002\",\"ST_NameC\":\"廍子坑溪_上游無名橋\",\"SensorID\":\"SRB_S0006\",\"SR_NameC\":\"光感式濁度計\",\"PQ_ID\":\"PQ_S0001\",\"PQ_NameC\":\"十分鐘濁度\",\"PQguid\":\"6BE1FC3D-7867-44F3-BDD3-DD478B6E4562\"},{\"ST_ID\":\"B1430002\",\"ST_NameC\":\"廍子坑溪_上游無名橋\",\"SensorID\":\"SRB_W0006\",\"SR_NameC\":\"超音波水位計\",\"PQ_ID\":\"PQ_W0001\",\"PQ_NameC\":\"十分鐘水位\",\"PQguid\":\"A08D2E78-9844-4EF1-B37B-E0D062FEDD5E\"},{\"ST_ID\":\"B1430003\",\"ST_NameC\":\"廍子坑溪_上游調整型防砂壩\",\"SensorID\":\"SRB_S0007\",\"SR_NameC\":\"光感式濁度計\",\"PQ_ID\":\"PQ_S0001\",\"PQ_NameC\":\"十分鐘濁度\",\"PQguid\":\"1BE60EFB-551F-4364-BB55-2A0E2C54D49F\"},{\"ST_ID\":\"B1430003\",\"ST_NameC\":\"廍子坑溪_上游調整型防砂壩\",\"SensorID\":\"SRB_W0007\",\"SR_NameC\":\"超音波水位計\",\"PQ_ID\":\"PQ_W0001\",\"PQ_NameC\":\"十分鐘水位\",\"PQguid\":\"31656803-9843-4272-8FBB-2C15AC9D7A22\"},{\"ST_ID\":\"B1430004\",\"ST_NameC\":\"頭汴坑溪_龍寶橋上游\",\"SensorID\":\"SRB_S0008\",\"SR_NameC\":\"光感式濁度計\",\"PQ_ID\":\"PQ_S0001\",\"PQ_NameC\":\"十分鐘濁度\",\"PQguid\":\"49AE44CE-75C0-4904-9146-2F7A9A2FB45A\"},{\"ST_ID\":\"B1430004\",\"ST_NameC\":\"頭汴坑溪_龍寶橋上游\",\"SensorID\":\"SRB_W0008\",\"SR_NameC\":\"超音波水位計\",\"PQ_ID\":\"PQ_W0001\",\"PQ_NameC\":\"十分鐘水位\",\"PQguid\":\"BF27720E-654B-443D-A574-11ED5A9E295D\"},{\"ST_ID\":\"B1430005\",\"ST_NameC\":\"梨山_梨山G1排水廊道下游\",\"SensorID\":\"SRB_W0009\",\"SR_NameC\":\"超音波水位計\",\"PQ_ID\":\"PQ_W0001\",\"PQ_NameC\":\"十分鐘水位\",\"PQguid\":\"1C0E5985-C6F3-4A23-8F98-94FA2F005CA2\"},{\"ST_ID\":\"B1430006\",\"ST_NameC\":\"茄苳寮溪_北田大橋\",\"SensorID\":\"SRB_S0010\",\"SR_NameC\":\"光感式濁度計\",\"PQ_ID\":\"PQ_S0001\",\"PQ_NameC\":\"十分鐘濁度\",\"PQguid\":\"F529D69A-7127-4F04-AE0D-96CD4E9C2A2B\"},{\"ST_ID\":\"B1430006\",\"ST_NameC\":\"茄苳寮溪_北田大橋\",\"SensorID\":\"SRB_W0010\",\"SR_NameC\":\"超音波水位計\",\"PQ_ID\":\"PQ_W0001\",\"PQ_NameC\":\"十分鐘水位\",\"PQguid\":\"C8FE51D0-4594-421E-8BD4-5465B58722A8\"},{\"ST_ID\":\"C1430001\",\"ST_NameC\":\"眉溪_同德橋\",\"SensorID\":\"SRC_S0001\",\"SR_NameC\":\"光感式濁度計\",\"PQ_ID\":\"PQ_S0001\",\"PQ_NameC\":\"十分鐘濁度\",\"PQguid\":\"95E642DC-8DF3-4241-99DD-95B6F9C6CFAA\"},{\"ST_ID\":\"C1430002\",\"ST_NameC\":\"眉溪_南豐橋\",\"SensorID\":\"SRC_S0002\",\"SR_NameC\":\"光感式濁度計\",\"PQ_ID\":\"PQ_S0001\",\"PQ_NameC\":\"十分鐘濁度\",\"PQguid\":\"269C23EA-F889-4CF1-BF17-1F08E7AF6C8A\"},{\"ST_ID\":\"C1430002\",\"ST_NameC\":\"眉溪_南豐橋\",\"SensorID\":\"SRC_W0001\",\"SR_NameC\":\"超音波水位計\",\"PQ_ID\":\"PQ_W0001\",\"PQ_NameC\":\"十分鐘水位\",\"PQguid\":\"B1800BA4-9B68-4FBB-8F36-5CABFD33FB3F\"},{\"ST_ID\":\"C1430003\",\"ST_NameC\":\"南山溪_夢谷一號橋\",\"SensorID\":\"SRC_S0003\",\"SR_NameC\":\"光感式濁度計\",\"PQ_ID\":\"PQ_S0001\",\"PQ_NameC\":\"十分鐘濁度\",\"PQguid\":\"C4036E0B-1B47-4C1A-8720-D71056C55F1D\"},{\"ST_ID\":\"C1510002\",\"ST_NameC\":\"塔羅灣溪_霧社榮華巷\",\"SensorID\":\"SRC_S0004\",\"SR_NameC\":\"光感式濁度計\",\"PQ_ID\":\"PQ_S0001\",\"PQ_NameC\":\"十分鐘濁度\",\"PQguid\":\"C234EE6D-E3F0-4011-89FA-712841114C93\"},{\"ST_ID\":\"C1510002\",\"ST_NameC\":\"塔羅灣溪_霧社榮華巷\",\"SensorID\":\"SRC_W0002\",\"SR_NameC\":\"超音波水位計\",\"PQ_ID\":\"PQ_W0001\",\"PQ_NameC\":\"十分鐘水位\",\"PQguid\":\"6188E9F3-8537-4147-BFB5-FEA85141C597\"},{\"ST_ID\":\"C1510003\",\"ST_NameC\":\"馬海波溪_霧社馬海波橋下游防砂壩\",\"SensorID\":\"SRC_S0005\",\"SR_NameC\":\"光感式濁度計\",\"PQ_ID\":\"PQ_S0001\",\"PQ_NameC\":\"十分鐘濁度\",\"PQguid\":\"D9163502-B1AC-48F3-97E8-E23BD9DE4D36\"},{\"ST_ID\":\"C1510003\",\"ST_NameC\":\"馬海波溪_霧社馬海波橋下游防砂壩\",\"SensorID\":\"SRC_W0003\",\"SR_NameC\":\"超音波水位計\",\"PQ_ID\":\"PQ_W0001\",\"PQ_NameC\":\"十分鐘水位\",\"PQguid\":\"E82C9546-E199-4D1F-BF3D-6F1531D83410\"},{\"ST_ID\":\"C1510004\",\"ST_NameC\":\"濁水溪_霧社靜翠橋下游防砂壩\",\"SensorID\":\"SRC_S0006\",\"SR_NameC\":\"光感式濁度計\",\"PQ_ID\":\"PQ_S0001\",\"PQ_NameC\":\"十分鐘濁度\",\"PQguid\":\"99877ECE-2EB3-4D25-B6D5-F76EA5E89FCE\"},{\"ST_ID\":\"C1510004\",\"ST_NameC\":\"濁水溪_霧社靜翠橋下游防砂壩\",\"SensorID\":\"SRC_W0004\",\"SR_NameC\":\"超音波水位計\",\"PQ_ID\":\"PQ_W0001\",\"PQ_NameC\":\"十分鐘水位\",\"PQguid\":\"E63D3A36-F80C-4657-95AA-B9101D13FEC9\"},{\"ST_ID\":\"C1510007\",\"ST_NameC\":\"哇嘟嘟娜野溪(嘉縣DF073)_行諄橋\",\"SensorID\":\"SRC_S0013\",\"SR_NameC\":\"光感式濁度計\",\"PQ_ID\":\"PQ_S0001\",\"PQ_NameC\":\"十分鐘濁度\",\"PQguid\":\"DC4F4844-D1A3-4CEB-8C20-3E31FFDA7C4A\"},{\"ST_ID\":\"C1510007\",\"ST_NameC\":\"哇嘟嘟娜野溪(嘉縣DF073)_行諄橋\",\"SensorID\":\"SRC_W0010\",\"SR_NameC\":\"超音波水位計\",\"PQ_ID\":\"PQ_W0001\",\"PQ_NameC\":\"十分鐘水位\",\"PQguid\":\"2EE0D602-DB09-4CB3-A147-B0B8C245B73E\"},{\"ST_ID\":\"C1630001\",\"ST_NameC\":\"長谷川溪_巴沙娜橋上游防砂壩\",\"SensorID\":\"SRC_S0007\",\"SR_NameC\":\"光感式濁度計\",\"PQ_ID\":\"PQ_S0001\",\"PQ_NameC\":\"十分鐘濁度\",\"PQguid\":\"13AC58AB-2CB2-4366-8479-51BD41C33CEB\"},{\"ST_ID\":\"C1630002\",\"ST_NameC\":\"長谷川溪_巴沙娜橋\",\"SensorID\":\"SRC_S0008\",\"SR_NameC\":\"光感式濁度計\",\"PQ_ID\":\"PQ_S0001\",\"PQ_NameC\":\"十分鐘濁度\",\"PQguid\":\"AF7BB144-E379-4C4F-89E9-7FC8A011045E\"},{\"ST_ID\":\"C1630002\",\"ST_NameC\":\"長谷川溪_巴沙娜橋\",\"SensorID\":\"SRC_W0005\",\"SR_NameC\":\"超音波水位計\",\"PQ_ID\":\"PQ_W0001\",\"PQ_NameC\":\"十分鐘水位\",\"PQguid\":\"8826DAB9-E4A2-4036-8FD3-E398F44459A4\"},{\"ST_ID\":\"C1630003\",\"ST_NameC\":\"長谷川溪右岸支流_護岸\",\"SensorID\":\"SRC_S0009\",\"SR_NameC\":\"光感式濁度計\",\"PQ_ID\":\"PQ_S0001\",\"PQ_NameC\":\"十分鐘濁度\",\"PQguid\":\"5292CEAB-C1E5-43A0-9290-A701052F7B4E\"},{\"ST_ID\":\"C1630003\",\"ST_NameC\":\"長谷川溪右岸支流_護岸\",\"SensorID\":\"SRC_W0006\",\"SR_NameC\":\"超音波水位計\",\"PQ_ID\":\"PQ_W0001\",\"PQ_NameC\":\"十分鐘水位\",\"PQguid\":\"4C423BF7-F5CE-46D8-9C78-53E179551B43\"},{\"ST_ID\":\"C1630005\",\"ST_NameC\":\"曾文溪_曾文達邦橋下游防砂壩\",\"SensorID\":\"SRC_S0010\",\"SR_NameC\":\"光感式濁度計\",\"PQ_ID\":\"PQ_S0001\",\"PQ_NameC\":\"十分鐘濁度\",\"PQguid\":\"43D02130-0FEA-4750-8CB1-A4DF257A25C0\"},{\"ST_ID\":\"C1630005\",\"ST_NameC\":\"曾文溪_曾文達邦橋下游防砂壩\",\"SensorID\":\"SRC_W0007\",\"SR_NameC\":\"超音波水位計\",\"PQ_ID\":\"PQ_W0001\",\"PQ_NameC\":\"十分鐘水位\",\"PQguid\":\"84C12F93-8820-42B0-96BD-EC3F5B4ABB91\"},{\"ST_ID\":\"C1630006\",\"ST_NameC\":\"曾文溪_曾文山美山美大橋\",\"SensorID\":\"SRC_S0011\",\"SR_NameC\":\"光感式濁度計\",\"PQ_ID\":\"PQ_S0001\",\"PQ_NameC\":\"十分鐘濁度\",\"PQguid\":\"DDCCC6F3-07EB-45B7-B7D7-5D76BB9A84F5\"},{\"ST_ID\":\"C1630006\",\"ST_NameC\":\"曾文溪_曾文山美山美大橋\",\"SensorID\":\"SRC_W0008\",\"SR_NameC\":\"超音波水位計\",\"PQ_ID\":\"PQ_W0001\",\"PQ_NameC\":\"十分鐘水位\",\"PQguid\":\"C2D6BD2B-704A-4BAB-A116-E323657C6397\"},{\"ST_ID\":\"C1630007\",\"ST_NameC\":\"曾文溪_曾文紫荊橋\",\"SensorID\":\"SRC_S0012\",\"SR_NameC\":\"光感式濁度計\",\"PQ_ID\":\"PQ_S0001\",\"PQ_NameC\":\"十分鐘濁度\",\"PQguid\":\"730D6DE6-AEEC-4FCD-890A-F6D7803C5D00\"},{\"ST_ID\":\"C1630007\",\"ST_NameC\":\"曾文溪_曾文紫荊橋\",\"SensorID\":\"SRC_W0009\",\"SR_NameC\":\"超音波水位計\",\"PQ_ID\":\"PQ_W0001\",\"PQ_NameC\":\"十分鐘水位\",\"PQguid\":\"B4519FEA-4C17-425E-B8A0-B8D22CBC1179\"},{\"ST_ID\":\"C1630008\",\"ST_NameC\":\"達固布亞奴野溪_新美大橋\",\"SensorID\":\"SRC_S0014\",\"SR_NameC\":\"光感式濁度計\",\"PQ_ID\":\"PQ_S0001\",\"PQ_NameC\":\"十分鐘濁度\",\"PQguid\":\"97E4C56B-F211-4E10-927B-8A22EC9F685E\"},{\"ST_ID\":\"D1590001\",\"ST_NameC\":\"白水溪_白水溪橋上游3號防砂壩\",\"SensorID\":\"SRD_S0004\",\"SR_NameC\":\"光感式濁度計\",\"PQ_ID\":\"PQ_S0001\",\"PQ_NameC\":\"十分鐘濁度\",\"PQguid\":\"98FF68C7-F3DA-4FBB-9D2E-0CDFB8F5EFB9\"},{\"ST_ID\":\"D1590001\",\"ST_NameC\":\"白水溪_白水溪橋上游3號防砂壩\",\"SensorID\":\"SRD_W0014\",\"SR_NameC\":\"超音波水位計\",\"PQ_ID\":\"PQ_W0001\",\"PQ_NameC\":\"十分鐘水位\",\"PQguid\":\"3EED8531-CD4A-4256-839E-EE0975E67B6B\"},{\"ST_ID\":\"D1590002\",\"ST_NameC\":\"白水溪_無名版橋\",\"SensorID\":\"SRD_W0015\",\"SR_NameC\":\"超音波水位計\",\"PQ_ID\":\"PQ_W0001\",\"PQ_NameC\":\"十分鐘水位\",\"PQguid\":\"4DC17694-738B-4522-AC5F-C566A9AD4325\"},{\"ST_ID\":\"D1630001\",\"ST_NameC\":\"農塘_檨仔湖豎井入流\",\"SensorID\":\"SRD_W0005\",\"SR_NameC\":\"超音波水位計\",\"PQ_ID\":\"PQ_W0001\",\"PQ_NameC\":\"十分鐘水位\",\"PQguid\":\"F6497C16-1FE3-4B2E-A9C9-0C07BCBB626D\"},{\"ST_ID\":\"D1630002\",\"ST_NameC\":\"農塘_檨仔湖豎井出流\",\"SensorID\":\"SRD_W0006\",\"SR_NameC\":\"超音波水位計\",\"PQ_ID\":\"PQ_W0001\",\"PQ_NameC\":\"十分鐘水位\",\"PQguid\":\"01F3B799-FC72-4AA6-A8F8-4CD301473310\"},{\"ST_ID\":\"D1630003\",\"ST_NameC\":\"後堀溪_南化木瓜坑橋\",\"SensorID\":\"SRD_S0005\",\"SR_NameC\":\"光感式濁度計\",\"PQ_ID\":\"PQ_S0001\",\"PQ_NameC\":\"十分鐘濁度\",\"PQguid\":\"997C6E5D-D4AF-4C80-9E87-3AE8CE580CF9\"},{\"ST_ID\":\"D1630003\",\"ST_NameC\":\"後堀溪_南化木瓜坑橋\",\"SensorID\":\"SRD_W0016\",\"SR_NameC\":\"超音波水位計\",\"PQ_ID\":\"PQ_W0001\",\"PQ_NameC\":\"十分鐘水位\",\"PQguid\":\"665F47D3-FA42-439D-AB42-80267534E112\"},{\"ST_ID\":\"D1630004\",\"ST_NameC\":\"平坑溪_南化平坑水泥橋\",\"SensorID\":\"SRD_S0006\",\"SR_NameC\":\"光感式濁度計\",\"PQ_ID\":\"PQ_S0001\",\"PQ_NameC\":\"十分鐘濁度\",\"PQguid\":\"816E4BAD-5758-447F-934D-324776208656\"},{\"ST_ID\":\"D1630004\",\"ST_NameC\":\"平坑溪_南化平坑水泥橋\",\"SensorID\":\"SRD_W0017\",\"SR_NameC\":\"超音波水位計\",\"PQ_ID\":\"PQ_W0001\",\"PQ_NameC\":\"十分鐘水位\",\"PQguid\":\"26615C7D-0AC2-402D-82F3-9B426FF850BF\"},{\"ST_ID\":\"D1630005\",\"ST_NameC\":\"阿美仔坑溪_南化亞美坑橋上游防砂壩\",\"SensorID\":\"SRD_S0007\",\"SR_NameC\":\"光感式濁度計\",\"PQ_ID\":\"PQ_S0001\",\"PQ_NameC\":\"十分鐘濁度\",\"PQguid\":\"6AA97C5A-28D8-400F-909C-BC37C73D6EFF\"},{\"ST_ID\":\"D1630005\",\"ST_NameC\":\"阿美仔坑溪_南化亞美坑橋上游防砂壩\",\"SensorID\":\"SRD_W0018\",\"SR_NameC\":\"超音波水位計\",\"PQ_ID\":\"PQ_W0001\",\"PQ_NameC\":\"十分鐘水位\",\"PQguid\":\"D1B8DB82-65C8-4F4C-8C4E-E8B8E7E7BAF6\"},{\"ST_ID\":\"D1650001\",\"ST_NameC\":\"農塘_新化農試所豎井入流\",\"SensorID\":\"SRD_W0001\",\"SR_NameC\":\"超音波水位計\",\"PQ_ID\":\"PQ_W0001\",\"PQ_NameC\":\"十分鐘水位\",\"PQguid\":\"CC5C58C3-8FE8-4604-942C-941FA77A187D\"},{\"ST_ID\":\"D1650002\",\"ST_NameC\":\"農塘_新化農試所出流\",\"SensorID\":\"SRD_W0002\",\"SR_NameC\":\"超音波水位計\",\"PQ_ID\":\"PQ_W0001\",\"PQ_NameC\":\"十分鐘水位\",\"PQguid\":\"31F246AD-C19B-4A71-AD86-1609F8F11A3D\"},{\"ST_ID\":\"D1650003\",\"ST_NameC\":\"農塘_中興林場豎井入流\",\"SensorID\":\"SRD_W0003\",\"SR_NameC\":\"超音波水位計\",\"PQ_ID\":\"PQ_W0001\",\"PQ_NameC\":\"十分鐘水位\",\"PQguid\":\"10A7C41E-E84F-49EA-8507-F74D6B0E5C17\"},{\"ST_ID\":\"D1650004\",\"ST_NameC\":\"農塘_中興林場出流\",\"SensorID\":\"SRD_W0004\",\"SR_NameC\":\"超音波水位計\",\"PQ_ID\":\"PQ_W0001\",\"PQ_NameC\":\"十分鐘水位\",\"PQguid\":\"C4D225C6-7524-4518-B2B6-CA2893215EBA\"},{\"ST_ID\":\"D1680001\",\"ST_NameC\":\"農塘_燕巢動物收容所入流\",\"SensorID\":\"SRD_W0007\",\"SR_NameC\":\"超音波水位計\",\"PQ_ID\":\"PQ_W0001\",\"PQ_NameC\":\"十分鐘水位\",\"PQguid\":\"496CE8DC-5657-4999-979D-31C14AB84472\"},{\"ST_ID\":\"D1680002\",\"ST_NameC\":\"農塘_燕巢動物收容所出流\",\"SensorID\":\"SRD_W0008\",\"SR_NameC\":\"超音波水位計\",\"PQ_ID\":\"PQ_W0001\",\"PQ_NameC\":\"十分鐘水位\",\"PQguid\":\"32694E7C-12B0-4090-BE1D-6C2ECF6F672A\"},{\"ST_ID\":\"D1730001\",\"ST_NameC\":\"滴水溪_滴水橋\",\"SensorID\":\"SRD_S0001\",\"SR_NameC\":\"光感式濁度計\",\"PQ_ID\":\"PQ_S0001\",\"PQ_NameC\":\"十分鐘濁度\",\"PQguid\":\"1EA542DE-F62F-47FF-9E30-25761A4ABF46\"},{\"ST_ID\":\"D1730001\",\"ST_NameC\":\"滴水溪_滴水橋\",\"SensorID\":\"SRD_W0009\",\"SR_NameC\":\"超音波水位計\",\"PQ_ID\":\"PQ_W0001\",\"PQ_NameC\":\"十分鐘水位\",\"PQguid\":\"CFE81C48-C929-4BD1-8441-D7241D0996ED\"},{\"ST_ID\":\"D1730010\",\"ST_NameC\":\"霧大二號溪_霧台霧大二號橋上游防砂壩\",\"SensorID\":\"SRD_S0002\",\"SR_NameC\":\"光感式濁度計\",\"PQ_ID\":\"PQ_S0001\",\"PQ_NameC\":\"十分鐘濁度\",\"PQguid\":\"F24D6A99-F910-4BAF-B956-0234BAE7F70C\"},{\"ST_ID\":\"D1730010\",\"ST_NameC\":\"霧大二號溪_霧台霧大二號橋上游防砂壩\",\"SensorID\":\"SRD_W0010\",\"SR_NameC\":\"超音波水位計\",\"PQ_ID\":\"PQ_W0001\",\"PQ_NameC\":\"十分鐘水位\",\"PQguid\":\"5FD9994D-0261-4997-9F32-C2A10E573335\"},{\"ST_ID\":\"D1730011\",\"ST_NameC\":\"霧大二號溪_霧台霧大二號橋下游護岸\",\"SensorID\":\"SRD_W0011\",\"SR_NameC\":\"超音波水位計\",\"PQ_ID\":\"PQ_W0001\",\"PQ_NameC\":\"十分鐘水位\",\"PQguid\":\"2192B4CF-4888-4678-ADD4-F69ED3526A2B\"},{\"ST_ID\":\"D1730012\",\"ST_NameC\":\"霧瓦娜溪_霧瓦娜溪匯流口防砂壩\",\"SensorID\":\"SRD_S0003\",\"SR_NameC\":\"光感式濁度計\",\"PQ_ID\":\"PQ_S0001\",\"PQ_NameC\":\"十分鐘濁度\",\"PQguid\":\"5A9D5758-205B-4140-A017-4E5F4CABC993\"},{\"ST_ID\":\"D1730012\",\"ST_NameC\":\"霧瓦娜溪_霧瓦娜溪匯流口防砂壩\",\"SensorID\":\"SRD_W0012\",\"SR_NameC\":\"超音波水位計\",\"PQ_ID\":\"PQ_W0001\",\"PQ_NameC\":\"十分鐘水位\",\"PQguid\":\"9E55C2C1-5B14-4CA6-BAAD-48BBE7EBF09A\"},{\"ST_ID\":\"D1730013\",\"ST_NameC\":\"霧瓦娜溪_無名吊橋上游防砂壩\",\"SensorID\":\"SRD_W0013\",\"SR_NameC\":\"超音波水位計\",\"PQ_ID\":\"PQ_W0001\",\"PQ_NameC\":\"十分鐘水位\",\"PQguid\":\"13089FB1-F579-4EC6-AF3A-E87F2D2FE6B1\"},{\"ST_ID\":\"F2370001\",\"ST_NameC\":\"安夜西溪_固床工上游\",\"SensorID\":\"SRF_S0001\",\"SR_NameC\":\"光感式濁度計\",\"PQ_ID\":\"PQ_S0001\",\"PQ_NameC\":\"十分鐘濁度\",\"PQguid\":\"B02E3339-6CC4-4125-8B7A-3753A3DD1AF5\"},{\"ST_ID\":\"F2370001\",\"ST_NameC\":\"安夜西溪_固床工上游\",\"SensorID\":\"SRF_W0001\",\"SR_NameC\":\"超音波水位計\",\"PQ_ID\":\"PQ_W0001\",\"PQ_NameC\":\"十分鐘水位\",\"PQguid\":\"A612C236-8966-4104-85B6-14B9FAACFABB\"},{\"ST_ID\":\"F2410002\",\"ST_NameC\":\"北坑溪_北坑一號橋\",\"SensorID\":\"SRF_S0002\",\"SR_NameC\":\"光感式濁度計\",\"PQ_ID\":\"PQ_S0001\",\"PQ_NameC\":\"十分鐘濁度\",\"PQguid\":\"2BF89BED-6AD4-4698-B3F6-AA6649E6D7A8\"},{\"ST_ID\":\"F2410002\",\"ST_NameC\":\"北坑溪_北坑一號橋\",\"SensorID\":\"SRF_W0002\",\"SR_NameC\":\"超音波水位計\",\"PQ_ID\":\"PQ_W0001\",\"PQ_NameC\":\"十分鐘水位\",\"PQguid\":\"D723E538-1BE1-464F-884B-5D95769A3F02\"},{\"ST_ID\":\"F2420003\",\"ST_NameC\":\"荖溪_重光橋\",\"SensorID\":\"SRF_S0003\",\"SR_NameC\":\"光感式濁度計\",\"PQ_ID\":\"PQ_S0001\",\"PQ_NameC\":\"十分鐘濁度\",\"PQguid\":\"21D5DB58-289B-43E1-A247-2621AE3BA4CE\"},{\"ST_ID\":\"F2420003\",\"ST_NameC\":\"荖溪_重光橋\",\"SensorID\":\"SRF_W0003\",\"SR_NameC\":\"超音波水位計\",\"PQ_ID\":\"PQ_W0001\",\"PQ_NameC\":\"十分鐘水位\",\"PQguid\":\"D0DEE3CC-69F9-482E-9E2B-20DA4E41219F\"}]}\n"
     ]
    }
   ],
   "source": [
    "GetPQ(\"Sinotech\",\"Sinotech!Org@swcb\")"
   ]
  },
  {
   "cell_type": "code",
   "execution_count": 4,
   "id": "stock-nightlife",
   "metadata": {
    "scrolled": false
   },
   "outputs": [],
   "source": [
    "\n",
    "import requests\n",
    "import json\n",
    "import pandas as pd\n",
    "\n",
    "\n",
    "\n",
    "url1 = r'http://59.120.114.172:8080/APP_SWCB_IFEM/api/User/GetToken'\n",
    "dt1 = {\"API_USER_ID\": \"Sinotech\", \"API_USER_PWD\": \"Sinotech!Org@swcb\"}\n",
    "r1 = requests.post(url1, data =dt1)\n",
    "jr1 = json.loads(r1.text)\n",
    "\n",
    "T = jr1[\"Token\"]\n",
    "\n",
    "url2 = r'http://59.120.114.172:8080/APP_SWCB_IFEM/api/Stations/GetStationSensorPQ'\n",
    "dt2 = {\"Token\":\"{}\".format(T)}\n",
    "r2 = requests.post(url2, data =dt2)\n",
    "jr2 = json.loads(r2.text)\n",
    "\n",
    "\n",
    "dfr2=pd.DataFrame(jr2[\"Data\"])\n",
    "\n",
    "\n",
    "\n",
    "# dfr2\n",
    "\n"
   ]
  },
  {
   "cell_type": "code",
   "execution_count": null,
   "id": "under-government",
   "metadata": {},
   "outputs": [],
   "source": []
  },
  {
   "cell_type": "code",
   "execution_count": 24,
   "id": "disabled-fruit",
   "metadata": {},
   "outputs": [
    {
     "name": "stdout",
     "output_type": "stream",
     "text": [
      "{\"Token\":\"C1FC0052-5179-4864-8F96-236ECEB571E3\",\"Messages\":\"取授權成功\",\"Code\":\"1\"}\n",
      "{\"Token\":\"C1FC0052-5179-4864-8F96-236ECEB571E3\",\"Messages\":\"完成：1筆,失敗：0筆,鎖定：0筆.\",\"Code\":\"1\"}\n"
     ]
    }
   ],
   "source": [
    "def UpdatePQ(ID, PWD,PQ, DT, VALUES):\n",
    "    url1 = r'http://59.120.114.172:8080/APP_SWCB_IFEM/api/User/GetToken'\n",
    "    \n",
    "    dt1 = {\"API_USER_ID\": \"{}\".format(ID), \"API_USER_PWD\": \"{}\".format(PWD)}\n",
    "    r1 = requests.post(url1, data =dt1)\n",
    "    jr1 = json.loads(r1.text)\n",
    "    \n",
    "    T = jr1[\"Token\"]\n",
    "    \n",
    "    \n",
    "    url3 = 'http://59.120.114.172:8080/APP_SWCB_IFEM/api/Stations/UpdateStationSensorPQ'\n",
    "    dt3 = {\n",
    "        \"Token\":\"{}\".format(T),\n",
    "        \"Data\":\n",
    "        [\n",
    "            {\"PQguid\": \"{}\".format(PQ),\n",
    "             \"DateTime\":\"{}\".fotmat(DT),\n",
    "             \"VALUES\": \"{}\".format(VALUES)\n",
    "            }\n",
    "        ]\n",
    "    }\n",
    "    \n",
    "    r3 = requests.post(url3, json = dt3)\n",
    "    \n",
    "    print(r1.text)\n",
    "    print(r3.text)\n",
    "    \n",
    "    \n",
    "\n",
    "UpdatePQ(\"Sinotech\",\"Sinotech!Org@swcb\",\"6FCA06C3-89FC-4070-92E1-7509C79BC6B6\",\"20220712094700\",\"6933.84\")"
   ]
  },
  {
   "cell_type": "code",
   "execution_count": null,
   "id": "general-bubble",
   "metadata": {},
   "outputs": [],
   "source": []
  }
 ],
 "metadata": {
  "kernelspec": {
   "display_name": "Python 3",
   "language": "python",
   "name": "python3"
  },
  "language_info": {
   "codemirror_mode": {
    "name": "ipython",
    "version": 3
   },
   "file_extension": ".py",
   "mimetype": "text/x-python",
   "name": "python",
   "nbconvert_exporter": "python",
   "pygments_lexer": "ipython3",
   "version": "3.9.2"
  }
 },
 "nbformat": 4,
 "nbformat_minor": 5
}
