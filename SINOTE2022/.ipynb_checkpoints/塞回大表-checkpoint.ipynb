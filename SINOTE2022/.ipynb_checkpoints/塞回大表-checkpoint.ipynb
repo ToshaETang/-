{
 "cells": [
  {
   "cell_type": "code",
   "execution_count": 76,
   "id": "current-appraisal",
   "metadata": {},
   "outputs": [],
   "source": [
    "import pandas as pd\n",
    "#pd.set_option('display.max_rows', None)\n",
    "#pd.set_option('display.max_column', None)\n",
    "import numpy as np\n",
    "import warnings\n",
    "warnings.filterwarnings('ignore')"
   ]
  },
  {
   "cell_type": "code",
   "execution_count": 81,
   "id": "thorough-england",
   "metadata": {},
   "outputs": [
    {
     "name": "stdout",
     "output_type": "stream",
     "text": [
      "feaggqegsfejwoil/mfsnbghliwi;ojdl/jfkvbghqj\n"
     ]
    }
   ],
   "source": [
    "df_B = pd.read_excel(r\"C:\\TET\\SINOTE2022\\TRY_監測資料上傳API與參數表_TRY.xlsx\")\n",
    "df_V = pd.read_csv(r'C:\\TET\\SINOTE2022\\TRY_水位濁度.csv')\n",
    "\n",
    "\n",
    "df_V['Time'] = pd.to_datetime(pd.Series(df_V['Time'])) \n",
    "\n",
    "for i in range(len(df_B['OBS_Type'])):\n",
    "    if (df_B['OBS_Type'][i]==\"水位\"):\n",
    "        for j in range(len(df_V['設備'])):\n",
    "            if df_V['設備'][j] == df_B['設備編號'][i]:\n",
    "                df_B['value'][i] = df_V['field5'][j]\n",
    "                df_B['time'][i] = str(df_V['Time'][j].strftime(\"%Y%m%d%H%M%S\"))\n",
    "                df_B['entry_id'][i] = str(df_V['entry_id'][j])\n",
    "                try:\n",
    "                    df_B['true value'][i] = float(df_B['校正係數A'][i]) - (df_V['field5'][j]*float(df_B['校正係數B'][i]))\n",
    "                except:\n",
    "                    df_B['true value'][i] = 0\n",
    "\n",
    "                \n",
    "    elif (df_B['OBS_Type'][i]==\"濁度\"):\n",
    "        for j in range(len(df_V['設備'])):\n",
    "            if df_V['設備'][j] == df_B['設備編號'][i]:\n",
    "                df_B['value'][i] = df_V['field6'][j]\n",
    "                df_B['time'][i] = str(df_V['Time'][j].strftime(\"%Y%m%d%H%M%S\"))\n",
    "                df_B['entry_id'][i] = str(df_V['entry_id'][j])\n",
    "                try:\n",
    "                    df_B['true value'][i] = float(df_B['校正係數A'][i])*np.log(df_V['field6'][j]) + float(df_B['校正係數B'][i])\n",
    "                except:\n",
    "                    df_B['true value'][i] = 0\n",
    "                \n",
    "                \n",
    "DF = df_B\n",
    "\n",
    "DF.to_csv(r'C:\\TET\\SINOTE2022\\彙整完的大表.csv', index=False,encoding='utf_8_sig')\n",
    "print(\"done\")"
   ]
  },
  {
   "cell_type": "code",
   "execution_count": null,
   "id": "portuguese-strengthening",
   "metadata": {},
   "outputs": [],
   "source": []
  },
  {
   "cell_type": "code",
   "execution_count": null,
   "id": "portuguese-letters",
   "metadata": {},
   "outputs": [],
   "source": []
  }
 ],
 "metadata": {
  "kernelspec": {
   "display_name": "Python 3",
   "language": "python",
   "name": "python3"
  },
  "language_info": {
   "codemirror_mode": {
    "name": "ipython",
    "version": 3
   },
   "file_extension": ".py",
   "mimetype": "text/x-python",
   "name": "python",
   "nbconvert_exporter": "python",
   "pygments_lexer": "ipython3",
   "version": "3.9.2"
  }
 },
 "nbformat": 4,
 "nbformat_minor": 5
}
