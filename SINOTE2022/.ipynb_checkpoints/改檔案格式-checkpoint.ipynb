{
 "cells": [
  {
   "cell_type": "code",
   "execution_count": 79,
   "id": "humanitarian-stanford",
   "metadata": {},
   "outputs": [],
   "source": [
    "import pandas as pd\n",
    "import numpy as np\n",
    "import os\n",
    "import os.path\n",
    "import datetime\n",
    "df = pd.read_csv(r'C:\\TET\\SINOTE2022\\02 整併2002-2020\\C1R130阿禮_年\\C1R130阿禮_2002.csv')\n"
   ]
  },
  {
   "cell_type": "code",
   "execution_count": 97,
   "id": "adjustable-printer",
   "metadata": {},
   "outputs": [
    {
     "name": "stdout",
     "output_type": "stream",
     "text": [
      "8760 8760\n"
     ]
    }
   ],
   "source": [
    "###塞時間\n",
    "TIME = []\n",
    "\n",
    "\n",
    "for i in range(len(df['yy'])):\n",
    "    for h in range(1,25):\n",
    "        \n",
    "        n = (str(df['yy'][i])+\"-\"+str(df['mm'][i])+\"-\"+str(df['dd'][i])+\" \"+str(h)+\":00\")\n",
    "        TIME.append(n)\n",
    "\n",
    "dfr = np.split(df,[4],axis = 1)        \n",
    "\n",
    "\n",
    "RAIN = dfr[1].values.ravel()\n",
    "\n",
    "print(len(RAIN),len(TIME))"
   ]
  },
  {
   "cell_type": "code",
   "execution_count": 100,
   "id": "moving-nurse",
   "metadata": {},
   "outputs": [
    {
     "name": "stdout",
     "output_type": "stream",
     "text": [
      "     st_no              time  rain\n",
      "0   C1R130     2002-1-1 1:00   0.0\n",
      "0   C1R130     2002-1-1 2:00   0.0\n",
      "0   C1R130     2002-1-1 3:00   0.0\n",
      "0   C1R130     2002-1-1 4:00   0.0\n",
      "0   C1R130     2002-1-1 5:00   0.0\n",
      "..     ...               ...   ...\n",
      "0   C1R130  2002-12-31 20:00   0.0\n",
      "0   C1R130  2002-12-31 21:00   0.0\n",
      "0   C1R130  2002-12-31 22:00   0.0\n",
      "0   C1R130  2002-12-31 23:00   0.0\n",
      "0   C1R130  2002-12-31 24:00   0.0\n",
      "\n",
      "[8760 rows x 3 columns]\n"
     ]
    }
   ],
   "source": [
    "result = pd.DataFrame()\n",
    "index = 0\n",
    "\n",
    "for i in range(len(RAIN)):\n",
    "    d={\n",
    "        'st_no':df['st_no'][0],\n",
    "        'time':TIME[i],\n",
    "        'rain':RAIN[i]\n",
    "    }\n",
    "    \n",
    "    df_test = pd.DataFrame(data = d,index=[0])\n",
    "    result = pd.concat([result, df_test],axis =0)\n",
    "    index = index + 1\n",
    "    \n",
    "result.to_excel(r'C:\\Users\\Tosha.E.T\\Desktop\\7.1.2021\\新化林場\\虎頭埤\\虎頭埤_分析資料.xlsx')\n",
    "print(\"時間塞完了\")\n"
   ]
  },
  {
   "cell_type": "code",
   "execution_count": null,
   "id": "informative-hammer",
   "metadata": {},
   "outputs": [],
   "source": []
  },
  {
   "cell_type": "code",
   "execution_count": null,
   "id": "engaging-tumor",
   "metadata": {},
   "outputs": [],
   "source": []
  },
  {
   "cell_type": "code",
   "execution_count": null,
   "id": "economic-blank",
   "metadata": {},
   "outputs": [],
   "source": []
  },
  {
   "cell_type": "code",
   "execution_count": 56,
   "id": "amazing-spoke",
   "metadata": {},
   "outputs": [
    {
     "name": "stdout",
     "output_type": "stream",
     "text": [
      "dsf\n"
     ]
    }
   ],
   "source": [
    "###切割年\n",
    "df = pd.read_csv(r'C:\\TET\\SINOTE2022\\02 整併2002-2020\\SWCB_2002_2020_C1R130阿禮_補遺.csv')\n",
    "df = df.drop(columns = 'HQT')            #拿掉每日雨量\n",
    "\n",
    "\n",
    "YEAR = df['yy'].unique()\n",
    "for Y in YEAR:\n",
    "    N_df = df[df['yy']==Y]\n",
    "    N_df.to_csv(r'C:\\TET\\SINOTE2022\\02 整併2002-2020\\C1R130阿禮_{}.csv'.format(str(Y)),index=False)\n",
    "\n",
    "print(\"年切割完成\")    "
   ]
  },
  {
   "cell_type": "code",
   "execution_count": 40,
   "id": "ready-dubai",
   "metadata": {},
   "outputs": [],
   "source": []
  },
  {
   "cell_type": "code",
   "execution_count": null,
   "id": "extraordinary-transport",
   "metadata": {},
   "outputs": [],
   "source": []
  },
  {
   "cell_type": "code",
   "execution_count": null,
   "id": "explicit-satisfaction",
   "metadata": {},
   "outputs": [],
   "source": []
  },
  {
   "cell_type": "code",
   "execution_count": null,
   "id": "renewable-foster",
   "metadata": {},
   "outputs": [],
   "source": []
  }
 ],
 "metadata": {
  "kernelspec": {
   "display_name": "Python 3",
   "language": "python",
   "name": "python3"
  },
  "language_info": {
   "codemirror_mode": {
    "name": "ipython",
    "version": 3
   },
   "file_extension": ".py",
   "mimetype": "text/x-python",
   "name": "python",
   "nbconvert_exporter": "python",
   "pygments_lexer": "ipython3",
   "version": "3.9.2"
  }
 },
 "nbformat": 4,
 "nbformat_minor": 5
}
